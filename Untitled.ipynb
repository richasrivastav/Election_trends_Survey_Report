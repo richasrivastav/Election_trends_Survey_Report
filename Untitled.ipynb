ref,state,constituency,won status,votes,(votes),Name,Party Name
1,West Bengal,Maldaha Dakshin(8),won,572395,(+ 128368),ISHA KHAN CHOUDHURY,Indian National Congress
2,West Bengal,Maldaha Dakshin(8),lost,444027,( -128368),SREERUPA MITRA CHAUDHURY (NIRBHAYA DIDI),Bharatiya Janata Party
3,West Bengal,Maldaha Dakshin(8),lost,301026,( -271369),SHAHNAWAZ ALI RAIHAN,All India Trinamool Congress
4,West Bengal,Maldaha Dakshin(8),lost,8383,( -564012),PURNOCHANDRA MANDAL,Independent
5,West Bengal,Maldaha Dakshin(8),lost,5736,( -566659),AHMED HEDATUL HASAN,Independent
6,West Bengal,Maldaha Dakshin(8),lost,5386,( -567009),MD. JAMAL SAIKH,Independent
7,West Bengal,Maldaha Dakshin(8),lost,5065,( -567330),BIKASH RABIDAS,Bahujan Samaj Party
8,West Bengal,Maldaha Dakshin(8),lost,4776,( -567619),BIJOY KUMAR SARKAR,Independent
9,West Bengal,Maldaha Dakshin(8),lost,3535,( -568860),SUSMITA DEY KARJEE,Bhartiya Lokmat Rashtrwadi Party
10,West Bengal,Maldaha Dakshin(8),lost,3271,( -569124),AMAL KUMAR RABIDAS,Independent
11,West Bengal,Maldaha Dakshin(8),lost,3140,( -569255),KAVIR MADAN DAS,Ambedkarite Party of India
12,West Bengal,Maldaha Dakshin(8),lost,2788,( -569607),ASIM MANDAL,Jan Sangh Party
13,West Bengal,Maldaha Dakshin(8),lost,2323,( -570072),MD SHAHNAWAJ RAHMATULLAH,Social Democratic Party Of India
14,West Bengal,Maldaha Dakshin(8),lost,2075,( -570320),JALALUDDIN SARKAR,Bharatiya Nyay-Adhikar Raksha Party
15,West Bengal,Maldaha Dakshin(8),lost,1189,( -571206),ANGSHUDHAR MANDAL,Socialist Unity Centre Of India (COMMUNIST)
16,West Bengal,Maldaha Dakshin(8),lost,1136,( -571259),MD NUR ISLAM SEKH,Rashtriya Secular Majlis Party
17,West Bengal,Maldaha Dakshin(8),lost,741,( -571654),MD MONIRUL HASAN,Jamat-E-Seratul Mustakim
18,West Bengal,Maldaha Dakshin(8),,2797,( -569598),NOTA,None of the Above
19,Uttarakhand,Haridwar(5),won,653808,(+ 164056),TRIVENDRA SINGH RAWAT,Bharatiya Janata Party
20,Uttarakhand,Haridwar(5),lost,489752,( -164056),VIRENDRA RAWAT,Indian National Congress
21,Uttarakhand,Haridwar(5),lost,91188,( -562620),UMESH KUMAR PATRAKAR,Independent
22,Uttarakhand,Haridwar(5),lost,42323,( -611485),JAMIL AHMAD,Bahujan Samaj Party
23,Uttarakhand,Haridwar(5),lost,2961,( -650847),BALBIR SINGH BHANDARI,Uttarakhand Samanta Party
24,Uttarakhand,Haridwar(5),lost,2854,( -650954),MOHAN SINGH ASWAL,Uttarakhand Kranti Dal
25,Uttarakhand,Haridwar(5),lost,2410,( -651398),VIJAY KUMAR,Independent
26,Uttarakhand,Haridwar(5),lost,2178,( -651630),PAWAN KASHYAP,Independent
27,Uttarakhand,Haridwar(5),lost,1974,( -651834),KARAN SINGH SAINI ENGINEER,Independent
28,Uttarakhand,Haridwar(5),lost,1685,( -652123),AKRAM HUSSAIN,Independent
29,Uttarakhand,Haridwar(5),lost,1410,( -652398),LALIT KUMAR,Peoples Party of India (Democratic)
30,Uttarakhand,Haridwar(5),lost,1162,( -652646),SURESH PAL,Bhartiya Rashtriya Ekta Dal
31,Uttarakhand,Haridwar(5),lost,1117,( -652691),ASHISH DHYANI,Independent
32,Uttarakhand,Haridwar(5),lost,975,( -652833),AVNISH KUMAR,Independent
33,Uttarakhand,Haridwar(5),,6826,( -646982),NOTA,None of the Above
34,Uttar Pradesh,Mirzapur(79),won,471631,(+ 37810),ANUPRIYA PATEL,Apna Dal (Soneylal)
35,Uttar Pradesh,Mirzapur(79),lost,433821,( -37810),RAMESH CHAND BIND,Samajwadi Party
36,Uttar Pradesh,Mirzapur(79),lost,144446,( -327185),MANISH KUMAR,Bahujan Samaj Party
37,Uttar Pradesh,Mirzapur(79),lost,10936,( -460695),RAJESH,Independent
38,Uttar Pradesh,Mirzapur(79),lost,6359,( -465272),LAL JI VERMA,Independent
39,Uttar Pradesh,Mirzapur(79),lost,6171,( -465460),ANIL KUMAR,Eklavya Samaj Party
40,Uttar Pradesh,Mirzapur(79),lost,5235,( -466396),DAULAT SINGH,Apna Dal (Kamerawadi)
41,Uttar Pradesh,Mirzapur(79),lost,4915,( -466716),RAMDHANI,Rashtriya Samaj Paksha
42,Uttar Pradesh,Mirzapur(79),lost,3487,( -468144),SAMEER SINGH,All India Forward Bloc
43,Uttar Pradesh,Mirzapur(79),lost,3355,( -468276),SATYADEV,Purvanchal Mahapanchayat
44,Uttar Pradesh,Mirzapur(79),,15049,( -456582),NOTA,None of the Above
45,Tripura,Tripura East(2),won,777447,(+ 486819),KRITI DEVI DEBBARMAN,Bharatiya Janata Party
46,Tripura,Tripura East(2),lost,290628,( -486819),RAJENDRA REANG,Communist Party of India  (Marxist)
47,Tripura,Tripura East(2),lost,10922,( -766525),ARCHANA URANG,Independent
48,Tripura,Tripura East(2),lost,9269,( -768178),DARSHAN KUMAR REANG,Independent
49,Tripura,Tripura East(2),lost,6862,( -770585),SANTOJOY TRIPURA,Independent
50,Tripura,Tripura East(2),lost,6719,( -770728),SHIB CHANDRA DEBBARMA,Independent
51,Tripura,Tripura East(2),lost,5967,( -771480),SATRUGHNA JAMATIA,Independent
52,Tripura,Tripura East(2),lost,4217,( -773230),KRISHNA MOHAN JAMATIA,Independent
53,Tripura,Tripura East(2),lost,4011,( -773436),KALPA MOHAN TRIPURA,Independent
54,Tripura,Tripura East(2),,18303,( -759144),NOTA,None of the Above
55,Telangana,Hyderabad(9),won,661981,(+ 338087),ASADUDDIN OWAISI,All India Majlis-E-Ittehadul Muslimeen
56,Telangana,Hyderabad(9),lost,323894,( -338087),MADHAVI LATHA KOMPELLA,Bharatiya Janata Party
57,Telangana,Hyderabad(9),lost,62962,( -599019),MOHAMMED WALIULLAH SAMEER,Indian National Congress
58,Telangana,Hyderabad(9),lost,18641,( -643340),SRINIVAS YADAV GADDAM,Bharat Rashtra Samithi
59,Telangana,Hyderabad(9),lost,2232,( -659749),MEKALA RAGHUMA REDDY,Yuga Thulasi Party
60,Telangana,Hyderabad(9),lost,900,( -661081),DR.J.PADMAJA,Viduthalai Chiruthaigal Katchi
61,Telangana,Hyderabad(9),lost,769,( -661212),K.S.KRISHNA,Bahujan Samaj Party
62,Telangana,Hyderabad(9),lost,663,( -661318),RAMESH KUMAR MATANGI,Sakala Janula Party
63,Telangana,Hyderabad(9),lost,562,( -661419),KRANTHI KUMAR BANDELA,Indian National Yuva Jana Party
64,Telangana,Hyderabad(9),lost,515,( -661466),M.JOHNSON,All India Mahila Empowerment Party
65,Telangana,Hyderabad(9),lost,492,( -661489),JAMEEL SAYED,Alliance of Democratic Reforms Party
66,Telangana,Hyderabad(9),lost,423,( -661558),ASHOK KUMAR MAMBA,Maa Telangana Party
67,Telangana,Hyderabad(9),lost,411,( -661570),DR.LUBNA SARWATH,Vidhyarthula Rajakiya Party
68,Telangana,Hyderabad(9),lost,281,( -661700),SARAF TULASI GUPTA,Praja Ektha Party
69,Telangana,Hyderabad(9),lost,276,( -661705),V.SHANKER,Yuva Taram Party
70,Telangana,Hyderabad(9),lost,271,( -661710),GADDAM HARISH GOUD,Dharma Samaj Party
71,Telangana,Hyderabad(9),lost,251,( -661730),SYED ANWAR,Independent
72,Telangana,Hyderabad(9),lost,234,( -661747),KHAJA MOINUDDIN,All India Majlis-E-Inquilab-E-Millat
73,Telangana,Hyderabad(9),lost,196,( -661785),AMJAD KHAN,Independent
74,Telangana,Hyderabad(9),lost,162,( -661819),AMBI HANUMANTH RAO,Socialist Party (India)
75,Telangana,Hyderabad(9),lost,153,( -661828),SHAIK BASHA,Dalita Bahujana Party
76,Telangana,Hyderabad(9),lost,149,( -661832),M.K.AHMED,Independent
77,Telangana,Hyderabad(9),lost,141,( -661840),SALVERU RAMESH,Indian Praja Congress
78,Telangana,Hyderabad(9),lost,141,( -661840),L.ASHOKNATH,Telangana Prajaa Jeevana Rythu Party
79,Telangana,Hyderabad(9),lost,138,( -661843),J.SHYAMSUNDER RAO,Independent
80,Telangana,Hyderabad(9),lost,133,( -661848),ANDE USHA KANNA,Bahujan Mukti Party
81,Telangana,Hyderabad(9),lost,123,( -661858),SATTI SHABABU REDDY,Independent
82,Telangana,Hyderabad(9),lost,111,( -661870),ANIL SEN,Independent
83,Telangana,Hyderabad(9),lost,110,( -661871),CHAITANYA KUMAR REDDY PELLAKURU,Independent
84,Telangana,Hyderabad(9),lost,103,( -661878),SILIVERU NARESH,Telangana Jaghir Party
85,Telangana,Hyderabad(9),,2906,( -659075),NOTA,None of the Above
86,Tamil Nadu,RAMANATHAPURAM(35),won,509664,(+ 166782),NAVASKANI K,Indian Union Muslim League
87,Tamil Nadu,RAMANATHAPURAM(35),lost,342882,( -166782),PANNEERSELVAM O S/O OTTAKARATHEVAR,Independent
88,Tamil Nadu,RAMANATHAPURAM(35),lost,99780,( -409884),JEYAPERUMAL P,All India Anna Dravida Munnetra Kazhagam
89,Tamil Nadu,RAMANATHAPURAM(35),lost,97672,( -411992),DR CHANDRA PRABHA JEYAPAL,Naam Tamilar Katchi
90,Tamil Nadu,RAMANATHAPURAM(35),lost,7919,( -501745),MUVITH KUMAR N,Independent
91,Tamil Nadu,RAMANATHAPURAM(35),lost,6827,( -502837),SENTHILMALLAR K,Independent
92,Tamil Nadu,RAMANATHAPURAM(35),lost,6593,( -503071),SIVASHANKAR N,Independent
93,Tamil Nadu,RAMANATHAPURAM(35),lost,3502,( -506162),KANNADHASAN R,Independent
94,Tamil Nadu,RAMANATHAPURAM(35),lost,2981,( -506683),PANNEERSELVAM O S/O OCHAPPAN,Independent
95,Tamil Nadu,RAMANATHAPURAM(35),lost,2957,( -506707),SELVARAJ G,Puthiya Makkal Tamil Desam Katchi
96,Tamil Nadu,RAMANATHAPURAM(35),lost,2572,( -507092),PANCHAVARNAM V,Independent
97,Tamil Nadu,RAMANATHAPURAM(35),lost,2497,( -507167),PARIRAJAN C,Veerath Thiyagi Viswanathadoss Thozhilalarkal Katchi
98,Tamil Nadu,RAMANATHAPURAM(35),lost,2402,( -507262),PANNIR SELVAM M  S/O MALAIYANDI,Independent
99,Tamil Nadu,RAMANATHAPURAM(35),lost,2323,( -507341),NAWASKHAN,Independent
100,Tamil Nadu,RAMANATHAPURAM(35),lost,2014,( -507650),SIVANANDAM N,Bahujan Samaj Party
101,Tamil Nadu,RAMANATHAPURAM(35),lost,1929,( -507735),PANNEERSELVAM O  S/O  OYYADEVAR,Independent
102,Tamil Nadu,RAMANATHAPURAM(35),lost,1518,( -508146),ABUBAKKAR SITHICK J,Desiya Makkal Sakthi Katchi
103,Tamil Nadu,RAMANATHAPURAM(35),lost,1403,( -508261),MANIVASAGAM S,Bahujan Dravida Party
104,Tamil Nadu,RAMANATHAPURAM(35),lost,1376,( -508288),PANNEERSELVAM O S/O  OYYARAM,Independent
105,Tamil Nadu,RAMANATHAPURAM(35),lost,974,( -508690),SALEEM,Independent
106,Tamil Nadu,RAMANATHAPURAM(35),lost,899,( -508765),SASIKANI K,Independent
107,Tamil Nadu,RAMANATHAPURAM(35),lost,827,( -508837),SATHURAGIRI K,Independent
108,Tamil Nadu,RAMANATHAPURAM(35),lost,823,( -508841),SIKKANDAR B,Independent
109,Tamil Nadu,RAMANATHAPURAM(35),lost,652,( -509012),VIGNESH V,Independent
110,Tamil Nadu,RAMANATHAPURAM(35),lost,572,( -509092),PANNERSELVAM O  S/O  OCHATTHEVAR,Independent
111,Tamil Nadu,RAMANATHAPURAM(35),,6295,( -503369),NOTA,None of the Above
112,Sikkim,Sikkim(1),won,164396,(+ 80830),INDRA HANG SUBBA,Sikkim Krantikari Morcha
113,Sikkim,Sikkim(1),lost,83566,( -80830),BHARAT BASNETT,Citizen Action Party-Sikkim
114,Sikkim,Sikkim(1),lost,77171,( -87225),PREM DAS RAI,Sikkim Democratic Front
115,Sikkim,Sikkim(1),lost,21263,( -143133),LATEN TSHERING SHERPA,Independent
116,Sikkim,Sikkim(1),lost,19035,( -145361),DINESH CHANDRA NEPAL,Bharatiya Janata Party
117,Sikkim,Sikkim(1),lost,4799,( -159597),KHARGA BHADUR RAI,Sikkim Republican Party
118,Sikkim,Sikkim(1),lost,4690,( -159706),SAMBHU CHETTRI,Independent
119,Sikkim,Sikkim(1),lost,2241,( -162155),GOPAL CHETTRI,Indian National Congress
120,Sikkim,Sikkim(1),lost,1166,( -163230),NAWIN KIRAN PRADHAN,Independent
121,Sikkim,Sikkim(1),lost,1125,( -163271),BEENA RAI,Independent
122,Sikkim,Sikkim(1),lost,1123,( -163273),RAVI CHANDRA RAI,Independent
123,Sikkim,Sikkim(1),lost,740,( -163656),SHYAMAL PAL,Independent
124,Sikkim,Sikkim(1),lost,532,( -163864),MADHUKAR DHAKAL,Independent
125,Sikkim,Sikkim(1),lost,519,( -163877),RUDRA MANI PRADHAN,Independent
126,Sikkim,Sikkim(1),,2527,( -161869),NOTA,None of the Above
127,Rajasthan,BANSWARA (20),won,820831,(+ 247054),RAJ KUMAR ROAT,Bharat Adivasi Party
128,Rajasthan,BANSWARA (20),lost,573777,( -247054),MAHENDRAJEETSINGH MALVIYA,Bharatiya Janata Party
129,Rajasthan,BANSWARA (20),lost,74598,( -746233),RAJKUMAR S/O HIRALAL,Independent
130,Rajasthan,BANSWARA (20),lost,61211,( -759620),ARVIND SITA DAMOR,Indian National Congress
131,Rajasthan,BANSWARA (20),lost,41790,( -779041),RAJKUMAR S/O PREMJI,Independent
132,Rajasthan,BANSWARA (20),lost,17896,( -802935),BANSHILAL AHARI,Independent
133,Rajasthan,BANSWARA (20),lost,17188,( -803643),SHANKARLAL BAMANIYA,Indian Peoples Green Party
134,Rajasthan,BANSWARA (20),lost,8591,( -812240),DILEEP KUMAR MEENA,Bahujan Samaj Party
135,Rajasthan,BANSWARA (20),,20970,( -799861),NOTA,None of the Above
136,Punjab,Faridkot(9),won,298062,(+ 70053),SARABJEET SINGH KHALSA,Independent
137,Punjab,Faridkot(9),lost,228009,( -70053),KARAMJIT SINGH ANMOL,Aam Aadmi Party
138,Punjab,Faridkot(9),lost,160357,( -137705),AMARJIT KAUR SAHOKE,Indian National Congress
139,Punjab,Faridkot(9),lost,138251,( -159811),RAJWINDER SINGH DHARAMKOT,Shiromani Akali Dal
140,Punjab,Faridkot(9),lost,123533,( -174529),HANS RAJ HANS,Bharatiya Janata Party
141,Punjab,Faridkot(9),lost,14950,( -283112),GURCHARAN SINGH MANN,Communist Party of India
142,Punjab,Faridkot(9),lost,8210,( -289852),GURBAKSH SINGH CHAUHAN,Bahujan Samaj Party
143,Punjab,Faridkot(9),lost,4160,( -293902),AVTAR SINGH SAHOTA,Independent
144,Punjab,Faridkot(9),lost,3517,( -294545),KIKKAR SINGH DHALIWAL,Independent
145,Punjab,Faridkot(9),lost,2862,( -295200),KARAM SINGH MALUKA,Independent
146,Punjab,Faridkot(9),lost,2677,( -295385),RUPINDER SINGH KOHARWALA,Nationalist Justice Party
147,Punjab,Faridkot(9),lost,2395,( -295667),BALDEV SINGH GAGRA,Shiromani Akali Dal (Amritsar)(Simranjit Singh Mann)
148,Punjab,Faridkot(9),lost,2289,( -295773),NIRMAL SINGH RAJEANA,Independent
149,Punjab,Faridkot(9),lost,2028,( -296034),BADAL SINGH BHALOOR,Bhartiya Rashtriya Dal
150,Punjab,Faridkot(9),lost,1961,( -296101),RAJ KUMAR CHAUHAN,Independent
151,Punjab,Faridkot(9),lost,1950,( -296112),OM PARKASH BANKA,Independent
152,Punjab,Faridkot(9),lost,1640,( -296422),CAPTAIN BAHADUR SINGH,Independent
153,Punjab,Faridkot(9),lost,1612,( -296450),MEJOR SINGH BHATTI,Jan Sewa Driver Party
154,Punjab,Faridkot(9),lost,1530,( -296532),SUKHBIR SINGH BABBAL BHATTI,Rashtriya Republican Party
155,Punjab,Faridkot(9),lost,1420,( -296642),GURMEET SINGH,Independent
156,Punjab,Faridkot(9),lost,1414,( -296648),AMRIK SINGH,Independent
157,Punjab,Faridkot(9),lost,1377,( -296685),MANPREET SHANT,Independent
158,Punjab,Faridkot(9),lost,1165,( -296897),PREM LAL,Democratic Bharatiya Samaj Party
159,Punjab,Faridkot(9),lost,1131,( -296931),PARGAT SINGH RAJEANA,Apna Samaj Party
160,Punjab,Faridkot(9),lost,1047,( -297015),JASWANT RAI RAJORA,Independent
161,Punjab,Faridkot(9),lost,1040,( -297022),DR DEV INDER GAGALANI,Republican Party of India
162,Punjab,Faridkot(9),lost,939,( -297123),PRITAM SINGH,Bahujan Mukti Party
163,Punjab,Faridkot(9),lost,786,( -297276),KULWANT KAUR,Sanjhi Virasat Party
164,Punjab,Faridkot(9),,4143,( -293919),NOTA,None of the Above
165,Puducherry,PUDUCHERRY(1),won,426005,(+ 136516),VE VAITHILINGAM,Indian National Congress
166,Puducherry,PUDUCHERRY(1),lost,289489,( -136516),A NAMASSIVAYAM,Bharatiya Janata Party
167,Puducherry,PUDUCHERRY(1),lost,39603,( -386402),R MENAGA,Naam Tamilar Katchi
168,Puducherry,PUDUCHERRY(1),lost,25165,( -400840),G THAMIZHVENDAN,All India Anna Dravida Munnetra Kazhagam
169,Puducherry,PUDUCHERRY(1),lost,2066,( -423939),P SANKARAN,Socialist Unity Centre Of India (COMMUNIST)
170,Puducherry,PUDUCHERRY(1),lost,1546,( -424459),ARADADI POSIYYA,Independent
171,Puducherry,PUDUCHERRY(1),lost,1540,( -424465),D ALANGARAVELU,Bahujan Samaj Party
172,Puducherry,PUDUCHERRY(1),lost,1246,( -424759),K KISHORKUMAR,Independent
173,Puducherry,PUDUCHERRY(1),lost,1199,( -424806),KOLLANJIAPPAN,Independent
174,Puducherry,PUDUCHERRY(1),lost,1133,( -424872),M MANIKANDAN,Independent
175,Puducherry,PUDUCHERRY(1),lost,1071,( -424934),M KRISHNAMURTHY,Independent
176,Puducherry,PUDUCHERRY(1),lost,989,( -425016),K PRABHU DEVAN,United Republican Party of India
177,Puducherry,PUDUCHERRY(1),lost,924,( -425081),S BAKTHAVATCHALAM,Independent
178,Puducherry,PUDUCHERRY(1),lost,846,( -425159),S SATHISH KUMAR,Independent
179,Puducherry,PUDUCHERRY(1),lost,822,( -425183),COUTTANE ALIAS DHIVANEEDHE,Independent
180,Puducherry,PUDUCHERRY(1),lost,776,( -425229),E ANANTHAVEL,Independent
181,Puducherry,PUDUCHERRY(1),lost,626,( -425379),S KALA,Independent
182,Puducherry,PUDUCHERRY(1),lost,547,( -425458),P RAJAN,Independent
183,Puducherry,PUDUCHERRY(1),lost,475,( -425530),NIRMALA G,Independent
184,Puducherry,PUDUCHERRY(1),lost,405,( -425600),K ARUNACHALAM,Independent
185,Puducherry,PUDUCHERRY(1),lost,372,( -425633),K RAMADASS,Independent
186,Puducherry,PUDUCHERRY(1),lost,331,( -425674),R RAJA,Independent
187,Puducherry,PUDUCHERRY(1),lost,307,( -425698),D RAVINDIRAN,Independent
188,Puducherry,PUDUCHERRY(1),lost,254,( -425751),S MASCO,Independent
189,Puducherry,PUDUCHERRY(1),lost,244,( -425761),V P MANICKAM,Independent
190,Puducherry,PUDUCHERRY(1),lost,196,( -425809),M MURUGAN,Independent
191,Puducherry,PUDUCHERRY(1),,9763,( -416242),NOTA,None of the Above
192,Odisha,Koraput(21),won,471393,(+ 147744),SAPTAGIRI SANKAR ULAKA,Indian National Congress
193,Odisha,Koraput(21),lost,323649,( -147744),KAUSALYA HIKAKA,Biju Janata Dal
194,Odisha,Koraput(21),lost,232514,( -238879),KALIRAM MAJHI,Bharatiya Janata Party
195,Odisha,Koraput(21),lost,15427,( -455966),DAMINI JANI,Bahujan Samaj Party
196,Odisha,Koraput(21),lost,14852,( -456541),PRAKASH HIKAKA,Communist Party of India  (Marxist-Leninist)  (Liberation)
197,Odisha,Koraput(21),lost,14373,( -457020),LASU HANTAL,Independent
198,Odisha,Koraput(21),lost,10540,( -460853),RAGHUMANI GOMANGO,Independent
199,Odisha,Koraput(21),lost,10274,( -461119),ABINASH GOMANGO,Independent
200,Odisha,Koraput(21),lost,8396,( -462997),SUMAN KANTA,Naba Bharata Nirmana Seva Party
201,Odisha,Koraput(21),lost,5415,( -465978),SANTOSH KUMAR BIDIKA,Republican Party of India (A)
202,Odisha,Koraput(21),lost,4878,( -466515),PRAMILA PUJARI,Socialist Unity Centre Of India (COMMUNIST)
203,Odisha,Koraput(21),,37131,( -434262),NOTA,None of the Above
204,NCT OF Delhi,South Delhi(7),won,692832,(+ 124333),RAMVIR SINGH BIDHURI,Bharatiya Janata Party
205,NCT OF Delhi,South Delhi(7),lost,568499,( -124333),SAHI RAM,Aam Aadmi Party
206,NCT OF Delhi,South Delhi(7),lost,9861,( -682971),ABDUL BASIT,Bahujan Samaj Party
207,NCT OF Delhi,South Delhi(7),lost,3958,( -688874),RAM GOPAL,Haryana Jansena Party
208,NCT OF Delhi,South Delhi(7),lost,1889,( -690943),CHANDRASHEKHAR SINGH KUSHWAHA,Independent
209,NCT OF Delhi,South Delhi(7),lost,1500,( -691332),DEEPAK KAPILA,Independent
210,NCT OF Delhi,South Delhi(7),lost,1365,( -691467),OMAPRAKASH,Samaj Vikas Kranti Party
211,NCT OF Delhi,South Delhi(7),lost,1296,( -691536),JAGDISH KUMAR VERMA,Independent
212,NCT OF Delhi,South Delhi(7),lost,970,( -691862),LAKHAN SINGH,Navarang Congress Party
213,NCT OF Delhi,South Delhi(7),lost,958,( -691874),POONAM SRIVASTAVA,Independent
214,NCT OF Delhi,South Delhi(7),lost,842,( -691990),ARUN KUMAR,Independent
215,NCT OF Delhi,South Delhi(7),lost,763,( -692069),RINKI SANYAL,Bharatiya Sampuran Krantikari Party
216,NCT OF Delhi,South Delhi(7),lost,714,( -692118),KAMLESH KUMAR JHA,Independent
217,NCT OF Delhi,South Delhi(7),lost,638,( -692194),SURJEET SINGH,Delhi Janta Party
218,NCT OF Delhi,South Delhi(7),lost,602,( -692230),BHIM SINGH,Ambedkarite Party of India
219,NCT OF Delhi,South Delhi(7),lost,592,( -692240),SURINDER KUMAR,Bharatheeya Jawan Kisan Party
220,NCT OF Delhi,South Delhi(7),lost,540,( -692292),GAUTAM ANAND,All India Forward Bloc
221,NCT OF Delhi,South Delhi(7),lost,522,( -692310),SHANKAR DEY,Independent
222,NCT OF Delhi,South Delhi(7),lost,514,( -692318),BIHARI LAL JALANDHARI,India Greens Party
223,NCT OF Delhi,South Delhi(7),lost,476,( -692356),NAVEEN KUMAR,Hamara Sahi Vikalp Party
224,NCT OF Delhi,South Delhi(7),lost,381,( -692451),VIRENDER,Independent
225,NCT OF Delhi,South Delhi(7),lost,325,( -692507),RAJAN SINGH,Independent
226,NCT OF Delhi,South Delhi(7),,5961,( -686871),NOTA,None of the Above
227,Nagaland,Nagaland(1),won,401951,(+ 50984),S SUPONGMEREN JAMIR,Indian National Congress
228,Nagaland,Nagaland(1),lost,350967,( -50984),DR CHUMBEN MURRY,Nationalist Democratic Progressive Party
229,Nagaland,Nagaland(1),lost,6232,( -395719),HAYITHUNG TUNGOE LOTHA,Independent
230,Nagaland,Nagaland(1),,1646,( -400305),NOTA,None of the Above
231,Mizoram,MIZORAM(1),won,208552,(+ 68288),RICHARD VANLALHMANGAIHA,Zoram People’s Movement
232,Mizoram,MIZORAM(1),lost,140264,( -68288),K VANLALVENA,Mizo National Front
233,Mizoram,MIZORAM(1),lost,98595,( -109957),LALBIAKZAMA,Indian National Congress
234,Mizoram,MIZORAM(1),lost,33533,( -175019),VANLALHMUAKA,Bharatiya Janata Party
235,Mizoram,MIZORAM(1),lost,4706,( -203846),LALHRIATRENGA CHHANGTE,Independent
236,Mizoram,MIZORAM(1),lost,3793,( -204759),RITA MALSAWMI,Mizoram People's Conference
237,Mizoram,MIZORAM(1),,1893,( -206659),NOTA,None of the Above
238,Meghalaya,Tura(2),won,383919,(+ 155241),SALENG A SANGMA,Indian National Congress
239,Meghalaya,Tura(2),lost,228678,( -155241),AGATHA K SANGMA,National People's Party
240,Meghalaya,Tura(2),lost,48709,( -335210),ZENITH M SANGMA,All India Trinamool Congress
241,Meghalaya,Tura(2),lost,6910,( -377009),LABENN CH MARAK,Independent
242,Meghalaya,Tura(2),,5840,( -378079),NOTA,None of the Above
243,Manipur,Outer Manipur(2),won,384954,(+ 85418),ALFRED KANNGAM S ARTHUR,Indian National Congress
244,Manipur,Outer Manipur(2),lost,299536,( -85418),KACHUI TIMOTHY ZIMIK,Naga Peoples Front
245,Manipur,Outer Manipur(2),lost,89910,( -295044),S KHO JOHN,Independent
246,Manipur,Outer Manipur(2),lost,15110,( -369844),ALYSON ABONMAI,Independent
247,Manipur,Outer Manipur(2),,7225,( -377729),NOTA,None of the Above
248,Maharashtra,Sangli(44),won,571666,(+ 100053),VISHAL (DADA) PRAKASHBAPU PATIL,Independent
249,Maharashtra,Sangli(44),lost,471613,( -100053),SANJAY (KAKA) PATIL,Bharatiya Janata Party
250,Maharashtra,Sangli(44),lost,60860,( -510806),CHANDRAHAR SUBHASH PATIL,Shiv Sena (Uddhav Balasaheb Thackrey)
251,Maharashtra,Sangli(44),lost,9282,( -562384),ALLAUDDIN HAYATCHAND KAZI,Independent
252,Maharashtra,Sangli(44),lost,8251,( -563415),PRAKASH SHIVAJIRAO SHENDGE,Independent
253,Maharashtra,Sangli(44),lost,5565,( -566101),PANDURANG RAOSAHEB BHOSALE,Bharatheeya Jawan Kisan Party
254,Maharashtra,Sangli(44),lost,5560,( -566106),TIPUSULATAN SIKANDAR PATAVEGAR,Bahujan Samaj Party
255,Maharashtra,Sangli(44),lost,5521,( -566145),MAHESH YASHWANT KHARADE,Swabhimani Paksha
256,Maharashtra,Sangli(44),lost,3658,( -568008),RAVINDRA CHANDAR SOLANKAR,Independent
257,Maharashtra,Sangli(44),lost,3540,( -568126),ANAND SHANKAR NALAGE,Baliraja Party
258,Maharashtra,Sangli(44),lost,3155,( -568511),SHASHIKANT GAUTAM DESHMUKH,Independent
259,Maharashtra,Sangli(44),lost,2859,( -568807),SATISH LALITA KRISHNA KADAM,Hindustan Janta Party
260,Maharashtra,Sangli(44),lost,1937,( -569729),SUWARNATAI SUDHAKAR GAYAKWAD,Independent
261,Maharashtra,Sangli(44),lost,1469,( -570197),DATTATRAY PANDIT PATIL,Independent
262,Maharashtra,Sangli(44),lost,1460,( -570206),TOUHID ILAHI MOMIN,Independent
263,Maharashtra,Sangli(44),lost,1398,( -570268),AJIT DHANAJI KHANDARE,Independent
264,Maharashtra,Sangli(44),lost,1300,( -570366),BANDAGAR NANASO BALASO,Independent
265,Maharashtra,Sangli(44),lost,1260,( -570406),JALINDAR MACHINDRA THOMAKE,Independent
266,Maharashtra,Sangli(44),lost,1011,( -570655),SANGRAM RAJARAM MORE,Independent
267,Maharashtra,Sangli(44),lost,814,( -570852),DR AKASH VHATKAR,Independent
268,Maharashtra,Sangli(44),,6565,( -565101),NOTA,None of the Above
269,Manipur,Inner Manipur(1),won,374017,(+ 109801),ANGOMCHA BIMOL AKOIJAM,Indian National Congress
270,Manipur,Inner Manipur(1),lost,264216,( -109801),THOUNAOJAM BASANTA KUMAR SINGH,Bharatiya Janata Party
271,Manipur,Inner Manipur(1),lost,135640,( -238377),MAHESHWAR THOUNAOJAM,Republican Party of India (Athawale)
272,Manipur,Inner Manipur(1),lost,13050,( -360967),RAJKUMAR SOMENDRO SINGH,Independent
273,Manipur,Inner Manipur(1),lost,4881,( -369136),MOIRANGTHEM TOTOMSHANA NONGSHABA,Independent
274,Manipur,Inner Manipur(1),lost,1296,( -372721),HAORUNGBAM SARAT SINGH,Independent
275,Manipur,Inner Manipur(1),,3797,( -370220),NOTA,None of the Above
276,NCT OF Delhi,West Delhi(6),won,842658,(+ 199013),KAMALJEET SEHRAWAT,Bharatiya Janata Party
277,NCT OF Delhi,West Delhi(6),lost,643645,( -199013),MAHABAL MISHRA,Aam Aadmi Party
278,NCT OF Delhi,West Delhi(6),lost,7964,( -834694),VISHAKHA,Bahujan Samaj Party
279,NCT OF Delhi,West Delhi(6),lost,3097,( -839561),SABIR KHAN,Independent
280,NCT OF Delhi,West Delhi(6),lost,2387,( -840271),AJ RAJAN,Navarang Congress Party
281,NCT OF Delhi,West Delhi(6),lost,1876,( -840782),SUNIL MEGHWAL,Ambedkarite Party of India
282,NCT OF Delhi,West Delhi(6),lost,1773,( -840885),OM PRAKASH NARAYAN,Aapki Apni Party (Peoples)
283,NCT OF Delhi,West Delhi(6),lost,1267,( -841391),ANJU SHARMA,Independent
284,NCT OF Delhi,West Delhi(6),lost,1155,( -841503),KAPIL MARWAH,Independent
285,NCT OF Delhi,West Delhi(6),lost,1089,( -841569),JARNAIL SINGH,Independent
286,NCT OF Delhi,West Delhi(6),lost,1059,( -841599),MADHU,Akhil Bhartiya Parivar Party
287,NCT OF Delhi,West Delhi(6),lost,995,( -841663),RAJIV KANT MISHRA,Independent
288,NCT OF Delhi,West Delhi(6),lost,971,( -841687),RAMESH KUMAR JAIN @ NIRBHIK,Gareeb Aadmi Party
289,NCT OF Delhi,West Delhi(6),lost,758,( -841900),UMA SHANKAR TIWARI,Bhartiya Mahasangh Party
290,NCT OF Delhi,West Delhi(6),lost,756,( -841902),MEENA UJJAINWAL,Peoples Party of India (Democratic)
291,NCT OF Delhi,West Delhi(6),lost,619,( -842039),CHARANJEET SINGH,All India Forward Bloc
292,NCT OF Delhi,West Delhi(6),lost,614,( -842044),UMESH CHAUHAN,Rashtriya Rashtrawadi Party
293,NCT OF Delhi,West Delhi(6),lost,586,( -842072),PRAMOD KUREEL,Bahujan National Party (Ambedkar)
294,NCT OF Delhi,West Delhi(6),lost,574,( -842084),AMIT KUMAR SINGH,Rashtriya Suraksha Party
295,NCT OF Delhi,West Delhi(6),lost,446,( -842212),JAYA RAMAN,Sarvlokhit Samaj Party
296,NCT OF Delhi,West Delhi(6),lost,434,( -842224),RAM NARAYAN MOHANTY,Independent
297,NCT OF Delhi,West Delhi(6),lost,420,( -842238),CHAMAN LAL VERMA,Samaj Vikas Kranti Party
298,NCT OF Delhi,West Delhi(6),lost,370,( -842288),DEEPAK SHARMA,Bharatiya Jan Jagriti Party
299,NCT OF Delhi,West Delhi(6),lost,282,( -842376),RAVI,Independent
300,NCT OF Delhi,West Delhi(6),,8699,( -833959),NOTA,None of the Above
301,NCT OF Delhi,North-West Delhi(5),won,866483,(+ 290849),YOGENDER CHANDOLIYA,Bharatiya Janata Party
302,NCT OF Delhi,North-West Delhi(5),lost,575634,( -290849),UDIT RAJ,Indian National Congress
303,NCT OF Delhi,North-West Delhi(5),lost,11997,( -854486),VIJAY BAUDDH,Bahujan Samaj Party
304,NCT OF Delhi,North-West Delhi(5),lost,2870,( -863613),SURESH KUMAR,Peoples Party of India (Democratic)
305,NCT OF Delhi,North-West Delhi(5),lost,2866,( -863617),SANJAY KUMAR SIWAL,Rashtriya Janshakti Party (Secular)
306,NCT OF Delhi,North-West Delhi(5),lost,2250,( -864233),SUBHASH,Asankhya Samaj Party
307,NCT OF Delhi,North-West Delhi(5),lost,1478,( -865005),RAJENDER SOOD,Aam Janshakti Party
308,NCT OF Delhi,North-West Delhi(5),lost,1456,( -865027),PRAVEEN GAUTAM,Navarang Congress Party
309,NCT OF Delhi,North-West Delhi(5),lost,1342,( -865141),K M KAJAL,Public Political Party
310,NCT OF Delhi,North-West Delhi(5),lost,1275,( -865208),NARESH KUMAR,Independent
311,NCT OF Delhi,North-West Delhi(5),lost,1237,( -865246),ADVOCATE SATISH CHANDRA,Ambedkarite Party of India
312,NCT OF Delhi,North-West Delhi(5),lost,1102,( -865381),PARMENDRA MANJHI,Independent
313,NCT OF Delhi,North-West Delhi(5),lost,1016,( -865467),ADVOCATE DR. MAHENDER   SINGH CHURIYANA,Bahujan Dravida Party
314,NCT OF Delhi,North-West Delhi(5),lost,891,( -865592),CHANDER PAL SONI,Independent
315,NCT OF Delhi,North-West Delhi(5),lost,790,( -865693),ADITI,Independent
316,NCT OF Delhi,North-West Delhi(5),lost,675,( -865808),ADV. KRUPAL,Prabuddha Republican Party
317,NCT OF Delhi,North-West Delhi(5),lost,638,( -865845),NAND RAM BAGRI,Voters Party  International
318,NCT OF Delhi,North-West Delhi(5),lost,632,( -865851),SHYAM BHARTEEY,Gareeb Aadmi Party
319,NCT OF Delhi,North-West Delhi(5),lost,548,( -865935),HARI KISHAN (MECHANIC),Independent
320,NCT OF Delhi,North-West Delhi(5),lost,509,( -865974),POOJA (BHAGTANI),Bharatiya Jan Jagriti Party
321,NCT OF Delhi,North-West Delhi(5),lost,503,( -865980),PREETI,Saman Adhikar Party
322,NCT OF Delhi,North-West Delhi(5),lost,500,( -865983),NARESH KUMAR,Rashtriya Samaj Paksha
323,NCT OF Delhi,North-West Delhi(5),lost,434,( -866049),SATYA PRAKASH UTTRAKHANDI,Independent
324,NCT OF Delhi,North-West Delhi(5),lost,373,( -866110),KHILKHILAKAR,Bahujan Shoshit Samaj Sangharsh Samta Party
325,NCT OF Delhi,North-West Delhi(5),lost,371,( -866112),PRADEEP KUMAR,Independent
326,NCT OF Delhi,North-West Delhi(5),lost,353,( -866130),PUSHPA NAGRA,Independent
327,NCT OF Delhi,North-West Delhi(5),,8984,( -857499),NOTA,None of the Above
328,NCT OF Delhi,New Delhi(4),won,453185,(+ 78370),BANSURI SWARAJ,Bharatiya Janata Party
329,NCT OF Delhi,New Delhi(4),lost,374815,( -78370),SOMNATH BHARTI,Aam Aadmi Party
330,NCT OF Delhi,New Delhi(4),lost,5629,( -447556),RAAJ KUMAR ANAND,Bahujan Samaj Party
331,NCT OF Delhi,New Delhi(4),lost,1276,( -451909),SANJAY RAWAT,Independent
332,NCT OF Delhi,New Delhi(4),lost,1037,( -452148),ACHLA JETHMALANI,Jindabad Kranti Party
333,NCT OF Delhi,New Delhi(4),lost,1005,( -452180),HIRA LAL,Independent
334,NCT OF Delhi,New Delhi(4),lost,806,( -452379),PREM SINGH,Navarang Congress Party
335,NCT OF Delhi,New Delhi(4),lost,781,( -452404),UPEN‍DRA,Anjaan Aadmi Party
336,NCT OF Delhi,New Delhi(4),lost,726,( -452459),DILIP SINGH,Independent
337,NCT OF Delhi,New Delhi(4),lost,656,( -452529),LUKMAN KHAN,Log Party
338,NCT OF Delhi,New Delhi(4),lost,641,( -452544),PUNAM PANDEY,Rashtravadi Loktantrik Party (India)
339,NCT OF Delhi,New Delhi(4),lost,486,( -452699),SANDHYA THAKKAR,Rashtriya Republican Party
340,NCT OF Delhi,New Delhi(4),lost,416,( -452769),RAVINDER SINGH,Independent
341,NCT OF Delhi,New Delhi(4),lost,361,( -452824),DINESH KUMAR,Peoples Party of India (Democratic)
342,NCT OF Delhi,New Delhi(4),lost,335,( -452850),PRITHVI NATH SINGH,Bharatiya Sampuran Krantikari Party
343,NCT OF Delhi,New Delhi(4),lost,288,( -452897),MAHESH KUMAR DENWAL,Ambedkarite Party of India
344,NCT OF Delhi,New Delhi(4),lost,212,( -452973),MANOJ KUMAR SHARMA,Loktantrik Janshakti Party
345,NCT OF Delhi,New Delhi(4),,4813,( -448372),NOTA,None of the Above
346,NCT OF Delhi,East Delhi(3),won,664819,(+ 93663),HARSH MALHOTRA,Bharatiya Janata Party
347,NCT OF Delhi,East Delhi(3),lost,571156,( -93663),KULDEEP KUMAR (MONU),Aam Aadmi Party
348,NCT OF Delhi,East Delhi(3),lost,9197,( -655622),MOHD. WAQAR CHOUDHARY,Bahujan Samaj Party
349,NCT OF Delhi,East Delhi(3),lost,2817,( -662002),A. GOPALA KRISHNA,Navarang Congress Party
350,NCT OF Delhi,East Delhi(3),lost,1582,( -663237),KULDEEP KUMAR,Independent
351,NCT OF Delhi,East Delhi(3),lost,1192,( -663627),MANOJ KUMAR GUPTA (SWARAJI),Independent
352,NCT OF Delhi,East Delhi(3),lost,1099,( -663720),RODASH GUPTA,Independent
353,NCT OF Delhi,East Delhi(3),lost,824,( -663995),JYOTI PRAKASH (MONU),Ekam Sanatan Bharat Dal
354,NCT OF Delhi,East Delhi(3),lost,751,( -664068),ARUNIMA GAUTAM,Independent
355,NCT OF Delhi,East Delhi(3),lost,657,( -664162),JAI RAM LAL,Rashtriya Republican Party
356,NCT OF Delhi,East Delhi(3),lost,614,( -664205),ADVOCATE MANJEET SINGH,Rashtra Nirman Party
357,NCT OF Delhi,East Delhi(3),lost,583,( -664236),MOHAMMAD IRFAN,Independent
358,NCT OF Delhi,East Delhi(3),lost,556,( -664263),OM SHANKAR,Independent
359,NCT OF Delhi,East Delhi(3),lost,477,( -664342),LAL SINGH,Bahujan Dravida Party
360,NCT OF Delhi,East Delhi(3),lost,470,( -664349),YOGESH CHAUDHARY,Bhartiya Veer Dal
361,NCT OF Delhi,East Delhi(3),lost,433,( -664386),VIMAL KUMAR SAXENA,Independent
362,NCT OF Delhi,East Delhi(3),lost,399,( -664420),SURENDRA SINGH BASOYA,Peoples Party of India (Democratic)
363,NCT OF Delhi,East Delhi(3),lost,379,( -664440),SANJAY,Public Political Party
364,NCT OF Delhi,East Delhi(3),lost,360,( -664459),AMIT GUPTA,Independent
365,NCT OF Delhi,East Delhi(3),lost,290,( -664529),SANJAYA KUMAR YADAV,Right to Recall Party
366,NCT OF Delhi,East Delhi(3),,5394,( -659425),NOTA,None of the Above
367,NCT OF Delhi,North-East Delhi(2),won,824451,(+ 138778),MANOJ TIWARI,Bharatiya Janata Party
368,NCT OF Delhi,North-East Delhi(2),lost,685673,( -138778),KANHAIYA KUMAR,Indian National Congress
369,NCT OF Delhi,North-East Delhi(2),lost,12138,( -812313),ASHOK KUMAR,Bahujan Samaj Party
370,NCT OF Delhi,North-East Delhi(2),lost,3518,( -820933),SUNITA,Navarang Congress Party
371,NCT OF Delhi,North-East Delhi(2),lost,3325,( -821126),AKESHAN DUT,Independent
372,NCT OF Delhi,North-East Delhi(2),lost,2070,( -822381),SUSHIL CHOUDHARY,Aapki Apni Party (Peoples)
373,NCT OF Delhi,North-East Delhi(2),lost,2042,( -822409),AJAY TIWARI,Right to Recall Party
374,NCT OF Delhi,North-East Delhi(2),lost,1639,( -822812),SUBHASH,Rashtriya Janmorcha
375,NCT OF Delhi,North-East Delhi(2),lost,1317,( -823134),AKASH SRIVASTAV,Jai Hind National Party
376,NCT OF Delhi,North-East Delhi(2),lost,1163,( -823288),SANJEEV KUMAR PANDEY,Bharatiya Liberal Party
377,NCT OF Delhi,North-East Delhi(2),lost,997,( -823454),SAROJ KUMAR RAY,Independent
378,NCT OF Delhi,North-East Delhi(2),lost,827,( -823624),ADV. BHIM KISHOR,Peoples Party of India (Democratic)
379,NCT OF Delhi,North-East Delhi(2),lost,799,( -823652),SANJEEV KUMAR,Public Political Party
380,NCT OF Delhi,North-East Delhi(2),lost,676,( -823775),PRAKASH DEVI,Socialist Unity Centre Of India (COMMUNIST)
381,NCT OF Delhi,North-East Delhi(2),lost,653,( -823798),LAKSHYA VASHIST (SHYAM),Jindabad Kranti Party
382,NCT OF Delhi,North-East Delhi(2),lost,646,( -823805),BABITA YADAV,Aazad Samaj Party (Kanshi Ram)
383,NCT OF Delhi,North-East Delhi(2),lost,561,( -823890),MANOJ KUMAR,Independent
384,NCT OF Delhi,North-East Delhi(2),lost,543,( -823908),NIVEDITA SHARMA “PREM”,Rashtrawadi Janlok Party (Satya)
385,NCT OF Delhi,North-East Delhi(2),lost,540,( -823911),DR. RAJESH KUMAR SINGH,Independent
386,NCT OF Delhi,North-East Delhi(2),lost,498,( -823953),KANHI LAL,Swatantra Jantaraj Party
387,NCT OF Delhi,North-East Delhi(2),lost,491,( -823960),VIJAY KUMAR JHA,Independent
388,NCT OF Delhi,North-East Delhi(2),lost,410,( -824041),YOGESH SWAMY,Independent
389,NCT OF Delhi,North-East Delhi(2),lost,352,( -824099),ASHOK MISHRA,Independent
390,NCT OF Delhi,North-East Delhi(2),lost,349,( -824102),ADV. K.T. PALUSKAR,Prabuddha Republican Party
391,NCT OF Delhi,North-East Delhi(2),lost,324,( -824127),RAVI KIRAN THILAK THATIKONDA,Independent
392,NCT OF Delhi,North-East Delhi(2),lost,310,( -824141),ISHWAR CHAND,Bharatrashtra Democratic Party
393,NCT OF Delhi,North-East Delhi(2),lost,276,( -824175),JAGDISH,Rashtriya Samaj Paksha
394,NCT OF Delhi,North-East Delhi(2),lost,270,( -824181),BIRPAL SINGH KOLI,Independent
395,NCT OF Delhi,North-East Delhi(2),,5873,( -818578),NOTA,None of the Above
396,NCT OF Delhi,Chandni Chowk(1),won,516496,(+ 89325),PRAVEEN KHANDELWAL,Bharatiya Janata Party
397,NCT OF Delhi,Chandni Chowk(1),lost,427171,( -89325),JAI PRAKASH AGARWAL,Indian National Congress
398,NCT OF Delhi,Chandni Chowk(1),lost,5829,( -510667),ABUL KALAM AZAD,Bahujan Samaj Party
399,NCT OF Delhi,Chandni Chowk(1),lost,1617,( -514879),UMESH RATHOR,Atulya Bharat Party
400,NCT OF Delhi,Chandni Chowk(1),lost,1089,( -515407),SEEMA RIZVI,Azad Samaj Party
401,NCT OF Delhi,Chandni Chowk(1),lost,949,( -515547),SHAIK JALEEL,Navarang Congress Party
402,NCT OF Delhi,Chandni Chowk(1),lost,945,( -515551),MD NAZIR,Aman Samaj Party
403,NCT OF Delhi,Chandni Chowk(1),lost,842,( -515654),SATYA DEV CHAUDHARY,Satya Bahumat Party
404,NCT OF Delhi,Chandni Chowk(1),lost,643,( -515853),RITU KAUSHIK,Socialist Unity Centre Of India (COMMUNIST)
405,NCT OF Delhi,Chandni Chowk(1),lost,513,( -515983),SAMEER MIRZA,Rashtriya Republican Party
406,NCT OF Delhi,Chandni Chowk(1),lost,503,( -515993),SOHARSH GULGULIA JAIN,Swaraj Bhartiya Nyay Party
407,NCT OF Delhi,Chandni Chowk(1),lost,463,( -516033),SHYAM BHARTEEY,Gareeb Aadmi Party
408,NCT OF Delhi,Chandni Chowk(1),lost,424,( -516072),GULJAR SINGH,Peoples Party of India (Democratic)
409,NCT OF Delhi,Chandni Chowk(1),lost,389,( -516107),YOGENDER SINGH,Bharatiya Liberal Party
410,NCT OF Delhi,Chandni Chowk(1),lost,359,( -516137),VINOD KUMAR GUPTA,Akhil Bhartiya Parivar Party
411,NCT OF Delhi,Chandni Chowk(1),lost,330,( -516166),SHIVAM SAINI,Right to Recall Party
412,NCT OF Delhi,Chandni Chowk(1),lost,321,( -516175),MANOJ KUMAR NIGAM,Akhil Bhartiya Sudhar Party
413,NCT OF Delhi,Chandni Chowk(1),lost,262,( -516234),RAJESH GUPTA,Bharat Lok Sewak Party
414,NCT OF Delhi,Chandni Chowk(1),lost,257,( -516239),RAHUL SHARMA,Rashtriya Mangalam Party
415,NCT OF Delhi,Chandni Chowk(1),lost,247,( -516249),SUNIL KUMAR,Independent
416,NCT OF Delhi,Chandni Chowk(1),lost,220,( -516276),SUBHASH CHANDER,Independent
417,NCT OF Delhi,Chandni Chowk(1),lost,189,( -516307),MOHD HAMID,Bharatheeya Jawan Kisan Party
418,NCT OF Delhi,Chandni Chowk(1),lost,172,( -516324),PYUSH NARULA,Independent
419,NCT OF Delhi,Chandni Chowk(1),lost,169,( -516327),HEENA,Public Political Party
420,NCT OF Delhi,Chandni Chowk(1),lost,140,( -516356),ASHOK KUMAR GUPTA,Independent
421,NCT OF Delhi,Chandni Chowk(1),,5563,( -510933),NOTA,None of the Above
422,Punjab,Khadoor Sahib(3),won,404430,(+ 197120),AMRITPAL SINGH,Independent
423,Punjab,Khadoor Sahib(3),lost,207310,( -197120),KULBIR SINGH ZIRA,Indian National Congress
424,Punjab,Khadoor Sahib(3),lost,194836,( -209594),LALJIT SINGH BHULLAR,Aam Aadmi Party
425,Punjab,Khadoor Sahib(3),lost,86416,( -318014),VIRSA SINGH VALTOHA,Shiromani Akali Dal
426,Punjab,Khadoor Sahib(3),lost,86373,( -318057),MANJIT SINGH MANNA,Bharatiya Janata Party
427,Punjab,Khadoor Sahib(3),lost,12525,( -391905),PARAMJIT SINGH,Independent
428,Punjab,Khadoor Sahib(3),lost,6739,( -397691),CHAIN SINGH BAINKA,Aas Punjab Party
429,Punjab,Khadoor Sahib(3),lost,5066,( -399364),SATNAM SINGH,Bahujan Samaj Party
430,Punjab,Khadoor Sahib(3),lost,4836,( -399594),SARABJIT SINGH,Independent
431,Punjab,Khadoor Sahib(3),lost,3952,( -400478),GURDIAL SINGH,Communist Party of India
432,Punjab,Khadoor Sahib(3),lost,2769,( -401661),ANOKH SINGH KATWAL,Independent
433,Punjab,Khadoor Sahib(3),lost,2609,( -401821),GURPREET SINGH,Independent
434,Punjab,Khadoor Sahib(3),lost,2535,( -401895),AJIT SINGH,Independent
435,Punjab,Khadoor Sahib(3),lost,2525,( -401905),ARUN KUMAR,Independent
436,Punjab,Khadoor Sahib(3),lost,2371,( -402059),SURJIT SINGH BHIKHIWIND,Independent
437,Punjab,Khadoor Sahib(3),lost,2294,( -402136),KAWALJIT SINGH,Independent
438,Punjab,Khadoor Sahib(3),lost,1970,( -402460),HARJINDER SINGH,Independent
439,Punjab,Khadoor Sahib(3),lost,1901,( -402529),KANWALJIT SINGH,Independent
440,Punjab,Khadoor Sahib(3),lost,1803,( -402627),PARMINDER SINGH,Independent
441,Punjab,Khadoor Sahib(3),lost,1639,( -402791),JASWANT SINGH SOHAL,Independent
442,Punjab,Khadoor Sahib(3),lost,1421,( -403009),LAKHBIR SINGH,Independent
443,Punjab,Khadoor Sahib(3),lost,1420,( -403010),VIKRAMJIT SINGH,Independent
444,Punjab,Khadoor Sahib(3),lost,1388,( -403042),VIJAY KUMAR,Independent
445,Punjab,Khadoor Sahib(3),lost,1374,( -403056),DILBAGH SINGH,All India Mazdoor Party (Rangreta)
446,Punjab,Khadoor Sahib(3),lost,1341,( -403089),SIMRANJEET SINGH,Independent
447,Punjab,Khadoor Sahib(3),lost,1046,( -403384),MAHINDER SINGH HAMIRA,Independent
448,Punjab,Khadoor Sahib(3),lost,824,( -403606),NAVEEN KUMAR SHARMA,Sanjhi Virasat Party
449,Punjab,Khadoor Sahib(3),,3452,( -400978),NOTA,None of the Above
450,Tripura,Tripura West(1),won,881341,(+ 611578),BIPLAB KUMAR DEB,Bharatiya Janata Party
451,Tripura,Tripura West(1),lost,269763,( -611578),ASISH KUMAR SAHA,Indian National Congress
452,Tripura,Tripura West(1),lost,8932,( -872409),RAMENDRA REANG,Independent
453,Tripura,Tripura West(1),lost,8784,( -872557),ARUN KUMAR BHAUMIK,Socialist Unity Centre Of India (COMMUNIST)
454,Tripura,Tripura West(1),lost,8114,( -873227),GOURI SANKAR NANDI,Independent
455,Tripura,Tripura West(1),lost,6652,( -874689),MILAN PADA MURASING,Independent
456,Tripura,Tripura West(1),lost,4479,( -876862),BALARAM DEBBARMA,Independent
457,Tripura,Tripura West(1),lost,3683,( -877658),BRAJALAL DEBNATH,Independent
458,Tripura,Tripura West(1),lost,3449,( -877892),ARNAB ROY,Republican Party of India (A)
459,Tripura,Tripura West(1),,14612,( -866729),NOTA,None of the Above
460,Uttarakhand,Nainital-Udhamsingh Nagar(4),won,772671,(+ 334548),AJAY BHATT,Bharatiya Janata Party
461,Uttarakhand,Nainital-Udhamsingh Nagar(4),lost,438123,( -334548),PRAKASH JOSHI,Indian National Congress
462,Uttarakhand,Nainital-Udhamsingh Nagar(4),lost,23455,( -749216),AKHTAR ALI,Bahujan Samaj Party
463,Uttarakhand,Nainital-Udhamsingh Nagar(4),lost,4902,( -767769),AKHALESH KUMAR,Akhil Bhartiya Parivar Party
464,Uttarakhand,Nainital-Udhamsingh Nagar(4),lost,4315,( -768356),HITESH PATHAK,Independent
465,Uttarakhand,Nainital-Udhamsingh Nagar(4),lost,3300,( -769371),RAMESH KUMAR MAX,Independent
466,Uttarakhand,Nainital-Udhamsingh Nagar(4),lost,2987,( -769684),AMAR SINGH SAINI,Peoples Party of India (Democratic)
467,Uttarakhand,Nainital-Udhamsingh Nagar(4),lost,2310,( -770361),JEEVAN CHANDRA UPRETI,Bharat Ki Lok Jimmedar Party
468,Uttarakhand,Nainital-Udhamsingh Nagar(4),lost,1855,( -770816),SHIB SINGH,Uttarakhand Kranti Dal
469,Uttarakhand,Nainital-Udhamsingh Nagar(4),lost,1673,( -770998),SURENDRA SINGH,Bhartiya Shakti Chetna Party
470,Uttarakhand,Nainital-Udhamsingh Nagar(4),,10425,( -762246),NOTA,None of the Above
471,Uttarakhand,Almora(3),won,429167,(+ 234097),AJAY TAMTA,Bharatiya Janata Party
472,Uttarakhand,Almora(3),lost,195070,( -234097),PRADEEP TAMTA,Indian National Congress
473,Uttarakhand,Almora(3),lost,10075,( -419092),NARAYAN RAM,Bahujan Samaj Party
474,Uttarakhand,Almora(3),lost,5778,( -423389),KIRAN ARYA,Uttarakhand Parivartan Party
475,Uttarakhand,Almora(3),lost,4707,( -424460),ARJUN PRASAD,Independent
476,Uttarakhand,Almora(3),lost,4457,( -424710),DR PRAMOD KUMAR,Peoples Party of India (Democratic)
477,Uttarakhand,Almora(3),lost,2224,( -426943),ER JYOTI PRAKASH TAMTA,Bahujan Mukti Party
478,Uttarakhand,Almora(3),,17019,( -412148),NOTA,None of the Above
479,Uttarakhand,Garhwal(2),won,432159,(+ 163503),ANIL BALUNI,Bharatiya Janata Party
480,Uttarakhand,Garhwal(2),lost,268656,( -163503),GANESH GODIYAL,Indian National Congress
481,Uttarakhand,Garhwal(2),lost,4822,( -427337),SONU KUMAR,Independent
482,Uttarakhand,Garhwal(2),lost,4561,( -427598),ASHUTOSH SINGH,Uttarakhand Kranti Dal
483,Uttarakhand,Garhwal(2),lost,4122,( -428037),DHEER SINGH,Bahujan Samaj Party
484,Uttarakhand,Garhwal(2),lost,3079,( -429080),MUKESH PRAKASH,Independent
485,Uttarakhand,Garhwal(2),lost,1640,( -430519),DEEPENDRA SINGH NEGI,Independent
486,Uttarakhand,Garhwal(2),lost,1512,( -430647),SURESHI DEVI,Peoples Party of India (Democratic)
487,Uttarakhand,Garhwal(2),lost,1378,( -430781),ARJUN SINGH,Akhil Bhartiya Parivar Party
488,Uttarakhand,Garhwal(2),lost,1293,( -430866),RESHMA PANWAR,Socialist Unity Centre Of India (COMMUNIST)
489,Uttarakhand,Garhwal(2),lost,1179,( -430980),DR MUKESH PANT,Sainik Samaj Party
490,Uttarakhand,Garhwal(2),lost,884,( -431275),VINOD KUMAR SHARMA,Uttarakhand Samanta Party
491,Uttarakhand,Garhwal(2),lost,771,( -431388),SHYAMLAL,Bahujan Mukti Party
492,Uttarakhand,Garhwal(2),,11375,( -420784),NOTA,None of the Above
493,Uttarakhand,Tehri Garhwal(1),won,462603,(+ 272493),MALA RAJYA LAKSHMI SHAH,Bharatiya Janata Party
494,Uttarakhand,Tehri Garhwal(1),lost,190110,( -272493),JOT SINGH GUNSOLA,Indian National Congress
495,Uttarakhand,Tehri Garhwal(1),lost,168081,( -294522),BOBY PANWAR,Independent
496,Uttarakhand,Tehri Garhwal(1),lost,10026,( -452577),NAVNEET SINGH GOSAIN,Rashtriya Uttarakhand Party
497,Uttarakhand,Tehri Garhwal(1),lost,6908,( -455695),NEMCHAND,Bahujan Samaj Party
498,Uttarakhand,Tehri Garhwal(1),lost,3570,( -459033),BRIJ BHUSHAN KARANWAL,Bhartiya Rashtriya Ekta Dal
499,Uttarakhand,Tehri Garhwal(1),lost,3275,( -459328),SARDAR KHAN PAPPU,Independent
500,Uttarakhand,Tehri Garhwal(1),lost,3216,( -459387),VEPIN KUMAR AGGARWAL,Independent
501,Uttarakhand,Tehri Garhwal(1),lost,2362,( -460241),RAMPAL SINGH,Peoples Party of India (Democratic)
502,Uttarakhand,Tehri Garhwal(1),lost,2268,( -460335),SUDESH TOMAR,Independent
503,Uttarakhand,Tehri Garhwal(1),lost,2164,( -460439),PREM DUTT SEMWAL,Independent
504,Uttarakhand,Tehri Garhwal(1),,7458,( -455145),NOTA,None of the Above
505,Maharashtra,Raigad(32),won,508352,(+ 82784),TATKARE SUNIL DATTATREY,Nationalist Congress Party
506,Maharashtra,Raigad(32),lost,425568,( -82784),ANANT GEETE,Shiv Sena (Uddhav Balasaheb Thackrey)
507,Maharashtra,Raigad(32),lost,19618,( -488734),KUMUDINI RAVINDRA CHAVAN,Vanchit Bahujan  Aaghadi
508,Maharashtra,Raigad(32),lost,9394,( -498958),SHRINIVAS SATYANARAYAN MATTAPARTI,Independent
509,Maharashtra,Raigad(32),lost,5634,( -502718),AMIT SHRIPAL KAWADE,Independent
510,Maharashtra,Raigad(32),lost,3515,( -504837),ANANT BALOJI GITE,Independent
511,Maharashtra,Raigad(32),lost,2560,( -505792),NITIN JAGANNATH MAYEKAR,Independent
512,Maharashtra,Raigad(32),lost,2417,( -505935),CHAULE PANDURANG DAMODAR,Independent
513,Maharashtra,Raigad(32),lost,2040,( -506312),ANANT PADMA GITE,Independent
514,Maharashtra,Raigad(32),lost,1939,( -506413),COL PRAKASHRAO CHAVAN,Bharatheeya Jawan Kisan Party
515,Maharashtra,Raigad(32),lost,1820,( -506532),KOLI MANGESH PADMAKAR,Independent
516,Maharashtra,Raigad(32),lost,1795,( -506557),ADV AJAY UPADHYE,Independent
517,Maharashtra,Raigad(32),lost,1350,( -507002),ANJANI ASHWIN KELKAR,Independent
518,Maharashtra,Raigad(32),,27270,( -481082),NOTA,None of the Above
519,Maharashtra,Hatkanangale(48),won,520190,(+ 13426),DHAIRYASHEEL SAMBHAJIRAO MANE,Shiv Sena
520,Maharashtra,Hatkanangale(48),lost,506764,( -13426),SATYAJEET BABASAHEB PATIL (AABA) SARUDKAR,Shiv Sena (Uddhav Balasaheb Thackrey)
521,Maharashtra,Hatkanangale(48),lost,179850,( -340340),RAJU SHETTI,Swabhimani Paksha
522,Maharashtra,Hatkanangale(48),lost,32696,( -487494),D. C. PATIL DADASAHEB / DADGONDA CHAVGONDA PATIL,Vanchit Bahujan  Aaghadi
523,Maharashtra,Hatkanangale(48),lost,6111,( -514079),ASLAM AINODIN MULLA,Independent
524,Maharashtra,Hatkanangale(48),lost,4955,( -515235),ANANDRAO VASANTRAO SARNAIK (FOUJI BAPU),Independent
525,Maharashtra,Hatkanangale(48),lost,4789,( -515401),TANDALE LAXMAN SHIVAJI,Independent
526,Maharashtra,Hatkanangale(48),lost,4477,( -515713),PROF. PARASHURAM MANE,Independent
527,Maharashtra,Hatkanangale(48),lost,4033,( -516157),KAMBLE RAVINDRA TUKARAM,Bahujan Samaj Party
528,Maharashtra,Hatkanangale(48),lost,3632,( -516558),SATYAJEET PATIL (AABA),Independent
529,Maharashtra,Hatkanangale(48),lost,3499,( -516691),ANANDRAO TUKARAM THORAT,Independent
530,Maharashtra,Hatkanangale(48),lost,3190,( -517000),IMRAN IQBAL KHATIB,Bahujan Mukti Party
531,Maharashtra,Hatkanangale(48),lost,2174,( -518016),RAGHUNATHDADA PATIL,Bharatheeya Jawan Kisan Party
532,Maharashtra,Hatkanangale(48),lost,1852,( -518338),JAVED SIKANDAR MUJAVAR,Independent
533,Maharashtra,Hatkanangale(48),lost,1701,( -518489),SANTOSH KERBA KHOT,Kamgaar Kisan Party
534,Maharashtra,Hatkanangale(48),lost,1537,( -518653),DR. ISHWAR MAHADEV YAMGAR,Bharatiya Lokshakti Party
535,Maharashtra,Hatkanangale(48),lost,1392,( -518798),SHIVAJI DHONDIRAM SANKPAL,Independent
536,Maharashtra,Hatkanangale(48),lost,1361,( -518829),SHARAD BABURAO PATIL,National Black Panther Party
537,Maharashtra,Hatkanangale(48),lost,1066,( -519124),MANOHAR PRADIP SATPUTE,Independent
538,Maharashtra,Hatkanangale(48),lost,1061,( -519129),DHANAJI JAGANNATH GURAV (SHIVAREKAR),Lokrajya Janata Party
539,Maharashtra,Hatkanangale(48),lost,1009,( -519181),DAVARI LAXMAN SHRIPATI,Independent
540,Maharashtra,Hatkanangale(48),lost,940,( -519250),RAJENDRA BHIMRAO MANE,Independent
541,Maharashtra,Hatkanangale(48),lost,679,( -519511),DINAKARRAO TULSHIDAS CHAVAN (PATIL),All India Forward Bloc
542,Maharashtra,Hatkanangale(48),lost,618,( -519572),RAMCHANDRA GOVINDRAO SALUNKHE,Independent
543,Maharashtra,Hatkanangale(48),lost,560,( -519630),MOHITE DEVENDRA NANA,Independent
544,Maharashtra,Hatkanangale(48),lost,424,( -519766),MANE ARVIND BHIVA,Independent
545,Maharashtra,Hatkanangale(48),lost,361,( -519829),MAHAMMAD MUBARAK DARAVESHI,Independent
546,Maharashtra,Hatkanangale(48),,5103,( -515087),NOTA,None of the Above
547,Maharashtra,Madha(43),won,622213,(+ 120837),MOHITE-PATIL DHAIRYASHEEL RAJSINH,Nationalist Congress Party – Sharadchandra Pawar
548,Maharashtra,Madha(43),lost,501376,( -120837),RANJEETSINGH HINDURAO NAIK NIMBALKAR,Bharatiya Janata Party
549,Maharashtra,Madha(43),lost,58421,( -563792),ER. RAMCHANDRA MAYAPPA GHUTUKADE,New Rashtriya Samaj Party
550,Maharashtra,Madha(43),lost,20604,( -601609),BARASKAR RAMESH NAGNATH,Vanchit Bahujan  Aaghadi
551,Maharashtra,Madha(43),lost,7094,( -615119),JANKAR SWARUP DADA,Bahujan Samaj Party
552,Maharashtra,Madha(43),lost,5134,( -617079),HAKE LAXMAN SOPAN,Independent
553,Maharashtra,Madha(43),lost,4986,( -617227),SITARAM VITTHAL RANDIVE,Independent
554,Maharashtra,Madha(43),lost,4433,( -617780),DHANAJI SHRIPATI MASKE,Independent
555,Maharashtra,Madha(43),lost,4046,( -618167),BICHUKALE SANTOSH BALASAHEB,Republican Party of India (A)
556,Maharashtra,Madha(43),lost,3909,( -618304),SAWANT RAHUL SHASHIKANT,Independent
557,Maharashtra,Madha(43),lost,3067,( -619146),AWARE SIDDHESHWAR BHARAT,All India Forward Bloc
558,Maharashtra,Madha(43),lost,2864,( -619349),HANUMANT NARAYAN MANE,Independent
559,Maharashtra,Madha(43),lost,2687,( -619526),NANDU SAMBHAJI MORE,Independent
560,Maharashtra,Madha(43),lost,2435,( -619778),NAVANATH BIRA MADANE,Independent
561,Maharashtra,Madha(43),lost,2383,( -619830),GIRISH PRABHAKAR SHETE,Independent
562,Maharashtra,Madha(43),lost,2347,( -619866),ADV. JORE SACHIN BHASKAR,Independent
563,Maharashtra,Madha(43),lost,2214,( -619999),NANASAHEB RAMHARI YADAV,Independent
564,Maharashtra,Madha(43),lost,2175,( -620038),KIRAN TANAJI SATHE,Independent
565,Maharashtra,Madha(43),lost,2052,( -620161),BHAUSAHEB SUKHADEV LIGADE,Independent
566,Maharashtra,Madha(43),lost,1953,( -620260),ER. BALIRAM SUKHADEV MORE,Independent
567,Maharashtra,Madha(43),lost,1755,( -620458),KHARAT SANDIP JANARADHAN,Independent
568,Maharashtra,Madha(43),lost,1560,( -620653),NARAYAN TATOBA KALEL,Independent
569,Maharashtra,Madha(43),lost,1289,( -620924),GOPAL YESHVANT JADHAV,Bharatheeya Jawan Kisan Party
570,Maharashtra,Madha(43),lost,1279,( -620934),KASHINATH KISAN DEOKATE,Independent
571,Maharashtra,Madha(43),lost,1260,( -620953),SATYAWAN VIJAY OMBASE,Swarajya Sena (Maharashtra)
572,Maharashtra,Madha(43),lost,1191,( -621022),SITAPURE VINOD DILIP,Independent
573,Maharashtra,Madha(43),lost,989,( -621224),ASHOK DNYANDEV WAGHMODE,Independent
574,Maharashtra,Madha(43),lost,982,( -621231),ANIL BHAGAVAN SHEDAGE,Independent
575,Maharashtra,Madha(43),lost,903,( -621310),AMOL MADHUKAR KARADE,Independent
576,Maharashtra,Madha(43),lost,843,( -621370),RASHID ISMAIL SHAIKH,Independent
577,Maharashtra,Madha(43),lost,671,( -621542),MORE ROHIT RAMKRUSHNA,Independent
578,Maharashtra,Madha(43),lost,601,( -621612),SARADE GANESH NAVNATH,Independent
579,Maharashtra,Madha(43),,3702,( -618511),NOTA,None of the Above
580,Maharashtra,Osmanabad(40),won,748752,(+ 329846),OMPRAKASH BHUPALSINH ALIAS PAVAN RAJENIMBALKAR,Shiv Sena (Uddhav Balasaheb Thackrey)
581,Maharashtra,Osmanabad(40),lost,418906,( -329846),ARCHANA RANAJAGJITSINH PATIL,Nationalist Congress Party
582,Maharashtra,Osmanabad(40),lost,33402,( -715350),ANDHALKAR BHAUSAHEB RAOSAHEB,Vanchit Bahujan  Aaghadi
583,Maharashtra,Osmanabad(40),lost,18966,( -729786),GOVARDHAN SUBRAO NIMBALKAR,Independent
584,Maharashtra,Osmanabad(40),lost,6472,( -742280),DNYANESHWAR NAGANATHRAO KOLI,Samata Party
585,Maharashtra,Osmanabad(40),lost,5715,( -743037),KAKASAHEB SANDIPAN KHOT,Independent
586,Maharashtra,Osmanabad(40),lost,5615,( -743137),SANJAYKUMAR BHAGWAT WAGHMARE,Bahujan Samaj Party
587,Maharashtra,Osmanabad(40),lost,4811,( -743941),KAKA FULCHAND KAMBLE,Independent
588,Maharashtra,Osmanabad(40),lost,3263,( -745489),RAM HANUMANT SHENDAGE,Independent
589,Maharashtra,Osmanabad(40),lost,3095,( -745657),UMAJI PANDURANG GAIKWAD,Independent
590,Maharashtra,Osmanabad(40),lost,2336,( -746416),GORE NETAJI NAGNATH,Desh Janhit Party
591,Maharashtra,Osmanabad(40),lost,2172,( -746580),HANUMANT LAXMAN BONDAR,Independent
592,Maharashtra,Osmanabad(40),lost,2108,( -746644),NAVNATH DASHRATH UPALEKAR,Independent
593,Maharashtra,Osmanabad(40),lost,2060,( -746692),SIDDIK IBRAHIM BAUDIWALE ALIAS GOLABHAI,All India Majlis-E-Ittehadul Muslimeen
594,Maharashtra,Osmanabad(40),lost,1935,( -746817),ARJUN (DADA) SALGAR,Independent
595,Maharashtra,Osmanabad(40),lost,1887,( -746865),ARYANRAJE KISANRAO SHINDE,Rashtriya Samaj Dal (R)
596,Maharashtra,Osmanabad(40),lost,1686,( -747066),SHAIKH NAUSHAD IQBAL,Swarajya Shakti Sena
597,Maharashtra,Osmanabad(40),lost,1509,( -747243),SHAMRAO HARIBHAU PAWAR,Samnak Janta Party
598,Maharashtra,Osmanabad(40),lost,1336,( -747416),YOGIRAJ ANANTA TAMBE,Independent
599,Maharashtra,Osmanabad(40),lost,1268,( -747484),SOMNATH NANASAHEB KAMBLE,Independent
600,Maharashtra,Osmanabad(40),lost,1204,( -747548),BHORE NITIN KHANDU,Independent
601,Maharashtra,Osmanabad(40),lost,1190,( -747562),MANOHAR ANANDRAO PATIL,Independent
602,Maharashtra,Osmanabad(40),lost,1135,( -747617),NAVNATH VISHWANATH DUDHAL,Vishva Shakti Party
603,Maharashtra,Osmanabad(40),lost,1079,( -747673),NITESH SHIVAJI PAWAR,Hindrashtra Sangh
604,Maharashtra,Osmanabad(40),lost,865,( -747887),ADV. VISHVJEET VIJAYKUMAR SHINDE,Aadarsh Sangram Party
605,Maharashtra,Osmanabad(40),lost,782,( -747970),SHAYANI NAVANATH JADHAV,Independent
606,Maharashtra,Osmanabad(40),lost,731,( -748021),NITIN NAGNATH GAIKWAD,Independent
607,Maharashtra,Osmanabad(40),lost,677,( -748075),ADV. BHAUSAHEB ANIL BELURE,Independent
608,Maharashtra,Osmanabad(40),lost,610,( -748142),VILAS BHAGWAT GHADGE,Independent
609,Maharashtra,Osmanabad(40),lost,594,( -748158),SAMEERSINGH RAMESHCHANDRA SALVI,Independent
610,Maharashtra,Osmanabad(40),lost,593,( -748159),RAJKUMAR SAHEBRAO PATIL,Independent
611,Maharashtra,Osmanabad(40),,4298,( -744454),NOTA,None of the Above
612,Maharashtra,Ratnagiri- Sindhudurg(46),won,448514,(+ 47858),NARAYAN TATU RANE,Bharatiya Janata Party
613,Maharashtra,Ratnagiri- Sindhudurg(46),lost,400656,( -47858),VINAYAK BHAURAO RAUT,Shiv Sena (Uddhav Balasaheb Thackrey)
614,Maharashtra,Ratnagiri- Sindhudurg(46),lost,15826,( -432688),VINAYAK LAVU RAUT,Independent
615,Maharashtra,Ratnagiri- Sindhudurg(46),lost,10039,( -438475),MARUTI RAMACHANDRA JOSHI,Vanchit Bahujan  Aaghadi
616,Maharashtra,Ratnagiri- Sindhudurg(46),lost,7856,( -440658),AAYARE RAJENDRA LAHU,Bahujan Samaj Party
617,Maharashtra,Ratnagiri- Sindhudurg(46),lost,6395,( -442119),SHAKIL SAWANT,Independent
618,Maharashtra,Ratnagiri- Sindhudurg(46),lost,5582,( -442932),TAMBADE AMRUT ANANT (RAJAPURKAR),Independent
619,Maharashtra,Ratnagiri- Sindhudurg(46),lost,5280,( -443234),ASHOK GANGARAM PAWAR,Bahujan Mukti Party
620,Maharashtra,Ratnagiri- Sindhudurg(46),lost,2247,( -446267),SURESH GOVINDRAO SHINDE,Sainik Samaj Party
621,Maharashtra,Ratnagiri- Sindhudurg(46),,11643,( -436871),NOTA,None of the Above
622,Maharashtra,Kolhapur(47),won,754522,(+ 154964),CHHATRAPATI SHAHU SHAHAJI,Indian National Congress
623,Maharashtra,Kolhapur(47),lost,599558,( -154964),SANJAY SADASHIVRAO MANDLIK,Shiv Sena
624,Maharashtra,Kolhapur(47),lost,4002,( -750520),SANJAY BHIKAJI MAGADE,Bahujan Samaj Party
625,Maharashtra,Kolhapur(47),lost,3824,( -750698),MUSHTAK AJIJ MULLA,Independent
626,Maharashtra,Kolhapur(47),lost,3512,( -751010),KHADE BAJIRAO NANASO,Independent
627,Maharashtra,Kolhapur(47),lost,3508,( -751014),MADHURI RAJU JADHAV,Independent
628,Maharashtra,Kolhapur(47),lost,3063,( -751459),KRUSHNABAI DIPAK CHOUGALE,Independent
629,Maharashtra,Kolhapur(47),lost,2975,( -751547),KOGALE SANDEEP BHAIRAVNATH,Desh Janhit Party
630,Maharashtra,Kolhapur(47),lost,2459,( -752063),ADV. YASH SUHAS HEGDEPATIL,Independent
631,Maharashtra,Kolhapur(47),lost,1227,( -753295),NAGNATH PUNDALIK BENAKE,Independent
632,Maharashtra,Kolhapur(47),lost,1107,( -753415),B. T. PATIL (EX SERVICEMAN),Bharatheeya Jawan Kisan Party
633,Maharashtra,Kolhapur(47),lost,1044,( -753478),RAJANDARA BALASO KOLI,Independent
634,Maharashtra,Kolhapur(47),lost,849,( -753673),SUBHASH VAIJU DESAI,Independent
635,Maharashtra,Kolhapur(47),lost,653,( -753869),MANGESH JAYSINGH PATIL,Independent
636,Maharashtra,Kolhapur(47),lost,651,( -753871),SHASHIBHUSHAN JEEVANRAO DESAI,Akhil Bharat Hindu Mahasabha
637,Maharashtra,Kolhapur(47),lost,639,( -753883),SANTOSH GANPATI BISURE,Apni Prajahit Party
638,Maharashtra,Kolhapur(47),lost,633,( -753889),DR. SUNIL NAMDEV PATIL,National Black Panther Party
639,Maharashtra,Kolhapur(47),lost,604,( -753918),KRUSHNA HANMANT DESAI,Independent
640,Maharashtra,Kolhapur(47),lost,597,( -753925),IRFAN ABUTALIB CHAND,Independent
641,Maharashtra,Kolhapur(47),lost,570,( -753952),MANE ARVIND BHIVA,Bhartiya Rashtriya Dal
642,Maharashtra,Kolhapur(47),lost,544,( -753978),SANDEEP GUNDOPANT SANKPAL,Independent
643,Maharashtra,Kolhapur(47),lost,467,( -754055),KUDARTULLA ADAM LATIF,Independent
644,Maharashtra,Kolhapur(47),lost,335,( -754187),SALIM NURMUHAMAD BAGWAN,Independent
645,Maharashtra,Kolhapur(47),,5983,( -748539),NOTA,None of the Above
646,Meghalaya,Shillong(1),won,571078,(+ 371910),DR. RICKY ANDREW J. SYNGKON,Voice of the People Party
647,Meghalaya,Shillong(1),lost,199168,( -371910),VINCENT H. PALA,Indian National Congress
648,Meghalaya,Shillong(1),lost,186488,( -384590),DR. MAZEL AMPAREEN LYNGDOH,National People's Party
649,Meghalaya,Shillong(1),lost,44563,( -526515),ROBERTJUNE KHARJAHRIN,United Democratic Party
650,Meghalaya,Shillong(1),lost,18582,( -552496),PROF. LAKHON KMA,Independent
651,Meghalaya,Shillong(1),lost,7024,( -564054),PETER SHALLAM,Independent
652,Meghalaya,Shillong(1),,11008,( -560070),NOTA,None of the Above
653,Odisha,Berhampur(20),won,513102,(+ 165476),DR. PRADEEP KUMAR PANIGRAHY,Bharatiya Janata Party
654,Odisha,Berhampur(20),lost,347626,( -165476),BHRUGU BAXIPATRA,Biju Janata Dal
655,Odisha,Berhampur(20),lost,129744,( -383358),RASMI RANJAN PATNAIK,Indian National Congress
656,Odisha,Berhampur(20),lost,8379,( -504723),V CHANDRA SHEKHAR,Independent
657,Odisha,Berhampur(20),lost,5211,( -507891),BHASKAR CHAUDHORY,Bahujan Samaj Party
658,Odisha,Berhampur(20),lost,5135,( -507967),SOMANATH BEHERA,Socialist Unity Centre Of India (COMMUNIST)
659,Odisha,Berhampur(20),lost,5078,( -508024),SIRIN TAMMANA,Independent
660,Odisha,Berhampur(20),lost,4201,( -508901),BOMMALI KANTA RAO,Naba Bharata Nirmana Seva Party
661,Odisha,Berhampur(20),lost,3871,( -509231),RAM SANKAR SATAPATHY,Independent
662,Odisha,Berhampur(20),lost,2343,( -510759),RAJENDRA DALABEHERA,Bharatiya Bikash Parishad
663,Odisha,Berhampur(20),lost,2291,( -510811),SANTOSH KUMAR SAHU,All India Forward Bloc
664,Odisha,Berhampur(20),,15942,( -497160),NOTA,None of the Above
665,Punjab,Bathinda(11),won,376558,(+ 49656),HARSIMRAT KAUR BADAL,Shiromani Akali Dal
666,Punjab,Bathinda(11),lost,326902,( -49656),GURMEET SINGH KHUDIAN,Aam Aadmi Party
667,Punjab,Bathinda(11),lost,202011,( -174547),JEETMOHINDER SINGH SIDHU,Indian National Congress
668,Punjab,Bathinda(11),lost,110762,( -265796),PARAMPAL KAUR SIDHU,Bharatiya Janata Party
669,Punjab,Bathinda(11),lost,84684,( -291874),LAKHVIR SINGH LAKHA SIDHANA,Shiromani Akali Dal (Amritsar)(Simranjit Singh Mann)
670,Punjab,Bathinda(11),lost,13039,( -363519),NIKKA SINGH,Bahujan Samaj Party
671,Punjab,Bathinda(11),lost,5484,( -371074),JAGJIWAN BALLI,Independent
672,Punjab,Bathinda(11),lost,4497,( -372061),PARWINDER SINGH,Independent
673,Punjab,Bathinda(11),lost,3435,( -373123),PALA RAM,Independent
674,Punjab,Bathinda(11),lost,3388,( -373170),BHAGWANT SINGH SAMAON,Independent
675,Punjab,Bathinda(11),lost,3145,( -373413),JASVIR SINGH BATHINDA,Aazad Samaj Party (Kanshi Ram)
676,Punjab,Bathinda(11),lost,3082,( -373476),GURMEET SINGH,Independent
677,Punjab,Bathinda(11),lost,2628,( -373930),GURPREET SINGH URF PREET GHAINT,Jan Sewa Driver Party
678,Punjab,Bathinda(11),lost,1627,( -374931),GURBARN SINGH,Independent
679,Punjab,Bathinda(11),lost,1601,( -374957),NAIB SINGH,Bharatheeya Jawan Kisan Party
680,Punjab,Bathinda(11),lost,1182,( -375376),KULWANT SINGH,Independent
681,Punjab,Bathinda(11),lost,1148,( -375410),AMANDEEP SINGH,Independent
682,Punjab,Bathinda(11),lost,1064,( -375494),POONAM RANI,Nationalist Justice Party
683,Punjab,Bathinda(11),,4933,( -371625),NOTA,None of the Above
684,Punjab,Sangrur(12),won,364085,(+ 172560),GURMEET SINGH MEET HAYER,Aam Aadmi Party
685,Punjab,Sangrur(12),lost,191525,( -172560),SUKHPAL SINGH KHAIRA,Indian National Congress
686,Punjab,Sangrur(12),lost,187246,( -176839),SIMRANJIT SINGH MANN,Shiromani Akali Dal (Amritsar)(Simranjit Singh Mann)
687,Punjab,Sangrur(12),lost,128253,( -235832),ARVIND KHANNA,Bharatiya Janata Party
688,Punjab,Sangrur(12),lost,62488,( -301597),IQBAL SINGH JHUNDAN,Shiromani Akali Dal
689,Punjab,Sangrur(12),lost,37731,( -326354),MAKHAN SINGH,Bahujan Samaj Party
690,Punjab,Sangrur(12),lost,5139,( -358946),PARDEEP KUMAR,Apni Ekta Party
691,Punjab,Sangrur(12),lost,3431,( -360654),HARBHAJAN SINGH,Aazad Samaj Party (Kanshi Ram)
692,Punjab,Sangrur(12),lost,3225,( -360860),SUKHWINDER SINGH,Independent
693,Punjab,Sangrur(12),lost,2572,( -361513),BALWINDER SINGH SEKHON,Independent
694,Punjab,Sangrur(12),lost,2288,( -361797),BALWINDER SINGH,Independent
695,Punjab,Sangrur(12),lost,2224,( -361861),JASWANT SINGH,Independent
696,Punjab,Sangrur(12),lost,1827,( -362258),PAPPU KUMAR,Independent
697,Punjab,Sangrur(12),lost,1815,( -362270),KRISHAN DEV,Punjab National Party
698,Punjab,Sangrur(12),lost,1693,( -362392),AMANPREET SINGH,Independent
699,Punjab,Sangrur(12),lost,1581,( -362504),RANGI KHAN,Aam Janta Party (India)
700,Punjab,Sangrur(12),lost,1548,( -362537),JILE SINGH,Bhartiya Jan Samman Party
701,Punjab,Sangrur(12),lost,1376,( -362709),KAMAL KUMAR VERMA (BHASAUR),"Adarsh Janta Party,"
702,Punjab,Sangrur(12),lost,1283,( -362802),CHANNVEER SINGH,Independent
703,Punjab,Sangrur(12),lost,1225,( -362860),JAGTAR SINGH,Nationalist Justice Party
704,Punjab,Sangrur(12),lost,1145,( -362940),VIJAY SYAL,Independent
705,Punjab,Sangrur(12),lost,1105,( -362980),HARPREET KAUR,India Greens Party
706,Punjab,Sangrur(12),lost,1040,( -363045),RAJA SINGH,Independent
707,Punjab,Sangrur(12),,3820,( -360265),NOTA,None of the Above
708,Punjab,Patiala(13),won,305616,(+ 14831),DR DHARAMVIRA GANDHI,Indian National Congress
709,Punjab,Patiala(13),lost,290785,( -14831),DR BALBIR SINGH,Aam Aadmi Party
710,Punjab,Patiala(13),lost,288998,( -16618),PRENEET KAUR,Bharatiya Janata Party
711,Punjab,Patiala(13),lost,153978,( -151638),N K SHARMA,Shiromani Akali Dal
712,Punjab,Patiala(13),lost,47274,( -258342),PROF MOHINDER PAL SINGH,Shiromani Akali Dal (Amritsar)(Simranjit Singh Mann)
713,Punjab,Patiala(13),lost,22400,( -283216),JAGJIT SINGH CHHARBAR,Bahujan Samaj Party
714,Punjab,Patiala(13),lost,3812,( -301804),ARVINDER KUMAR,Independent
715,Punjab,Patiala(13),lost,3239,( -302377),JAGDISH KUMAR,Independent
716,Punjab,Patiala(13),lost,2894,( -302722),SUKHVINDER SINGH,Independent
717,Punjab,Patiala(13),lost,2795,( -302821),JODH SINGH PARMAR KAULI,Independent
718,Punjab,Patiala(13),lost,2311,( -303305),DEVINDER RAJPUT,Bharatheeya Jawan Kisan Party
719,Punjab,Patiala(13),lost,2302,( -303314),NEERAJ KUMAR NANNA,Independent
720,Punjab,Patiala(13),lost,2267,( -303349),PARAMJIT SINGH S/O TARLOCHAN SINGH,Independent
721,Punjab,Patiala(13),lost,1992,( -303624),AMARJIT SINGH JAGDE RAHO,Jan Janwadi Party
722,Punjab,Patiala(13),lost,1967,( -303649),RANJIT SINGH,Akhil Bhartiya Parivar Party
723,Punjab,Patiala(13),lost,1594,( -304022),GURBACHAN SINGH,Independent
724,Punjab,Patiala(13),lost,1569,( -304047),PARAMJIT SINGH S/O BHAGWAN SINGH,Independent
725,Punjab,Patiala(13),lost,1475,( -304141),VISHAL SHARMA,Independent
726,Punjab,Patiala(13),lost,1443,( -304173),LABH SINGH PAL,Independent
727,Punjab,Patiala(13),lost,1228,( -304388),CHAMKILA SINGH,Independent
728,Punjab,Patiala(13),lost,1008,( -304608),KRISHAN KUMAR GABA,Hindustan Shakti Sena
729,Punjab,Patiala(13),lost,973,( -304643),MANDEEP SINGH,Revolutionary Socialist Party
730,Punjab,Patiala(13),lost,907,( -304709),MAKHAN SINGH,Independent
731,Punjab,Patiala(13),lost,850,( -304766),DIMPLE,Independent
732,Punjab,Patiala(13),lost,711,( -304905),BINDER KAUR,Independent
733,Punjab,Patiala(13),lost,674,( -304942),MANOJ KUMAR,Independent
734,Punjab,Patiala(13),,6681,( -298935),NOTA,None of the Above
735,Rajasthan,NAGAUR(14),won,596955,(+ 42225),HANUMAN BENIWAL,Rashtriya Loktantrik Party
736,Rajasthan,NAGAUR(14),lost,554730,( -42225),JYOTI MIRDHA,Bharatiya Janata Party
737,Rajasthan,NAGAUR(14),lost,26294,( -570661),DR ASHOK CHOUDHARY,Abhinav Rajasthan Party
738,Rajasthan,NAGAUR(14),lost,24008,( -572947),DR. GAJENDRA SINGH RATHORE,Bahujan Samaj Party
739,Rajasthan,NAGAUR(14),lost,8232,( -588723),RAJKUMAR JAT,Independent
740,Rajasthan,NAGAUR(14),lost,7626,( -589329),HARI RAM,Independent
741,Rajasthan,NAGAUR(14),lost,4512,( -592443),PREMRAJ KHARDIYA,Independent
742,Rajasthan,NAGAUR(14),lost,4463,( -592492),AMEEN KHAN,Independent
743,Rajasthan,NAGAUR(14),lost,2882,( -594073),HANUMAN SINGH KALVI,Rashtriya Janshakti Party (Secular)
744,Rajasthan,NAGAUR(14),,8771,( -588184),NOTA,None of the Above
745,Rajasthan,SIKAR(5),won,659300,(+ 72896),AMRARAM,Communist Party of India  (Marxist)
746,Rajasthan,SIKAR(5),lost,586404,( -72896),SUMEDHANAND SARASWATI,Bharatiya Janata Party
747,Rajasthan,SIKAR(5),lost,10021,( -649279),SURESH PAREEK,Independent
748,Rajasthan,SIKAR(5),lost,8619,( -650681),AMARCHAND,Bahujan Samaj Party
749,Rajasthan,SIKAR(5),lost,6025,( -653275),RAVINDRA SINGH SHEKHAWAT,Independent
750,Rajasthan,SIKAR(5),lost,5803,( -653497),VISHNU KUMAR NATRAJ,Independent
751,Rajasthan,SIKAR(5),lost,5382,( -653918),ASHOK SEHRA,Ambedkarite Party of India
752,Rajasthan,SIKAR(5),lost,2944,( -656356),DHIRENDRA  VERMA,Ummeed Party of India
753,Rajasthan,SIKAR(5),lost,2056,( -657244),MAHESH KUMAR,Independent
754,Rajasthan,SIKAR(5),lost,1731,( -657569),BENI PRASAD KAUSHIK (LATA),Rashtriya Sawarn Dal
755,Rajasthan,SIKAR(5),lost,1549,( -657751),RAMESH SHARMA,Bhartiya Party
756,Rajasthan,SIKAR(5),lost,1451,( -657849),VIJENDER MAHARIA,Bharatiya Yuva Jan Ekta Party
757,Rajasthan,SIKAR(5),lost,1224,( -658076),OM PRAKASH,Independent
758,Rajasthan,SIKAR(5),lost,1081,( -658219),BIRBALSINGH,Independent
759,Rajasthan,SIKAR(5),,7266,( -652034),NOTA,None of the Above
760,Rajasthan,BARMER(17),won,704676,(+ 118176),UMMEDA RAM BENIWAL,Indian National Congress
761,Rajasthan,BARMER(17),lost,586500,( -118176),RAVINDRA SINGH BHATI,Independent
762,Rajasthan,BARMER(17),lost,286733,( -417943),KAILASH CHOUDHARY,Bharatiya Janata Party
763,Rajasthan,BARMER(17),lost,49957,( -654719),TARARAM MEHNA,Independent
764,Rajasthan,BARMER(17),lost,8318,( -696358),PRATAPA RAM,Independent
765,Rajasthan,BARMER(17),lost,7760,( -696916),HANIPH,Independent
766,Rajasthan,BARMER(17),lost,7585,( -697091),LEELA RAM,Bahujan Samaj Party
767,Rajasthan,BARMER(17),lost,6396,( -698280),PRABHU RAM,Aazad Samaj Party (Kanshi Ram)
768,Rajasthan,BARMER(17),lost,6041,( -698635),RAMA RAM,Independent
769,Rajasthan,BARMER(17),lost,3159,( -701517),POPAT LAL,Independent
770,Rajasthan,BARMER(17),lost,3023,( -701653),DEVILAL JAIN,Independent
771,Rajasthan,BARMER(17),,17903,( -686773),NOTA,None of the Above
772,Rajasthan,JHALAWAR-BARAN(25),won,865376,(+ 370989),DUSHYANT SINGH,Bharatiya Janata Party
773,Rajasthan,JHALAWAR-BARAN(25),lost,494387,( -370989),URMILA JAIN “BHAYA”,Indian National Congress
774,Rajasthan,JHALAWAR-BARAN(25),lost,12285,( -853091),CHANDRA SINGH KIRAD,Bahujan Samaj Party
775,Rajasthan,JHALAWAR-BARAN(25),lost,10274,( -855102),RAVI RAJ SINGH,Independent
776,Rajasthan,JHALAWAR-BARAN(25),lost,9345,( -856031),BHUVANESH KUMAR,Right to Recall Party
777,Rajasthan,JHALAWAR-BARAN(25),lost,7692,( -857684),BABULAL,Independent
778,Rajasthan,JHALAWAR-BARAN(25),lost,5945,( -859431),PANKAJ PAJANTORIVALA,Independent
779,Rajasthan,JHALAWAR-BARAN(25),,16027,( -849349),NOTA,None of the Above
780,Tamil Nadu,TIRUCHIRAPPALLI(24),won,542213,(+ 313094),DURAI VAIKO,Marumalarchi Dravida Munnetra Kazhagam
781,Tamil Nadu,TIRUCHIRAPPALLI(24),lost,229119,( -313094),KARUPPAIAH. P,All India Anna Dravida Munnetra Kazhagam
782,Tamil Nadu,TIRUCHIRAPPALLI(24),lost,107458,( -434755),RAJESSH. T,Naam Tamilar Katchi
783,Tamil Nadu,TIRUCHIRAPPALLI(24),lost,100747,( -441466),SENTHILNATHAN. P,Amma Makkal Munnettra Kazagam
784,Tamil Nadu,TIRUCHIRAPPALLI(24),lost,14796,( -527417),SELVARAJ. S,Independent
785,Tamil Nadu,TIRUCHIRAPPALLI(24),lost,5166,( -537047),DAMODARAN. S,Independent
786,Tamil Nadu,TIRUCHIRAPPALLI(24),lost,4431,( -537782),ALLIMUTHU. M,Bahujan Samaj Party
787,Tamil Nadu,TIRUCHIRAPPALLI(24),lost,3499,( -538714),RAJENDRAN. S,Independent
788,Tamil Nadu,TIRUCHIRAPPALLI(24),lost,2952,( -539261),JEEVANANTHAM. M,Independent
789,Tamil Nadu,TIRUCHIRAPPALLI(24),lost,2646,( -539567),SAKTHIVEL,Anna Puratchi Thalaivar Amma Dravida Munnetra Kazhagam
790,Tamil Nadu,TIRUCHIRAPPALLI(24),lost,2283,( -539930),BACKIYARAJ VELLAISAMY,Naadaalum Makkal Katchi
791,Tamil Nadu,TIRUCHIRAPPALLI(24),lost,2171,( -540042),KARUPPIAH. S,Independent
792,Tamil Nadu,TIRUCHIRAPPALLI(24),lost,2052,( -540161),SATHIS KUMAR. S,Independent
793,Tamil Nadu,TIRUCHIRAPPALLI(24),lost,1736,( -540477),KAVITHA. S,Independent
794,Tamil Nadu,TIRUCHIRAPPALLI(24),lost,1664,( -540549),NAGARAJAN. M,Independent
795,Tamil Nadu,TIRUCHIRAPPALLI(24),lost,1566,( -540647),GOVINDARASU. P,Independent
796,Tamil Nadu,TIRUCHIRAPPALLI(24),lost,1498,( -540715),ANBIN AMUDHAN. R,Independent
797,Tamil Nadu,TIRUCHIRAPPALLI(24),lost,1463,( -540750),DURAIRAJ. A,Independent
798,Tamil Nadu,TIRUCHIRAPPALLI(24),lost,1352,( -540861),SASIKUMAR. P,Independent
799,Tamil Nadu,TIRUCHIRAPPALLI(24),lost,1263,( -540950),PANNEERSELVAM. P,Independent
800,Tamil Nadu,TIRUCHIRAPPALLI(24),lost,1202,( -541011),DURAI. S,Independent
801,Tamil Nadu,TIRUCHIRAPPALLI(24),lost,1178,( -541035),ANAND SELVARAJ,Independent
802,Tamil Nadu,TIRUCHIRAPPALLI(24),lost,1166,( -541047),SANKAR. R,Independent
803,Tamil Nadu,TIRUCHIRAPPALLI(24),lost,978,( -541235),AMBIVENKATESAN,Independent
804,Tamil Nadu,TIRUCHIRAPPALLI(24),lost,880,( -541333),DURAI. T,Independent
805,Tamil Nadu,TIRUCHIRAPPALLI(24),lost,834,( -541379),SATHYAMURTHY. T,Independent
806,Tamil Nadu,TIRUCHIRAPPALLI(24),lost,802,( -541411),VIJAYAKUMAR. P,Independent
807,Tamil Nadu,TIRUCHIRAPPALLI(24),lost,777,( -541436),ROJA RAMANI. S,Anna MGR Dravida Makkal Kalgam
808,Tamil Nadu,TIRUCHIRAPPALLI(24),lost,774,( -541439),PERIYASAMY. V,Independent
809,Tamil Nadu,TIRUCHIRAPPALLI(24),lost,747,( -541466),AKILA. M,Independent
810,Tamil Nadu,TIRUCHIRAPPALLI(24),lost,675,( -541538),RAJENDRAN. P,Independent
811,Tamil Nadu,TIRUCHIRAPPALLI(24),lost,608,( -541605),MANIKANDARAJ. S,Independent
812,Tamil Nadu,TIRUCHIRAPPALLI(24),lost,497,( -541716),MURUGESAN. P,Independent
813,Tamil Nadu,TIRUCHIRAPPALLI(24),lost,491,( -541722),JOSEPH. L,Samaniya Makkal Nala Katchi
814,Tamil Nadu,TIRUCHIRAPPALLI(24),lost,431,( -541782),MUTHURAJA. T,Independent
815,Tamil Nadu,TIRUCHIRAPPALLI(24),,13849,( -528364),NOTA,None of the Above
816,Tamil Nadu,MADURAI(32),won,430323,(+ 209409),VENKATESAN S,Communist Party of India  (Marxist)
817,Tamil Nadu,MADURAI(32),lost,220914,( -209409),RAAMA SREENIVASAN,Bharatiya Janata Party
818,Tamil Nadu,MADURAI(32),lost,204804,( -225519),SARAVANAN P,All India Anna Dravida Munnetra Kazhagam
819,Tamil Nadu,MADURAI(32),lost,92879,( -337444),SATHYADEVI T,Naam Tamilar Katchi
820,Tamil Nadu,MADURAI(32),lost,6009,( -424314),VELMURUGAN A,Bharatiya Praja Aikyata Party
821,Tamil Nadu,MADURAI(32),lost,2506,( -427817),RAMAR PANDI T,Bahujan Samaj Party
822,Tamil Nadu,MADURAI(32),lost,2505,( -427818),VENKATESAN M,Independent
823,Tamil Nadu,MADURAI(32),lost,2349,( -427974),SHANMUGA SUNDARAM A,United Republican Party of India
824,Tamil Nadu,MADURAI(32),lost,1968,( -428355),PERIYASAMY K,Independent
825,Tamil Nadu,MADURAI(32),lost,1562,( -428761),PANDIYAN S,Bahujan Dravida Party
826,Tamil Nadu,MADURAI(32),lost,1213,( -429110),BOOMINATHAN C,Independent
827,Tamil Nadu,MADURAI(32),lost,1207,( -429116),MUTHUPANDI S,Independent
828,Tamil Nadu,MADURAI(32),lost,1194,( -429129),RAMANATHAN S,Independent
829,Tamil Nadu,MADURAI(32),lost,1046,( -429277),VENKATESH S,Independent
830,Tamil Nadu,MADURAI(32),lost,1029,( -429294),SANKARAPANDI M.P.,Independent
831,Tamil Nadu,MADURAI(32),lost,946,( -429377),GOPISON M.M.,Independent
832,Tamil Nadu,MADURAI(32),lost,844,( -429479),SARAVANAN K.K.,Independent
833,Tamil Nadu,MADURAI(32),lost,746,( -429577),GOPALAKRISHNAN S,Independent
834,Tamil Nadu,MADURAI(32),lost,711,( -429612),CHANDRASEKAR N,Independent
835,Tamil Nadu,MADURAI(32),lost,578,( -429745),PANDIYAN P,Socialist Unity Centre Of India (COMMUNIST)
836,Tamil Nadu,MADURAI(32),lost,462,( -429861),AVADAINATHAN V,Independent
837,Tamil Nadu,MADURAI(32),,11174,( -419149),NOTA,None of the Above
838,Tamil Nadu,DINDIGUL(22),won,670149,(+ 443821),SACHITHANANTHAM R,Communist Party of India  (Marxist)
839,Tamil Nadu,DINDIGUL(22),lost,226328,( -443821),MOHAMED MUBARAK M A,All India Anna Dravida Munnetra Kazhagam
840,Tamil Nadu,DINDIGUL(22),lost,112503,( -557646),THILGABAMA M,Pattali Makkal Katchi
841,Tamil Nadu,DINDIGUL(22),lost,97845,( -572304),KAILAI RAJAN D,Naam Tamilar Katchi
842,Tamil Nadu,DINDIGUL(22),lost,4416,( -665733),RAJKUMAR R,Independent
843,Tamil Nadu,DINDIGUL(22),lost,4284,( -665865),NATCHIMUTHU S,Bahujan Samaj Party
844,Tamil Nadu,DINDIGUL(22),lost,2434,( -667715),DINESHKUMAR S,All India Youth Development Party
845,Tamil Nadu,DINDIGUL(22),lost,2008,( -668141),MURUGESAN (A) VISHNU MURUGESAN C,Independent
846,Tamil Nadu,DINDIGUL(22),lost,1290,( -668859),ANGUCHAMY M,Independent
847,Tamil Nadu,DINDIGUL(22),lost,1257,( -668892),SURESH K,Independent
848,Tamil Nadu,DINDIGUL(22),lost,1089,( -669060),ARUMUGAM R,Independent
849,Tamil Nadu,DINDIGUL(22),lost,1012,( -669137),ANBUROSE D,Independent
850,Tamil Nadu,DINDIGUL(22),lost,1011,( -669138),SABARINATH S,Independent
851,Tamil Nadu,DINDIGUL(22),lost,949,( -669200),PALANISAMY K,Independent
852,Tamil Nadu,DINDIGUL(22),lost,926,( -669223),SATHISH KANNA G T,Independent
853,Tamil Nadu,DINDIGUL(22),,22120,( -648029),NOTA,None of the Above
854,Rajasthan,KOTA(24),won,750496,(+ 41974),OM BIRLA,Bharatiya Janata Party
855,Rajasthan,KOTA(24),lost,708522,( -41974),PRAHLAD GUNJAL,Indian National Congress
856,Rajasthan,KOTA(24),lost,7575,( -742921),DHANRAJ YADAV,Bahujan Samaj Party
857,Rajasthan,KOTA(24),lost,5775,( -744721),ASHISH YOGI,Ekam Sanatan Bharat Dal
858,Rajasthan,KOTA(24),lost,3892,( -746604),LAKSHMICHAND,Independent
859,Rajasthan,KOTA(24),lost,2521,( -747975),SATYENDRA KUMAR JAIN,Independent
860,Rajasthan,KOTA(24),lost,2422,( -748074),RAMNATH MEHRA,Independent
861,Rajasthan,KOTA(24),lost,1860,( -748636),MOINUDDIN,Independent
862,Rajasthan,KOTA(24),lost,1131,( -749365),BHANWAR KUMAR RAWAL,Independent
863,Rajasthan,KOTA(24),lost,1069,( -749427),BALDEV SINGH FOJI,Bharatheeya Jawan Kisan Party
864,Rajasthan,KOTA(24),lost,1014,( -749482),KAMAL KUMAR BAIRWA,Independent
865,Rajasthan,KOTA(24),lost,1000,( -749496),TARUN GOCHAR,Right to Recall Party
866,Rajasthan,KOTA(24),lost,994,( -749502),KAILASHI ANIL JAIN,Independent
867,Rajasthan,KOTA(24),lost,865,( -749631),ABDUL ASIF,Independent
868,Rajasthan,KOTA(24),lost,760,( -749736),OM PRAKASH SHAKYAWAL,Independent
869,Rajasthan,KOTA(24),,10261,( -740235),NOTA,None of the Above
870,Rajasthan,BHILWARA(23),won,807640,(+ 354606),DAMODAR AGARWAL,Bharatiya Janata Party
871,Rajasthan,BHILWARA(23),lost,453034,( -354606),C P JOSHI,Indian National Congress
872,Rajasthan,BHILWARA(23),lost,8283,( -799357),RAMESHWAR LAL BAIRWA,Bahujan Samaj Party
873,Rajasthan,BHILWARA(23),lost,8018,( -799622),RAJESH PATNI,Independent
874,Rajasthan,BHILWARA(23),lost,4084,( -803556),JAYKISHAN,Viro Ke Vir Indian Party
875,Rajasthan,BHILWARA(23),lost,3887,( -803753),MOTILAL SINGHANIA,Independent
876,Rajasthan,BHILWARA(23),lost,1684,( -805956),NARAYAN LAL JAT,Independent
877,Rajasthan,BHILWARA(23),lost,1617,( -806023),PAWAN KUMAR SHARMA,Right to Recall Party
878,Rajasthan,BHILWARA(23),lost,1425,( -806215),ANURAG AROT,Independent
879,Rajasthan,BHILWARA(23),lost,1347,( -806293),VIJAY KUMAR SONI,Bhartiya Garib Vikas Kalyan Party
880,Rajasthan,BHILWARA(23),,13376,( -794264),NOTA,None of the Above
881,Rajasthan,RAJSAMAND(22),won,781203,(+ 392223),MAHIMA KUMARI MEWAR,Bharatiya Janata Party
882,Rajasthan,RAJSAMAND(22),lost,388980,( -392223),DR. DAMODAR GURJAR,Indian National Congress
883,Rajasthan,RAJSAMAND(22),lost,9135,( -772068),RAMAKISHAN BHADU,Bahujan Samaj Party
884,Rajasthan,RAJSAMAND(22),lost,7831,( -773372),NEERU RAM KAPRI,Independent
885,Rajasthan,RAJSAMAND(22),lost,4053,( -777150),DHARAM SINGH RAWAT,Independent
886,Rajasthan,RAJSAMAND(22),lost,3374,( -777829),NARAYAN SONI,Independent
887,Rajasthan,RAJSAMAND(22),lost,1940,( -779263),GHANSHYAM SINGH,Bhartiya Jan Adhikar Party
888,Rajasthan,RAJSAMAND(22),lost,1815,( -779388),JITENDRA KUMAR KHATIK,Independent
889,Rajasthan,RAJSAMAND(22),lost,1244,( -779959),DR. ARPIT CHHAJER,Independent
890,Rajasthan,RAJSAMAND(22),lost,1144,( -780059),PRAMOD KUMAR VERMA,Bheem Tribal Congress
891,Rajasthan,RAJSAMAND(22),,12411,( -768792),NOTA,None of the Above
892,Rajasthan,CHITTORGARH(21),won,888202,(+ 389877),CHANDRA PRAKASH JOSHI,Bharatiya Janata Party
893,Rajasthan,CHITTORGARH(21),lost,498325,( -389877),ANJANA UDAILAL,Indian National Congress
894,Rajasthan,CHITTORGARH(21),lost,42811,( -845391),BHIL ADIVASI MANGILAL NANAMA,Bharat Adivasi Party
895,Rajasthan,CHITTORGARH(21),lost,9539,( -878663),RAMESHWAR LAL BAIRWA (INDORA),Independent
896,Rajasthan,CHITTORGARH(21),lost,8842,( -879360),KUMAWAT RAMESH CHANDRA,Independent
897,Rajasthan,CHITTORGARH(21),lost,8613,( -879589),MEGHWAL RADHESHYAM,Bahujan Samaj Party
898,Rajasthan,CHITTORGARH(21),lost,7907,( -880295),SHYAM LAL MEGHWAL,Independent
899,Rajasthan,CHITTORGARH(21),lost,7846,( -880356),BAPU LAL ANJANA,Independent
900,Rajasthan,CHITTORGARH(21),lost,3925,( -884277),PRAKASH DHAKAR,Ekam Sanatan Bharat Dal
901,Rajasthan,CHITTORGARH(21),lost,3347,( -884855),PRATAP SINGH,Independent
902,Rajasthan,CHITTORGARH(21),lost,2777,( -885425),AZAD PRAKASH CHANDRA MEGHWAL,Akhil Bharatiya Congress Dal (Ambedkar)
903,Rajasthan,CHITTORGARH(21),lost,2302,( -885900),JOGENDRA SINGH HODA,Independent
904,Rajasthan,CHITTORGARH(21),lost,1644,( -886558),GAJENDRA,Independent
905,Rajasthan,CHITTORGARH(21),lost,1562,( -886640),KALYAN SINGH BHATI,Independent
906,Rajasthan,CHITTORGARH(21),lost,1549,( -886653),MAHAVIR PRASAD KUMAWAT,Right to Recall Party
907,Rajasthan,CHITTORGARH(21),lost,1498,( -886704),KAMAL,Independent
908,Rajasthan,CHITTORGARH(21),lost,1228,( -886974),MOHAMMAD WAHID KHAN,Pehchan People’s Party
909,Rajasthan,CHITTORGARH(21),lost,1226,( -886976),SITA RAM AHIR,Vishva Shakti Party
910,Rajasthan,CHITTORGARH(21),,5590,( -882612),NOTA,None of the Above
911,Rajasthan,UDAIPUR (19),won,738286,(+ 261608),MANNA LAL RAWAT,Bharatiya Janata Party
912,Rajasthan,UDAIPUR (19),lost,476678,( -261608),TARACHAND MEENA,Indian National Congress
913,Rajasthan,UDAIPUR (19),lost,217138,( -521148),PRAKASH CHAND,Bharat Adivasi Party
914,Rajasthan,UDAIPUR (19),lost,14460,( -723826),DALPAT RAM GARASIA,Bahujan Samaj Party
915,Rajasthan,UDAIPUR (19),lost,8162,( -730124),DR. SAVITA KUMARI AHARI,Independent
916,Rajasthan,UDAIPUR (19),lost,7996,( -730290),PRABHULAL MEENA,Independent
917,Rajasthan,UDAIPUR (19),lost,6777,( -731509),RAJENDRA KUMAR MEENA,Indian Peoples Green Party
918,Rajasthan,UDAIPUR (19),lost,5931,( -732355),KANJI LAL DAMOR,Independent
919,Rajasthan,UDAIPUR (19),,22948,( -715338),NOTA,None of the Above
920,Rajasthan,JALORE (18),won,796783,(+ 201543),LUMBARAM,Bharatiya Janata Party
921,Rajasthan,JALORE (18),lost,595240,( -201543),VAIBHAV GEHLOT,Indian National Congress
922,Rajasthan,JALORE (18),lost,10109,( -786674),OTARAM,Bharat Adivasi Party
923,Rajasthan,JALORE (18),lost,9872,( -786911),SHAKUR,Independent
924,Rajasthan,JALORE (18),lost,4586,( -792197),MOTI LAL,Aazad Samaj Party (Kanshi Ram)
925,Rajasthan,JALORE (18),lost,3910,( -792873),RAMESH KUMAR BHANDARI,Independent
926,Rajasthan,JALORE (18),lost,3134,( -793649),DEVARAM,Independent
927,Rajasthan,JALORE (18),lost,2263,( -794520),KALURAM MEGHWAL,Independent
928,Rajasthan,JALORE (18),lost,2105,( -794678),DINESH SINGH,Independent
929,Rajasthan,JALORE (18),lost,1660,( -795123),TIKMA RAM BHATI,Bheem Tribal Congress
930,Rajasthan,JALORE (18),lost,1508,( -795275),DALARAM,Independent
931,Rajasthan,JALORE (18),lost,1497,( -795286),FOJARAM,Indian Peoples Green Party
932,Rajasthan,JALORE (18),,18459,( -778324),NOTA,None of the Above
933,Rajasthan,JODHPUR(16),won,730056,(+ 115677),GAJENDRA SINGH SHEKHAWAT,Bharatiya Janata Party
934,Rajasthan,JODHPUR(16),lost,614379,( -115677),KARAN SINGH UCHIYARDA,Indian National Congress
935,Rajasthan,JODHPUR(16),lost,7429,( -722627),SUNIL KUMAR PAREEK,Independent
936,Rajasthan,JODHPUR(16),lost,6395,( -723661),MANJU MEGHWAL,Bahujan Samaj Party
937,Rajasthan,JODHPUR(16),lost,3680,( -726376),ANANDARAM URF ANAND CHAUHAN,Aazad Samaj Party (Kanshi Ram)
938,Rajasthan,JODHPUR(16),lost,3238,( -726818),SUNIL BHANDARI,Independent
939,Rajasthan,JODHPUR(16),lost,1750,( -728306),VISHEK VISHNOI,Independent
940,Rajasthan,JODHPUR(16),lost,1195,( -728861),SHIVA RAM,Independent
941,Rajasthan,JODHPUR(16),lost,1125,( -728931),LIKHAMA RAM,Independent
942,Rajasthan,JODHPUR(16),lost,1027,( -729029),NARESH KANDARA,Independent
943,Rajasthan,JODHPUR(16),lost,782,( -729274),SATYANARAYAN,Bharatiya Sampuran Krantikari Party
944,Rajasthan,JODHPUR(16),lost,654,( -729402),PAPPU DAN,Right to Recall Party
945,Rajasthan,JODHPUR(16),lost,547,( -729509),SHAHNAZ BANO,Dalit Kranti Dal
946,Rajasthan,JODHPUR(16),lost,503,( -729553),RAM DAYAL BISHNOI,Rashtriya Janshakti Party (Secular)
947,Rajasthan,JODHPUR(16),lost,487,( -729569),BHOM SINGH,Indian Peoples Green Party
948,Rajasthan,JODHPUR(16),,10591,( -719465),NOTA,None of the Above
949,Rajasthan,PALI(15),won,757389,(+ 245351),P. P. CHAUDHARY,Bharatiya Janata Party
950,Rajasthan,PALI(15),lost,512038,( -245351),SANGEETA BENIWAL,Indian National Congress
951,Rajasthan,PALI(15),lost,19002,( -738387),LAL SINGH DEWASI,Independent
952,Rajasthan,PALI(15),lost,17097,( -740292),HUKAM SINGH,Independent
953,Rajasthan,PALI(15),lost,11101,( -746288),MAHENDRA REGAR,Bahujan Samaj Party
954,Rajasthan,PALI(15),lost,8347,( -749042),JEEVARAM RANA,Bharat Adivasi Party
955,Rajasthan,PALI(15),lost,5593,( -751796),SHRAWAN RAM DEWASI,Independent
956,Rajasthan,PALI(15),lost,2523,( -754866),MUKESH SAINI,Independent
957,Rajasthan,PALI(15),lost,1586,( -755803),BASTIRAM,Indian Peoples Green Party
958,Rajasthan,PALI(15),lost,1345,( -756044),BHIYARAM,Independent
959,Rajasthan,PALI(15),lost,1345,( -756044),KESARAM,Independent
960,Rajasthan,PALI(15),lost,1335,( -756054),ANAND KUMAR PARIHAR,Independent
961,Rajasthan,PALI(15),lost,1288,( -756101),DEEPAK BAMNIYA,Independent
962,Rajasthan,PALI(15),,13853,( -743536),NOTA,None of the Above
963,Rajasthan,AJMER (13),won,747462,(+ 329991),BHAGIRATH CHOUDHARY,Bharatiya Janata Party
964,Rajasthan,AJMER (13),lost,417471,( -329991),RAMCHANDRA CHOUDHARY,Indian National Congress
965,Rajasthan,AJMER (13),lost,4944,( -742518),RAMDEV,Bahujan Samaj Party
966,Rajasthan,AJMER (13),lost,4373,( -743089),SURENDRA SINGH RANAVAT,Independent
967,Rajasthan,AJMER (13),lost,3196,( -744266),MUKESH GENA,Bharatiya Yuva Jan Ekta Party
968,Rajasthan,AJMER (13),lost,2633,( -744829),JITENDRA BOYAT,Aazad Samaj Party (Kanshi Ram)
969,Rajasthan,AJMER (13),lost,2420,( -745042),SATYANARAYAN MALI,Independent
970,Rajasthan,AJMER (13),lost,1524,( -745938),VISHRAM BABU,Independent
971,Rajasthan,AJMER (13),lost,1197,( -746265),SHABUDADIN,National Future Party
972,Rajasthan,AJMER (13),lost,1155,( -746307),PREM LATA,Independent
973,Rajasthan,AJMER (13),lost,1000,( -746462),YUSUF,Independent
974,Rajasthan,AJMER (13),lost,938,( -746524),BHAWARLAL SONI,Independent
975,Rajasthan,AJMER (13),lost,818,( -746644),RAMLAL,Akhil Bhartiya Aamjan Party
976,Rajasthan,AJMER (13),lost,646,( -746816),DAYA MOHAN GARG,Independent
977,Rajasthan,AJMER (13),,11402,( -736060),NOTA,None of the Above
978,Rajasthan,ALWAR(8),won,631992,(+ 48282),BHUPENDER YADAV,Bharatiya Janata Party
979,Rajasthan,ALWAR(8),lost,583710,( -48282),LALIT YADAV,Indian National Congress
980,Rajasthan,ALWAR(8),lost,19287,( -612705),FAZAL HUSSAIN,Bahujan Samaj Party
981,Rajasthan,ALWAR(8),lost,4362,( -627630),PARDEEP KUMAR,Sarv Samaj Party
982,Rajasthan,ALWAR(8),lost,2438,( -629554),VIVEK JAIN,Independent
983,Rajasthan,ALWAR(8),lost,2232,( -629760),RAMBABU SHARMA,Independent
984,Rajasthan,ALWAR(8),lost,1389,( -630603),AMIT GUPTA,Independent
985,Rajasthan,ALWAR(8),lost,1327,( -630665),CHHAGAN LAL,Independent
986,Rajasthan,ALWAR(8),lost,879,( -631113),VISHVNATH KHINCHI,Hindustan Janta Party
987,Rajasthan,ALWAR(8),,5822,( -626170),NOTA,None of the Above
988,Rajasthan,JAIPUR(7),won,886850,(+ 331767),MANJU SHARMA,Bharatiya Janata Party
989,Rajasthan,JAIPUR(7),lost,555083,( -331767),PRATAP SINGH KHACHARIYAWAS,Indian National Congress
990,Rajasthan,JAIPUR(7),lost,3461,( -883389),RAJESH TANWAR,Bahujan Samaj Party
991,Rajasthan,JAIPUR(7),lost,2202,( -884648),HARI NARAYAN MEENA,Independent
992,Rajasthan,JAIPUR(7),lost,970,( -885880),RAJEEV ROLIWAL,Independent
993,Rajasthan,JAIPUR(7),lost,816,( -886034),YOGESH SHARMA,Independent
994,Rajasthan,JAIPUR(7),lost,669,( -886181),NARENDER SHARMA,Rashtriya Sanatan Party
995,Rajasthan,JAIPUR(7),lost,615,( -886235),KULDEEP SINGH,Socialist Unity Centre Of India (COMMUNIST)
996,Rajasthan,JAIPUR(7),lost,572,( -886278),DR. ASEEM VERMA,Independent
997,Rajasthan,JAIPUR(7),lost,448,( -886402),PRADEEP VERMA,Indian Peoples Green Party
998,Rajasthan,JAIPUR(7),lost,400,( -886450),ADVOCATE HARI KISHAN TIWARI,Bheem Tribal Congress
999,Rajasthan,JAIPUR(7),lost,393,( -886457),SHASHANK SINGH ARYA,Right to Recall Party
1000,Rajasthan,JAIPUR(7),lost,351,( -886499),TRILOK TIWARI,Rashtriya Samta Vikas Party
1001,Rajasthan,JAIPUR(7),,10428,( -876422),NOTA,None of the Above
1002,Rajasthan,JAIPUR RURAL(6),won,617877,(+ 1615),RAO RAJENDRA SINGH,Bharatiya Janata Party
1003,Rajasthan,JAIPUR RURAL(6),lost,616262,( -1615),ANIL CHOPRA,Indian National Congress
1004,Rajasthan,JAIPUR RURAL(6),lost,3850,( -614027),HANUMAN SAHAY,Bahujan Samaj Party
1005,Rajasthan,JAIPUR RURAL(6),lost,3707,( -614170),RAMSINGH KASANA,Independent
1006,Rajasthan,JAIPUR RURAL(6),lost,2681,( -615196),DR DASHRATH HINUNIA,Ambedkarite Party of India
1007,Rajasthan,JAIPUR RURAL(6),lost,1711,( -616166),KAHANVI BOHRA,Independent
1008,Rajasthan,JAIPUR RURAL(6),lost,1604,( -616273),DR RAM ROOP MEENA ADVOCATE,Independent
1009,Rajasthan,JAIPUR RURAL(6),lost,1407,( -616470),NEHA SINGH GURJAR,Independent
1010,Rajasthan,JAIPUR RURAL(6),lost,1040,( -616837),PRAKASH KUMAR SHARMA,Independent
1011,Rajasthan,JAIPUR RURAL(6),lost,948,( -616929),AJAY BHAT,Republican Party of India (A)
1012,Rajasthan,JAIPUR RURAL(6),lost,941,( -616936),DEVHANS,Independent
1013,Rajasthan,JAIPUR RURAL(6),lost,734,( -617143),DR OM SINGH MEENA SEHARA,Independent
1014,Rajasthan,JAIPUR RURAL(6),lost,666,( -617211),ADITYA PRAKASH SHARMA,Right to Recall Party
1015,Rajasthan,JAIPUR RURAL(6),lost,562,( -617315),YOGI JEETENDRA NATH ADVOCATE,Rashtriya Sawarn Dal
1016,Rajasthan,JAIPUR RURAL(6),lost,545,( -617332),ADVOCATE HARI KISHAN TIWARI,Bheem Tribal Congress
1017,Rajasthan,JAIPUR RURAL(6),,7519,( -610358),NOTA,None of the Above
1018,Rajasthan,BIKANER (2),won,566737,(+ 55711),ARJUN RAM MEGHWAL,Bharatiya Janata Party
1019,Rajasthan,BIKANER (2),lost,511026,( -55711),GOVINDRAM MEGHWAL,Indian National Congress
1020,Rajasthan,BIKANER (2),lost,8299,( -558438),KHETA RAM,Bahujan Samaj Party
1021,Rajasthan,BIKANER (2),lost,6281,( -560456),ATMA RAM GUJARATI,Independent
1022,Rajasthan,BIKANER (2),lost,3926,( -562811),RATANI DEVI,Independent
1023,Rajasthan,BIKANER (2),lost,2966,( -563771),SATYANARAYAN DEVRA,Independent
1024,Rajasthan,BIKANER (2),lost,2675,( -564062),PUKHRAJ NAYAK,Independent
1025,Rajasthan,BIKANER (2),lost,2019,( -564718),BABU LAL,Independent
1026,Rajasthan,BIKANER (2),lost,1795,( -564942),GOPI CHAND MEGHWAL,Independent
1027,Rajasthan,BIKANER (2),,12558,( -554179),NOTA,None of the Above
1028,Rajasthan,TONK-SAWAI MADHOPUR (12),won,623763,(+ 64949),HARISH CHANDRA MEENA,Indian National Congress
1029,Rajasthan,TONK-SAWAI MADHOPUR (12),lost,558814,( -64949),SUKHBIR SINGH JAUNAPURIA,Bharatiya Janata Party
1030,Rajasthan,TONK-SAWAI MADHOPUR (12),lost,13144,( -610619),PRAHALAD MALI,Bahujan Samaj Party
1031,Rajasthan,TONK-SAWAI MADHOPUR (12),lost,7433,( -616330),GANESH MEENA,Indian Peoples Green Party
1032,Rajasthan,TONK-SAWAI MADHOPUR (12),lost,3324,( -620439),MAKHAN LAL MEENA,Independent
1033,Rajasthan,TONK-SAWAI MADHOPUR (12),lost,3045,( -620718),JASRAM MEENA,Independent
1034,Rajasthan,TONK-SAWAI MADHOPUR (12),lost,2697,( -621066),VIJENDRA,Aazad Samaj Party (Kanshi Ram)
1035,Rajasthan,TONK-SAWAI MADHOPUR (12),lost,2521,( -621242),GIRRAJ PRASAD MEENA,Independent
1036,Rajasthan,TONK-SAWAI MADHOPUR (12),lost,1373,( -622390),JAGDISH PRASAD MEENA,Bharat Adivasi Party
1037,Rajasthan,TONK-SAWAI MADHOPUR (12),lost,1264,( -622499),DULI CHAND SAINI,Rajasthan Raj Party
1038,Rajasthan,TONK-SAWAI MADHOPUR (12),lost,1029,( -622734),JAGDISH PRASAD SHARMA,Bheem Tribal Congress
1039,Rajasthan,TONK-SAWAI MADHOPUR (12),,8177,( -615586),NOTA,None of the Above
1040,Rajasthan,DAUSA (11),won,646266,(+ 237340),MURARI LAL MEENA,Indian National Congress
1041,Rajasthan,DAUSA (11),lost,408926,( -237340),KANHAIYA LAL MEENA,Bharatiya Janata Party
1042,Rajasthan,DAUSA (11),lost,6797,( -639469),SONU DHANKA,Bahujan Samaj Party
1043,Rajasthan,DAUSA (11),lost,2721,( -643545),"DR. RAM ROOP MEENA, ADVOCATE",Independent
1044,Rajasthan,DAUSA (11),lost,2178,( -644088),MOHAN LAL MEENA,Independent
1045,Rajasthan,DAUSA (11),,5846,( -640420),NOTA,None of the Above
1046,Rajasthan,KARAULI-DHOLPUR (10),won,530011,(+ 98945),BHAJAN LAL JATAV,Indian National Congress
1047,Rajasthan,KARAULI-DHOLPUR (10),lost,431066,( -98945),INDU DEVI,Bharatiya Janata Party
1048,Rajasthan,KARAULI-DHOLPUR (10),lost,14112,( -515899),VIKRAM SINGH,Bahujan Samaj Party
1049,Rajasthan,KARAULI-DHOLPUR (10),lost,5473,( -524538),RAMKHILADI DHOVI,Independent
1050,Rajasthan,KARAULI-DHOLPUR (10),,7460,( -522551),NOTA,None of the Above
1051,Rajasthan,BHARATPUR (9),won,579890,(+ 51983),SANJNA JATAV,Indian National Congress
1052,Rajasthan,BHARATPUR (9),lost,527907,( -51983),RAMSWAROOP KOLI,Bharatiya Janata Party
1053,Rajasthan,BHARATPUR (9),lost,9508,( -570382),ANJILA JATAV,Bahujan Samaj Party
1054,Rajasthan,BHARATPUR (9),lost,5119,( -574771),ANEETA,Independent
1055,Rajasthan,BHARATPUR (9),lost,2747,( -577143),PURUSHOTTAM LAL,Independent
1056,Rajasthan,BHARATPUR (9),lost,2386,( -577504),PUSHPENDAR KUMAR,Independent
1057,Rajasthan,BHARATPUR (9),,5443,( -574447),NOTA,None of the Above
1058,Rajasthan,JHUNJHUNU     (4),won,553168,(+ 18235),BRIJENDRA SINGH OLA,Indian National Congress
1059,Rajasthan,JHUNJHUNU     (4),lost,534933,( -18235),SHUBHKARAN CHOUDHARY,Bharatiya Janata Party
1060,Rajasthan,JHUNJHUNU     (4),lost,7690,( -545478),SHEKHAWAT RAJENDRA SINGH,Independent
1061,Rajasthan,JHUNJHUNU     (4),lost,6867,( -546301),BANSHIDHAR,Bahujan Samaj Party
1062,Rajasthan,JHUNJHUNU     (4),lost,5497,( -547671),DURGA PRASAD MEENA,Ambedkarite Party of India
1063,Rajasthan,JHUNJHUNU     (4),lost,2050,( -551118),ALTIF,Independent
1064,Rajasthan,JHUNJHUNU     (4),lost,1150,( -552018),SATYANARAYAN,Bheem Tribal Congress
1065,Rajasthan,JHUNJHUNU     (4),lost,940,( -552228),HAZARI LAL,Bahujan Kranti Party (Marxwad-Ambedkarwad)
1066,Rajasthan,JHUNJHUNU     (4),,6632,( -546536),NOTA,None of the Above
1067,Rajasthan,CHURU(3),won,728211,(+ 72737),RAHUL KASWAN,Indian National Congress
1068,Rajasthan,CHURU(3),lost,655474,( -72737),DEVENDRA JHAJHARIA,Bharatiya Janata Party
1069,Rajasthan,CHURU(3),lost,11271,( -716940),DEIRAM MEGHWAL,Bahujan Samaj Party
1070,Rajasthan,CHURU(3),lost,5724,( -722487),RAMESH KUMAR,Independent
1071,Rajasthan,CHURU(3),lost,4961,( -723250),GOMATI DHARAMPAL KATARIA,Bharat Rakshak Party (Democratic)
1072,Rajasthan,CHURU(3),lost,4559,( -723652),SUKHDEV,Independent
1073,Rajasthan,CHURU(3),lost,1812,( -726399),RANVEER SINGH,Independent
1074,Rajasthan,CHURU(3),lost,1644,( -726567),BISAN SINGH,Independent
1075,Rajasthan,CHURU(3),lost,1230,( -726981),YUSUF ALI KHAN,Independent
1076,Rajasthan,CHURU(3),lost,1193,( -727018),DAULAT RAM PENSIA,National Janmandal Party
1077,Rajasthan,CHURU(3),lost,675,( -727536),SHISHPAL SINGH RANA,Bheem Tribal Congress
1078,Rajasthan,CHURU(3),lost,668,( -727543),NIRANJAN SINGH RATHORE,Independent
1079,Rajasthan,CHURU(3),lost,567,( -727644),ASLAM LILGAR,Independent
1080,Rajasthan,CHURU(3),,6656,( -721555),NOTA,None of the Above
1081,Rajasthan,GANGANAGAR (1),won,726492,(+ 88153),KULDEEP INDORA,Indian National Congress
1082,Rajasthan,GANGANAGAR (1),lost,638339,( -88153),PRIYANKA BALAN MEGHWAL,Bharatiya Janata Party
1083,Rajasthan,GANGANAGAR (1),lost,16302,( -710190),DEVKARAN NAYAK,Bahujan Samaj Party
1084,Rajasthan,GANGANAGAR (1),lost,4375,( -722117),RAJKUMAR,Independent
1085,Rajasthan,GANGANAGAR (1),lost,4362,( -722130),KULWANT KAUR,Indian Peoples Green Party
1086,Rajasthan,GANGANAGAR (1),lost,3719,( -722773),DAYA RAM,Independent
1087,Rajasthan,GANGANAGAR (1),lost,2443,( -724049),RAJENDER KUMAR,Bhartiya Jan Samman Party
1088,Rajasthan,GANGANAGAR (1),lost,2266,( -724226),KANA RAM,Independent
1089,Rajasthan,GANGANAGAR (1),lost,2101,( -724391),MAJOR SINGH,Jai Hind Congress Party
1090,Rajasthan,GANGANAGAR (1),,13095,( -713397),NOTA,None of the Above
1091,Punjab,Firozpur(10),won,266626,(+ 3242),SHER SINGH GHUBAYA,Indian National Congress
1092,Punjab,Firozpur(10),lost,263384,( -3242),JAGDEEP SINGH KAKA BRAR,Aam Aadmi Party
1093,Punjab,Firozpur(10),lost,255097,( -11529),GURMIT SINGH SODHI,Bharatiya Janata Party
1094,Punjab,Firozpur(10),lost,253645,( -12981),NARDEV SINGH BOBBY MANN,Shiromani Akali Dal
1095,Punjab,Firozpur(10),lost,15941,( -250685),GURCHARAN SINGH BHULLAR,Shiromani Akali Dal (Amritsar)(Simranjit Singh Mann)
1096,Punjab,Firozpur(10),lost,9478,( -257148),FOJI ANGREJ SINGH WARWAL,Independent
1097,Punjab,Firozpur(10),lost,8433,( -258193),SURINDER KAMBOJ,Bahujan Samaj Party
1098,Punjab,Firozpur(10),lost,6535,( -260091),JASKARAN SINGH KAHAN SINGH WALA,Independent
1099,Punjab,Firozpur(10),lost,4599,( -262027),SUKHDEV SINGH,Independent
1100,Punjab,Firozpur(10),lost,3724,( -262902),SAHIL MONGA,Independent
1101,Punjab,Firozpur(10),lost,3031,( -263595),PRITAM SINGH,Independent
1102,Punjab,Firozpur(10),lost,2897,( -263729),GURPREET SINGH,Independent
1103,Punjab,Firozpur(10),lost,2570,( -264056),ARWINDER SINGH,Independent
1104,Punjab,Firozpur(10),lost,2436,( -264190),DEEPAK KUMAR DEEP DASHANAND,Independent
1105,Punjab,Firozpur(10),lost,2432,( -264194),RAJ,Independent
1106,Punjab,Firozpur(10),lost,1947,( -264679),PREM CHAND BOONGI,Punjab National Party
1107,Punjab,Firozpur(10),lost,1615,( -265011),AJIT SINGH,Rashtriya Republican Party
1108,Punjab,Firozpur(10),lost,1540,( -265086),SURINDER KUMAR BANSAL,Independent
1109,Punjab,Firozpur(10),lost,1538,( -265088),HARPREET SINGH,Independent
1110,Punjab,Firozpur(10),lost,1490,( -265136),KULDEEP SINGH,India Praja Bandhu Party
1111,Punjab,Firozpur(10),lost,1367,( -265259),BALWINDER SINGH CHOHAN,Jan Sewa Driver Party
1112,Punjab,Firozpur(10),lost,1364,( -265262),BALWINDER SINGH,Republican Party of India (Athawale)
1113,Punjab,Firozpur(10),lost,1342,( -265284),GURCHARAN SINGH,Independent
1114,Punjab,Firozpur(10),lost,1320,( -265306),UMESH KUMAR,Independent
1115,Punjab,Firozpur(10),lost,1152,( -265474),BALWANT SINGH SAMMEWALI,Nationalist Justice Party
1116,Punjab,Firozpur(10),lost,1078,( -265548),MOHAN SINGH,Independent
1117,Punjab,Firozpur(10),lost,971,( -265655),JASKARAN SINGH SIDHU,Independent
1118,Punjab,Firozpur(10),lost,821,( -265805),JASWANT SINGH KHATRI,Independent
1119,Punjab,Firozpur(10),lost,642,( -265984),CHAMKAUR SINGH,Independent
1120,Punjab,Firozpur(10),,6100,( -260526),NOTA,None of the Above
1121,Punjab,Fatehgarh Sahib(8),won,332591,(+ 34202),AMAR SINGH,Indian National Congress
1122,Punjab,Fatehgarh Sahib(8),lost,298389,( -34202),GURPREET SINGH GP,Aam Aadmi Party
1123,Punjab,Fatehgarh Sahib(8),lost,127521,( -205070),GEJJA RAM,Bharatiya Janata Party
1124,Punjab,Fatehgarh Sahib(8),lost,126730,( -205861),BIKRAMJIT SINGH KHALSA,Shiromani Akali Dal
1125,Punjab,Fatehgarh Sahib(8),lost,43644,( -288947),RAJ JATINDER SINGH,Shiromani Akali Dal (Amritsar)(Simranjit Singh Mann)
1126,Punjab,Fatehgarh Sahib(8),lost,20892,( -311699),KULWANT SINGH,Bahujan Samaj Party
1127,Punjab,Fatehgarh Sahib(8),lost,3792,( -328799),PREM SINGH MOHANPUR,Independent
1128,Punjab,Fatehgarh Sahib(8),lost,3104,( -329487),BAHAL SINGH,Aazad Samaj Party (Kanshi Ram)
1129,Punjab,Fatehgarh Sahib(8),lost,2167,( -330424),PARAMJIT SINGH,Independent
1130,Punjab,Fatehgarh Sahib(8),lost,1977,( -330614),RULDA SINGH,Independent
1131,Punjab,Fatehgarh Sahib(8),lost,1465,( -331126),PARKASH PETER,Independent
1132,Punjab,Fatehgarh Sahib(8),lost,1166,( -331425),HARJINDER SINGH,Independent
1133,Punjab,Fatehgarh Sahib(8),lost,899,( -331692),KAMALJEET KAUR,Independent
1134,Punjab,Fatehgarh Sahib(8),lost,731,( -331860),HARGOBIND SINGH,Independent
1135,Punjab,Fatehgarh Sahib(8),,9188,( -323403),NOTA,None of the Above
1136,Punjab,Ludhiana(7),won,322224,(+ 20942),AMRINDER SINGH RAJA WARRING,Indian National Congress
1137,Punjab,Ludhiana(7),lost,301282,( -20942),RAVNEET SINGH BITTU,Bharatiya Janata Party
1138,Punjab,Ludhiana(7),lost,237077,( -85147),ASHOK PRASHAR PAPPI,Aam Aadmi Party
1139,Punjab,Ludhiana(7),lost,90220,( -232004),RANJIT SINGH DHILLON,Shiromani Akali Dal
1140,Punjab,Ludhiana(7),lost,42500,( -279724),KAMALJIT SINGH BRAR,Independent
1141,Punjab,Ludhiana(7),lost,18241,( -303983),AMRITPAL SINGH CHHANDRAN,Shiromani Akali Dal (Amritsar)(Simranjit Singh Mann)
1142,Punjab,Ludhiana(7),lost,10394,( -311830),DAVINDER SINGH RAMGARHIA,Bahujan Samaj Party
1143,Punjab,Ludhiana(7),lost,2530,( -319694),NARESH DHINGAAN,Independent
1144,Punjab,Ludhiana(7),lost,2091,( -320133),RAKESH KUMAR (RICKY),Sunahara Bharat Party
1145,Punjab,Ludhiana(7),lost,2086,( -320138),ER. BALDEV RAJ KATNA (DEBI),Independent
1146,Punjab,Ludhiana(7),lost,1824,( -320400),PRITPAL SINGH,Bahujan Dravida Party
1147,Punjab,Ludhiana(7),lost,1768,( -320456),DR. PALWINDER KAUR,Independent
1148,Punjab,Ludhiana(7),lost,1567,( -320657),SANJEEV KUMAR (SANJU),Independent
1149,Punjab,Ludhiana(7),lost,1518,( -320706),RAJIV KUMAR MEHRA,Jan Sewa Driver Party
1150,Punjab,Ludhiana(7),lost,1287,( -320937),BHUPINDER SINGH,Bharatheeya Jawan Kisan Party
1151,Punjab,Ludhiana(7),lost,1138,( -321086),BALJIT SINGH,Independent
1152,Punjab,Ludhiana(7),lost,1041,( -321183),VIPAN KUMAR BATRA,Independent
1153,Punjab,Ludhiana(7),lost,987,( -321237),AMANDEEP SINGH,Sehajdhari Sikh Party
1154,Punjab,Ludhiana(7),lost,927,( -321297),PARAMJIT SINGH,Independent
1155,Punjab,Ludhiana(7),lost,918,( -321306),BALVINDER SINGH BITTA,Independent
1156,Punjab,Ludhiana(7),lost,912,( -321312),SIMRANDEEP SINGH,Independent
1157,Punjab,Ludhiana(7),lost,860,( -321364),DEVINDER BHAGRIA,Hindustan Shakti Sena
1158,Punjab,Ludhiana(7),lost,820,( -321404),KANIYA LAL (DR. KISHAN KUMAR),Independent
1159,Punjab,Ludhiana(7),lost,770,( -321454),SUDHIR KUMAR TRIPATHI,Independent
1160,Punjab,Ludhiana(7),lost,738,( -321486),GURDEEP SINGH KAHLON,Independent
1161,Punjab,Ludhiana(7),lost,695,( -321529),DR. DEVINDER SINGH GILL,Aam Lok Party United
1162,Punjab,Ludhiana(7),lost,621,( -321603),KIRPAL SINGH KAPURI,Independent
1163,Punjab,Ludhiana(7),lost,610,( -321614),SANTOSH KUMAR,Bharatiya Inqalab Party
1164,Punjab,Ludhiana(7),lost,592,( -321632),KAMAL PAWAR,Independent
1165,Punjab,Ludhiana(7),lost,548,( -321676),RAVINDER PAL SINGH BABA JI BARGAR WALE,Independent
1166,Punjab,Ludhiana(7),lost,517,( -321707),GURMEET SINGH KHARAY,Independent
1167,Punjab,Ludhiana(7),lost,467,( -321757),RUPINDER KUMAR,Independent
1168,Punjab,Ludhiana(7),lost,456,( -321768),CHANDI,Independent
1169,Punjab,Ludhiana(7),lost,450,( -321774),BALDEV SINGH SUMAN,Independent
1170,Punjab,Ludhiana(7),lost,419,( -321805),JAI - PARKASH JAIN (TITU BANIYA),Independent
1171,Punjab,Ludhiana(7),lost,419,( -321805),HARVINDER KAUR,Samajik Sangharsh Party
1172,Punjab,Ludhiana(7),lost,415,( -321809),SHIVAM YADAV,Global Republican Party
1173,Punjab,Ludhiana(7),lost,411,( -321813),BHOLA SINGH,Independent
1174,Punjab,Ludhiana(7),lost,390,( -321834),DARSHAN SINGH DABA,Nationalist Justice Party
1175,Punjab,Ludhiana(7),lost,383,( -321841),KULDEEP KUMAR SHARMA,Independent
1176,Punjab,Ludhiana(7),lost,344,( -321880),VISHAL KUMAR ARORA,Independent
1177,Punjab,Ludhiana(7),lost,340,( -321884),KARNAIL SINGH,Independent
1178,Punjab,Ludhiana(7),lost,284,( -321940),RAJINDER GHAI,Independent
1179,Punjab,Ludhiana(7),,5076,( -317148),NOTA,None of the Above
1180,Punjab,Jalandhar(4),won,390053,(+ 175993),CHARANJIT SINGH CHANNI,Indian National Congress
1181,Punjab,Jalandhar(4),lost,214060,( -175993),SUSHIL KUMAR RINKU,Bharatiya Janata Party
1182,Punjab,Jalandhar(4),lost,208889,( -181164),PAWAN KUMAR TINU,Aam Aadmi Party
1183,Punjab,Jalandhar(4),lost,67911,( -322142),MOHINDER SINGH KAYPEE,Shiromani Akali Dal
1184,Punjab,Jalandhar(4),lost,64941,( -325112),ADVOCATE BALWINDER KUMAR,Bahujan Samaj Party
1185,Punjab,Jalandhar(4),lost,19284,( -370769),SARABJIT SINGH KHALSA,Shiromani Akali Dal (Amritsar)(Simranjit Singh Mann)
1186,Punjab,Jalandhar(4),lost,5958,( -384095),MASTER PARSHOTAM LAL BILGA,Communist Party of India  (Marxist)
1187,Punjab,Jalandhar(4),lost,1956,( -388097),IQBAL CHAND MATTU,Independent
1188,Punjab,Jalandhar(4),lost,1879,( -388174),NEETU SHATTRA WALA,Independent
1189,Punjab,Jalandhar(4),lost,1184,( -388869),AMRISH BHAGAT,Independent
1190,Punjab,Jalandhar(4),lost,1113,( -388940),GURDEEP SINGH BITTU,Independent
1191,Punjab,Jalandhar(4),lost,1088,( -388965),RAJ KUMAR SAQI,Peoples Party of India (Democratic)
1192,Punjab,Jalandhar(4),lost,1055,( -388998),SONIA,Republican Party of India (Athawale)
1193,Punjab,Jalandhar(4),lost,952,( -389101),RAJWANT KAUR KHALSA,Apna Samaj Party
1194,Punjab,Jalandhar(4),lost,930,( -389123),BHAGAT GULSHAN AZAAD,Democratic Bharatiya Samaj Party
1195,Punjab,Jalandhar(4),lost,876,( -389177),RAMESH LAL KALA,Independent
1196,Punjab,Jalandhar(4),lost,743,( -389310),ASHOK KUMAR JAKHU,Independent
1197,Punjab,Jalandhar(4),lost,591,( -389462),BAL MUKAND BAWRA,Global Republican Party
1198,Punjab,Jalandhar(4),lost,500,( -389553),PARAMJIT KAUR TEJI,Independent
1199,Punjab,Jalandhar(4),lost,401,( -389652),TARACHAND SHEELA,Loktantrik Lok Rajyam Party
1200,Punjab,Jalandhar(4),,4743,( -385310),NOTA,None of the Above
1201,Punjab,Amritsar(2),won,255181,(+ 40301),GURJEET SINGH AUJLA,Indian National Congress
1202,Punjab,Amritsar(2),lost,214880,( -40301),KULDEEP SINGH DHALIWAL,Aam Aadmi Party
1203,Punjab,Amritsar(2),lost,207205,( -47976),TARANJIT SINGH SANDHU SAMUNDRI,Bharatiya Janata Party
1204,Punjab,Amritsar(2),lost,162896,( -92285),ANIL JOSHI,Shiromani Akali Dal
1205,Punjab,Amritsar(2),lost,26796,( -228385),EMAAN SINGH MANN,Shiromani Akali Dal (Amritsar)(Simranjit Singh Mann)
1206,Punjab,Amritsar(2),lost,3399,( -251782),SATBIR SINGH  JAMMU,Independent
1207,Punjab,Amritsar(2),lost,2733,( -252448),VISHAL SIDHU,Bahujan Samaj Party
1208,Punjab,Amritsar(2),lost,2481,( -252700),DASWINDER KAUR,Communist Party of India
1209,Punjab,Amritsar(2),lost,2460,( -252721),SHARANJIT KAUR,Independent
1210,Punjab,Amritsar(2),lost,2362,( -252819),AMANPREET SINGH MAHADIPUR,Independent
1211,Punjab,Amritsar(2),lost,2129,( -253052),GURINDER SINGH SABHI GILL,Independent
1212,Punjab,Amritsar(2),lost,1988,( -253193),SAHIB SINGH,Independent
1213,Punjab,Amritsar(2),lost,1507,( -253674),SHAMSHER SINGH SHERA,Independent
1214,Punjab,Amritsar(2),lost,1487,( -253694),SHAM LAL GANDHI,Independent
1215,Punjab,Amritsar(2),lost,1375,( -253806),LOVEPREET SHARMA,Aas Punjab Party
1216,Punjab,Amritsar(2),lost,1358,( -253823),MASTER HARJINDER PAL,Independent
1217,Punjab,Amritsar(2),lost,1227,( -253954),JASPAL MASIH,Independent
1218,Punjab,Amritsar(2),lost,1133,( -254048),RESHAM SINGH,Independent
1219,Punjab,Amritsar(2),lost,1107,( -254074),BAL KRISHAN SHARMA,Independent
1220,Punjab,Amritsar(2),lost,1106,( -254075),SIMRANPREET SINGH,Independent
1221,Punjab,Amritsar(2),lost,1097,( -254084),NARINDER KAUR,Aam Janta Party (India)
1222,Punjab,Amritsar(2),lost,1044,( -254137),DILDAR MASIH,Shiromani Lok Dal Party
1223,Punjab,Amritsar(2),lost,900,( -254281),RAJINDER KUMAR SHARMA,Independent
1224,Punjab,Amritsar(2),lost,857,( -254324),BALWINDER SINGH,Independent
1225,Punjab,Amritsar(2),lost,738,( -254443),GURPREET SINGH RATTAN,Republican Party of India (Athawale)
1226,Punjab,Amritsar(2),lost,652,( -254529),DR RAMESH KUMAR,Sacho Sach Party
1227,Punjab,Amritsar(2),lost,610,( -254571),GAGANDEEP,Independent
1228,Punjab,Amritsar(2),lost,434,( -254747),PRITHVI PAL,Independent
1229,Punjab,Amritsar(2),lost,409,( -254772),NEELAM,Independent
1230,Punjab,Amritsar(2),lost,391,( -254790),DILBAGH SINGH,Independent
1231,Punjab,Amritsar(2),,3714,( -251467),NOTA,None of the Above
1232,Punjab,Gurdaspur(1),won,364043,(+ 82861),SUKHJINDER SINGH RANDHAWA,Indian National Congress
1233,Punjab,Gurdaspur(1),lost,281182,( -82861),DINESH SINGH BABBU,Bharatiya Janata Party
1234,Punjab,Gurdaspur(1),lost,277252,( -86791),AMANSHER SINGH (SHERY KALSI),Aam Aadmi Party
1235,Punjab,Gurdaspur(1),lost,85500,( -278543),DR. DALJIT SINGH CHEEMA,Shiromani Akali Dal
1236,Punjab,Gurdaspur(1),lost,25765,( -338278),GURINDER SINGH BAJWA,Shiromani Akali Dal (Amritsar)(Simranjit Singh Mann)
1237,Punjab,Gurdaspur(1),lost,5952,( -358091),SANT SEWAK,Independent
1238,Punjab,Gurdaspur(1),lost,4930,( -359113),RAJ KUMAR,Bahujan Samaj Party
1239,Punjab,Gurdaspur(1),lost,4738,( -359305),SANTOSH KAUR,Independent
1240,Punjab,Gurdaspur(1),lost,4440,( -359603),SAMUEL SONI,Independent
1241,Punjab,Gurdaspur(1),lost,3373,( -360670),SURJIT SINGH,Independent
1242,Punjab,Gurdaspur(1),lost,2178,( -361865),SANJEEV SINGH,Independent
1243,Punjab,Gurdaspur(1),lost,1782,( -362261),SURINDER SINGH,Independent
1244,Punjab,Gurdaspur(1),lost,1709,( -362334),GURPREET KAUR BAJWA,Independent
1245,Punjab,Gurdaspur(1),lost,1635,( -362408),SANJEEV MANHAS,Independent
1246,Punjab,Gurdaspur(1),lost,1511,( -362532),ROBI MASIH,Independent
1247,Punjab,Gurdaspur(1),lost,1194,( -362849),SANTOSH KUMARI,Megh Desham Party
1248,Punjab,Gurdaspur(1),lost,1098,( -362945),RAMESH KUMAR TOLLA,Bharatheeya Jawan Kisan Party
1249,Punjab,Gurdaspur(1),lost,924,( -363119),AMIT AGGARWAL,Independent
1250,Punjab,Gurdaspur(1),lost,885,( -363158),TARSEM MASIH SAHOTA,Independent
1251,Punjab,Gurdaspur(1),lost,805,( -363238),TILAK RAJ,Independent
1252,Punjab,Gurdaspur(1),lost,789,( -363254),RANJODH SINGH,Jan Sewa Driver Party
1253,Punjab,Gurdaspur(1),lost,699,( -363344),I.S.GULATI,Independent
1254,Punjab,Gurdaspur(1),lost,657,( -363386),RAMESH LAL,National Republic Party Of India
1255,Punjab,Gurdaspur(1),lost,546,( -363497),JAGDISH MASIH,Independent
1256,Punjab,Gurdaspur(1),lost,461,( -363582),JATINDER KUMAR SHARMA,Bhartiya Rashtriya Dal
1257,Punjab,Gurdaspur(1),lost,424,( -363619),DARBARA SINGH,Nationalist Justice Party
1258,Punjab,Gurdaspur(1),,3354,( -360689),NOTA,None of the Above
1259,Punjab,Anandpur Sahib(6),won,313217,(+ 10846),MALVINDER SINGH KANG,Aam Aadmi Party
1260,Punjab,Anandpur Sahib(6),lost,302371,( -10846),VIJAY INDER SINGLA,Indian National Congress
1261,Punjab,Anandpur Sahib(6),lost,186578,( -126639),DR SUBHASH SHARMA,Bharatiya Janata Party
1262,Punjab,Anandpur Sahib(6),lost,117936,( -195281),PREM SINGH CHANDUMAJRA,Shiromani Akali Dal
1263,Punjab,Anandpur Sahib(6),lost,90157,( -223060),JASVIR SINGH GARHI,Bahujan Samaj Party
1264,Punjab,Anandpur Sahib(6),lost,24831,( -288386),KUSHAL PAL SINGH MANN,Shiromani Akali Dal (Amritsar)(Simranjit Singh Mann)
1265,Punjab,Anandpur Sahib(6),lost,6171,( -307046),GAJJAN SINGH,Independent
1266,Punjab,Anandpur Sahib(6),lost,2962,( -310255),SIMPLE KUMAR,Independent
1267,Punjab,Anandpur Sahib(6),lost,2297,( -310920),SATPAL,Independent
1268,Punjab,Anandpur Sahib(6),lost,2182,( -311035),GURMIT SINGH,Independent
1269,Punjab,Anandpur Sahib(6),lost,2043,( -311174),DHARMINDER SINGH HARMAN,Akhil Bhartiya Parivar Party
1270,Punjab,Anandpur Sahib(6),lost,1977,( -311240),SUNIL KUMAR,Bhartiya Jan Samman Party
1271,Punjab,Anandpur Sahib(6),lost,1715,( -311502),ER DALJEET SINGH SAINI,Bharatheeya Jawan Kisan Party
1272,Punjab,Anandpur Sahib(6),lost,1652,( -311565),KULWINDER SINGH,Democratic Bharatiya Samaj Party
1273,Punjab,Anandpur Sahib(6),lost,1640,( -311577),SUNAINA,Bhartiya Rashtriya Dal
1274,Punjab,Anandpur Sahib(6),lost,1600,( -311617),ADV KULWINDER SINGH,Independent
1275,Punjab,Anandpur Sahib(6),lost,1430,( -311787),MEGH RAJ,Independent
1276,Punjab,Anandpur Sahib(6),lost,1311,( -311906),HARWINDER KARWAL,Independent
1277,Punjab,Anandpur Sahib(6),lost,1175,( -312042),DAVINDER SINGH,Independent
1278,Punjab,Anandpur Sahib(6),lost,1172,( -312045),DARSHAN SINGH,Punjab National Party
1279,Punjab,Anandpur Sahib(6),lost,1076,( -312141),HANISH SHARMA,Ekam Sanatan Bharat Dal
1280,Punjab,Anandpur Sahib(6),lost,1012,( -312205),DEEPAK SHARMA,Independent
1281,Punjab,Anandpur Sahib(6),lost,930,( -312287),PARMINDER SINGH,Independent
1282,Punjab,Anandpur Sahib(6),lost,925,( -312292),YOG RAJ SAHOTA,Revolutionary Socialist Party
1283,Punjab,Anandpur Sahib(6),lost,672,( -312545),RAMJAAN KHAN,Independent
1284,Punjab,Anandpur Sahib(6),lost,619,( -312598),ROHTASH,Independent
1285,Punjab,Anandpur Sahib(6),lost,555,( -312662),MANDAR SINGH,Independent
1286,Punjab,Anandpur Sahib(6),lost,515,( -312702),KIRAN JAIN,Hindustan Shakti Sena
1287,Punjab,Anandpur Sahib(6),,6402,( -306815),NOTA,None of the Above
1288,Punjab,Hoshiarpur(5),won,303859,(+ 44111),DR. RAJ KUMAR CHABBEWAL,Aam Aadmi Party
1289,Punjab,Hoshiarpur(5),lost,259748,( -44111),YAMINI GOMAR,Indian National Congress
1290,Punjab,Hoshiarpur(5),lost,199994,( -103865),ANITA SOM PARKASH,Bharatiya Janata Party
1291,Punjab,Hoshiarpur(5),lost,91789,( -212070),SOHAN SINGH THANDAL,Shiromani Akali Dal
1292,Punjab,Hoshiarpur(5),lost,48214,( -255645),RANJIT KUMAR,Bahujan Samaj Party
1293,Punjab,Hoshiarpur(5),lost,20923,( -282936),JASWANT SINGH,Shiromani Akali Dal (Amritsar)(Simranjit Singh Mann)
1294,Punjab,Hoshiarpur(5),lost,4621,( -299238),JEEVAN SINGH TAMIL,Bahujan Dravida Party
1295,Punjab,Hoshiarpur(5),lost,2419,( -301440),ROHIT KUMAR TINKU,Independent
1296,Punjab,Hoshiarpur(5),lost,2336,( -301523),RAJESH,Democratic Bharatiya Samaj Party
1297,Punjab,Hoshiarpur(5),lost,1884,( -301975),SONU SINGH PHAGWARA,Independent
1298,Punjab,Hoshiarpur(5),lost,1617,( -302242),DAVINDER SINGH,Independent
1299,Punjab,Hoshiarpur(5),lost,1425,( -302434),HARDEEP SINGH,Nationalist Justice Party
1300,Punjab,Hoshiarpur(5),lost,1140,( -302719),RAJPAL NADALI,Bahujan Mukti Party
1301,Punjab,Hoshiarpur(5),lost,1041,( -302818),BHIMRAO YASHWANT AMBEDKAR,Global Republican Party
1302,Punjab,Hoshiarpur(5),lost,993,( -302866),SATPAL,Independent
1303,Punjab,Hoshiarpur(5),lost,930,( -302929),DAVINDER KUMAR SAROYA,Samaj Bhalai Morcha
1304,Punjab,Hoshiarpur(5),,5552,( -298307),NOTA,None of the Above
1305,Odisha,Aska(19),won,494226,(+ 99974),ANITA SUBHADARSHINI,Bharatiya Janata Party
1306,Odisha,Aska(19),lost,394252,( -99974),RANJITA SAHU,Biju Janata Dal
1307,Odisha,Aska(19),lost,75255,( -418971),DEBAKANTA SARMA,Indian National Congress
1308,Odisha,Aska(19),lost,11240,( -482986),SANJAYA KUMAR BISHOYI,Independent
1309,Odisha,Aska(19),lost,8673,( -485553),PAPUNU SAHU,Socialist Unity Centre Of India (COMMUNIST)
1310,Odisha,Aska(19),lost,6888,( -487338),PITABAS SAHU,Sanatan Sanskriti Raksha Dal
1311,Odisha,Aska(19),lost,5439,( -488787),BRUNDABANA NAHAK,Bahujan Samaj Party
1312,Odisha,Aska(19),,21941,( -472285),NOTA,None of the Above
1313,Odisha,Bhubaneswar(18),won,512519,(+ 35152),APARAJITA SARANGI,Bharatiya Janata Party
1314,Odisha,Bhubaneswar(18),lost,477367,( -35152),MANMATH KUMAR ROUTRAY,Biju Janata Dal
1315,Odisha,Bhubaneswar(18),lost,66362,( -446157),SYED YASHIR NAWAZ,Indian National Congress
1316,Odisha,Bhubaneswar(18),lost,4148,( -508371),SURESH CHANDRA PANIGRAHY,Communist Party of India  (Marxist)
1317,Odisha,Bhubaneswar(18),lost,2251,( -510268),HULAS SENAPATI,Independent
1318,Odisha,Bhubaneswar(18),lost,2203,( -510316),KISHOR KUMAR SUTAR,Independent
1319,Odisha,Bhubaneswar(18),lost,1758,( -510761),SUDHANSU SEKHAR DAS,Independent
1320,Odisha,Bhubaneswar(18),lost,1744,( -510775),SANTOSH KUMAR MISHRA,Independent
1321,Odisha,Bhubaneswar(18),lost,1530,( -510989),SANGEETA PATTANAIK,Odisha Janata Party
1322,Odisha,Bhubaneswar(18),lost,1503,( -511016),PRADEEP KUMAR SAHOO,Kalinga Sena
1323,Odisha,Bhubaneswar(18),lost,1441,( -511078),SANTILATA ROUT,Supreme Zero Party of Bharat
1324,Odisha,Bhubaneswar(18),lost,1087,( -511432),NATABAR MAHARANA,Bharatiya Bikash Parishad
1325,Odisha,Bhubaneswar(18),,8302,( -504217),NOTA,None of the Above
1326,Odisha,Puri(17),won,629330,(+ 104709),SAMBIT PATRA,Bharatiya Janata Party
1327,Odisha,Puri(17),lost,524621,( -104709),ARUP MOHAN PATNAIK,Biju Janata Dal
1328,Odisha,Puri(17),lost,24342,( -604988),JAYANARAYAN PATTANAYAK,Indian National Congress
1329,Odisha,Puri(17),lost,3929,( -625401),SANTANU KUMAR DAS,Bahujan Samaj Party
1330,Odisha,Puri(17),lost,3266,( -626064),SUBASH CHANDRA BHOI,Socialist Unity Centre Of India (COMMUNIST)
1331,Odisha,Puri(17),lost,2229,( -627101),SOBHA PANDEY,Independent
1332,Odisha,Puri(17),lost,1611,( -627719),DILLIP KUMAR BARAL,Independent
1333,Odisha,Puri(17),,7610,( -621720),NOTA,None of the Above
1334,Odisha,Jagatsinghpur(16),won,589093,(+ 40696),BIBHU PRASAD TARAI,Bharatiya Janata Party
1335,Odisha,Jagatsinghpur(16),lost,548397,( -40696),DR. RAJASHREE MALLICK,Biju Janata Dal
1336,Odisha,Jagatsinghpur(16),lost,123570,( -465523),RABINDRA KUMAR SETHY,Indian National Congress
1337,Odisha,Jagatsinghpur(16),lost,8130,( -580963),RAMESH CHANDRA SETHY,Communist Party of India
1338,Odisha,Jagatsinghpur(16),lost,3230,( -585863),PEEYUUSH DAS,Ambedkarite Party of India
1339,Odisha,Jagatsinghpur(16),lost,2740,( -586353),BIBHUTI BHUSAN MAJHI,Bahujan Samaj Party
1340,Odisha,Jagatsinghpur(16),lost,2384,( -586709),MAHESWAR DAS,Socialist Unity Centre Of India (COMMUNIST)
1341,Odisha,Jagatsinghpur(16),lost,1488,( -587605),SANKAR DAS,Independent
1342,Odisha,Jagatsinghpur(16),lost,930,( -588163),SILI MALLICK,Samruddha Odisha
1343,Odisha,Jagatsinghpur(16),lost,766,( -588327),ARJUNA CHARAN BEHERA,Independent
1344,Odisha,Jagatsinghpur(16),lost,677,( -588416),BHANUMATI DAS,Utkal Samaj
1345,Odisha,Jagatsinghpur(16),,4882,( -584211),NOTA,None of the Above
1346,Odisha,Kendrapara(15),won,615705,(+ 66536),BAIJAYANT PANDA,Bharatiya Janata Party
1347,Odisha,Kendrapara(15),lost,549169,( -66536),ANSHUMAN MOHANTY,Biju Janata Dal
1348,Odisha,Kendrapara(15),lost,94832,( -520873),SIDHARTH SWARUP DASH,Indian National Congress
1349,Odisha,Kendrapara(15),lost,3395,( -612310),SOUBHAGYA KETAN SAMAL,Socialist Unity Centre Of India (COMMUNIST)
1350,Odisha,Kendrapara(15),lost,1852,( -613853),SEKHA SADIKA HOSEN,Bahujan Samaj Party
1351,Odisha,Kendrapara(15),lost,1561,( -614144),SUPRAVA DAS,Akhil Bhartiya Parivar Party
1352,Odisha,Kendrapara(15),lost,1399,( -614306),SRIRAM PANDEY,Independent
1353,Odisha,Kendrapara(15),lost,1373,( -614332),SANTOSH KUMAR PATRA,Independent
1354,Odisha,Kendrapara(15),lost,1095,( -614610),PRATAP CHANDRA MOHANTY,Independent
1355,Odisha,Kendrapara(15),lost,912,( -614793),PRANGYAN PRAKASH MOHAPATRA,Odisha Janata Party
1356,Odisha,Kendrapara(15),,5815,( -609890),NOTA,None of the Above
1357,Odisha,Cuttack(14),won,531601,(+ 57077),BHARTRUHARI MAHTAB,Bharatiya Janata Party
1358,Odisha,Cuttack(14),lost,474524,( -57077),SANTRUPT MISRA,Biju Janata Dal
1359,Odisha,Cuttack(14),lost,83815,( -447786),SURESH MOHAPATRA,Indian National Congress
1360,Odisha,Cuttack(14),lost,4484,( -527117),PRAMOD KUMAR MALLICK,Bahujan Samaj Party
1361,Odisha,Cuttack(14),lost,4396,( -527205),NIRANJAN PATI,Independent
1362,Odisha,Cuttack(14),lost,3888,( -527713),SOBHA PANDEY,Independent
1363,Odisha,Cuttack(14),lost,3794,( -527807),PRAKASH CHANDRA SAHOO,Krupaa Party
1364,Odisha,Cuttack(14),lost,3075,( -528526),RAJAKISHORE MALLIK,Socialist Unity Centre Of India (COMMUNIST)
1365,Odisha,Cuttack(14),lost,1808,( -529793),GOKULANANDA MISHRA,Independent
1366,Odisha,Cuttack(14),lost,1251,( -530350),MINATI PATNAIK,Samruddha Odisha
1367,Odisha,Cuttack(14),,8159,( -523442),NOTA,None of the Above
1368,Odisha,Kandhamal(13),won,416415,(+ 21371),SUKANTA KUMAR PANIGRAHI,Bharatiya Janata Party
1369,Odisha,Kandhamal(13),lost,395044,( -21371),ACHYUTANANDA SAMANTA,Biju Janata Dal
1370,Odisha,Kandhamal(13),lost,144322,( -272093),AMIR CHAND NAYAK,Indian National Congress
1371,Odisha,Kandhamal(13),lost,7330,( -409085),BHAGIRATHI BALIARSINGH,Manas Lokshakti Dal
1372,Odisha,Kandhamal(13),lost,5205,( -411210),KANAK MANJARI RATH,Independent
1373,Odisha,Kandhamal(13),lost,5137,( -411278),HARIBANDHU BEHERA,Bahujan Samaj Party
1374,Odisha,Kandhamal(13),lost,4137,( -412278),SUBASH MOHAPATRA,National Jan Dal
1375,Odisha,Kandhamal(13),lost,2781,( -413634),PARSURAM PRADHAN,Kalinga Sena
1376,Odisha,Kandhamal(13),,15720,( -400695),NOTA,None of the Above
1377,Odisha,Nabarangpur(12),won,481396,(+ 87536),BALABHADRA MAJHI,Bharatiya Janata Party
1378,Odisha,Nabarangpur(12),lost,393860,( -87536),PRADEEP KUMAR MAJHI,Biju Janata Dal
1379,Odisha,Nabarangpur(12),lost,303392,( -178004),BHUJABAL MAJHI,Indian National Congress
1380,Odisha,Nabarangpur(12),lost,20559,( -460837),TRINATH MUNDAGUDIA,Socialist Unity Centre Of India (COMMUNIST)
1381,Odisha,Nabarangpur(12),,43268,( -438128),NOTA,None of the Above
1382,Odisha,Kalahandi(11),won,544303,(+ 133813),MALVIKA DEVI,Bharatiya Janata Party
1383,Odisha,Kalahandi(11),lost,410490,( -133813),LAMBODAR NIAL,Biju Janata Dal
1384,Odisha,Kalahandi(11),lost,303199,( -241104),DROUPADI MAJHI,Indian National Congress
1385,Odisha,Kalahandi(11),lost,9194,( -535109),UMAKANTA TANDI,Independent
1386,Odisha,Kalahandi(11),lost,8497,( -535806),BIRANCHI NARAYAN DURGA,Bahujan Samaj Party
1387,Odisha,Kalahandi(11),lost,7811,( -536492),DR. DHARMANANDA GAHIR,Independent
1388,Odisha,Kalahandi(11),lost,7168,( -537135),SIBA HATI,Samajwadi Party
1389,Odisha,Kalahandi(11),lost,6730,( -537573),RAJARAM SAHU,Independent
1390,Odisha,Kalahandi(11),lost,6641,( -537662),NARESH HIANLA,Independent
1391,Odisha,Kalahandi(11),lost,5590,( -538713),GANGADHAR JAL,Independent
1392,Odisha,Kalahandi(11),lost,4906,( -539397),HIMANSHU TRIPATHY,Samruddha Odisha
1393,Odisha,Kalahandi(11),,19715,( -524588),NOTA,None of the Above
1394,Odisha,Bolangir(10),won,617744,(+ 132664),SANGEETA KUMARI SINGH DEO,Bharatiya Janata Party
1395,Odisha,Bolangir(10),lost,485080,( -132664),SURENDRA SINGH BHOI,Biju Janata Dal
1396,Odisha,Bolangir(10),lost,230874,( -386870),MANOJ KUMAR MISHRA,Indian National Congress
1397,Odisha,Bolangir(10),lost,10355,( -607389),SUNIL KUMAR BHOI,Socialist Unity Centre Of India (COMMUNIST)
1398,Odisha,Bolangir(10),lost,9469,( -608275),JAGADISH CHANDRA BIBHAR,Bahujan Samaj Party
1399,Odisha,Bolangir(10),lost,8674,( -609070),BALRAM SINGH YADAV,Independent
1400,Odisha,Bolangir(10),lost,7252,( -610492),MADHUSUDAN BARIK,Ambedkarite Party of India
1401,Odisha,Bolangir(10),lost,6097,( -611647),BALARAM SA,Independent
1402,Odisha,Bolangir(10),lost,5469,( -612275),AKSHAYA DISHRI,National Apni Party
1403,Odisha,Bolangir(10),lost,3170,( -614574),RAJESH KUMAR PANDA,Ekam Sanatan Bharat Dal
1404,Odisha,Bolangir(10),,16064,( -601680),NOTA,None of the Above
1405,Odisha,Dhenkanal(9),won,598721,(+ 76567),RUDRA NARAYAN PANY,Bharatiya Janata Party
1406,Odisha,Dhenkanal(9),lost,522154,( -76567),ABINASH SAMAL,Biju Janata Dal
1407,Odisha,Dhenkanal(9),lost,34730,( -563991),SASHMITA BEHERA,Indian National Congress
1408,Odisha,Dhenkanal(9),lost,4895,( -593826),PRAFULLA KUMAR NAIK,Bahujan Samaj Party
1409,Odisha,Dhenkanal(9),lost,4629,( -594092),MAHESWAR SAHOO,Independent
1410,Odisha,Dhenkanal(9),lost,3384,( -595337),MANASI SWAIN,Socialist Unity Centre Of India (COMMUNIST)
1411,Odisha,Dhenkanal(9),lost,2909,( -595812),PRIYABRATA GARNAIK,Independent
1412,Odisha,Dhenkanal(9),lost,2653,( -596068),JANARDAN NAIK,Independent
1413,Odisha,Dhenkanal(9),lost,2213,( -596508),KAILAS CHANDRA PRADHAN,Independent
1414,Odisha,Dhenkanal(9),lost,1608,( -597113),SWAPNA RANI JAMES,Utkal Samaj
1415,Odisha,Dhenkanal(9),,13777,( -584944),NOTA,None of the Above
1416,Odisha,Jajpur(8),won,534239,(+ 1587),RABINDRA NARAYAN BEHERA,Bharatiya Janata Party
1417,Odisha,Jajpur(8),lost,532652,( -1587),SARMISTHA SETHI,Biju Janata Dal
1418,Odisha,Jajpur(8),lost,53145,( -481094),ANCHAL DAS,Indian National Congress
1419,Odisha,Jajpur(8),lost,18007,( -516232),SUBASH CHANDRA MALLIK,Socialist Unity Centre Of India (COMMUNIST)
1420,Odisha,Jajpur(8),lost,3218,( -531021),ER. SANDHYA RANI MALLICK,Bahujan Samaj Party
1421,Odisha,Jajpur(8),lost,2403,( -531836),BHAIRABA PRASAD BEHERA,Independent
1422,Odisha,Jajpur(8),lost,2301,( -531938),SUMANTA MALIK,Independent
1423,Odisha,Jajpur(8),lost,2172,( -532067),BIDYADHAR DALEI,Ambedkarite Party of India
1424,Odisha,Jajpur(8),lost,2077,( -532162),JHUNA MALIK,Manas Lokshakti Dal
1425,Odisha,Jajpur(8),lost,1252,( -532987),ARTTATRANA MALIK,Independent
1426,Odisha,Jajpur(8),lost,1119,( -533120),NARENDRA MALIKA,Independent
1427,Odisha,Jajpur(8),lost,956,( -533283),MANTU SETHI,Janta Darbar Party
1428,Odisha,Jajpur(8),lost,879,( -533360),BINOD KUMAR JENA,Gana Suraksha Party
1429,Odisha,Jajpur(8),,6788,( -527451),NOTA,None of the Above
1430,Odisha,Bhadrak(7),won,573319,(+ 91544),AVIMANYU SETHI,Bharatiya Janata Party
1431,Odisha,Bhadrak(7),lost,481775,( -91544),MANJULATA MANDAL,Biju Janata Dal
1432,Odisha,Bhadrak(7),lost,221874,( -351445),ANANTA PRASAD SETHI,Indian National Congress
1433,Odisha,Bhadrak(7),lost,4880,( -568439),KIRTAN BIHARI MALIK,Socialist Unity Centre Of India (COMMUNIST)
1434,Odisha,Bhadrak(7),lost,3604,( -569715),ADV. ARJUN CHARAN MALLIK,Bahujan Samaj Party
1435,Odisha,Bhadrak(7),lost,3517,( -569802),ANJAN DAS,Ambedkarite Party of India
1436,Odisha,Bhadrak(7),lost,1530,( -571789),BASANTA KUMAR MAHALIK,Independent
1437,Odisha,Bhadrak(7),lost,1400,( -571919),SARBESWAR BEHERA,Independent
1438,Odisha,Bhadrak(7),,5478,( -567841),NOTA,None of the Above
1439,Odisha,Balasore(6),won,563865,(+ 147156),PRATAP CHANDRA SARANGI,Bharatiya Janata Party
1440,Odisha,Balasore(6),lost,416709,( -147156),LEKHASRI SAMANTSINGHAR,Biju Janata Dal
1441,Odisha,Balasore(6),lost,237007,( -326858),SHRIKANTA JENA,Indian National Congress
1442,Odisha,Balasore(6),lost,2920,( -560945),RAJAT KUMAR BEHERA,Bahujan Samaj Party
1443,Odisha,Balasore(6),lost,2640,( -561225),GOBINDA CHANDRA BHOI,National Apni Party
1444,Odisha,Balasore(6),lost,2161,( -561704),SURYAKANTA DASMOHAPATRA,Independent
1445,Odisha,Balasore(6),lost,1868,( -561997),MAHAMEGHABAHAN AIRA KHARABELA SWAIN,Independent
1446,Odisha,Balasore(6),lost,1639,( -562226),PRAMOD KUMAR PATTAYAT,Independent
1447,Odisha,Balasore(6),lost,1452,( -562413),BIREN PUHAN,Krupaa Party
1448,Odisha,Balasore(6),lost,1194,( -562671),DEEPAK SANKAR THAKUR GIRI,Independent
1449,Odisha,Balasore(6),lost,830,( -563035),AKHIL KUMAR MOHANTA,Independent
1450,Odisha,Balasore(6),,7350,( -556515),NOTA,None of the Above
1451,Odisha,Mayurbhanj(5),won,585971,(+ 219334),NABA CHARAN MAJHI,Bharatiya Janata Party
1452,Odisha,Mayurbhanj(5),lost,366637,( -219334),SUDAM MARNDI,Biju Janata Dal
1453,Odisha,Mayurbhanj(5),lost,135399,( -450572),ANJANI SOREN,Jharkhand Mukti Morcha
1454,Odisha,Mayurbhanj(5),lost,9324,( -576647),RABINDRA NATH SINGH,Independent
1455,Odisha,Mayurbhanj(5),lost,8953,( -577018),ASHOK KUMAR SING,Independent
1456,Odisha,Mayurbhanj(5),lost,8502,( -577469),JATIA SAWAYAN,Bahujan Samaj Party
1457,Odisha,Mayurbhanj(5),lost,8477,( -577494),SANTILATA CHATTAR,Independent
1458,Odisha,Mayurbhanj(5),lost,8114,( -577857),PITAMBAR NAIK,Socialist Unity Centre Of India (COMMUNIST)
1459,Odisha,Mayurbhanj(5),lost,5394,( -580577),ANTA ALOK BASKEY,AJSU Party
1460,Odisha,Mayurbhanj(5),lost,5322,( -580649),BAJUN HANSDA,Independent
1461,Odisha,Mayurbhanj(5),lost,5138,( -580833),KANHU CHARAN TUDU,Independent
1462,Odisha,Mayurbhanj(5),lost,3656,( -582315),SUKANTA HEMBRAM,Bharatiya Nyay-Adhikar Raksha Party
1463,Odisha,Mayurbhanj(5),lost,3210,( -582761),GURU  CHARAN HEMBRAM,Bharatheeya Jawan Kisan Party
1464,Odisha,Mayurbhanj(5),,19953,( -566018),NOTA,None of the Above
1465,Odisha,Keonjhar(4),won,573923,(+ 97042),ANANTA NAYAK,Bharatiya Janata Party
1466,Odisha,Keonjhar(4),lost,476881,( -97042),DHANURJAYA SIDU,Biju Janata Dal
1467,Odisha,Keonjhar(4),lost,105278,( -468645),BINOD BIHARI NAIK,Indian National Congress
1468,Odisha,Keonjhar(4),lost,31736,( -542187),JOHN MIRAN MUNDA,Independent
1469,Odisha,Keonjhar(4),lost,11043,( -562880),SAHEBA JUANGA,Manas Lokshakti Dal
1470,Odisha,Keonjhar(4),lost,9044,( -564879),SUSHANT KUMAR NAIK,Independent
1471,Odisha,Keonjhar(4),lost,6778,( -567145),LAMBODAR NAIK,Independent
1472,Odisha,Keonjhar(4),lost,6574,( -567349),HARIHAR MUNDA,Socialist Unity Centre Of India (COMMUNIST)
1473,Odisha,Keonjhar(4),lost,4556,( -569367),RAGHUMANI NAIK,Independent
1474,Odisha,Keonjhar(4),lost,3895,( -570028),RAM PRASAD HEMBRAM,Bahujan Samaj Party
1475,Odisha,Keonjhar(4),lost,2144,( -571779),PITABASA NAIK,AJSU Party
1476,Odisha,Keonjhar(4),,24763,( -549160),NOTA,None of the Above
1477,Odisha,Sambalpur(3),won,592162,(+ 119836),DHARMENDRA PRADHAN,Bharatiya Janata Party
1478,Odisha,Sambalpur(3),lost,472326,( -119836),PRANAB PRAKASH DAS,Biju Janata Dal
1479,Odisha,Sambalpur(3),lost,89113,( -503049),NAGENDRA KUMAR PRADHAN,Indian National Congress
1480,Odisha,Sambalpur(3),lost,4795,( -587367),SADANAND RANBIDA,Bahujan Samaj Party
1481,Odisha,Sambalpur(3),lost,4702,( -587460),SRIRAM PANDEY,Independent
1482,Odisha,Sambalpur(3),lost,4303,( -587859),SHUSHIL KUMAR BABU,Independent
1483,Odisha,Sambalpur(3),lost,3334,( -588828),GNYANENDRA BEHERA,Independent
1484,Odisha,Sambalpur(3),lost,3157,( -589005),NABAKISHORE PRADHAN,Socialist Unity Centre Of India (COMMUNIST)
1485,Odisha,Sambalpur(3),lost,2059,( -590103),ATMA RAM SUPKAR,Independent
1486,Odisha,Sambalpur(3),lost,1735,( -590427),PURUSHOTTAM PATRA,Kosal Janata Dal
1487,Odisha,Sambalpur(3),lost,1708,( -590454),RAKESH BAG,Bharatiya Nyay-Adhikar Raksha Party
1488,Odisha,Sambalpur(3),lost,1693,( -590469),SUBASH MOHAPATRA,National Jan Dal
1489,Odisha,Sambalpur(3),lost,1682,( -590480),LAXMAN KUMAR BHOI,Paschimanchal Vikas Party
1490,Odisha,Sambalpur(3),lost,1495,( -590667),KHAGESWAR BEHERA,Rashtriya Manav Party
1491,Odisha,Sambalpur(3),,12483,( -579679),NOTA,None of the Above
1492,Odisha,Sundargarh(2),won,494282,(+ 138808),JUAL ORAM,Bharatiya Janata Party
1493,Odisha,Sundargarh(2),lost,355474,( -138808),DILIP KUMAR TIRKEY,Biju Janata Dal
1494,Odisha,Sundargarh(2),lost,261986,( -232296),JANARDAN DEHURY,Indian National Congress
1495,Odisha,Sundargarh(2),lost,9141,( -485141),JUSTIN LUGUN,Socialist Unity Centre Of India (COMMUNIST)
1496,Odisha,Sundargarh(2),lost,6027,( -488255),JAGABANDHU ORAM,Independent
1497,Odisha,Sundargarh(2),lost,4052,( -490230),SUMANTA KUMAR SORENG,National Apni Party
1498,Odisha,Sundargarh(2),lost,3981,( -490301),SANTOSH JURA,Naba Bharata Nirmana Seva Party
1499,Odisha,Sundargarh(2),lost,3033,( -491249),PARUA EKKA,Jharkhand Party
1500,Odisha,Sundargarh(2),,17801,( -476481),NOTA,None of the Above
1501,Odisha,Bargarh(1),won,716359,(+ 251667),PRADEEP PUROHIT,Bharatiya Janata Party
1502,Odisha,Bargarh(1),lost,464692,( -251667),PARINITA MISHRA,Biju Janata Dal
1503,Odisha,Bargarh(1),lost,93551,( -622808),SANJAY BHOI,Indian National Congress
1504,Odisha,Bargarh(1),lost,9322,( -707037),JAYARAM BAGH,Bahujan Samaj Party
1505,Odisha,Bargarh(1),lost,4563,( -711796),GNYANENDRA BEHERA,Independent
1506,Odisha,Bargarh(1),lost,4538,( -711821),DEVIKA SIKA,National Apni Party
1507,Odisha,Bargarh(1),lost,4298,( -712061),PRABHAT KUMAR DHARUA,Independent
1508,Odisha,Bargarh(1),,12541,( -703818),NOTA,None of the Above
1509,Maharashtra,Solapur(42),won,620225,(+ 74197),PRANITI SUSHILKUMAR SHINDE,Indian National Congress
1510,Maharashtra,Solapur(42),lost,546028,( -74197),RAM VITTHAL SATPUTE,Bharatiya Janata Party
1511,Maharashtra,Solapur(42),lost,10507,( -609718),AATISH MOHAN BANSODE,Independent
1512,Maharashtra,Solapur(42),lost,5268,( -614957),BABLU SIDRAM GAIKWAD,Bahujan Samaj Party
1513,Maharashtra,Solapur(42),lost,3493,( -616732),SHRIVIDYADURGADEVI MAULAPPA KURANE,Independent
1514,Maharashtra,Solapur(42),lost,3146,( -617079),RAMESH BHIMRAO SHIKHARE,Independent
1515,Maharashtra,Solapur(42),lost,2654,( -617571),PROF DR ARJUN GENA OHOL,Bahujan Mukti Party
1516,Maharashtra,Solapur(42),lost,1554,( -618671),BHANTENAAGAMURTI MOULAPPA KURANE,Independent
1517,Maharashtra,Solapur(42),lost,1480,( -618745),SUNILKUMAR TUKARAM SHINDE,Independent
1518,Maharashtra,Solapur(42),lost,1125,( -619100),YUGANDHAR CHANDRAKANT THOKALE,Peoples Party of India (Democratic)
1519,Maharashtra,Solapur(42),lost,886,( -619339),PARMESHWAR PANDURANG GEJAGE,Independent
1520,Maharashtra,Solapur(42),lost,846,( -619379),ADV VIKRAM UTTAM KASABE,Independent
1521,Maharashtra,Solapur(42),lost,833,( -619392),UGHADE VIJAYKUMAR BHAGWAN,Independent
1522,Maharashtra,Solapur(42),lost,679,( -619546),KUMAR CHANDRAKANT LONDHE,Baliraja Party
1523,Maharashtra,Solapur(42),lost,562,( -619663),KRISHNA NAGNATH BHISE,Independent
1524,Maharashtra,Solapur(42),lost,501,( -619724),ANNA SUKHADEV MASKE,Independent
1525,Maharashtra,Solapur(42),lost,409,( -619816),MAHASIDDHA TUKARAM GAYAKWAD,Independent
1526,Maharashtra,Solapur(42),lost,401,( -619824),SUDARSHAN RAYCHAND KHANDARE,Independent
1527,Maharashtra,Solapur(42),lost,394,( -619831),SONAVANE SHIVAJI CHANDRAKANT,Independent
1528,Maharashtra,Solapur(42),lost,389,( -619836),SACHIN SHAHU MASKE,Independent
1529,Maharashtra,Solapur(42),lost,380,( -619845),PROF. DR. SUBHASH KHANDERAO GAIKWAD,Independent
1530,Maharashtra,Solapur(42),,2725,( -617500),NOTA,None of the Above
1531,Maharashtra,Latur (41),won,609021,(+ 61881),DR. KALGE SHIVAJI BANDAPPA,Indian National Congress
1532,Maharashtra,Latur (41),lost,547140,( -61881),SUDHAKAR TUKARAM SHRANGARE,Bharatiya Janata Party
1533,Maharashtra,Latur (41),lost,42225,( -566796),NARSINGRAO UDGIRKAR,Vanchit Bahujan  Aaghadi
1534,Maharashtra,Latur (41),lost,5178,( -603843),ATITHI KHANDERAO SURYVANSHI,Swarajya Shakti Sena
1535,Maharashtra,Latur (41),lost,5121,( -603900),ALTE VISHWANATH MAHADEV,Bahujan Samaj Party
1536,Maharashtra,Latur (41),lost,2269,( -606752),KAMANT MACHHINDRA GUNWANTRAO,Bahujan Bharat Party
1537,Maharashtra,Latur (41),lost,2102,( -606919),ABHANG GANGARAM SURYAWANSHI,Independent
1538,Maharashtra,Latur (41),lost,2002,( -607019),DATTU SOPAN NARSINGE,Independent
1539,Maharashtra,Latur (41),lost,1726,( -607295),DEEPAK KEDAR,Independent
1540,Maharashtra,Latur (41),lost,1691,( -607330),UMESH AMBADAS KAMBLE,Independent
1541,Maharashtra,Latur (41),lost,1600,( -607421),BANSODE RAGHUNATH WAGHOJI,Independent
1542,Maharashtra,Latur (41),lost,1449,( -607572),BHARAT HARIBA NANAWARE,Peoples Party of India (Democratic)
1543,Maharashtra,Latur (41),lost,1382,( -607639),SHRIKANT BABURAO HOVAL,Bahujan Mukti Party
1544,Maharashtra,Latur (41),lost,1273,( -607748),PRAVIN MADHAV JOHARE,Swarajya Sena (Maharashtra)
1545,Maharashtra,Latur (41),lost,1241,( -607780),PANCHSHIL VIKRAM KAMBLE,Independent
1546,Maharashtra,Latur (41),lost,1128,( -607893),SHANKAR HARI TADAKHE,Baliraja Party
1547,Maharashtra,Latur (41),lost,1099,( -607922),AMOL MALU HANMANTE,Independent
1548,Maharashtra,Latur (41),lost,994,( -608027),ADV. KASBEKAR SHRIDHAR LIMBAJI,Rashtriya Sant Sandesh Party
1549,Maharashtra,Latur (41),lost,954,( -608067),BALAJI SHESHRAO BANSODE,Independent
1550,Maharashtra,Latur (41),lost,866,( -608155),BHIKAJI GANGARAM JADHAV,Kranti Kari Jai Hind Sena
1551,Maharashtra,Latur (41),lost,801,( -608220),VIKAS KONDIBA SHINDE,Maharashtra Vikas Aghadi
1552,Maharashtra,Latur (41),lost,795,( -608226),LAKHAN RAJARAM KAMBLE,Rashtriy Bahujan Party
1553,Maharashtra,Latur (41),lost,683,( -608338),BALAJI TUKARAM GAIKWAD,Bharat Peoples Sena
1554,Maharashtra,Latur (41),lost,620,( -608401),SUDHAKAR TUKARAM SURYAWANSHI,Independent
1555,Maharashtra,Latur (41),lost,581,( -608440),PAPITA RAOSAHEB RANDIVE,Independent
1556,Maharashtra,Latur (41),lost,533,( -608488),ADV. PRADIP S. CHINCHOLIKAR,Independent
1557,Maharashtra,Latur (41),lost,525,( -608496),MUKESH GOVINDRAO GHODAKE,Independent
1558,Maharashtra,Latur (41),lost,513,( -608508),PANKAJ GOPALRAO WAKHARADAKAR,Independent
1559,Maharashtra,Latur (41),,3567,( -605454),NOTA,None of the Above
1560,Maharashtra,Mumbai North Central(29),won,445545,(+ 16514),GAIKWAD VARSHA EKNATH,Indian National Congress
1561,Maharashtra,Mumbai North Central(29),lost,429031,( -16514),ADV UJWAL NIKAM,Bharatiya Janata Party
1562,Maharashtra,Mumbai North Central(29),lost,8288,( -437257),SANTOSH GANPAT AMBULGE,Vanchit Bahujan  Aaghadi
1563,Maharashtra,Mumbai North Central(29),lost,3243,( -442302),AYYUB AMIN HUNGUND,Bahujan Samaj Party
1564,Maharashtra,Mumbai North Central(29),lost,2211,( -443334),ANSON THOMAS,People's Party of India(secular)
1565,Maharashtra,Mumbai North Central(29),lost,1531,( -444014),RAMZAN ALI CHAUDHARY,All India Majlis-E-Ittehadul Muslimeen
1566,Maharashtra,Mumbai North Central(29),lost,1041,( -444504),AJAZ MOHAMMAD SAFI KHAN,Independent
1567,Maharashtra,Mumbai North Central(29),lost,821,( -444724),HAYATULAH ABDULAH SHAIKH,Akhil Bharatiya Muslim League (Secular)
1568,Maharashtra,Mumbai North Central(29),lost,733,( -444812),SHANTARAM S DIGHE,Independent
1569,Maharashtra,Mumbai North Central(29),lost,732,( -444813),NAZMAKHATHUN MOHAMMED ZAFAR KHAN,Independent
1570,Maharashtra,Mumbai North Central(29),lost,708,( -444837),NARENDRA MISHRA,Independent
1571,Maharashtra,Mumbai North Central(29),lost,690,( -444855),HARSHADA BABURAV JADHAV,Maharashtra Vikas Aghadi
1572,Maharashtra,Mumbai North Central(29),lost,683,( -444862),ADV ASIF ALI SIDDIQUIE,Independent
1573,Maharashtra,Mumbai North Central(29),lost,636,( -444909),RAMA ARUN SABLE,Independent
1574,Maharashtra,Mumbai North Central(29),lost,623,( -444922),SANDEEP BHAU RAMCHANDRA JADHAV,Independent
1575,Maharashtra,Mumbai North Central(29),lost,586,( -444959),DR GAFFAR IBRAHIM SAYED,Independent
1576,Maharashtra,Mumbai North Central(29),lost,558,( -444987),ADV UTTAMKUMAR NAKUL SAJANI SAHU,Independent
1577,Maharashtra,Mumbai North Central(29),lost,428,( -445117),KHAN ABBAS AHMED,Bahujan Maha Party
1578,Maharashtra,Mumbai North Central(29),lost,405,( -445140),MUSHTAQUE HAIDER SHAIKH,Independent
1579,Maharashtra,Mumbai North Central(29),lost,391,( -445154),DR ADV YASHWANT RAMBHAU KASBE,Bhartiya Jan Vikas Aaghadi
1580,Maharashtra,Mumbai North Central(29),lost,367,( -445178),KURBAN SHAHADAT HUSAIN,Rashtriya Ulama Council
1581,Maharashtra,Mumbai North Central(29),lost,355,( -445190),ABDUL TAHIR ADVOCATE BABLU RAJNIKANT,Independent
1582,Maharashtra,Mumbai North Central(29),lost,345,( -445200),SHAUKAT ABDUL RAFIQ KHAN,Insaniyat Party
1583,Maharashtra,Mumbai North Central(29),lost,289,( -445256),RAJESH MOHAN LOKHANDE,Independent
1584,Maharashtra,Mumbai North Central(29),lost,220,( -445325),YUNUSALI RASHID MULLA,Independent
1585,Maharashtra,Mumbai North Central(29),lost,180,( -445365),ADV FEROZ SHAIKH,Independent
1586,Maharashtra,Mumbai North Central(29),lost,173,( -445372),MUZAFAR ALI SHAIKH,Independent
1587,Maharashtra,Mumbai North Central(29),,9749,( -435796),NOTA,None of the Above
1588,Maharashtra,Jalna(18),won,607897,(+ 109958),KALYAN VAIJINATHRAO KALE,Indian National Congress
1589,Maharashtra,Jalna(18),lost,497939,( -109958),DANVE RAOSAHEB DADARAO,Bharatiya Janata Party
1590,Maharashtra,Jalna(18),lost,155930,( -451967),MANGESH SANJAY SABLE,Independent
1591,Maharashtra,Jalna(18),lost,37810,( -570087),BAKALE PRABHAKAR DEVGAN,Vanchit Bahujan  Aaghadi
1592,Maharashtra,Jalna(18),lost,9570,( -598327),BABASAHEB SANTUKRAO SHELKE,Samata Party
1593,Maharashtra,Jalna(18),lost,6337,( -601560),CHABUKSWAR RAHUL NIRANJAN,Independent
1594,Maharashtra,Jalna(18),lost,6008,( -601889),NIVRUTTI VISHWNATH BANSODE,Bahujan Samaj Party
1595,Maharashtra,Jalna(18),lost,5522,( -602375),DIPAK BHIMRAO BORHADE,Samnak Janta Party
1596,Maharashtra,Jalna(18),lost,4948,( -602949),TANAJI TUKARAM BHOJANE,Independent
1597,Maharashtra,Jalna(18),lost,3728,( -604169),KAMBLE MAROTI DASHARATH,Independent
1598,Maharashtra,Jalna(18),lost,2875,( -605022),RAJENDRA NAMDEO MAGRE,Independent
1599,Maharashtra,Jalna(18),lost,2737,( -605160),MANOJ NEMINATH KOLTE,Independent
1600,Maharashtra,Jalna(18),lost,2591,( -605306),MUKESH PRABHAT RATHOD,Akhil Bhartiya Parivar Party
1601,Maharashtra,Jalna(18),lost,2417,( -605480),BABASAHEB PATIL SHINDE,Independent
1602,Maharashtra,Jalna(18),lost,1967,( -605930),KADUBA MHATARBA INGLE,Independent
1603,Maharashtra,Jalna(18),lost,1546,( -606351),AJHAR ANWAR SAYYAD,Independent
1604,Maharashtra,Jalna(18),lost,1394,( -606503),AHMAD RAHIM SAIKH BAGWAN,Independent
1605,Maharashtra,Jalna(18),lost,1342,( -606555),ADV. YOGESH DATTU GULLAPELLI,Independent
1606,Maharashtra,Jalna(18),lost,1174,( -606723),BHAGWAN SAHEBRAO REGUDE,Hindustan Janta Party
1607,Maharashtra,Jalna(18),lost,1143,( -606754),DNYANESHWAR DAGDUJI NADE,Independent
1608,Maharashtra,Jalna(18),lost,1139,( -606758),DHANANJAY RUPRAOJI KAKDE (PATIL),Bharatheeya Jawan Kisan Party
1609,Maharashtra,Jalna(18),lost,1047,( -606850),ABDUL RAFIQ ABDUL LATIF,Independent
1610,Maharashtra,Jalna(18),lost,974,( -606923),SHYAM RUSTUMRAO SHIRSATH,Bahujan Republican  Socialist Party
1611,Maharashtra,Jalna(18),lost,647,( -607250),RATAN ASARAM LANDGE,Independent
1612,Maharashtra,Jalna(18),lost,644,( -607253),VIKAS CHHAGAN LAHANE,Independent
1613,Maharashtra,Jalna(18),lost,546,( -607351),SHAM PAWALS RUPEKAR,Independent
1614,Maharashtra,Jalna(18),,3537,( -604360),NOTA,None of the Above
1615,Maharashtra,Nanded(16),won,528894,(+ 59442),CHAVAN VASANTRAO BALWANTRAO,Indian National Congress
1616,Maharashtra,Nanded(16),lost,469452,( -59442),CHIKHALIKAR PRATAPRAO GOVINDRAO,Bharatiya Janata Party
1617,Maharashtra,Nanded(16),lost,92512,( -436382),AVINASH VISHWANATH BHOSIKAR,Vanchit Bahujan  Aaghadi
1618,Maharashtra,Nanded(16),lost,6901,( -521993),PANDURANG RAMA ADGULWAR,Bahujan Samaj Party
1619,Maharashtra,Nanded(16),lost,4325,( -524569),NIKHIL LAXMANRAO GARJE,Independent
1620,Maharashtra,Nanded(16),lost,3318,( -525576),NAGESH SAMBHAJI GAIKWAD,Independent
1621,Maharashtra,Nanded(16),lost,2080,( -526814),BHASKAR CHAMPATRAO DOIFODE,Independent
1622,Maharashtra,Nanded(16),lost,1890,( -527004),SUSHILA NILKANTHRAO PAWAR,Samnak Janta Party
1623,Maharashtra,Nanded(16),lost,1510,( -527384),ABDUL RAIS AHEMAD,Desh Janhit Party
1624,Maharashtra,Nanded(16),lost,1471,( -527423),DEVIDAS GOVINDRAO INGLE,Independent
1625,Maharashtra,Nanded(16),lost,1310,( -527584),KALPANA SANJAY GAIKWAD,Independent
1626,Maharashtra,Nanded(16),lost,1215,( -527679),KAUSAR SULTANA,Indian National League
1627,Maharashtra,Nanded(16),lost,1193,( -527701),SAHEBRAO BHIVA GAJBHARE,Independent
1628,Maharashtra,Nanded(16),lost,963,( -527931),JAGDISH LAXMAN POTRE,Independent
1629,Maharashtra,Nanded(16),lost,950,( -527944),GAJANAN DATTRAMJI DHUMAL,Independent
1630,Maharashtra,Nanded(16),lost,923,( -527971),LAXMAN NAGORAO PATIL,Independent
1631,Maharashtra,Nanded(16),lost,913,( -527981),MAHARUDRA KESHAV POPLAITKAR,Independent
1632,Maharashtra,Nanded(16),lost,903,( -527991),RUKMINBAI SHANKARRAO GITE,Bharatiya Praja Surajya Paksha
1633,Maharashtra,Nanded(16),lost,878,( -528016),HARI PIRAJI BOYALE,Bahujan Bharat Party
1634,Maharashtra,Nanded(16),lost,808,( -528086),RATHOD SURESH GOPINATH,Independent
1635,Maharashtra,Nanded(16),lost,799,( -528095),KADAM SURAJ DEVENDRA,Independent
1636,Maharashtra,Nanded(16),lost,737,( -528157),RAHUL SURYAKANT YANGADE,Bahujan Mukti Party
1637,Maharashtra,Nanded(16),lost,681,( -528213),DNYANESHWAR RAOSAHEB KAPATE,Independent
1638,Maharashtra,Nanded(16),,3628,( -525266),NOTA,None of the Above
1639,Maharashtra,Chandrapur(13),won,718410,(+ 260406),DHANORKAR PRATIBHA SURESH ALIAS BALUBHAU,Indian National Congress
1640,Maharashtra,Chandrapur(13),lost,458004,( -260406),MUNGANTIWAR SUDHIR SACCHIDANAND,Bharatiya Janata Party
1641,Maharashtra,Chandrapur(13),lost,21980,( -696430),BELE RAJESH WARLUJI,Vanchit Bahujan  Aaghadi
1642,Maharashtra,Chandrapur(13),lost,9188,( -709222),RAJENDRA HARISHCHANDRA RAMTEKE,Bahujan Samaj Party
1643,Maharashtra,Chandrapur(13),lost,5088,( -713322),SANJAY NILKANTH GAWANDE,Independent
1644,Maharashtra,Chandrapur(13),lost,3224,( -715186),DIWAKAR HARIJI URADE,Independent
1645,Maharashtra,Chandrapur(13),lost,2256,( -716154),NAMDEO MANIKRAO SHEDMAKE,Gondvana Gantantra Party
1646,Maharashtra,Chandrapur(13),lost,1998,( -716412),SEWAKDAS KAWDUJI BARKE,Peoples Party of India (Democratic)
1647,Maharashtra,Chandrapur(13),lost,1906,( -716504),AWACHIT SHAMRAO SAYAM,Janseva Gondwana Party
1648,Maharashtra,Chandrapur(13),lost,1761,( -716649),MILIND PRALHAD DAHIWALE,Independent
1649,Maharashtra,Chandrapur(13),lost,1670,( -716740),ASHOK RANAJI RATHOD,Jay Vidarbha Party
1650,Maharashtra,Chandrapur(13),lost,1520,( -716890),VIKAS UTTAMRAO LASANTE,Sanman Rajkiya Paksha
1651,Maharashtra,Chandrapur(13),lost,1426,( -716984),VIDYASAGAR KALIDAS KASARLAWAR,Bhim Sena
1652,Maharashtra,Chandrapur(13),lost,1057,( -717353),VANITA JITENDRA RAUT,Akhil Bharatiya Manavata Paksha
1653,Maharashtra,Chandrapur(13),lost,973,( -717437),PURNIMA DILIP GHONMODE,Bahujan Republican  Socialist Party
1654,Maharashtra,Chandrapur(13),,10843,( -707567),NOTA,None of the Above
1655,Maharashtra,Gadchiroli - Chimur(12),won,617792,(+ 141696),DR. KIRSAN  NAMDEO,Indian National Congress
1656,Maharashtra,Gadchiroli - Chimur(12),lost,476096,( -141696),ASHOK  MAHADEORAO NETE,Bharatiya Janata Party
1657,Maharashtra,Gadchiroli - Chimur(12),lost,19055,( -598737),GONNADE  YOGESH  NAMDEORAO,Bahujan Samaj Party
1658,Maharashtra,Gadchiroli - Chimur(12),lost,15922,( -601870),HITESH PANDURANG MADAVI,Vanchit Bahujan  Aaghadi
1659,Maharashtra,Gadchiroli - Chimur(12),lost,6126,( -611666),VINOD GURUDAS MADAVI,Independent
1660,Maharashtra,Gadchiroli - Chimur(12),lost,4402,( -613390),KODAPE VILAS SHAMARAO,Independent
1661,Maharashtra,Gadchiroli - Chimur(12),lost,2872,( -614920),SUHAS UMESH KUMRE,Bhim Sena
1662,Maharashtra,Gadchiroli - Chimur(12),lost,2789,( -615003),KARAN SURESH SAYAM,Independent
1663,Maharashtra,Gadchiroli - Chimur(12),lost,2555,( -615237),BARIKRAO DHARMAJI MADAVI,Bahujan Republican  Socialist Party
1664,Maharashtra,Gadchiroli - Chimur(12),lost,2174,( -615618),DHIRAJ PURUSHOTTAM SHEDMAKE,Janseva Gondwana Party
1665,Maharashtra,Gadchiroli - Chimur(12),,16577,( -601215),NOTA,None of the Above
1666,Maharashtra,Bhandara Gondiya(11),won,587413,(+ 37380),DR. PRASHANT YADAORAO PADOLE,Indian National Congress
1667,Maharashtra,Bhandara Gondiya(11),lost,550033,( -37380),SUNIL BABURAO MENDHE,Bharatiya Janata Party
1668,Maharashtra,Bhandara Gondiya(11),lost,25462,( -561951),KUMBHALKAR SANJAY BHAIYY,Bahujan Samaj Party
1669,Maharashtra,Bhandara Gondiya(11),lost,24858,( -562555),SANJAY GAJANAN KEWAT,Vanchit Bahujan  Aaghadi
1670,Maharashtra,Bhandara Gondiya(11),lost,13103,( -574310),SEWAKBHAU NIRDHAN WAGHAYE,Independent
1671,Maharashtra,Bhandara Gondiya(11),lost,4057,( -583356),AJAYKUMAR BHARTIYA,Akhil Bhartiya Parivar Party
1672,Maharashtra,Bhandara Gondiya(11),lost,3719,( -583694),SUMIT VIJAY PANDE,Independent
1673,Maharashtra,Bhandara Gondiya(11),lost,2389,( -585024),VIRENDRAKUMAR KASTURCHAND JAISWAL,Independent
1674,Maharashtra,Bhandara Gondiya(11),lost,2009,( -585404),DEVILAL SUKHRAM NEPALE,Peoples Party of India (Democratic)
1675,Maharashtra,Bhandara Gondiya(11),lost,1981,( -585432),DR. AKASH MADHUKAR JIBHAKATE,Independent
1676,Maharashtra,Bhandara Gondiya(11),lost,1649,( -585764),VILAS BABURAO LENDE,Lok Swarajya Party
1677,Maharashtra,Bhandara Gondiya(11),lost,1616,( -585797),VILAS JIYALAL RAUT,Independent
1678,Maharashtra,Bhandara Gondiya(11),lost,1497,( -585916),BENIRAM RAMCHAND FULBANDHE,Independent
1679,Maharashtra,Bhandara Gondiya(11),lost,1196,( -586217),PRADEEP  DHOBALE,Independent
1680,Maharashtra,Bhandara Gondiya(11),lost,1162,( -586251),SURYAKIRAN ISHWAR NANDAGAWALI,Independent
1681,Maharashtra,Bhandara Gondiya(11),lost,1028,( -586385),ITWALE SHARAD MARTAND,Independent
1682,Maharashtra,Bhandara Gondiya(11),lost,842,( -586571),TULSIRAM URKUDA GEDAM,Independent
1683,Maharashtra,Bhandara Gondiya(11),lost,791,( -586622),CHAITRAM DASHARATH KOKASE,Independent
1684,Maharashtra,Bhandara Gondiya(11),,10268,( -577145),NOTA,None of the Above
1685,Maharashtra,Ramtek (9),won,613025,(+ 76768),Shyamkumar (Babalu) Daulat Barve,Indian National Congress
1686,Maharashtra,Ramtek (9),lost,536257,( -76768),RAJU DEONATH PARVE,Shiv Sena
1687,Maharashtra,Ramtek (9),lost,26098,( -586927),SANDIP SAHADEO MESHRAM,Bahujan Samaj Party
1688,Maharashtra,Ramtek (9),lost,24383,( -588642),KISHORE  UTTAMRAO GAJBHIYE,Independent
1689,Maharashtra,Ramtek (9),lost,6026,( -606999),AJAY BAKARAM CHAVAN,Independent
1690,Maharashtra,Ramtek (9),lost,5814,( -607211),SANVIDHAN G LOKHANDE,Baliraja Party
1691,Maharashtra,Ramtek (9),lost,5137,( -607888),ROSHANI ATUL GAJBHIYE,Gondvana Gantantra Party
1692,Maharashtra,Ramtek (9),lost,3766,( -609259),GOWARDHAN DEORAO KUMBHARE,Viro Ke Vir Indian Party
1693,Maharashtra,Ramtek (9),lost,3215,( -609810),ARVIND SHIVAJI TANDEKAR,Independent
1694,Maharashtra,Ramtek (9),lost,1992,( -611033),SANJAY VASANTRAO BORKAR,Maharashtra Vikas Aghadi
1695,Maharashtra,Ramtek (9),lost,1884,( -611141),SHANKAR CHINTAMAN CHAHANDE,Vanchit Bahujan  Aaghadi
1696,Maharashtra,Ramtek (9),lost,1818,( -611207),ADV BHIMRAO SHENDE,Bahujan Republican  Socialist Party
1697,Maharashtra,Ramtek (9),lost,1773,( -611252),GAIKWAD MANJUSHA SACHIN,Akhil Bhartiya Parivar Party
1698,Maharashtra,Ramtek (9),lost,1620,( -611405),ASHISH BHAURAO SARODE,Bhim Sena
1699,Maharashtra,Ramtek (9),lost,1340,( -611685),PRAMOD SHRIPAT KHOBRAGADE,Ambedkarite Party of India
1700,Maharashtra,Ramtek (9),lost,1229,( -611796),UMESH RAJU  KHADSE,Rashtra Samarpan Party
1701,Maharashtra,Ramtek (9),lost,977,( -612048),SIDDHARTH GADIJI PATIL,Peoples Party of India (Democratic)
1702,Maharashtra,Ramtek (9),lost,925,( -612100),PREMKUMAR DASHRATH GAJBHARE,Independent
1703,Maharashtra,Ramtek (9),lost,913,( -612112),RIDDHESHWAR ANANDRAO BELEY,Republican Party of India (A)
1704,Maharashtra,Ramtek (9),lost,888,( -612137),BHOJRAJ TUKARAM SARODE,Jay Vidarbha Party
1705,Maharashtra,Ramtek (9),lost,860,( -612165),VILAS SHRIPAT KHADSE,Independent
1706,Maharashtra,Ramtek (9),lost,850,( -612175),SUBHASH LOKHANDE,Independent
1707,Maharashtra,Ramtek (9),lost,847,( -612178),KARTIK GENDLALJI DOKE,Independent
1708,Maharashtra,Ramtek (9),lost,781,( -612244),ADV ULHAS SHALIKRAM DUPARE,Independent
1709,Maharashtra,Ramtek (9),lost,698,( -612327),LAROKAR SURESH PUNDLIK,Independent
1710,Maharashtra,Ramtek (9),lost,651,( -612374),SUNIL UTTAMRAO SALVE,Independent
1711,Maharashtra,Ramtek (9),lost,511,( -612514),GOWARDHAN NAMDEO SOMDEVE,Independent
1712,Maharashtra,Ramtek (9),lost,407,( -612618),VILAS GANESH ZODAPE,Independent
1713,Maharashtra,Ramtek (9),,7827,( -605198),NOTA,None of the Above
1714,Maharashtra,Amravati (7),won,526271,(+ 19731),BALWANT BASWANT WANKHADE,Indian National Congress
1715,Maharashtra,Amravati (7),lost,506540,( -19731),NAVNEET RAVI RANA,Bharatiya Janata Party
1716,Maharashtra,Amravati (7),lost,85300,( -440971),DINESH GANESHDAS BUB,Prahar Janshakti Party
1717,Maharashtra,Amravati (7),lost,18793,( -507478),ANANDRAJ YASHWANT AMBEDKAR,Republican Sena
1718,Maharashtra,Amravati (7),lost,4524,( -521747),KISHOR BHIMRAO LABADE,Independent
1719,Maharashtra,Amravati (7),lost,4513,( -521758),SANJAYKUMAR FATTESINGH GADGE,Bahujan Samaj Party
1720,Maharashtra,Amravati (7),lost,2690,( -523581),SUMITRA SAHEBRAO GAIKWAD,Independent
1721,Maharashtra,Amravati (7),lost,2088,( -524183),ARUN YASHWANTRAO BHAGAT,Independent
1722,Maharashtra,Amravati (7),lost,2072,( -524199),KISHOR DNYANESHWAR TAYDE,Independent
1723,Maharashtra,Amravati (7),lost,1818,( -524453),SURAJ DHANRAJ NAGDVANE,Independent
1724,Maharashtra,Amravati (7),lost,1570,( -524701),GAUTAM ALIAS ANANTA RAMDAS INGALE,Independent
1725,Maharashtra,Amravati (7),lost,1307,( -524964),PRAMOD RAMKRUSHNA CHOURPAGAR,Independent
1726,Maharashtra,Amravati (7),lost,1206,( -525065),ANIL THAWARE ALIAS DR. ANILKUMAR NAGBUDDHA,Independent
1727,Maharashtra,Amravati (7),lost,1052,( -525219),SURESH PUNDLIK MESHRAM,Independent
1728,Maharashtra,Amravati (7),lost,943,( -525328),SATISH YASHWANTRAO GEDAM,Independent
1729,Maharashtra,Amravati (7),lost,871,( -525400),MANOHAR KRUSHNAJI KURHADE,Independent
1730,Maharashtra,Amravati (7),lost,762,( -525509),DIGAMBAR WAMAN BHAGAT,Naki Bharatiya Ekta Party
1731,Maharashtra,Amravati (7),lost,730,( -525541),ENGI. AVINASH HARISHCHANDRA DHANAWATE,Peoples Party of India (Democratic)
1732,Maharashtra,Amravati (7),lost,670,( -525601),HIMMAT BHIMRAO DHOLE,Independent
1733,Maharashtra,Amravati (7),lost,659,( -525612),SUSHAMA GAJANAN AWACHAR,Jay Vidarbha Party
1734,Maharashtra,Amravati (7),lost,629,( -525642),GANESH NANAJI RAMTEKE,Akhil Bhartiya Parivar Party
1735,Maharashtra,Amravati (7),lost,539,( -525732),MANKAR DNYANESHWAR KASHIRAO,Independent
1736,Maharashtra,Amravati (7),lost,527,( -525744),TARA SURESH WANKHADE,Independent
1737,Maharashtra,Amravati (7),lost,510,( -525761),SHRIKRUSHNA SAKHARAMJI KSHIRSAGAR,Independent
1738,Maharashtra,Amravati (7),lost,495,( -525776),ADV. RAJU MADHUKARRAO KALANE,Bahujan Bharat Party
1739,Maharashtra,Amravati (7),lost,443,( -525828),VARSHA BHAGAWANTRAO BHAGAT,Independent
1740,Maharashtra,Amravati (7),lost,441,( -525830),BHARAT CHAMPATRAO YANGAD,Independent
1741,Maharashtra,Amravati (7),lost,422,( -525849),NARENDRA BABULAL KATHANE,Desh Janhit Party
1742,Maharashtra,Amravati (7),lost,365,( -525906),PRABHAKAR PANDURANG BHATKAR,Independent
1743,Maharashtra,Amravati (7),lost,337,( -525934),ADV. PRUTHVISAMRAT MUKINDRAO DIPWANSH,Independent
1744,Maharashtra,Amravati (7),lost,331,( -525940),GHAZI SAADUDDIN ZAHEER AHMED,Rashtriya Ulama Council
1745,Maharashtra,Amravati (7),lost,329,( -525942),BHAURAO SAMPATRAO WANKHADE,All India Forward Bloc
1746,Maharashtra,Amravati (7),lost,288,( -525983),RAVI GUNWANTRAO WANKHADE,Independent
1747,Maharashtra,Amravati (7),lost,272,( -525999),SONALI SANJAY MESHRAM,Independent
1748,Maharashtra,Amravati (7),lost,257,( -526014),SANDEEP BABULAL MESHRAM,Independent
1749,Maharashtra,Amravati (7),lost,239,( -526032),RAJESH TULSHIRAM KHADE,Independent
1750,Maharashtra,Amravati (7),lost,232,( -526039),RAJU MAHADEVRAO SONONE,Independent
1751,Maharashtra,Amravati (7),,2544,( -523727),NOTA,None of the Above
1752,Maharashtra,Dhule(2),won,583866,(+ 3831),BACHHAV SHOBHA DINESH,Indian National Congress
1753,Maharashtra,Dhule(2),lost,580035,( -3831),BHAMRE SUBHASH RAMRAO,Bharatiya Janata Party
1754,Maharashtra,Dhule(2),lost,19713,( -564153),BHARAT BABURAO JADHAV,Independent
1755,Maharashtra,Dhule(2),lost,4973,( -578893),ZAHOOR AHAMAD MOHAMAD YUSUF (JAM JAM),Bahujan Samaj Party
1756,Maharashtra,Dhule(2),lost,3746,( -580120),SANJAY RAMESHWAR SHARMA,Independent
1757,Maharashtra,Dhule(2),lost,3707,( -580159),SHAFEEQUE AHEMAD MD. RAFEEQUE,Independent
1758,Maharashtra,Dhule(2),lost,3683,( -580183),NAMDEO ROHIDAS YELAVE,Bharatheeya Jawan Kisan Party
1759,Maharashtra,Dhule(2),lost,3660,( -580206),ADV SACHIN UMAJI NIKAM,Independent
1760,Maharashtra,Dhule(2),lost,3452,( -580414),RAJ CHAVAN,Independent
1761,Maharashtra,Dhule(2),lost,1085,( -582781),MOHAMMAD ISMAIL JUMMAN,Independent
1762,Maharashtra,Dhule(2),lost,1038,( -582828),SURESH JAGANNATH BRAHMANKAR (SURESH BAPU),Independent
1763,Maharashtra,Dhule(2),lost,1001,( -582865),PATIL SHIVAJI NATHU,All India Forward Bloc
1764,Maharashtra,Dhule(2),lost,951,( -582915),SHAIKH MOHAMMAD ZAID SHAMIM AHMED,Welfare Party Of India
1765,Maharashtra,Dhule(2),lost,835,( -583031),MOHAMMAD AAMEEN MOHAMMAD FARUQUE,Independent
1766,Maharashtra,Dhule(2),lost,781,( -583085),MUQEEM MEENA NAGRI,Bhim Sena
1767,Maharashtra,Dhule(2),lost,763,( -583103),IRFAN. MO. ISHAK (NADIR),Independent
1768,Maharashtra,Dhule(2),lost,736,( -583130),MALAY PRAKASH PATIL,Independent
1769,Maharashtra,Dhule(2),lost,577,( -583289),ABDUL HAFEEZ ABDUL HAQUE,Independent
1770,Maharashtra,Dhule(2),,4693,( -579173),NOTA,None of the Above
1771,Maharashtra,Nandurbar(1),won,745998,(+ 159120),ADV GOWAAL KAGADA PADAVI,Indian National Congress
1772,Maharashtra,Nandurbar(1),lost,586878,( -159120),DR HEENA VIJAYKUMAR GAVIT,Bharatiya Janata Party
1773,Maharashtra,Nandurbar(1),lost,10644,( -735354),ANANDA SUKALAL KOLI,Bahujan Samaj Party
1774,Maharashtra,Nandurbar(1),lost,8887,( -737111),SUSHILKUMAR JAHANGIR PAWARA,Independent
1775,Maharashtra,Nandurbar(1),lost,6947,( -739051),NIRMALA VASAVE,Peoples Party of India (Democratic)
1776,Maharashtra,Nandurbar(1),lost,4947,( -741051),ROHIDAS GEMAJI VALVI,Independent
1777,Maharashtra,Nandurbar(1),lost,4081,( -741917),HEMANT MANSARAM KOLI,Vanchit Bahujan  Aaghadi
1778,Maharashtra,Nandurbar(1),lost,3571,( -742427),DEEPAKKUMAR MADHUKAR SHIRSATH,Independent
1779,Maharashtra,Nandurbar(1),lost,2625,( -743373),RAVINDRA RANJIT VALVI,Bharat Adivasi Party
1780,Maharashtra,Nandurbar(1),lost,2587,( -743411),JALAMSING SUTUM PAWAR,Independent
1781,Maharashtra,Nandurbar(1),lost,2381,( -743617),GITANJALI SHASHIKANT KOLI,Independent
1782,Maharashtra,Nandurbar(1),,14123,( -731875),NOTA,None of the Above
1783,Maharashtra,Satara(45),won,571134,(+ 32771),SHRIMANT CHH UDAYANRAJE PRATAPSINHAMAHARAJ BHONSLE,Bharatiya Janata Party
1784,Maharashtra,Satara(45),lost,538363,( -32771),SHASHIKANT JAYVANTRAO SHINDE,Nationalist Congress Party – Sharadchandra Pawar
1785,Maharashtra,Satara(45),lost,37062,( -534072),GADE SANJAY KONDIBA,Independent
1786,Maharashtra,Satara(45),lost,11912,( -559222),KADAM PRASHANT RAGHUNATH,Vanchit Bahujan  Aaghadi
1787,Maharashtra,Satara(45),lost,6485,( -564649),ANAND RAMESH THORWADE,Bahujan Samaj Party
1788,Maharashtra,Satara(45),lost,4712,( -566422),KORDE SURESHRAO DINKAR,Independent
1789,Maharashtra,Satara(45),lost,3951,( -567183),MARUTI DHONDIRAM JANKAR,Independent
1790,Maharashtra,Satara(45),lost,3458,( -567676),SEEMA SUNIL POTDAR,Independent
1791,Maharashtra,Satara(45),lost,3438,( -567696),VISHWAJIT PATIL UNDALKAR,Independent
1792,Maharashtra,Satara(45),lost,2674,( -568460),NIVRUTTI KERU SHINDE,Independent
1793,Maharashtra,Satara(45),lost,2501,( -568633),SAYAJI GANPAT WAGHMARE,Bahujan Republican  Socialist Party
1794,Maharashtra,Satara(45),lost,2015,( -569119),SACHIN SUBHASH MAHAJAN,Independent
1795,Maharashtra,Satara(45),lost,1395,( -569739),DR ABHIJEET WAMANRAO AWADE BICHUKALE,Independent
1796,Maharashtra,Satara(45),lost,1301,( -569833),TUSHAR VIJAY MOTLING,Bahujan Mukti Party
1797,Maharashtra,Satara(45),lost,1123,( -570011),PRATIBHA SHELAR,Independent
1798,Maharashtra,Satara(45),lost,958,( -570176),BAGAL SADASHIV SAHEBRAO,Independent
1799,Maharashtra,Satara(45),,5522,( -565612),NOTA,None of the Above
1800,Maharashtra,Pune(34),won,584728,(+ 123038),MURLIDHAR MOHOL,Bharatiya Janata Party
1801,Maharashtra,Pune(34),lost,461690,( -123038),DHANGEKAR RAVINDRA HEMRAJ,Indian National Congress
1802,Maharashtra,Pune(34),lost,32012,( -552716),VASANT (TATYA) MORE,Vanchit Bahujan  Aaghadi
1803,Maharashtra,Pune(34),lost,3974,( -580754),RANPISE PRASHANT DADARAM,Bahujan Samaj Party
1804,Maharashtra,Pune(34),lost,1645,( -583083),CHORMALE SANDIP SOPAN,Independent
1805,Maharashtra,Pune(34),lost,1451,( -583277),GORAKH NARAYAN GHODKE,Independent
1806,Maharashtra,Pune(34),lost,1052,( -583676),KIRAN LAXMAN RAYKAR,Independent
1807,Maharashtra,Pune(34),lost,860,( -583868),ANIS ARASHID SUNDAKE,All India Majlis-E-Ittehadul Muslimeen
1808,Maharashtra,Pune(34),lost,789,( -583939),SACHIN DATTATRAY DHANKUDE,Independent
1809,Maharashtra,Pune(34),lost,698,( -584030),YUVRAJ CHANDRAKANT  LIMBOLE,Right to Recall Party
1810,Maharashtra,Pune(34),lost,650,( -584078),DR. DEVYANI PANDIT,Independent
1811,Maharashtra,Pune(34),lost,534,( -584194),NARENDRA DNYANESHWAR PAWTEKAR,Independent
1812,Maharashtra,Pune(34),lost,515,( -584213),SAGAR SAMBHAJI PORE,Independent
1813,Maharashtra,Pune(34),lost,437,( -584291),SURESH DNYANOBA PATIL,Sainik Samaj Party
1814,Maharashtra,Pune(34),lost,433,( -584295),AMBORE MANJUNATH MARUTI,Independent
1815,Maharashtra,Pune(34),lost,415,( -584313),ASHWINI PRATIBHA KHAIRNAR,Independent
1816,Maharashtra,Pune(34),lost,382,( -584346),VIJAY VINAYAK JAGTAP,Independent
1817,Maharashtra,Pune(34),lost,375,( -584353),HEMANT BABURAV KOLEKAR ALIAS HEMANT PATIL,Apni Prajahit Party
1818,Maharashtra,Pune(34),lost,352,( -584376),MANOJ LAXMAN VETAL,Bhim Sena
1819,Maharashtra,Pune(34),lost,351,( -584377),NEERAJ SUNIL KAMTHAN,Hindu Samaj Party
1820,Maharashtra,Pune(34),lost,347,( -584381),KAMBLE MILIND,Bahujan Samaj Party  (Ambedkar)
1821,Maharashtra,Pune(34),lost,314,( -584414),CHANDRAKANT PARMESHWAR SAWANT,Independent
1822,Maharashtra,Pune(34),lost,313,( -584415),SHABBIR SAJJANBHAI TAMBOLI,Independent
1823,Maharashtra,Pune(34),lost,311,( -584417),SANJAY LAXMAN KENDALE,Independent
1824,Maharashtra,Pune(34),lost,305,( -584423),JOHNSON VASANT KOLHAPURE,Independent
1825,Maharashtra,Pune(34),lost,299,( -584429),ADV. YOGESH MAKANE,Independent
1826,Maharashtra,Pune(34),lost,294,( -584434),SUBROTO ROY,Ekam Sanatan Bharat Dal
1827,Maharashtra,Pune(34),lost,259,( -584469),DR. BALASAHEB ARJUN POL,Independent
1828,Maharashtra,Pune(34),lost,240,( -584488),VIJAYALAXMI SHRIKANT SINDAGI,Rashtriya Maratha Party
1829,Maharashtra,Pune(34),lost,231,( -584497),MAHESH DASHRATH MHASKE,Independent
1830,Maharashtra,Pune(34),lost,223,( -584505),YABES ALIAS AMOL SHAMUVEL TUJARE,Independent
1831,Maharashtra,Pune(34),lost,185,( -584543),VIJAY PANDURANGRAO DESHMUKH (DABADGAONKAR),Independent
1832,Maharashtra,Pune(34),lost,164,( -584564),BABA SALIM SAYYED,Independent
1833,Maharashtra,Pune(34),lost,146,( -584582),BAGBAN SALEEM ABDUL RAZZAQUE,Independent
1834,Maharashtra,Pune(34),lost,138,( -584590),ZNYOSHO VIJAYPRAKASH,Independent
1835,Maharashtra,Pune(34),,7460,( -577268),NOTA,None of the Above
1836,Maharashtra,Mumbai North(26),won,680146,(+ 357608),PIYUSH GOYAL,Bharatiya Janata Party
1837,Maharashtra,Mumbai North(26),lost,322538,( -357608),BHUSHAN PATIL,Indian National Congress
1838,Maharashtra,Mumbai North(26),lost,6052,( -674094),ADV. SONAL DIWAKAR GONDANE,Vanchit Bahujan  Aaghadi
1839,Maharashtra,Mumbai North(26),lost,2923,( -677223),RAIS DOCTOR,Bahujan Samaj Party
1840,Maharashtra,Mumbai North(26),lost,1481,( -678665),PANDEY DHARMENDRA RAMMURAT,Independent
1841,Maharashtra,Mumbai North(26),lost,1472,( -678674),DIPTI ASHOK WALAWALKAR,Independent
1842,Maharashtra,Mumbai North(26),lost,1195,( -678951),COMRADE JAYRAM VISHWAKARMA,Socialist Unity Centre Of India (COMMUNIST)
1843,Maharashtra,Mumbai North(26),lost,971,( -679175),MUNNALAL GAJRAJ PRAJAPATI,Independent
1844,Maharashtra,Mumbai North(26),lost,686,( -679460),LAXMAN YELLPPA KURADE,Independent
1845,Maharashtra,Mumbai North(26),lost,633,( -679513),ADVOCATE KAPIL K. SONI,Independent
1846,Maharashtra,Mumbai North(26),lost,625,( -679521),DEEPALI BHAWARSING SHEKHAWAT,Maharashtra Vikas Aghadi
1847,Maharashtra,Mumbai North(26),lost,622,( -679524),KAMLESH DAYABHAI VYAS,Sardar Vallabhbhai Patel Party
1848,Maharashtra,Mumbai North(26),lost,508,( -679638),BIPIN BACHUBHAI SHAH,Hindu Samaj Party
1849,Maharashtra,Mumbai North(26),lost,486,( -679660),GURUDAS RAMDAS KHAIRNAR,Independent
1850,Maharashtra,Mumbai North(26),lost,450,( -679696),RAVI BABU GAVLI,Samata Party
1851,Maharashtra,Mumbai North(26),lost,405,( -679741),JAEENDRA VASANT SURVE,Bharatheeya Jawan Kisan Party
1852,Maharashtra,Mumbai North(26),lost,396,( -679750),ALIEK SUNDER MESHRAM,Bharatiya Mulnivasi Aazad Party
1853,Maharashtra,Mumbai North(26),lost,348,( -679798),SAYED ZULFIQAR ALAM,Bahujan Maha Party
1854,Maharashtra,Mumbai North(26),lost,210,( -679936),SANJAY MAFATLAL MORAKHIA,Independent
1855,Maharashtra,Mumbai North(26),,13346,( -666800),NOTA,None of the Above
1856,Maharashtra,Palghar(22),won,601244,(+ 183306),DR. HEMANT VISHNU SAVARA,Bharatiya Janata Party
1857,Maharashtra,Palghar(22),lost,417938,( -183306),BHARTI BHARAT KAMDI,Shiv Sena (Uddhav Balasaheb Thackrey)
1858,Maharashtra,Palghar(22),lost,254517,( -346727),RAJESH RAGHUNATH PATIL,Bahujan Vikas Aaghadi
1859,Maharashtra,Palghar(22),lost,15465,( -585779),BHARAT SAMJI VANGA,Bahujan Samaj Party
1860,Maharashtra,Palghar(22),lost,14235,( -587009),MEENA KISHOR BHAD,Independent
1861,Maharashtra,Palghar(22),lost,10936,( -590308),VIJAYA RAJKUMAR MHATRE,Vanchit Bahujan  Aaghadi
1862,Maharashtra,Palghar(22),lost,10761,( -590483),MOHAN BARAKU GUHE,Bharat Adivasi Party
1863,Maharashtra,Palghar(22),lost,10687,( -590557),DINKAR DATTATRAYA WADHAN,Independent
1864,Maharashtra,Palghar(22),lost,9821,( -591423),AMAR KISAN KAVALE,Independent
1865,Maharashtra,Palghar(22),lost,7085,( -594159),COMRADE RAHUL MEDHA,Marxist Leninist Party of India (Red Flag)
1866,Maharashtra,Palghar(22),,23385,( -577859),NOTA,None of the Above
1867,Maharashtra,Nagpur(10),won,655027,(+ 137603),NITIN JAIRAM GADKARI,Bharatiya Janata Party
1868,Maharashtra,Nagpur(10),lost,517424,( -137603),VIKAS THAKRE,Indian National Congress
1869,Maharashtra,Nagpur(10),lost,19242,( -635785),YOGIRAJ ALIAS YOGESH PATIRAM LANJEWAR,Bahujan Samaj Party
1870,Maharashtra,Nagpur(10),lost,2059,( -652968),KIVINSUKA VIRENDRA SURYAVANSHI,Desh Janhit Party
1871,Maharashtra,Nagpur(10),lost,1750,( -653277),ADARSH RAVISHANKAR THAKUR,Independent
1872,Maharashtra,Nagpur(10),lost,1348,( -653679),ADV ULHAS SHALIKRAM DUPARE,Independent
1873,Maharashtra,Nagpur(10),lost,1073,( -653954),FAHIM SHAMIM KHAN,Minorities Democratic Party
1874,Maharashtra,Nagpur(10),lost,817,( -654210),SURAJ BALRAM MISHRA,Kunbi Bahujan Sawrajya Party
1875,Maharashtra,Nagpur(10),lost,808,( -654219),TEKRAJ BELKHODE,Independent
1876,Maharashtra,Nagpur(10),lost,720,( -654307),GARUDADRI ANAND KUMAR,Akhil Bhartiya Parivar Party
1877,Maharashtra,Nagpur(10),lost,692,( -654335),DHANU WALTHARE,Independent
1878,Maharashtra,Nagpur(10),lost,610,( -654417),VIJAY MANKAR,Ambedkarite Party of India
1879,Maharashtra,Nagpur(10),lost,567,( -654460),ADV. SANTOSH RAMKRISHNA LANJEWAR,All India Forward Bloc
1880,Maharashtra,Nagpur(10),lost,562,( -654465),VISHESH VASANTA FUTANE,Bahujan Republican  Socialist Party
1881,Maharashtra,Nagpur(10),lost,471,( -654556),GUNWANT HARICHANDRA SOMKUWAR,Bharatheeya Jawan Kisan Party
1882,Maharashtra,Nagpur(10),lost,451,( -654576),SHRIDHAR NARAYAN SALVE,Bhim Sena
1883,Maharashtra,Nagpur(10),lost,322,( -654705),SUNIL WANKHEDE,Rashtra Samarpan Party
1884,Maharashtra,Nagpur(10),lost,270,( -654757),DIPAK LAXMANRAO MASKE,Bahujan Maha Party
1885,Maharashtra,Nagpur(10),lost,251,( -654776),NARAYAN TUKARAM CHOUDHARI,Socialist Unity Centre Of India (COMMUNIST)
1886,Maharashtra,Nagpur(10),lost,242,( -654785),SANTOSH TULSHIRAM CHAVHAN,Independent
1887,Maharashtra,Nagpur(10),lost,237,( -654790),SUSHIL PATIL,Independent
1888,Maharashtra,Nagpur(10),lost,202,( -654825),SACHIN RAMKRUSHNARAO WAGHADE,Independent
1889,Maharashtra,Nagpur(10),lost,201,( -654826),PRAFUL MANIKCHAND BHANGE,Independent
1890,Maharashtra,Nagpur(10),lost,190,( -654837),VINAYAK BHAURAO AWCHAT,Independent
1891,Maharashtra,Nagpur(10),lost,182,( -654845),BABITA RAJU AWASTHI,Independent
1892,Maharashtra,Nagpur(10),lost,129,( -654898),SAHIL BALCHAND TURKAR,Independent
1893,Maharashtra,Nagpur(10),,5474,( -649553),NOTA,None of the Above
1894,Maharashtra,Akola(6),won,457030,(+ 40626),ANUP SANJAY DHOTRE,Bharatiya Janata Party
1895,Maharashtra,Akola(6),lost,416404,( -40626),ABHAY KASHINATH PATIL,Indian National Congress
1896,Maharashtra,Akola(6),lost,276747,( -180283),AMBEDKAR PRAKASH YASHWANT,Vanchit Bahujan  Aaghadi
1897,Maharashtra,Akola(6),lost,3300,( -453730),ADV NAJIB SHAIKH,Indian National League
1898,Maharashtra,Akola(6),lost,2760,( -454270),KASHINATH VISHWANATH DHAMODE,Bahujan Samaj Party
1899,Maharashtra,Akola(6),lost,2066,( -454964),MURLIDHAR LALSING PAWAR,Independent
1900,Maharashtra,Akola(6),lost,1734,( -455296),ADHAU RAVIKANT RAMKRUSHNA,Jay Vidarbha Party
1901,Maharashtra,Akola(6),lost,1618,( -455412),AACHARYADIP SUBHASHCHANDRA GANOJE,Independent
1902,Maharashtra,Akola(6),lost,1306,( -455724),UJWALA VINAYAK RAUT,Independent
1903,Maharashtra,Akola(6),lost,1240,( -455790),DHARMENDRA CHANDRAPRAKASH KOTHARI,Independent
1904,Maharashtra,Akola(6),lost,862,( -456168),DILIP SHATRUGHAN MHAISANE,Independent
1905,Maharashtra,Akola(6),lost,581,( -456449),ASHOK KISANRAO THORAT,Independent
1906,Maharashtra,Akola(6),lost,568,( -456462),MOHMMAD AJAZ MOHMMAD TAHER,Azad Adhikar Sena
1907,Maharashtra,Akola(6),lost,537,( -456493),BABAN MAHADEV SAYAM,Janseva Gondwana Party
1908,Maharashtra,Akola(6),lost,536,( -456494),PRITI PRAMOD SADANSHIV,Republican Party of India (Social)
1909,Maharashtra,Akola(6),,5783,( -451247),NOTA,None of the Above
1910,Maharashtra,Raver(4),won,630879,(+ 272183),KHADSE RAKSHA NIKHIL,Bharatiya Janata Party
1911,Maharashtra,Raver(4),lost,358696,( -272183),SHRIRAM DAYARAM PATIL,Nationalist Congress Party – Sharadchandra Pawar
1912,Maharashtra,Raver(4),lost,59120,( -571759),ER. SANJAY PANDIT BRAMHANE,Vanchit Bahujan  Aaghadi
1913,Maharashtra,Raver(4),lost,43982,( -586897),EKNATH NAGO SALUNKE,Independent
1914,Maharashtra,Raver(4),lost,9644,( -621235),GULAB DAYARAM BHIL,Bharat Adivasi Party
1915,Maharashtra,Raver(4),lost,7884,( -622995),MAMTA ALIAS MUMTAJ BHIKARI TADVI,Independent
1916,Maharashtra,Raver(4),lost,7577,( -623302),VIJAY RAMKRUSHNA KALE,Bahujan Samaj Party
1917,Maharashtra,Raver(4),lost,6718,( -624161),VASANT SHANKAR KOLTE,Independent
1918,Maharashtra,Raver(4),lost,6092,( -624787),PRAVIN LAXMAN PATIL,Independent
1919,Maharashtra,Raver(4),lost,5135,( -625744),YUVRAJ DEVSING BARELA,Independent
1920,Maharashtra,Raver(4),lost,4690,( -626189),ASHOK BABURAO JADHAV,Peoples Party of India (Democratic)
1921,Maharashtra,Raver(4),lost,4269,( -626610),SHRIRAM SITARAM PATIL,Independent
1922,Maharashtra,Raver(4),lost,3587,( -627292),JITENDRA PANDURANG PATIL,Independent
1923,Maharashtra,Raver(4),lost,2961,( -627918),SANJAY PRALHAD KANDELKAR,Independent
1924,Maharashtra,Raver(4),lost,2935,( -627944),SAGAR PRABHAKAR PATIL,Independent
1925,Maharashtra,Raver(4),lost,2282,( -628597),SANJAYKUMAR LAXMAN WANKHEDE,Republican Party of India (Social)
1926,Maharashtra,Raver(4),lost,2278,( -628601),ANIL PITAMBAR WAGH (SIR),Independent
1927,Maharashtra,Raver(4),lost,1927,( -628952),PROF. DR. ASHISH SUBHASH JADHAV,Independent
1928,Maharashtra,Raver(4),lost,1809,( -629070),BHIVRAJ RAMDAS RAYSINGE,Independent
1929,Maharashtra,Raver(4),lost,1429,( -629450),KOMALBAI BAPURAO PATIL,Independent
1930,Maharashtra,Raver(4),lost,1040,( -629839),SHAIKH AABID SHAIKH BASHIR,Independent
1931,Maharashtra,Raver(4),lost,981,( -629898),AMIT HARIBHAU KOLTE,Independent
1932,Maharashtra,Raver(4),lost,902,( -629977),DR. YOGENDRA VITTHAL KOLTE,Independent
1933,Maharashtra,Raver(4),lost,749,( -630130),SHRIRAM OMKAR PATIL,Independent
1934,Maharashtra,Raver(4),,4100,( -626779),NOTA,None of the Above
1935,Maharashtra,Jalgaon(3),won,674428,(+ 251594),SMITA UDAY WAGH,Bharatiya Janata Party
1936,Maharashtra,Jalgaon(3),lost,422834,( -251594),KARAN BALASAHEB PATIL - PAWAR,Shiv Sena (Uddhav Balasaheb Thackrey)
1937,Maharashtra,Jalgaon(3),lost,21177,( -653251),YUVRAJ JADHAV (SAMBHA AAPPA),Vanchit Bahujan  Aaghadi
1938,Maharashtra,Jalgaon(3),lost,7548,( -666880),EX-HAVILDAR ISHWAR DAYARAM MORE,Sainik Samaj Party
1939,Maharashtra,Jalgaon(3),lost,6381,( -668047),VILAS SHANKAR TAYADE,Bahujan Samaj Party
1940,Maharashtra,Jalgaon(3),lost,4192,( -670236),LALIT (BANTI) SHARMA,Independent
1941,Maharashtra,Jalgaon(3),lost,3983,( -670445),KARAN PAWAR,Independent
1942,Maharashtra,Jalgaon(3),lost,3404,( -671024),ADVOCATE VIJAY BABULAL DANEJ,Independent
1943,Maharashtra,Jalgaon(3),lost,3370,( -671058),MUKESH MULCHAND KOLI,Independent
1944,Maharashtra,Jalgaon(3),lost,2476,( -671952),MAHENDRA DEVRAM KOLI,Independent
1945,Maharashtra,Jalgaon(3),lost,1901,( -672527),AHMAD KHAN,Independent
1946,Maharashtra,Jalgaon(3),lost,1606,( -672822),ABDUL SHAKUR DESHPANDE,Independent
1947,Maharashtra,Jalgaon(3),lost,1224,( -673204),ADV. NAMDEO PANDURANG KOLI,Independent
1948,Maharashtra,Jalgaon(3),lost,1110,( -673318),PATIL SANDIP YUVRAJ,Independent
1949,Maharashtra,Jalgaon(3),,13919,( -660509),NOTA,None of the Above
1950,Maharashtra,Shirdi (38),won,476900,(+ 50529),BHAUSAHEB RAJARAM WAKCHAURE,Shiv Sena (Uddhav Balasaheb Thackrey)
1951,Maharashtra,Shirdi (38),lost,426371,( -50529),LOKHANDE SADASHIV KISAN,Shiv Sena
1952,Maharashtra,Shirdi (38),lost,90929,( -385971),UTKARSHA PREMANAND RUPWATE,Vanchit Bahujan  Aaghadi
1953,Maharashtra,Shirdi (38),lost,14006,( -462894),BHAUSAHEB RAMNATH WAKCHAURE,Independent
1954,Maharashtra,Shirdi (38),lost,7040,( -469860),RAMCHANDRA NAMDEV JADHAV,Bahujan Samaj Party
1955,Maharashtra,Shirdi (38),lost,5537,( -471363),RAVINDRA KALLAYYA SWAMY,Independent
1956,Maharashtra,Shirdi (38),lost,4776,( -472124),ABHIJEET ASHOKRAO POTE,Independent
1957,Maharashtra,Shirdi (38),lost,3403,( -473497),BHARAT SAMBHAJI BHOSLE,Samata Party
1958,Maharashtra,Shirdi (38),lost,2771,( -474129),SATISH BHIVA PAWAR,Independent
1959,Maharashtra,Shirdi (38),lost,2757,( -474143),GANGADHAR RAJARAM KADAM,Independent
1960,Maharashtra,Shirdi (38),lost,2660,( -474240),BAGUL GORAKSHA TANHAJI,Independent
1961,Maharashtra,Shirdi (38),lost,2545,( -474355),PRASHANT VASANT NIKAM,Independent
1962,Maharashtra,Shirdi (38),lost,2532,( -474368),ADV NITIN DADAHARI POL,Bahujan Bharat Party
1963,Maharashtra,Shirdi (38),lost,2505,( -474395),RAJENDRA RATNAKAR WAGHMARE,Rashtriya Jankranti Party
1964,Maharashtra,Shirdi (38),lost,2204,( -474696),ADV SIDHARTH DEEPAK BODHAK,Independent
1965,Maharashtra,Shirdi (38),lost,2080,( -474820),CHANDRAKANT SAMBHAJI DONDE,Independent
1966,Maharashtra,Shirdi (38),lost,1798,( -475102),ASHOK RAMCHANDRA ALHAT,Independent
1967,Maharashtra,Shirdi (38),lost,1557,( -475343),KHAJEKAR VIJAYRAO GOVINDRAO,Independent
1968,Maharashtra,Shirdi (38),lost,1150,( -475750),KHARAT NACHIKET RAGHUNATH,Independent
1969,Maharashtra,Shirdi (38),lost,963,( -475937),SANJAY POPAT BHALERAO,Independent
1970,Maharashtra,Shirdi (38),,5380,( -471520),NOTA,None of the Above
1971,Maharashtra,Mumbai South(31),won,395655,(+ 52673),ARVIND GANPAT SAWANT,Shiv Sena (Uddhav Balasaheb Thackrey)
1972,Maharashtra,Mumbai South(31),lost,342982,( -52673),YAMINI YASHWANT JADHAV,Shiv Sena
1973,Maharashtra,Mumbai South(31),lost,5612,( -390043),AFZAL S. DAWOODANI,Vanchit Bahujan  Aaghadi
1974,Maharashtra,Mumbai South(31),lost,4478,( -391177),MOHAMMED SHUAIB BASHIR KHATEEB,Bahujan Samaj Party
1975,Maharashtra,Mumbai South(31),lost,3090,( -392565),ARVIND NARAYAN SAWANT,Independent
1976,Maharashtra,Mumbai South(31),lost,1715,( -393940),MOHD. NAEEM SHAIKH,Aim Political Party
1977,Maharashtra,Mumbai South(31),lost,1694,( -393961),SABEEHA KHAN,Independent
1978,Maharashtra,Mumbai South(31),lost,1045,( -394610),GOHIL MANISHA SHIVRAM,Independent
1979,Maharashtra,Mumbai South(31),lost,862,( -394793),SHANKAR SONAWANE,Independent
1980,Maharashtra,Mumbai South(31),lost,787,( -394868),RAHUL PHANASWADIKAR,Lokshahi Ekta Party
1981,Maharashtra,Mumbai South(31),lost,567,( -395088),SUBHASH RAMESH CHIPLUNKAR,Rashtriya Kisan Bahujan Party
1982,Maharashtra,Mumbai South(31),lost,490,( -395165),PRASHANT PRAKASH GHADGE,Independent
1983,Maharashtra,Mumbai South(31),lost,458,( -395197),MOHAMMED MAHTAB SHAIKH,Independent
1984,Maharashtra,Mumbai South(31),lost,267,( -395388),MATEEN AHMED RANGREJ,Independent
1985,Maharashtra,Mumbai South(31),,13411,( -382244),NOTA,None of the Above
1986,Maharashtra,Mumbai South Central(30),won,395138,(+ 53384),ANIL YESHWANT DESAI,Shiv Sena (Uddhav Balasaheb Thackrey)
1987,Maharashtra,Mumbai South Central(30),lost,341754,( -53384),RAHUL RAMESH SHEWALE,Shiv Sena
1988,Maharashtra,Mumbai South Central(30),lost,23867,( -371271),ABUL HASAN ALI HASAN KHAN,Vanchit Bahujan  Aaghadi
1989,Maharashtra,Mumbai South Central(30),lost,6532,( -388606),VIDHYASAGAR ALIAS SURESH BHIMRAO VIDHYAGAR,Bahujan Samaj Party
1990,Maharashtra,Mumbai South Central(30),lost,1899,( -393239),AKASH LAXMAN KHARATMAL,Independent
1991,Maharashtra,Mumbai South Central(30),lost,1612,( -393526),ASHWINI KUMAR PATHAK,Independent
1992,Maharashtra,Mumbai South Central(30),lost,1578,( -393560),ADV. SANTOSH PUNJIRAM SANJKAR,Independent
1993,Maharashtra,Mumbai South Central(30),lost,1537,( -393601),KARAM HUSSAIN KITABULLAH KHAN,Peace Party
1994,Maharashtra,Mumbai South Central(30),lost,1444,( -393694),ADV. MAHENDRA TULSHIRAM BHINGARDIVE,Right to Recall Party
1995,Maharashtra,Mumbai South Central(30),lost,1191,( -393947),SAEED CHOUDHARY,Social Democratic Party Of India
1996,Maharashtra,Mumbai South Central(30),lost,975,( -394163),DEEPAK M. CHAUGULE,Bahujan Republican  Socialist Party
1997,Maharashtra,Mumbai South Central(30),lost,971,( -394167),ISHWAR VILAS TATHAWADE,Rashtriya Mahaswaraj Bhumi Party
1998,Maharashtra,Mumbai South Central(30),lost,959,( -394179),JAHID ALI NASIR AHMED SHAIKH,Aazad Samaj Party (Kanshi Ram)
1999,Maharashtra,Mumbai South Central(30),lost,930,( -394208),DR. ARJUN MAHADEO MURUDKAR,Bharatheeya Jawan Kisan Party
2000,Maharashtra,Mumbai South Central(30),lost,714,( -394424),VIVEK YESHWANT PATIL,Independent
2001,Maharashtra,Mumbai South Central(30),,13423,( -381715),NOTA,None of the Above
2002,Maharashtra,Mumbai North East(28),won,450937,(+ 29861),SANJAY DINA PATIL,Shiv Sena (Uddhav Balasaheb Thackrey)
2003,Maharashtra,Mumbai North East(28),lost,421076,( -29861),MIHIR CHANDRAKANT KOTECHA,Bharatiya Janata Party
2004,Maharashtra,Mumbai North East(28),lost,14657,( -436280),DAULAT KADAR KHAN,Vanchit Bahujan  Aaghadi
2005,Maharashtra,Mumbai North East(28),lost,8318,( -442619),NANDESH VITHAL UMAP,Bahujan Samaj Party
2006,Maharashtra,Mumbai North East(28),lost,2891,( -448046),DR. SUSHMA MAURYA,Independent
2007,Maharashtra,Mumbai North East(28),lost,2764,( -448173),SANJAY B. PATIL,National People's Party
2008,Maharashtra,Mumbai North East(28),lost,2582,( -448355),SANJU MARUTI PAWAR,Maharashtra Vikas Aghadi
2009,Maharashtra,Mumbai North East(28),lost,2373,( -448564),PROF. DR. PRASHANT GANGAWANE,Desh Janhit Party
2010,Maharashtra,Mumbai North East(28),lost,1601,( -449336),PREM RAMAPATI GUPTA,Independent
2011,Maharashtra,Mumbai North East(28),lost,1294,( -449643),MOHAMMED AHMED SHAIKH,Independent
2012,Maharashtra,Mumbai North East(28),lost,1090,( -449847),MOHAMMAD ARMAN MOHAMMAD WASI KHAN,Rashtriya Janhit Sangharsh Party
2013,Maharashtra,Mumbai North East(28),lost,979,( -449958),VIDYA NAIK,Independent
2014,Maharashtra,Mumbai North East(28),lost,946,( -449991),BHOPINDER SINGH SAINI,Viro Ke Vir Indian Party
2015,Maharashtra,Mumbai North East(28),lost,838,( -450099),BANSODE DILIP,Independent
2016,Maharashtra,Mumbai North East(28),lost,746,( -450191),BHAWANI H. CHOUDHARY,Sardar Vallabhbhai Patel Party
2017,Maharashtra,Mumbai North East(28),lost,711,( -450226),DATTATRAY ARJUN UTEKAR,Bharatheeya Jawan Kisan Party
2018,Maharashtra,Mumbai North East(28),lost,678,( -450259),COMRADE SURENDRA SIBAG,All India Forward Bloc
2019,Maharashtra,Mumbai North East(28),lost,650,( -450287),SHAHAJI  NANAI THORAT,Independent
2020,Maharashtra,Mumbai North East(28),lost,641,( -450296),SANJAY SAOJI DESHPANDE,Republican Party of India
2021,Maharashtra,Mumbai North East(28),lost,524,( -450413),SANJAY PATIL,Independent
2022,Maharashtra,Mumbai North East(28),,10173,( -440764),NOTA,None of the Above
2023,Maharashtra,Nashik(21),won,616729,(+ 162001),RAJABHAU (PARAG) PRAKASH WAJE,Shiv Sena (Uddhav Balasaheb Thackrey)
2024,Maharashtra,Nashik(21),lost,454728,( -162001),GODSE HEMANT TUKARAM,Shiv Sena
2025,Maharashtra,Nashik(21),lost,47193,( -569536),KARAN PANDHARINATH GAIKAR,Vanchit Bahujan  Aaghadi
2026,Maharashtra,Nashik(21),lost,44524,( -572205),SHANTIGIRIJI MAUNGIRIJI MAHARAJ,Independent
2027,Maharashtra,Nashik(21),lost,7751,( -608978),ARUN MADHUKAR KALE,Bahujan Samaj Party
2028,Maharashtra,Nashik(21),lost,6608,( -610121),CHANDRAKANT KESHAVRAO THAKUR,Independent
2029,Maharashtra,Nashik(21),lost,4997,( -611732),AMOL SAMPATRAO KAMBLE,Rashtriya Kisan Bahujan Party
2030,Maharashtra,Nashik(21),lost,4736,( -611993),DARSHANA AMOL MEDHE,Prabuddha Republican Party
2031,Maharashtra,Nashik(21),lost,3920,( -612809),KANOJE PRAKASH GIRDHARI,Independent
2032,Maharashtra,Nashik(21),lost,3861,( -612868),VAMAN MAHADEV SANGALE,Dharmarajya Paksha
2033,Maharashtra,Nashik(21),lost,3167,( -613562),SUDHIR SHRIDHAR DESHMUKH,Independent
2034,Maharashtra,Nashik(21),lost,3132,( -613597),JITENDRA NARESH BHABHE (JITENDRA BHAVE),Independent
2035,Maharashtra,Nashik(21),lost,2543,( -614186),ARIF USMAN MANSURI,Independent
2036,Maharashtra,Nashik(21),lost,2426,( -614303),JAYSHRI MAHENDRA PATIL,Sainik Samaj Party
2037,Maharashtra,Nashik(21),lost,2404,( -614325),GANESH BALASAHEB BORASTE,Independent
2038,Maharashtra,Nashik(21),lost,2388,( -614341),SIDDHESHWARANAND SARASWATI,Independent
2039,Maharashtra,Nashik(21),lost,2260,( -614469),SUSHAMA ABHIJIT GORANE,Independent
2040,Maharashtra,Nashik(21),lost,2055,( -614674),KANTILAL KISAN JADHAV,Ambedkarite Party of India
2041,Maharashtra,Nashik(21),lost,1890,( -614839),CHANDRABHAN AABAJI PURKAR,Independent
2042,Maharashtra,Nashik(21),lost,1874,( -614855),YASHWANT VALU PARDHI,Bhartiya Asmita Party
2043,Maharashtra,Nashik(21),lost,1703,( -615026),KAILASH MARUTI CHAVAN,Aam Janta Party (India)
2044,Maharashtra,Nashik(21),lost,1646,( -615083),KAMLAKAR BALASAHEB GAIKWAD,Dalit Soshit Pichhara Varg  Adhikar Dal
2045,Maharashtra,Nashik(21),lost,1376,( -615353),DHANAJI ASHOK TOPALE,Independent
2046,Maharashtra,Nashik(21),lost,1244,( -615485),BHAGYASHRI NITIN ADSUL,Indian Peoples Adhikar Party
2047,Maharashtra,Nashik(21),lost,1211,( -615518),SOPAN NIVRUTTI SOMWANSHI,Independent
2048,Maharashtra,Nashik(21),lost,1210,( -615519),ADV. ZUNJAR MHASUJI AVHAD,Bahujan Republican  Socialist Party
2049,Maharashtra,Nashik(21),lost,1200,( -615529),KOLAPPA HANUMANT DHOTRE,Independent
2050,Maharashtra,Nashik(21),lost,656,( -616073),TILOTTAMA SUNIL JAGTAP,Independent
2051,Maharashtra,Nashik(21),lost,642,( -616087),DEEPAK GAIKWAD,Independent
2052,Maharashtra,Nashik(21),lost,551,( -616178),SACHINRAJE DATTATREYA DEORE,Independent
2053,Maharashtra,Nashik(21),lost,394,( -616335),DEVIDAS PIRAJI SARKATE,Independent
2054,Maharashtra,Nashik(21),,6185,( -610544),NOTA,None of the Above
2055,Maharashtra,Parbhani(17),won,601343,(+ 134061),JADHAV SANJAY ( BANDU ) HARIBHAU,Shiv Sena (Uddhav Balasaheb Thackrey)
2056,Maharashtra,Parbhani(17),lost,467282,( -134061),JANKAR MAHADEV JAGANNATH,Rashtriya Samaj Paksha
2057,Maharashtra,Parbhani(17),lost,95967,( -505376),PANJAB UTTAMRAO DAKH,Vanchit Bahujan  Aaghadi
2058,Maharashtra,Parbhani(17),lost,15395,( -585948),DR. GOVARDHAN BHIWAJI KHANDAGALE,Bahujan Bharat Party
2059,Maharashtra,Parbhani(17),lost,11062,( -590281),ALAMGIR MOHAMMAD KHAN,Bahujan Samaj Party
2060,Maharashtra,Parbhani(17),lost,11060,( -590283),KAMBLE SHIVAJI DEVAJI,Independent
2061,Maharashtra,Parbhani(17),lost,11056,( -590287),SAMIR GANESHRAO DUDHGAONKAR,Independent
2062,Maharashtra,Parbhani(17),lost,10154,( -591189),KRUSHNA TRIMBAKRAO PAWAR,Independent
2063,Maharashtra,Parbhani(17),lost,9520,( -591823),KAILAS BALIRAM PAWAR (NAIK),Baliraja Party
2064,Maharashtra,Parbhani(17),lost,8820,( -592523),PROF. DR. VILAS BANSIDHAR TANGADE,Independent
2065,Maharashtra,Parbhani(17),lost,6923,( -594420),ARJUN DNYANOBA BHISE,Independent
2066,Maharashtra,Parbhani(17),lost,6649,( -594694),COMRADE RAJAN KSHIRSAGAR,Communist Party of India
2067,Maharashtra,Parbhani(17),lost,6548,( -594795),KISHORKUMAR PRAKASH SHINDE,Independent
2068,Maharashtra,Parbhani(17),lost,5480,( -595863),KISHORE RADHAKISHAN DHAGE,Independent
2069,Maharashtra,Parbhani(17),lost,4644,( -596699),SAYED IRSHAD ALI SAYYED LAYAKH ALI,Social Democratic Party Of India
2070,Maharashtra,Parbhani(17),lost,4394,( -596949),DASHARATH PRABHKAR RATHOD,Maharashtra Vikas Aghadi
2071,Maharashtra,Parbhani(17),lost,4276,( -597067),KARBHARI KUNDLIK MITHE,Independent
2072,Maharashtra,Parbhani(17),lost,3891,( -597452),APPASAHEB OMKAR KADAM,Independent
2073,Maharashtra,Parbhani(17),lost,3628,( -597715),SHRIRAM BANSILAL JADHAV,Jai Sewalal Bahujan Vikas Party
2074,Maharashtra,Parbhani(17),lost,3604,( -597739),COMRADE GANPAT BHISE,Independent
2075,Maharashtra,Parbhani(17),lost,3539,( -597804),DNYANESHWAR JAGANNATH DAHIBHATE,Independent
2076,Maharashtra,Parbhani(17),lost,3533,( -597810),ANIL MANIKRAO MUDGALKAR,Independent
2077,Maharashtra,Parbhani(17),lost,3459,( -597884),GOVIND BHAIYYA RAMRAO DESHMUKH,Independent
2078,Maharashtra,Parbhani(17),lost,3434,( -597909),SUBHASH DATTARAV JAVLE,Independent
2079,Maharashtra,Parbhani(17),lost,3302,( -598041),RAJABHAU SHESHRAO KAKDE,Independent
2080,Maharashtra,Parbhani(17),lost,2812,( -598531),RAJENDRA RAMDAS ATKAL,Independent
2081,Maharashtra,Parbhani(17),lost,2650,( -598693),SAYYD ABDUL SATTAR AJIJ,Independent
2082,Maharashtra,Parbhani(17),lost,2619,( -598724),SHAIKH SALEEM SHAIKH IBRAHIM,All India Majlis-E-Inquilab-E-Millat
2083,Maharashtra,Parbhani(17),lost,2339,( -599004),SANGEETA VYAKANTRAO GIRI,Swarajya Shakti Sena
2084,Maharashtra,Parbhani(17),lost,2041,( -599302),ADV. VINOD CHHAGANRAO AMBHORE,Bahujan Mukti Party
2085,Maharashtra,Parbhani(17),lost,1959,( -599384),VIJAY ANNASAHEB THOMBARE,Independent
2086,Maharashtra,Parbhani(17),lost,1860,( -599483),VISHNUDAS SHIVAJI BHOSALE,Independent
2087,Maharashtra,Parbhani(17),lost,1302,( -600041),MUSTAFA MAINODDIN SHAIKH,Independent
2088,Maharashtra,Parbhani(17),lost,1246,( -600097),BOBADE SAKHARAM PADEGAONKAR,Independent
2089,Maharashtra,Parbhani(17),,3385,( -597958),NOTA,None of the Above
2090,Maharashtra,Hingoli(15),won,492535,(+ 108602),AASHTIKAR PATIL NAGESH BAPURAO,Shiv Sena (Uddhav Balasaheb Thackrey)
2091,Maharashtra,Hingoli(15),lost,383933,( -108602),BABURAO KADAM KOHALIKAR,Shiv Sena
2092,Maharashtra,Hingoli(15),lost,161814,( -330721),DR. B. D. CHAVHAN,Vanchit Bahujan  Aaghadi
2093,Maharashtra,Hingoli(15),lost,14742,( -477793),AMBADAS SUKAJI GADE,Independent
2094,Maharashtra,Hingoli(15),lost,14644,( -477891),VIJAY RAMJI GABHANE,Communist Party of India  (Marxist)
2095,Maharashtra,Hingoli(15),lost,9817,( -482718),ANAND RAJARAM DHULE,Independent
2096,Maharashtra,Hingoli(15),lost,7465,( -485070),GAJANAN DHONDBA DAL,Bahujan Samaj Party
2097,Maharashtra,Hingoli(15),lost,7239,( -485296),DATTA SHRIKRISHNA SURYAWANSHI,Independent
2098,Maharashtra,Hingoli(15),lost,5014,( -487521),SARJERAO NIVRUTTI KHANDARE,Independent
2099,Maharashtra,Hingoli(15),lost,4525,( -488010),RAMPRASAD NARAYAN BANGAR,Independent
2100,Maharashtra,Hingoli(15),lost,4482,( -488053),BABURAO ANANDRAO KADAM,Independent
2101,Maharashtra,Hingoli(15),lost,4099,( -488436),DEVSARKAR VARSHA SHIVAJIRAO,Bahujan Mukti Party
2102,Maharashtra,Hingoli(15),lost,3713,( -488822),A. KADIR MASTAN SAYYED (GOREGAONKAR),Independent
2103,Maharashtra,Hingoli(15),lost,3374,( -489161),ANIL DEVRAO MOHITE,Akhil Bhartiya Parivar Party
2104,Maharashtra,Hingoli(15),lost,3192,( -489343),SUNIL MOTIRAM GAJBHAR,Independent
2105,Maharashtra,Hingoli(15),lost,2950,( -489585),ADV ALTAF AHMED,Indian National League
2106,Maharashtra,Hingoli(15),lost,2906,( -489629),ASHOK PANDURANG RATHOD,Independent
2107,Maharashtra,Hingoli(15),lost,2701,( -489834),ADV RAVI SHINDE,Independent
2108,Maharashtra,Hingoli(15),lost,2463,( -490072),SATTAR PATHAN,Independent
2109,Maharashtra,Hingoli(15),lost,2299,( -490236),MAHESH KAILAS NAPTE,Independent
2110,Maharashtra,Hingoli(15),lost,2214,( -490321),ADV. SHIVAJIRAO JADHAV,Independent
2111,Maharashtra,Hingoli(15),lost,2150,( -490385),TRISHALA MILIND KAMBLE,Bahujan Samaj Party  (Ambedkar)
2112,Maharashtra,Hingoli(15),lost,2146,( -490389),BHAWAR GOVINDRAO FULAJI,Independent
2113,Maharashtra,Hingoli(15),lost,2104,( -490431),ADV. RAMRAO ATMARAM JUMBADE,Independent
2114,Maharashtra,Hingoli(15),lost,2102,( -490433),PRAKASH MASARAM RANVIR,Republican Party of India (A)
2115,Maharashtra,Hingoli(15),lost,2063,( -490472),DESHA SHYAM BANJARA,Samnak Janta Party
2116,Maharashtra,Hingoli(15),lost,1859,( -490676),VISHVANATH BHAURAO FALEGAONKAR,Independent
2117,Maharashtra,Hingoli(15),lost,1800,( -490735),HEMANT RADHAKISHAN KANAKE,Rashtriya Kisan Bahujan Party
2118,Maharashtra,Hingoli(15),lost,1602,( -490933),RAVI RAMDAS JADHAV (SAWANEKAR),Abhinav Bharat Janseva Paksh
2119,Maharashtra,Hingoli(15),lost,1483,( -491052),DEWJI GANGARAM ASOLE,Independent
2120,Maharashtra,Hingoli(15),lost,1126,( -491409),VIJAY DNYANBA RAUT,Independent
2121,Maharashtra,Hingoli(15),lost,1028,( -491507),SUNIL DASHARATH INGOLE,Bhim Sena
2122,Maharashtra,Hingoli(15),lost,593,( -491942),VASANT KISAN PAIKRAO,Independent
2123,Maharashtra,Hingoli(15),,3123,( -489412),NOTA,None of the Above
2124,Maharashtra,Yavatmal- Washim(14),won,594807,(+ 94473),SANJAY UTTAMRAO DESHMUKH,Shiv Sena (Uddhav Balasaheb Thackrey)
2125,Maharashtra,Yavatmal- Washim(14),lost,500334,( -94473),RAJSHRITAI HEMANT PATIL (MAHALLE),Shiv Sena
2126,Maharashtra,Yavatmal- Washim(14),lost,56390,( -538417),ANIL JAYRAM RATHOD,Samnak Janta Party
2127,Maharashtra,Yavatmal- Washim(14),lost,17396,( -577411),HARISING (HARIBHAU) NASARU RATHOD,Bahujan Samaj Party
2128,Maharashtra,Yavatmal- Washim(14),lost,7180,( -587627),SANGITA DINESH CHAVHAN,Independent
2129,Maharashtra,Yavatmal- Washim(14),lost,6781,( -588026),RAMDAS BAJIRAO GHODAM,Independent
2130,Maharashtra,Yavatmal- Washim(14),lost,6298,( -588509),VINOD PANJABRAO NANDAGAVALI,Independent
2131,Maharashtra,Yavatmal- Washim(14),lost,5514,( -589293),SANDIP SAMPAT SHINDE,Independent
2132,Maharashtra,Yavatmal- Washim(14),lost,4555,( -590252),DHARAM DILIPSING THAKUR,Sanman Rajkiya Paksha
2133,Maharashtra,Yavatmal- Washim(14),lost,3377,( -591430),AMOL KOMAWAR,Hindrashtra Sangh
2134,Maharashtra,Yavatmal- Washim(14),lost,2975,( -591832),UTTAM ONKAR INGOLE,Peoples Party of India (Democratic)
2135,Maharashtra,Yavatmal- Washim(14),lost,2794,( -592013),MANOJ MAHADEORAO GEDAM,Independent
2136,Maharashtra,Yavatmal- Washim(14),lost,1958,( -592849),NUR ALI MAHEBUB ALI SHAH,Independent
2137,Maharashtra,Yavatmal- Washim(14),lost,1863,( -592944),DR ARJUNKUMAR SITARAM RATHOD,Independent
2138,Maharashtra,Yavatmal- Washim(14),lost,1720,( -593087),PRO KISAN RAMRAO AMBURE,Independent
2139,Maharashtra,Yavatmal- Washim(14),lost,1103,( -593704),DIKSHANT NAMDEVRAO SAWAIKAR,Independent
2140,Maharashtra,Yavatmal- Washim(14),lost,1094,( -593713),GOKUL PREMDAS CHAVHAN,Independent
2141,Maharashtra,Yavatmal- Washim(14),,9391,( -585416),NOTA,None of the Above
2142,Maharashtra,Beed(39),won,683950,(+ 6553),BAJRANG MANOHAR SONWANE,Nationalist Congress Party – Sharadchandra Pawar
2143,Maharashtra,Beed(39),lost,677397,( -6553),PANKAJA GOPINATHRAO MUNDE,Bharatiya Janata Party
2144,Maharashtra,Beed(39),lost,54850,( -629100),ASHOK BHAGOJI THORAT,Bahujan Maha Party
2145,Maharashtra,Beed(39),lost,50867,( -633083),ASHOK SUKHDEV HINGE,Vanchit Bahujan  Aaghadi
2146,Maharashtra,Beed(39),lost,9472,( -674478),SHAIKH TOUSIF ABDUL SATTAR,Independent
2147,Maharashtra,Beed(39),lost,5111,( -678839),DR. SIDDHARTH RAJENDRA TAKANKAR,Bahujan Samaj Party
2148,Maharashtra,Beed(39),lost,4704,( -679246),SHAMSHER KHAN SAHEB KHAN PATHAN,Independent
2149,Maharashtra,Beed(39),lost,2662,( -681288),JAVED SIKANDAR MOMIN,Independent
2150,Maharashtra,Beed(39),lost,2586,( -681364),NAZEM KHAN JABBAR KHAN PATHAN,Independent
2151,Maharashtra,Beed(39),lost,2577,( -681373),GOKUL BAPURAO SAWASE,Independent
2152,Maharashtra,Beed(39),lost,2563,( -681387),GAFFARKHAN JABBARKHAN PATHAN,Independent
2153,Maharashtra,Beed(39),lost,2130,( -681820),DATTA SUDAM GAIKWAD,Independent
2154,Maharashtra,Beed(39),lost,2099,( -681851),SATISH PADMAKAR KAPSE,Independent
2155,Maharashtra,Beed(39),lost,1599,( -682351),KARUNA DHANANJAY MUNDE,Swarajya Shakti Sena
2156,Maharashtra,Beed(39),lost,1512,( -682438),DR. SHRIRAM VITTHALRAO KHALGE,Independent
2157,Maharashtra,Beed(39),lost,1508,( -682442),ADV. GANESH NAVNATHRAO KARANDE,Independent
2158,Maharashtra,Beed(39),lost,1303,( -682647),SHITAL SHIVAJI DHONDRE,Independent
2159,Maharashtra,Beed(39),lost,1258,( -682692),SHAIKH YASHED SHAIKH TAYYAB,Independent
2160,Maharashtra,Beed(39),lost,978,( -682972),JAWED SALEEM SYED,Tipu Sultan Party
2161,Maharashtra,Beed(39),lost,886,( -683064),PRAKASH BHAGWANRAO SOLANKE,Independent
2162,Maharashtra,Beed(39),lost,803,( -683147),CHANDRAKANT KUMAR HAJARE,Maharashtra Vikas Aghadi
2163,Maharashtra,Beed(39),lost,724,( -683226),SALAUDDIN KHAN PATHAN,Independent
2164,Maharashtra,Beed(39),lost,719,( -683231),KASPATE GANESH VYANKATRAO,Independent
2165,Maharashtra,Beed(39),lost,676,( -683274),MUBEEN ZUBERI ZAHEER UL AFAQUE,Independent
2166,Maharashtra,Beed(39),lost,580,( -683370),WASIM SHAIKH SALIM SHAIKH,Independent
2167,Maharashtra,Beed(39),lost,550,( -683400),SHAIKH EJAJ SHAIKH UMAR,Independent
2168,Maharashtra,Beed(39),lost,537,( -683413),SHESHERAO CHOKHOBA VEER,Prabuddha Republican Party
2169,Maharashtra,Beed(39),lost,533,( -683417),TATE MAHENDRA ASHOK,Ambedkarist Republican Party
2170,Maharashtra,Beed(39),lost,531,( -683419),MUSTAFA MAINODDIN SHAIKH,Independent
2171,Maharashtra,Beed(39),lost,522,( -683428),SULEMAN KHAIRODDIN MOHMMAD,Independent
2172,Maharashtra,Beed(39),lost,448,( -683502),HIDAYAT SADEKH ALI SYED,Independent
2173,Maharashtra,Beed(39),lost,427,( -683523),RAJENDRA ACHYUTRAO HOKE,Independent
2174,Maharashtra,Beed(39),lost,426,( -683524),ADV. MANIK BANSI AADMANE,Bahujan Republican  Socialist Party
2175,Maharashtra,Beed(39),lost,414,( -683536),VACHISHT UDDHAV KUTE,Independent
2176,Maharashtra,Beed(39),lost,396,( -683554),ADV. SHARAD BAHINAJI KAMBLE,All India National Raksha Sena
2177,Maharashtra,Beed(39),lost,390,( -683560),BHASKAR BANSIDHARRAO KHANDE,Independent
2178,Maharashtra,Beed(39),lost,384,( -683566),RAHEMAN BAHODDIN SAYYED,Independent
2179,Maharashtra,Beed(39),lost,382,( -683568),LAXMIBAI BAJIRAO MORE,Independent
2180,Maharashtra,Beed(39),lost,310,( -683640),SYED MINHAJ ALI,Independent
2181,Maharashtra,Beed(39),lost,238,( -683712),SALIM ALLABAKSHA SAYYAD,Independent
2182,Maharashtra,Beed(39),lost,206,( -683744),SADEK IBRAHIM SHAIKH,Independent
2183,Maharashtra,Beed(39),,2087,( -681863),NOTA,None of the Above
2184,Maharashtra,Ahmednagar(37),won,624797,(+ 28929),NILESH DNYANDEV LANKE,Nationalist Congress Party – Sharadchandra Pawar
2185,Maharashtra,Ahmednagar(37),lost,595868,( -28929),DR. SUJAY RADHAKRISHNA VIKHEPATIL,Bharatiya Janata Party
2186,Maharashtra,Ahmednagar(37),lost,44597,( -580200),ALEKAR GORAKH DASHRATH,Independent
2187,Maharashtra,Ahmednagar(37),lost,13749,( -611048),DEELIP KONDIBA KHEDKAR,Vanchit Bahujan  Aaghadi
2188,Maharashtra,Ahmednagar(37),lost,5493,( -619304),AMOL VILAS PACHUNDKAR,Independent
2189,Maharashtra,Ahmednagar(37),lost,4944,( -619853),BHAGWAT DHONDIBA GAIKWAD,Samata Party
2190,Maharashtra,Ahmednagar(37),lost,4539,( -620258),UMASHANKAR SHYAMBABU YADAV,Bahujan Samaj Party
2191,Maharashtra,Ahmednagar(37),lost,3935,( -620862),ADV. JAMIR SHAIKH,Independent
2192,Maharashtra,Ahmednagar(37),lost,3799,( -620998),AARTI KISHORKUMAR HALDAR,Prabuddha Republican Party
2193,Maharashtra,Ahmednagar(37),lost,2226,( -622571),NAVSHAD MUNSILAL SHAIKH,Independent
2194,Maharashtra,Ahmednagar(37),lost,2092,( -622705),SURYABHAN (ALIAS SURESH) DATTATRAYA LAMBE,Independent
2195,Maharashtra,Ahmednagar(37),lost,1981,( -622816),KALIRAM BAHIRU POPALGHAT,Bhartiya Navjawan Sena (Paksha)
2196,Maharashtra,Ahmednagar(37),lost,1941,( -622856),GAVADE MACCHINDRA RADHAKISAN,Independent
2197,Maharashtra,Ahmednagar(37),lost,1898,( -622899),PRAVIN SUBHASH DALVI,Independent
2198,Maharashtra,Ahmednagar(37),lost,1451,( -623346),MADAN KANIFNATH SONVANE,Right to Recall Party
2199,Maharashtra,Ahmednagar(37),lost,1435,( -623362),DR. KAILASH NIVRUTTI JADHAV,Maharashtra Vikas Aghadi
2200,Maharashtra,Ahmednagar(37),lost,1333,( -623464),KOTHARI RAVINDRA LILACHAND,Rashtriya Janmanch (Secular)
2201,Maharashtra,Ahmednagar(37),lost,1104,( -623693),ADV. SHIVAJIRAO WAMAN DAMALE (EX. SGT OF IAF),Sainik Samaj Party
2202,Maharashtra,Ahmednagar(37),lost,1059,( -623738),GANGADHAR HARIBHAU KOLEKAR,Independent
2203,Maharashtra,Ahmednagar(37),lost,873,( -623924),DATTATRAY APPA WAGHMODE,Rashtriya Jankranti Party
2204,Maharashtra,Ahmednagar(37),lost,801,( -623996),WABLE BHAUSAHEB BAPURAO,Bharatheeya Jawan Kisan Party
2205,Maharashtra,Ahmednagar(37),lost,702,( -624095),SHEKATKAR ANIL GANPAT,Independent
2206,Maharashtra,Ahmednagar(37),lost,675,( -624122),ADV. MAHENDRA DADASAHEB SHINDE,Independent
2207,Maharashtra,Ahmednagar(37),lost,531,( -624266),BILAL GAFUR SHAIKH,Independent
2208,Maharashtra,Ahmednagar(37),lost,372,( -624425),RAOSAHEB SHANKAR KALE,Independent
2209,Maharashtra,Ahmednagar(37),,3282,( -621515),NOTA,None of the Above
2210,Maharashtra,Shirur(36),won,698692,(+ 140951),DR. AMOL RAMSING KOLHE,Nationalist Congress Party – Sharadchandra Pawar
2211,Maharashtra,Shirur(36),lost,557741,( -140951),ADHALRAO SHIVAJI DATTATREY,Nationalist Congress Party
2212,Maharashtra,Shirur(36),lost,28330,( -670362),MANOHAR MAHADU WADEKAR,Independent
2213,Maharashtra,Shirur(36),lost,17462,( -681230),DR. ANWAR SHAIKH,Vanchit Bahujan  Aaghadi
2214,Maharashtra,Shirur(36),lost,10295,( -688397),RAHUL RAGHUNATH OWHAL,Bahujan Samaj Party
2215,Maharashtra,Shirur(36),lost,8078,( -690614),CHANDGUDE VINOD VASANT,Independent
2216,Maharashtra,Shirur(36),lost,4915,( -693777),GORAKSH KASABE,Independent
2217,Maharashtra,Shirur(36),lost,4136,( -694556),ADV. DR. LAXMAN RAMBHAU DAMSE,Bharat Adivasi Party
2218,Maharashtra,Shirur(36),lost,3571,( -695121),GAIKWAD NILOBA CHANGADEO,Independent
2219,Maharashtra,Shirur(36),lost,3499,( -695193),UMESH MAHADEV MHETRE,Independent
2220,Maharashtra,Shirur(36),lost,2667,( -696025),ADV.SWAPNIL BHAUSAHEB SHELAR,Independent
2221,Maharashtra,Shirur(36),lost,2388,( -696304),AMOL VILAS PACHUNDKAR,Independent
2222,Maharashtra,Shirur(36),lost,2350,( -696342),ASLAM ISAK BAGWAN,Lok Sena Party
2223,Maharashtra,Shirur(36),lost,2227,( -696465),KAMBLE TRIMBAK NARAYAN,Baliraja Party
2224,Maharashtra,Shirur(36),lost,2161,( -696531),SUBASH KASHINATH SARODE,Independent
2225,Maharashtra,Shirur(36),lost,1830,( -696862),CHAAYA SANJAY JAGDALE-SOLANKE,Independent
2226,Maharashtra,Shirur(36),lost,1732,( -696960),SUSHIL DNYANDEV KANSE,Independent
2227,Maharashtra,Shirur(36),lost,1284,( -697408),NARAYAN PRABHAKAR ANKUSHE,Bharatheeya Jawan Kisan Party
2228,Maharashtra,Shirur(36),lost,1147,( -697545),BHOR VIKAS ROHIDAS,Independent
2229,Maharashtra,Shirur(36),lost,1106,( -697586),DADA ALIAS VIKAS SURESH KASBE,Independent
2230,Maharashtra,Shirur(36),lost,938,( -697754),SURAJ CHANDRAKANT GAIKWAD,Independent
2231,Maharashtra,Shirur(36),lost,914,( -697778),SWAPNIL DHANAJI LONDHE,Bhim Sena
2232,Maharashtra,Shirur(36),lost,888,( -697804),AMAR MACHINDRA BORHADE,Independent
2233,Maharashtra,Shirur(36),lost,882,( -697810),TUKARAM NAMDEO DAPHAL,Sainik Samaj Party
2234,Maharashtra,Shirur(36),lost,870,( -697822),RAVINDRA MOTIRAM SIRSAM,Independent
2235,Maharashtra,Shirur(36),lost,819,( -697873),PANDURANG BHAGWAN WAGHOLE,Independent
2236,Maharashtra,Shirur(36),lost,784,( -697908),SANJAY LAXMAN PADWAL,Bhartiya Navjawan Sena (Paksha)
2237,Maharashtra,Shirur(36),lost,723,( -697969),HARIDAS CHANDAR BHISE,Bharatiya Lokvikas Party
2238,Maharashtra,Shirur(36),lost,671,( -698021),SALIM BABA SAYYAD,Independent
2239,Maharashtra,Shirur(36),lost,603,( -698089),PRAKASH SUKHADEO JAMDHADE,Independent
2240,Maharashtra,Shirur(36),lost,574,( -698118),WAKHARE PRADIP PANDURANG,Independent
2241,Maharashtra,Shirur(36),lost,526,( -698166),RAHUL ARJUN HORE,Independent
2242,Maharashtra,Shirur(36),,9661,( -689031),NOTA,None of the Above
2243,Maharashtra,Baramati(35),won,732312,(+ 158333),SUPRIYA SULE,Nationalist Congress Party – Sharadchandra Pawar
2244,Maharashtra,Baramati(35),lost,573979,( -158333),SUNETRA AJITDADA PAWAR,Nationalist Congress Party
2245,Maharashtra,Baramati(35),lost,15663,( -716649),MAHESH SITARAM BHAGWAT,Independent
2246,Maharashtra,Baramati(35),lost,14917,( -717395),SHAIKH SOYALSHAHA YUNUSSHAHA,Independent
2247,Maharashtra,Baramati(35),lost,10030,( -722282),PRIYADARSHANI NANDKUMAR KOKARE,Bahujan Samaj Party
2248,Maharashtra,Baramati(35),lost,6633,( -725679),SACHIN SHANKAR AGAWANE,Independent
2249,Maharashtra,Baramati(35),lost,5036,( -727276),KAMBLE TRISHALA,Bahujan Samaj Party  (Ambedkar)
2250,Maharashtra,Baramati(35),lost,4151,( -728161),SUNITA PAWAR,Independent
2251,Maharashtra,Baramati(35),lost,2995,( -729317),GAJANAN UTTAM GAWALI (PATIL),Independent
2252,Maharashtra,Baramati(35),lost,2610,( -729702),MANOJ BALASAHEB RASAL,Independent
2253,Maharashtra,Baramati(35),lost,2418,( -729894),MAHADEV SAHEBRAO KHENGARE - PATIL,Bhartiya Navjawan Sena (Paksha)
2254,Maharashtra,Baramati(35),lost,2235,( -730077),PRADEEP RAMCHANDRA MANE,Independent
2255,Maharashtra,Baramati(35),lost,2164,( -730148),SHIVAJI JAYSING KOKRE,Independent
2256,Maharashtra,Baramati(35),lost,2134,( -730178),PROF. NAMDEORAO JADHAV,Independent
2257,Maharashtra,Baramati(35),lost,2009,( -730303),RAJENDRA PANDURANG BHOSALE,People’s Union Party
2258,Maharashtra,Baramati(35),lost,1975,( -730337),KALYANI SUJITKUMAR WAGHMODE,Independent
2259,Maharashtra,Baramati(35),lost,1834,( -730478),DASHRATH NANA RAUT,Bharatiya Praja Surajya Paksha
2260,Maharashtra,Baramati(35),lost,1663,( -730649),ANKUSH DNYANESHAWAR PILANE,Independent
2261,Maharashtra,Baramati(35),lost,1624,( -730688),SANDIP ABAJI DEOKATE,Independent
2262,Maharashtra,Baramati(35),lost,1434,( -730878),DATTATRAY RAMBHAU CHANDARE,Independent
2263,Maharashtra,Baramati(35),lost,1392,( -730920),SHAILENDRA ALIAS SANDEEP KARANJAWANE,Independent
2264,Maharashtra,Baramati(35),lost,1292,( -731020),SHUBHANGI DHAYGUDE,Independent
2265,Maharashtra,Baramati(35),lost,1169,( -731143),DR. SOMNATH ALIAS BALASAHEB ARJUN POL,Independent
2266,Maharashtra,Baramati(35),lost,1130,( -731182),ROHIDAS BALASO KONDAKE,Bahujan Republican  Socialist Party
2267,Maharashtra,Baramati(35),lost,1099,( -731213),MILIND VITTHAL SHINDE,Independent
2268,Maharashtra,Baramati(35),lost,1012,( -731300),SURESHDADA BABURAO VIR,Independent
2269,Maharashtra,Baramati(35),lost,998,( -731314),BAPU PRALHAD PAWAR,Independent
2270,Maharashtra,Baramati(35),lost,907,( -731405),RAJENDRA MAHADEV BARAKADE,Independent
2271,Maharashtra,Baramati(35),lost,808,( -731504),UMESH MAHADEV MHETRE,Independent
2272,Maharashtra,Baramati(35),lost,789,( -731523),SHIVAJI RAMBHAU NANDKHILE,Bharatheeya Jawan Kisan Party
2273,Maharashtra,Baramati(35),lost,731,( -731581),SHARAD RAM PAWAR,Independent
2274,Maharashtra,Baramati(35),lost,696,( -731616),LAXMAN RAM KUMBHAR,Dalit Soshit Pichhara Varg  Adhikar Dal
2275,Maharashtra,Baramati(35),lost,679,( -731633),SHRIDHAR NARAYAN SALVE,Bhim Sena
2276,Maharashtra,Baramati(35),lost,655,( -731657),BALASO MARUTI DHAPATE,Independent
2277,Maharashtra,Baramati(35),lost,620,( -731692),VIJAY LAXMAN GHAVALE,Independent
2278,Maharashtra,Baramati(35),lost,553,( -731759),VISHAL ARUN PAWAR,Independent
2279,Maharashtra,Baramati(35),lost,551,( -731761),SAVITA BHIMRAO KADALE,Hindustan Janta Party
2280,Maharashtra,Baramati(35),lost,301,( -732011),VIJAYPRAKASH ANANT KONDEKAR,Independent
2281,Maharashtra,Baramati(35),,9151,( -723161),NOTA,None of the Above
2282,Maharashtra,Bhiwandi(23),won,499464,(+ 66121),BALYA MAMA - SURESH GOPINATH MHATRE,Nationalist Congress Party – Sharadchandra Pawar
2283,Maharashtra,Bhiwandi(23),lost,433343,( -66121),KAPIL MORESHWAR PATIL,Bharatiya Janata Party
2284,Maharashtra,Bhiwandi(23),lost,231417,( -268047),NILESH BHAGWAN SAMBARE,Independent
2285,Maharashtra,Bhiwandi(23),lost,24625,( -474839),KANCHAN VINAYAK VAKHARE,New Rashtriya Samaj Party
2286,Maharashtra,Bhiwandi(23),lost,6908,( -492556),TARA PINTYA WAGHE,Independent
2287,Maharashtra,Bhiwandi(23),lost,6822,( -492642),MUMATAZ ABDULSATTAR ANSARI,Bahujan Samaj Party
2288,Maharashtra,Bhiwandi(23),lost,5120,( -494344),MANISHA SANTOSH GONDHALE,Independent
2289,Maharashtra,Bhiwandi(23),lost,4897,( -494567),MANOJ GOVAR TURE,Independent
2290,Maharashtra,Bhiwandi(23),lost,4882,( -494582),JAHID MURABTAR ANSARI,Independent
2291,Maharashtra,Bhiwandi(23),lost,3433,( -496031),CHANDRAKANT RAMBHAJI MOTE,Independent
2292,Maharashtra,Bhiwandi(23),lost,3135,( -496329),RAHUL ASHOK KATHOLE,Independent
2293,Maharashtra,Bhiwandi(23),lost,2047,( -497417),ASHOK BHIKU BAHADARE,Sanyukt Bharat Paksh
2294,Maharashtra,Bhiwandi(23),lost,2013,( -497451),SURESH PANDAGALE,Apni Prajahit Party
2295,Maharashtra,Bhiwandi(23),lost,1861,( -497603),MILIND KASHINATH KAMBLE,Independent
2296,Maharashtra,Bhiwandi(23),lost,1741,( -497723),KHAN MOHD AKARAM ABDUL HANAN,All India Majlis-E-Ittehadul Muslimeen
2297,Maharashtra,Bhiwandi(23),lost,1586,( -497878),DANISH EZAZ AH. SHAIKH,Bahujan Maha Party
2298,Maharashtra,Bhiwandi(23),lost,1568,( -497896),HARSHAD RAMESH MHATRE,Independent
2299,Maharashtra,Bhiwandi(23),lost,1445,( -498019),MUTKIRI SHANKAR NAGESH,Independent
2300,Maharashtra,Bhiwandi(23),lost,1242,( -498222),KAPIL JAYHIND PATIL,Independent
2301,Maharashtra,Bhiwandi(23),lost,1189,( -498275),SAIFAN CHAND PATHAN,Bhartiya Manavta Party
2302,Maharashtra,Bhiwandi(23),lost,1085,( -498379),RANJANA RAVI TRIBHUWAN,Independent
2303,Maharashtra,Bhiwandi(23),lost,937,( -498527),MOHD. KALEEM ANSARI,Peoples Party of India (Democratic)
2304,Maharashtra,Bhiwandi(23),lost,805,( -498659),WASEEM TUFAIL SIDDIQUI,Independent
2305,Maharashtra,Bhiwandi(23),lost,707,( -498757),SURESH SITARAM MHATRE,Independent
2306,Maharashtra,Bhiwandi(23),lost,698,( -498766),SONALI ASHOK GANGAWANE,Independent
2307,Maharashtra,Bhiwandi(23),lost,601,( -498863),AAPPA - VISHAL VIJAY MORE,Independent
2308,Maharashtra,Bhiwandi(23),lost,481,( -498983),PROF. AMEERUL HASAN SAYYED,Independent
2309,Maharashtra,Bhiwandi(23),,9347,( -490117),NOTA,None of the Above
2310,Maharashtra,Dindori (20),won,577339,(+ 113199),BHASKAR MURLIDHAR BHAGARE,Nationalist Congress Party – Sharadchandra Pawar
2311,Maharashtra,Dindori (20),lost,464140,( -113199),DR. BHARATI PRAVIN PAWAR,Bharatiya Janata Party
2312,Maharashtra,Dindori (20),lost,103632,( -473707),BABU SADU BHAGRE (SIR),Independent
2313,Maharashtra,Dindori (20),lost,37103,( -540236),DHOMSE MALATI RAHUL,Vanchit Bahujan  Aaghadi
2314,Maharashtra,Dindori (20),lost,15681,( -561658),JAGTAP DIPAK GANPAT,Independent
2315,Maharashtra,Dindori (20),lost,9654,( -567685),TULSHIRAM CHIMAN KHOTARE,Bahujan Samaj Party
2316,Maharashtra,Dindori (20),lost,8055,( -569284),KISHOR AMBADAS DAGALE,Ambedkarite Party of India
2317,Maharashtra,Dindori (20),lost,6441,( -570898),ANIL GAWALIRAM BARDE,Independent
2318,Maharashtra,Dindori (20),lost,5621,( -571718),BHARAT ARUN PAWAR,Bahujan Republican  Socialist Party
2319,Maharashtra,Dindori (20),lost,4998,( -572341),GULAB MOHAN BARDE,Prabuddha Republican Party
2320,Maharashtra,Dindori (20),,8246,( -569093),NOTA,None of the Above
2321,Maharashtra,Wardha(8),won,533106,(+ 81648),AMAR SHARADRAO KALE,Nationalist Congress Party – Sharadchandra Pawar
2322,Maharashtra,Wardha(8),lost,451458,( -81648),RAMDAS CHANDRABHAN TADAS,Bharatiya Janata Party
2323,Maharashtra,Wardha(8),lost,20795,( -512311),DR. MOHAN RAMRAOJI  RAIKWAR,Bahujan Samaj Party
2324,Maharashtra,Wardha(8),lost,15492,( -517614),PROF. RAJENDRA GULABRAO  SALUNKHE,Vanchit Bahujan  Aaghadi
2325,Maharashtra,Wardha(8),lost,15182,( -517924),ASIF,Independent
2326,Maharashtra,Wardha(8),lost,12920,( -520186),KISHOR BABA PAVAR,Independent
2327,Maharashtra,Wardha(8),lost,7648,( -525458),SUHAS V. THAKARE,Independent
2328,Maharashtra,Wardha(8),lost,5467,( -527639),AKSHAY MEHARE BHARTIYA,Akhil Bhartiya Parivar Party
2329,Maharashtra,Wardha(8),lost,4672,( -528434),MAROTI GULABRAO UIKE,Gondvana Gantantra Party
2330,Maharashtra,Wardha(8),lost,4032,( -529074),ADV. BHASKAR MAROTRAO  NEWARE,Independent
2331,Maharashtra,Wardha(8),lost,2349,( -530757),JAGADISH UDDVRAO  WANKHADE,Independent
2332,Maharashtra,Wardha(8),lost,2135,( -530971),POOJA PANKAJ TADAS,Independent
2333,Maharashtra,Wardha(8),lost,1971,( -531135),ANIL K. GHUSHE,Independent
2334,Maharashtra,Wardha(8),lost,1828,( -531278),ASHISH LEKHIRAM IZANKAR,Vidarbha Rajya Aghadi
2335,Maharashtra,Wardha(8),lost,1738,( -531368),VIJAY DNYANESHWARRAO  SHRIRAO,Independent
2336,Maharashtra,Wardha(8),lost,1476,( -531630),ARVIND SHAMRAO LILLORE,Independent
2337,Maharashtra,Wardha(8),lost,1438,( -531668),RAMRAO BAJIRAO GHODASKAR,All India Forward Bloc
2338,Maharashtra,Wardha(8),lost,1343,( -531763),KRUSHNA SUBHASHRAO FULKARI,Lok Swarajya Party
2339,Maharashtra,Wardha(8),lost,1246,( -531860),UMESH SOMAJI WAWARE,Maharashtra Vikas Aghadi
2340,Maharashtra,Wardha(8),lost,1061,( -532045),KRUSHNA ANNAJI KALODE,Hindrashtra Sangh
2341,Maharashtra,Wardha(8),lost,799,( -532307),RAMESH SINHA,Independent
2342,Maharashtra,Wardha(8),lost,797,( -532309),DR. MORESHWAR RAMJI NAGRALE,Republican Party of India
2343,Maharashtra,Wardha(8),lost,736,( -532370),DIXITA ANAND,Desh Janhit Party
2344,Maharashtra,Wardha(8),lost,689,( -532417),RAHUL T. BHOYAR,Independent
2345,Maharashtra,Wardha(8),,4634,( -528472),NOTA,None of the Above
2346,Maharashtra,Maval(33),won,692832,(+ 96615),SHRIRANG APPA CHANDU BARNE,Shiv Sena
2347,Maharashtra,Maval(33),lost,596217,( -96615),SANJOG BHIKU WAGHERE PATIL,Shiv Sena (Uddhav Balasaheb Thackrey)
2348,Maharashtra,Maval(33),lost,27768,( -665064),MADHAVITAI  NARESH JOSHI,Vanchit Bahujan  Aaghadi
2349,Maharashtra,Maval(33),lost,14003,( -678829),RAJARAM NARAYAN PATIL,Bahujan Samaj Party
2350,Maharashtra,Maval(33),lost,10879,( -681953),ADV JYOTISHWAR VISHNU BHOSALE,Baliraja Party
2351,Maharashtra,Maval(33),lost,5030,( -687802),UMAKANT RAMESHWAR MISHRA,Independent
2352,Maharashtra,Maval(33),lost,4830,( -688002),SANJOG  PATIL,Independent
2353,Maharashtra,Maval(33),lost,4829,( -688003),KAMBLE MARUTI APARAI,Independent
2354,Maharashtra,Maval(33),lost,4767,( -688065),AJAY HANUMANT LONDHE,Independent
2355,Maharashtra,Maval(33),lost,3825,( -689007),SANTOSH UBALE,Bhim Sena
2356,Maharashtra,Maval(33),lost,3167,( -689665),ADHALGE LAXMAN SADASHIV,Independent
2357,Maharashtra,Maval(33),lost,2923,( -689909),SUHAS MANOHAR RANE,Independent
2358,Maharashtra,Maval(33),lost,2900,( -689932),IQBAL IBRAHIM NAWDEKAR,Independent
2359,Maharashtra,Maval(33),lost,2642,( -690190),DADARAO KISAN KAMBLE,Independent
2360,Maharashtra,Maval(33),lost,2282,( -690550),RAHUL NIVRUTTI MADANE,Independent
2361,Maharashtra,Maval(33),lost,2203,( -690629),TUSHAR DIGAMBAR LONDHE,Bahujan Bharat Party
2362,Maharashtra,Maval(33),lost,2149,( -690683),RAHIM MAINUDDIN SAYYAD,Aazad Samaj Party (Kanshi Ram)
2363,Maharashtra,Maval(33),lost,2135,( -690697),INDRAJEET D GOND,Independent
2364,Maharashtra,Maval(33),lost,1676,( -691156),SHIVAJI KISAN JADHAV,All India Forward Bloc
2365,Maharashtra,Maval(33),lost,1638,( -691194),YASHWANT VITTHAL PAWAR,Kranti Kari Jai Hind Sena
2366,Maharashtra,Maval(33),lost,1603,( -691229),PRAFUL PANDIT BHOSALE,Independent
2367,Maharashtra,Maval(33),lost,1419,( -691413),RAJENDRA MARUTI KATE,Independent
2368,Maharashtra,Maval(33),lost,1372,( -691460),MAHESH THAKUR,Dharmarajya Paksha
2369,Maharashtra,Maval(33),lost,1291,( -691541),PRASHANT RAMKRISHNA BHAGAT,Bharatheeya Jawan Kisan Party
2370,Maharashtra,Maval(33),lost,1261,( -691571),PANKAJ PRABHAKAR OZARKAR,Akhil Bhartiya Parivar Party
2371,Maharashtra,Maval(33),lost,1233,( -691599),MANOJ BHASKAR GARBADE,Independent
2372,Maharashtra,Maval(33),lost,1093,( -691739),HAJRAT IMAMSAB PATEL,Independent
2373,Maharashtra,Maval(33),lost,966,( -691866),GOVIND GANGARAM HERODE,Independent
2374,Maharashtra,Maval(33),lost,905,( -691927),MADHUKAR DAMODAR THORAT,Independent
2375,Maharashtra,Maval(33),lost,829,( -692003),RAFIQUE RASHID QURESHI,Desh Janhit Party
2376,Maharashtra,Maval(33),lost,757,( -692075),CHIMAJI DHONDIBA SHINDE,Independent
2377,Maharashtra,Maval(33),lost,670,( -692162),ADV RAJU PATIL,Independent
2378,Maharashtra,Maval(33),lost,547,( -692285),MUKESH MANOHAR AGARWAL,Independent
2379,Maharashtra,Maval(33),,16760,( -676072),NOTA,None of the Above
2380,Maharashtra,Mumbai North West(27),won,452644,(+ 48),RAVINDRA DATTARAM WAIKAR,Shiv Sena
2381,Maharashtra,Mumbai North West(27),lost,452596,( -48),AMOL GAJANAN KIRTIKAR,Shiv Sena (Uddhav Balasaheb Thackrey)
2382,Maharashtra,Mumbai North West(27),lost,10052,( -442592),PARMESHWAR ASHOK RANSHUR,Vanchit Bahujan  Aaghadi
2383,Maharashtra,Mumbai North West(27),lost,4812,( -447832),RAJESH RAMKISAN MALLAH,Bahujan Samaj Party
2384,Maharashtra,Mumbai North West(27),lost,3173,( -449471),SAMEER MORE,Independent
2385,Maharashtra,Mumbai North West(27),lost,2002,( -450642),SUNIL BHIMA CHAVAN,Independent
2386,Maharashtra,Mumbai North West(27),lost,1763,( -450881),BALA VENKATESH VINAYAK NADAR,Aapki Apni Party (Peoples)
2387,Maharashtra,Mumbai North West(27),lost,1675,( -450969),ARORA SURINDER MOHAN,Bharat Jan Aadhar Party
2388,Maharashtra,Mumbai North West(27),lost,1479,( -451165),ROHAN SATONE,Independent
2389,Maharashtra,Mumbai North West(27),lost,1197,( -451447),ADV. SANJEEVKUMAR APPARAV KALKORI,Independent
2390,Maharashtra,Mumbai North West(27),lost,1154,( -451490),ADV. LATA PANDURANG SHINDE,Independent
2391,Maharashtra,Mumbai North West(27),lost,1149,( -451495),MANOJ SHRAVAN NAYAK,Right to Recall Party
2392,Maharashtra,Mumbai North West(27),lost,1078,( -451566),HRUDA DHANANJAY SHINDE,Independent
2393,Maharashtra,Mumbai North West(27),lost,937,( -451707),BHARAT KHIMJI SHAH,Hindu Samaj Party
2394,Maharashtra,Mumbai North West(27),lost,882,( -451762),SUSHMA DAYANAND MEHTA,Independent
2395,Maharashtra,Mumbai North West(27),lost,780,( -451864),ADVOCATE KAPIL KANTILAL SONI,Independent
2396,Maharashtra,Mumbai North West(27),lost,768,( -451876),SARIKA DABRAL,India Greens Party
2397,Maharashtra,Mumbai North West(27),lost,501,( -452143),GAJANAN TUKARAM SONKAMBLE,Independent
2398,Maharashtra,Mumbai North West(27),lost,497,( -452147),ADV MITESH VARSHNEY,Bhim Sena
2399,Maharashtra,Mumbai North West(27),lost,405,( -452239),HARISHANKAR YADAV,Samaj Vikas Kranti Party
2400,Maharashtra,Mumbai North West(27),lost,234,( -452410),SANTOSH MANIK RAYBAN,Independent
2401,Maharashtra,Mumbai North West(27),,15161,( -437483),NOTA,None of the Above
2402,Maharashtra,Thane(25),won,734231,(+ 217011),NARESH GANPAT MHASKE,Shiv Sena
2403,Maharashtra,Thane(25),lost,517220,( -217011),RAJAN BABURAO VICHARE,Shiv Sena (Uddhav Balasaheb Thackrey)
2404,Maharashtra,Thane(25),lost,10662,( -723569),SANTOSH BHIKAJI BHALERAO,Bahujan Samaj Party
2405,Maharashtra,Thane(25),lost,3494,( -730737),ADV. GURUDEV NARSINGH SURYAWANSHI,Independent
2406,Maharashtra,Thane(25),lost,2522,( -731709),MUKESH KAILASNATH TIWARI,Bhim Sena
2407,Maharashtra,Thane(25),lost,2358,( -731873),JHA SUBHASH CHANDRA,Sardar Vallabhbhai Patel Party
2408,Maharashtra,Thane(25),lost,2293,( -731938),DR. PIYUSH K. SAXENA,Independent
2409,Maharashtra,Thane(25),lost,2249,( -731982),CHANDRAKANT VITTHAL SONAWANE,Independent
2410,Maharashtra,Thane(25),lost,1887,( -732344),VIJAY DNYANOBA GHATE,Republican Bahujan Sena
2411,Maharashtra,Thane(25),lost,1875,( -732356),IRFAN IBRAHIM SHAIKH,Independent
2412,Maharashtra,Thane(25),lost,1786,( -732445),PRAMOD ANANDRAO DHUMAL,Independent
2413,Maharashtra,Thane(25),lost,1488,( -732743),BHANWARLAL KHETMAL MEHTA,Hindu Samaj Party
2414,Maharashtra,Thane(25),lost,1354,( -732877),UTTAM KISANRAO TIRPUDE,Peoples Party of India (Democratic)
2415,Maharashtra,Thane(25),lost,1180,( -733051),ARCHANA DINKAR GAIKWAD,Independent
2416,Maharashtra,Thane(25),lost,912,( -733319),SALIMA MUKTAR VASANI,Bahujan Maha Party
2417,Maharashtra,Thane(25),lost,886,( -733345),RAJIV KONDIBA BHOSALE,Independent
2418,Maharashtra,Thane(25),lost,818,( -733413),RAHUL JAGBIRSINGH MEHAROLIYA,Bahujan Republican  Socialist Party
2419,Maharashtra,Thane(25),lost,767,( -733464),RAJENDRA RAMCHANDRA SANKHE,Bharatheeya Jawan Kisan Party
2420,Maharashtra,Thane(25),lost,648,( -733583),KHAJASAB RASULSAB MULLA,Independent
2421,Maharashtra,Thane(25),lost,643,( -733588),SANJAY MANOHAR MORE,Independent
2422,Maharashtra,Thane(25),lost,599,( -733632),MALLIKARJUN SAYBANNA PUJARI,Independent
2423,Maharashtra,Thane(25),lost,531,( -733700),SAWALE DATTATRAY SITARAM,Independent
2424,Maharashtra,Thane(25),lost,440,( -733791),SURENDRAKUMAR K. JAIN,Independent
2425,Maharashtra,Thane(25),lost,324,( -733907),SIDDHANT CHHABAN SHIRSAT,Independent
2426,Maharashtra,Thane(25),,17901,( -716330),NOTA,None of the Above
2427,Maharashtra,Kalyan(24),won,589636,(+ 209144),DR SHRIKANT EKNATH SHINDE,Shiv Sena
2428,Maharashtra,Kalyan(24),lost,380492,( -209144),VAISHALI DAREKAR - RANE,Shiv Sena (Uddhav Balasaheb Thackrey)
2429,Maharashtra,Kalyan(24),lost,18741,( -570895),MO. SAHABUDDIN SHAIKH SULEMANI THAKUR,Vanchit Bahujan  Aaghadi
2430,Maharashtra,Kalyan(24),lost,11341,( -578295),PRASHANT RAMESH INGLE,Bahujan Samaj Party
2431,Maharashtra,Kalyan(24),lost,4205,( -585431),AMIT UPADHYAY,Right to Recall Party
2432,Maharashtra,Kalyan(24),lost,2753,( -586883),ARUN BHAURAO NITURE,Rashtriya Kisan Bahujan Party
2433,Maharashtra,Kalyan(24),lost,2620,( -587016),AMRISH RAJ MORAJKAR,Independent
2434,Maharashtra,Kalyan(24),lost,2468,( -587168),ASHWINI AMOL KENDRE,Independent
2435,Maharashtra,Kalyan(24),lost,2000,( -587636),NAFIS AHMED ANSARI,Independent
2436,Maharashtra,Kalyan(24),lost,1858,( -587778),SUSHILA KASHINATH KAMBLE,Bahujan Samaj Party  (Ambedkar)
2437,Maharashtra,Kalyan(24),lost,1824,( -587812),ABHIJIT WAMANRAO BICHUKALE,Independent
2438,Maharashtra,Kalyan(24),lost,1802,( -587834),AJAY SHYAM MORYA,Independent
2439,Maharashtra,Kalyan(24),lost,1609,( -588027),SAMBHAJI JAGANNATH JADHAV,Sanyukt Bharat Paksh
2440,Maharashtra,Kalyan(24),lost,1381,( -588255),POONAM JAGANNATH BAISANE,Bahujan Republican  Socialist Party
2441,Maharashtra,Kalyan(24),lost,1380,( -588256),CHANDRAKANT RAMBHAJI MOTE,Independent
2442,Maharashtra,Kalyan(24),lost,1243,( -588393),HINDURAO DADU PATIL,Rashtriya Maratha Party
2443,Maharashtra,Kalyan(24),lost,1082,( -588554),ARUN VAMAN JADHAV,Independent
2444,Maharashtra,Kalyan(24),lost,1082,( -588554),GAWALI PRAVIN SHIVAJI,Apni Prajahit Party
2445,Maharashtra,Kalyan(24),lost,1072,( -588564),SHRIDHAR NARAYAN SALVE,Bhim Sena
2446,Maharashtra,Kalyan(24),lost,808,( -588828),SHRIKANT SHIVAJI VANJARE,Peoples Party of India (Democratic)
2447,Maharashtra,Kalyan(24),lost,783,( -588853),PRAJAKTA NILESH YELVE,Independent
2448,Maharashtra,Kalyan(24),lost,741,( -588895),DNYANESHWAR LOKHANDE MAHARAJ,Independent
2449,Maharashtra,Kalyan(24),lost,715,( -588921),ADV. HITESH JAIKISHAN JESWANI,Independent
2450,Maharashtra,Kalyan(24),lost,653,( -588983),MOHAMMAD YUSUF KHAN,Independent
2451,Maharashtra,Kalyan(24),lost,602,( -589034),RAKESH KUMAR DHISULAL JAIN,Independent
2452,Maharashtra,Kalyan(24),lost,437,( -589199),SHIVA KRISHNAMURTI IYER,Independent
2453,Maharashtra,Kalyan(24),lost,371,( -589265),SALIMUDDIN KHALILUDDIN SHAIKH,Independent
2454,Maharashtra,Kalyan(24),lost,351,( -589285),DR. SACHIN SAHEBRAO PATIL,Independent
2455,Maharashtra,Kalyan(24),,11686,( -577950),NOTA,None of the Above
2456,Maharashtra,Aurangabad(19),won,476130,(+ 134650),BHUMARE SANDIPANRAO ASARAM,Shiv Sena
2457,Maharashtra,Aurangabad(19),lost,341480,( -134650),IMTIAZ JALEEL SYED,All India Majlis-E-Ittehadul Muslimeen
2458,Maharashtra,Aurangabad(19),lost,293450,( -182680),CHANDRAKANT KHAIRE,Shiv Sena (Uddhav Balasaheb Thackrey)
2459,Maharashtra,Aurangabad(19),lost,69266,( -406864),AFSAR KHAN YASEEN KHA,Vanchit Bahujan  Aaghadi
2460,Maharashtra,Aurangabad(19),lost,39828,( -436302),HARSHWARDHAN DADA RAIBHANJI JADHAV,Independent
2461,Maharashtra,Aurangabad(19),lost,10725,( -465405),SURENDRA DIGAMBAR GAJBHARE,Independent
2462,Maharashtra,Aurangabad(19),lost,8252,( -467878),SANJAY UTTAMRAO JAGTAP,Bahujan Samaj Party
2463,Maharashtra,Aurangabad(19),lost,6254,( -469876),RAVINDRA BHASKARRAO BODKHE,Bharatiya Yuva Jan Ekta Party
2464,Maharashtra,Aurangabad(19),lost,4693,( -471437),ABDUL AZIM ABDUL AZIZ SHAIKH,Independent
2465,Maharashtra,Aurangabad(19),lost,3812,( -472318),SANJAY BHASKAR SHIRSAT,Independent
2466,Maharashtra,Aurangabad(19),lost,3807,( -472323),DR JIVAN BHAWLAL RAJPUT,Independent
2467,Maharashtra,Aurangabad(19),lost,3105,( -473025),MANISHA KHARAT,Bahujan Maha Party
2468,Maharashtra,Aurangabad(19),lost,2932,( -473198),JAGANNATH KHANDERAO JADHAV J K JADHAV,Independent
2469,Maharashtra,Aurangabad(19),lost,2587,( -473543),MAANOJ VINAYAKRAO GHODKAY,Independent
2470,Maharashtra,Aurangabad(19),lost,2212,( -473918),SANGITA GANESH JADHAV,Independent
2471,Maharashtra,Aurangabad(19),lost,2192,( -473938),GALPHADE ARJUN BHAGWANRAO,Rashtriya Kisan Bahujan Party
2472,Maharashtra,Aurangabad(19),lost,2139,( -473991),VISHAL UDDHAV NANDARKAR,Independent
2473,Maharashtra,Aurangabad(19),lost,1979,( -474151),ARVIND KISANRAO KAMBLE,Bahujan Republican  Socialist Party
2474,Maharashtra,Aurangabad(19),lost,1948,( -474182),PRASHANT PUNDALIKRAO AVHALE,Independent
2475,Maharashtra,Aurangabad(19),lost,1872,( -474258),GHUGE NITIN PUNDLIK,Independent
2476,Maharashtra,Aurangabad(19),lost,1547,( -474583),BHALERAO VASANT SAMBHAJI,Prabuddha Republican Party
2477,Maharashtra,Aurangabad(19),lost,1495,( -474635),BHARAT PURUSHOTTAM KADAM,Rashtriya Maratha Party
2478,Maharashtra,Aurangabad(19),lost,1482,( -474648),ABDUL SAMAD BAGWAN,All India Majlis-E-Inquilab-E-Millat
2479,Maharashtra,Aurangabad(19),lost,1375,( -474755),SANDIP DADARAO MANKAR,Independent
2480,Maharashtra,Aurangabad(19),lost,1275,( -474855),ADV B U GOSAWI,Hindustan Janta Party
2481,Maharashtra,Aurangabad(19),lost,1274,( -474856),PANCHASHILA BABULAL JADHAV,Republican Bahujan Sena
2482,Maharashtra,Aurangabad(19),lost,1194,( -474936),PRATIKSHA PRASHANT CHAVAN,Ambedkarist Republican Party
2483,Maharashtra,Aurangabad(19),lost,1110,( -475020),BHANUDAS SON OF RAMDAS SARODE PATIL,Independent
2484,Maharashtra,Aurangabad(19),lost,1103,( -475027),NARAYAN JADHAV,Peoples Party of India (Democratic)
2485,Maharashtra,Aurangabad(19),lost,911,( -475219),SURESH ASARAM FULARE,Independent
2486,Maharashtra,Aurangabad(19),lost,894,( -475236),SHAIKH KHAJA KISMATWALA KASIM KISMATWALA,Independent
2487,Maharashtra,Aurangabad(19),lost,784,( -475346),MEENASING AVDHESHSING SING,Independent
2488,Maharashtra,Aurangabad(19),lost,765,( -475365),LATIF JABBAR KHAN,Independent
2489,Maharashtra,Aurangabad(19),lost,755,( -475375),JAGANNATH KISAN UGALE,Independent
2490,Maharashtra,Aurangabad(19),lost,609,( -475521),SANDIP DEVIDAS JADHAV,Independent
2491,Maharashtra,Aurangabad(19),lost,595,( -475535),DEVIDAS RATAN KASBE,Independent
2492,Maharashtra,Aurangabad(19),lost,593,( -475537),TRIBHUVAN MADHUKAR PADMAKAR,Independent
2493,Maharashtra,Aurangabad(19),,5773,( -470357),NOTA,None of the Above
2494,Maharashtra,Buldhana(5),won,349867,(+ 29479),JADHAV PRATAPRAO GANPATRAO,Shiv Sena
2495,Maharashtra,Buldhana(5),lost,320388,( -29479),NARENDRA DAGDU KHEDEKAR,Shiv Sena (Uddhav Balasaheb Thackrey)
2496,Maharashtra,Buldhana(5),lost,249963,( -99904),RAVIKANT CHANDRADAS TUPKAR,Independent
2497,Maharashtra,Buldhana(5),lost,98441,( -251426),VASANTRAO RAJARAM MAGAR,Vanchit Bahujan  Aaghadi
2498,Maharashtra,Buldhana(5),lost,15436,( -334431),ASHOK WAMAN HIWALE,Independent
2499,Maharashtra,Buldhana(5),lost,13050,( -336817),SANDEEP RAMRAO SHELKE,Independent
2500,Maharashtra,Buldhana(5),lost,8218,( -341649),GAUTAM KISANRAO MAGHADE,Bahujan Samaj Party
2501,Maharashtra,Buldhana(5),lost,6153,( -343714),ASLAM SHAH HASAN SHAH,Maharashtra Vikas Aghadi
2502,Maharashtra,Buldhana(5),lost,5713,( -344154),NANDU JAGANNATH LAWANGE,Independent
2503,Maharashtra,Buldhana(5),lost,5258,( -344609),MACHHINDRA SHESHRAV MAGHADE,Socialist Party (India)
2504,Maharashtra,Buldhana(5),lost,4978,( -344889),MOHAMMAD HASAN INAMDAR,Minorities Democratic Party
2505,Maharashtra,Buldhana(5),lost,4854,( -345013),GAJANAN JANARDAN DHANDE,Independent
2506,Maharashtra,Buldhana(5),lost,4564,( -345303),DINKAR TUKARAM SAMBARE,Independent
2507,Maharashtra,Buldhana(5),lost,3931,( -345936),BALASAHEB RAMCHANDRA INGLE,Independent
2508,Maharashtra,Buldhana(5),lost,2561,( -347306),PRATAP PANDHARINATH PATIL,Independent
2509,Maharashtra,Buldhana(5),lost,2530,( -347337),SANTOSH BHIMRAO INGLE,Republican Party of India (A)
2510,Maharashtra,Buldhana(5),lost,2455,( -347412),MADHAVRAO SAKHARAM BANSODE,Bahujan Republican  Socialist Party
2511,Maharashtra,Buldhana(5),lost,2331,( -347536),VIKAS BHAI NANDAVE,Bhim Sena
2512,Maharashtra,Buldhana(5),lost,1968,( -347899),UDDHAV ONKAR ATOLE,Independent
2513,Maharashtra,Buldhana(5),lost,1540,( -348327),REKHA KAILAS POPHALKAR,Independent
2514,Maharashtra,Buldhana(5),lost,1511,( -348356),PROF SUMANTAI TIRPUDE,Peoples Party of India (Democratic)
2515,Maharashtra,Buldhana(5),,3786,( -346081),NOTA,None of the Above
2516,Tamil Nadu,NAGAPATTINAM(29),won,465044,(+ 208957),SELVARAJ V,Communist Party of India
2517,Tamil Nadu,NAGAPATTINAM(29),lost,256087,( -208957),DR SURSITH SANKAR G,All India Anna Dravida Munnetra Kazhagam
2518,Tamil Nadu,NAGAPATTINAM(29),lost,131294,( -333750),KARTHIKA M,Naam Tamilar Katchi
2519,Tamil Nadu,NAGAPATTINAM(29),lost,102173,( -362871),RAMESHGOVIND S G M,Bharatiya Janata Party
2520,Tamil Nadu,NAGAPATTINAM(29),lost,3102,( -461942),VIJAYARAGAVAN N,Independent
2521,Tamil Nadu,NAGAPATTINAM(29),lost,2467,( -462577),SUBRAMANIAN K,Independent
2522,Tamil Nadu,NAGAPATTINAM(29),lost,1806,( -463238),JAGADEESH J BE,Bahujan Samaj Party
2523,Tamil Nadu,NAGAPATTINAM(29),lost,1070,( -463974),PREM S,Independent
2524,Tamil Nadu,NAGAPATTINAM(29),lost,1050,( -463994),BOOMINATHAN B,Desiya Makkal Sakthi Katchi
2525,Tamil Nadu,NAGAPATTINAM(29),,8918,( -456126),NOTA,None of the Above
2526,Tamil Nadu,CHIDAMBARAM(27),won,505084,(+ 103554),THIRUMAAVALAVAN THOL,Viduthalai Chiruthaigal Katchi
2527,Tamil Nadu,CHIDAMBARAM(27),lost,401530,( -103554),CHANDRAHASAN M,All India Anna Dravida Munnetra Kazhagam
2528,Tamil Nadu,CHIDAMBARAM(27),lost,168493,( -336591),KARTHIYAYINI P,Bharatiya Janata Party
2529,Tamil Nadu,CHIDAMBARAM(27),lost,65589,( -439495),JANCIRANI R,Naam Tamilar Katchi
2530,Tamil Nadu,CHIDAMBARAM(27),lost,3203,( -501881),NEELAMEGAM K,Bahujan Samaj Party
2531,Tamil Nadu,CHIDAMBARAM(27),lost,3062,( -502022),TAMILVENDHAN P,Independent
2532,Tamil Nadu,CHIDAMBARAM(27),lost,2239,( -502845),PERUMAL S,Independent
2533,Tamil Nadu,CHIDAMBARAM(27),lost,2041,( -503043),VETTRIVEL G,Independent
2534,Tamil Nadu,CHIDAMBARAM(27),lost,1836,( -503248),ARCHUNAN M A T,Independent
2535,Tamil Nadu,CHIDAMBARAM(27),lost,1642,( -503442),DHAMODHARAN S,Naadaalum Makkal Katchi
2536,Tamil Nadu,CHIDAMBARAM(27),lost,1280,( -503804),RATHA G,Independent
2537,Tamil Nadu,CHIDAMBARAM(27),lost,1087,( -503997),RAJAMANICKAM C,Independent
2538,Tamil Nadu,CHIDAMBARAM(27),lost,638,( -504446),CHINNADURAI A,Independent
2539,Tamil Nadu,CHIDAMBARAM(27),lost,586,( -504498),ELAVARASAN C,Independent
2540,Tamil Nadu,CHIDAMBARAM(27),,8761,( -496323),NOTA,None of the Above
2541,Tamil Nadu,KANNIYAKUMARI(39),won,546248,(+ 179907),VIJAYAKUMAR (Alias) VIJAY VASANTH,Indian National Congress
2542,Tamil Nadu,KANNIYAKUMARI(39),lost,366341,( -179907),RADHAKRISHNAN P,Bharatiya Janata Party
2543,Tamil Nadu,KANNIYAKUMARI(39),lost,52721,( -493527),MARIA JENNIFER CLARA MICHAEL,Naam Tamilar Katchi
2544,Tamil Nadu,KANNIYAKUMARI(39),lost,41393,( -504855),PASILIAN NAZERATH,All India Anna Dravida Munnetra Kazhagam
2545,Tamil Nadu,KANNIYAKUMARI(39),lost,4415,( -541833),NAGOOR MEERAN PEER MOHAMED U,Independent
2546,Tamil Nadu,KANNIYAKUMARI(39),lost,3262,( -542986),BERRILA L,Independent
2547,Tamil Nadu,KANNIYAKUMARI(39),lost,2072,( -544176),BALASUBRAMANIAN T,Independent
2548,Tamil Nadu,KANNIYAKUMARI(39),lost,1623,( -544625),VIJAYAN G,Bahujan Samaj Party
2549,Tamil Nadu,KANNIYAKUMARI(39),lost,1278,( -544970),DENNISON V,Independent
2550,Tamil Nadu,KANNIYAKUMARI(39),lost,1040,( -545208),DR TOM MANOHAR C M,Punnagai Desam Party
2551,Tamil Nadu,KANNIYAKUMARI(39),lost,748,( -545500),SATHISH BABU P,Independent
2552,Tamil Nadu,KANNIYAKUMARI(39),lost,598,( -545650),RAJAN SINGH,Bahujan Dravida Party
2553,Tamil Nadu,KANNIYAKUMARI(39),lost,552,( -545696),GEETA M,Thakkam Katchi
2554,Tamil Nadu,KANNIYAKUMARI(39),lost,527,( -545721),SANTHAKUMAR N,Independent
2555,Tamil Nadu,KANNIYAKUMARI(39),lost,465,( -545783),RAMESHKUMAR J L,Independent
2556,Tamil Nadu,KANNIYAKUMARI(39),lost,441,( -545807),ESAKKIMUTHU N,Independent
2557,Tamil Nadu,KANNIYAKUMARI(39),lost,373,( -545875),AYYAPPAN V,Independent
2558,Tamil Nadu,KANNIYAKUMARI(39),lost,315,( -545933),SARAVANAN N,Samaniya Makkal Nala Katchi
2559,Tamil Nadu,KANNIYAKUMARI(39),lost,270,( -545978),VINO JEBA SEELAN T,Independent
2560,Tamil Nadu,KANNIYAKUMARI(39),lost,254,( -545994),KRISHNAN P,Independent
2561,Tamil Nadu,KANNIYAKUMARI(39),lost,188,( -546060),VENKADESH S C,Independent
2562,Tamil Nadu,KANNIYAKUMARI(39),lost,175,( -546073),ANTONY MICHAEL J,Independent
2563,Tamil Nadu,KANNIYAKUMARI(39),,3756,( -542492),NOTA,None of the Above
2564,Tamil Nadu,TENKASI(37),won,425679,(+ 196199),DR RANI SRI KUMAR,Dravida Munnetra Kazhagam
2565,Tamil Nadu,TENKASI(37),lost,229480,( -196199),DR K KRISHNASAMY,All India Anna Dravida Munnetra Kazhagam
2566,Tamil Nadu,TENKASI(37),lost,208825,( -216854),B JOHN PANDIAN,Bharatiya Janata Party
2567,Tamil Nadu,TENKASI(37),lost,130335,( -295344),ESAI MATHIVANAN,Naam Tamilar Katchi
2568,Tamil Nadu,TENKASI(37),lost,6314,( -419365),KARPAGAVALLI P,Independent
2569,Tamil Nadu,TENKASI(37),lost,3554,( -422125),T MAHESHKUMAR,Bahujan Samaj Party
2570,Tamil Nadu,TENKASI(37),lost,3412,( -422267),RAMASAMY P,Viro Ke Vir Indian Party
2571,Tamil Nadu,TENKASI(37),lost,3278,( -422401),M MANMATHAN,Independent
2572,Tamil Nadu,TENKASI(37),lost,2476,( -423203),A SEETHA,Bahujan Dravida Party
2573,Tamil Nadu,TENKASI(37),lost,1833,( -423846),KRISHNASAMY,Independent
2574,Tamil Nadu,TENKASI(37),lost,1655,( -424024),M UMAMAHESWARI,Desiya Makkal Sakthi Katchi
2575,Tamil Nadu,TENKASI(37),lost,1457,( -424222),A MUTHAIAH,Independent
2576,Tamil Nadu,TENKASI(37),lost,1350,( -424329),P KRISHNASAMY,Independent
2577,Tamil Nadu,TENKASI(37),lost,1313,( -424366),ARUMUGASWAMI M,Independent
2578,Tamil Nadu,TENKASI(37),lost,993,( -424686),RAJA SEKAR,Independent
2579,Tamil Nadu,TENKASI(37),,17165,( -408514),NOTA,None of the Above
2580,Telangana,Khammam (17),won,766929,(+ 467847),RAMASAHAYAM RAGHURAM REDDY,Indian National Congress
2581,Telangana,Khammam (17),lost,299082,( -467847),NAMA NAGESWARA RAO,Bharat Rashtra Samithi
2582,Telangana,Khammam (17),lost,118636,( -648293),VINOD RAO TANDRA,Bharatiya Janata Party
2583,Telangana,Khammam (17),lost,6215,( -760714),VASAM RAMAKRISHNA DORA,Independent
2584,Telangana,Khammam (17),lost,6101,( -760828),ADVOCATE YERRA KAAMESH,Bahujan Samaj Party
2585,Telangana,Khammam (17),lost,6064,( -760865),ULLENGALA YADAGIRI,Independent
2586,Telangana,Khammam (17),lost,5743,( -761186),KUKKALA NAGAIAH,Alliance of Democratic Reforms Party
2587,Telangana,Khammam (17),lost,4114,( -762815),KATUKOJWALA NAGESWAR RAO,Independent
2588,Telangana,Khammam (17),lost,3113,( -763816),CHILAKABATHINI STALIN,Independent
2589,Telangana,Khammam (17),lost,2424,( -764505),SHAIK BAJI BABA,Independent
2590,Telangana,Khammam (17),lost,2237,( -764692),KASIMALLA NAGESWARA RAO,Independent
2591,Telangana,Khammam (17),lost,2122,( -764807),BANDARU NAGARAJU,Independent
2592,Telangana,Khammam (17),lost,2028,( -764901),SHAIK KHALEEL PASHA,Independent
2593,Telangana,Khammam (17),lost,1854,( -765075),EDURUGATLA CHITTI MALLU,Independent
2594,Telangana,Khammam (17),lost,1790,( -765139),GANGIREDDY KOTI REDDY,Independent
2595,Telangana,Khammam (17),lost,1663,( -765266),SHAIK SIRAJUDDIN,Independent
2596,Telangana,Khammam (17),lost,1342,( -765587),SHAIK AJJULU,Independent
2597,Telangana,Khammam (17),lost,1273,( -765656),KOPPULA SRINIVASA RAO,Jaibhim Rao Bharat Party
2598,Telangana,Khammam (17),lost,1053,( -765876),MADDISETTY YERRAPPA @ AJAY,Independent
2599,Telangana,Khammam (17),lost,1022,( -765907),SHAIK MOHMED RASOOL,Independent
2600,Telangana,Khammam (17),lost,1018,( -765911),LINGALA RAVI KUMAR,Independent
2601,Telangana,Khammam (17),lost,950,( -765979),AVUTAPALLI RAMBABU,Independent
2602,Telangana,Khammam (17),lost,919,( -766010),TEJAVATH JOGRAM NAIK,Independent
2603,Telangana,Khammam (17),lost,754,( -766175),ANWAR RAICE,Socialist Party (India)
2604,Telangana,Khammam (17),lost,718,( -766211),ANANDA PRASAD KASINA,Pyramid Party of India
2605,Telangana,Khammam (17),lost,700,( -766229),LINGAIAH DANDA,Independent
2606,Telangana,Khammam (17),lost,693,( -766236),ANIL KUMAR MADDINENI,Independent
2607,Telangana,Khammam (17),lost,661,( -766268),PAPETLA RAMAMURTHY,Sakala Janula Party
2608,Telangana,Khammam (17),lost,616,( -766313),ANTHONI SURESH,Bahujana Left Party
2609,Telangana,Khammam (17),lost,601,( -766328),M. RAVI CHANDAR CHOWHAN,Independent
2610,Telangana,Khammam (17),lost,508,( -766421),THAMBALLA RAVI,Independent
2611,Telangana,Khammam (17),lost,476,( -766453),BHATTU SRINIVAS,Jai Bharat National Party
2612,Telangana,Khammam (17),lost,368,( -766561),NAGESWARA RAO LAKAVATH,Independent
2613,Telangana,Khammam (17),lost,363,( -766566),MALAMPATI SURYANARAYANA,Independent
2614,Telangana,Khammam (17),lost,351,( -766578),MUTYAM ARJUNA RAJU,Independent
2615,Telangana,Khammam (17),,6782,( -760147),NOTA,None of the Above
2616,Telangana,Mahbubnagar(11),won,510747,(+ 4500),ARUNA. D. K,Bharatiya Janata Party
2617,Telangana,Mahbubnagar(11),lost,506247,( -4500),CHALLA VAMSHI CHAND REDDY,Indian National Congress
2618,Telangana,Mahbubnagar(11),lost,154792,( -355955),MANNE SRINIVAS REDDY,Bharat Rashtra Samithi
2619,Telangana,Mahbubnagar(11),lost,6379,( -504368),VENKATESWARLU TALLADA,Alliance of Democratic Reforms Party
2620,Telangana,Mahbubnagar(11),lost,4470,( -506277),KINNERA YADAGIRI,Independent
2621,Telangana,Mahbubnagar(11),lost,4249,( -506498),KURA VENKATAIAH,Independent
2622,Telangana,Mahbubnagar(11),lost,3815,( -506932),HARINDER REDDY MALLELA,Independent
2623,Telangana,Mahbubnagar(11),lost,3451,( -507296),KARUKONDA SRINIVAS YADAV,Independent
2624,Telangana,Mahbubnagar(11),lost,3225,( -507522),HANUMESH,Independent
2625,Telangana,Mahbubnagar(11),lost,3077,( -507670),MOHD ALAUDDIN,Bahujan Samaj Party
2626,Telangana,Mahbubnagar(11),lost,2748,( -507999),GOVINDAMMA,Independent
2627,Telangana,Mahbubnagar(11),lost,2618,( -508129),GANTLAVELLI RAKESH,Dharma Samaj Party
2628,Telangana,Mahbubnagar(11),lost,2214,( -508533),UMASHANKAR NEMMIKANTI,Independent
2629,Telangana,Mahbubnagar(11),lost,1727,( -509020),DINESH,Independent
2630,Telangana,Mahbubnagar(11),lost,1675,( -509072),ANDHARI ANJAIAH,Independent
2631,Telangana,Mahbubnagar(11),lost,1565,( -509182),SANGEPAGA SAROJANAMMA,Independent
2632,Telangana,Mahbubnagar(11),lost,1085,( -509662),B. RAVINDER,Social Justice Party of India
2633,Telangana,Mahbubnagar(11),lost,1027,( -509720),K. UDAY TEJ NAIK,Independent
2634,Telangana,Mahbubnagar(11),lost,1020,( -509727),MARLA ANJANEYULU,Jai Swaraj Party
2635,Telangana,Mahbubnagar(11),lost,985,( -509762),NADIMINTI SRINIVASULU,Independent
2636,Telangana,Mahbubnagar(11),lost,952,( -509795),M. NAVEEN REDDY,Independent
2637,Telangana,Mahbubnagar(11),lost,596,( -510151),VIJAYA,Independent
2638,Telangana,Mahbubnagar(11),lost,503,( -510244),ANEESUR RAHMAN,Bahujan Mukti Party
2639,Telangana,Mahbubnagar(11),lost,438,( -510309),A. SRINIVASULU,Independent
2640,Telangana,Mahbubnagar(11),lost,432,( -510315),KADINTI SHANKAR REDDY,Viduthalai Chiruthaigal Katchi
2641,Telangana,Mahbubnagar(11),lost,420,( -510327),NARESH REDDY,Telangana Jaghir Party
2642,Telangana,Mahbubnagar(11),lost,353,( -510394),VENKATA RAMANA,Independent
2643,Telangana,Mahbubnagar(11),lost,264,( -510483),BANDA SATYANARAYANA,Independent
2644,Telangana,Mahbubnagar(11),lost,262,( -510485),PULLANGARI SANDEEP KUMAR REDDY,Independent
2645,Telangana,Mahbubnagar(11),lost,229,( -510518),VISHNU VARDHAN REDDY THAPALAKINDHI,Independent
2646,Telangana,Mahbubnagar(11),lost,183,( -510564),MUDAVATH BALARAJU NAIK,Independent
2647,Telangana,Mahbubnagar(11),,4330,( -506417),NOTA,None of the Above
2648,Uttar Pradesh,Nagina(5),won,512552,(+ 151473),CHANDRASHEKHAR,Aazad Samaj Party (Kanshi Ram)
2649,Uttar Pradesh,Nagina(5),lost,361079,( -151473),OM KUMAR,Bharatiya Janata Party
2650,Uttar Pradesh,Nagina(5),lost,102374,( -410178),MANOJ KUMAR,Samajwadi Party
2651,Uttar Pradesh,Nagina(5),lost,13272,( -499280),SURENDRA PAL SINGH,Bahujan Samaj Party
2652,Uttar Pradesh,Nagina(5),lost,4518,( -508034),JOGENDRA,Independent
2653,Uttar Pradesh,Nagina(5),lost,2201,( -510351),SANJEEV KUMAR,Independent
2654,Uttar Pradesh,Nagina(5),,5307,( -507245),NOTA,None of the Above
2655,Uttar Pradesh,Baghpat(11),won,488967,(+ 159459),DR RAJKUMAR SANGWAN,Rashtriya Lok Dal
2656,Uttar Pradesh,Baghpat(11),lost,329508,( -159459),AMARPAL,Samajwadi Party
2657,Uttar Pradesh,Baghpat(11),lost,92266,( -396701),PRAVEEN BANSAL,Bahujan Samaj Party
2658,Uttar Pradesh,Baghpat(11),lost,5523,( -483444),MUKESH KUMAR SHARMA,Azad Adhikar Sena
2659,Uttar Pradesh,Baghpat(11),lost,5020,( -483947),MAHENDER SINGH,Sarvjan Samta Party
2660,Uttar Pradesh,Baghpat(11),lost,4099,( -484868),SUKHVIR SINGH,Swatantra Jantaraj Party
2661,Uttar Pradesh,Baghpat(11),lost,3280,( -485687),RUBY KASHYAP,Sarvjan Lok Shakti Party
2662,Uttar Pradesh,Baghpat(11),,5110,( -483857),NOTA,None of the Above
2663,Uttar Pradesh,Barabanki(53),won,719927,(+ 215704),TANUJ PUNIA,Indian National Congress
2664,Uttar Pradesh,Barabanki(53),lost,504223,( -215704),RAJRANI RAWAT,Bharatiya Janata Party
2665,Uttar Pradesh,Barabanki(53),lost,39177,( -680750),SHIV KUMAR DOHAREY,Bahujan Samaj Party
2666,Uttar Pradesh,Barabanki(53),lost,3669,( -716258),BABOORAM,Independent
2667,Uttar Pradesh,Barabanki(53),lost,2928,( -716999),RAMLAKHAN PASI,Independent
2668,Uttar Pradesh,Barabanki(53),lost,2321,( -717606),MITHALESH KUMARI,Independent
2669,Uttar Pradesh,Barabanki(53),lost,2173,( -717754),DEVATADEEN GAUTAM,Independent
2670,Uttar Pradesh,Barabanki(53),lost,2020,( -717907),ASHA DEVI,Swatantrata Abhivyakti Party
2671,Uttar Pradesh,Barabanki(53),lost,1493,( -718434),PROF. (DR.) RAM GHULAM RAZDAN,Public Adhikar Socialist Indian Party
2672,Uttar Pradesh,Barabanki(53),lost,1190,( -718737),MAHENDRA KUMAR RAWAT,Awami Samta Party
2673,Uttar Pradesh,Barabanki(53),lost,1138,( -718789),OMKAR,Independent
2674,Uttar Pradesh,Barabanki(53),lost,1078,( -718849),ADVOCATE SANTOSH RAWAT,Dr. Bhimrao Ambedkar Dal
2675,Uttar Pradesh,Barabanki(53),lost,1076,( -718851),PREMCHANDRA HARIJAN,Sardar Patel Siddhant Party
2676,Uttar Pradesh,Barabanki(53),,8221,( -711706),NOTA,None of the Above
2677,Uttar Pradesh,Bhadohi(78),won,459982,(+ 44072),DR. VINOD KUMAR BIND,Bharatiya Janata Party
2678,Uttar Pradesh,Bhadohi(78),lost,415910,( -44072),LALITESHPATI TRIPATHI,All India Trinamool Congress
2679,Uttar Pradesh,Bhadohi(78),lost,155053,( -304929),HARISHANKAR,Bahujan Samaj Party
2680,Uttar Pradesh,Bhadohi(78),lost,13689,( -446293),PREMCHAND BIND,Pragatisheel Manav Samaj Party
2681,Uttar Pradesh,Bhadohi(78),lost,6206,( -453776),RAJ NARAYAN PATEL,Sardar Patel Siddhant Party
2682,Uttar Pradesh,Bhadohi(78),lost,5270,( -454712),RAM PRAKASH MISHRA,Rashtriya Samaj Paksha
2683,Uttar Pradesh,Bhadohi(78),lost,5261,( -454721),SUSHIL,All India Forward Bloc
2684,Uttar Pradesh,Bhadohi(78),lost,4848,( -455134),DR. SHYAMDHAR TIWARI,Independent
2685,Uttar Pradesh,Bhadohi(78),lost,4597,( -455385),KRISHNA DEV,Rashtra Uday Party
2686,Uttar Pradesh,Bhadohi(78),lost,2948,( -457034),DHIRENDRA KUMAR TIWARI,Independent
2687,Uttar Pradesh,Bhadohi(78),,11229,( -448753),NOTA,None of the Above
2688,Uttar Pradesh,Robertsganj(80),won,465848,(+ 129234),CHHOTELAL,Samajwadi Party
2689,Uttar Pradesh,Robertsganj(80),lost,336614,( -129234),RINKI SINGH,Apna Dal (Soneylal)
2690,Uttar Pradesh,Robertsganj(80),lost,118778,( -347070),DHANESHWAR,Bahujan Samaj Party
2691,Uttar Pradesh,Robertsganj(80),lost,23852,( -441996),ASHOK KUMAR KANNAUJIYA,Communist Party of India
2692,Uttar Pradesh,Robertsganj(80),lost,8194,( -457654),SUBHAGI,Janhit Sankalp Party
2693,Uttar Pradesh,Robertsganj(80),lost,7592,( -458256),ARVIND KUMAR BHARTI,Rashtriya Samanta Dal
2694,Uttar Pradesh,Robertsganj(80),lost,6712,( -459136),SUKALU,Independent
2695,Uttar Pradesh,Robertsganj(80),lost,6444,( -459404),SHIVPUJAN,Rashtriya Samaj Paksha
2696,Uttar Pradesh,Robertsganj(80),lost,6144,( -459704),SONU NIGAM,Independent
2697,Uttar Pradesh,Robertsganj(80),lost,3741,( -462107),CHANDRIKA PRASAD,Janta Kranti Party (Rashtravadi)
2698,Uttar Pradesh,Robertsganj(80),lost,3471,( -462377),PRABHUDAYAL,Rashtriya Samaj Dal (R)
2699,Uttar Pradesh,Robertsganj(80),lost,3123,( -462725),RAM SHIROMANI,Sardar Patel Siddhant Party
2700,Uttar Pradesh,Robertsganj(80),,19032,( -446816),NOTA,None of the Above
2701,West Bengal,Bishnupur(37),won,680130,(+ 5567),KHAN SAUMITRA,Bharatiya Janata Party
2702,West Bengal,Bishnupur(37),lost,674563,( -5567),SUJATA MONDAL,All India Trinamool Congress
2703,West Bengal,Bishnupur(37),lost,105411,( -574719),SITAL CHANDRA KAIBARTYA,Communist Party of India  (Marxist)
2704,West Bengal,Bishnupur(37),lost,16074,( -664056),SADANANDA MANDAL,Socialist Unity Centre Of India (COMMUNIST)
2705,West Bengal,Bishnupur(37),lost,9079,( -671051),JOYDEV DHANK,Bahujan Samaj Party
2706,West Bengal,Bishnupur(37),lost,5106,( -675024),BASUDEB SIKARI,Independent
2707,West Bengal,Bishnupur(37),lost,4377,( -675753),NARENDRANATH RAY,Independent
2708,West Bengal,Bishnupur(37),,19132,( -660998),NOTA,None of the Above
2709,West Bengal,Birbhum(42),won,717961,(+ 197650),SATABDI ROY,All India Trinamool Congress
2710,West Bengal,Birbhum(42),lost,520311,( -197650),DEBTANU BHATTACHARYA,Bharatiya Janata Party
2711,West Bengal,Birbhum(42),lost,226260,( -491701),MILTON RASHID,Indian National Congress
2712,West Bengal,Birbhum(42),lost,11958,( -706003),AMIY GHOSH,Independent
2713,West Bengal,Birbhum(42),lost,7687,( -710274),LAKSHMI HEMBROM,Ambedkarite Party of India
2714,West Bengal,Birbhum(42),lost,6779,( -711182),AYESHA KHATUN,Socialist Unity Centre Of India (COMMUNIST)
2715,West Bengal,Birbhum(42),lost,5882,( -712079),RAJNATH SARKAR,Bahujan Samaj Party
2716,West Bengal,Birbhum(42),lost,4256,( -713705),SAURAV MUDI,Independent
2717,West Bengal,Birbhum(42),lost,3832,( -714129),ABDUL IMRAN,Independent
2718,West Bengal,Birbhum(42),lost,3823,( -714138),BISWAJIT MISHRA,All India Arya Mahasabha
2719,West Bengal,Birbhum(42),lost,2557,( -715404),MD. JAKIR HOSSAIN,Bharatiya National Janata Dal
2720,West Bengal,Birbhum(42),lost,2033,( -715928),DOLA SARKAR,Indian National Socialistic Action Forces
2721,West Bengal,Birbhum(42),,14093,( -703868),NOTA,None of the Above
2722,West Bengal,Bolpur(41),won,855633,(+ 327253),ASIT KUMAR MAL,All India Trinamool Congress
2723,West Bengal,Bolpur(41),lost,528380,( -327253),PIYA SAHA,Bharatiya Janata Party
2724,West Bengal,Bolpur(41),lost,99383,( -756250),SHYAMALI PRADHAN,Communist Party of India  (Marxist)
2725,West Bengal,Bolpur(41),lost,7829,( -847804),ATUL CHANDRA BAURI,Independent
2726,West Bengal,Bolpur(41),lost,7039,( -848594),DR MANIK CHANDRA PRODHAN,Bahujan Samaj Party
2727,West Bengal,Bolpur(41),lost,3640,( -851993),SHANTA DAS,Mulnibasi Party of India
2728,West Bengal,Bolpur(41),lost,2792,( -852841),BIJOY DOLUI,Socialist Unity Centre Of India (COMMUNIST)
2729,West Bengal,Bolpur(41),lost,2052,( -853581),MANTU DHIBAR,Hindustan Shakti Sena
2730,West Bengal,Bolpur(41),,21722,( -833911),NOTA,None of the Above
2731,West Bengal,Asansol(40),won,605645,(+ 59564),SHATRUGHAN PRASAD SINHA,All India Trinamool Congress
2732,West Bengal,Asansol(40),lost,546081,( -59564),SURENDRAJEET SINGH AHLUWALIA,Bharatiya Janata Party
2733,West Bengal,Asansol(40),lost,105964,( -499681),JAHANARA KHAN,Communist Party of India  (Marxist)
2734,West Bengal,Asansol(40),lost,10647,( -594998),DIPIKA BAURI,Independent
2735,West Bengal,Asansol(40),lost,8575,( -597070),SUNNY KUMAR SAH,Bahujan Samaj Party
2736,West Bengal,Asansol(40),lost,4760,( -600885),SUJIT PAL,Independent
2737,West Bengal,Asansol(40),lost,4358,( -601287),AMARNATH CHOWDHURY,Socialist Unity Centre Of India (COMMUNIST)
2738,West Bengal,Asansol(40),,15510,( -590135),NOTA,None of the Above
2739,West Bengal,Bardhaman-Durgapur(39),won,720667,(+ 137981),AZAD KIRTI JHA,All India Trinamool Congress
2740,West Bengal,Bardhaman-Durgapur(39),lost,582686,( -137981),DILIP GHOSH,Bharatiya Janata Party
2741,West Bengal,Bardhaman-Durgapur(39),lost,153829,( -566838),SUKRITI GHOSAL,Communist Party of India  (Marxist)
2742,West Bengal,Bardhaman-Durgapur(39),lost,7142,( -713525),LUXMI NARAYAN KORA,Independent
2743,West Bengal,Bardhaman-Durgapur(39),lost,6856,( -713811),PRABHU NATH SAH,Bahujan Samaj Party
2744,West Bengal,Bardhaman-Durgapur(39),lost,3469,( -717198),TASBIRUL ISLAM,Socialist Unity Centre Of India (COMMUNIST)
2745,West Bengal,Bardhaman-Durgapur(39),lost,3111,( -717556),REENA LEONG,Independent
2746,West Bengal,Bardhaman-Durgapur(39),lost,2418,( -718249),MIR SAKIMUDDIN,The National Road Map Party of India
2747,West Bengal,Bardhaman-Durgapur(39),,21595,( -699072),NOTA,None of the Above
2748,West Bengal,Bardhaman Purba(38),won,720302,(+ 160572),DR. SHARMILA SARKAR,All India Trinamool Congress
2749,West Bengal,Bardhaman Purba(38),lost,559730,( -160572),ASIM KUMAR SARKAR,Bharatiya Janata Party
2750,West Bengal,Bardhaman Purba(38),lost,176899,( -543403),NIRAB KHAN,Communist Party of India  (Marxist)
2751,West Bengal,Bardhaman Purba(38),lost,10976,( -709326),NIRMAL MAJHI,Socialist Unity Centre Of India (COMMUNIST)
2752,West Bengal,Bardhaman Purba(38),lost,7631,( -712671),MUKUL BISWAS,Bahujan Samaj Party
2753,West Bengal,Bardhaman Purba(38),lost,4893,( -715409),SHARMILA SARKAR,Independent
2754,West Bengal,Bardhaman Purba(38),lost,4182,( -716120),SAJAL KUMAR DE,Communist Party of India  (Marxist-Leninist)  (Liberation)
2755,West Bengal,Bardhaman Purba(38),,12697,( -707605),NOTA,None of the Above
2756,West Bengal,Bankura(36),won,641813,(+ 32778),ARUP CHAKRABORTY,All India Trinamool Congress
2757,West Bengal,Bankura(36),lost,609035,( -32778),DR. SUBHAS SARKAR,Bharatiya Janata Party
2758,West Bengal,Bankura(36),lost,105359,( -536454),NILANJAN DASGUPTA,Communist Party of India  (Marxist)
2759,West Bengal,Bankura(36),lost,18569,( -623244),SURAJIT SINGH KURMALI,Independent
2760,West Bengal,Bankura(36),lost,9101,( -632712),GOPAL MURMU,Ambedkarite Party of India
2761,West Bengal,Bankura(36),lost,8796,( -633017),DIPA BOURI,Bahujan Samaj Party
2762,West Bengal,Bankura(36),lost,6717,( -635096),MARSHAL TUDU,Independent
2763,West Bengal,Bankura(36),lost,5529,( -636284),TARA SHANKAR GOPE,Socialist Unity Centre Of India (COMMUNIST)
2764,West Bengal,Bankura(36),lost,4622,( -637191),SANDIP KUMAR DEY,Independent
2765,West Bengal,Bankura(36),lost,3541,( -638272),SAMAR KUMAR BISWAS,Kisan Mazdoor Sangharsh Party
2766,West Bengal,Bankura(36),lost,3506,( -638307),JIBAN CHAKRABORTY,Independent
2767,West Bengal,Bankura(36),lost,2796,( -639017),KARTIK CHANDRA BAURI,Independent
2768,West Bengal,Bankura(36),lost,2081,( -639732),GOUR CHANDRA HEMBRAM,Independent
2769,West Bengal,Bankura(36),,26209,( -615604),NOTA,None of the Above
2770,West Bengal,Medinipur(34),won,702192,(+ 27191),JUNE MALIAH,All India Trinamool Congress
2771,West Bengal,Medinipur(34),lost,675001,( -27191),AGNIMITRA PAUL,Bharatiya Janata Party
2772,West Bengal,Medinipur(34),lost,57785,( -644407),BIPLAB BHATTA,Communist Party of India
2773,West Bengal,Medinipur(34),lost,9791,( -692401),ANINDITA JANA,Socialist Unity Centre Of India (COMMUNIST)
2774,West Bengal,Medinipur(34),lost,8711,( -693481),SANJIB DEY,Independent
2775,West Bengal,Medinipur(34),lost,6503,( -695689),ANJAN (BABALU) MANDAL,Bahujan Samaj Party
2776,West Bengal,Medinipur(34),lost,4250,( -697942),KAMALESH MAHATA,Independent
2777,West Bengal,Medinipur(34),lost,2762,( -699430),SUKESH CHANDRA PALMAL,Independent
2778,West Bengal,Medinipur(34),lost,2144,( -700048),BISWAJIT DAS,Independent
2779,West Bengal,Medinipur(34),,12424,( -689768),NOTA,None of the Above
2780,West Bengal,Jhargram(33),won,743478,(+ 174048),KALIPADA SAREN (KHERWAL),All India Trinamool Congress
2781,West Bengal,Jhargram(33),lost,569430,( -174048),DR. PRANAT TUDU,Bharatiya Janata Party
2782,West Bengal,Jhargram(33),lost,77302,( -666176),SONAMANI TUDU,Communist Party of India  (Marxist)
2783,West Bengal,Jhargram(33),lost,19494,( -723984),SURYA SINGH BESRA,Jharkhand People's Party
2784,West Bengal,Jhargram(33),lost,12087,( -731391),BARUN MAHATO,Independent
2785,West Bengal,Jhargram(33),lost,11989,( -731489),ARUNKUMAR HANSDA,Bahujan Samaj Party
2786,West Bengal,Jhargram(33),lost,10787,( -732691),SURENDRANATH SING,Independent
2787,West Bengal,Jhargram(33),lost,7188,( -736290),RAMANATH ORANG,Independent
2788,West Bengal,Jhargram(33),lost,7170,( -736308),BIPLAB HEMBRAM,Independent
2789,West Bengal,Jhargram(33),lost,5895,( -737583),BAPI SOREN,All India Secular Front
2790,West Bengal,Jhargram(33),lost,4362,( -739116),BIRSABIR BASKEY,Ambedkarite Party of India
2791,West Bengal,Jhargram(33),lost,2892,( -740586),SUSHIL MANDI,Socialist Unity Centre Of India (COMMUNIST)
2792,West Bengal,Jhargram(33),lost,2849,( -740629),GUNADHAR SING,Independent
2793,West Bengal,Jhargram(33),,15920,( -727558),NOTA,None of the Above
2794,West Bengal,Ghatal(32),won,837990,(+ 182868),ADHIKARI DEEPAK (DEV),All India Trinamool Congress
2795,West Bengal,Ghatal(32),lost,655122,( -182868),DR. HIRANMOY CHATTOPADHYAYA,Bharatiya Janata Party
2796,West Bengal,Ghatal(32),lost,74908,( -763082),TAPAN GANGULI,Communist Party of India
2797,West Bengal,Ghatal(32),lost,7941,( -830049),SOUMEN MADRAJI,Bahujan Samaj Party
2798,West Bengal,Ghatal(32),lost,4244,( -833746),GOPAL MONDAL,Independent
2799,West Bengal,Ghatal(32),lost,4148,( -833842),DINESH MAIKAP,Socialist Unity Centre Of India (COMMUNIST)
2800,West Bengal,Ghatal(32),lost,3237,( -834753),SAHEB CHOWDHURY,Independent
2801,West Bengal,Ghatal(32),,12966,( -825024),NOTA,None of the Above
2802,Madhya Pradesh,BETUL(29),won,848236,(+ 379761),DURGADAS (D. D.) UIKEY,Bharatiya Janata Party
2803,Madhya Pradesh,BETUL(29),lost,468475,( -379761),RAMU TEKAM,Indian National Congress
2804,Madhya Pradesh,BETUL(29),lost,26597,( -821639),ARJUN ASHOK BHALAVI,Bahujan Samaj Party
2805,Madhya Pradesh,BETUL(29),lost,10576,( -837660),ANIL UIKEY,Bharat Adivasi Party
2806,Madhya Pradesh,BETUL(29),lost,7811,( -840425),BHURELAL CHOTELAL BETHEKAR,Independent
2807,Madhya Pradesh,BETUL(29),lost,5968,( -842268),BHAGCHARAN WARKADE,Independent
2808,Madhya Pradesh,BETUL(29),lost,4186,( -844050),SUNER UIKEY,Gondvana Gantantra Party
2809,Madhya Pradesh,BETUL(29),lost,3849,( -844387),BARSKAR SUBHASH KORAKU,Swatantra Kisan Party
2810,Madhya Pradesh,BETUL(29),,20322,( -827914),NOTA,None of the Above
2811,Lakshadweep,Lakshadweep(1),won,25726,(+ 2647),MUHAMMED HAMDULLAH SAYEED,Indian National Congress
2812,Lakshadweep,Lakshadweep(1),lost,23079,( -2647),MOHAMMED FAIZAL PP,Nationalist Congress Party – Sharadchandra Pawar
2813,Lakshadweep,Lakshadweep(1),lost,201,( -25525),YOUSUF TP,Nationalist Congress Party
2814,Lakshadweep,Lakshadweep(1),lost,61,( -25665),KOYA,Independent
2815,Lakshadweep,Lakshadweep(1),,133,( -25593),NOTA,None of the Above
2816,Ladakh,Ladakh(1),won,65259,(+ 27862),MOHMAD HANEEFA,Independent
2817,Ladakh,Ladakh(1),lost,37397,( -27862),TSERING NAMGYAL,Indian National Congress
2818,Ladakh,Ladakh(1),lost,31956,( -33303),TASHI GYALSON,Bharatiya Janata Party
2819,Ladakh,Ladakh(1),,912,( -64347),NOTA,None of the Above
2820,Kerala,Kollam(18),won,443628,(+ 150302),N K PREMACHANDRAN,Revolutionary Socialist Party
2821,Kerala,Kollam(18),lost,293326,( -150302),M MUKESH,Communist Party of India  (Marxist)
2822,Kerala,Kollam(18),lost,163210,( -280418),KRISHNAKUMAR G,Bharatiya Janata Party
2823,Kerala,Kollam(18),lost,2194,( -441434),VIPINLAL VIDHYADHARAN,Bahujan Samaj Party
2824,Kerala,Kollam(18),lost,1734,( -441894),PREMACHANDRAN NAIR,Independent
2825,Kerala,Kollam(18),lost,1374,( -442254),GOKULAM SURESH KUMAR,Independent
2826,Kerala,Kollam(18),lost,835,( -442793),PRADEEP KOTTARAKKARA,Bharatheeya Jawan Kisan Party
2827,Kerala,Kollam(18),lost,708,( -442920),TWINKLE PRABHAKARAN,Socialist Unity Centre Of India (COMMUNIST)
2828,Kerala,Kollam(18),lost,579,( -443049),BRO NOUSHAD  SHERIFF J,Independent
2829,Kerala,Kollam(18),lost,559,( -443069),JOSE SARANATH,Ambedkarite Party of India
2830,Kerala,Kollam(18),lost,549,( -443079),P KRISHNAMMAL,Marxist Communist Party of India (United)
2831,Kerala,Kollam(18),lost,449,( -443179),N JAYARAJAN,Independent
2832,Kerala,Kollam(18),,6546,( -437082),NOTA,None of the Above
2833,Kerala,Kottayam(14),won,364631,(+ 87266),ADV K FRANCIS GEORGE,Kerala Congress
2834,Kerala,Kottayam(14),lost,277365,( -87266),THOMAS CHAZHIKADAN,Kerala Congress  (M)
2835,Kerala,Kottayam(14),lost,165046,( -199585),THUSHAR VELLAPPALLY,Bharath Dharma Jana Sena
2836,Kerala,Kottayam(14),lost,7223,( -357408),VIJU CHERIAN,Bahujan Samaj Party
2837,Kerala,Kottayam(14),lost,1637,( -362994),P O PETER,Samajwadi Jan Parishad
2838,Kerala,Kottayam(14),lost,1595,( -363036),V P KOCHUMON,Socialist Unity Centre Of India (COMMUNIST)
2839,Kerala,Kottayam(14),lost,1489,( -363142),JOSSIN K JOSEPH,Independent
2840,Kerala,Kottayam(14),lost,1087,( -363544),CHANDRABOSE P,Independent
2841,Kerala,Kottayam(14),lost,927,( -363704),M M SCARIA,Independent
2842,Kerala,Kottayam(14),lost,893,( -363738),JOEMON JOSEPH SRAMPICKAL A P J JUMAN V S,Independent
2843,Kerala,Kottayam(14),lost,739,( -363892),ROBY MATTAPPALLY,Independent
2844,Kerala,Kottayam(14),lost,710,( -363921),SANTHOSH PULICKAL,Independent
2845,Kerala,Kottayam(14),lost,527,( -364104),SUNIL ALANCHERIL,Independent
2846,Kerala,Kottayam(14),lost,421,( -364210),MAN HOUSE MANMADHAN,Independent
2847,Kerala,Kottayam(14),,11933,( -352698),NOTA,None of the Above
2848,Kerala,Thrissur(10),won,412338,(+ 74686),SURESH GOPI,Bharatiya Janata Party
2849,Kerala,Thrissur(10),lost,337652,( -74686),ADV V S SUNILKUMAR,Communist Party of India
2850,Kerala,Thrissur(10),lost,328124,( -84214),K MURALEEDHARAN,Indian National Congress
2851,Kerala,Thrissur(10),lost,2019,( -410319),ADV P K NARAYANAN,Bahujan Samaj Party
2852,Kerala,Thrissur(10),lost,1952,( -410386),SUNILKUMAR SON OF PRABHAKARAN,Independent
2853,Kerala,Thrissur(10),lost,819,( -411519),DIVAKARAN PALLATH,New Labour Party
2854,Kerala,Thrissur(10),lost,709,( -411629),PRATHAPAN,Independent
2855,Kerala,Thrissur(10),lost,698,( -411640),M S JAFARGHAN,Independent
2856,Kerala,Thrissur(10),lost,493,( -411845),JOSHI VILLADOM,Independent
2857,Kerala,Thrissur(10),,6072,( -406266),NOTA,None of the Above
2858,Kerala,Alathur (9),won,403447,(+ 20111),K.RADHAKRISHNAN,Communist Party of India  (Marxist)
2859,Kerala,Alathur (9),lost,383336,( -20111),RAMYA HARIDAS,Indian National Congress
2860,Kerala,Alathur (9),lost,188230,( -215217),DR T N SARASU,Bharatiya Janata Party
2861,Kerala,Alathur (9),lost,2871,( -400576),HARI ARUMBIL,Bahujan Samaj Party
2862,Kerala,Alathur (9),lost,2351,( -401096),KRISHNANKUTTY KUNISSERY,Independent
2863,Kerala,Alathur (9),,12033,( -391414),NOTA,None of the Above
2864,Kerala,Ponnani(7),won,562516,(+ 235760),DR. M.P ABDUSSAMAD SAMADANI,Indian Union Muslim League
2865,Kerala,Ponnani(7),lost,326756,( -235760),K.S HAMZA,Communist Party of India  (Marxist)
2866,Kerala,Ponnani(7),lost,124798,( -437718),ADV. NIVEDIDA,Bharatiya Janata Party
2867,Kerala,Ponnani(7),lost,1653,( -560863),ABDUSSAMED MALAYAMPALLI,Independent
2868,Kerala,Ponnani(7),lost,1477,( -561039),VINOD,Bahujan Samaj Party
2869,Kerala,Ponnani(7),lost,978,( -561538),HAMSA S/O MOIDUTTY,Independent
2870,Kerala,Ponnani(7),lost,847,( -561669),BINDHU W/O DEVARAJAN,Independent
2871,Kerala,Ponnani(7),lost,710,( -561806),HAMZA KADAVANDI,Independent
2872,Kerala,Ponnani(7),,6561,( -555955),NOTA,None of the Above
2873,Kerala,Thiruvananthapuram(20),won,358155,(+ 16077),SHASHI THAROOR,Indian National Congress
2874,Kerala,Thiruvananthapuram(20),lost,342078,( -16077),RAJEEV CHANDRASEKHAR,Bharatiya Janata Party
2875,Kerala,Thiruvananthapuram(20),lost,247648,( -110507),PANNIAN RAVINDRAN,Communist Party of India
2876,Kerala,Thiruvananthapuram(20),lost,2352,( -355803),ADV RAJENDRAN,Bahujan Samaj Party
2877,Kerala,Thiruvananthapuram(20),lost,1483,( -356672),ADV SHINE LAL M P,Independent
2878,Kerala,Thiruvananthapuram(20),lost,1365,( -356790),J J RUSSELL,Independent
2879,Kerala,Thiruvananthapuram(20),lost,1109,( -357046),S MINI,Socialist Unity Centre Of India (COMMUNIST)
2880,Kerala,Thiruvananthapuram(20),lost,599,( -357556),M S SUBI,Independent
2881,Kerala,Thiruvananthapuram(20),lost,420,( -357735),NANDAVANAM SUSEELAN,Independent
2882,Kerala,Thiruvananthapuram(20),lost,400,( -357755),CHALAI MOHANAN,Independent
2883,Kerala,Thiruvananthapuram(20),lost,388,( -357767),SHAJU PALIYODU,Independent
2884,Kerala,Thiruvananthapuram(20),lost,233,( -357922),SASI KONGAPALLY,Independent
2885,Kerala,Thiruvananthapuram(20),,6753,( -351402),NOTA,None of the Above
2886,Kerala,Attingal(19),won,328051,(+ 684),ADV ADOOR PRAKASH,Indian National Congress
2887,Kerala,Attingal(19),lost,327367,( -684),V JOY,Communist Party of India  (Marxist)
2888,Kerala,Attingal(19),lost,311779,( -16272),V  MURALEEDHARAN,Bharatiya Janata Party
2889,Kerala,Attingal(19),lost,4524,( -323527),SURABHI S,Bahujan Samaj Party
2890,Kerala,Attingal(19),lost,1814,( -326237),PRAKASH P L,Independent
2891,Kerala,Attingal(19),lost,1204,( -326847),SANTHOSH K,Independent
2892,Kerala,Attingal(19),lost,811,( -327240),PRAKASH S,Independent
2893,Kerala,Attingal(19),,9791,( -318260),NOTA,None of the Above
2894,Kerala,Pathanamthitta(17),won,367623,(+ 66119),ANTO ANTONY,Indian National Congress
2895,Kerala,Pathanamthitta(17),lost,301504,( -66119),DR.T.M.THOMAS ISSAC,Communist Party of India  (Marxist)
2896,Kerala,Pathanamthitta(17),lost,234406,( -133217),ANIL K.ANTONY,Bharatiya Janata Party
2897,Kerala,Pathanamthitta(17),lost,3972,( -363651),ADV.P.K.GEETHAKRISHNAN,Bahujan Samaj Party
2898,Kerala,Pathanamthitta(17),lost,1181,( -366442),JOY P.MATHEW,People's Party of India(secular)
2899,Kerala,Pathanamthitta(17),lost,1101,( -366522),K.C.THOMAS,Independent
2900,Kerala,Pathanamthitta(17),lost,762,( -366861),ADV.HARIKUMAR M.K.,Ambedkarite Party of India
2901,Kerala,Pathanamthitta(17),lost,609,( -367014),ANOOP V.,Independent
2902,Kerala,Pathanamthitta(17),,8411,( -359212),NOTA,None of the Above
2903,Kerala,Mavelikkara (16),won,369516,(+ 10868),KODIKUNNIL SURESH,Indian National Congress
2904,Kerala,Mavelikkara (16),lost,358648,( -10868),ADV ARUN KUMAR C A,Communist Party of India
2905,Kerala,Mavelikkara (16),lost,142984,( -226532),BAIJU KALASALA,Bharath Dharma Jana Sena
2906,Kerala,Mavelikkara (16),lost,4974,( -364542),C MONICHEN,Independent
2907,Kerala,Mavelikkara (16),lost,4306,( -365210),SANTHOSH PALATHUMPADAN,Bahujan Samaj Party
2908,Kerala,Mavelikkara (16),lost,1505,( -368011),SURESH NOORANAD,Ambedkarite Party of India
2909,Kerala,Mavelikkara (16),lost,1370,( -368146),K BIMALJI,Socialist Unity Centre Of India (COMMUNIST)
2910,Kerala,Mavelikkara (16),lost,929,( -368587),MANTHARA VELAYUDHAN,Independent
2911,Kerala,Mavelikkara (16),lost,856,( -368660),KOZHUVASSERIL SURESH,Independent
2912,Kerala,Mavelikkara (16),,9883,( -359633),NOTA,None of the Above
2913,Kerala,Alappuzha(15),won,404560,(+ 63513),K. C VENUGOPAL,Indian National Congress
2914,Kerala,Alappuzha(15),lost,341047,( -63513),A. M ARIFF,Communist Party of India  (Marxist)
2915,Kerala,Alappuzha(15),lost,299648,( -104912),SOBHA SURENDRAN,Bharatiya Janata Party
2916,Kerala,Alappuzha(15),lost,1626,( -402934),MURALEEDHARAN KONCHERILLAM,Bahujan Samaj Party
2917,Kerala,Alappuzha(15),lost,1319,( -403241),ARJUNAN,Socialist Unity Centre Of India (COMMUNIST)
2918,Kerala,Alappuzha(15),lost,682,( -403878),ADV.K.M SHAJAHAN,Independent
2919,Kerala,Alappuzha(15),lost,675,( -403885),VAYALAR RAJEEVAN,Bahujan Dravida Party
2920,Kerala,Alappuzha(15),lost,576,( -403984),SHAJAHAN V.A.     S/O ABDUL AZEES,Independent
2921,Kerala,Alappuzha(15),lost,482,( -404078),SATHEESH SHENOI,Independent
2922,Kerala,Alappuzha(15),lost,385,( -404175),JAYAKRISHNAN P,Independent
2923,Kerala,Alappuzha(15),lost,338,( -404222),JYOTHI ABRAHAM,Independent
2924,Kerala,Alappuzha(15),,7365,( -397195),NOTA,None of the Above
2925,Kerala,Idukki(13),won,432372,(+ 133727),ADV. DEAN KURIAKOSE,Indian National Congress
2926,Kerala,Idukki(13),lost,298645,( -133727),ADV. JOICE GEORGE,Communist Party of India  (Marxist)
2927,Kerala,Idukki(13),lost,91323,( -341049),ADV. SANGEETHA VISWANATHAN,Bharath Dharma Jana Sena
2928,Kerala,Idukki(13),lost,4437,( -427935),ADV. RUSSEL JOY,Bahujan Samaj Party
2929,Kerala,Idukki(13),lost,1819,( -430553),JOMON JOHN,Independent
2930,Kerala,Idukki(13),lost,1508,( -430864),SAJI @ SHAJI,Viduthalai Chiruthaigal Katchi
2931,Kerala,Idukki(13),lost,1034,( -431338),P.K. SAJEEVAN,Independent
2932,Kerala,Idukki(13),,9519,( -422853),NOTA,None of the Above
2933,Kerala,Ernakulam(12),won,482317,(+ 250385),HIBI EDEN,Indian National Congress
2934,Kerala,Ernakulam(12),lost,231932,( -250385),K. J. SHINE TEACHER,Communist Party of India  (Marxist)
2935,Kerala,Ernakulam(12),lost,144500,( -337817),DR. K. S. RADHAKRISHNAN,Bharatiya Janata Party
2936,Kerala,Ernakulam(12),lost,39808,( -442509),ADV. ANTONY JUDY,Twenty 20 Party
2937,Kerala,Ernakulam(12),lost,1498,( -480819),VAYALAR JAYAKUMAR,Bahujan Samaj Party
2938,Kerala,Ernakulam(12),lost,752,( -481565),SANDEEP RAJENDRAPRASAD,Independent
2939,Kerala,Ernakulam(12),lost,690,( -481627),CYRILL SKARIA,Independent
2940,Kerala,Ernakulam(12),lost,419,( -481898),PRATHAPAN,Bahujan Dravida Party
2941,Kerala,Ernakulam(12),lost,416,( -481901),ROHIT KRISHNAN,Independent
2942,Kerala,Ernakulam(12),lost,412,( -481905),BRAHMAKUMAR,Socialist Unity Centre Of India (COMMUNIST)
2943,Kerala,Ernakulam(12),,7758,( -474559),NOTA,None of the Above
2944,Kerala,Chalakudy(11),won,394171,(+ 63754),BENNY BEHANAN,Indian National Congress
2945,Kerala,Chalakudy(11),lost,330417,( -63754),PROF C RAVEENDRANATH,Communist Party of India  (Marxist)
2946,Kerala,Chalakudy(11),lost,106400,( -287771),K A UNNIKRISHNAN,Bharath Dharma Jana Sena
2947,Kerala,Chalakudy(11),lost,105642,( -288529),ADV CHARLY PAUL,Twenty 20 Party
2948,Kerala,Chalakudy(11),lost,2410,( -391761),ROSILIN CHACKO,Bahujan Samaj Party
2949,Kerala,Chalakudy(11),lost,1087,( -393084),BOSCO KALAMASSERY,Independent
2950,Kerala,Chalakudy(11),lost,799,( -393372),SUBRAN K R,Independent
2951,Kerala,Chalakudy(11),lost,694,( -393477),DR M PRADEEPAN,Socialist Unity Centre Of India (COMMUNIST)
2952,Kerala,Chalakudy(11),lost,686,( -393485),ARUN EDATHADAN,Independent
2953,Kerala,Chalakudy(11),lost,531,( -393640),T S CHANDRAN,Independent
2954,Kerala,Chalakudy(11),lost,387,( -393784),JOHNSON K C,Independent
2955,Kerala,Chalakudy(11),,8063,( -386108),NOTA,None of the Above
2956,Kerala,Palakkad(8),won,421169,(+ 75283),V K SREEKANDAN,Indian National Congress
2957,Kerala,Palakkad(8),lost,345886,( -75283),A VIJAYARAGHAVAN,Communist Party of India  (Marxist)
2958,Kerala,Palakkad(8),lost,251778,( -169391),C KRISHNAKUMAR,Bharatiya Janata Party
2959,Kerala,Palakkad(8),lost,2132,( -419037),K T PADMINI,Bahujan Samaj Party
2960,Kerala,Palakkad(8),lost,1433,( -419736),ANNA KURIAKOSE,Independent
2961,Kerala,Palakkad(8),lost,1177,( -419992),N S K PURAM SASIKUMAR,Independent
2962,Kerala,Palakkad(8),lost,1056,( -420113),RAJESH K SON OF VELANKUTTY,Independent
2963,Kerala,Palakkad(8),lost,953,( -420216),RAJESH M SON OF MANI C,Independent
2964,Kerala,Palakkad(8),lost,939,( -420230),SIDHEEK IRUPPASSERY,Independent
2965,Kerala,Palakkad(8),lost,520,( -420649),C RAJAMANICKAM,Independent
2966,Kerala,Palakkad(8),,8793,( -412376),NOTA,None of the Above
2967,Kerala,Kozhikode(5),won,520421,(+ 146176),M. K. RAGHAVAN,Indian National Congress
2968,Kerala,Kozhikode(5),lost,374245,( -146176),ELAMARAM KAREEM,Communist Party of India  (Marxist)
2969,Kerala,Kozhikode(5),lost,180666,( -339755),M. T. RAMESH,Bharatiya Janata Party
2970,Kerala,Kozhikode(5),lost,1715,( -518706),ARAMUKHAN,Bahujan Samaj Party
2971,Kerala,Kozhikode(5),lost,1305,( -519116),ARAVINDAKSHAN NAIR M. K.,Bharatheeya Jawan Kisan Party
2972,Kerala,Kozhikode(5),lost,1096,( -519325),RAGHAVAN S/O NARAYANAN NAIR,Independent
2973,Kerala,Kozhikode(5),lost,1018,( -519403),T. RAGHAVAN S/O VELLANKUTTY,Independent
2974,Kerala,Kozhikode(5),lost,782,( -519639),N. RAGHAVAN S/O DAMU,Independent
2975,Kerala,Kozhikode(5),lost,712,( -519709),SUBHA,Independent
2976,Kerala,Kozhikode(5),lost,653,( -519768),DR. M. JYOTHIRAJ,Socialist Unity Centre Of India (COMMUNIST)
2977,Kerala,Kozhikode(5),lost,541,( -519880),ABDUL KAREEM S/O MAHAMMOOD,Independent
2978,Kerala,Kozhikode(5),lost,293,( -520128),ABDUL KAREEM K. S/O ASSAIN,Independent
2979,Kerala,Kozhikode(5),lost,287,( -520134),ABDUL KAREEM S/O AYAMMATH KUTTY,Independent
2980,Kerala,Kozhikode(5),,6316,( -514105),NOTA,None of the Above
2981,Kerala,Wayanad(4),won,647445,(+ 364422),RAHUL GANDHI,Indian National Congress
2982,Kerala,Wayanad(4),lost,283023,( -364422),ANNIE RAJA,Communist Party of India
2983,Kerala,Wayanad(4),lost,141045,( -506400),K SURENDRAN,Bharatiya Janata Party
2984,Kerala,Wayanad(4),lost,1973,( -645472),P.R KRISHNANKUTTY,Bahujan Samaj Party
2985,Kerala,Wayanad(4),lost,1059,( -646386),SATHYAN K.P,Independent
2986,Kerala,Wayanad(4),lost,903,( -646542),SINOJ A.C,Independent
2987,Kerala,Wayanad(4),lost,840,( -646605),PRASEETHA AZHIKODE,Independent
2988,Kerala,Wayanad(4),lost,804,( -646641),AJEEB MUHAMMED,Independent
2989,Kerala,Wayanad(4),lost,562,( -646883),P RADHAKRISHNAN,Independent
2990,Kerala,Wayanad(4),,6999,( -640446),NOTA,None of the Above
2991,Kerala,Vadakara(3),won,557528,(+ 114506),SHAFI PARAMBIL,Indian National Congress
2992,Kerala,Vadakara(3),lost,443022,( -114506),K K SHAILAJA TEACHER,Communist Party of India  (Marxist)
2993,Kerala,Vadakara(3),lost,111979,( -445549),PRAPHUL KRISHNAN,Bharatiya Janata Party
2994,Kerala,Vadakara(3),lost,3764,( -553764),SHAFI T P,Independent
2995,Kerala,Vadakara(3),lost,1179,( -556349),K K SHYLAJA,Independent
2996,Kerala,Vadakara(3),lost,869,( -556659),KUNHIKANNAN PAYYOLI,Independent
2997,Kerala,Vadakara(3),lost,680,( -556848),SHYLAJA,Independent
2998,Kerala,Vadakara(3),lost,422,( -557106),SHAFI,Independent
2999,Kerala,Vadakara(3),lost,326,( -557202),SYLAJA P,Independent
3000,Kerala,Vadakara(3),lost,269,( -557259),MURALIDHARAN,Independent
3001,Kerala,Vadakara(3),,2909,( -554619),NOTA,None of the Above
3002,Kerala,Kannur(2),won,518524,(+ 108982),K. SUDHAKARAN,Indian National Congress
3003,Kerala,Kannur(2),lost,409542,( -108982),M.V. JAYARAJAN,Communist Party of India  (Marxist)
3004,Kerala,Kannur(2),lost,119876,( -398648),C. RAGHUNATH,Bharatiya Janata Party
3005,Kerala,Kannur(2),lost,2649,( -515875),RAMACHANDRAN BAVILEERI,Bharatheeya Jawan Kisan Party
3006,Kerala,Kannur(2),lost,1009,( -517515),K. SUDHAKARAN S/O. KRISHNAN,Independent
3007,Kerala,Kannur(2),lost,896,( -517628),SUDHAKARAN. K S/O. P GOPALAN,Independent
3008,Kerala,Kannur(2),lost,618,( -517906),JOY JOHN PATTAR MADATHIL,Independent
3009,Kerala,Kannur(2),lost,488,( -518036),JAYARAJ,Independent
3010,Kerala,Kannur(2),lost,425,( -518099),JAYARAJAN S/O. VELAYUDHAN,Independent
3011,Kerala,Kannur(2),lost,343,( -518181),VADI HAREENDRAN,Independent
3012,Kerala,Kannur(2),lost,308,( -518216),NARAYANA KUMAR,Independent
3013,Kerala,Kannur(2),lost,304,( -518220),C. BALAKRISHNAN YADAV,Independent
3014,Kerala,Kannur(2),,8873,( -509651),NOTA,None of the Above
3015,Kerala,Kasaragod(1),won,490659,(+ 100649),RAJMOHAN UNNITHAN,Indian National Congress
3016,Kerala,Kasaragod(1),lost,390010,( -100649),M.V BALAKRISHNAN MASTER,Communist Party of India  (Marxist)
3017,Kerala,Kasaragod(1),lost,219558,( -271101),M.L ASHWINI,Bharatiya Janata Party
3018,Kerala,Kasaragod(1),lost,1612,( -489047),SUKUMARI M,Bahujan Samaj Party
3019,Kerala,Kasaragod(1),lost,897,( -489762),RAJESWARI K.R,Independent
3020,Kerala,Kasaragod(1),lost,804,( -489855),MANOHARAN K,Independent
3021,Kerala,Kasaragod(1),lost,759,( -489900),ANEESH PAYYANNUR,Independent
3022,Kerala,Kasaragod(1),lost,628,( -490031),BALAKRISHNAN N,Independent
3023,Kerala,Kasaragod(1),lost,507,( -490152),N KESHAVA NAYAK,Independent
3024,Kerala,Kasaragod(1),,7112,( -483547),NOTA,None of the Above
3025,Kerala,Malappuram(6),won,644006,(+ 300118),E.T.  MOHAMMED BASHEER,Indian Union Muslim League
3026,Kerala,Malappuram(6),lost,343888,( -300118),V. VASEEF,Communist Party of India  (Marxist)
3027,Kerala,Malappuram(6),lost,85361,( -558645),DR. ABDUL SALAM,Bharatiya Janata Party
3028,Kerala,Malappuram(6),lost,1417,( -642589),T. KRISHNAN,Bahujan Samaj Party
3029,Kerala,Malappuram(6),lost,1309,( -642697),P.C. NARAYANAN,Bahujan Dravida Party
3030,Kerala,Malappuram(6),lost,1168,( -642838),NASEEF ALI MULLAPPALLI,Independent
3031,Kerala,Malappuram(6),lost,783,( -643223),ABDULSALAM S/O MUHAMMED HAJI,Independent
3032,Kerala,Malappuram(6),lost,484,( -643522),THRISSUR NAZEER,Independent
3033,Kerala,Malappuram(6),,6766,( -637240),NOTA,None of the Above
3034,Madhya Pradesh,KHANDWA(28),won,862679,(+ 269971),GYANESHWAR PATIL,Bharatiya Janata Party
3035,Madhya Pradesh,KHANDWA(28),lost,592708,( -269971),NARENDRA PATEL,Indian National Congress
3036,Madhya Pradesh,KHANDWA(28),lost,11818,( -850861),MUNNALAL S/O DHANNALAL TEJI,Bahujan Samaj Party
3037,Madhya Pradesh,KHANDWA(28),lost,9299,( -853380),ABHINESH SINGH,Rashtriya Jan Awaz Party
3038,Madhya Pradesh,KHANDWA(28),lost,4905,( -857774),LAXMI NARAYAN KATARE,Independent
3039,Madhya Pradesh,KHANDWA(28),lost,4347,( -858332),MANOJ KUMAR VISHWAMBHARNATH AGRAWAL,Independent
3040,Madhya Pradesh,KHANDWA(28),lost,3709,( -858970),MAHESH PAWAR,Peoples Party of India (Democratic)
3041,Madhya Pradesh,KHANDWA(28),lost,3481,( -859198),SHIVAM SEN,Independent
3042,Madhya Pradesh,KHANDWA(28),lost,2685,( -859994),RAVINDRA SONVANE,Independent
3043,Madhya Pradesh,KHANDWA(28),lost,2370,( -860309),PRAKASH RATHOR BANJARA,Aam Janta Party (India)
3044,Madhya Pradesh,KHANDWA(28),lost,1702,( -860977),NARAYAN SUKHADEV PAL,Bharatiya Yuva Jan Ekta Party
3045,Madhya Pradesh,KHANDWA(28),,12839,( -849840),NOTA,None of the Above
3046,Madhya Pradesh,KHARGONE(27),won,819863,(+ 135018),GAJENDRA SINGH PATEL,Bharatiya Janata Party
3047,Madhya Pradesh,KHARGONE(27),lost,684845,( -135018),PORLAL BATHA KHARTE,Indian National Congress
3048,Madhya Pradesh,KHARGONE(27),lost,14686,( -805177),DEVISINGH NARGAVE,Communist Party of India
3049,Madhya Pradesh,KHARGONE(27),lost,12069,( -807794),SHOBHARAM DAWAR,Bahujan Samaj Party
3050,Madhya Pradesh,KHARGONE(27),lost,9058,( -810805),NARSINGH SOLANKI,Independent
3051,Madhya Pradesh,KHARGONE(27),,18257,( -801606),NOTA,None of the Above
3052,Madhya Pradesh,INDORE(26),won,1226751,(+ 1008077),SHANKAR LALWANI,Bharatiya Janata Party
3053,Madhya Pradesh,INDORE(26),lost,51659,( -1175092),SANJAY S/O LAKSHMAN SOLANKI,Bahujan Samaj Party
3054,Madhya Pradesh,INDORE(26),lost,15210,( -1211541),PAWAN KUMAR,Akhil Bhartiya Parivar Party
3055,Madhya Pradesh,INDORE(26),lost,8392,( -1218359),ABHAY JAIN,Independent
3056,Madhya Pradesh,INDORE(26),lost,8238,( -1218513),LAVISH DILIP KHANDELWAL,Independent
3057,Madhya Pradesh,INDORE(26),lost,7179,( -1219572),COMRADE AJEET SINGH,Socialist Unity Centre Of India (COMMUNIST)
3058,Madhya Pradesh,INDORE(26),lost,7096,( -1219655),AYAZ ALI,Independent
3059,Madhya Pradesh,INDORE(26),lost,3831,( -1222920),ENG. ARJUN PARIHAR,Independent
3060,Madhya Pradesh,INDORE(26),lost,3676,( -1223075),BASANT GEHLOT,Jan Sangh Party
3061,Madhya Pradesh,INDORE(26),lost,2621,( -1224130),RAVI SIRWAIYA,Independent
3062,Madhya Pradesh,INDORE(26),lost,2609,( -1224142),MUDIT CHAURASIA,Independent
3063,Madhya Pradesh,INDORE(26),lost,2403,( -1224348),PARMANAND TOLANI,Independent
3064,Madhya Pradesh,INDORE(26),lost,1969,( -1224782),DESH BHAKT ANKIT GUPTA,Independent
3065,Madhya Pradesh,INDORE(26),lost,1660,( -1225091),ADVOCATE PANKAJ GUPTE,Independent
3066,Madhya Pradesh,INDORE(26),,218674,( -1008077),NOTA,None of the Above
3067,Madhya Pradesh,DHAR(25),won,794449,(+ 218665),SAVITRI THAKUR,Bharatiya Janata Party
3068,Madhya Pradesh,DHAR(25),lost,575784,( -218665),RADHESHYAM MUVEL,Indian National Congress
3069,Madhya Pradesh,DHAR(25),lost,14956,( -779493),DHUMSINGH MANDLOI MACHHAR,Bahujan Samaj Party
3070,Madhya Pradesh,DHAR(25),lost,10621,( -783828),JITENDRA MUNIYA,Bharat Adivasi Party
3071,Madhya Pradesh,DHAR(25),lost,5408,( -789041),SUNIL AJRAWAT,Independent
3072,Madhya Pradesh,DHAR(25),lost,4700,( -789749),SHIVAJI PATEL KALMI,Independent
3073,Madhya Pradesh,DHAR(25),lost,3475,( -790974),VIKRAM VASUNIYA,Janata Congress
3074,Madhya Pradesh,DHAR(25),,15651,( -778798),NOTA,None of the Above
3075,Madhya Pradesh,RATLAM(24),won,795863,(+ 207232),ANITA NAGARSINGH CHOUHAN,Bharatiya Janata Party
3076,Madhya Pradesh,RATLAM(24),lost,588631,( -207232),KANTILAL BHURIA,Indian National Congress
3077,Madhya Pradesh,RATLAM(24),lost,52759,( -743104),ENGINEER BALUSINGH GAMAD,Bharat Adivasi Party
3078,Madhya Pradesh,RATLAM(24),lost,15172,( -780691),RAMCHANDRA SOLANKI,Bahujan Samaj Party
3079,Madhya Pradesh,RATLAM(24),lost,10062,( -785801),SURAJ BHABHAR,Independent
3080,Madhya Pradesh,RATLAM(24),lost,7335,( -788528),RANGLA KALESH,Independent
3081,Madhya Pradesh,RATLAM(24),lost,7316,( -788547),KASNA RANA PARGI,Independent
3082,Madhya Pradesh,RATLAM(24),lost,6930,( -788933),SUMITRA MEDA,Independent
3083,Madhya Pradesh,RATLAM(24),lost,4607,( -791256),RAMESHWAR SINGAR,Independent
3084,Madhya Pradesh,RATLAM(24),lost,4507,( -791356),MOHANSINGH NINGWAL,Bhartiya Samajik Party
3085,Madhya Pradesh,RATLAM(24),lost,3930,( -791933),SHEETAL BARELA,Akhand Bharat Samrajya Party
3086,Madhya Pradesh,RATLAM(24),lost,3796,( -792067),UDESINGH MACHAR,Republican Party of India (A)
3087,Madhya Pradesh,RATLAM(24),,31735,( -764128),NOTA,None of the Above
3088,Madhya Pradesh,MANDSOUR(23),won,945761,(+ 500655),SUDHEER GUPTA,Bharatiya Janata Party
3089,Madhya Pradesh,MANDSOUR(23),lost,445106,( -500655),DILIP SINGH GURJAR,Indian National Congress
3090,Madhya Pradesh,MANDSOUR(23),lost,10512,( -935249),KANHAIYALAL MALVIYA,Bahujan Samaj Party
3091,Madhya Pradesh,MANDSOUR(23),lost,8826,( -936935),ISMAIL KHAN MAIV,Independent
3092,Madhya Pradesh,MANDSOUR(23),lost,3439,( -942322),SUSHIL,Independent
3093,Madhya Pradesh,MANDSOUR(23),lost,3167,( -942594),SAEED AHAMAD,Independent
3094,Madhya Pradesh,MANDSOUR(23),lost,2696,( -943065),MURALIDHAR,Independent
3095,Madhya Pradesh,MANDSOUR(23),lost,2323,( -943438),VIJAY RANN,Independent
3096,Madhya Pradesh,MANDSOUR(23),,11662,( -934099),NOTA,None of the Above
3097,Madhya Pradesh,UJJAIN(22),won,836104,(+ 375860),ANIL FIROJIYA,Bharatiya Janata Party
3098,Madhya Pradesh,UJJAIN(22),lost,460244,( -375860),MAHESH PARMAR,Indian National Congress
3099,Madhya Pradesh,UJJAIN(22),lost,9518,( -826586),ADVOCATE PRAKASH CHOUHAN,Bahujan Samaj Party
3100,Madhya Pradesh,UJJAIN(22),lost,4976,( -831128),DR. HEMANT PARMAR,Bhim Sena
3101,Madhya Pradesh,UJJAIN(22),lost,2791,( -833313),SURESH BAGARI,Independent
3102,Madhya Pradesh,UJJAIN(22),lost,2476,( -833628),MAHESH PARMAR,Independent
3103,Madhya Pradesh,UJJAIN(22),lost,1295,( -834809),GANGA MALVIYA,Independent
3104,Madhya Pradesh,UJJAIN(22),lost,981,( -835123),ANIL,Independent
3105,Madhya Pradesh,UJJAIN(22),lost,863,( -835241),ISHWARLAL VARSHI,Independent
3106,Madhya Pradesh,UJJAIN(22),,9332,( -826772),NOTA,None of the Above
3107,Madhya Pradesh,DEWAS(21),won,928941,(+ 425225),MAHENDRA SINGH SOLANKY,Bharatiya Janata Party
3108,Madhya Pradesh,DEWAS(21),lost,503716,( -425225),RAJENDRA RADHAKISHAN MALVIYA,Indian National Congress
3109,Madhya Pradesh,DEWAS(21),lost,11203,( -917738),RAJENDRASINGH CHOKHUTIYA,Bahujan Samaj Party
3110,Madhya Pradesh,DEWAS(21),lost,7220,( -921721),RAMPRASAD,Aazad Samaj Party (Kanshi Ram)
3111,Madhya Pradesh,DEWAS(21),lost,2761,( -926180),NITIN VERMA,Independent
3112,Madhya Pradesh,DEWAS(21),lost,2031,( -926910),ADVOCATE VIDAYARAJ MALAVIY,Social Democratic Party Of India
3113,Madhya Pradesh,DEWAS(21),lost,1595,( -927346),ENG. DEEPAK RAMESH CHANDRA VICHITRA,Independent
3114,Madhya Pradesh,DEWAS(21),lost,1248,( -927693),HEMRAJ POONAMCHANDRA BAMNIYA,Public Political Party
3115,Madhya Pradesh,DEWAS(21),,10389,( -918552),NOTA,None of the Above
3116,Madhya Pradesh,RAJGARH(20),won,758743,(+ 146089),RODMAL NAGAR,Bharatiya Janata Party
3117,Madhya Pradesh,RAJGARH(20),lost,612654,( -146089),DIGVIJAYA SINGH,Indian National Congress
3118,Madhya Pradesh,RAJGARH(20),lost,13942,( -744801),DR. RAJENDRA SURYAVANSHI,Bahujan Samaj Party
3119,Madhya Pradesh,RAJGARH(20),lost,6614,( -752129),ASHOK PAWAR,Samata Samadhan Party
3120,Madhya Pradesh,RAJGARH(20),lost,5063,( -753680),JITENDRA SINGH,National World Leader Party
3121,Madhya Pradesh,RAJGARH(20),lost,4179,( -754564),DINESH RAZAWAT,Aazad Samaj Party (Kanshi Ram)
3122,Madhya Pradesh,RAJGARH(20),lost,3744,( -754999),RODMAL,Independent
3123,Madhya Pradesh,RAJGARH(20),lost,3089,( -755654),ANIL JAIN,Independent
3124,Madhya Pradesh,RAJGARH(20),lost,2799,( -755944),RADHESHYAM MALVIYA,Independent
3125,Madhya Pradesh,RAJGARH(20),lost,2713,( -756030),SUNEEL BHEEL,Independent
3126,Madhya Pradesh,RAJGARH(20),lost,2560,( -756183),VISHAL SONI (ADVOCATE),Bharatiya Yuva Jan Ekta Party
3127,Madhya Pradesh,RAJGARH(20),lost,1734,( -757009),JAGDISH KARPENTER,Independent
3128,Madhya Pradesh,RAJGARH(20),lost,1418,( -757325),ANIL,Independent
3129,Madhya Pradesh,RAJGARH(20),lost,1294,( -757449),RAMCHARAN PIRJAPATI,Lok Samaj Party
3130,Madhya Pradesh,RAJGARH(20),lost,1191,( -757552),BABU SINGH,Sajag Samaj Party
3131,Madhya Pradesh,RAJGARH(20),,7260,( -751483),NOTA,None of the Above
3132,Madhya Pradesh,BHOPAL(19),won,981109,(+ 501499),ALOK SHARMA,Bharatiya Janata Party
3133,Madhya Pradesh,BHOPAL(19),lost,479610,( -501499),ADVOCATE ARUN SHRIVASTAVA,Indian National Congress
3134,Madhya Pradesh,BHOPAL(19),lost,13305,( -967804),BHANU PRATAP SINGH,Bahujan Samaj Party
3135,Madhya Pradesh,BHOPAL(19),lost,3641,( -977468),DEENDAYAL AHIRWAR URF DEENU BHAIYA,Independent
3136,Madhya Pradesh,BHOPAL(19),lost,2510,( -978599),JAY SINGH,Independent
3137,Madhya Pradesh,BHOPAL(19),lost,1839,( -979270),BHARTI YADAV,Independent
3138,Madhya Pradesh,BHOPAL(19),lost,1101,( -980008),ANKIT RAI,Independent
3139,Madhya Pradesh,BHOPAL(19),lost,790,( -980319),AJAY KUMAR PATHAK,Chhatrapati Shivaji Bhartiya Garib Party
3140,Madhya Pradesh,BHOPAL(19),lost,790,( -980319),DHANRAJ SHENDE,Republican Party of India (A)
3141,Madhya Pradesh,BHOPAL(19),lost,778,( -980331),MOHAMMAD ASHRAF,Independent
3142,Madhya Pradesh,BHOPAL(19),lost,720,( -980389),BABULAL SEN,Moulik Adhikar Party
3143,Madhya Pradesh,BHOPAL(19),lost,622,( -980487),SANJAY KUMAR SAROJ,Manav Samadhan Party
3144,Madhya Pradesh,BHOPAL(19),lost,588,( -980521),BALRAM SINGH TAUMAR,Bhartiya Shakti Chetna Party
3145,Madhya Pradesh,BHOPAL(19),lost,575,( -980534),RAMPRASAD PATEL,Kranti Janshakti Party
3146,Madhya Pradesh,BHOPAL(19),lost,544,( -980565),MUDIT CHAURASIA,Akhil Bhartiya Aarakshit Samaj Party
3147,Madhya Pradesh,BHOPAL(19),lost,540,( -980569),MUDIT BHATNAGAR,Socialist Unity Centre Of India (COMMUNIST)
3148,Madhya Pradesh,BHOPAL(19),lost,529,( -980580),R.K. MAHAJAN,Independent
3149,Madhya Pradesh,BHOPAL(19),lost,473,( -980636),ABDUL TAHIR ADVOCATE (BABLU RAJNIKANT)  S/O SAEED PAHELWAN ANSARI,Bahujan Maha Party
3150,Madhya Pradesh,BHOPAL(19),lost,448,( -980661),MAITHILI SHARAN GUPTA,Independent
3151,Madhya Pradesh,BHOPAL(19),lost,427,( -980682),RAJESH KEER,Independent
3152,Madhya Pradesh,BHOPAL(19),lost,407,( -980702),AKSHAY GOTHI,Parivartan Party of India
3153,Madhya Pradesh,BHOPAL(19),lost,318,( -980791),HITENDRA SHAHARE (BABA),Independent
3154,Madhya Pradesh,BHOPAL(19),,6621,( -974488),NOTA,None of the Above
3155,Madhya Pradesh,VIDISHA(18),won,1116460,(+ 821408),SHIVRAJ SINGH CHOUHAN,Bharatiya Janata Party
3156,Madhya Pradesh,VIDISHA(18),lost,295052,( -821408),PRATAPBHANU SHARMA,Indian National Congress
3157,Madhya Pradesh,VIDISHA(18),lost,10816,( -1105644),KISHAN LAL LADIYA,Bahujan Samaj Party
3158,Madhya Pradesh,VIDISHA(18),lost,8178,( -1108282),KAMLESH KUMAR GOUR,Jai Prakash Janata Dal
3159,Madhya Pradesh,VIDISHA(18),lost,3424,( -1113036),DHOOLSINGH DHAMMA,Independent
3160,Madhya Pradesh,VIDISHA(18),lost,2925,( -1113535),SATYENDRA SINGH SISODIYA,Independent
3161,Madhya Pradesh,VIDISHA(18),lost,2819,( -1113641),DHARMVIR BHARTI,Akhil Bhartiya Parivar Party
3162,Madhya Pradesh,VIDISHA(18),lost,1682,( -1114778),ABDUL RASHID,Independent
3163,Madhya Pradesh,VIDISHA(18),lost,1117,( -1115343),BHAI MUNSHILAL SILAWAT,Public Political Party
3164,Madhya Pradesh,VIDISHA(18),lost,1082,( -1115378),ABDUL JABBAR,Independent
3165,Madhya Pradesh,VIDISHA(18),lost,1073,( -1115387),SEEMA SHARMA,Sapaks Party
3166,Madhya Pradesh,VIDISHA(18),lost,1026,( -1115434),DHARMENDRA SINGH PANWAR (GOLU BHAIYA),Right to Recall Party
3167,Madhya Pradesh,VIDISHA(18),lost,724,( -1115736),BHEEKAM SINGH KUSHWAHA,Mahanwadi Party
3168,Madhya Pradesh,VIDISHA(18),,9280,( -1107180),NOTA,None of the Above
3169,Madhya Pradesh,HOSHANGABAD(17),won,812147,(+ 431696),DARSHAN SINGH CHOUDHARY,Bharatiya Janata Party
3170,Madhya Pradesh,HOSHANGABAD(17),lost,380451,( -431696),SANJAY SHARMA SANJU BHAIYA,Indian National Congress
3171,Madhya Pradesh,HOSHANGABAD(17),lost,15387,( -796760),RAMGOVIND BARUAA,Bahujan Samaj Party
3172,Madhya Pradesh,HOSHANGABAD(17),lost,6168,( -805979),PANDIT DIVYENDRA BRIJMOHAN DUBEY ADVOCATE,Bharatiya Yuva Jan Ekta Party
3173,Madhya Pradesh,HOSHANGABAD(17),lost,5079,( -807068),RAKESH RAMPRASAD RICKY,Independent
3174,Madhya Pradesh,HOSHANGABAD(17),lost,4493,( -807654),SARJERAO SAHARE,Independent
3175,Madhya Pradesh,HOSHANGABAD(17),lost,2260,( -809887),PATRAKAR TILAK JATAV,Independent
3176,Madhya Pradesh,HOSHANGABAD(17),lost,2215,( -809932),YUVRAJ GAVADE,Independent
3177,Madhya Pradesh,HOSHANGABAD(17),lost,2046,( -810101),JYOTI SURESH JHARIYA,Independent
3178,Madhya Pradesh,HOSHANGABAD(17),lost,1657,( -810490),MAKHAN SINGH LODHI,Bhartiya Shakti Chetna Party
3179,Madhya Pradesh,HOSHANGABAD(17),lost,1588,( -810559),MUKESH YADAV,Independent
3180,Madhya Pradesh,HOSHANGABAD(17),lost,1260,( -810887),PANDIT BRAJESH KHEMARIYA,Independent
3181,Madhya Pradesh,HOSHANGABAD(17),,14941,( -797206),NOTA,None of the Above
3182,Madhya Pradesh,CHHINDWARA(16),won,644738,(+ 113618),BUNTY VIVEK SAHU,Bharatiya Janata Party
3183,Madhya Pradesh,CHHINDWARA(16),lost,531120,( -113618),NAKUL KAMALNATH,Indian National Congress
3184,Madhya Pradesh,CHHINDWARA(16),lost,55988,( -588750),DEVIRAM URF DEV RAVEN BHALAVI,Gondvana Gantantra Party
3185,Madhya Pradesh,CHHINDWARA(16),lost,11823,( -632915),UMAKANT BANDEWAR,Bahujan Samaj Party
3186,Madhya Pradesh,CHHINDWARA(16),lost,9638,( -635100),KAPIL SONI,Rashtriya Gondvana Party
3187,Madhya Pradesh,CHHINDWARA(16),lost,9568,( -635170),SIRAJ SHEKH,Independent
3188,Madhya Pradesh,CHHINDWARA(16),lost,6621,( -638117),PAWANSHAH SARYAM,Independent
3189,Madhya Pradesh,CHHINDWARA(16),lost,5769,( -638969),SUBHASH SHUKLA,Independent
3190,Madhya Pradesh,CHHINDWARA(16),lost,4632,( -640106),RAJENDRA DONGRE,Independent
3191,Madhya Pradesh,CHHINDWARA(16),lost,4029,( -640709),GOVIND BHALAVI,Independent
3192,Madhya Pradesh,CHHINDWARA(16),lost,3828,( -640910),MOHD. PARVEZ QURESHI,Independent
3193,Madhya Pradesh,CHHINDWARA(16),lost,2495,( -642243),AJAY BARKADE,Independent
3194,Madhya Pradesh,CHHINDWARA(16),lost,1698,( -643040),KUSHWAHA RAJESH TANTRIK,Ahinsa Samaj Party
3195,Madhya Pradesh,CHHINDWARA(16),lost,1654,( -643084),""" PRAKASH ALIAS BANTY "" PARTETI",Rashtra Samarpan Party
3196,Madhya Pradesh,CHHINDWARA(16),lost,1323,( -643415),FOGAL BANSOD,Republican Party of India (A)
3197,Madhya Pradesh,CHHINDWARA(16),,9903,( -634835),NOTA,None of the Above
3198,Madhya Pradesh,BALAGHAT(15),won,712660,(+ 174512),BHARTI PARDHI,Bharatiya Janata Party
3199,Madhya Pradesh,BALAGHAT(15),lost,538148,( -174512),SAMRAT ASHOK SINGH SARASWAR,Indian National Congress
3200,Madhya Pradesh,BALAGHAT(15),lost,53134,( -659526),KANKAR MUNJARE,Bahujan Samaj Party
3201,Madhya Pradesh,BALAGHAT(15),lost,13074,( -699586),BHUVAN SINGH KORAM,Independent
3202,Madhya Pradesh,BALAGHAT(15),lost,12422,( -700238),NANDLAL UIKEY,Gondvana Gantantra Party
3203,Madhya Pradesh,BALAGHAT(15),lost,10017,( -702643),D.L. MANESHWAR,Peoples Party of India (Democratic)
3204,Madhya Pradesh,BALAGHAT(15),lost,7245,( -705415),DHANENDRA DEV PAWAR BANWARI SETH,Independent
3205,Madhya Pradesh,BALAGHAT(15),lost,7192,( -705468),MAHADEV NAGDEVE,Independent
3206,Madhya Pradesh,BALAGHAT(15),lost,6728,( -705932),RAJKUMAR NAGESHWER,Independent
3207,Madhya Pradesh,BALAGHAT(15),lost,3542,( -709118),MOHAN RAUT,Rashtravadi Bharat Party
3208,Madhya Pradesh,BALAGHAT(15),lost,2926,( -709734),PRIYANKA SANJAY BHANDARKAR,Bhartiya Shakti Chetna Party
3209,Madhya Pradesh,BALAGHAT(15),lost,1932,( -710728),ADVOCATE SATYAPRAKASH SHULKE (LODHI),Madhya Pradesh Jan Vikas Party
3210,Madhya Pradesh,BALAGHAT(15),lost,1750,( -710910),DILEEP CHHABDA,Independent
3211,Madhya Pradesh,BALAGHAT(15),,11510,( -701150),NOTA,None of the Above
3212,Madhya Pradesh,MANDLA(14),won,751375,(+ 103846),FAGGAN SINGH KULASTE,Bharatiya Janata Party
3213,Madhya Pradesh,MANDLA(14),lost,647529,( -103846),OMKAR SINGH MARKAM,Indian National Congress
3214,Madhya Pradesh,MANDLA(14),lost,37797,( -713578),MAHESH KUMAR WATTEE,Gondvana Gantantra Party
3215,Madhya Pradesh,MANDLA(14),lost,16617,( -734758),INDAR SINGH UIKEY,Bahujan Samaj Party
3216,Madhya Pradesh,MANDLA(14),lost,15558,( -735817),CHANDRA SINGH KUSHRAM,Bhartiya Shakti Chetna Party
3217,Madhya Pradesh,MANDLA(14),lost,10375,( -741000),SITAR MARKAM,Independent
3218,Madhya Pradesh,MANDLA(14),lost,10346,( -741029),RAKESH SINGH THAKUR,Independent
3219,Madhya Pradesh,MANDLA(14),lost,6401,( -744974),DR. BHAW SINGH TEKAM,Independent
3220,Madhya Pradesh,MANDLA(14),lost,4287,( -747088),CHARAN SINGH DHURWEY,Bharat Adivasi Party
3221,Madhya Pradesh,MANDLA(14),lost,4217,( -747158),ADVOCATE-DEV SINGH KUMRE,Independent
3222,Madhya Pradesh,MANDLA(14),lost,3971,( -747404),GHUR SINGH SALLAM,Independent
3223,Madhya Pradesh,MANDLA(14),lost,3001,( -748374),KALIYA BAI KAKODIA,Independent
3224,Madhya Pradesh,MANDLA(14),lost,2727,( -748648),ASHOK SARAIYA,Independent
3225,Madhya Pradesh,MANDLA(14),lost,2510,( -748865),RAMKUMAR INWATI [ADVOCATE],Smart Indians Party
3226,Madhya Pradesh,MANDLA(14),,18921,( -732454),NOTA,None of the Above
3227,Madhya Pradesh,JABALPUR(13),won,790133,(+ 486674),ASHISH DUBEY,Bharatiya Janata Party
3228,Madhya Pradesh,JABALPUR(13),lost,303459,( -486674),DINESH YADAV,Indian National Congress
3229,Madhya Pradesh,JABALPUR(13),lost,21416,( -768717),RAKESH CHOUDHARY,Bahujan Samaj Party
3230,Madhya Pradesh,JABALPUR(13),lost,7043,( -783090),FOJI VIJAY HALDKAR (EX-ARMY),Independent
3231,Madhya Pradesh,JABALPUR(13),lost,6468,( -783665),MAHAVEER JAIN,Independent
3232,Madhya Pradesh,JABALPUR(13),lost,4848,( -785285),ADVOCATE UDAY KUMAR SAHU,Gondvana Gantantra Party
3233,Madhya Pradesh,JABALPUR(13),lost,3440,( -786693),"ER. PRAVIN GAJBHIYE ""DADA""",Independent
3234,Madhya Pradesh,JABALPUR(13),lost,2823,( -787310),POORNESH KUMAR JAIN,Independent
3235,Madhya Pradesh,JABALPUR(13),lost,2491,( -787642),SWATANATRA SAMAJ SEVI VINAY CHAKRAVARTI,Independent
3236,Madhya Pradesh,JABALPUR(13),lost,1875,( -788258),JAGDISH SINGH LODHI,Bhartiya Shakti Chetna Party
3237,Madhya Pradesh,JABALPUR(13),lost,1484,( -788649),DINESH YADAV,Independent
3238,Madhya Pradesh,JABALPUR(13),lost,1400,( -788733),DR. DHAI AKSHAR,Independent
3239,Madhya Pradesh,JABALPUR(13),lost,1228,( -788905),ASHOK RANA,Rashtra Nirman Party
3240,Madhya Pradesh,JABALPUR(13),lost,1204,( -788929),SANTOSH KUMAR KUSHWAHA,Independent
3241,Madhya Pradesh,JABALPUR(13),lost,1100,( -789033),DASAI RAM KOL,Aadim Samaj Party
3242,Madhya Pradesh,JABALPUR(13),lost,876,( -789257),COMRADE SACHIN JAIN,Socialist Unity Centre Of India (COMMUNIST)
3243,Madhya Pradesh,JABALPUR(13),lost,829,( -789304),GULAB SINGH,Independent
3244,Madhya Pradesh,JABALPUR(13),lost,752,( -789381),LAL SINGH,Rashtriya Samaj Dal (R)
3245,Madhya Pradesh,JABALPUR(13),lost,690,( -789443),RAMKUMAR PASI,Bahujan Awam Party
3246,Madhya Pradesh,JABALPUR(13),,4986,( -785147),NOTA,None of the Above
3247,Madhya Pradesh,SHAHDOL(12),won,711143,(+ 397340),SMT. HIMADRI SINGH,Bharatiya Janata Party
3248,Madhya Pradesh,SHAHDOL(12),lost,313803,( -397340),PHUNDE LAL SINGH MARKO,Indian National Congress
3249,Madhya Pradesh,SHAHDOL(12),lost,35278,( -675865),ANIL SINGH DHURVEY,Gondvana Gantantra Party
3250,Madhya Pradesh,SHAHDOL(12),lost,21854,( -689289),DHANI RAM KOL,Bahujan Samaj Party
3251,Madhya Pradesh,SHAHDOL(12),lost,19883,( -691260),SAMAR SHAH SINGH GOND,Communist Party of India
3252,Madhya Pradesh,SHAHDOL(12),lost,10071,( -701072),KESHKALI BAIGA,Independent
3253,Madhya Pradesh,SHAHDOL(12),lost,7479,( -703664),GUNJAN SINGH,Independent
3254,Madhya Pradesh,SHAHDOL(12),lost,4975,( -706168),RAVIKARAN SINGH DHURVE,Bhartiya Shakti Chetna Party
3255,Madhya Pradesh,SHAHDOL(12),lost,4722,( -706421),AMRIT LAL SINGH UIKEY,Peoples Party of India (Democratic)
3256,Madhya Pradesh,SHAHDOL(12),lost,3444,( -707699),DR. DURGA WATI BHARIA,Chhattisgarh Vikas Ganga Rashtriya Party
3257,Madhya Pradesh,SHAHDOL(12),,19361,( -691782),NOTA,None of the Above
3258,Madhya Pradesh,SIDHI(11),won,583559,(+ 206416),DR. RAJESH MISHRA,Bharatiya Janata Party
3259,Madhya Pradesh,SIDHI(11),lost,377143,( -206416),KAMLESHWAR INDRAJIT KUMAR,Indian National Congress
3260,Madhya Pradesh,SIDHI(11),lost,50962,( -532597),AJAY PRATAP SINGH,Gondvana Gantantra Party
3261,Madhya Pradesh,SIDHI(11),lost,33656,( -549903),PUJAN RAM SAKET (BABBU),Bahujan Samaj Party
3262,Madhya Pradesh,SIDHI(11),lost,30662,( -552897),LAXMAN SINGH BAIS,Independent
3263,Madhya Pradesh,SIDHI(11),lost,20290,( -563269),SANJAY NAMDEO,Communist Party of India
3264,Madhya Pradesh,SIDHI(11),lost,7331,( -576228),BHAGWAN PRASAD TIWARI,Independent
3265,Madhya Pradesh,SIDHI(11),lost,5699,( -577860),SUNIL TIWARI,Independent
3266,Madhya Pradesh,SIDHI(11),lost,5343,( -578216),SHYAMLAL VAISH,Bhartiya Shakti Chetna Party
3267,Madhya Pradesh,SIDHI(11),lost,5291,( -578268),KAILASH PRASAD VERMA,Independent
3268,Madhya Pradesh,SIDHI(11),lost,4658,( -578901),MAHENDRA BHAIYA,Independent
3269,Madhya Pradesh,SIDHI(11),lost,4131,( -579428),DASHRATH PRASAD BAIS,Independent
3270,Madhya Pradesh,SIDHI(11),lost,3792,( -579767),"NARAYAN DAS SHAH ""MULNIWASI""",Peoples Party of India (Democratic)
3271,Madhya Pradesh,SIDHI(11),lost,3305,( -580254),DADDI YADAV,Independent
3272,Madhya Pradesh,SIDHI(11),lost,2707,( -580852),SMT. TARA DEVI SINGH,Rashtriya Jansanchar Dal
3273,Madhya Pradesh,SIDHI(11),lost,2432,( -581127),RAMSAHAY SAHU,Aapka Gantantra Party
3274,Madhya Pradesh,SIDHI(11),lost,2087,( -581472),RAMVISHAL KOL,Rashtriya Samaj Paksha
3275,Madhya Pradesh,SIDHI(11),,4216,( -579343),NOTA,None of the Above
3276,Madhya Pradesh,REWA(10),won,477459,(+ 193374),JANARDAN MISHRA,Bharatiya Janata Party
3277,Madhya Pradesh,REWA(10),lost,284085,( -193374),NEELAM ABHAY MISHRA,Indian National Congress
3278,Madhya Pradesh,REWA(10),lost,117221,( -360238),ADV. ABHISHEK MASTER BUDDHSEN PATEL,Bahujan Samaj Party
3279,Madhya Pradesh,REWA(10),lost,4610,( -472849),DAYASHANKAR PANDEY,Independent
3280,Madhya Pradesh,REWA(10),lost,4122,( -473337),ROSHAN LAL KOL,Independent
3281,Madhya Pradesh,REWA(10),lost,4076,( -473383),ER. DEVENDRA SINGH,Sapaks Party
3282,Madhya Pradesh,REWA(10),lost,3873,( -473586),ER. RAM KUMAR SONI,Independent
3283,Madhya Pradesh,REWA(10),lost,3509,( -473950),RAM GOPAL SINGH,Peoples Party of India (Democratic)
3284,Madhya Pradesh,REWA(10),lost,3313,( -474146),PRASSAN JEET SINGH,Independent
3285,Madhya Pradesh,REWA(10),lost,2295,( -475164),JANARDAN MISHRA,Independent
3286,Madhya Pradesh,REWA(10),lost,2160,( -475299),RANJAN GUPTA,Rashtravadi Bharat Party
3287,Madhya Pradesh,REWA(10),lost,1806,( -475653),VIPIN SINGH PATEL,Rashtriya Hind Ekta Dal
3288,Madhya Pradesh,REWA(10),lost,1551,( -475908),ARUNENDRA NARAYAN PANDEY,Independent
3289,Madhya Pradesh,REWA(10),lost,1113,( -476346),ARUN TIWARI 'MINTU',Independent
3290,Madhya Pradesh,REWA(10),,6936,( -470523),NOTA,None of the Above
3291,Madhya Pradesh,SATNA(9),won,459728,(+ 84949),GANESH SINGH,Bharatiya Janata Party
3292,Madhya Pradesh,SATNA(9),lost,374779,( -84949),DABBU SIDDHARTH SUKHLAL KUSHWAHA,Indian National Congress
3293,Madhya Pradesh,SATNA(9),lost,185618,( -274110),NARAYAN TRIPATHI,Bahujan Samaj Party
3294,Madhya Pradesh,SATNA(9),lost,5921,( -453807),DURGESH KUMAR VISHWAKARMA,Independent
3295,Madhya Pradesh,SATNA(9),lost,4277,( -455451),RAHUL DAHIYA,Independent
3296,Madhya Pradesh,SATNA(9),lost,4061,( -455667),CHHEDI LAL PRAJAPATI (PANDA  BABA),Independent
3297,Madhya Pradesh,SATNA(9),lost,3398,( -456330),CHANDRABHAN KOL,Independent
3298,Madhya Pradesh,SATNA(9),lost,2614,( -457114),"SAFI ULLA ""DBBU BHAI""",Independent
3299,Madhya Pradesh,SATNA(9),lost,2399,( -457329),ADV. ASHOK SAKET,Bahujan Dravida Party
3300,Madhya Pradesh,SATNA(9),lost,2082,( -457646),AZEEZ AHMED QURAISHY,Manviya Bharat Party
3301,Madhya Pradesh,SATNA(9),lost,1891,( -457837),MASTER JI AJIT KUMAR JAYSWAL,Peoples Party of India (Democratic)
3302,Madhya Pradesh,SATNA(9),lost,1630,( -458098),KALIM AHMAD BACHCHA,Independent
3303,Madhya Pradesh,SATNA(9),lost,1617,( -458111),SUKHLAL VERMA RATNESH,Independent
3304,Madhya Pradesh,SATNA(9),lost,1265,( -458463),ASHOK KUMAR GUPTA,Bhartiya Shakti Chetna Party
3305,Madhya Pradesh,SATNA(9),lost,1259,( -458469),NANKU YADAV,Akhil Bharatiya Hind Kranti Party
3306,Madhya Pradesh,SATNA(9),lost,1073,( -458655),RISHABH SINGH,Independent
3307,Madhya Pradesh,SATNA(9),lost,947,( -458781),ASHOK BAUDH,Independent
3308,Madhya Pradesh,SATNA(9),lost,945,( -458783),HARI SHANKAR TIWARI (LOHA WALA),Bharatiya Jan Morcha Party
3309,Madhya Pradesh,SATNA(9),lost,915,( -458813),RANJANA MISHRA,Nyaydharmsabha
3310,Madhya Pradesh,SATNA(9),,2553,( -457175),NOTA,None of the Above
3311,Madhya Pradesh,KHAJURAHO(8),won,772774,(+ 541229),VISHNU DATT SHARMA (V.D.SHARMA),Bharatiya Janata Party
3312,Madhya Pradesh,KHAJURAHO(8),lost,231545,( -541229),KAMLESH KUMAR,Bahujan Samaj Party
3313,Madhya Pradesh,KHAJURAHO(8),lost,50215,( -722559),R. B. PRAJAPATI (RAJA BHAIYA) EX.I.A.S.,All India Forward Bloc
3314,Madhya Pradesh,KHAJURAHO(8),lost,17873,( -754901),MOHAMMAD IMRAN,Rashtriya Jansambhavna Party
3315,Madhya Pradesh,KHAJURAHO(8),lost,10011,( -762763),PENTER SUNMAN SINGH LODHI,Independent
3316,Madhya Pradesh,KHAJURAHO(8),lost,7564,( -765210),KAPIL GUPTA BHARTIYA,Akhil Bhartiya Parivar Party
3317,Madhya Pradesh,KHAJURAHO(8),lost,6764,( -766010),LAXMI PRASAD,Independent
3318,Madhya Pradesh,KHAJURAHO(8),lost,6027,( -766747),NANDKISHOR,Peoples Party of India (Democratic)
3319,Madhya Pradesh,KHAJURAHO(8),lost,4740,( -768034),PANKAJ MAURYA (KUSHWAHA),Gondvana Gantantra Party
3320,Madhya Pradesh,KHAJURAHO(8),lost,4026,( -768748),BITIAYA AHIRWAR,Independent
3321,Madhya Pradesh,KHAJURAHO(8),lost,3713,( -769061),FIROJKHAN,Independent
3322,Madhya Pradesh,KHAJURAHO(8),lost,3492,( -769282),GIRAN SINGH,Bhartiya Shakti Chetna Party
3323,Madhya Pradesh,KHAJURAHO(8),lost,2872,( -769902),KESHKALI,Rashtriya Jansanchar Dal
3324,Madhya Pradesh,KHAJURAHO(8),lost,2797,( -769977),PANNA LAL TRIPATHI AD.,Indian Peoples Adhikar Party
3325,Madhya Pradesh,KHAJURAHO(8),,16157,( -756617),NOTA,None of the Above
3326,Madhya Pradesh,DAMOH(7),won,709768,(+ 406426),RAHUL SINGH LODHI,Bharatiya Janata Party
3327,Madhya Pradesh,DAMOH(7),lost,303342,( -406426),TARBAR SINGH LODHI (BANTU BHAIYA),Indian National Congress
3328,Madhya Pradesh,DAMOH(7),lost,21404,( -688364),ENGINEER GOVERDHAN RAJ,Bahujan Samaj Party
3329,Madhya Pradesh,DAMOH(7),lost,12217,( -697551),BHAIYA VIJAY PATEL (KURMI) TIRGARH BALE,Bhartiya Shakti Chetna Party
3330,Madhya Pradesh,DAMOH(7),lost,7887,( -701881),MANU SINGH MARAVI,Bharat Adivasi Party
3331,Madhya Pradesh,DAMOH(7),lost,6285,( -703483),RAHUL BHAIYA S/O RAM PRATAP,Independent
3332,Madhya Pradesh,DAMOH(7),lost,5561,( -704207),RAHUL BHAIYA S/O JEEVAN LAL,Independent
3333,Madhya Pradesh,DAMOH(7),lost,4057,( -705711),VEDRAM KURMI,Independent
3334,Madhya Pradesh,DAMOH(7),lost,3190,( -706578),RAJESH SINGH SOYAM,Gondvana Gantantra Party
3335,Madhya Pradesh,DAMOH(7),lost,2051,( -707717),RAKESH KUMAR AHIRWAR,Independent
3336,Madhya Pradesh,DAMOH(7),lost,1853,( -707915),NANDAN KUMAR AHIRWAL,Independent
3337,Madhya Pradesh,DAMOH(7),lost,1278,( -708490),NEELESH SONI,Independent
3338,Madhya Pradesh,DAMOH(7),lost,1124,( -708644),DURGA MOUSI,Independent
3339,Madhya Pradesh,DAMOH(7),lost,1094,( -708674),TARVAR SINGH LODHI,Independent
3340,Madhya Pradesh,DAMOH(7),,7833,( -701935),NOTA,None of the Above
3341,Madhya Pradesh,TIKAMGARH(6),won,715050,(+ 403312),DR. VIRENDRA KUMAR,Bharatiya Janata Party
3342,Madhya Pradesh,TIKAMGARH(6),lost,311738,( -403312),KHUMAN URF PANKAJ AHIRWAR,Indian National Congress
3343,Madhya Pradesh,TIKAMGARH(6),lost,32673,( -682377),AHIRWAR DALLURAM,Bahujan Samaj Party
3344,Madhya Pradesh,TIKAMGARH(6),lost,10158,( -704892),AHIRWAR PANKAJ,Rashtriya Samaj Paksha
3345,Madhya Pradesh,TIKAMGARH(6),lost,5997,( -709053),SARJU PRASAD,Independent
3346,Madhya Pradesh,TIKAMGARH(6),lost,5484,( -709566),N.R. PRAJAPATI,Adarsh Nyay Rakshak Party
3347,Madhya Pradesh,TIKAMGARH(6),lost,4459,( -710591),BABULAL KHANGAR,Independent
3348,Madhya Pradesh,TIKAMGARH(6),,12831,( -702219),NOTA,None of the Above
3349,Madhya Pradesh,SAGAR(5),won,787979,(+ 471222),DR. LATA WANKHEDE,Bharatiya Janata Party
3350,Madhya Pradesh,SAGAR(5),lost,316757,( -471222),CHANDRA BHUSAN SINGH BUNDELA 'GUDDU RAJA',Indian National Congress
3351,Madhya Pradesh,SAGAR(5),lost,16636,( -771343),BHAGWATI PRASAD JATAV,Bahujan Samaj Party
3352,Madhya Pradesh,SAGAR(5),lost,5784,( -782195),BHEEKAM SINGH KUSHWAHA,Mahanwadi Party
3353,Madhya Pradesh,SAGAR(5),lost,3153,( -784826),RAM BHJAN BANSAL,Samata Party
3354,Madhya Pradesh,SAGAR(5),lost,2888,( -785091),MOHAMAD AARIF MAKRANI,Independent
3355,Madhya Pradesh,SAGAR(5),lost,2824,( -785155),SANGRAM SINGH YADAV,Independent
3356,Madhya Pradesh,SAGAR(5),lost,1624,( -786355),DHARMENDRA BANPURIYA,Independent
3357,Madhya Pradesh,SAGAR(5),lost,1299,( -786680),TOSHMANI PANTHI (KANNA),Independent
3358,Madhya Pradesh,SAGAR(5),lost,1151,( -786828),SURESH BANSAL,Bhartiya Shakti Chetna Party
3359,Madhya Pradesh,SAGAR(5),lost,952,( -787027),LAXMI KUSHWAHA,Pichhara Samaj Party United
3360,Madhya Pradesh,SAGAR(5),lost,928,( -787051),DR. RAMAVATAR SHARMA,Socialist Unity Centre Of India (COMMUNIST)
3361,Madhya Pradesh,SAGAR(5),lost,917,( -787062),AHIRWAR RAJKUMAR THEKEDAAR,Independent
3362,Madhya Pradesh,SAGAR(5),,7657,( -780322),NOTA,None of the Above
3363,Madhya Pradesh,GUNA(4),won,923302,(+ 540929),JYOTIRADITYA M. SCINDIA,Bharatiya Janata Party
3364,Madhya Pradesh,GUNA(4),lost,382373,( -540929),YADVENDRA RAO DESHRAJ SINGH,Indian National Congress
3365,Madhya Pradesh,GUNA(4),lost,30235,( -893067),DHANIRAM CHAUDHARY,Bahujan Samaj Party
3366,Madhya Pradesh,GUNA(4),lost,5856,( -917446),KANCHHEDI LAL KUSHWAHA,Mahanwadi Party
3367,Madhya Pradesh,GUNA(4),lost,5485,( -917817),ADVOCATE KARANSINGH JATAV,Aazad Samaj Party (Kanshi Ram)
3368,Madhya Pradesh,GUNA(4),lost,3453,( -919849),HEMANT SINGH KUSHWAHA,Independent
3369,Madhya Pradesh,GUNA(4),lost,3052,( -920250),RAKESH,Independent
3370,Madhya Pradesh,GUNA(4),lost,1999,( -921303),MAHENDRA JAIN BHAIYAN,Independent
3371,Madhya Pradesh,GUNA(4),lost,1886,( -921416),MOHAN,Independent
3372,Madhya Pradesh,GUNA(4),lost,1597,( -921705),GAJANAND KUSHWAH,Independent
3373,Madhya Pradesh,GUNA(4),lost,1348,( -921954),MANISH SHRIVASTAVA,Socialist Unity Centre Of India (COMMUNIST)
3374,Madhya Pradesh,GUNA(4),lost,1149,( -922153),MANMOHAN,Independent
3375,Madhya Pradesh,GUNA(4),lost,1044,( -922258),KISAN LAL AHIRWAR,Independent
3376,Madhya Pradesh,GUNA(4),lost,983,( -922319),MOHAMMAD JAVED ANSARI,Rashtriya Jansena Party
3377,Madhya Pradesh,GUNA(4),lost,915,( -922387),D.S. CHAUHAN (ADVOCATE),Rashtriya Samaj Paksha
3378,Madhya Pradesh,GUNA(4),,9089,( -914213),NOTA,None of the Above
3379,Madhya Pradesh,GWALIOR(3),won,671535,(+ 70210),BHARAT SINGH KUSHWAH,Bharatiya Janata Party
3380,Madhya Pradesh,GWALIOR(3),lost,601325,( -70210),PRAVEEN PATHAK,Indian National Congress
3381,Madhya Pradesh,GWALIOR(3),lost,33465,( -638070),KALYAN SINGH KANSANA,Bahujan Samaj Party
3382,Madhya Pradesh,GWALIOR(3),lost,5892,( -665643),ARCHANA SINGH RATHORE,Rashtriya Samaj Paksha
3383,Madhya Pradesh,GWALIOR(3),lost,4163,( -667372),BHARAT PAL,Aazad Samaj Party (Kanshi Ram)
3384,Madhya Pradesh,GWALIOR(3),lost,3783,( -667752),ER. MAHENDRA PRATAP SINGH PAL,Independent
3385,Madhya Pradesh,GWALIOR(3),lost,3220,( -668315),RAKESH DHAKAD,Independent
3386,Madhya Pradesh,GWALIOR(3),lost,2571,( -668964),YASHDEV SHARMA,Independent
3387,Madhya Pradesh,GWALIOR(3),lost,2448,( -669087),DEEPAK KUMAR BANSAL (RANG WALE),Independent
3388,Madhya Pradesh,GWALIOR(3),lost,2216,( -669319),SHREE NARESH CHANDRA SHARMA,Independent
3389,Madhya Pradesh,GWALIOR(3),lost,1348,( -670187),GAJENDRA SINGH,Independent
3390,Madhya Pradesh,GWALIOR(3),lost,1279,( -670256),ANJALI MONU RAWAT,Parivartan Party of India
3391,Madhya Pradesh,GWALIOR(3),lost,1134,( -670401),ADVOCATE MUKESH KUMAR KORI,Independent
3392,Madhya Pradesh,GWALIOR(3),lost,1071,( -670464),RAM PRAKASH SINGH PAL,Rashtra Uday Party
3393,Madhya Pradesh,GWALIOR(3),lost,1059,( -670476),CHANDAN RATHORE,Parivartan Samaj Party
3394,Madhya Pradesh,GWALIOR(3),lost,1021,( -670514),DR. P. D. AGARWAL SR. MEDICAL CONSULTANT,Independent
3395,Madhya Pradesh,GWALIOR(3),lost,883,( -670652),AMIT PARIHAR,Independent
3396,Madhya Pradesh,GWALIOR(3),lost,803,( -670732),COMRADE RACHNA AGRAWAL,Socialist Unity Centre Of India (COMMUNIST)
3397,Madhya Pradesh,GWALIOR(3),lost,672,( -670863),MUNESH NAGAR,Vikas India Party
3398,Madhya Pradesh,GWALIOR(3),,3341,( -668194),NOTA,None of the Above
3399,Madhya Pradesh,BHIND(2),won,537065,(+ 64840),SANDHYA RAY,Bharatiya Janata Party
3400,Madhya Pradesh,BHIND(2),lost,472225,( -64840),PHOOL SINGH BARAIYA,Indian National Congress
3401,Madhya Pradesh,BHIND(2),lost,20465,( -516600),DEVASHISH JARARIYA,Bahujan Samaj Party
3402,Madhya Pradesh,BHIND(2),lost,5072,( -531993),UMESH GARG,Independent
3403,Madhya Pradesh,BHIND(2),lost,2667,( -534398),REKHA SHAKYA,Independent
3404,Madhya Pradesh,BHIND(2),lost,2610,( -534455),HARIMOHAN,Independent
3405,Madhya Pradesh,BHIND(2),lost,2369,( -534696),RAKESH,Independent
3406,Madhya Pradesh,BHIND(2),,6534,( -530531),NOTA,None of the Above
3407,Madhya Pradesh,MORENA(1),won,515477,(+ 52530),SHIVMANGAL SINGH TOMAR,Bharatiya Janata Party
3408,Madhya Pradesh,MORENA(1),lost,462947,( -52530),NEETU SATYAPAL SINGH SIKARWAR,Indian National Congress
3409,Madhya Pradesh,MORENA(1),lost,179669,( -335808),RAMESH GARG,Bahujan Samaj Party
3410,Madhya Pradesh,MORENA(1),lost,7544,( -507933),NEERAJ CHANDSORIYA,Aazad Samaj Party (Kanshi Ram)
3411,Madhya Pradesh,MORENA(1),lost,2402,( -513075),RAJENDRA PRASAD KUSHWAH,Independent
3412,Madhya Pradesh,MORENA(1),lost,2285,( -513192),ER. SURAJ KUSHWAH,Independent
3413,Madhya Pradesh,MORENA(1),lost,1973,( -513504),RAMNIWASH,Independent
3414,Madhya Pradesh,MORENA(1),lost,1767,( -513710),RAM SUNDER SHARMA,Independent
3415,Madhya Pradesh,MORENA(1),lost,1632,( -513845),RAMSEVAK SAKHWAR,Independent
3416,Madhya Pradesh,MORENA(1),lost,1623,( -513854),HARIKANTH,Independent
3417,Madhya Pradesh,MORENA(1),lost,1441,( -514036),RAJKUMARI,Independent
3418,Madhya Pradesh,MORENA(1),lost,1317,( -514160),ANOOP NAGAR,Independent
3419,Madhya Pradesh,MORENA(1),lost,1210,( -514267),RAJENDRA SINGH GURJER,Independent
3420,Madhya Pradesh,MORENA(1),lost,575,( -514902),PIYUSH BRAJESH RAJORIYA,Independent
3421,Madhya Pradesh,MORENA(1),lost,555,( -514922),PRABHU JATAV,Independent
3422,Madhya Pradesh,MORENA(1),,4914,( -510563),NOTA,None of the Above
3423,West Bengal,Arambagh(29),won,712587,(+ 6399),BAG MITALI,All India Trinamool Congress
3424,West Bengal,Arambagh(29),lost,706188,( -6399),ARUP KANTI DIGAR,Bharatiya Janata Party
3425,West Bengal,Arambagh(29),lost,92502,( -620085),BIPLAB KUMAR MOITRA,Communist Party of India  (Marxist)
3426,West Bengal,Arambagh(29),lost,16130,( -696457),RAGHU MALLIK,Independent
3427,West Bengal,Arambagh(29),lost,3831,( -708756),SUBIR KUMAR ROY,Bahujan Samaj Party
3428,West Bengal,Arambagh(29),lost,3665,( -708922),VASKAR MALIK,Independent
3429,West Bengal,Arambagh(29),lost,1816,( -710771),SUKANTA POREL,Socialist Unity Centre Of India (COMMUNIST)
3430,West Bengal,Arambagh(29),lost,1629,( -710958),BABLU GHANTI,Independent
3431,West Bengal,Arambagh(29),lost,1606,( -710981),ABHIJIT MAJI,Independent
3432,West Bengal,Arambagh(29),lost,1094,( -711493),ALOK DOLAI,Independent
3433,West Bengal,Arambagh(29),,18031,( -694556),NOTA,None of the Above
3434,West Bengal,Hooghly(28),won,702744,(+ 76853),RACHNA BANERJEE,All India Trinamool Congress
3435,West Bengal,Hooghly(28),lost,625891,( -76853),LOCKET CHATTERJEE,Bharatiya Janata Party
3436,West Bengal,Hooghly(28),lost,139919,( -562825),MANADIP GHOSH,Communist Party of India  (Marxist)
3437,West Bengal,Hooghly(28),lost,9268,( -693476),SURAJIT HEMBRAM,Independent
3438,West Bengal,Hooghly(28),lost,6567,( -696177),SAMIM ALI MOLLICK,Independent
3439,West Bengal,Hooghly(28),lost,4718,( -698026),JAMINI BHAR,Bahujan Samaj Party
3440,West Bengal,Hooghly(28),lost,3639,( -699105),AJANTA SARKAR,Bharatiya National Janata Dal
3441,West Bengal,Hooghly(28),lost,2766,( -699978),SK KAMALUDDIN,Independent
3442,West Bengal,Hooghly(28),lost,2649,( -700095),SANCHITA BERA,Independent
3443,West Bengal,Hooghly(28),lost,2380,( -700364),PABAN MAZUMDER,Socialist Unity Centre Of India (COMMUNIST)
3444,West Bengal,Hooghly(28),lost,2220,( -700524),PRADIP PAL,Bharatiya Nyay-Adhikar Raksha Party
3445,West Bengal,Hooghly(28),lost,1398,( -701346),MRINAL KANTI DAS,Independent
3446,West Bengal,Hooghly(28),,13352,( -689392),NOTA,None of the Above
3447,West Bengal,Srerampur(27),won,673970,(+ 174830),KALYAN BANERJEE,All India Trinamool Congress
3448,West Bengal,Srerampur(27),lost,499140,( -174830),KABIR SHANKAR BOSE,Bharatiya Janata Party
3449,West Bengal,Srerampur(27),lost,239146,( -434824),DIPSITA DHAR,Communist Party of India  (Marxist)
3450,West Bengal,Srerampur(27),lost,25677,( -648293),SAHARIAR MULLICK (BAPI),All India Secular Front
3451,West Bengal,Srerampur(27),lost,9902,( -664068),SUNDAR PATRA,Independent
3452,West Bengal,Srerampur(27),lost,3938,( -670032),SASANKA CHAKRABORTY,Independent
3453,West Bengal,Srerampur(27),lost,3589,( -670381),SUPRIYA BISWAS,Bahujan Samaj Party
3454,West Bengal,Srerampur(27),lost,1758,( -672212),KALYAN PAUL,Independent
3455,West Bengal,Srerampur(27),lost,1680,( -672290),PRADYUT CHOWDHURI,Socialist Unity Centre Of India (COMMUNIST)
3456,West Bengal,Srerampur(27),lost,1440,( -672530),KALYAN SAMANTA,Independent
3457,West Bengal,Srerampur(27),lost,1258,( -672712),SARKAR MANGAL,Bahujan Maha Party
3458,West Bengal,Srerampur(27),,15034,( -658936),NOTA,None of the Above
3459,West Bengal,Uluberia(26),won,724622,(+ 218673),SAJDA AHMED,All India Trinamool Congress
3460,West Bengal,Uluberia(26),lost,505949,( -218673),ARUNUDAY PAULCHOWDHURY,Bharatiya Janata Party
3461,West Bengal,Uluberia(26),lost,78589,( -646033),AZAHAR MOLLICK,Indian National Congress
3462,West Bengal,Uluberia(26),lost,38991,( -685631),MOFIKUL ISLAM,All India Secular Front
3463,West Bengal,Uluberia(26),lost,7292,( -717330),ARIT KARAK,Independent
3464,West Bengal,Uluberia(26),lost,5451,( -719171),AMAL KUMAR DEYATI,Bharatiya Nyay-Adhikar Raksha Party
3465,West Bengal,Uluberia(26),lost,5104,( -719518),RAMESH KHANRA,Independent
3466,West Bengal,Uluberia(26),lost,4875,( -719747),BIMALESH KUMAR HELA,Bahujan Samaj Party
3467,West Bengal,Uluberia(26),lost,2924,( -721698),SK. SAPIYAR ALI,Independent
3468,West Bengal,Uluberia(26),lost,2107,( -722515),NIKHIL BERA,Socialist Unity Centre Of India (COMMUNIST)
3469,West Bengal,Uluberia(26),lost,2000,( -722622),AMAL KUMAR BARMAN,Independent
3470,West Bengal,Uluberia(26),lost,1572,( -723050),RAMPRASAD GHORAI,Indian Unity Centre
3471,West Bengal,Uluberia(26),,11318,( -713304),NOTA,None of the Above
3472,West Bengal,Howrah(25),won,626493,(+ 169442),PRASUN BANERJEE,All India Trinamool Congress
3473,West Bengal,Howrah(25),lost,457051,( -169442),DR RATHIN CHAKRAVARTY,Bharatiya Janata Party
3474,West Bengal,Howrah(25),lost,152005,( -474488),SABYASACHI CHATTERJEE,Communist Party of India  (Marxist)
3475,West Bengal,Howrah(25),lost,6354,( -620139),PALASH BACHAR,Bahujan Samaj Party
3476,West Bengal,Howrah(25),lost,5271,( -621222),SEIKH SAKIRUL ISLAM,Independent
3477,West Bengal,Howrah(25),lost,3220,( -623273),SHIWA MALLICK,Independent
3478,West Bengal,Howrah(25),lost,2325,( -624168),UTTAM CHATTERJEE,Socialist Unity Centre Of India (COMMUNIST)
3479,West Bengal,Howrah(25),lost,2065,( -624428),SHAMPA DAS,Bharatiya Nyay-Adhikar Raksha Party
3480,West Bengal,Howrah(25),lost,1887,( -624606),RATHIN GANGULY,Independent
3481,West Bengal,Howrah(25),lost,1326,( -625167),PRASUN LAHIRI,Independent
3482,West Bengal,Howrah(25),lost,1272,( -625221),RAJESH KUMAR PRASAD,All India Arya Mahasabha
3483,West Bengal,Howrah(25),lost,945,( -625548),ADARSHA MONDAL,Independent
3484,West Bengal,Howrah(25),lost,857,( -625636),AJAZ AHMED ANSARI,Independent
3485,West Bengal,Howrah(25),lost,641,( -625852),TAPAS BARUI,Independent
3486,West Bengal,Howrah(25),,10084,( -616409),NOTA,None of the Above
3487,West Bengal,Kolkata Uttar(24),won,454696,(+ 92560),BANDYOPADHYAY SUDIP,All India Trinamool Congress
3488,West Bengal,Kolkata Uttar(24),lost,362136,( -92560),TAPAS ROY,Bharatiya Janata Party
3489,West Bengal,Kolkata Uttar(24),lost,114982,( -339714),PRADIP BHATTACHARYA,Indian National Congress
3490,West Bengal,Kolkata Uttar(24),lost,3658,( -451038),DR. BIPLAB CHANDRA,Socialist Unity Centre Of India (COMMUNIST)
3491,West Bengal,Kolkata Uttar(24),lost,3180,( -451516),OMPRAKASH PRAJAPATI,Bahujan Samaj Party
3492,West Bengal,Kolkata Uttar(24),lost,2272,( -452424),PRANATI PAUL,Independent
3493,West Bengal,Kolkata Uttar(24),lost,1322,( -453374),SURENDRA KUMAR KABRA,Independent
3494,West Bengal,Kolkata Uttar(24),lost,1166,( -453530),SWAPAN DAS,Independent
3495,West Bengal,Kolkata Uttar(24),lost,981,( -453715),MISBAHUS SALAM,Independent
3496,West Bengal,Kolkata Uttar(24),lost,916,( -453780),SAMPA GUHA,Bharatiya Nyay-Adhikar Raksha Party
3497,West Bengal,Kolkata Uttar(24),lost,772,( -453924),RAJKUMAR PALIT,Mission Naya Digant Party
3498,West Bengal,Kolkata Uttar(24),lost,659,( -454037),SMT. RINKU GUPTA,Pyramid Party of India
3499,West Bengal,Kolkata Uttar(24),lost,591,( -454105),AMAL KUMAR DEY,Independent
3500,West Bengal,Kolkata Uttar(24),lost,557,( -454139),ANUJIT KUMAR NAN,Independent
3501,West Bengal,Kolkata Uttar(24),lost,501,( -454195),BINOY KRISHNA CHATTERJEE,Independent
3502,West Bengal,Kolkata Uttar(24),,10044,( -444652),NOTA,None of the Above
3503,West Bengal,Kolkata Dakshin(23),won,615274,(+ 187231),MALA ROY,All India Trinamool Congress
3504,West Bengal,Kolkata Dakshin(23),lost,428043,( -187231),DEBASREE CHAUDHURI,Bharatiya Janata Party
3505,West Bengal,Kolkata Dakshin(23),lost,168531,( -446743),SAIRA SHAH HALIM,Communist Party of India  (Marxist)
3506,West Bengal,Kolkata Dakshin(23),lost,4032,( -611242),NIRAJ AGARWAL,Independent
3507,West Bengal,Kolkata Dakshin(23),lost,3975,( -611299),FIROZA KHATUN,Bahujan Samaj Party
3508,West Bengal,Kolkata Dakshin(23),lost,2920,( -612354),SANTANU ROY,Independent
3509,West Bengal,Kolkata Dakshin(23),lost,2300,( -612974),ZUBAIR RABBANI,Socialist Unity Centre Of India (COMMUNIST)
3510,West Bengal,Kolkata Dakshin(23),lost,2091,( -613183),SUSANTA MONDAL,Independent
3511,West Bengal,Kolkata Dakshin(23),lost,1969,( -613305),MUMTAZ ALI,Independent
3512,West Bengal,Kolkata Dakshin(23),lost,1544,( -613730),MUKTI,Right to Recall Party
3513,West Bengal,Kolkata Dakshin(23),lost,1193,( -614081),SANJOY (RANA) CHANDA,Kisan Mazdoor Sangharsh Party
3514,West Bengal,Kolkata Dakshin(23),lost,1056,( -614218),SANJANA RAM,Independent
3515,West Bengal,Kolkata Dakshin(23),lost,985,( -614289),YASMIN ISLAM,Social Democratic Party Of India
3516,West Bengal,Kolkata Dakshin(23),lost,971,( -614303),ATANU DAS,Independent
3517,West Bengal,Kolkata Dakshin(23),lost,862,( -614412),MRIDUL OJHA,Independent
3518,West Bengal,Kolkata Dakshin(23),lost,804,( -614470),DIPENDU HAZRA,Independent
3519,West Bengal,Kolkata Dakshin(23),lost,504,( -614770),MD. SHAKIL WARSI,Independent
3520,West Bengal,Kolkata Dakshin(23),,6423,( -608851),NOTA,None of the Above
3521,West Bengal,Jadavpur(22),won,717899,(+ 258201),SAYANI GHOSH,All India Trinamool Congress
3522,West Bengal,Jadavpur(22),lost,459698,( -258201),DR. ANIRBAN GANGULY,Bharatiya Janata Party
3523,West Bengal,Jadavpur(22),lost,258712,( -459187),SRIJAN BHATTACHARYYA,Communist Party of India  (Marxist)
3524,West Bengal,Jadavpur(22),lost,83362,( -634537),NUR ALAM KHAN,All India Secular Front
3525,West Bengal,Jadavpur(22),lost,13030,( -704869),RANJIT KUMAR MANDAL,Independent
3526,West Bengal,Jadavpur(22),lost,4927,( -712972),HOSEN GAZI,Independent
3527,West Bengal,Jadavpur(22),lost,4462,( -713437),SANDIP NATH,Bahujan Samaj Party
3528,West Bengal,Jadavpur(22),lost,4451,( -713448),KALPANA NASKAR DATTA,Socialist Unity Centre Of India (COMMUNIST)
3529,West Bengal,Jadavpur(22),lost,2835,( -715064),BALARAM MANDAL,Independent
3530,West Bengal,Jadavpur(22),lost,2427,( -715472),TANUSHREE MONDAL,Independent
3531,West Bengal,Jadavpur(22),lost,1442,( -716457),SHANKAR MANDAL,Independent
3532,West Bengal,Jadavpur(22),lost,1373,( -716526),SRI GOPAN SARDAR,Mulnibasi Party of India
3533,West Bengal,Jadavpur(22),lost,1325,( -716574),PURNIMA DEBNATH,Independent
3534,West Bengal,Jadavpur(22),lost,1114,( -716785),CHANDRACHUR GOSWAMI,Independent
3535,West Bengal,Jadavpur(22),lost,1110,( -716789),ARUN SARKAR,Independent
3536,West Bengal,Jadavpur(22),lost,927,( -716972),DIPAK SARDAR,Independent
3537,West Bengal,Jadavpur(22),,7415,( -710484),NOTA,None of the Above
3538,West Bengal,Diamond harbour(21),won,1048230,(+ 710930),ABHISHEK BANERJEE,All India Trinamool Congress
3539,West Bengal,Diamond harbour(21),lost,337300,( -710930),ABHIJIT DAS (BOBBY),Bharatiya Janata Party
3540,West Bengal,Diamond harbour(21),lost,86953,( -961277),PRATIK UR RAHAMAN,Communist Party of India  (Marxist)
3541,West Bengal,Diamond harbour(21),lost,21139,( -1027091),MAJNU LASKAR,All India Secular Front
3542,West Bengal,Diamond harbour(21),lost,9825,( -1038405),SUBRATA BOSE,Independent
3543,West Bengal,Diamond harbour(21),lost,7111,( -1041119),DASARATHI PAIK,Bahujan Samaj Party
3544,West Bengal,Diamond harbour(21),lost,2971,( -1045259),MALAY GUHA ROY,Independent
3545,West Bengal,Diamond harbour(21),lost,1948,( -1046282),PULAKESH MONDAL,Independent
3546,West Bengal,Diamond harbour(21),lost,1590,( -1046640),KALIMUDDIN SK,Indian National Socialistic Action Forces
3547,West Bengal,Diamond harbour(21),lost,1418,( -1046812),RAMKUMAR MONDAL,Socialist Unity Centre Of India (COMMUNIST)
3548,West Bengal,Diamond harbour(21),lost,1159,( -1047071),ANISUR RAHAMAN SK,Independent
3549,West Bengal,Diamond harbour(21),lost,985,( -1047245),KASHINATH MONDAL,Independent
3550,West Bengal,Diamond harbour(21),,10188,( -1038042),NOTA,None of the Above
3551,West Bengal,Mathurapur(20),won,755731,(+ 201057),BAPI HALDAR,All India Trinamool Congress
3552,West Bengal,Mathurapur(20),lost,554674,( -201057),ASHOK PURKAIT,Bharatiya Janata Party
3553,West Bengal,Mathurapur(20),lost,87606,( -668125),AJAY KUMAR DAS,All India Secular Front
3554,West Bengal,Mathurapur(20),lost,61100,( -694631),DR SARAT CHANDRA HALDER,Communist Party of India  (Marxist)
3555,West Bengal,Mathurapur(20),lost,8934,( -746797),BAPI HALDER,Independent
3556,West Bengal,Mathurapur(20),lost,5626,( -750105),BAPI HALDAR,Independent
3557,West Bengal,Mathurapur(20),lost,4534,( -751197),BISWANATH SARDAR,Socialist Unity Centre Of India (COMMUNIST)
3558,West Bengal,Mathurapur(20),lost,4257,( -751474),PANKAJ KUMAR HALDER,Bahujan Samaj Party
3559,West Bengal,Mathurapur(20),lost,1501,( -754230),ASHOKE SARDAR,Independent
3560,West Bengal,Mathurapur(20),lost,1501,( -754230),ASHOKE PUROKAIT,Independent
3561,West Bengal,Mathurapur(20),lost,1209,( -754522),BAPPA DAS,Party for Democratic Socialism
3562,West Bengal,Mathurapur(20),lost,720,( -755011),RUDRA PRASAD MANDAL,Mulnibasi Party of India
3563,West Bengal,Mathurapur(20),,8631,( -747100),NOTA,None of the Above
3564,West Bengal,Joynagar(19),won,894312,(+ 470219),PRATIMA MONDAL,All India Trinamool Congress
3565,West Bengal,Joynagar(19),lost,424093,( -470219),ASHOK KANDARY,Bharatiya Janata Party
3566,West Bengal,Joynagar(19),lost,65372,( -828940),MEGHNATH HALDER,All India Secular Front
3567,West Bengal,Joynagar(19),lost,40113,( -854199),SAMARENDRA NATH MONDAL,Revolutionary Socialist Party
3568,West Bengal,Joynagar(19),lost,14622,( -879690),NIRANJAN  NASKAR,Socialist Unity Centre Of India (COMMUNIST)
3569,West Bengal,Joynagar(19),lost,10794,( -883518),SUJAN SARDAR,Independent
3570,West Bengal,Joynagar(19),lost,9162,( -885150),SINDHUPADA BAIRAGI,Independent
3571,West Bengal,Joynagar(19),lost,6391,( -887921),SHANKAR DEB MONDAL,Bahujan Samaj Party
3572,West Bengal,Joynagar(19),lost,3769,( -890543),JURAN CHANDRA PANDEY,Mulnibasi Party of India
3573,West Bengal,Joynagar(19),lost,2136,( -892176),MILAN NASKAR,Independent
3574,West Bengal,Joynagar(19),lost,2079,( -892233),PRATIMA MONDAL,Independent
3575,West Bengal,Joynagar(19),,9788,( -884524),NOTA,None of the Above
3576,West Bengal,Basirhat(18),won,803762,(+ 333547),SK NURUL ISLAM,All India Trinamool Congress
3577,West Bengal,Basirhat(18),lost,470215,( -333547),REKHA PATRA,Bharatiya Janata Party
3578,West Bengal,Basirhat(18),lost,123500,( -680262),AKHTAR RAHAMAN BISWAS,All India Secular Front
3579,West Bengal,Basirhat(18),lost,77899,( -725863),NIRAPADA SARDAR,Communist Party of India  (Marxist)
3580,West Bengal,Basirhat(18),lost,11833,( -791929),MAFIJUL MOLLA,Independent
3581,West Bengal,Basirhat(18),lost,6620,( -797142),PRIYAMA DAS,Independent
3582,West Bengal,Basirhat(18),lost,5902,( -797860),MIRAZ MOLLA,Independent
3583,West Bengal,Basirhat(18),lost,4464,( -799298),MD ABUL KALAM MOLLA,Bahujan Samaj Party
3584,West Bengal,Basirhat(18),lost,3634,( -800128),BIDYUT GAYEN,Independent
3585,West Bengal,Basirhat(18),lost,2553,( -801209),IMRAN ALI SARDAR,Bharatheeya Jawan Kisan Party
3586,West Bengal,Basirhat(18),lost,2391,( -801371),PIYARUL ISLAM,Independent
3587,West Bengal,Basirhat(18),lost,2021,( -801741),SARAVAN SINGH,Independent
3588,West Bengal,Basirhat(18),lost,1167,( -802595),DAUD ALI GAZI,Socialist Unity Centre Of India (COMMUNIST)
3589,West Bengal,Basirhat(18),lost,1118,( -802644),KINKAR KANTI ROY,Independent
3590,West Bengal,Basirhat(18),lost,1074,( -802688),BIPUL CHANDRA BISWAS,Mulnibasi Party of India
3591,West Bengal,Basirhat(18),,5248,( -798514),NOTA,None of the Above
3592,West Bengal,Barasat(17),won,692010,(+ 114189),KAKOLI GHOSH DASTIDAR,All India Trinamool Congress
3593,West Bengal,Barasat(17),lost,577821,( -114189),SWAPAN MAJUMDER,Bharatiya Janata Party
3594,West Bengal,Barasat(17),lost,121440,( -570570),TAPAS BANERJEE,All India Secular Front
3595,West Bengal,Barasat(17),lost,100000,( -592010),SANJIB CHATTERJEE,All India Forward Bloc
3596,West Bengal,Barasat(17),lost,5787,( -686223),SMRITIKANA HAOLADAR,Bahujan Samaj Party
3597,West Bengal,Barasat(17),lost,3827,( -688183),SAIFUDDIN MONDAL,Independent
3598,West Bengal,Barasat(17),lost,3085,( -688925),SWAPAN MAJUMDAR,Independent
3599,West Bengal,Barasat(17),lost,2647,( -689363),S MUKHTAR AHMED,Independent
3600,West Bengal,Barasat(17),lost,2252,( -689758),SEFALI DEY,Bharatiya Nyay-Adhikar Raksha Party
3601,West Bengal,Barasat(17),lost,2047,( -689963),SADHAN GHOSH,Socialist Unity Centre Of India (COMMUNIST)
3602,West Bengal,Barasat(17),lost,1929,( -690081),BIKASH SARKAR,Mulnibasi Party of India
3603,West Bengal,Barasat(17),lost,1864,( -690146),MOHAN LAL ADHIKARY,Independent
3604,West Bengal,Barasat(17),,17892,( -674118),NOTA,None of the Above
3605,West Bengal,Dum dum(16),won,528579,(+ 70660),SOUGATA RAY,All India Trinamool Congress
3606,West Bengal,Dum dum(16),lost,457919,( -70660),SILBHADRA DATTA,Bharatiya Janata Party
3607,West Bengal,Dum dum(16),lost,240784,( -287795),SUJAN CHAKRABORTY,Communist Party of India  (Marxist)
3608,West Bengal,Dum dum(16),lost,6411,( -522168),SHEKH IMANUR RAHMAN,Independent
3609,West Bengal,Dum dum(16),lost,3766,( -524813),SWAMINATH KORI,Bahujan Samaj Party
3610,West Bengal,Dum dum(16),lost,3147,( -525432),HIRAK SINHA,Independent
3611,West Bengal,Dum dum(16),lost,1739,( -526840),BANAMALI PANDA,Socialist Unity Centre Of India (COMMUNIST)
3612,West Bengal,Dum dum(16),lost,1694,( -526885),DULU DEY,Independent
3613,West Bengal,Dum dum(16),lost,1237,( -527342),MANIKA MUKHERJEE,Bharatiya Nyay-Adhikar Raksha Party
3614,West Bengal,Dum dum(16),lost,885,( -527694),SANTANU MANDAL,Democratic Socialist Party of India
3615,West Bengal,Dum dum(16),lost,772,( -527807),TRIDIB BHUNIA,Independent
3616,West Bengal,Dum dum(16),lost,701,( -527878),GOURI BISWAS,Independent
3617,West Bengal,Dum dum(16),lost,604,( -527975),SUBRATA BHOWMIK,Mera Bharat Mahan Party
3618,West Bengal,Dum dum(16),lost,474,( -528105),HARI PADA BISWAS,Mulnibasi Party of India
3619,West Bengal,Dum dum(16),,11334,( -517245),NOTA,None of the Above
3620,West Bengal,Barrackpur(15),won,520231,(+ 64438),PARTHA BHOWMICK,All India Trinamool Congress
3621,West Bengal,Barrackpur(15),lost,455793,( -64438),ARJUN SINGH,Bharatiya Janata Party
3622,West Bengal,Barrackpur(15),lost,109564,( -410667),DEBDUT GHOSH,Communist Party of India  (Marxist)
3623,West Bengal,Barrackpur(15),lost,18806,( -501425),MD JAMIR HOSSAIN,All India Secular Front
3624,West Bengal,Barrackpur(15),lost,7132,( -513099),ROHIT KUMAR PATHAK,Independent
3625,West Bengal,Barrackpur(15),lost,3909,( -516322),CHAPALA RAY (MAJUMDER),Bahujan Samaj Party
3626,West Bengal,Barrackpur(15),lost,3634,( -516597),SHARMISTHA DAS,Independent
3627,West Bengal,Barrackpur(15),lost,3448,( -516783),ANJAN GOSWAMI,Bharatiya Nyay-Adhikar Raksha Party
3628,West Bengal,Barrackpur(15),lost,2847,( -517384),DHARMENDRA SINGH,Independent
3629,West Bengal,Barrackpur(15),lost,1676,( -518555),SANJAY SINGH,Independent
3630,West Bengal,Barrackpur(15),lost,1434,( -518797),DEBASISH BANERJEE,Socialist Unity Centre Of India (COMMUNIST)
3631,West Bengal,Barrackpur(15),lost,826,( -519405),KUNDAN SINGH,Independent
3632,West Bengal,Barrackpur(15),lost,757,( -519474),UDAY VEER CHOUDHURY,Independent
3633,West Bengal,Barrackpur(15),lost,721,( -519510),AMIT KUMAR CHOUBEY,Independent
3634,West Bengal,Barrackpur(15),,11082,( -509149),NOTA,None of the Above
3635,West Bengal,Krishnanagar(12),won,628789,(+ 56705),MAHUA MOITRA,All India Trinamool Congress
3636,West Bengal,Krishnanagar(12),lost,572084,( -56705),AMRITA ROY,Bharatiya Janata Party
3637,West Bengal,Krishnanagar(12),lost,180201,( -448588),S.M. SADI,Communist Party of India  (Marxist)
3638,West Bengal,Krishnanagar(12),lost,8671,( -620118),SANJIT BISWAS,Independent
3639,West Bengal,Krishnanagar(12),lost,5100,( -623689),AMAL CHANDRA SARKAR,Bahujan Samaj Party
3640,West Bengal,Krishnanagar(12),lost,5069,( -623720),NEMAI BISWAS,Independent
3641,West Bengal,Krishnanagar(12),lost,5065,( -623724),SOURAV HELA,Independent
3642,West Bengal,Krishnanagar(12),lost,4298,( -624491),AFROJA KHATUN MONDAL,All India Secular Front
3643,West Bengal,Krishnanagar(12),lost,3622,( -625167),ISMAT ARA MONDAL,Socialist Unity Centre Of India (COMMUNIST)
3644,West Bengal,Krishnanagar(12),lost,3294,( -625495),MD. MUKTAR SHAIKH,Independent
3645,West Bengal,Krishnanagar(12),lost,2708,( -626081),ALIK KUMAR KUNDU,Independent
3646,West Bengal,Krishnanagar(12),,6811,( -621978),NOTA,None of the Above
3647,West Bengal,Murshidabad(11),won,682442,(+ 164215),ABU TAHER KHAN,All India Trinamool Congress
3648,West Bengal,Murshidabad(11),lost,518227,( -164215),MD SALIM,Communist Party of India  (Marxist)
3649,West Bengal,Murshidabad(11),lost,292031,( -390411),GOURI SANKAR GHOSH,Bharatiya Janata Party
3650,West Bengal,Murshidabad(11),lost,12370,( -670072),HABIB SAIKH,All India Secular Front
3651,West Bengal,Murshidabad(11),lost,5534,( -676908),ASIM RAY,Bhartiya Lokmat Rashtrwadi Party
3652,West Bengal,Murshidabad(11),lost,4156,( -678286),SAHABUDDIN MALLIK,Independent
3653,West Bengal,Murshidabad(11),lost,4065,( -678377),RAFIKUL ISLAM,Independent
3654,West Bengal,Murshidabad(11),lost,3426,( -679016),MAHAFUJUL ALAM,Socialist Unity Centre Of India (COMMUNIST)
3655,West Bengal,Murshidabad(11),lost,3293,( -679149),MD TAIEDUL ISLAM,Social Democratic Party Of India
3656,West Bengal,Murshidabad(11),lost,1539,( -680903),DHANANJOY SARKAR,Independent
3657,West Bengal,Murshidabad(11),lost,1206,( -681236),KRISHNA PROSAD BISWAS,Independent
3658,West Bengal,Murshidabad(11),,13270,( -669172),NOTA,None of the Above
3659,West Bengal,Baharampur(10),won,524516,(+ 85022),PATHAN YUSUF,All India Trinamool Congress
3660,West Bengal,Baharampur(10),lost,439494,( -85022),ADHIR RANJAN CHOWDHURY,Indian National Congress
3661,West Bengal,Baharampur(10),lost,371885,( -152631),DR. NIRMAL KUMAR SAHA,Bharatiya Janata Party
3662,West Bengal,Baharampur(10),lost,18527,( -505989),SAMIRAN DAS,Independent
3663,West Bengal,Baharampur(10),lost,6396,( -518120),SWAPAN KUMAR MANDAL,Independent
3664,West Bengal,Baharampur(10),lost,4238,( -520278),SANTOSH BISWAS,Bahujan Samaj Party
3665,West Bengal,Baharampur(10),lost,3062,( -521454),BISWAMVOIR KALITA,Independent
3666,West Bengal,Baharampur(10),lost,2250,( -522266),SOMNATH PAUL,All India Arya Mahasabha
3667,West Bengal,Baharampur(10),lost,1571,( -522945),RUNA LAILA,Social Democratic Party Of India
3668,West Bengal,Baharampur(10),lost,1418,( -523098),ABHIJIT MANDAL,Socialist Unity Centre Of India (COMMUNIST)
3669,West Bengal,Baharampur(10),lost,1110,( -523406),ASHIS DAS,Independent
3670,West Bengal,Baharampur(10),lost,856,( -523660),ADHIR SWARNAKAR,Independent
3671,West Bengal,Baharampur(10),lost,749,( -523767),AJIT KUMAR MANDAL,Independent
3672,West Bengal,Baharampur(10),lost,729,( -523787),MANIK KUMAR DAS,Jai Prakash Janata Dal
3673,West Bengal,Baharampur(10),lost,484,( -524032),AABDUSA SATTAR SEKH,Indian National Socialistic Action Forces
3674,West Bengal,Baharampur(10),,7485,( -517031),NOTA,None of the Above
3675,West Bengal,Jangipur(9),won,544427,(+ 116637),KHALILUR RAHAMAN,All India Trinamool Congress
3676,West Bengal,Jangipur(9),lost,427790,( -116637),MURTOJA HOSSAIN BOKUL,Indian National Congress
3677,West Bengal,Jangipur(9),lost,340814,( -203613),DHANANJAY GHOSH,Bharatiya Janata Party
3678,West Bengal,Jangipur(9),lost,7500,( -536927),REJAUL MONDAL,Independent
3679,West Bengal,Jangipur(9),lost,6858,( -537569),SAJAHAN BISWAS,All India Secular Front
3680,West Bengal,Jangipur(9),lost,5671,( -538756),MUKTIPADA KONAI,Independent
3681,West Bengal,Jangipur(9),lost,3951,( -540476),ASHISH BHUIMALI,Independent
3682,West Bengal,Jangipur(9),lost,3515,( -540912),MD SARWARUL ISLAM SARKAR,Bahujan Samaj Party
3683,West Bengal,Jangipur(9),lost,3496,( -540931),MD SAHABUDDIN,Social Democratic Party Of India
3684,West Bengal,Jangipur(9),lost,1950,( -542477),SAMIRUDDIN,Socialist Unity Centre Of India (COMMUNIST)
3685,West Bengal,Jangipur(9),lost,1931,( -542496),PARIMAL GHOSH,Independent
3686,West Bengal,Jangipur(9),lost,1700,( -542727),SANUAR ALI,Bharatheeya Jawan Kisan Party
3687,West Bengal,Jangipur(9),lost,1532,( -542895),RAJIB CHATTERJEE,Bhartiya Lokmat Rashtrwadi Party
3688,West Bengal,Jangipur(9),lost,1340,( -543087),MD ASADUL BISWAS,Independent
3689,West Bengal,Jangipur(9),,17158,( -527269),NOTA,None of the Above
3690,West Bengal,Coochbehar(1),won,788375,(+ 39250),JAGADISH CHANDRA BARMA BASUNIA,All India Trinamool Congress
3691,West Bengal,Coochbehar(1),lost,749125,( -39250),NISITH PRAMANIK,Bharatiya Janata Party
3692,West Bengal,Coochbehar(1),lost,30267,( -758108),NITISH CHANDRA ROY,All India Forward Bloc
3693,West Bengal,Coochbehar(1),lost,10679,( -777696),PIYA ROY CHOWDHURY,Indian National Congress
3694,West Bengal,Coochbehar(1),lost,9467,( -778908),HAREKRISHNA SARKAR,Independent
3695,West Bengal,Coochbehar(1),lost,2993,( -785382),KAMALESH BARMAN,Independent
3696,West Bengal,Coochbehar(1),lost,2724,( -785651),NABI BARMAN,Independent
3697,West Bengal,Coochbehar(1),lost,2599,( -785776),SUBODH BARMAN,Independent
3698,West Bengal,Coochbehar(1),lost,2468,( -785907),DILIP CHANDRA BARMAN,Socialist Unity Centre Of India (COMMUNIST)
3699,West Bengal,Coochbehar(1),lost,2097,( -786278),PURNA MOHAN ROY,Bahujan Samaj Party
3700,West Bengal,Coochbehar(1),lost,2072,( -786303),BIDHAN DAS,Independent
3701,West Bengal,Coochbehar(1),lost,1606,( -786769),KISHORE RAY,Independent
3702,West Bengal,Coochbehar(1),lost,1518,( -786857),PRADIP KUMAR ROY,Kamatapur People’s Party (United)
3703,West Bengal,Coochbehar(1),lost,1495,( -786880),AMAL DAS,Independent
3704,West Bengal,Coochbehar(1),,15563,( -772812),NOTA,None of the Above
3705,West Bengal,Purulia(35),won,578489,(+ 17079),JYOTIRMAY SINGH MAHATO,Bharatiya Janata Party
3706,West Bengal,Purulia(35),lost,561410,( -17079),SHANTIRAM MAHATO,All India Trinamool Congress
3707,West Bengal,Purulia(35),lost,129157,( -449332),NEPAL CHANDRA MAHATO,Indian National Congress
3708,West Bengal,Purulia(35),lost,98658,( -479831),AJIT PRASAD MAHATA,Independent
3709,West Bengal,Purulia(35),lost,14572,( -563917),DHIRENDRANATH MAHATO,All India Forward Bloc
3710,West Bengal,Purulia(35),lost,7760,( -570729),SONTOSH RAJOWARD,Bahujan Samaj Party
3711,West Bengal,Purulia(35),lost,6109,( -572380),SUSMITA MAHATO,Socialist Unity Centre Of India (COMMUNIST)
3712,West Bengal,Purulia(35),lost,4809,( -573680),GORISH ROY,Independent
3713,West Bengal,Purulia(35),lost,4512,( -573977),BHAGWAT DASS SHASTRI,Independent
3714,West Bengal,Purulia(35),lost,3877,( -574612),ASIT BARAN MAHATO,Party for Democratic Socialism
3715,West Bengal,Purulia(35),lost,3418,( -575071),PIJUSH KANTI RAJAK,Independent
3716,West Bengal,Purulia(35),lost,3318,( -575171),AJIT MAHATO,Independent
3717,West Bengal,Purulia(35),,17929,( -560560),NOTA,None of the Above
3718,West Bengal,Kanthi(31),won,763195,(+ 47764),ADHIKARI SOUMENDU,Bharatiya Janata Party
3719,West Bengal,Kanthi(31),lost,715431,( -47764),UTTAM BARIK SON OF LATE BIRENDRA BARIK,All India Trinamool Congress
3720,West Bengal,Kanthi(31),lost,31122,( -732073),URBASI BANERJEE,Indian National Congress
3721,West Bengal,Kanthi(31),lost,5654,( -757541),BIDESH BASU MAITY,Independent
3722,West Bengal,Kanthi(31),lost,2529,( -760666),MANAS PRADHAN,Socialist Unity Centre Of India (COMMUNIST)
3723,West Bengal,Kanthi(31),lost,1998,( -761197),UTTAM BARIK SON OF LATE NARAYAN BARIK,Independent
3724,West Bengal,Kanthi(31),lost,1804,( -761391),MAKHAN LAL MAHAPATRA,Bahujan Samaj Party
3725,West Bengal,Kanthi(31),lost,586,( -762609),MD AHAMADULLAH KHAN,Independent
3726,West Bengal,Kanthi(31),lost,544,( -762651),ARJUN KUMAR MAITY,Independent
3727,West Bengal,Kanthi(31),,8134,( -755061),NOTA,None of the Above
3728,West Bengal,Tamluk(30),won,765584,(+ 77733),ABHIJIT GANGOPADHYAY,Bharatiya Janata Party
3729,West Bengal,Tamluk(30),lost,687851,( -77733),DEBANGSHU BHATTACHARYA,All India Trinamool Congress
3730,West Bengal,Tamluk(30),lost,85389,( -680195),SAYAN BANERJEE,Communist Party of India  (Marxist)
3731,West Bengal,Tamluk(30),lost,12339,( -753245),MOHIUDDIN AHMED MAHI,All India Secular Front
3732,West Bengal,Tamluk(30),lost,6014,( -759570),SURYANEEL DAS,Independent
3733,West Bengal,Tamluk(30),lost,5682,( -759902),NARAYAN CHANDRA NAYAK,Socialist Unity Centre Of India (COMMUNIST)
3734,West Bengal,Tamluk(30),lost,3754,( -761830),SABITRI BISHAI,Bahujan Samaj Party
3735,West Bengal,Tamluk(30),lost,1467,( -764117),DEBAPRASAD JANA,Independent
3736,West Bengal,Tamluk(30),lost,974,( -764610),KALIPADA DAS,Independent
3737,West Bengal,Tamluk(30),,8265,( -757319),NOTA,None of the Above
3738,West Bengal,Bangaon(14),won,719505,(+ 73693),SHANTANU THAKUR,Bharatiya Janata Party
3739,West Bengal,Bangaon(14),lost,645812,( -73693),BISWAJIT DAS S/O LATE BIJAY KRISHNA DAS,All India Trinamool Congress
3740,West Bengal,Bangaon(14),lost,65176,( -654329),PRADIPKUMAR BISWAS,Indian National Congress
3741,West Bengal,Bangaon(14),lost,19216,( -700289),DIPAK MAJUMDAR,All India Secular Front
3742,West Bengal,Bangaon(14),lost,9653,( -709852),SUJATA BAIRAGI,Independent
3743,West Bengal,Bangaon(14),lost,7833,( -711672),JASHAJIT SARKHEL,Independent
3744,West Bengal,Bangaon(14),lost,5935,( -713570),CHANDAN MALLICK,Bahujan Samaj Party
3745,West Bengal,Bangaon(14),lost,2411,( -717094),PRANITA MANDAL,Independent
3746,West Bengal,Bangaon(14),lost,2354,( -717151),SUMITA PODDAR,Independent
3747,West Bengal,Bangaon(14),lost,2248,( -717257),BISWAJIT DAS S/O LATE BALARAM DAS,Independent
3748,West Bengal,Bangaon(14),lost,2169,( -717336),PATIT PABAN MANDAL,Socialist Unity Centre Of India (COMMUNIST)
3749,West Bengal,Bangaon(14),lost,1565,( -717940),SAMARESH BISWAS,Party for Democratic Socialism
3750,West Bengal,Bangaon(14),lost,1272,( -718233),BISWAJIT DAS,Independent
3751,West Bengal,Bangaon(14),lost,691,( -718814),KALYAN SARKAR,Independent
3752,West Bengal,Bangaon(14),lost,583,( -718922),SUBRATA BISWAS,Guruchand Sena Dal
3753,West Bengal,Bangaon(14),,6685,( -712820),NOTA,None of the Above
3754,West Bengal,Ranaghat(13),won,782396,(+ 186899),JAGANNATH SARKAR,Bharatiya Janata Party
3755,West Bengal,Ranaghat(13),lost,595497,( -186899),MUKUT MANI ADHIKARI,All India Trinamool Congress
3756,West Bengal,Ranaghat(13),lost,123810,( -658586),ALAKESH DAS,Communist Party of India  (Marxist)
3757,West Bengal,Ranaghat(13),lost,9392,( -773004),BIPLAB BISWAS,Bahujan Samaj Party
3758,West Bengal,Ranaghat(13),lost,8239,( -774157),PARESH HALDAR,Socialist Unity Centre Of India (COMMUNIST)
3759,West Bengal,Ranaghat(13),lost,5861,( -776535),JAGANNATH SARKAR,Independent
3760,West Bengal,Ranaghat(13),lost,5544,( -776852),SHYAMAL KUMAR MALLICK,Independent
3761,West Bengal,Ranaghat(13),,9893,( -772503),NOTA,None of the Above
3762,West Bengal,Maldaha Uttar(7),won,527023,(+ 77708),KHAGEN MURMU,Bharatiya Janata Party
3763,West Bengal,Maldaha Uttar(7),lost,449315,( -77708),PRASUN BANERJEE,All India Trinamool Congress
3764,West Bengal,Maldaha Uttar(7),lost,384764,( -142259),ALAM MOSTAQUE,Indian National Congress
3765,West Bengal,Maldaha Uttar(7),lost,8683,( -518340),JATISH KISKU,Independent
3766,West Bengal,Maldaha Uttar(7),lost,7933,( -519090),MONATAN HEMBRAM,Independent
3767,West Bengal,Maldaha Uttar(7),lost,7237,( -519786),SWAPAN MAHATO,Independent
3768,West Bengal,Maldaha Uttar(7),lost,5632,( -521391),SANATAN RISHI,Bahujan Samaj Party
3769,West Bengal,Maldaha Uttar(7),lost,4637,( -522386),JOSEPH KISKU,Ambedkarite Party of India
3770,West Bengal,Maldaha Uttar(7),lost,3538,( -523485),MONJU HEMBROM,Independent
3771,West Bengal,Maldaha Uttar(7),lost,3375,( -523648),MD FARUQUE HOSSAIN,Independent
3772,West Bengal,Maldaha Uttar(7),lost,3164,( -523859),SOMNATH DAS,Bharatiya Nyay-Adhikar Raksha Party
3773,West Bengal,Maldaha Uttar(7),lost,2019,( -525004),SUBHASH BARMAN,Kamatapur People’s Party (United)
3774,West Bengal,Maldaha Uttar(7),lost,1293,( -525730),KALICHARAN ROY,Socialist Unity Centre Of India (COMMUNIST)
3775,West Bengal,Maldaha Uttar(7),lost,1092,( -525931),MD SOHEL,All India Secular Front
3776,West Bengal,Maldaha Uttar(7),lost,596,( -526427),NARESH PAL,Jan Sangh Party
3777,West Bengal,Maldaha Uttar(7),,7288,( -519735),NOTA,None of the Above
3778,West Bengal,Balurghat(6),won,574996,(+ 10386),SUKANTA MAJUMDAR,Bharatiya Janata Party
3779,West Bengal,Balurghat(6),lost,564610,( -10386),BIPLAB MITRA,All India Trinamool Congress
3780,West Bengal,Balurghat(6),lost,54217,( -520779),JOYDEV KUMAR SIDDHANTA,Revolutionary Socialist Party
3781,West Bengal,Balurghat(6),lost,6822,( -568174),HAKIM MURMU,Independent
3782,West Bengal,Balurghat(6),lost,6393,( -568603),BAKHTIAR MUJAHIT SAHANI,Independent
3783,West Bengal,Balurghat(6),lost,5593,( -569403),RANENDRA NATH MALI,Independent
3784,West Bengal,Balurghat(6),lost,5145,( -569851),ANTA HANSDA,Bahujan Samaj Party
3785,West Bengal,Balurghat(6),lost,3465,( -571531),BISWANATH MURMU,Ambedkarite Party of India
3786,West Bengal,Balurghat(6),lost,2268,( -572728),MOZAMMEL HAQUE,All India Secular Front
3787,West Bengal,Balurghat(6),lost,2106,( -572890),NAROTTAM SAHA,Independent
3788,West Bengal,Balurghat(6),lost,1967,( -573029),MD. SARWARDI,Bhumiputra United Party
3789,West Bengal,Balurghat(6),lost,1387,( -573609),BIRENDRA NATH MAHANTA,Socialist Unity Centre Of India (COMMUNIST)
3790,West Bengal,Balurghat(6),lost,902,( -574094),RUBEL SARKAR,Kamatapur People’s Party (United)
3791,West Bengal,Balurghat(6),,7437,( -567559),NOTA,None of the Above
3792,West Bengal,Raiganj(5),won,560897,(+ 68197),KARTICK CHANDRA PAUL,Bharatiya Janata Party
3793,West Bengal,Raiganj(5),lost,492700,( -68197),KALYANI KRISHNA,All India Trinamool Congress
3794,West Bengal,Raiganj(5),lost,263273,( -297624),ALI IMRAN RAMZ,Indian National Congress
3795,West Bengal,Raiganj(5),lost,8264,( -552633),DWARIK NATH BARMAN,Independent
3796,West Bengal,Raiganj(5),lost,6005,( -554892),MD NAZIR AKHTAR,Independent
3797,West Bengal,Raiganj(5),lost,5868,( -555029),KALIDASH MURMU,Independent
3798,West Bengal,Raiganj(5),lost,4117,( -556780),SWAPAN KUMAR DAS,Bahujan Samaj Party
3799,West Bengal,Raiganj(5),lost,3358,( -557539),RUPAK ROY,Independent
3800,West Bengal,Raiganj(5),lost,3355,( -557542),FAKIRA MD,Independent
3801,West Bengal,Raiganj(5),lost,3334,( -557563),DURGA MURMU,Ambedkarite Party of India
3802,West Bengal,Raiganj(5),lost,3114,( -557783),PALASH CHANDRA MAHATO,Independent
3803,West Bengal,Raiganj(5),lost,1946,( -558951),ALI IMRAN,Independent
3804,West Bengal,Raiganj(5),lost,1763,( -559134),MD ABRAHIM HOQUE,Independent
3805,West Bengal,Raiganj(5),lost,1462,( -559435),SHAHIDUR RAHMAN,North Bengal People’s Party
3806,West Bengal,Raiganj(5),lost,1330,( -559567),SHARANYA DUTTA,Independent
3807,West Bengal,Raiganj(5),lost,1271,( -559626),SANATAN DUTTA,Socialist Unity Centre Of India (COMMUNIST)
3808,West Bengal,Raiganj(5),lost,1251,( -559646),TAPAN BARMAN,Jai Prakash Janata Dal
3809,West Bengal,Raiganj(5),lost,1190,( -559707),ANWARUL HOQUE,Independent
3810,West Bengal,Raiganj(5),lost,1051,( -559846),RAMESH CHANDRA SINHA,Bhumiputra United Party
3811,West Bengal,Raiganj(5),lost,982,( -559915),AL MONOWARA BEGAM,India Manus Party
3812,West Bengal,Raiganj(5),,1940,( -558957),NOTA,None of the Above
3813,West Bengal,Darjeeling(4),won,679331,(+ 178525),RAJU BISTA,Bharatiya Janata Party
3814,West Bengal,Darjeeling(4),lost,500806,( -178525),GOPAL LAMA,All India Trinamool Congress
3815,West Bengal,Darjeeling(4),lost,83374,( -595957),MUNISH TAMANG,Indian National Congress
3816,West Bengal,Darjeeling(4),lost,13674,( -665657),BANDANA RAI,Independent
3817,West Bengal,Darjeeling(4),lost,7447,( -671884),BISHNU PRASAD SHARMA,Independent
3818,West Bengal,Darjeeling(4),lost,6395,( -672936),BHUPENDRA LEPCHA,Independent
3819,West Bengal,Darjeeling(4),lost,4641,( -674690),ATASI BISWAS,Kisan Mazdoor Sangharsh Party
3820,West Bengal,Darjeeling(4),lost,2747,( -676584),PRADHAN MARDI,Ambedkarite Party of India
3821,West Bengal,Darjeeling(4),lost,2337,( -676994),KHUSHI RANJAN MANDAL,Independent
3822,West Bengal,Darjeeling(4),lost,2079,( -677252),KALICHARAN BARMAN,Independent
3823,West Bengal,Darjeeling(4),lost,1853,( -677478),QAMRUL HAQUE,North Bengal People’s Party
3824,West Bengal,Darjeeling(4),lost,1762,( -677569),BUDHARU ROY,Kamatapur People’s Party (United)
3825,West Bengal,Darjeeling(4),lost,1614,( -677717),SHAHRIAR ALAM,Socialist Unity Centre Of India (COMMUNIST)
3826,West Bengal,Darjeeling(4),lost,1331,( -678000),SUBODH PAKHRIN,Gorkha Rashtriya Congress
3827,West Bengal,Darjeeling(4),,18021,( -661310),NOTA,None of the Above
3828,West Bengal,Jalpaiguri(3),won,766568,(+ 86693),DR JAYANTA KUMAR ROY,Bharatiya Janata Party
3829,West Bengal,Jalpaiguri(3),lost,679875,( -86693),NIRMAL CHANDRA ROY,All India Trinamool Congress
3830,West Bengal,Jalpaiguri(3),lost,74092,( -692476),DEBRAJ BARMAN,Communist Party of India  (Marxist)
3831,West Bengal,Jalpaiguri(3),lost,9907,( -756661),SHIPRA RAY HAKIM,Independent
3832,West Bengal,Jalpaiguri(3),lost,8566,( -758002),BINOD MALLICK,Bahujan Samaj Party
3833,West Bengal,Jalpaiguri(3),lost,5848,( -760720),HAREKRISHNA SARKAR,Independent
3834,West Bengal,Jalpaiguri(3),lost,4267,( -762301),MAHESWAR BARMAN,Independent
3835,West Bengal,Jalpaiguri(3),lost,3835,( -762733),RAM PRASAD MANDAL,Socialist Unity Centre Of India (COMMUNIST)
3836,West Bengal,Jalpaiguri(3),lost,2950,( -763618),MANABENDRA ROY,Kamatapur People’s Party (United)
3837,West Bengal,Jalpaiguri(3),lost,2517,( -764051),NIRODE CHANDRA ADHIKARY,Independent
3838,West Bengal,Jalpaiguri(3),lost,1927,( -764641),ADHIR CHANDRA BARMAN,Independent
3839,West Bengal,Jalpaiguri(3),lost,1189,( -765379),RANJIT BARMAN,Mulnibasi Party of India
3840,West Bengal,Jalpaiguri(3),,16848,( -749720),NOTA,None of the Above
3841,West Bengal,Alipurduars(2),won,695314,(+ 75447),MANOJ TIGGA,Bharatiya Janata Party
3842,West Bengal,Alipurduars(2),lost,619867,( -75447),PRAKASH CHIK BARAIK,All India Trinamool Congress
3843,West Bengal,Alipurduars(2),lost,39709,( -655605),MILI ORAON,Revolutionary Socialist Party
3844,West Bengal,Alipurduars(2),lost,12584,( -682730),PARIMAL ORAON,Independent
3845,West Bengal,Alipurduars(2),lost,11122,( -684192),ARJUN INDWAR,Independent
3846,West Bengal,Alipurduars(2),lost,6648,( -688666),MUNIB NARJINARY,Bahujan Samaj Party
3847,West Bengal,Alipurduars(2),lost,5695,( -689619),RAHUL MARAK,Kisan Mazdoor Sangharsh Party
3848,West Bengal,Alipurduars(2),lost,2787,( -692527),CHANDAN ORAON,Socialist Unity Centre Of India (COMMUNIST)
3849,West Bengal,Alipurduars(2),lost,2758,( -692556),BINAY MURMU,North Bengal People’s Party
3850,West Bengal,Alipurduars(2),lost,2055,( -693259),NRIPENDRA NARAYAN DEBKARJEE,Kamatapur People’s Party (United)
3851,West Bengal,Alipurduars(2),lost,1552,( -693762),BABITA BARA,Gana Suraksha Party
3852,West Bengal,Alipurduars(2),,21298,( -674016),NOTA,None of the Above
3853,Uttar Pradesh,Chandauli(76),won,474476,(+ 21565),BIRENDRA SINGH,Samajwadi Party
3854,Uttar Pradesh,Chandauli(76),lost,452911,( -21565),DR. MAHENDRA NATH  PANDEY,Bharatiya Janata Party
3855,Uttar Pradesh,Chandauli(76),lost,159903,( -314573),SATYENDRA KUMAR MAURYA,Bahujan Samaj Party
3856,Uttar Pradesh,Chandauli(76),lost,4032,( -470444),SHOBHANATH  PRAJAPATI,Bhagidari Party(P)
3857,Uttar Pradesh,Chandauli(76),lost,3096,( -471380),SHER SINGH,Yuga Thulasi Party
3858,Uttar Pradesh,Chandauli(76),lost,2969,( -471507),SANTOSH KUMAR,Independent
3859,Uttar Pradesh,Chandauli(76),lost,2762,( -471714),RAJESH VISHWAKARMA,Moulik Adhikar Party
3860,Uttar Pradesh,Chandauli(76),lost,2745,( -471731),ARVIND KUMAR PATEL,Sardar Patel Siddhant Party
3861,Uttar Pradesh,Chandauli(76),lost,2623,( -471853),SANJAY KUMAR SINHA,Jai Hind National Party
3862,Uttar Pradesh,Chandauli(76),lost,1977,( -472499),RAM GOVIND,Samajhdar Party
3863,Uttar Pradesh,Chandauli(76),,9005,( -465471),NOTA,None of the Above
3864,Uttar Pradesh,Ghazipur(75),won,539912,(+ 124861),AFZAL ANSARI,Samajwadi Party
3865,Uttar Pradesh,Ghazipur(75),lost,415051,( -124861),PARS NATH RAI,Bharatiya Janata Party
3866,Uttar Pradesh,Ghazipur(75),lost,164964,( -374948),UMESH KUMAR SINGH,Bahujan Samaj Party
3867,Uttar Pradesh,Ghazipur(75),lost,5074,( -534838),AJAY,Vishwa Kalyan Rashtriya Manav Samaj Party
3868,Uttar Pradesh,Ghazipur(75),lost,4616,( -535296),NUSRAT ANSARI,Independent
3869,Uttar Pradesh,Ghazipur(75),lost,3316,( -536596),ADITYA SHRIVASTAV,Yuga Thulasi Party
3870,Uttar Pradesh,Ghazipur(75),lost,3172,( -536740),SATYDEV YADAV,Independent
3871,Uttar Pradesh,Ghazipur(75),lost,3135,( -536777),GYANCHANDRA BIND,Independent
3872,Uttar Pradesh,Ghazipur(75),lost,2833,( -537079),RAMPRAVESH,Moulik Adhikar Party
3873,Uttar Pradesh,Ghazipur(75),lost,1956,( -537956),DHANANJAY KUMAR TIWARI,Bhartiya Lokvani Party
3874,Uttar Pradesh,Ghazipur(75),,9065,( -530847),NOTA,None of the Above
3875,Uttar Pradesh,Machhlishahr(74),won,451292,(+ 35850),PRIYA SAROJ,Samajwadi Party
3876,Uttar Pradesh,Machhlishahr(74),lost,415442,( -35850),BHOLANATH (B.P. SAROJ),Bharatiya Janata Party
3877,Uttar Pradesh,Machhlishahr(74),lost,157291,( -294001),KRIPA SHANKAR SAROJ,Bahujan Samaj Party
3878,Uttar Pradesh,Machhlishahr(74),lost,5807,( -445485),SHRAVAN KUMAR,Independent
3879,Uttar Pradesh,Machhlishahr(74),lost,5303,( -445989),URMILA,Samaj Parivartan Party
3880,Uttar Pradesh,Machhlishahr(74),lost,3693,( -447599),SUBAS,Independent
3881,Uttar Pradesh,Machhlishahr(74),lost,2718,( -448574),RANG BAHADUR,Independent
3882,Uttar Pradesh,Machhlishahr(74),lost,2365,( -448927),BRIJESH KUMAR SAROJ,Prabuddhwadi Bahujan Morcha
3883,Uttar Pradesh,Machhlishahr(74),lost,2067,( -449225),RAJENDRA PRASAD,Rashtra Uday Party
3884,Uttar Pradesh,Machhlishahr(74),lost,1716,( -449576),RAM MILAN,Sardar Patel Siddhant Party
3885,Uttar Pradesh,Machhlishahr(74),lost,1702,( -449590),KAMLESH,Azad Samaj Party
3886,Uttar Pradesh,Machhlishahr(74),lost,1364,( -449928),BRIJESH KUMAR,Prithviraj Janshakti Party
3887,Uttar Pradesh,Machhlishahr(74),,9303,( -441989),NOTA,None of the Above
3888,Uttar Pradesh,Jaunpur(73),won,509130,(+ 99335),BABU SINGH KUSHWAHA,Samajwadi Party
3889,Uttar Pradesh,Jaunpur(73),lost,409795,( -99335),KRIPASHANKAR SINGH,Bharatiya Janata Party
3890,Uttar Pradesh,Jaunpur(73),lost,157137,( -351993),SHYAM SINGH YADAV,Bahujan Samaj Party
3891,Uttar Pradesh,Jaunpur(73),lost,2755,( -506375),ASHOK SINGH,Samaj Vikas Kranti Party
3892,Uttar Pradesh,Jaunpur(73),lost,2750,( -506380),SARFARAZ AHMAD,Independent
3893,Uttar Pradesh,Jaunpur(73),lost,2235,( -506895),JIYALAL PRAJAPATI,Bhagidari Party(P)
3894,Uttar Pradesh,Jaunpur(73),lost,2094,( -507036),SHRIPATI MAURYA,Independent
3895,Uttar Pradesh,Jaunpur(73),lost,2003,( -507127),SHAH ALAM,Apna Dal (Kamerawadi)
3896,Uttar Pradesh,Jaunpur(73),lost,1633,( -507497),FULACHANDR,Moulik Adhikar Party
3897,Uttar Pradesh,Jaunpur(73),lost,1447,( -507683),KRIPASHANKAR C PANDEY,Independent
3898,Uttar Pradesh,Jaunpur(73),lost,1389,( -507741),GOVIND LAL,Independent
3899,Uttar Pradesh,Jaunpur(73),lost,1161,( -507969),RAM PYARE,Socialist Unity Centre Of India (COMMUNIST)
3900,Uttar Pradesh,Jaunpur(73),lost,1128,( -508002),NISHA PATEL,Sardar Patel Siddhant Party
3901,Uttar Pradesh,Jaunpur(73),lost,802,( -508328),BHARAT RAM,Pachchasi Parivartan Samaj Party
3902,Uttar Pradesh,Jaunpur(73),,6329,( -502801),NOTA,None of the Above
3903,Uttar Pradesh,Ballia(72),won,467068,(+ 43384),SANATAN PANDEY,Samajwadi Party
3904,Uttar Pradesh,Ballia(72),lost,423684,( -43384),NEERAJ SHEKHAR,Bharatiya Janata Party
3905,Uttar Pradesh,Ballia(72),lost,85205,( -381863),LALLAN SINGH YADAV,Bahujan Samaj Party
3906,Uttar Pradesh,Ballia(72),lost,5056,( -462012),SUMESHWAR,Independent
3907,Uttar Pradesh,Ballia(72),lost,3588,( -463480),SHESHNATH,Independent
3908,Uttar Pradesh,Ballia(72),lost,3181,( -463887),RAVI KANT SINGH ALIAS RAVI PATEL,Sardar Patel Siddhant Party
3909,Uttar Pradesh,Ballia(72),lost,2672,( -464396),RAMNIVAS GOND,Gondvana Gantantra Party
3910,Uttar Pradesh,Ballia(72),lost,2148,( -464920),SURYA BALI PRASAD,Aazad Samaj Party (Kanshi Ram)
3911,Uttar Pradesh,Ballia(72),lost,1878,( -465190),RANJANA,Independent
3912,Uttar Pradesh,Ballia(72),lost,1347,( -465721),ASHOK GUPTA,Independent
3913,Uttar Pradesh,Ballia(72),lost,1187,( -465881),MANINDR,Independent
3914,Uttar Pradesh,Ballia(72),lost,1161,( -465907),AVADHESH VERMA,Independent
3915,Uttar Pradesh,Ballia(72),lost,960,( -466108),PRAKASH KUMAR,Independent
3916,Uttar Pradesh,Ballia(72),,8187,( -458881),NOTA,None of the Above
3917,Uttar Pradesh,Salempur(71),won,405472,(+ 3573),RAMASHANKAR RAJBHAR,Samajwadi Party
3918,Uttar Pradesh,Salempur(71),lost,401899,( -3573),RAVINDAR KUSHAWAHA,Bharatiya Janata Party
3919,Uttar Pradesh,Salempur(71),lost,80599,( -324873),BHIM RAJBHAR,Bahujan Samaj Party
3920,Uttar Pradesh,Salempur(71),lost,8263,( -397209),JAIBAHADUR ALIAS JAIBAHADUR CHAUHAN,Janta Kranti Party (Rashtravadi)
3921,Uttar Pradesh,Salempur(71),lost,3892,( -401580),SHREENARAYAN MISHRA,Akhil Bhartiya Sarvjan Hit Party
3922,Uttar Pradesh,Salempur(71),lost,3215,( -402257),SADDAM HUSSAIN,Independent
3923,Uttar Pradesh,Salempur(71),lost,2532,( -402940),SHRIKRISHNA,Independent
3924,Uttar Pradesh,Salempur(71),lost,2156,( -403316),AMRESH THAKUR,Independent
3925,Uttar Pradesh,Salempur(71),lost,1785,( -403687),SURYA PRAKASH GAUTAM,Sardar Patel Siddhant Party
3926,Uttar Pradesh,Salempur(71),,7549,( -397923),NOTA,None of the Above
3927,Uttar Pradesh,Ghosi(70),won,503131,(+ 162943),RAJEEV RAI,Samajwadi Party
3928,Uttar Pradesh,Ghosi(70),lost,340188,( -162943),DR. ARVIND RAJBHAR,Suheldev Bharatiya Samaj Party
3929,Uttar Pradesh,Ghosi(70),lost,209404,( -293727),BALKRISHNA CHAUHAN,Bahujan Samaj Party
3930,Uttar Pradesh,Ghosi(70),lost,47527,( -455604),LILAWATI RAJBHAR,Moolniwasi Samaj Party
3931,Uttar Pradesh,Ghosi(70),lost,7077,( -496054),PAWAN KUMAR CHAUHAN,Independent
3932,Uttar Pradesh,Ghosi(70),lost,6993,( -496138),VINOD KUMAR RAI,Communist Party of India
3933,Uttar Pradesh,Ghosi(70),lost,4225,( -498906),ROLI GUPTA,Akhil Bhartiya Hamara Samaj Party
3934,Uttar Pradesh,Ghosi(70),lost,2347,( -500784),VIRENDRA,Rashtriya Jantantrik Bharat Vikas Party
3935,Uttar Pradesh,Ghosi(70),lost,2241,( -500890),VIJAY,Socialist Unity Centre Of India (COMMUNIST)
3936,Uttar Pradesh,Ghosi(70),lost,2239,( -500892),AWADHESH KUMAR CHAUHAN,Janta Kranti Party (Rashtravadi)
3937,Uttar Pradesh,Ghosi(70),lost,1921,( -501210),SATISH CHAND PRAJAPATI FAUJI,Samajhdar Party
3938,Uttar Pradesh,Ghosi(70),lost,1905,( -501226),MADAN RAJBHAR,Mang Samaj Party
3939,Uttar Pradesh,Ghosi(70),lost,1892,( -501239),SAUDAGER,Independent
3940,Uttar Pradesh,Ghosi(70),lost,1649,( -501482),RAJENDRA RAM,Independent
3941,Uttar Pradesh,Ghosi(70),lost,1573,( -501558),YAKUB ANSARI,Peace Party
3942,Uttar Pradesh,Ghosi(70),lost,1561,( -501570),PREM CHAND,Pragatisheel Manav Samaj Party
3943,Uttar Pradesh,Ghosi(70),lost,1473,( -501658),SANTOSH KUMAR GUPTA,Janlok Vikas Party
3944,Uttar Pradesh,Ghosi(70),lost,1204,( -501927),JYOTIRMA PATHAK,Independent
3945,Uttar Pradesh,Ghosi(70),lost,1170,( -501961),BADRI NATH,Independent
3946,Uttar Pradesh,Ghosi(70),lost,1117,( -502014),PREMCHAND NAYAK,Independent
3947,Uttar Pradesh,Ghosi(70),lost,885,( -502246),RAMNARESH YADAV,Jan Raajya Party
3948,Uttar Pradesh,Ghosi(70),lost,857,( -502274),RAJIV KUMAR SINGH,Independent
3949,Uttar Pradesh,Ghosi(70),lost,841,( -502290),ISHWAR DAYAL SINGH SETH,Bhartiya Sabka Dal
3950,Uttar Pradesh,Ghosi(70),lost,818,( -502313),PRAGYESH KUMAR,Independent
3951,Uttar Pradesh,Ghosi(70),lost,773,( -502358),RAMVACHAN,Sardar Patel Siddhant Party
3952,Uttar Pradesh,Ghosi(70),lost,737,( -502394),GOPAL SINGH,Azad Adhikar Sena
3953,Uttar Pradesh,Ghosi(70),lost,730,( -502401),RAJENDRA AGRAWAL,Independent
3954,Uttar Pradesh,Ghosi(70),lost,594,( -502537),ISMAIL ANSARI,Aawami Pichhada Party
3955,Uttar Pradesh,Ghosi(70),,3518,( -499613),NOTA,None of the Above
3956,Uttar Pradesh,Azamgarh(69),won,508239,(+ 161035),DHARMENDRA YADAV,Samajwadi Party
3957,Uttar Pradesh,Azamgarh(69),lost,347204,( -161035),DINESH LAL YADAV “NIRAHUA”,Bharatiya Janata Party
3958,Uttar Pradesh,Azamgarh(69),lost,179839,( -328400),MASHHOD SABEEHA ANSARI,Bahujan Samaj Party
3959,Uttar Pradesh,Azamgarh(69),lost,3042,( -505197),RAVINDRA NATH SHARMA,Moulik Adhikar Party
3960,Uttar Pradesh,Azamgarh(69),lost,2491,( -505748),PARAS YADAV,Jan Raajya Party
3961,Uttar Pradesh,Azamgarh(69),lost,2232,( -506007),SHASHIDHAR,Independent
3962,Uttar Pradesh,Azamgarh(69),lost,1905,( -506334),MAHENDRA NATH YADAV,Moolniwasi Samaj Party
3963,Uttar Pradesh,Azamgarh(69),lost,1735,( -506504),VIJAY KUMAR,Independent
3964,Uttar Pradesh,Azamgarh(69),lost,1599,( -506640),PANKAJ KUMAR YADAV,Independent
3965,Uttar Pradesh,Azamgarh(69),,6234,( -502005),NOTA,None of the Above
3966,Uttar Pradesh,Lalganj(68),won,439959,(+ 115023),DAROGA PRASAD SAROJ,Samajwadi Party
3967,Uttar Pradesh,Lalganj(68),lost,324936,( -115023),NEELAM SONKER,Bharatiya Janata Party
3968,Uttar Pradesh,Lalganj(68),lost,210053,( -229906),INDU CHAUDHRI,Bahujan Samaj Party
3969,Uttar Pradesh,Lalganj(68),lost,12271,( -427688),GANGADEEN,Communist Party of India
3970,Uttar Pradesh,Lalganj(68),lost,4158,( -435801),BALINDAR,Janta Kranti Party (Rashtravadi)
3971,Uttar Pradesh,Lalganj(68),lost,2626,( -437333),SUSHMITA SAROJ,Independent
3972,Uttar Pradesh,Lalganj(68),lost,2341,( -437618),RAM PYARE SHARAN VIJAITA,Independent
3973,Uttar Pradesh,Lalganj(68),,7094,( -432865),NOTA,None of the Above
3974,Uttar Pradesh,Sant Kabir Nagar(62),won,498695,(+ 92170),LAXMIKANT PAPPU NISHAD,Samajwadi Party
3975,Uttar Pradesh,Sant Kabir Nagar(62),lost,406525,( -92170),PRAVIN KUMAR NISHAD,Bharatiya Janata Party
3976,Uttar Pradesh,Sant Kabir Nagar(62),lost,150812,( -347883),NADEEM ASHRAF,Bahujan Samaj Party
3977,Uttar Pradesh,Sant Kabir Nagar(62),lost,5140,( -493555),DHEERAJ SRIVASTAV,Pragatisheel Samaj Party
3978,Uttar Pradesh,Sant Kabir Nagar(62),lost,4509,( -494186),RAM KRISHNA DWIVEDI,Independent
3979,Uttar Pradesh,Sant Kabir Nagar(62),lost,4358,( -494337),SATYVANT PRATAP SINGH,Independent
3980,Uttar Pradesh,Sant Kabir Nagar(62),lost,3595,( -495100),KULDEEP,Sardar Patel Siddhant Party
3981,Uttar Pradesh,Sant Kabir Nagar(62),lost,2544,( -496151),MITRASEN,Independent
3982,Uttar Pradesh,Sant Kabir Nagar(62),lost,2239,( -496456),RAJENDRA YADAV URF COLONEL SAHAB,Sarvjan Awaz Party
3983,Uttar Pradesh,Sant Kabir Nagar(62),lost,1850,( -496845),ANAND KUMAR GAUTAM,Independent
3984,Uttar Pradesh,Sant Kabir Nagar(62),lost,1708,( -496987),SUBHASH CHANDRA DUBEY,Naki Bharatiya Ekta Party
3985,Uttar Pradesh,Sant Kabir Nagar(62),,9227,( -489468),NOTA,None of the Above
3986,Uttar Pradesh,Basti(61),won,527005,(+ 100994),RAM PRASAD CHAUDHARY,Samajwadi Party
3987,Uttar Pradesh,Basti(61),lost,426011,( -100994),HARISH CHANDRA ALIAS HARISH DWIVEDI,Bharatiya Janata Party
3988,Uttar Pradesh,Basti(61),lost,103301,( -423704),LAVKUSH PATEL,Bahujan Samaj Party
3989,Uttar Pradesh,Basti(61),lost,4627,( -522378),PANKAJ DUBEY,Log Party
3990,Uttar Pradesh,Basti(61),lost,3611,( -523394),PREM KUMAR,Moulik Adhikar Party
3991,Uttar Pradesh,Basti(61),lost,2988,( -524017),HAFIZ ALI,All India Forward Bloc
3992,Uttar Pradesh,Basti(61),lost,2645,( -524360),RAM KARAN GAUTAM,Independent
3993,Uttar Pradesh,Basti(61),lost,2557,( -524448),PRAMOD KUMAR,Independent
3994,Uttar Pradesh,Basti(61),lost,2364,( -524641),SHAILENDRA KUMAR,Bharat Mahaparivar Party
3995,Uttar Pradesh,Basti(61),,7761,( -519244),NOTA,None of the Above
3996,Uttar Pradesh,Shrawasti(58),won,511055,(+ 76673),RAM SHIROMANI VERMA,Samajwadi Party
3997,Uttar Pradesh,Shrawasti(58),lost,434382,( -76673),SAKET MISRA,Bharatiya Janata Party
3998,Uttar Pradesh,Shrawasti(58),lost,56251,( -454804),MUINUDDIN AHAMAD KHAN URF HAZI DADDAN KHAN,Bahujan Samaj Party
3999,Uttar Pradesh,Shrawasti(58),lost,15630,( -495425),AHMAD JIYA KHAN,Peace Party
4000,Uttar Pradesh,Shrawasti(58),lost,4011,( -507044),SHANTI DEVI,Independent
4001,Uttar Pradesh,Shrawasti(58),lost,3946,( -507109),SUJEET KUMAR,Independent
4002,Uttar Pradesh,Shrawasti(58),lost,2673,( -508382),YUGAL KISHOR SHUKLA,Aam Janta Party (India)
4003,Uttar Pradesh,Shrawasti(58),lost,2267,( -508788),KRISHNA KUMAR MAURYA,Samyak Party
4004,Uttar Pradesh,Shrawasti(58),lost,2113,( -508942),MALIK RAM,Independent
4005,Uttar Pradesh,Shrawasti(58),lost,1514,( -509541),ANIL KUMAR TIWARI,Independent
4006,Uttar Pradesh,Shrawasti(58),lost,1495,( -509560),HANUMAN PRASAD MISHRA,Kisan Mazdoor Sangharsh Party
4007,Uttar Pradesh,Shrawasti(58),lost,1319,( -509736),KUMARI GEETA GAUTAM,Rashtriya Janta Party
4008,Uttar Pradesh,Shrawasti(58),,9872,( -501183),NOTA,None of the Above
4009,Uttar Pradesh,Ambedkar Nagar(55),won,544959,(+ 137247),LALJI VERMA,Samajwadi Party
4010,Uttar Pradesh,Ambedkar Nagar(55),lost,407712,( -137247),RITESH PANDEY,Bharatiya Janata Party
4011,Uttar Pradesh,Ambedkar Nagar(55),lost,199499,( -345460),QAMAR HAYAT,Bahujan Samaj Party
4012,Uttar Pradesh,Ambedkar Nagar(55),lost,4331,( -540628),NEELAM SINGH,Moolniwasi Samaj Party
4013,Uttar Pradesh,Ambedkar Nagar(55),lost,3990,( -540969),SHABANA KHATOON,Peace Party
4014,Uttar Pradesh,Ambedkar Nagar(55),lost,3860,( -541099),JAVED AHMAD SIDDIQUI,Independent
4015,Uttar Pradesh,Ambedkar Nagar(55),lost,3413,( -541546),RAM NARESH PRAJAPATI,Bhagidari Party(P)
4016,Uttar Pradesh,Ambedkar Nagar(55),lost,1850,( -543109),VIVEK KUMAR,Bhartiya Shakti Chetna Party
4017,Uttar Pradesh,Ambedkar Nagar(55),,7448,( -537511),NOTA,None of the Above
4018,Uttar Pradesh,Faizabad(54),won,554289,(+ 54567),AWADHESH PRASAD,Samajwadi Party
4019,Uttar Pradesh,Faizabad(54),lost,499722,( -54567),LALLU SINGH,Bharatiya Janata Party
4020,Uttar Pradesh,Faizabad(54),lost,46407,( -507882),SACHIDANAND PANDEY,Bahujan Samaj Party
4021,Uttar Pradesh,Faizabad(54),lost,15367,( -538922),ARVIND SEN,Communist Party of India
4022,Uttar Pradesh,Faizabad(54),lost,3827,( -550462),SUNIL KUMAR BHATT,Independent
4023,Uttar Pradesh,Faizabad(54),lost,2666,( -551623),KANCHAN YADAV,Moulik Adhikar Party
4024,Uttar Pradesh,Faizabad(54),lost,2218,( -552071),AMBRISH DEV GUPTA,Bharat Mahaparivar Party
4025,Uttar Pradesh,Faizabad(54),lost,1780,( -552509),FAREED SALMANI,Independent
4026,Uttar Pradesh,Faizabad(54),lost,1717,( -552572),LAL MANI URF L.M. TRIPATHI (BHAI SAHAB),Independent
4027,Uttar Pradesh,Faizabad(54),lost,1638,( -552651),ANIL KUMAR RAVAT,Rashtriya Janshakti Samaj Party
4028,Uttar Pradesh,Faizabad(54),lost,1254,( -553035),JAGAT SINGH,Independent
4029,Uttar Pradesh,Faizabad(54),lost,1173,( -553116),BRAJENDRA DUTT TRIPATHI URF B. D. TRIPATHI,Adarshwaadi Congress Party
4030,Uttar Pradesh,Faizabad(54),lost,1067,( -553222),ARUN KUMAR,Independent
4031,Uttar Pradesh,Faizabad(54),,7536,( -546753),NOTA,None of the Above
4032,Uttar Pradesh,Kaushambi(50),won,509787,(+ 103944),PUSHPENDRA SAROJ,Samajwadi Party
4033,Uttar Pradesh,Kaushambi(50),lost,405843,( -103944),VINOD KUMAR SONKAR,Bharatiya Janata Party
4034,Uttar Pradesh,Kaushambi(50),lost,55858,( -453929),SHUBH NARAYAN,Bahujan Samaj Party
4035,Uttar Pradesh,Kaushambi(50),lost,5184,( -504603),PUSHPENDRA KUMAR SAROJ,Independent
4036,Uttar Pradesh,Kaushambi(50),lost,5131,( -504656),NARENDRA KUMAR,Apna Dal (Kamerawadi)
4037,Uttar Pradesh,Kaushambi(50),lost,4634,( -505153),SANJAY KUMAR,Independent
4038,Uttar Pradesh,Kaushambi(50),lost,3421,( -506366),RAJENDRA SONKAR URF PANNA BHAIYA,Independent
4039,Uttar Pradesh,Kaushambi(50),lost,2541,( -507246),PRADEEP KUMAR,Independent
4040,Uttar Pradesh,Kaushambi(50),lost,2013,( -507774),RAMESHWAR PRASAD,Bhartiya Shakti Chetna Party
4041,Uttar Pradesh,Kaushambi(50),lost,1950,( -507837),RAM ASREY,Manavtawadi Samaj Party
4042,Uttar Pradesh,Kaushambi(50),,12967,( -496820),NOTA,None of the Above
4043,Uttar Pradesh,Fatehpur(49),won,500328,(+ 33199),NARESH CHANDRA UTTAM PATEL,Samajwadi Party
4044,Uttar Pradesh,Fatehpur(49),lost,467129,( -33199),NIRANJAN JYOTI,Bharatiya Janata Party
4045,Uttar Pradesh,Fatehpur(49),lost,90970,( -409358),MANISH SINGH SACHAN,Bahujan Samaj Party
4046,Uttar Pradesh,Fatehpur(49),lost,7920,( -492408),BIRENDRA SINGH,Independent
4047,Uttar Pradesh,Fatehpur(49),lost,5219,( -495109),KAMLESH KUMAR SINGH,Parivartan Samaj Party
4048,Uttar Pradesh,Fatehpur(49),lost,4457,( -495871),PANKAJ AWASTHI,Independent
4049,Uttar Pradesh,Fatehpur(49),lost,4079,( -496249),RAMKISHOR,Rashtra Uday Party
4050,Uttar Pradesh,Fatehpur(49),lost,3336,( -496992),JITENDRA KUMAR MAURYA,Independent
4051,Uttar Pradesh,Fatehpur(49),lost,2726,( -497602),KULDEEP KUSHWAHA,Independent
4052,Uttar Pradesh,Fatehpur(49),lost,2654,( -497674),RAJ BAHADUR,Peoples Party of India (Democratic)
4053,Uttar Pradesh,Fatehpur(49),lost,2567,( -497761),NIRAJ KUMAR,Akhil Bhartiya Parivar Party
4054,Uttar Pradesh,Fatehpur(49),lost,2344,( -497984),RAM BIHARI,Bhartiya Shakti Chetna Party
4055,Uttar Pradesh,Fatehpur(49),lost,2033,( -498295),NEERAJ LODHI,Vikas Insaf Party
4056,Uttar Pradesh,Fatehpur(49),lost,1604,( -498724),JAY CHANDRA KUMAR,Vishwa Kalyan Rashtriya Manav Samaj Party
4057,Uttar Pradesh,Fatehpur(49),lost,1458,( -498870),RAJESH KUMAR PATEL,Sardar Patel Siddhant Party
4058,Uttar Pradesh,Fatehpur(49),,8120,( -492208),NOTA,None of the Above
4059,Uttar Pradesh,Banda(48),won,406567,(+ 71210),KRISHNA DEVI SHIVSHANKER PATEL,Samajwadi Party
4060,Uttar Pradesh,Banda(48),lost,335357,( -71210),R. K. SINGH PATEL,Bharatiya Janata Party
4061,Uttar Pradesh,Banda(48),lost,245745,( -160822),MAYANK DWIVEDI,Bahujan Samaj Party
4062,Uttar Pradesh,Banda(48),lost,9438,( -397129),RAMCHANDRA SARAS,Communist Party of India
4063,Uttar Pradesh,Banda(48),lost,7717,( -398850),PANCHA URF PANCHAMLAL,Bhagidari Party(P)
4064,Uttar Pradesh,Banda(48),lost,5907,( -400660),GULAB CHANDER BARMA,Rashtra Uday Party
4065,Uttar Pradesh,Banda(48),lost,5423,( -401144),RAMCHRAN,Independent
4066,Uttar Pradesh,Banda(48),lost,4382,( -402185),SURENDRA KUMAR,Swatantra Jantaraj Party
4067,Uttar Pradesh,Banda(48),lost,3350,( -403217),SHRIRAM SINGH GAUR,Bhartiya Shakti Chetna Party
4068,Uttar Pradesh,Banda(48),lost,2508,( -404059),DINESH KUMAR PATEL,Sardar Patel Siddhant Party
4069,Uttar Pradesh,Banda(48),lost,2361,( -404206),BABULAL,Log Party
4070,Uttar Pradesh,Banda(48),lost,2142,( -404425),PRAMOD AZAD,Apna Dal (Kamerawadi)
4071,Uttar Pradesh,Banda(48),,13235,( -393332),NOTA,None of the Above
4072,Uttar Pradesh,Hamirpur(47),won,490683,(+ 2629),AJENDRA SINGH LODHI,Samajwadi Party
4073,Uttar Pradesh,Hamirpur(47),lost,488054,( -2629),KUNWAR PUSHPENDRA SINGH CHANDEL,Bharatiya Janata Party
4074,Uttar Pradesh,Hamirpur(47),lost,94696,( -395987),NIRDOSH KUMAR DIXIT,Bahujan Samaj Party
4075,Uttar Pradesh,Hamirpur(47),lost,6407,( -484276),ANUPAM KUMAR TRIPATHI,Bhartiya Shakti Chetna Party
4076,Uttar Pradesh,Hamirpur(47),lost,4527,( -486156),BRIJESH KUMAR PAL,Rashtra Uday Party
4077,Uttar Pradesh,Hamirpur(47),lost,4320,( -486363),BHUVANENDRA NARAYAN SINGH,Independent
4078,Uttar Pradesh,Hamirpur(47),lost,3777,( -486906),SANTOSH KUMAR,Independent
4079,Uttar Pradesh,Hamirpur(47),lost,3607,( -487076),RAJESH SINGH,Independent
4080,Uttar Pradesh,Hamirpur(47),lost,2181,( -488502),SURESH KUMAR,Eklavya Samaj Party
4081,Uttar Pradesh,Hamirpur(47),lost,2003,( -488680),SANJIV KUMAR,Spashtwadi Jan Aadhar Party
4082,Uttar Pradesh,Hamirpur(47),lost,1591,( -489092),DHARMRAJ,Al-Hind Party
4083,Uttar Pradesh,Hamirpur(47),,13453,( -477230),NOTA,None of the Above
4084,Uttar Pradesh,Jalaun(45),won,530180,(+ 53898),NARAYAN DAS AHIRWAR,Samajwadi Party
4085,Uttar Pradesh,Jalaun(45),lost,476282,( -53898),BHANU PRATAP SINGH VERMA,Bharatiya Janata Party
4086,Uttar Pradesh,Jalaun(45),lost,100248,( -429932),SURESH CHANDRA GAUTAM,Bahujan Samaj Party
4087,Uttar Pradesh,Jalaun(45),lost,4673,( -525507),BRIJ MOHAN,Independent
4088,Uttar Pradesh,Jalaun(45),lost,3212,( -526968),NAGENDRA KUMAR,Bhartiya Shakti Chetna Party
4089,Uttar Pradesh,Jalaun(45),lost,3200,( -526980),PREMLATA VERMA,Independent
4090,Uttar Pradesh,Jalaun(45),,11154,( -519026),NOTA,None of the Above
4091,Uttar Pradesh,Kannauj(42),won,642292,(+ 170922),AKHILESH YADAV,Samajwadi Party
4092,Uttar Pradesh,Kannauj(42),lost,471370,( -170922),SUBRAT PATHAK,Bharatiya Janata Party
4093,Uttar Pradesh,Kannauj(42),lost,81639,( -560653),IMRAN BIN ZAFAR,Bahujan Samaj Party
4094,Uttar Pradesh,Kannauj(42),lost,4492,( -637800),ALOK VERMA,Rashtriya Shoshit Samaj Party
4095,Uttar Pradesh,Kannauj(42),lost,3267,( -639025),LALIT KUMARI,Independent
4096,Uttar Pradesh,Kannauj(42),lost,1733,( -640559),SINOD KUMAR,Independent
4097,Uttar Pradesh,Kannauj(42),lost,1464,( -640828),RAJ KATHERIA,Independent
4098,Uttar Pradesh,Kannauj(42),lost,1432,( -640860),BHANU PRATAP SINGH DOHRE,Independent
4099,Uttar Pradesh,Kannauj(42),lost,1151,( -641141),SHAILENDRA KUMAR,Bharatiya Kisan Parivartan Party
4100,Uttar Pradesh,Kannauj(42),lost,1062,( -641230),YADVENDRA KISHOR,Independent
4101,Uttar Pradesh,Kannauj(42),lost,801,( -641491),SUBHASH CHANDRA,All India Forward Bloc
4102,Uttar Pradesh,Kannauj(42),lost,739,( -641553),SUNIL,Bhartiya Shakti Chetna Party
4103,Uttar Pradesh,Kannauj(42),lost,560,( -641732),PRAMOD KUMAR YADAV,Bhartiya Krishak Dal
4104,Uttar Pradesh,Kannauj(42),lost,543,( -641749),PURUSHOTTAM TIWARI,Independent
4105,Uttar Pradesh,Kannauj(42),lost,470,( -641822),IRFAN ALI,Independent
4106,Uttar Pradesh,Kannauj(42),,4818,( -637474),NOTA,None of the Above
4107,Uttar Pradesh,Etawah(41),won,490747,(+ 58419),JITENDRA KUMAR DOHARE,Samajwadi Party
4108,Uttar Pradesh,Etawah(41),lost,432328,( -58419),DR RAM SHANKAR KATHERIA,Bharatiya Janata Party
4109,Uttar Pradesh,Etawah(41),lost,96541,( -394206),SARIKA SINGH BAGHEL,Bahujan Samaj Party
4110,Uttar Pradesh,Etawah(41),lost,2963,( -487784),SUNIL SHANKWAR ADVOCATE,Independent
4111,Uttar Pradesh,Etawah(41),lost,1708,( -489039),MULAYAM SINGH,Independent
4112,Uttar Pradesh,Etawah(41),lost,1657,( -489090),BHUVNESH KUMARI,Samyak Party
4113,Uttar Pradesh,Etawah(41),lost,1574,( -489173),VIVEK RAJ,Janta Samajwadi Party (Vivek Raj)
4114,Uttar Pradesh,Etawah(41),,6266,( -484481),NOTA,None of the Above
4115,Uttar Pradesh,Pratapgarh(39),won,441932,(+ 66206),SHIV PAL SINGH PATEL (DR. S P SINGH),Samajwadi Party
4116,Uttar Pradesh,Pratapgarh(39),lost,375726,( -66206),SANGAM LAL GUPTA,Bharatiya Janata Party
4117,Uttar Pradesh,Pratapgarh(39),lost,80144,( -361788),PRATHMESH MISHRA 'SENANI',Bahujan Samaj Party
4118,Uttar Pradesh,Pratapgarh(39),lost,5286,( -436646),SANDEEP SINGH,National Jan Dal
4119,Uttar Pradesh,Pratapgarh(39),lost,4991,( -436941),ARUN KUMAR PANDEY,Hindustan Samaj Party
4120,Uttar Pradesh,Pratapgarh(39),lost,4711,( -437221),SHIV RAM SHARMA,Moulik Adhikar Party
4121,Uttar Pradesh,Pratapgarh(39),lost,4138,( -437794),AMAR SINGH,Independent
4122,Uttar Pradesh,Pratapgarh(39),lost,3340,( -438592),SUNIL CHANDRA PAL,Rashtra Uday Party
4123,Uttar Pradesh,Pratapgarh(39),lost,2581,( -439351),AJEET PRATAP,Independent
4124,Uttar Pradesh,Pratapgarh(39),lost,2459,( -439473),VIJAY SINGH,Sanatan Sanskriti Raksha Dal
4125,Uttar Pradesh,Pratapgarh(39),lost,2429,( -439503),RISHI PATEL,Apna Dal (Kamerawadi)
4126,Uttar Pradesh,Pratapgarh(39),lost,1964,( -439968),MAHESH KUMAR PRAJAPATI,Samajhdar Party
4127,Uttar Pradesh,Pratapgarh(39),lost,1623,( -440309),DHANANJAY,Independent
4128,Uttar Pradesh,Pratapgarh(39),lost,1594,( -440338),GEETA DEVI,Bhartiya Lokmat Rashtrwadi Party
4129,Uttar Pradesh,Pratapgarh(39),lost,1327,( -440605),RAMSIDDH YADAV URF R.S.YADAV,Manavtawadi Samaj Party
4130,Uttar Pradesh,Pratapgarh(39),lost,1136,( -440796),SUNIL KUMAR MISHRA,Independent
4131,Uttar Pradesh,Pratapgarh(39),lost,1129,( -440803),SHANKAR SUMAN TIVARI,Independent
4132,Uttar Pradesh,Pratapgarh(39),lost,1116,( -440816),DURGESH KUMAR,Rastriya Atal Janta Party
4133,Uttar Pradesh,Pratapgarh(39),lost,1071,( -440861),RAM KUMAR YADAV,Socialist Unity Centre Of India (COMMUNIST)
4134,Uttar Pradesh,Pratapgarh(39),lost,1030,( -440902),SHIV PAL PATEL,Independent
4135,Uttar Pradesh,Pratapgarh(39),lost,993,( -440939),DHARMENDRA TIWARI,Log Party
4136,Uttar Pradesh,Pratapgarh(39),lost,971,( -440961),JOKHU PATEL,Sardar Patel Siddhant Party
4137,Uttar Pradesh,Pratapgarh(39),lost,851,( -441081),SHRAWAN KUMAR TRIPATHI,Independent
4138,Uttar Pradesh,Pratapgarh(39),lost,678,( -441254),DHYAN SINGH,Independent
4139,Uttar Pradesh,Pratapgarh(39),lost,674,( -441258),PRAMOD KUMAR,Independent
4140,Uttar Pradesh,Pratapgarh(39),lost,503,( -441429),MOHRAM ALI,Independent
4141,Uttar Pradesh,Pratapgarh(39),,2891,( -439041),NOTA,None of the Above
4142,Uttar Pradesh,Sultanpur(38),won,444330,(+ 43174),RAMBHUAL NISHAD,Samajwadi Party
4143,Uttar Pradesh,Sultanpur(38),lost,401156,( -43174),MANEKA SANJAY GANDHI,Bharatiya Janata Party
4144,Uttar Pradesh,Sultanpur(38),lost,163025,( -281305),UDRAJ VERMA,Bahujan Samaj Party
4145,Uttar Pradesh,Sultanpur(38),lost,4297,( -440033),ABDUL MABOOD,Apna Desh Party
4146,Uttar Pradesh,Sultanpur(38),lost,3387,( -440943),MOHAMMAD ASIF,Independent
4147,Uttar Pradesh,Sultanpur(38),lost,2909,( -441421),UDAYRAJ VERMA,Independent
4148,Uttar Pradesh,Sultanpur(38),lost,2311,( -442019),GIRISH LAL,Azad Party
4149,Uttar Pradesh,Sultanpur(38),lost,2090,( -442240),DR SHIV SHANKAR INDIAN,Most Backward Classes Of India
4150,Uttar Pradesh,Sultanpur(38),lost,1369,( -442961),JAY PRAKASH,Sardar Patel Siddhant Party
4151,Uttar Pradesh,Sultanpur(38),,8513,( -435817),NOTA,None of the Above
4152,Uttar Pradesh,Mohanlalganj(34),won,667869,(+ 70292),R.K. CHAUDHARY,Samajwadi Party
4153,Uttar Pradesh,Mohanlalganj(34),lost,597577,( -70292),KAUSHAL KISHORE,Bharatiya Janata Party
4154,Uttar Pradesh,Mohanlalganj(34),lost,88461,( -579408),RAJESH KUMAR,Bahujan Samaj Party
4155,Uttar Pradesh,Mohanlalganj(34),lost,2661,( -665208),MAHENDRA,Independent
4156,Uttar Pradesh,Mohanlalganj(34),lost,2627,( -665242),SUSHIL KUMAR,Independent
4157,Uttar Pradesh,Mohanlalganj(34),lost,1841,( -666028),RAMESH KUMAR,Independent
4158,Uttar Pradesh,Mohanlalganj(34),lost,1749,( -666120),SUNITA CHHEDA PASI,Aam Janta Party (India)
4159,Uttar Pradesh,Mohanlalganj(34),lost,1717,( -666152),S. L.SINGH,Peoples Party of India (Democratic)
4160,Uttar Pradesh,Mohanlalganj(34),lost,1655,( -666214),BRIJESH KUMAR VIKRAM,Rashtriya Samaj Paksha
4161,Uttar Pradesh,Mohanlalganj(34),lost,1414,( -666455),JITENDRA KUMAR,Independent
4162,Uttar Pradesh,Mohanlalganj(34),lost,1015,( -666854),SURAJ KUMAR,Sardar Patel Siddhant Party
4163,Uttar Pradesh,Mohanlalganj(34),,8866,( -659003),NOTA,None of the Above
4164,Uttar Pradesh,Dhaurahra(29),won,443743,(+ 4449),ANAND BHADAURIYA,Samajwadi Party
4165,Uttar Pradesh,Dhaurahra(29),lost,439294,( -4449),REKHA VERMA,Bharatiya Janata Party
4166,Uttar Pradesh,Dhaurahra(29),lost,185474,( -258269),SHYAM KISHOR AWASTHI,Bahujan Samaj Party
4167,Uttar Pradesh,Dhaurahra(29),lost,15900,( -427843),JANARDAN PRASAD,Communist Party of India
4168,Uttar Pradesh,Dhaurahra(29),lost,5023,( -438720),RAJESH KUMAR,Political Justice Party
4169,Uttar Pradesh,Dhaurahra(29),lost,3556,( -440187),ASHUTOSH PATHAK,Aam Janta Party (India)
4170,Uttar Pradesh,Dhaurahra(29),lost,2814,( -440929),SUDESH KUMAR,Lok Jan Sangharsh Party
4171,Uttar Pradesh,Dhaurahra(29),lost,2484,( -441259),SAMRENDRA KUMAR,Independent
4172,Uttar Pradesh,Dhaurahra(29),lost,2017,( -441726),VIJAY KUMAR TIWARI,Independent
4173,Uttar Pradesh,Dhaurahra(29),lost,1812,( -441931),KASIM ALI,Peace Party
4174,Uttar Pradesh,Dhaurahra(29),lost,1296,( -442447),SAKASEN,Sardar Patel Siddhant Party
4175,Uttar Pradesh,Dhaurahra(29),lost,1290,( -442453),RAM NARESH,Independent
4176,Uttar Pradesh,Dhaurahra(29),,7144,( -436599),NOTA,None of the Above
4177,Uttar Pradesh,Kheri(28),won,557365,(+ 34329),UTKARSH VERMA  'MADHUR',Samajwadi Party
4178,Uttar Pradesh,Kheri(28),lost,523036,( -34329),AJAY KUMAR,Bharatiya Janata Party
4179,Uttar Pradesh,Kheri(28),lost,110460,( -446905),ANSHAY KALRA,Bahujan Samaj Party
4180,Uttar Pradesh,Kheri(28),lost,3096,( -554269),SANDHYA JAISWAL,Parivartan Samaj Party
4181,Uttar Pradesh,Kheri(28),lost,2982,( -554383),SATENDRA KUMAR MAURYA,Independent
4182,Uttar Pradesh,Kheri(28),lost,2300,( -555065),OM NATH SINGH,Rashtriya Shoshit Samaj Party
4183,Uttar Pradesh,Kheri(28),lost,2111,( -555254),NARESH SINGH BHADAURIYA,Independent
4184,Uttar Pradesh,Kheri(28),lost,1269,( -556096),MUKESH KUMAR  (BHARTI),Rashtriya Vikalp Party
4185,Uttar Pradesh,Kheri(28),lost,1019,( -556346),KHANJAN,Netaji Subhash Chander Bose Rashtriya Azad Party
4186,Uttar Pradesh,Kheri(28),lost,936,( -556429),DARWARI URF  DARWARI LAL  CHAUHAN,Janta Kranti Party
4187,Uttar Pradesh,Kheri(28),lost,854,( -556511),KM. PANCHSHEELA ANAND,Uttar Pradesh Republican Party
4188,Uttar Pradesh,Kheri(28),,7931,( -549434),NOTA,None of the Above
4189,Uttar Pradesh,Aonla(24),won,492515,(+ 15969),NEERAJ MAURYA,Samajwadi Party
4190,Uttar Pradesh,Aonla(24),lost,476546,( -15969),DHARMENDRA KASHYAP,Bharatiya Janata Party
4191,Uttar Pradesh,Aonla(24),lost,95630,( -396885),ABID ALI,Bahujan Samaj Party
4192,Uttar Pradesh,Aonla(24),lost,4213,( -488302),KAUSAR KHAN,Peace Party
4193,Uttar Pradesh,Aonla(24),lost,3330,( -489185),PREM PAL SAGAR,Vanchitsamaj Insaaf Party
4194,Uttar Pradesh,Aonla(24),lost,2953,( -489562),MAKKHAN LAL,Independent
4195,Uttar Pradesh,Aonla(24),lost,2706,( -489809),RAJ KUMAR PATEL,Sardar Patel Siddhant Party
4196,Uttar Pradesh,Aonla(24),lost,2355,( -490160),MOHAMMAD AMIR KHAN,Bharat Jodo Party
4197,Uttar Pradesh,Aonla(24),lost,1790,( -490725),NIRMOD KUMAR SINGH,Bhartiya Shakti Chetna Party
4198,Uttar Pradesh,Aonla(24),,6858,( -485657),NOTA,None of the Above
4199,Uttar Pradesh,Badaun(23),won,501855,(+ 34991),ADITYA YADAV,Samajwadi Party
4200,Uttar Pradesh,Badaun(23),lost,466864,( -34991),DURVIJAY SINGH SHAKYA,Bharatiya Janata Party
4201,Uttar Pradesh,Badaun(23),lost,97751,( -404104),MUSLIM KHAN,Bahujan Samaj Party
4202,Uttar Pradesh,Badaun(23),lost,3836,( -498019),SANDEEP KUMAR,Independent
4203,Uttar Pradesh,Badaun(23),lost,2674,( -499181),DINESH KUMAR,Independent
4204,Uttar Pradesh,Badaun(23),lost,2578,( -499277),LATA YADAV,Independent
4205,Uttar Pradesh,Badaun(23),lost,2438,( -499417),NILAM RANI PAL,Rashtriya Shoshit Samaj Party
4206,Uttar Pradesh,Badaun(23),lost,1543,( -500312),RAM PRATAP MAURYA,Independent
4207,Uttar Pradesh,Badaun(23),lost,1513,( -500342),ISRAT ALI,Independent
4208,Uttar Pradesh,Badaun(23),lost,1240,( -500615),SULEMAN,Swaraj Bhartiya Nyay Party
4209,Uttar Pradesh,Badaun(23),lost,910,( -500945),HARIRAJ SINGH URF SIPU YADAV,Log Party
4210,Uttar Pradesh,Badaun(23),,8562,( -493293),NOTA,None of the Above
4211,Uttar Pradesh,Etah(22),won,475808,(+ 28052),DEVESH SHAKYA,Samajwadi Party
4212,Uttar Pradesh,Etah(22),lost,447756,( -28052),RAJVEER SINGH (RAJU BHAIYA),Bharatiya Janata Party
4213,Uttar Pradesh,Etah(22),lost,71585,( -404223),MOHAMMAD IRFAN ADVOCATE,Bahujan Samaj Party
4214,Uttar Pradesh,Etah(22),lost,3949,( -471859),ANUPAM KUMAR,Kisan Kranti Dal
4215,Uttar Pradesh,Etah(22),lost,1728,( -474080),KAILASH KUMAR,Independent
4216,Uttar Pradesh,Etah(22),lost,1265,( -474543),DANVEER,Independent
4217,Uttar Pradesh,Etah(22),lost,992,( -474816),UDAY VEER SINGH,Peoples Party of India (Democratic)
4218,Uttar Pradesh,Etah(22),lost,780,( -475028),ASHOK KUMAR,Independent
4219,Uttar Pradesh,Etah(22),lost,747,( -475061),VIABHAV MISHRA,Bhartiya Shakti Chetna Party
4220,Uttar Pradesh,Etah(22),lost,615,( -475193),AMAR SINGH,Independent
4221,Uttar Pradesh,Etah(22),,5156,( -470652),NOTA,None of the Above
4222,Uttar Pradesh,Mainpuri(21),won,598526,(+ 221639),DIMPLE YADAV,Samajwadi Party
4223,Uttar Pradesh,Mainpuri(21),lost,376887,( -221639),JAYVEER SINGH,Bharatiya Janata Party
4224,Uttar Pradesh,Mainpuri(21),lost,66814,( -531712),SHIV PRASAD YADAV,Bahujan Samaj Party
4225,Uttar Pradesh,Mainpuri(21),lost,2374,( -596152),SURESH CHANDRA,Independent
4226,Uttar Pradesh,Mainpuri(21),lost,1769,( -596757),NAND RAM BAGRI,Voters Party  International
4227,Uttar Pradesh,Mainpuri(21),lost,1171,( -597355),MANJU PAL,Bhartiya Shakti Chetna Party
4228,Uttar Pradesh,Mainpuri(21),lost,1006,( -597520),PRAMOD KUMAR,Independent
4229,Uttar Pradesh,Mainpuri(21),lost,882,( -597644),SUNIL KUMAR MISHRA,Sarva Samaj Janata Party
4230,Uttar Pradesh,Mainpuri(21),,4582,( -593944),NOTA,None of the Above
4231,Uttar Pradesh,Firozabad(20),won,543037,(+ 89312),AKSHAYA YADAV,Samajwadi Party
4232,Uttar Pradesh,Firozabad(20),lost,453725,( -89312),VISHWADEEP SINGH,Bharatiya Janata Party
4233,Uttar Pradesh,Firozabad(20),lost,90948,( -452089),CHOWDHARY BASHEER,Bahujan Samaj Party
4234,Uttar Pradesh,Firozabad(20),lost,7119,( -535918),UPENDRA SINGH,Bharatiya Kisan Parivartan Party
4235,Uttar Pradesh,Firozabad(20),lost,2930,( -540107),RASHMI KANT,Parivartan Samaj Party
4236,Uttar Pradesh,Firozabad(20),lost,2878,( -540159),PREM DUTT,Rashtra Uday Party
4237,Uttar Pradesh,Firozabad(20),lost,1380,( -541657),RAJVEER,Independent
4238,Uttar Pradesh,Firozabad(20),,5279,( -537758),NOTA,None of the Above
4239,Uttar Pradesh,Sambhal(8),won,571161,(+ 121494),ZIA UR REHMAN,Samajwadi Party
4240,Uttar Pradesh,Sambhal(8),lost,449667,( -121494),PARMESHWAR LAL SAINI,Bharatiya Janata Party
4241,Uttar Pradesh,Sambhal(8),lost,152460,( -418701),CHAUDHARY SAULAT ALI,Bahujan Samaj Party
4242,Uttar Pradesh,Sambhal(8),lost,3864,( -567297),WASEEM SO MOH SHAMIM,Independent
4243,Uttar Pradesh,Sambhal(8),lost,2077,( -569084),MOHD WASEEM SO MOHD FAREED,Independent
4244,Uttar Pradesh,Sambhal(8),lost,1942,( -569219),JAYGAMUL ISLAM,Janta Shashan Party
4245,Uttar Pradesh,Sambhal(8),lost,1677,( -569484),ANUJ VARSHNEY,Independent
4246,Uttar Pradesh,Sambhal(8),lost,1294,( -569867),MAHANDRA SINGH,Independent
4247,Uttar Pradesh,Sambhal(8),lost,1204,( -569957),SANTOSH,Kisan Kranti Dal
4248,Uttar Pradesh,Sambhal(8),lost,1060,( -570101),DR RASHID,Peace Party
4249,Uttar Pradesh,Sambhal(8),lost,723,( -570438),TAUFIK AHAMAD,Independent
4250,Uttar Pradesh,Sambhal(8),lost,637,( -570524),PAVAN KUMAR,Log Party
4251,Uttar Pradesh,Sambhal(8),,7217,( -563944),NOTA,None of the Above
4252,Uttar Pradesh,Rampur(7),won,481503,(+ 87434),MOHIBBULLAH,Samajwadi Party
4253,Uttar Pradesh,Rampur(7),lost,394069,( -87434),GHANSHYAM SINGH LODHI,Bharatiya Janata Party
4254,Uttar Pradesh,Rampur(7),lost,79692,( -401811),ZEESHAN KHAN,Bahujan Samaj Party
4255,Uttar Pradesh,Rampur(7),lost,2927,( -478576),ARSHAD WARSI,Minorities Democratic Party
4256,Uttar Pradesh,Rampur(7),lost,2759,( -478744),MEHMOOD PRACHA,Independent
4257,Uttar Pradesh,Rampur(7),lost,1476,( -480027),SHIV PRASAD,Independent
4258,Uttar Pradesh,Rampur(7),,5653,( -475850),NOTA,None of the Above
4259,Uttar Pradesh,Moradabad(6),won,637363,(+ 105762),RUCHI VIRA,Samajwadi Party
4260,Uttar Pradesh,Moradabad(6),lost,531601,( -105762),KUNWAR SARVESH KUMAR,Bharatiya Janata Party
4261,Uttar Pradesh,Moradabad(6),lost,92313,( -545050),MO IRFAN,Bahujan Samaj Party
4262,Uttar Pradesh,Moradabad(6),lost,4094,( -633269),AJAY YADAV,Apna Haq Party
4263,Uttar Pradesh,Moradabad(6),lost,2583,( -634780),MUSHARRAT HUSAIN,Independent
4264,Uttar Pradesh,Moradabad(6),lost,2296,( -635067),SADHNA SINGH,Independent
4265,Uttar Pradesh,Moradabad(6),lost,1719,( -635644),MOHD JAMSHED,Independent
4266,Uttar Pradesh,Moradabad(6),lost,1459,( -635904),ONKAR SINGH,Bharatiya Bahujan Samta Party
4267,Uttar Pradesh,Moradabad(6),lost,1356,( -636007),SHAKIL AHMED,Samata Party
4268,Uttar Pradesh,Moradabad(6),lost,952,( -636411),AMARJEET SINGH JATAV,Independent
4269,Uttar Pradesh,Moradabad(6),lost,940,( -636423),HAR KISHORE SINGH,Socialist Unity Centre Of India (COMMUNIST)
4270,Uttar Pradesh,Moradabad(6),lost,685,( -636678),GANGARAM SHARMA,Rashtriya Congress(J) Party
4271,Uttar Pradesh,Moradabad(6),,5824,( -631539),NOTA,None of the Above
4272,Uttar Pradesh,Muzaffarnagar(3),won,470721,(+ 24672),HARENDRA SINGH MALIK,Samajwadi Party
4273,Uttar Pradesh,Muzaffarnagar(3),lost,446049,( -24672),SANJEEV KUMAR BALYAN,Bharatiya Janata Party
4274,Uttar Pradesh,Muzaffarnagar(3),lost,143707,( -327014),DARA SINGH PRAJAPATI,Bahujan Samaj Party
4275,Uttar Pradesh,Muzaffarnagar(3),lost,7167,( -463554),SUNIL TYAGI,Independent
4276,Uttar Pradesh,Muzaffarnagar(3),lost,2000,( -468721),KAVITA,Rashtrawadi Janlok Party (Satya)
4277,Uttar Pradesh,Muzaffarnagar(3),lost,1431,( -469290),SHASHIKANT SHAMAR,Independent
4278,Uttar Pradesh,Muzaffarnagar(3),lost,1421,( -469300),BIRBAL SINGH,Vishal Janta Party
4279,Uttar Pradesh,Muzaffarnagar(3),lost,861,( -469860),NEEL KUMAR,Jai Samta Party
4280,Uttar Pradesh,Muzaffarnagar(3),lost,684,( -470037),RESHU SHARMA,Independent
4281,Uttar Pradesh,Muzaffarnagar(3),lost,372,( -470349),ANKUR,Independent
4282,Uttar Pradesh,Muzaffarnagar(3),lost,340,( -470381),MANUJ VERMA,Independent
4283,Uttar Pradesh,Muzaffarnagar(3),,3916,( -466805),NOTA,None of the Above
4284,Uttar Pradesh,Kairana(2),won,528013,(+ 69116),IQRA CHOUDHARY,Samajwadi Party
4285,Uttar Pradesh,Kairana(2),lost,458897,( -69116),PRADEEP KUMAR,Bharatiya Janata Party
4286,Uttar Pradesh,Kairana(2),lost,76200,( -451813),SRIPAL,Bahujan Samaj Party
4287,Uttar Pradesh,Kairana(2),lost,3320,( -524693),JAHID,Social Democratic Party Of India
4288,Uttar Pradesh,Kairana(2),lost,1985,( -526028),SHOKINDER KUMAR,Independent
4289,Uttar Pradesh,Kairana(2),lost,1936,( -526077),MANOJ RANA,Independent
4290,Uttar Pradesh,Kairana(2),lost,1100,( -526913),VIKAS KUMAR,Independent
4291,Uttar Pradesh,Kairana(2),lost,1096,( -526917),OMBEER,Azad Adhikar Sena
4292,Uttar Pradesh,Kairana(2),lost,900,( -527113),VIKRAM SINGH,Independent
4293,Uttar Pradesh,Kairana(2),lost,791,( -527222),PRITI KASHYAP,Rashtriya Mazdoor Ekta Party
4294,Uttar Pradesh,Kairana(2),lost,780,( -527233),VIKRAM SAINI,Akhand Bharat Swatantra Party
4295,Uttar Pradesh,Kairana(2),lost,670,( -527343),YOGESH,Independent
4296,Uttar Pradesh,Kairana(2),lost,442,( -527571),MOHD KADIR,Independent
4297,Uttar Pradesh,Kairana(2),lost,427,( -527586),NAND KISHOOR,Aapki Apni Party (Peoples)
4298,Uttar Pradesh,Kairana(2),,3249,( -524764),NOTA,None of the Above
4299,Uttar Pradesh,Varanasi(77),won,612970,(+ 152513),NARENDRA MODI,Bharatiya Janata Party
4300,Uttar Pradesh,Varanasi(77),lost,460457,( -152513),AJAY RAI,Indian National Congress
4301,Uttar Pradesh,Varanasi(77),lost,33766,( -579204),ATHER JAMAL LARI,Bahujan Samaj Party
4302,Uttar Pradesh,Varanasi(77),lost,5750,( -607220),KOLISETTY SHIVA KUMAR,Yuga Thulasi Party
4303,Uttar Pradesh,Varanasi(77),lost,3634,( -609336),GAGAN PRAKASH YADAV,Apna Dal (Kamerawadi)
4304,Uttar Pradesh,Varanasi(77),lost,2917,( -610053),DINESH KUMAR YADAV,Independent
4305,Uttar Pradesh,Varanasi(77),lost,2171,( -610799),SANJAY KUMAR TIWARI,Independent
4306,Uttar Pradesh,Varanasi(77),,8478,( -604492),NOTA,None of the Above
4307,Uttar Pradesh,Bansgaon(67),won,428693,(+ 3150),KAMLESH PASWAN,Bharatiya Janata Party
4308,Uttar Pradesh,Bansgaon(67),lost,425543,( -3150),SADAL PRASAD,Indian National Congress
4309,Uttar Pradesh,Bansgaon(67),lost,64750,( -363943),RAMSAMUJH,Bahujan Samaj Party
4310,Uttar Pradesh,Bansgaon(67),lost,6638,( -422055),GAYA PRASAD,Independent
4311,Uttar Pradesh,Bansgaon(67),lost,4142,( -424551),SHRVAN KUMAR NIRALA,Independent
4312,Uttar Pradesh,Bansgaon(67),lost,2597,( -426096),HEERALAL,Independent
4313,Uttar Pradesh,Bansgaon(67),lost,1745,( -426948),MURLI DHAR,Independent
4314,Uttar Pradesh,Bansgaon(67),lost,1634,( -427059),RAJENDRA CHAUDHARI,Independent
4315,Uttar Pradesh,Bansgaon(67),,9021,( -419672),NOTA,None of the Above
4316,Uttar Pradesh,Deoria(66),won,504541,(+ 34842),SHASHANK MANI,Bharatiya Janata Party
4317,Uttar Pradesh,Deoria(66),lost,469699,( -34842),AKHILESH PRATAP SINGH,Indian National Congress
4318,Uttar Pradesh,Deoria(66),lost,45564,( -458977),SANDESH,Bahujan Samaj Party
4319,Uttar Pradesh,Deoria(66),lost,4158,( -500383),SATENDER KUMAR MALL,Independent
4320,Uttar Pradesh,Deoria(66),lost,3264,( -501277),MUKTINATH SINGH,Janta Samta Party
4321,Uttar Pradesh,Deoria(66),lost,3182,( -501359),AGAMSWAROOP,Rashtriya Samanta Dal
4322,Uttar Pradesh,Deoria(66),lost,2688,( -501853),RAFIK ANSARI,Independent
4323,Uttar Pradesh,Deoria(66),,10212,( -494329),NOTA,None of the Above
4324,Uttar Pradesh,Kushi Nagar(65),won,516345,(+ 81790),VIJAY KUMAR DUBAY,Bharatiya Janata Party
4325,Uttar Pradesh,Kushi Nagar(65),lost,434555,( -81790),AJAY PRATAP SINGH URF PINTU SAITHWAR,Samajwadi Party
4326,Uttar Pradesh,Kushi Nagar(65),lost,67208,( -449137),SUBH NARAYAN CHAUHAN,Bahujan Samaj Party
4327,Uttar Pradesh,Kushi Nagar(65),lost,36575,( -479770),SWAMI PRASAD MAURYA,Rashtriya Shoshit Samaj Party
4328,Uttar Pradesh,Kushi Nagar(65),lost,4097,( -512248),HARIKESH,Azad Adhikar Sena
4329,Uttar Pradesh,Kushi Nagar(65),lost,3621,( -512724),RAMCHANDRA SINGH,Independent
4330,Uttar Pradesh,Kushi Nagar(65),lost,3532,( -512813),SUNIL KUMAR SHUKLA,Bhartiya Lok Nayak Party
4331,Uttar Pradesh,Kushi Nagar(65),lost,2433,( -513912),AMIY UPADHYAY,Independent
4332,Uttar Pradesh,Kushi Nagar(65),lost,2335,( -514010),VEDPRAKASH MISHRA,Subhashwadi Bhartiya Samajwadi Party (Subhas Party)
4333,Uttar Pradesh,Kushi Nagar(65),,9782,( -506563),NOTA,None of the Above
4334,Uttar Pradesh,Gorakhpur(64),won,585834,(+ 103526),RAVINDRA SHUKLA ALIAS RAVI KISHAN,Bharatiya Janata Party
4335,Uttar Pradesh,Gorakhpur(64),lost,482308,( -103526),KAJAL NISHAD,Samajwadi Party
4336,Uttar Pradesh,Gorakhpur(64),lost,55781,( -530053),JAVED ASHRAF ALIAS JAVED SIMNANI,Bahujan Samaj Party
4337,Uttar Pradesh,Gorakhpur(64),lost,4955,( -580879),ANAND KUMAR YADAV ALIAS ANAND KUMAR FAUJI,Bharatheeya Jawan Kisan Party
4338,Uttar Pradesh,Gorakhpur(64),lost,4032,( -581802),PINTU SAHANI,Independent
4339,Uttar Pradesh,Gorakhpur(64),lost,2635,( -583199),SHIVSHANKAR PRAJAPATI,Bhagidari Party(P)
4340,Uttar Pradesh,Gorakhpur(64),lost,2395,( -583439),SUDHANSHU,Independent
4341,Uttar Pradesh,Gorakhpur(64),lost,2012,( -583822),SANJAY SINGH RANA,Bhartiya Sarvdharm Party
4342,Uttar Pradesh,Gorakhpur(64),lost,1880,( -583954),NAFEES AKHTAR,Independent
4343,Uttar Pradesh,Gorakhpur(64),lost,1874,( -583960),ANKIT SHAH,Bharatiya Yuva Jan Ekta Party
4344,Uttar Pradesh,Gorakhpur(64),lost,1364,( -584470),AMITA BHARATI,Independent
4345,Uttar Pradesh,Gorakhpur(64),lost,898,( -584936),SONU RAI,Mera Adhikaar Rashtriya Dal
4346,Uttar Pradesh,Gorakhpur(64),lost,764,( -585070),SHRIRAM PRASAD,Al-Hind Party
4347,Uttar Pradesh,Gorakhpur(64),,7681,( -578153),NOTA,None of the Above
4348,Uttar Pradesh,Maharajganj(63),won,591310,(+ 35451),PANKAJ CHAUDHARY,Bharatiya Janata Party
4349,Uttar Pradesh,Maharajganj(63),lost,555859,( -35451),VIRENDRA CHAUDHARY,Indian National Congress
4350,Uttar Pradesh,Maharajganj(63),lost,32955,( -558355),MO MAUSME ALAM,Bahujan Samaj Party
4351,Uttar Pradesh,Maharajganj(63),lost,8583,( -582727),BRIJESH,Abhay Samaj Party
4352,Uttar Pradesh,Maharajganj(63),lost,3834,( -587476),CHHEDI MAJDOOR,Independent
4353,Uttar Pradesh,Maharajganj(63),lost,3029,( -588281),RAMPRIT,Independent
4354,Uttar Pradesh,Maharajganj(63),lost,2718,( -588592),SUNIL,Independent
4355,Uttar Pradesh,Maharajganj(63),lost,2418,( -588892),VINOD KUMAR PATEL,Sardar Patel Siddhant Party
4356,Uttar Pradesh,Maharajganj(63),,9745,( -581565),NOTA,None of the Above
4357,Uttar Pradesh,Domariyaganj(60),won,463303,(+ 42728),JAGDAMBIKA PAL,Bharatiya Janata Party
4358,Uttar Pradesh,Domariyaganj(60),lost,420575,( -42728),BHISHMA SHANKAR ALIAS KUSHAL TIWARI,Samajwadi Party
4359,Uttar Pradesh,Domariyaganj(60),lost,81305,( -381998),AMAR SINGH CHAUDHARY,Aazad Samaj Party (Kanshi Ram)
4360,Uttar Pradesh,Domariyaganj(60),lost,35936,( -427367),MD. NADEEM,Bahujan Samaj Party
4361,Uttar Pradesh,Domariyaganj(60),lost,5138,( -458165),NAUSHAD AZAM,Peace Party
4362,Uttar Pradesh,Domariyaganj(60),lost,3261,( -460042),KIRAN DEVI,Independent
4363,Uttar Pradesh,Domariyaganj(60),,9447,( -453856),NOTA,None of the Above
4364,Uttar Pradesh,Gonda(59),won,474258,(+ 46224),KIRTIVARDHAN SINGH,Bharatiya Janata Party
4365,Uttar Pradesh,Gonda(59),lost,428034,( -46224),SHREYA VERMA,Samajwadi Party
4366,Uttar Pradesh,Gonda(59),lost,29429,( -444829),SAURABH,Bahujan Samaj Party
4367,Uttar Pradesh,Gonda(59),lost,3535,( -470723),RAM UJAGAR,Independent
4368,Uttar Pradesh,Gonda(59),lost,3073,( -471185),ARUNIMA PANDEY,Independent
4369,Uttar Pradesh,Gonda(59),lost,2028,( -472230),RAGHAVENDRA,Bhartiya Shakti Chetna Party
4370,Uttar Pradesh,Gonda(59),lost,1989,( -472269),RAJKUMAR,Independent
4371,Uttar Pradesh,Gonda(59),lost,1483,( -472775),VINOD KUMAR SINGH,Bhartiya Uday Nirman Party
4372,Uttar Pradesh,Gonda(59),,9055,( -465203),NOTA,None of the Above
4373,Uttar Pradesh,Kaiserganj(57),won,571263,(+ 148843),KARAN BHUSHAN SINGH,Bharatiya Janata Party
4374,Uttar Pradesh,Kaiserganj(57),lost,422420,( -148843),BHAGAT RAM,Samajwadi Party
4375,Uttar Pradesh,Kaiserganj(57),lost,44279,( -526984),NARENDRA PANDEY,Bahujan Samaj Party
4376,Uttar Pradesh,Kaiserganj(57),lost,9250,( -562013),ARUNIMA PANDEY,Independent
4377,Uttar Pradesh,Kaiserganj(57),,14887,( -556376),NOTA,None of the Above
4378,Uttar Pradesh,Baharaich(56),won,518802,(+ 64227),ANAND KUMAR,Bharatiya Janata Party
4379,Uttar Pradesh,Baharaich(56),lost,454575,( -64227),RAMESH CHANDRA,Samajwadi Party
4380,Uttar Pradesh,Baharaich(56),lost,50448,( -468354),DR. BRIJESH KUMAR,Bahujan Samaj Party
4381,Uttar Pradesh,Baharaich(56),lost,6160,( -512642),ARVIND KUMAR,Bhartiya Awam Party (Rastriya)
4382,Uttar Pradesh,Baharaich(56),lost,3227,( -515575),RAMESH BALMIKI,Independent
4383,Uttar Pradesh,Baharaich(56),lost,2920,( -515882),BECHULAL,Independent
4384,Uttar Pradesh,Baharaich(56),lost,2673,( -516129),JANARDAN GOND,Independent
4385,Uttar Pradesh,Baharaich(56),lost,1699,( -517103),RAM MILAN,Sardar Patel Siddhant Party
4386,Uttar Pradesh,Baharaich(56),lost,1683,( -517119),RINKU SAHANI,Rashtra Dharak Dal
4387,Uttar Pradesh,Baharaich(56),lost,1515,( -517287),JAGRAM,Independent
4388,Uttar Pradesh,Baharaich(56),,12864,( -505938),NOTA,None of the Above
4389,Uttar Pradesh,Phulpur(51),won,452600,(+ 4332),PRAVEEN PATEL,Bharatiya Janata Party
4390,Uttar Pradesh,Phulpur(51),lost,448268,( -4332),AMAR NATH SINGH MAURYA,Samajwadi Party
4391,Uttar Pradesh,Phulpur(51),lost,82586,( -370014),JAGANNATH PAL,Bahujan Samaj Party
4392,Uttar Pradesh,Phulpur(51),lost,4162,( -448438),MAHIMA PATEL,Apna Dal (Kamerawadi)
4393,Uttar Pradesh,Phulpur(51),lost,3299,( -449301),JILA JEET BHARTIY,Bahujan Awam Party
4394,Uttar Pradesh,Phulpur(51),lost,3047,( -449553),SUNIL KUMAR PRAJAPATI,Bhagidari Party(P)
4395,Uttar Pradesh,Phulpur(51),lost,2771,( -449829),ENGG YOGESH KUSHWAHA,Pragatisheel Samaj Party
4396,Uttar Pradesh,Phulpur(51),lost,2298,( -450302),AKHILESH TRIPATHI,Independent
4397,Uttar Pradesh,Phulpur(51),lost,2147,( -450453),NAFIS AHAMAD,Independent
4398,Uttar Pradesh,Phulpur(51),lost,1710,( -450890),DR NEERAJ,Independent
4399,Uttar Pradesh,Phulpur(51),lost,1679,( -450921),SANJEEV KUMAR MISHRA,Yuva Vikas Party
4400,Uttar Pradesh,Phulpur(51),lost,1506,( -451094),MUSHIR AHMAD SIDDIQUI,Peoples Party of India (Democratic)
4401,Uttar Pradesh,Phulpur(51),lost,1291,( -451309),SANGEETA YADAV,Subhashwadi Bhartiya Samajwadi Party (Subhas Party)
4402,Uttar Pradesh,Phulpur(51),lost,1052,( -451548),LALA RAM SAROJ,Prabuddhwadi Bahujan Morcha
4403,Uttar Pradesh,Phulpur(51),lost,948,( -451652),PRAMOD BHAI PATEL URF P K,Sardar Patel Siddhant Party
4404,Uttar Pradesh,Phulpur(51),,5460,( -447140),NOTA,None of the Above
4405,Uttar Pradesh,Jhansi(46),won,690316,(+ 102614),ANURAG SHARMA,Bharatiya Janata Party
4406,Uttar Pradesh,Jhansi(46),lost,587702,( -102614),"PRADEEP JAIN ""ADITYA""",Indian National Congress
4407,Uttar Pradesh,Jhansi(46),lost,63192,( -627124),RAVI PRAKASH,Bahujan Samaj Party
4408,Uttar Pradesh,Jhansi(46),lost,6832,( -683484),LAKHAN LAL,Independent
4409,Uttar Pradesh,Jhansi(46),lost,6338,( -683978),RAMESH,Independent
4410,Uttar Pradesh,Jhansi(46),lost,2575,( -687741),GANESH RAM,Independent
4411,Uttar Pradesh,Jhansi(46),lost,2491,( -687825),CHANDAN SINGH,Apna Dal (Kamerawadi)
4412,Uttar Pradesh,Jhansi(46),lost,2303,( -688013),DHARMENDRA PRATAP,Independent
4413,Uttar Pradesh,Jhansi(46),lost,2078,( -688238),INDRA SINGH,Independent
4414,Uttar Pradesh,Jhansi(46),lost,1377,( -688939),ER. DEEPAK KUMAR VERMA,Al-Hind Party
4415,Uttar Pradesh,Jhansi(46),,15302,( -675014),NOTA,None of the Above
4416,Uttar Pradesh,Akbarpur(44),won,517423,(+ 44345),DEVENDRA SINGH ALIAS BHOLE SINGH,Bharatiya Janata Party
4417,Uttar Pradesh,Akbarpur(44),lost,473078,( -44345),RAJARAM PAL,Samajwadi Party
4418,Uttar Pradesh,Akbarpur(44),lost,73140,( -444283),RAJESH KUMAR DWIVEDI,Bahujan Samaj Party
4419,Uttar Pradesh,Akbarpur(44),lost,4642,( -512781),RAJARAM,Independent
4420,Uttar Pradesh,Akbarpur(44),lost,3173,( -514250),ASHOK PASWAN ADVOCATE,Sabhi Jan Party
4421,Uttar Pradesh,Akbarpur(44),lost,2654,( -514769),CHANDRESH SINGH,Bhartiya Shakti Chetna Party
4422,Uttar Pradesh,Akbarpur(44),lost,2543,( -514880),YOGESH JAISWAL,Independent
4423,Uttar Pradesh,Akbarpur(44),lost,1494,( -515929),VIPIN KUMAR,Rashtriya Sanskriti Party
4424,Uttar Pradesh,Akbarpur(44),lost,1157,( -516266),RAMGOPAL,Rashtriya Janutthan Party
4425,Uttar Pradesh,Akbarpur(44),,7649,( -509774),NOTA,None of the Above
4426,Uttar Pradesh,Kanpur(43),won,443055,(+ 20968),RAMESH AWASTHI,Bharatiya Janata Party
4427,Uttar Pradesh,Kanpur(43),lost,422087,( -20968),ALOK MISRA,Indian National Congress
4428,Uttar Pradesh,Kanpur(43),lost,12032,( -431023),KULDEEP BHADAURIYA,Bahujan Samaj Party
4429,Uttar Pradesh,Kanpur(43),lost,1974,( -441081),ASHOK PASWAN ADVOCATE,Sabhi Jan Party
4430,Uttar Pradesh,Kanpur(43),lost,1198,( -441857),ALOK MISHRA,Independent
4431,Uttar Pradesh,Kanpur(43),lost,778,( -442277),MANOJ KUMAR,Independent
4432,Uttar Pradesh,Kanpur(43),lost,672,( -442383),AJAY KUMAR MISHRA,Independent
4433,Uttar Pradesh,Kanpur(43),lost,465,( -442590),PRASHAST DHEER,All India Forward Bloc
4434,Uttar Pradesh,Kanpur(43),lost,398,( -442657),ARVIND KUMAR SRIVASTAVA,Independent
4435,Uttar Pradesh,Kanpur(43),lost,350,( -442705),SANJAY SINGH,"Proutist Bloc, India"
4436,Uttar Pradesh,Kanpur(43),lost,270,( -442785),VALENDRA KATIYAR,Socialist Unity Centre Of India (COMMUNIST)
4437,Uttar Pradesh,Kanpur(43),,4117,( -438938),NOTA,None of the Above
4438,Uttar Pradesh,Farrukhabad(40),won,487963,(+ 2678),MUKESH RAJPUT,Bharatiya Janata Party
4439,Uttar Pradesh,Farrukhabad(40),lost,485285,( -2678),DR. NAVAL KISHOR SHAKYA,Samajwadi Party
4440,Uttar Pradesh,Farrukhabad(40),lost,45390,( -442573),KRANTI PANDEY,Bahujan Samaj Party
4441,Uttar Pradesh,Farrukhabad(40),lost,3358,( -484605),AMAR SINGH,Bharatiya Rashtriya Morcha
4442,Uttar Pradesh,Farrukhabad(40),lost,2469,( -485494),HARNANDAN SINGH,Independent
4443,Uttar Pradesh,Farrukhabad(40),lost,2434,( -485529),SHYAMVEER SINGH,Bharatiya Nagrik Party
4444,Uttar Pradesh,Farrukhabad(40),lost,1467,( -486496),VIDYAPRAKASH,Bharatheeya Jawan Kisan Party
4445,Uttar Pradesh,Farrukhabad(40),lost,1063,( -486900),DINESH,Bhartiya Shakti Chetna Party
4446,Uttar Pradesh,Farrukhabad(40),,4365,( -483598),NOTA,None of the Above
4447,Uttar Pradesh,Lucknow(35),won,612709,(+ 135159),RAJ NATH SINGH,Bharatiya Janata Party
4448,Uttar Pradesh,Lucknow(35),lost,477550,( -135159),RAVIDAS MEHROTRA,Samajwadi Party
4449,Uttar Pradesh,Lucknow(35),lost,30192,( -582517),MOHAMMAD SARWAR MALIK,Bahujan Samaj Party
4450,Uttar Pradesh,Lucknow(35),lost,3255,( -609454),MO AHMAD URF RINKU,Social Democratic Party Of India
4451,Uttar Pradesh,Lucknow(35),lost,1473,( -611236),AKHAND PRATAP SINGH,Independent
4452,Uttar Pradesh,Lucknow(35),lost,1202,( -611507),SARVAR ALI,Sarvar Party
4453,Uttar Pradesh,Lucknow(35),lost,934,( -611775),ISHTIYAQ ALI,Independent
4454,Uttar Pradesh,Lucknow(35),lost,817,( -611892),KAPIL MOHAN CHOWDHARY,Mera Adhikaar Rashtriya Dal
4455,Uttar Pradesh,Lucknow(35),lost,807,( -611902),GAURAV VERMA,Hindu Samaj Party
4456,Uttar Pradesh,Lucknow(35),lost,603,( -612106),BRIJESH KUMAR YADAV,Kisan Vishwa Party
4457,Uttar Pradesh,Lucknow(35),,7350,( -605359),NOTA,None of the Above
4458,Uttar Pradesh,Unnao(33),won,616133,(+ 35818),SWAMI SACHCHIDANAND HARI SAKSHI,Bharatiya Janata Party
4459,Uttar Pradesh,Unnao(33),lost,580315,( -35818),ANNU TANDON,Samajwadi Party
4460,Uttar Pradesh,Unnao(33),lost,72527,( -543606),ASHOK KUMAR PANDEY,Bahujan Samaj Party
4461,Uttar Pradesh,Unnao(33),lost,8404,( -607729),SAIF KHAN,Parcham Party of India
4462,Uttar Pradesh,Unnao(33),lost,5635,( -610498),UMESH,Independent
4463,Uttar Pradesh,Unnao(33),lost,4118,( -612015),SHIV PRAKASH SINGH,Independent
4464,Uttar Pradesh,Unnao(33),lost,3023,( -613110),SAIYYAD SARFARAZ GANDHI,Independent
4465,Uttar Pradesh,Unnao(33),lost,2663,( -613470),HIMANSHU SHARMA,Bhartiya Shakti Chetna Party
4466,Uttar Pradesh,Unnao(33),,9453,( -606680),NOTA,None of the Above
4467,Uttar Pradesh,Misrikh(32),won,475016,(+ 33406),ASHOK KUMAR RAWAT,Bharatiya Janata Party
4468,Uttar Pradesh,Misrikh(32),lost,441610,( -33406),SANGITA RAJVANSHI,Samajwadi Party
4469,Uttar Pradesh,Misrikh(32),lost,111945,( -363071),B R AHIRWAR,Bahujan Samaj Party
4470,Uttar Pradesh,Misrikh(32),lost,3978,( -471038),RAMPAL,Independent
4471,Uttar Pradesh,Misrikh(32),lost,3815,( -471201),LALIT KUMAR,Bhartiya Shakti Chetna Party
4472,Uttar Pradesh,Misrikh(32),lost,2905,( -472111),Neelam Singh,Independent
4473,Uttar Pradesh,Misrikh(32),lost,1912,( -473104),VANDNA  VERMA,Naari Nar Rakshak Party
4474,Uttar Pradesh,Misrikh(32),lost,1423,( -473593),AVDHESH,Independent
4475,Uttar Pradesh,Misrikh(32),lost,1350,( -473666),SAVITRI DEVI,Rashtriya Janshakti Samaj Party
4476,Uttar Pradesh,Misrikh(32),,8029,( -466987),NOTA,None of the Above
4477,Uttar Pradesh,Hardoi(31),won,486798,(+ 27856),JAI PRAKASH,Bharatiya Janata Party
4478,Uttar Pradesh,Hardoi(31),lost,458942,( -27856),USHA VERMA,Samajwadi Party
4479,Uttar Pradesh,Hardoi(31),lost,122629,( -364169),BHIMRAO AMBEDKAR,Bahujan Samaj Party
4480,Uttar Pradesh,Hardoi(31),lost,4898,( -481900),SHIVE KUMAR,Independent
4481,Uttar Pradesh,Hardoi(31),lost,4200,( -482598),SHYAM  KUMAR,Peoples Party of India (Democratic)
4482,Uttar Pradesh,Hardoi(31),lost,3821,( -482977),SUNIL KUMAR VERMA,Independent
4483,Uttar Pradesh,Hardoi(31),lost,2946,( -483852),INDRAPAL PASI,Justice Party
4484,Uttar Pradesh,Hardoi(31),lost,1589,( -485209),MUNNA LAL,Naari Nar Rakshak Party
4485,Uttar Pradesh,Hardoi(31),lost,1561,( -485237),OM PRAKASH,Independent
4486,Uttar Pradesh,Hardoi(31),lost,1424,( -485374),AWADESH KUMAR,Independent
4487,Uttar Pradesh,Hardoi(31),lost,1354,( -485444),PRADEEP KUMAR,Bhartiya Krishak Dal
4488,Uttar Pradesh,Hardoi(31),lost,1140,( -485658),BRAHMA PRASAD,Lok Jan Sangharsh Party
4489,Uttar Pradesh,Hardoi(31),,8814,( -477984),NOTA,None of the Above
4490,Uttar Pradesh,Shahjahanpur(27),won,592718,(+ 55379),ARUN KUMAR SAGAR,Bharatiya Janata Party
4491,Uttar Pradesh,Shahjahanpur(27),lost,537339,( -55379),JYOTSNA GOND,Samajwadi Party
4492,Uttar Pradesh,Shahjahanpur(27),lost,91710,( -501008),DOD RAM VERMA,Bahujan Samaj Party
4493,Uttar Pradesh,Shahjahanpur(27),lost,6588,( -586130),KIRAN,Rashtriya Sanatan Party
4494,Uttar Pradesh,Shahjahanpur(27),lost,2805,( -589913),SHIV KUMAR,Independent
4495,Uttar Pradesh,Shahjahanpur(27),lost,2061,( -590657),MEENA KASYAP,Independent
4496,Uttar Pradesh,Shahjahanpur(27),lost,2005,( -590713),PRADEEP KUMAR,Independent
4497,Uttar Pradesh,Shahjahanpur(27),lost,1687,( -591031),PREMCHANDRA HARIJAN,Sardar Patel Siddhant Party
4498,Uttar Pradesh,Shahjahanpur(27),lost,1423,( -591295),DHARM PAL,Independent
4499,Uttar Pradesh,Shahjahanpur(27),lost,1076,( -591642),RAMESH CHANDRA VERMA,Manav Kranti Party
4500,Uttar Pradesh,Shahjahanpur(27),,8490,( -584228),NOTA,None of the Above
4501,Uttar Pradesh,Pilibhit(26),won,607158,(+ 164935),JITIN PRASADA,Bharatiya Janata Party
4502,Uttar Pradesh,Pilibhit(26),lost,442223,( -164935),BHAGWAT SARAN GANGWAR,Samajwadi Party
4503,Uttar Pradesh,Pilibhit(26),lost,89697,( -517461),ANIS AHMED KHAN (PHOOL BABU),Bahujan Samaj Party
4504,Uttar Pradesh,Pilibhit(26),lost,3809,( -603349),RAJEEV KUMAR SAXENA,Bhartiya Krishak Dal
4505,Uttar Pradesh,Pilibhit(26),lost,2727,( -604431),SUSHIL KUMAR SHUKLA,Independent
4506,Uttar Pradesh,Pilibhit(26),lost,1850,( -605308),ASHISH KUMAR,Independent
4507,Uttar Pradesh,Pilibhit(26),lost,1846,( -605312),MOHMMAD SHAHID HUSAIN,Independent
4508,Uttar Pradesh,Pilibhit(26),lost,1726,( -605432),ADARSH PANDEY,Independent
4509,Uttar Pradesh,Pilibhit(26),lost,1631,( -605527),SANJAY KUMAR BHARTI,Rashtriya Samaj Dal (R)
4510,Uttar Pradesh,Pilibhit(26),lost,1539,( -605619),PRAMOD BHAI PATEL ALIAS P.K.,Independent
4511,Uttar Pradesh,Pilibhit(26),,6741,( -600417),NOTA,None of the Above
4512,Uttar Pradesh,Bareilly(25),won,567127,(+ 34804),CHHATRA PAL SINGH GANGWAR,Bharatiya Janata Party
4513,Uttar Pradesh,Bareilly(25),lost,532323,( -34804),PRAVEEN SINGH ARON,Samajwadi Party
4514,Uttar Pradesh,Bareilly(25),lost,3553,( -563574),IRSHAD ANSARI ADVOCATE,Peace Party
4515,Uttar Pradesh,Bareilly(25),lost,2839,( -564288),WASEEM MIAN,Independent
4516,Uttar Pradesh,Bareilly(25),lost,1704,( -565423),BHUPENDRA KUMAR MAURYA,Peoples Party of India (Democratic)
4517,Uttar Pradesh,Bareilly(25),lost,1194,( -565933),BUDDH PRIYA KARMRAJ RAHUL,Independent
4518,Uttar Pradesh,Bareilly(25),lost,847,( -566280),ROHTASH KASHYAP,Jan Shakti Ekta Party
4519,Uttar Pradesh,Bareilly(25),lost,656,( -566471),JAGPAL SINGH YADAV,Samrat Mihir Bhoj Samaj Party
4520,Uttar Pradesh,Bareilly(25),lost,633,( -566494),MOHD NAJIM ALI,Bharat Jodo Party
4521,Uttar Pradesh,Bareilly(25),lost,627,( -566500),RAVI KUMAR,Sardar Patel Siddhant Party
4522,Uttar Pradesh,Bareilly(25),lost,620,( -566507),NITIN MOHAN,Independent
4523,Uttar Pradesh,Bareilly(25),lost,616,( -566511),ASHISH GANGWAR,Independent
4524,Uttar Pradesh,Bareilly(25),lost,559,( -566568),AYSHA BI,Independent
4525,Uttar Pradesh,Bareilly(25),,6260,( -560867),NOTA,None of the Above
4526,Uttar Pradesh,Fatehpur Sikri(19),won,445657,(+ 43405),RAJKUMAR CHAHAR,Bharatiya Janata Party
4527,Uttar Pradesh,Fatehpur Sikri(19),lost,402252,( -43405),RAMNATH SINGH SIKARWAR,Indian National Congress
4528,Uttar Pradesh,Fatehpur Sikri(19),lost,120539,( -325118),PT.  RAMNIWAS SHARMA,Bahujan Samaj Party
4529,Uttar Pradesh,Fatehpur Sikri(19),lost,48606,( -397051),DR RAMESHWAR SINGH,Independent
4530,Uttar Pradesh,Fatehpur Sikri(19),lost,3463,( -442194),KALLAN KUMBHKAR,Independent
4531,Uttar Pradesh,Fatehpur Sikri(19),lost,1810,( -443847),HOTAM SINGH NISHAD,Rashtriya Shoshit Samaj Party
4532,Uttar Pradesh,Fatehpur Sikri(19),lost,1564,( -444093),GIRRAJ SINGH DHAKREY,"Proutist Bloc, India"
4533,Uttar Pradesh,Fatehpur Sikri(19),lost,1433,( -444224),SANGEETA TOMAR,Bharatiya Majdoor Janta Party
4534,Uttar Pradesh,Fatehpur Sikri(19),lost,1038,( -444619),VED PRAKASH,Rashtriya Jansanchar Dal
4535,Uttar Pradesh,Fatehpur Sikri(19),,7793,( -437864),NOTA,None of the Above
4536,Uttar Pradesh,Agra(18),won,599397,(+ 271294),PROF S P SINGH BAGHEL,Bharatiya Janata Party
4537,Uttar Pradesh,Agra(18),lost,328103,( -271294),SURESH CHAND KARDAM,Samajwadi Party
4538,Uttar Pradesh,Agra(18),lost,176474,( -422923),POOJA AMROHI,Bahujan Samaj Party
4539,Uttar Pradesh,Agra(18),lost,4143,( -595254),ARAM SINGH,Peoples Party of India (Democratic)
4540,Uttar Pradesh,Agra(18),lost,2002,( -597395),KULDEEP KUMAR,Bharatiya Kisan Parivartan Party
4541,Uttar Pradesh,Agra(18),lost,1785,( -597612),MAHENDRA SINGH,Independent
4542,Uttar Pradesh,Agra(18),lost,1370,( -598027),POOJA,Independent
4543,Uttar Pradesh,Agra(18),lost,1133,( -598264),SARVESH KUMAR,Bharatiya Majdoor Janta Party
4544,Uttar Pradesh,Agra(18),lost,933,( -598464),AMBEDAKARI HASANURAM AMBEDAKARI,Independent
4545,Uttar Pradesh,Agra(18),lost,782,( -598615),JITENDRA GAUTAM,Lokpriya Rashtrawadi Party
4546,Uttar Pradesh,Agra(18),lost,643,( -598754),CHANDRA PAL,Adarsh Samaj Party
4547,Uttar Pradesh,Agra(18),,7014,( -592383),NOTA,None of the Above
4548,Uttar Pradesh,Mathura(17),won,510064,(+ 293407),HEMAMALINI DHARMENDRA DEOL,Bharatiya Janata Party
4549,Uttar Pradesh,Mathura(17),lost,216657,( -293407),MUKESH DHANGAR,Indian National Congress
4550,Uttar Pradesh,Mathura(17),lost,188417,( -321647),SURESH SINGH,Bahujan Samaj Party
4551,Uttar Pradesh,Mathura(17),lost,15665,( -494399),BHANU PRATAP SINGH,Independent
4552,Uttar Pradesh,Mathura(17),lost,4494,( -505570),RAKESH KUMAR,Independent
4553,Uttar Pradesh,Mathura(17),lost,3575,( -506489),JAGDISH PRASAD KAUSHIK ADVOCATE,Rashtriya Samta Vikas Party
4554,Uttar Pradesh,Mathura(17),lost,2724,( -507340),RAVI VERMA,Independent
4555,Uttar Pradesh,Mathura(17),lost,2251,( -507813),SHIKHA SHARMA,Independent
4556,Uttar Pradesh,Mathura(17),lost,1503,( -508561),KAMAL KANT SHARMA,Independent
4557,Uttar Pradesh,Mathura(17),lost,1493,( -508571),YOGESH KUMAR TALAN,Independent
4558,Uttar Pradesh,Mathura(17),lost,1326,( -508738),MONI FALHARI BAPU,Independent
4559,Uttar Pradesh,Mathura(17),lost,1211,( -508853),KSHETRA PAL SINGH,Independent
4560,Uttar Pradesh,Mathura(17),lost,1189,( -508875),DR. RASHMI YADAV,Independent
4561,Uttar Pradesh,Mathura(17),lost,1085,( -508979),PRAVESHANAND PURI,Independent
4562,Uttar Pradesh,Mathura(17),lost,829,( -509235),SURESH CHANDRA VAGHEL,Rashtriya Shoshit Samaj Party
4563,Uttar Pradesh,Mathura(17),,4563,( -505501),NOTA,None of the Above
4564,Uttar Pradesh,Hathras(16),won,554746,(+ 247318),ANOOP PRADHAN BALMIKI,Bharatiya Janata Party
4565,Uttar Pradesh,Hathras(16),lost,307428,( -247318),JASVEER VALMIKI,Samajwadi Party
4566,Uttar Pradesh,Hathras(16),lost,201263,( -353483),HEMBABOO DHANGAR,Bahujan Samaj Party
4567,Uttar Pradesh,Hathras(16),lost,3061,( -551685),JAYPAL MAHOR,Independent
4568,Uttar Pradesh,Hathras(16),lost,2372,( -552374),RAJPAL SINGH,Independent
4569,Uttar Pradesh,Hathras(16),lost,2345,( -552401),GHANSHYAM SINGH,Swaraj Bhartiya Nyay Party
4570,Uttar Pradesh,Hathras(16),lost,1645,( -553101),RAVI KUMAR,Independent
4571,Uttar Pradesh,Hathras(16),lost,1607,( -553139),DR. JAYVEER SINGH DHANGAR,Rashtra Uday Party
4572,Uttar Pradesh,Hathras(16),lost,1144,( -553602),DINESH SAI,Independent
4573,Uttar Pradesh,Hathras(16),lost,810,( -553936),MUNNALAL JATAV,Independent
4574,Uttar Pradesh,Hathras(16),,6299,( -548447),NOTA,None of the Above
4575,Uttar Pradesh,Aligarh(15),won,501834,(+ 15647),SATISH KUMAR GAUTAM,Bharatiya Janata Party
4576,Uttar Pradesh,Aligarh(15),lost,486187,( -15647),BIJENDRA SINGH,Samajwadi Party
4577,Uttar Pradesh,Aligarh(15),lost,123929,( -377905),HITENDRA KUMAR ALIAS BUNTY UPADHYAY,Bahujan Samaj Party
4578,Uttar Pradesh,Aligarh(15),lost,3799,( -498035),GYANI RAM,Independent
4579,Uttar Pradesh,Aligarh(15),lost,3561,( -498273),SATISH KUMAR,Independent
4580,Uttar Pradesh,Aligarh(15),lost,1648,( -500186),SATISH KUMAR,Swatantra Jantaraj Party
4581,Uttar Pradesh,Aligarh(15),lost,1440,( -500394),MANOJ KUMAR ALIAS MANOJ LODHI,Saman Adhikar Party
4582,Uttar Pradesh,Aligarh(15),lost,1319,( -500515),KESHAV DEV ALIAS PANDIT KESHAV DEV GAUTAM,Independent
4583,Uttar Pradesh,Aligarh(15),lost,1178,( -500656),SURENDRA,Moulik Adhikar Party
4584,Uttar Pradesh,Aligarh(15),lost,1056,( -500778),RAJESH KUMAR,Independent
4585,Uttar Pradesh,Aligarh(15),lost,955,( -500879),DILEEP SHARMA AD.,Independent
4586,Uttar Pradesh,Aligarh(15),lost,736,( -501098),MAHESH CHANDRA SHARMA,Independent
4587,Uttar Pradesh,Aligarh(15),lost,412,( -501422),RAJ KUMAR,Rashtriya Shoshit Samaj Party
4588,Uttar Pradesh,Aligarh(15),lost,378,( -501456),MANOJ KUMAR SHARMA ADVOCATE,Loktantrik Janshakti Party
4589,Uttar Pradesh,Aligarh(15),,4934,( -496900),NOTA,None of the Above
4590,Uttar Pradesh,Bulandshahr(14),won,597310,(+ 275134),DR BHOLA SINGH,Bharatiya Janata Party
4591,Uttar Pradesh,Bulandshahr(14),lost,322176,( -275134),SHIVRAM,Indian National Congress
4592,Uttar Pradesh,Bulandshahr(14),lost,117424,( -479886),GIRISH CHANDRA,Bahujan Samaj Party
4593,Uttar Pradesh,Bulandshahr(14),lost,4401,( -592909),RAJESH TUREHA,Rishivadi Karm Sheel Young Parmarthi Party
4594,Uttar Pradesh,Bulandshahr(14),lost,3600,( -593710),SONAM BHARTI,Independent
4595,Uttar Pradesh,Bulandshahr(14),lost,2563,( -594747),PRADEEP KUMAR,Independent
4596,Uttar Pradesh,Bulandshahr(14),,6925,( -590385),NOTA,None of the Above
4597,Uttar Pradesh,Gautam Buddha Nagar(13),won,857829,(+ 559472),DR. MAHESH SHARMA,Bharatiya Janata Party
4598,Uttar Pradesh,Gautam Buddha Nagar(13),lost,298357,( -559472),DR. MAHENDRA SINGH NAGAR,Samajwadi Party
4599,Uttar Pradesh,Gautam Buddha Nagar(13),lost,251615,( -606214),RAJENDRA SINGH SOLANKI,Bahujan Samaj Party
4600,Uttar Pradesh,Gautam Buddha Nagar(13),lost,3875,( -853954),BHIM PRAKASH JIGYASU,Viro Ke Vir Indian Party
4601,Uttar Pradesh,Gautam Buddha Nagar(13),lost,2821,( -855008),MOHD. MUMTAJ AALAM,Independent
4602,Uttar Pradesh,Gautam Buddha Nagar(13),lost,2641,( -855188),SHIVAM ASHUTOSH,Independent
4603,Uttar Pradesh,Gautam Buddha Nagar(13),lost,1772,( -856057),MANISH KUMAR DWIVEDI,Akhil Bhartiya Parivar Party
4604,Uttar Pradesh,Gautam Buddha Nagar(13),lost,1767,( -856062),KISHOR SINGH,National Party
4605,Uttar Pradesh,Gautam Buddha Nagar(13),lost,1124,( -856705),MAHKAR SINGH,Independent
4606,Uttar Pradesh,Gautam Buddha Nagar(13),lost,1050,( -856779),KM. SHALU,Loktantrik Janshakti Party
4607,Uttar Pradesh,Gautam Buddha Nagar(13),lost,946,( -856883),PARAG KAUSHIK,Independent
4608,Uttar Pradesh,Gautam Buddha Nagar(13),lost,941,( -856888),NARESH NAUTIYAL,Bhartiya Rashtriya Jansatta
4609,Uttar Pradesh,Gautam Buddha Nagar(13),lost,908,( -856921),RAN SINGH DUDEE,Super Power India Party
4610,Uttar Pradesh,Gautam Buddha Nagar(13),lost,657,( -857172),RAJEEV MISHRA,Jai Hind National Party
4611,Uttar Pradesh,Gautam Buddha Nagar(13),lost,617,( -857212),NARAVEDASHVAR,Subhashwadi Bhartiya Samajwadi Party (Subhas Party)
4612,Uttar Pradesh,Gautam Buddha Nagar(13),,10324,( -847505),NOTA,None of the Above
4613,Uttar Pradesh,Ghaziabad(12),won,854170,(+ 336965),ATUL GARG,Bharatiya Janata Party
4614,Uttar Pradesh,Ghaziabad(12),lost,517205,( -336965),DOLLY SHARMA,Indian National Congress
4615,Uttar Pradesh,Ghaziabad(12),lost,79525,( -774645),NAND KISHOR PUNDIR,Bahujan Samaj Party
4616,Uttar Pradesh,Ghaziabad(12),lost,1966,( -852204),RAVI KUMAR PANCHAL,Independent
4617,Uttar Pradesh,Ghaziabad(12),lost,1178,( -852992),ANAND KUMAR,Rashtra Nirman Party
4618,Uttar Pradesh,Ghaziabad(12),lost,1162,( -853008),NATTHUSINGH CHAUDHARY,Independent
4619,Uttar Pradesh,Ghaziabad(12),lost,1120,( -853050),AURANGJEB,Independent
4620,Uttar Pradesh,Ghaziabad(12),lost,1080,( -853090),NAMAHA,Samaj Vikas Kranti Party
4621,Uttar Pradesh,Ghaziabad(12),lost,1043,( -853127),AVDESH KUMAR,Independent
4622,Uttar Pradesh,Ghaziabad(12),lost,878,( -853292),POOJA SAXENA,Right to Recall Party
4623,Uttar Pradesh,Ghaziabad(12),lost,775,( -853395),KAVITA,Independent
4624,Uttar Pradesh,Ghaziabad(12),lost,764,( -853406),ANSUL GUPTA,Rashtriya Jan Karmath Party
4625,Uttar Pradesh,Ghaziabad(12),lost,700,( -853470),DHIRENDRA SINGH BHADAURIYA,Subhashwadi Bhartiya Samajwadi Party (Subhas Party)
4626,Uttar Pradesh,Ghaziabad(12),lost,653,( -853517),ABHISHEK PUNDIR,Independent
4627,Uttar Pradesh,Ghaziabad(12),,8211,( -845959),NOTA,None of the Above
4628,Uttar Pradesh,Meerut(10),won,546469,(+ 10585),ARUN GOVIL,Bharatiya Janata Party
4629,Uttar Pradesh,Meerut(10),lost,535884,( -10585),SUNITA VERMA,Samajwadi Party
4630,Uttar Pradesh,Meerut(10),lost,87025,( -459444),DEVVRAT KUMAR TYAGI,Bahujan Samaj Party
4631,Uttar Pradesh,Meerut(10),lost,2626,( -543843),BHUPENDRA PAL URF BHUPPI BHAI,Rashtriya Shoshit Samaj Party
4632,Uttar Pradesh,Meerut(10),lost,2029,( -544440),HAJI  AFZAL,Sabse Achchhi Party
4633,Uttar Pradesh,Meerut(10),lost,1922,( -544547),ABID HUSAIN,Social Democratic Party Of India
4634,Uttar Pradesh,Meerut(10),lost,894,( -545575),LIYAKAT,Majloom Samaj Party
4635,Uttar Pradesh,Meerut(10),lost,854,( -545615),DR HIMANSHU BHATNAGAR,Jai Hind National Party
4636,Uttar Pradesh,Meerut(10),,4776,( -541693),NOTA,None of the Above
4637,Uttar Pradesh,Amroha(9),won,476506,(+ 28670),KANWAR SINGH TANWAR,Bharatiya Janata Party
4638,Uttar Pradesh,Amroha(9),lost,447836,( -28670),KUNWAR DANISH ALI,Indian National Congress
4639,Uttar Pradesh,Amroha(9),lost,164099,( -312407),MUJAHID HUSAIN,Bahujan Samaj Party
4640,Uttar Pradesh,Amroha(9),lost,3617,( -472889),DHANISH,Independent
4641,Uttar Pradesh,Amroha(9),lost,2717,( -473789),SURESH,Independent
4642,Uttar Pradesh,Amroha(9),lost,2556,( -473950),JEETPAL RANA,Independent
4643,Uttar Pradesh,Amroha(9),lost,2504,( -474002),SUHEL HAIDER,Akhil Bhartiya Parivar Party
4644,Uttar Pradesh,Amroha(9),lost,1779,( -474727),NARENDRA SINGH,Independent
4645,Uttar Pradesh,Amroha(9),lost,1004,( -475502),NAEEMUDDIN,Independent
4646,Uttar Pradesh,Amroha(9),lost,858,( -475648),KUSHAGRA,Independent
4647,Uttar Pradesh,Amroha(9),lost,679,( -475827),KASHIF HUSAIN,Independent
4648,Uttar Pradesh,Amroha(9),lost,635,( -475871),KUMDESH KUMAR,Independent
4649,Uttar Pradesh,Amroha(9),,5900,( -470606),NOTA,None of the Above
4650,Uttar Pradesh,Allahabad(52),won,462145,(+ 58795),UJJWAL RAMAN SINGH,Indian National Congress
4651,Uttar Pradesh,Allahabad(52),lost,403350,( -58795),NEERAJ TRIPATHI,Bharatiya Janata Party
4652,Uttar Pradesh,Allahabad(52),lost,49144,( -413001),RAMESH KUMAR PATEL,Bahujan Samaj Party
4653,Uttar Pradesh,Allahabad(52),lost,4248,( -457897),GOPAL SWROOP JOSHI,Independent
4654,Uttar Pradesh,Allahabad(52),lost,2642,( -459503),AJEET KUMAR PATEL,Pragatisheel Samaj Party
4655,Uttar Pradesh,Allahabad(52),lost,2355,( -459790),MOOLNIWASI HEMRAJ SINGH,Peoples Party of India (Democratic)
4656,Uttar Pradesh,Allahabad(52),lost,2197,( -459948),GEETA RANI SHARMA,Independent
4657,Uttar Pradesh,Allahabad(52),lost,2141,( -460004),HANSHRAJ KOL,Apna Dal (Kamerawadi)
4658,Uttar Pradesh,Allahabad(52),lost,1847,( -460298),RAJENDRA PRASAD PRAJAPATI,Bhagidari Party(P)
4659,Uttar Pradesh,Allahabad(52),lost,1835,( -460310),AVANEESH KUMAR,Independent
4660,Uttar Pradesh,Allahabad(52),lost,1616,( -460529),ANUJ SWAROOP SHUKLA,Independent
4661,Uttar Pradesh,Allahabad(52),lost,1326,( -460819),SHIV PRASAD VISHWAKARMA,Samyak Party
4662,Uttar Pradesh,Allahabad(52),lost,1177,( -460968),SARVAJEET SINGH,Kamera Samaj Party
4663,Uttar Pradesh,Allahabad(52),lost,1025,( -461120),RAJDHAR SINGH PATEL,Rashtriya Samaj Dal (R)
4664,Uttar Pradesh,Allahabad(52),,9952,( -452193),NOTA,None of the Above
4665,Uttar Pradesh,Amethi(37),won,539228,(+ 167196),KISHORI LAL,Indian National Congress
4666,Uttar Pradesh,Amethi(37),lost,372032,( -167196),SMRITI IRANI,Bharatiya Janata Party
4667,Uttar Pradesh,Amethi(37),lost,34534,( -504694),NANHE SINGH CHAUHAN,Bahujan Samaj Party
4668,Uttar Pradesh,Amethi(37),lost,5699,( -533529),SURENDRA KUMAR,Independent
4669,Uttar Pradesh,Amethi(37),lost,4577,( -534651),DINESH CHANDRA MAURYA,Janshakti Samta Party
4670,Uttar Pradesh,Amethi(37),lost,4020,( -535208),JAGDAMBA PRASAD YADAV,Independent
4671,Uttar Pradesh,Amethi(37),lost,2334,( -536894),BHAGWANDIN PASI,Moulik Adhikar Party
4672,Uttar Pradesh,Amethi(37),lost,2291,( -536937),CHANDRAWATI,Independent
4673,Uttar Pradesh,Amethi(37),lost,1527,( -537701),MOHD HASAN LAHRI,Rashtriya Narayanwadi Vikas Party
4674,Uttar Pradesh,Amethi(37),lost,1401,( -537827),KHUSHIRAM,Independent
4675,Uttar Pradesh,Amethi(37),lost,1305,( -537923),UDAYRAJ,Independent
4676,Uttar Pradesh,Amethi(37),lost,1212,( -538016),SANTRAM,Samajhdar Party
4677,Uttar Pradesh,Amethi(37),lost,1128,( -538100),SHAILENDRA KUMAR MISHRA,Sanyogwadi Party
4678,Uttar Pradesh,Amethi(37),,9383,( -529845),NOTA,None of the Above
4679,Uttar Pradesh,Rae Bareli(36),won,687649,(+ 390030),RAHUL GANDHI,Indian National Congress
4680,Uttar Pradesh,Rae Bareli(36),lost,297619,( -390030),DINESH PRATAP SINGH,Bharatiya Janata Party
4681,Uttar Pradesh,Rae Bareli(36),lost,21624,( -666025),THAKUR PRASAD YADAV,Bahujan Samaj Party
4682,Uttar Pradesh,Rae Bareli(36),lost,8678,( -678971),DILEEP SINGH,Akhil Bhartiya Apna Dal
4683,Uttar Pradesh,Rae Bareli(36),lost,5399,( -682250),HORILAL,Independent
4684,Uttar Pradesh,Rae Bareli(36),lost,4345,( -683304),SUDARSHAN RAM,Bhartiya Panchsheel Party
4685,Uttar Pradesh,Rae Bareli(36),lost,3859,( -683790),HIND ROHITASH,Manavtawadi Samaj Party
4686,Uttar Pradesh,Rae Bareli(36),lost,2174,( -685475),MO MOBIN,Apna Dal (Kamerawadi)
4687,Uttar Pradesh,Rae Bareli(36),,7872,( -679777),NOTA,None of the Above
4688,Uttar Pradesh,Sitapur(30),won,531138,(+ 89641),RAKESH RATHOR,Indian National Congress
4689,Uttar Pradesh,Sitapur(30),lost,441497,( -89641),RAJESH VERMA,Bharatiya Janata Party
4690,Uttar Pradesh,Sitapur(30),lost,99364,( -431774),MAHENDRA SINGH YADAV,Bahujan Samaj Party
4691,Uttar Pradesh,Sitapur(30),lost,7586,( -523552),MO. KASHIF ANSARI,Apna Dal (Kamerawadi)
4692,Uttar Pradesh,Sitapur(30),lost,6734,( -524404),LEKHRAJ LODHI,Aazad Samaj Party (Kanshi Ram)
4693,Uttar Pradesh,Sitapur(30),lost,4194,( -526944),VIDYAWATI GAUTAM,Independent
4694,Uttar Pradesh,Sitapur(30),lost,2429,( -528709),CHANDRA SHEKHAR VERMA,Rashtriya Shoshit Samaj Party
4695,Uttar Pradesh,Sitapur(30),lost,2115,( -529023),RAM ADHAR VERMA,Sardar Patel Siddhant Party
4696,Uttar Pradesh,Sitapur(30),,6958,( -524180),NOTA,None of the Above
4697,Uttar Pradesh,Saharanpur(1),won,547967,(+ 64542),IMRAN MASOOD,Indian National Congress
4698,Uttar Pradesh,Saharanpur(1),lost,483425,( -64542),RAGHAV LAKHANPAL,Bharatiya Janata Party
4699,Uttar Pradesh,Saharanpur(1),lost,180353,( -367614),MAJID ALI,Bahujan Samaj Party
4700,Uttar Pradesh,Saharanpur(1),lost,5400,( -542567),MOHD INAM,Akhil Bhartiya Parivar Party
4701,Uttar Pradesh,Saharanpur(1),lost,2373,( -545594),SHABNAM,Independent
4702,Uttar Pradesh,Saharanpur(1),lost,1698,( -546269),SHAHBAJ,Independent
4703,Uttar Pradesh,Saharanpur(1),lost,1230,( -546737),RASHID KHAN,Independent
4704,Uttar Pradesh,Saharanpur(1),lost,885,( -547082),TASMEEM BANO,Independent
4705,Uttar Pradesh,Saharanpur(1),lost,813,( -547154),RAJKUMAR,Independent
4706,Uttar Pradesh,Saharanpur(1),lost,745,( -547222),KAMRAN,Independent
4707,Uttar Pradesh,Saharanpur(1),,4566,( -543401),NOTA,None of the Above
4708,Uttar Pradesh,Bijnor(4),won,404493,(+ 37508),CHANDAN CHAUHAN,Rashtriya Lok Dal
4709,Uttar Pradesh,Bijnor(4),lost,366985,( -37508),DEEPAK,Samajwadi Party
4710,Uttar Pradesh,Bijnor(4),lost,218986,( -185507),VIJENDER SINGH,Bahujan Samaj Party
4711,Uttar Pradesh,Bijnor(4),lost,8072,( -396421),ABDUL BARI,Jai Samta Party
4712,Uttar Pradesh,Bijnor(4),lost,7318,( -397175),DEEPAK KUMAR,Independent
4713,Uttar Pradesh,Bijnor(4),lost,2788,( -401705),ZAHEER,Independent
4714,Uttar Pradesh,Bijnor(4),lost,2373,( -402120),RAJAPAL,Peoples Party of India (Democratic)
4715,Uttar Pradesh,Bijnor(4),lost,2347,( -402146),MOHD. SHAHJAD,Independent
4716,Uttar Pradesh,Bijnor(4),lost,2343,( -402150),FARMAN,Majloom Samaj Party
4717,Uttar Pradesh,Bijnor(4),lost,2176,( -402317),CHANDAN SINGH,Independent
4718,Uttar Pradesh,Bijnor(4),lost,2105,( -402388),RAMDHAN SINGH,Majdoor Kisan Union Party
4719,Uttar Pradesh,Bijnor(4),,4446,( -400047),NOTA,None of the Above
4720,Telangana,Chevella(10),won,809882,(+ 172897),KONDA VISHWESHWAR REDDY,Bharatiya Janata Party
4721,Telangana,Chevella(10),lost,636985,( -172897),DR GADDAM RANJITH REDDY,Indian National Congress
4722,Telangana,Chevella(10),lost,178968,( -630914),KASANI GYANESHWAR KASANI,Bharat Rashtra Samithi
4723,Telangana,Chevella(10),lost,4284,( -805598),RAMULU BINGI,Yuga Thulasi Party
4724,Telangana,Chevella(10),lost,3748,( -806134),KONDA VISHVESHWAR REDDY,All India Forward Bloc
4725,Telangana,Chevella(10),lost,2688,( -807194),SRIDEVI M,Alliance of Democratic Reforms Party
4726,Telangana,Chevella(10),lost,2373,( -807509),MOHAMMED SALEEM,Rashtriya Praja Congress  (Secular)
4727,Telangana,Chevella(10),lost,1938,( -807944),SAHITHI DASARI,Independent
4728,Telangana,Chevella(10),lost,1698,( -808184),RANJIT REDDY GADE,Revolutionary Socialist Party
4729,Telangana,Chevella(10),lost,1648,( -808234),THOTLA RAGHAVENDER MUDIRAJ,Dharma Samaj Party
4730,Telangana,Chevella(10),lost,1647,( -808235),MOHD SHAKEEL,Desh Janhit Party
4731,Telangana,Chevella(10),lost,1517,( -808365),JANAPALA DURGA PRASAD,Independent
4732,Telangana,Chevella(10),lost,1510,( -808372),JALEEL AHMED,Independent
4733,Telangana,Chevella(10),lost,1495,( -808387),B V RAMESH NAIDU,Socialist Party (India)
4734,Telangana,Chevella(10),lost,1426,( -808456),PHANI PRASAD KATAKAM,Social Justice Party of India
4735,Telangana,Chevella(10),lost,1386,( -808496),SUGURU SRINIVAS,Jai Swaraj Party
4736,Telangana,Chevella(10),lost,1240,( -808642),G MALLESHAM GOUD,Independent
4737,Telangana,Chevella(10),lost,1155,( -808727),KATHULA YADAIAH,Independent
4738,Telangana,Chevella(10),lost,1139,( -808743),DURGA PRASAD T,Praja Velugu Party
4739,Telangana,Chevella(10),lost,1075,( -808807),V PANDU,Independent
4740,Telangana,Chevella(10),lost,971,( -808911),SANEM RAJU GOUD,Praja Ektha Party
4741,Telangana,Chevella(10),lost,752,( -809130),GONE SRINIVAS REDDY,Independent
4742,Telangana,Chevella(10),lost,661,( -809221),GOVIND LAL,Independent
4743,Telangana,Chevella(10),lost,635,( -809247),MOHAMMED ABDUL QAVI ABBASI,All India Majlis-E-Inquilab-E-Millat
4744,Telangana,Chevella(10),lost,628,( -809254),MOHAMMAD PASHA,Independent
4745,Telangana,Chevella(10),lost,611,( -809271),P GOVIND,Bahujan Mukti Party
4746,Telangana,Chevella(10),lost,583,( -809299),EESARI SURYAPRAKASH REDDY,Independent
4747,Telangana,Chevella(10),lost,581,( -809301),SUDHAKAR VANAM,Marxist Communist Party of India (United)
4748,Telangana,Chevella(10),lost,525,( -809357),NARASIMHA REDDY DYAPA,Telangana Republican Party
4749,Telangana,Chevella(10),lost,494,( -809388),MOHAMMED IQBAL,Independent
4750,Telangana,Chevella(10),lost,489,( -809393),VISHWAKARMA SAPTHAGIRI,Independent
4751,Telangana,Chevella(10),lost,488,( -809394),ANKAGALA PRAVEEN KUMAR,Independent
4752,Telangana,Chevella(10),lost,449,( -809433),ANJANEYULU NEERATI,Independent
4753,Telangana,Chevella(10),lost,446,( -809436),KANDIKEKAR SRINIVAS,Independent
4754,Telangana,Chevella(10),lost,436,( -809446),CHINTALAGARI VENKAT SWAMY,Blue India Party
4755,Telangana,Chevella(10),lost,430,( -809452),PALAMAKULA MADHU,India Praja Bandhu Party
4756,Telangana,Chevella(10),lost,397,( -809485),KAVALI SUKUMAR,Independent
4757,Telangana,Chevella(10),lost,312,( -809570),SERUBAI VASANTH KUMAR,Rashtra Samanya Praja Party
4758,Telangana,Chevella(10),lost,301,( -809581),MOHAMMED MUSTAFA RIZWAN,Independent
4759,Telangana,Chevella(10),lost,285,( -809597),MOHAMMAD RIAZUR REHMAN SHAIK,Independent
4760,Telangana,Chevella(10),lost,248,( -809634),MOHAMMED ALI,Independent
4761,Telangana,Chevella(10),lost,228,( -809654),AMIR SAJID,Independent
4762,Telangana,Chevella(10),lost,179,( -809703),MOHAMMED AFSAR QUDOOS,Independent
4763,Telangana,Chevella(10),,6423,( -803459),NOTA,None of the Above
4764,Telangana,Secunderabad(8),won,473012,(+ 49944),G. KISHAN REDDY,Bharatiya Janata Party
4765,Telangana,Secunderabad(8),lost,423068,( -49944),DANAM NAGENDER,Indian National Congress
4766,Telangana,Secunderabad(8),lost,129586,( -343426),PADMA RAO . T,Bharat Rashtra Samithi
4767,Telangana,Secunderabad(8),lost,2268,( -470744),DR.  BASWANANDAM DANDEPU,Bahujan Samaj Party
4768,Telangana,Secunderabad(8),lost,1727,( -471285),SARARAPU SRISAILAM,Telangana Rajya Samithi
4769,Telangana,Secunderabad(8),lost,996,( -472016),SAPAVAT SUMAN,Independent
4770,Telangana,Secunderabad(8),lost,974,( -472038),R.S.J. THOMAS,Jai Swaraj Party
4771,Telangana,Secunderabad(8),lost,826,( -472186),RAASALA VINOD KUMAR,Dharma Samaj Party
4772,Telangana,Secunderabad(8),lost,679,( -472333),KOLISETTY SHIVA KUMAR,Yuga Thulasi Party
4773,Telangana,Secunderabad(8),lost,673,( -472339),MACHCHERLA VENKATA REDDY,Independent
4774,Telangana,Secunderabad(8),lost,597,( -472415),MOHAMMED AKRAM ALI KHAN,Independent
4775,Telangana,Secunderabad(8),lost,484,( -472528),MOHAMMED RAFIUDDIN KALEEM,All India Majlis-E-Inquilab-E-Millat
4776,Telangana,Secunderabad(8),lost,474,( -472538),LUNAVATH HARI RAM,Independent
4777,Telangana,Secunderabad(8),lost,418,( -472594),BOGGULA SUNIITHHA,Independent
4778,Telangana,Secunderabad(8),lost,410,( -472602),MOHAMMED AYUB ALI,Anna YSR Congress Party
4779,Telangana,Secunderabad(8),lost,342,( -472670),MOHAMMED FASI UDDIN,Independent
4780,Telangana,Secunderabad(8),lost,340,( -472672),PULIMAMIDI VENKATESH GUPTA,Independent
4781,Telangana,Secunderabad(8),lost,320,( -472692),IBRAHIM KHAN,Independent
4782,Telangana,Secunderabad(8),lost,315,( -472697),ANDRAPU SUDARSHAN,Independent
4783,Telangana,Secunderabad(8),lost,295,( -472717),JUNAID ANAM SIDDIQUI,Independent
4784,Telangana,Secunderabad(8),lost,285,( -472727),KRANTHI KUMAR BANDELA,Indian National Yuva Jana Party
4785,Telangana,Secunderabad(8),lost,281,( -472731),DR. R. GANGADHAR,Socialist Unity Centre Of India (COMMUNIST)
4786,Telangana,Secunderabad(8),lost,274,( -472738),UTTAM PRAVEEN KUMAR,Independent
4787,Telangana,Secunderabad(8),lost,272,( -472740),GOWLIKAR SONY,Social Justice Party of India
4788,Telangana,Secunderabad(8),lost,252,( -472760),BATHULA RAVI,Independent
4789,Telangana,Secunderabad(8),lost,243,( -472769),P C LINGANNA,Independent
4790,Telangana,Secunderabad(8),lost,242,( -472770),MOHAMMED IBRAHIM AHMED,Independent
4791,Telangana,Secunderabad(8),lost,223,( -472789),SANGALA FLORY,Independent
4792,Telangana,Secunderabad(8),lost,223,( -472789),GANESH BHARGAVI GUNDE,Jai Bharat National Party
4793,Telangana,Secunderabad(8),lost,221,( -472791),MOHAMMED ABDUL AZEEM,Independent
4794,Telangana,Secunderabad(8),lost,216,( -472796),V. K. VIJAYA LAKSHMI,Independent
4795,Telangana,Secunderabad(8),lost,210,( -472802),CHEEKATI BHUPAL GOUD,All India Backward People Sunami Party
4796,Telangana,Secunderabad(8),lost,205,( -472807),BOMMAKANTI SOWMYA,Pyramid Party of India
4797,Telangana,Secunderabad(8),lost,161,( -472851),KRUPAVARAM GANDU,Independent
4798,Telangana,Secunderabad(8),lost,143,( -472869),PAMPARI NARENDER,Independent
4799,Telangana,Secunderabad(8),lost,133,( -472879),SYED KHADER,Independent
4800,Telangana,Secunderabad(8),lost,133,( -472879),B . SUNITHA RANI,Socialist Party (India)
4801,Telangana,Secunderabad(8),lost,130,( -472882),PAGIDIPALLI SHYAMSON,Viduthalai Chiruthaigal Katchi
4802,Telangana,Secunderabad(8),lost,129,( -472883),CHALIKA CHANDRA SEKHAR,Independent
4803,Telangana,Secunderabad(8),lost,127,( -472885),REDDYMALLA PARVATHI,Independent
4804,Telangana,Secunderabad(8),lost,124,( -472888),VELAMARTHI. RAVI KIRAN,Independent
4805,Telangana,Secunderabad(8),lost,120,( -472892),K. MURALI KRISHNA,Independent
4806,Telangana,Secunderabad(8),lost,117,( -472895),DEVENDAR KONNE,Independent
4807,Telangana,Secunderabad(8),lost,114,( -472898),KONDOJU MOHAN,Independent
4808,Telangana,Secunderabad(8),lost,111,( -472901),MD KHALEEL UZ ZAMA,Independent
4809,Telangana,Secunderabad(8),,5166,( -467846),NOTA,None of the Above
4810,Telangana,Malkajgiri(7),won,991042,(+ 391475),EATALA RAJENDER,Bharatiya Janata Party
4811,Telangana,Malkajgiri(7),lost,599567,( -391475),PATNAM SUNEETHA MAHENDER REDDY,Indian National Congress
4812,Telangana,Malkajgiri(7),lost,300486,( -690556),RAGIDI LAXMA REDDY,Bharat Rashtra Samithi
4813,Telangana,Malkajgiri(7),lost,6800,( -984242),THALLADA VENKATESWARLU,Independent
4814,Telangana,Malkajgiri(7),lost,4779,( -986263),ANITHA REDDY SHEELAM,Bahujan Samaj Party
4815,Telangana,Malkajgiri(7),lost,1912,( -989130),VAISHNAVI PRASAD,Independent
4816,Telangana,Malkajgiri(7),lost,1835,( -989207),PAREE (PESARIKAYALA PAREEKSHITH REDDY),Independent
4817,Telangana,Malkajgiri(7),lost,1821,( -989221),DONTHULA BIKSHAPATHI,Independent
4818,Telangana,Malkajgiri(7),lost,1643,( -989399),BHARATHA SUDARSHAN,Independent
4819,Telangana,Malkajgiri(7),lost,1162,( -989880),APPARAO KONDA,Rashtra Samanya Praja Party
4820,Telangana,Malkajgiri(7),lost,1137,( -989905),MOUTAM SAMPATH,Independent
4821,Telangana,Malkajgiri(7),lost,1110,( -989932),RAJESH MISHRA,Independent
4822,Telangana,Malkajgiri(7),lost,1069,( -989973),BANJAPALLY SUDHA RANI,Independent
4823,Telangana,Malkajgiri(7),lost,987,( -990055),CHIRIPI REDDY RAMESH,Independent
4824,Telangana,Malkajgiri(7),lost,933,( -990109),PEDDAPALLI SANDEEP,Bharathiya YuvaKula Dalam
4825,Telangana,Malkajgiri(7),lost,789,( -990253),BOIN DURGA PRASAD YADAV,Dharma Samaj Party
4826,Telangana,Malkajgiri(7),lost,723,( -990319),CHAMAKURA RAJAIAH ALIAS PIDIKILI RAJU,Social Justice Party of India
4827,Telangana,Malkajgiri(7),lost,694,( -990348),NARRA SUKHENDER REDDY,Vidhyarthula Rajakiya Party
4828,Telangana,Malkajgiri(7),lost,539,( -990503),KANTE SAYANNA,Independent
4829,Telangana,Malkajgiri(7),lost,508,( -990534),JUVVA PHANI KUMAR CHOWDARY,Jai Bharat National Party
4830,Telangana,Malkajgiri(7),lost,494,( -990548),YADISHWAR NAKKA,Telangana Republican Party
4831,Telangana,Malkajgiri(7),lost,447,( -990595),R. SUBENDER SINGH,Independent
4832,Telangana,Malkajgiri(7),,13366,( -977676),NOTA,None of the Above
4833,Telangana,Medak(6),won,471217,(+ 39139),MADHAVANENI RAGHUNANDAN RAO,Bharatiya Janata Party
4834,Telangana,Medak(6),lost,432078,( -39139),NEELAM MADHU,Indian National Congress
4835,Telangana,Medak(6),lost,396790,( -74427),P. VENKATRAMA REDDY,Bharat Rashtra Samithi
4836,Telangana,Medak(6),lost,17216,( -454001),NANDA KISHORE TALLADA,Alliance of Democratic Reforms Party
4837,Telangana,Medak(6),lost,11060,( -460157),SARA YADAGIRI GOUD,Praja Velugu Party
4838,Telangana,Medak(6),lost,7463,( -463754),BODAPATLA ESHWAR,Bahujan Samaj Party
4839,Telangana,Medak(6),lost,5166,( -466051),DUBALA SRI SAILAM,Independent
4840,Telangana,Medak(6),lost,5116,( -466101),ADLA KUMAR,Independent
4841,Telangana,Medak(6),lost,2366,( -468851),BANDAPALLY SRINIVAS,Socialist Unity Centre Of India (COMMUNIST)
4842,Telangana,Medak(6),lost,2132,( -469085),ANIL GOUD,Bharat Jodo Party
4843,Telangana,Medak(6),lost,2038,( -469179),ATI ANJANEYULU,Independent
4844,Telangana,Medak(6),lost,2031,( -469186),ABHILASH CHELIMELA,Independent
4845,Telangana,Medak(6),lost,2011,( -469206),MAISANGARI SUNIL,India Praja Bandhu Party
4846,Telangana,Medak(6),lost,2010,( -469207),PRADEEP,Independent
4847,Telangana,Medak(6),lost,1774,( -469443),INDRAGOUD SILIVERI,National Nava Kranthi Party
4848,Telangana,Medak(6),lost,1540,( -469677),NAGAMANI ACHA,Independent
4849,Telangana,Medak(6),lost,1467,( -469750),A. KRANTHI KUMAR,Independent
4850,Telangana,Medak(6),lost,1414,( -469803),MAREPALLY LAXMINARAYANA,Independent
4851,Telangana,Medak(6),lost,1393,( -469824),BALESH UPPARI,Independent
4852,Telangana,Medak(6),lost,1264,( -469953),VENKATESH BEJUGAM,Independent
4853,Telangana,Medak(6),lost,1196,( -470021),BOMMALA VIJAY KUMAR,Independent
4854,Telangana,Medak(6),lost,1152,( -470065),ANNELA LAXMAN,Dharma Samaj Party
4855,Telangana,Medak(6),lost,924,( -470293),ABHILASH SHIRNA,Independent
4856,Telangana,Medak(6),lost,917,( -470300),DODLA VENKAT,Telangana Praja Shakthi Party
4857,Telangana,Medak(6),lost,797,( -470420),ABISHEK GOUD THABETI,Jana Shankhaaraavam Party
4858,Telangana,Medak(6),lost,793,( -470424),MEDI SRINIVAS REDDI,Independent
4859,Telangana,Medak(6),lost,778,( -470439),VUTLA RAMESH,Independent
4860,Telangana,Medak(6),lost,675,( -470542),D. NARAHARI,Independent
4861,Telangana,Medak(6),lost,658,( -470559),GOLLAPALLY SAYA GOUD,Pyramid Party of India
4862,Telangana,Medak(6),lost,607,( -470610),SATYANARAYANA GOUD KOVURI,Independent
4863,Telangana,Medak(6),lost,575,( -470642),DASARI BHANUCHANDER,Independent
4864,Telangana,Medak(6),lost,559,( -470658),DADIGE RAJENDAR,Independent
4865,Telangana,Medak(6),lost,531,( -470686),C.H. NAVEEN KUMAR,Independent
4866,Telangana,Medak(6),lost,509,( -470708),KONDI ASHOK,Independent
4867,Telangana,Medak(6),lost,494,( -470723),URELLI YELLAIAH,Viduthalai Chiruthaigal Katchi
4868,Telangana,Medak(6),lost,431,( -470786),GONDHI BHUJANGAMU,Independent
4869,Telangana,Medak(6),lost,416,( -470801),MOHD AZHER,Independent
4870,Telangana,Medak(6),lost,348,( -470869),S RAJESH SAGAR,Independent
4871,Telangana,Medak(6),lost,344,( -470873),KASOJU SRIKANTH,Independent
4872,Telangana,Medak(6),lost,317,( -470900),K. LAXMINARAYANA,Independent
4873,Telangana,Medak(6),lost,293,( -470924),KOLKUR PRATAP,Independent
4874,Telangana,Medak(6),lost,290,( -470927),GADILA ANJANEYULU,Independent
4875,Telangana,Medak(6),lost,248,( -470969),GOUTI MALLESH,Independent
4876,Telangana,Medak(6),lost,224,( -470993),K.RAGHU,Independent
4877,Telangana,Medak(6),,4617,( -466600),NOTA,None of the Above
4878,Telangana,Nizamabad(4),won,592318,(+ 109241),ARVIND DHARMAPURI,Bharatiya Janata Party
4879,Telangana,Nizamabad(4),lost,483077,( -109241),JEEVANREDDY THATIPARTHI,Indian National Congress
4880,Telangana,Nizamabad(4),lost,102406,( -489912),GOVERDHAN BAJIREDDY,Bharat Rashtra Samithi
4881,Telangana,Nizamabad(4),lost,5710,( -586608),GANTA CHARITHA RAO,Independent
4882,Telangana,Nizamabad(4),lost,5453,( -586865),YOUGENDAR GATLA,Alliance of Democratic Reforms Party
4883,Telangana,Nizamabad(4),lost,5312,( -587006),KOTAGIRI SRINIVAS,Independent
4884,Telangana,Nizamabad(4),lost,4263,( -588055),PUPPALA LIMBADRI,Bahujan Samaj Party
4885,Telangana,Nizamabad(4),lost,4091,( -588227),TUTUKURU JEEVAN REDDY,Independent
4886,Telangana,Nizamabad(4),lost,3886,( -588432),KANDELA SUMAN,Dharma Samaj Party
4887,Telangana,Nizamabad(4),lost,3024,( -589294),GOLI. NARESH,Dalita Bahujana Party
4888,Telangana,Nizamabad(4),lost,2907,( -589411),ARE RAJENDHAR,Independent
4889,Telangana,Nizamabad(4),lost,2106,( -590212),KOTHAKONDA SHAKTI PRASAD,Independent
4890,Telangana,Nizamabad(4),lost,2074,( -590244),VEMULAA VIKRAM REDDY,Independent
4891,Telangana,Nizamabad(4),lost,1723,( -590595),GOPI CHENDRIAH,Independent
4892,Telangana,Nizamabad(4),lost,1468,( -590850),ALI MANSOOR,Anna YSR Congress Party
4893,Telangana,Nizamabad(4),lost,1129,( -591189),GUYYA SAIKRISHNA MURTHY,Yuga Thulasi Party
4894,Telangana,Nizamabad(4),lost,1048,( -591270),SYED ASGAR,Independent
4895,Telangana,Nizamabad(4),lost,919,( -591399),MALAVAT VITHAL,Independent
4896,Telangana,Nizamabad(4),lost,830,( -591488),MOGILI RAJKUMAR,India Praja Bandhu Party
4897,Telangana,Nizamabad(4),lost,793,( -591525),RAPELLY SRINIVAS,Independent
4898,Telangana,Nizamabad(4),lost,723,( -591595),DESHABOINA LAXMINARAYANA,Independent
4899,Telangana,Nizamabad(4),lost,649,( -591669),ABBAGONI ASHOK GOUD,Bahujana Left Party
4900,Telangana,Nizamabad(4),lost,636,( -591682),DEVATHI SRINIVAS,Bahujan Mukti Party
4901,Telangana,Nizamabad(4),lost,581,( -591737),B B NAIK,Independent
4902,Telangana,Nizamabad(4),lost,580,( -591738),BHUKYA. NANDU,Vidhyarthula Rajakiya Party
4903,Telangana,Nizamabad(4),lost,426,( -591892),RAPALLY SATYANARAYANA,Independent
4904,Telangana,Nizamabad(4),lost,375,( -591943),RAGI ANIL,Independent
4905,Telangana,Nizamabad(4),lost,307,( -592011),PALAMURI SAI NIKHIL,Independent
4906,Telangana,Nizamabad(4),lost,284,( -592034),PRASHANTH KATRAJI,Independent
4907,Telangana,Nizamabad(4),,4483,( -587835),NOTA,None of the Above
4908,Telangana,Karimnagar (3),won,585116,(+ 225209),BANDI SANJAY KUMAR,Bharatiya Janata Party
4909,Telangana,Karimnagar (3),lost,359907,( -225209),VELCHALA RAJENDER RAO,Indian National Congress
4910,Telangana,Karimnagar (3),lost,282163,( -302953),VINOD KUMAR BOIANAPALLI,Bharat Rashtra Samithi
4911,Telangana,Karimnagar (3),lost,11612,( -573504),ABBADI BUCHI REDDY,Independent
4912,Telangana,Karimnagar (3),lost,9064,( -576052),ARUNA THALLAPALLY,Alliance of Democratic Reforms Party
4913,Telangana,Karimnagar (3),lost,8756,( -576360),KOTA SHYAM KUMAR,Independent
4914,Telangana,Karimnagar (3),lost,8706,( -576410),ANOSE KATKOORI,Independent
4915,Telangana,Karimnagar (3),lost,8109,( -577007),MAREPALLI MOGILAIAH,Bahujan Samaj Party
4916,Telangana,Karimnagar (3),lost,3257,( -581859),RAJENDER POTHURI,Independent
4917,Telangana,Karimnagar (3),lost,3074,( -582042),SRAVAN PEDDAPELLY,Bharathiya YuvaKula Dalam
4918,Telangana,Karimnagar (3),lost,2945,( -582171),GADDA SATHISH,Independent
4919,Telangana,Karimnagar (3),lost,2754,( -582362),ANILREDDY KADTHALA,National Nava Kranthi Party
4920,Telangana,Karimnagar (3),lost,2586,( -582530),CHILUVERU SRIKANTH,Dharma Samaj Party
4921,Telangana,Karimnagar (3),lost,2224,( -582892),AKSHAY KUMAR MEKALA,Independent
4922,Telangana,Karimnagar (3),lost,2096,( -583020),JOURNALIST VIKRAM REDDY VEMULAA,Independent
4923,Telangana,Karimnagar (3),lost,1924,( -583192),ASHOK PANCHIKA,Social Justice Party of India
4924,Telangana,Karimnagar (3),lost,1744,( -583372),GAVVALA LAXMI,Independent
4925,Telangana,Karimnagar (3),lost,1694,( -583422),GATTAIAH YADAV BARIGE,Independent
4926,Telangana,Karimnagar (3),lost,1613,( -583503),RANAPRATAP GATTU,Socialist Party (India)
4927,Telangana,Karimnagar (3),lost,1474,( -583642),GUDISHE  MOHAN,Independent
4928,Telangana,Karimnagar (3),lost,1125,( -583991),MANASA PERALA,Independent
4929,Telangana,Karimnagar (3),lost,994,( -584122),PODISHETTI SAMMAIAH,Bahujan Mukti Party
4930,Telangana,Karimnagar (3),lost,928,( -584188),VENKATANARSAIAH DYAGALA @ DEGALA,Independent
4931,Telangana,Karimnagar (3),lost,889,( -584227),SHIVARATRI SRINIVAS,Independent
4932,Telangana,Karimnagar (3),lost,830,( -584286),CHINTHA ANILKUMAR,Pyramid Party of India
4933,Telangana,Karimnagar (3),lost,790,( -584326),CHEEKOTI VARUN KUMAR GUPTA,Telugu Congress Party
4934,Telangana,Karimnagar (3),lost,575,( -584541),RAPOLE RAMKUMAR BHARADWAJ,Independent
4935,Telangana,Karimnagar (3),lost,465,( -584651),DEVUNOORI SRINIVASU,Independent
4936,Telangana,Karimnagar (3),,5438,( -579678),NOTA,None of the Above
4937,Telangana,Adilabad (1),won,568168,(+ 90652),GODAM NAGESH,Bharatiya Janata Party
4938,Telangana,Adilabad (1),lost,477516,( -90652),ATHRAM SUGUNA,Indian National Congress
4939,Telangana,Adilabad (1),lost,137300,( -430868),ATHRAM SAKKU,Bharat Rashtra Samithi
4940,Telangana,Adilabad (1),lost,7499,( -560669),MALOTHU SYAMLAL NAYAK,Alliance of Democratic Reforms Party
4941,Telangana,Adilabad (1),lost,6744,( -561424),MESRAM JANGUBAPU,Bahujan Samaj Party
4942,Telangana,Adilabad (1),lost,6528,( -561640),RATHOD SUBASH,Independent
4943,Telangana,Adilabad (1),lost,6446,( -561722),BUKYA JAIVANTH RAO,Independent
4944,Telangana,Adilabad (1),lost,4644,( -563524),CHAVAN SUDHARSHAN,Anna YSR Congress Party
4945,Telangana,Adilabad (1),lost,3468,( -564700),GANGADEVI MESRAM,Dharma Samaj Party
4946,Telangana,Adilabad (1),lost,2292,( -565876),N. TIRUPATI,Vidhyarthula Rajakiya Party
4947,Telangana,Adilabad (1),lost,1685,( -566483),KODAPA VAMAN RAO,Gondwana Dandkaranya Party
4948,Telangana,Adilabad (1),lost,1545,( -566623),GEDAM. SAGAR,India Praja Bandhu Party
4949,Telangana,Adilabad (1),,11762,( -556406),NOTA,None of the Above
4950,Telangana,Mahabubabad  (16),won,612774,(+ 349165),BALRAM NAIK PORIKA,Indian National Congress
4951,Telangana,Mahabubabad  (16),lost,263609,( -349165),KAVITHA MALOTH,Bharat Rashtra Samithi
4952,Telangana,Mahabubabad  (16),lost,110444,( -502330),PROFESSOR. AZMEERA SEETARAM NAIK,Bharatiya Janata Party
4953,Telangana,Mahabubabad  (16),lost,39136,( -573638),ARUN KUMAR MYPATHI,All India Forward Bloc
4954,Telangana,Mahabubabad  (16),lost,11893,( -600881),RAGHU VARMA JATOTHU,Alliance of Democratic Reforms Party
4955,Telangana,Mahabubabad  (16),lost,10119,( -602655),DURGA PALVANCHA,Independent
4956,Telangana,Mahabubabad  (16),lost,8093,( -604681),KONETI SUJATHA,Bahujan Samaj Party
4957,Telangana,Mahabubabad  (16),lost,6431,( -606343),ANIL KUMAR BODA,Independent
4958,Telangana,Mahabubabad  (16),lost,5100,( -607674),CHANDA LINGAIAH,Independent
4959,Telangana,Mahabubabad  (16),lost,4062,( -608712),MOKALLA MURALIKRISHNA,Independent
4960,Telangana,Mahabubabad  (16),lost,3755,( -609019),SOYAM KANNA RAJU,Gondvana Gantantra Party
4961,Telangana,Mahabubabad  (16),lost,3712,( -609062),BANOTH PREM NAYAK [BPN],Independent
4962,Telangana,Mahabubabad  (16),lost,3196,( -609578),PAYAM.SINGARAJU,Independent
4963,Telangana,Mahabubabad  (16),lost,2887,( -609887),PADIGA YARRAIAH,Independent
4964,Telangana,Mahabubabad  (16),lost,2781,( -609993),DV NAIK,Independent
4965,Telangana,Mahabubabad  (16),lost,2542,( -610232),GUGULOTH SHEKAR NAIK,Independent
4966,Telangana,Mahabubabad  (16),lost,2244,( -610530),RAVVA. BHADRAMMA,Dharma Samaj Party
4967,Telangana,Mahabubabad  (16),lost,2172,( -610602),SODE VENKATESWARLU,Gondwana Dandkaranya Party
4968,Telangana,Mahabubabad  (16),lost,1715,( -611059),BANOTH LINGYA NAIK,Independent
4969,Telangana,Mahabubabad  (16),lost,1590,( -611184),BODA PRASHANTH,Independent
4970,Telangana,Mahabubabad  (16),lost,1448,( -611326),BURKA KRISHNAVENI,Socialist Party (India)
4971,Telangana,Mahabubabad  (16),lost,1367,( -611407),BANOTHU LINGANNA,Blue India Party
4972,Telangana,Mahabubabad  (16),lost,1125,( -611649),VANKUDOTHU RAVI KUMAR (RAVANNA),Telangana Jaghir Party
4973,Telangana,Mahabubabad  (16),,6591,( -606183),NOTA,None of the Above
4974,Telangana,Warangal(15),won,581294,(+ 220339),KADIYAM KAVYA,Indian National Congress
4975,Telangana,Warangal(15),lost,360955,( -220339),AROORI RAMESH,Bharatiya Janata Party
4976,Telangana,Warangal(15),lost,232033,( -349261),Dr. MARAPALLY SUDHEER KUMAR,Bharat Rashtra Samithi
4977,Telangana,Warangal(15),lost,11115,( -570179),AMBOJU BUDDAIAH,Alliance of Democratic Reforms Party
4978,Telangana,Warangal(15),lost,9327,( -571967),KALPANA PANJA,Bahujan Samaj Party
4979,Telangana,Warangal(15),lost,6259,( -575035),KONGARA ANIL KUMAR,Independent
4980,Telangana,Warangal(15),lost,4486,( -576808),ANIL KUMAR GADEPAKA,Independent
4981,Telangana,Warangal(15),lost,4265,( -577029),BUNGA JYOTHI RAMANA,Aihra National Party
4982,Telangana,Warangal(15),lost,4038,( -577256),MEKALA SUMAN,Dharma Samaj Party
4983,Telangana,Warangal(15),lost,3634,( -577660),AR NENA PREM READY RIPEEKA,Mana Telangana Rashtra Samaikya Party
4984,Telangana,Warangal(15),lost,3286,( -578008),KOYYADA NARESH,Independent
4985,Telangana,Warangal(15),lost,3022,( -578272),PRAMEELA JANNU,Independent
4986,Telangana,Warangal(15),lost,2949,( -578345),BARIGELA SHIVA,Independent
4987,Telangana,Warangal(15),lost,2773,( -578521),S P K  SAGAR,Jai Maha Bharath Party
4988,Telangana,Warangal(15),lost,2239,( -579055),PASULA RAVI,Republican Party of India (Athawale)
4989,Telangana,Warangal(15),lost,2083,( -579211),DEVARAJU PENDELA,Rashtriya Praja Congress  (Secular)
4990,Telangana,Warangal(15),lost,1955,( -579339),POTHARAJU NARASIMHARAJU,Independent
4991,Telangana,Warangal(15),lost,1825,( -579469),BOLLAM VIJAY KUMAR,Independent
4992,Telangana,Warangal(15),lost,1769,( -579525),MACHA DEVENDER,Viduthalai Chiruthaigal Katchi
4993,Telangana,Warangal(15),lost,1664,( -579630),NARMADA PRAVEEN,Pyramid Party of India
4994,Telangana,Warangal(15),lost,1659,( -579635),ROOPA POLEPAKA,Independent
4995,Telangana,Warangal(15),lost,1638,( -579656),DHAYAKAR GAJJI,Independent
4996,Telangana,Warangal(15),lost,1337,( -579957),POGULA ASHOK,Independent
4997,Telangana,Warangal(15),lost,1292,( -580002),THANDRA ESHWAR,Independent
4998,Telangana,Warangal(15),lost,1051,( -580243),MANDA NARESH,Independent
4999,Telangana,Warangal(15),lost,1023,( -580271),KOTHAPALLI SAVITHRI,Marxist Communist Party of India (United)
5000,Telangana,Warangal(15),lost,913,( -580381),BOCHU RAJU,Independent
5001,Telangana,Warangal(15),lost,909,( -580385),PUTTA VINOD KUMAR,Independent
5002,Telangana,Warangal(15),lost,906,( -580388),PAITHARA ACHYUTH,Independent
5003,Telangana,Warangal(15),lost,847,( -580447),MANGALAPELLI ASHAIAH,Independent
5004,Telangana,Warangal(15),lost,826,( -580468),GADDAM CHIRANJEEVI,Independent
5005,Telangana,Warangal(15),lost,819,( -580475),MOTHKUPELLY PRABHAKAR,Independent
5006,Telangana,Warangal(15),lost,752,( -580542),GANNARAPU RAVINDER,Independent
5007,Telangana,Warangal(15),lost,713,( -580581),GANIPAKA PRADEEP,Independent
5008,Telangana,Warangal(15),lost,662,( -580632),RAMESH BABU SHANIGARAPU,Independent
5009,Telangana,Warangal(15),lost,567,( -580727),Dr GADAM MALLESH,Jai Bharat National Party
5010,Telangana,Warangal(15),lost,538,( -580756),THALLAPALLY VENKATAIAH,Independent
5011,Telangana,Warangal(15),lost,505,( -580789),BASHIPAKA SUDHAKAR,Independent
5012,Telangana,Warangal(15),lost,474,( -580820),RK GANAPURAM,Independent
5013,Telangana,Warangal(15),lost,401,( -580893),CHILUVERU PRATHAP,Independent
5014,Telangana,Warangal(15),lost,384,( -580910),THATIKAYALA SATHISH BABU,Independent
5015,Telangana,Warangal(15),lost,379,( -580915),CHILUMULLA SUJATHA,Independent
5016,Telangana,Warangal(15),,8380,( -572914),NOTA,None of the Above
5017,Telangana,Bhongir (14),won,629143,(+ 222170),CHAMALA KIRAN KUMAR REDDY,Indian National Congress
5018,Telangana,Bhongir (14),lost,406973,( -222170),DR. BOORA NARSAIAH GOUD,Bharatiya Janata Party
5019,Telangana,Bhongir (14),lost,256187,( -372956),KYAMA MALLESH,Bharat Rashtra Samithi
5020,Telangana,Bhongir (14),lost,28730,( -600413),MAHAMD JAHANGIR,Communist Party of India  (Marxist)
5021,Telangana,Bhongir (14),lost,8146,( -620997),RAMESH GOUD THALLAPELLY,Alliance of Democratic Reforms Party
5022,Telangana,Bhongir (14),lost,7769,( -621374),AITARAJU ABENDER,Bahujan Samaj Party
5023,Telangana,Bhongir (14),lost,5750,( -623393),ASURA BALU,Independent
5024,Telangana,Bhongir (14),lost,4718,( -624425),PULIGILLA BIXAPATHI YADAV,National Nava Kranthi Party
5025,Telangana,Bhongir (14),lost,4675,( -624468),BUSHIPAKA VENKATAIAH,Independent
5026,Telangana,Bhongir (14),lost,4433,( -624710),POOSA SRINIVAS,Telangana Rashtra Punahnirmana Samithi
5027,Telangana,Bhongir (14),lost,4304,( -624839),NARENDRAA VEMULA,Jai Swaraj Party
5028,Telangana,Bhongir (14),lost,4093,( -625050),KONGARI LINGA SWAMY,Dharma Samaj Party
5029,Telangana,Bhongir (14),lost,3089,( -626054),TARIGOPPULA MAHENDER,Social Justice Party of India
5030,Telangana,Bhongir (14),lost,2612,( -626531),KARINGULA YADAGIRI,Independent
5031,Telangana,Bhongir (14),lost,2168,( -626975),BETHI NARENDER,Independent
5032,Telangana,Bhongir (14),lost,2010,( -627133),M. GANESH,Pyramid Party of India
5033,Telangana,Bhongir (14),lost,1897,( -627246),MALLEBOINA PARAMESH YADAV,Independent
5034,Telangana,Bhongir (14),lost,1792,( -627351),LINGIDI. VENKATESWARLU,Prajavani  Party
5035,Telangana,Bhongir (14),lost,1737,( -627406),V. SADANANDA REDDY,People Protection Party
5036,Telangana,Bhongir (14),lost,1682,( -627461),DHERAVATH GOPI NAIK,Jai Maha Bharath Party
5037,Telangana,Bhongir (14),lost,1647,( -627496),PENTA RAMESH,Independent
5038,Telangana,Bhongir (14),lost,1465,( -627678),RACHA SUBHADRA REDDY,Socialist Party (India)
5039,Telangana,Bhongir (14),lost,1366,( -627777),VARIKUPPALA. KRISHNA VADDERA,Independent
5040,Telangana,Bhongir (14),lost,1320,( -627823),BASHABOINA LAKSHMAIAH,Independent
5041,Telangana,Bhongir (14),lost,923,( -628220),NUNE VENKAT SWAMY,Independent
5042,Telangana,Bhongir (14),lost,898,( -628245),NARRI. SWAMY KURUMA,Independent
5043,Telangana,Bhongir (14),lost,847,( -628296),JANGA. SUJATHANAVEEN REDDY,Independent
5044,Telangana,Bhongir (14),lost,778,( -628365),ERRA SURYAM,Viduthalai Chiruthaigal Katchi
5045,Telangana,Bhongir (14),lost,633,( -628510),"KONGARI, MALLAIAH",Independent
5046,Telangana,Bhongir (14),lost,617,( -628526),DR : MORIGADI KRISHNA,Independent
5047,Telangana,Bhongir (14),lost,579,( -628564),KANDE. RAMARAJU,Independent
5048,Telangana,Bhongir (14),lost,569,( -628574),KOTHOJU SRINIVASU,National Maha Sabha Party
5049,Telangana,Bhongir (14),lost,541,( -628602),AMIREDDY KIRAN REDDY,Independent
5050,Telangana,Bhongir (14),lost,502,( -628641),CHANDU NAYAK MEGAVATH,Independent
5051,Telangana,Bhongir (14),lost,478,( -628665),KADIRE KIRAN KUMAR,Bahujan Republican  Socialist Party
5052,Telangana,Bhongir (14),lost,447,( -628696),KARUNAKAR REDDY NALLA,Jai Bharat National Party
5053,Telangana,Bhongir (14),lost,433,( -628710),KANDADI. MANIPAL REDDY,Telangana Republican Party
5054,Telangana,Bhongir (14),lost,406,( -628737),UDARI MALLESH,Independent
5055,Telangana,Bhongir (14),lost,393,( -628750),ANIL KUMAR GADEPAKA,Independent
5056,Telangana,Bhongir (14),,4646,( -624497),NOTA,None of the Above
5057,Telangana,Nalgonda(13),won,784337,(+ 559905),KUNDURU RAGHUVEER,Indian National Congress
5058,Telangana,Nalgonda(13),lost,224432,( -559905),SAIDI REDDY SHANAMPUDI,Bharatiya Janata Party
5059,Telangana,Nalgonda(13),lost,218417,( -565920),KANCHARLA KRISHNA REDDY,Bharat Rashtra Samithi
5060,Telangana,Nalgonda(13),lost,10859,( -773478),JANAIAH NANDIPATI,Telangana Sakalajanula Party
5061,Telangana,Nalgonda(13),lost,7177,( -777160),ANJAIAH VIRIGINENI,Bahujan Samaj Party
5062,Telangana,Nalgonda(13),lost,7128,( -777209),NAGARAJU BANDARU,Independent
5063,Telangana,Nalgonda(13),lost,5967,( -778370),MARAM VENKAT REDDY,Independent
5064,Telangana,Nalgonda(13),lost,5286,( -779051),PANUGOTU LALASINGH,Independent
5065,Telangana,Nalgonda(13),lost,5122,( -779215),THALARI RAMBABU,Dharma Samaj Party
5066,Telangana,Nalgonda(13),lost,3569,( -780768),RAMESH SUNKARA,Independent
5067,Telangana,Nalgonda(13),lost,3212,( -781125),POLISHETTY VENKATESHWARLU,Independent
5068,Telangana,Nalgonda(13),lost,2566,( -781771),KUKKALA VENKANNA,Independent
5069,Telangana,Nalgonda(13),lost,2504,( -781833),CHOLLETI PRABHAKAR,Independent
5070,Telangana,Nalgonda(13),lost,1779,( -782558),GOLI SAIDULU,Independent
5071,Telangana,Nalgonda(13),lost,1662,( -782675),MARRI NEHEMIAH,Independent
5072,Telangana,Nalgonda(13),lost,1547,( -782790),RAVI PALAKURI,Independent
5073,Telangana,Nalgonda(13),lost,1040,( -783297),VASKULA MATTAIAH,Marxist Communist Party of India (United)
5074,Telangana,Nalgonda(13),lost,947,( -783390),KUNDARAPU SRIKANTH,Independent
5075,Telangana,Nalgonda(13),lost,846,( -783491),RACHA SUBHADRA REDDY,Socialist Party (India)
5076,Telangana,Nalgonda(13),lost,666,( -783671),LINGAM KRISHNA,Independent
5077,Telangana,Nalgonda(13),lost,661,( -783676),KINNERA YADAIAH,Independent
5078,Telangana,Nalgonda(13),lost,514,( -783823),SHIRISHALA SRINAIAH,Independent
5079,Telangana,Nalgonda(13),,6086,( -778251),NOTA,None of the Above
5080,Telangana,Nagarkurnool(12),won,465072,(+ 94414),DR.MALLU RAVI,Indian National Congress
5081,Telangana,Nagarkurnool(12),lost,370658,( -94414),BHARATH  PRASAD POTHUGANTI,Bharatiya Janata Party
5082,Telangana,Nagarkurnool(12),lost,321343,( -143729),DR.R.S.PRAVEEN KUMAR,Bharat Rashtra Samithi
5083,Telangana,Nagarkurnool(12),lost,12554,( -452518),AMBOJU RAVI,Alliance of Democratic Reforms Party
5084,Telangana,Nagarkurnool(12),lost,7218,( -457854),BESAMOLLA  YOSEF,Bahujan Samaj Party
5085,Telangana,Nagarkurnool(12),lost,6404,( -458668),PILLELA SRIKANTH,Independent
5086,Telangana,Nagarkurnool(12),lost,4361,( -460711),BUDDHULA SRINIVAS,Independent
5087,Telangana,Nagarkurnool(12),lost,4058,( -461014),PALADHI NAGARAJU,Independent
5088,Telangana,Nagarkurnool(12),lost,3709,( -461363),AMARNATH,India Praja Bandhu Party
5089,Telangana,Nagarkurnool(12),lost,3584,( -461488),PULJALA BALAIAH,Independent
5090,Telangana,Nagarkurnool(12),lost,3147,( -461925),GALIMUDI GEETHA,Independent
5091,Telangana,Nagarkurnool(12),lost,3087,( -461985),KARNE. SHIREESHA @ BARRELAKKA,Independent
5092,Telangana,Nagarkurnool(12),lost,2839,( -462233),PAKIRA RAMULU,Independent
5093,Telangana,Nagarkurnool(12),lost,1981,( -463091),BIKSHAPATHI LANDA,Independent
5094,Telangana,Nagarkurnool(12),lost,1227,( -463845),AYYAPPA SUNIL,Rashtriya Praja Congress  (Secular)
5095,Telangana,Nagarkurnool(12),lost,1009,( -464063),GADDAM VIJAY,Bahujan Mukti Party
5096,Telangana,Nagarkurnool(12),lost,892,( -464180),PRASANGI,Pyramid Party of India
5097,Telangana,Nagarkurnool(12),lost,770,( -464302),VAGGU VINAY,Vidhyarthula Rajakiya Party
5098,Telangana,Nagarkurnool(12),lost,730,( -464342),DASARI BHARATHI,Viduthalai Chiruthaigal Katchi
5099,Telangana,Nagarkurnool(12),,4580,( -460492),NOTA,None of the Above
5100,Telangana,Zahirabad(5),won,528418,(+ 46188),SURESH KUMAR SHETKAR,Indian National Congress
5101,Telangana,Zahirabad(5),lost,482230,( -46188),B. B. PATIL,Bharatiya Janata Party
5102,Telangana,Zahirabad(5),lost,172078,( -356340),ANILKUMAR GALI,Bharat Rashtra Samithi
5103,Telangana,Zahirabad(5),lost,8373,( -520045),KOTHA BALIJA BASWARAJ,Telangana Praja Shakthi Party
5104,Telangana,Zahirabad(5),lost,6309,( -522109),CHAVAGANI MANI,Alliance of Democratic Reforms Party
5105,Telangana,Zahirabad(5),lost,5489,( -522929),YAKUB SHARIF MD,Independent
5106,Telangana,Zahirabad(5),lost,5412,( -523006),MAHADHEV SWAMI MATAM,Independent
5107,Telangana,Zahirabad(5),lost,4252,( -524166),B. MARUTHI RAO,Independent
5108,Telangana,Zahirabad(5),lost,3514,( -524904),S. RAJU,Independent
5109,Telangana,Zahirabad(5),lost,2876,( -525542),SATYANARAYANA GOUD KOVURI,Independent
5110,Telangana,Zahirabad(5),lost,2479,( -525939),RAMESH. SAJJAPUR.,Independent
5111,Telangana,Zahirabad(5),lost,2384,( -526034),KAMMARI ANANDEESHWAR,Independent
5112,Telangana,Zahirabad(5),lost,2268,( -526150),JAIPAL NAYAK JADAVATH,Independent
5113,Telangana,Zahirabad(5),lost,1769,( -526649),GURRAPU MACHANDER,All India Forward Bloc
5114,Telangana,Zahirabad(5),lost,1655,( -526763),T.D.S. MANI,Dharma Samaj Party
5115,Telangana,Zahirabad(5),lost,1568,( -526850),MOHD SADDAM,Independent
5116,Telangana,Zahirabad(5),lost,1102,( -527316),MALEPU MOHAN REDDY,Pyramid Party of India
5117,Telangana,Zahirabad(5),lost,837,( -527581),ASHOK TALARI,Independent
5118,Telangana,Zahirabad(5),lost,603,( -527815),ROMALA BABU DURGAIAH,India Praja Bandhu Party
5119,Telangana,Zahirabad(5),,2977,( -525441),NOTA,None of the Above
5120,Telangana,Peddapalle (2),won,475587,(+ 131364),VAMSI KRISHNA GADDAM,Indian National Congress
5121,Telangana,Peddapalle (2),lost,344223,( -131364),SRINIVAS GOMASE,Bharatiya Janata Party
5122,Telangana,Peddapalle (2),lost,193356,( -282231),ESHWAR KOPPULA,Bharat Rashtra Samithi
5123,Telangana,Peddapalle (2),lost,6799,( -468788),ERUKULLA RAJA NARSAIAH,Bahujan Samaj Party
5124,Telangana,Peddapalle (2),lost,5223,( -470364),VENUGOPAL MOYYI,Bahujan Mukti Party
5125,Telangana,Peddapalle (2),lost,5007,( -470580),MOTHE NARESH,Peoples Party of India (Democratic)
5126,Telangana,Peddapalle (2),lost,4334,( -471253),RAMESH MANDA,Dharma Samaj Party
5127,Telangana,Peddapalle (2),lost,3783,( -471804),AMBOJU SUMALATHA,Alliance of Democratic Reforms Party
5128,Telangana,Peddapalle (2),lost,3434,( -472153),DURGAM RAMULU,Independent
5129,Telangana,Peddapalle (2),lost,2789,( -472798),MULKALLA RAJENDRAPRASAD,Independent
5130,Telangana,Peddapalle (2),lost,2629,( -472958),RAMCHANDAR NICHHAKOLA,Dalita Bahujana Party
5131,Telangana,Peddapalle (2),lost,2410,( -473177),KANDI CHANDU,Rashtriya Manav Party
5132,Telangana,Peddapalle (2),lost,2288,( -473299),RAMULA KARTHIK,Independent
5133,Telangana,Peddapalle (2),lost,2269,( -473318),MOLUGU VENKATESH,New India Party
5134,Telangana,Peddapalle (2),lost,2125,( -473462),ERUGURALA BHAGYALAXMI,Pyramid Party of India
5135,Telangana,Peddapalle (2),lost,2081,( -473506),GADDAM MARUTHI,Independent
5136,Telangana,Peddapalle (2),lost,2067,( -473520),NAVEEN NUKALA,Independent
5137,Telangana,Peddapalle (2),lost,1902,( -473685),MEKALA AKSHAY KUMAR,Independent
5138,Telangana,Peddapalle (2),lost,1872,( -473715),KATKURI SANDEEP,Independent
5139,Telangana,Peddapalle (2),lost,1747,( -473840),BOTLA CHANDRAIAH,Independent
5140,Telangana,Peddapalle (2),lost,1734,( -473853),ERIKILLA RAJESH,Independent
5141,Telangana,Peddapalle (2),lost,1669,( -473918),AKKAPAKA THIRUPATHI,Independent
5142,Telangana,Peddapalle (2),lost,1614,( -473973),DURGAM SANTHOSH,Prajarajya Samithi
5143,Telangana,Peddapalle (2),lost,1504,( -474083),MAMIDIPALLY BAPAIAH,Independent
5144,Telangana,Peddapalle (2),lost,1496,( -474091),DUDA MAHIPAL,Independent
5145,Telangana,Peddapalle (2),lost,1393,( -474194),BOODIDHA THIRUPATHI,Independent
5146,Telangana,Peddapalle (2),lost,1388,( -474199),DAGAM SRINIVAS,Independent
5147,Telangana,Peddapalle (2),lost,1272,( -474315),KADASI SHEKHAR,Independent
5148,Telangana,Peddapalle (2),lost,1217,( -474370),DR VASARLA NATHANIAL,Independent
5149,Telangana,Peddapalle (2),lost,1167,( -474420),AARNAKONDA RAJU,Independent
5150,Telangana,Peddapalle (2),lost,1123,( -474464),NARESH JANAGAMA,Independent
5151,Telangana,Peddapalle (2),lost,1093,( -474494),CHILUKA ANAND,Yuva Taram Party
5152,Telangana,Peddapalle (2),lost,968,( -474619),TALLAPALLY NARESH,Independent
5153,Telangana,Peddapalle (2),lost,865,( -474722),KURMA MAHENDER,Independent
5154,Telangana,Peddapalle (2),lost,766,( -474821),CHANDANAGIRI SHRINIVAS,Independent
5155,Telangana,Peddapalle (2),lost,751,( -474836),KASHI SATHISH KUMAR,Anti Corruption Dynamic Party
5156,Telangana,Peddapalle (2),lost,720,( -474867),KANAKAIAH MULKALA,Socialist Party (India)
5157,Telangana,Peddapalle (2),lost,703,( -474884),SRINIVAS PANTHUKALA,Independent
5158,Telangana,Peddapalle (2),lost,661,( -474926),KONKATI LINGA MURTHI,Independent
5159,Telangana,Peddapalle (2),lost,653,( -474934),JUPAKA KIRAN,Independent
5160,Telangana,Peddapalle (2),lost,479,( -475108),RAJKUMAR DURGAM,Independent
5161,Telangana,Peddapalle (2),lost,423,( -475164),RAJESHAM RACHARLA,Independent
5162,Telangana,Peddapalle (2),,5711,( -469876),NOTA,None of the Above
5163,Tamil Nadu,THOOTHUKKUDI(36),won,540729,(+ 392738),KANIMOZHI KARUNANIDHI,Dravida Munnetra Kazhagam
5164,Tamil Nadu,THOOTHUKKUDI(36),lost,147991,( -392738),SIVASAMY VELUMANI R,All India Anna Dravida Munnetra Kazhagam
5165,Tamil Nadu,THOOTHUKKUDI(36),lost,122380,( -418349),VIJAYASEELAN SDR,Tamil Maanila Congress  (Moopanar)
5166,Tamil Nadu,THOOTHUKKUDI(36),lost,120300,( -420429),ROWENA RUTH JANE J,Naam Tamilar Katchi
5167,Tamil Nadu,THOOTHUKKUDI(36),lost,6640,( -534089),RAJHA N P,Naam Indiar Party
5168,Tamil Nadu,THOOTHUKKUDI(36),lost,6072,( -534657),ARUNADEVI R,Independent
5169,Tamil Nadu,THOOTHUKKUDI(36),lost,3640,( -537089),CHITHIRAI JEGAN S,Independent
5170,Tamil Nadu,THOOTHUKKUDI(36),lost,3376,( -537353),SIVANESWARAN J,Independent
5171,Tamil Nadu,THOOTHUKKUDI(36),lost,2245,( -538484),SAMUEL T,Independent
5172,Tamil Nadu,THOOTHUKKUDI(36),lost,2195,( -538534),MANIKKARAJ A,Bahujan Samaj Party
5173,Tamil Nadu,THOOTHUKKUDI(36),lost,1839,( -538890),AASIRIYAR SHANMUGA SUNDARAM K,Independent
5174,Tamil Nadu,THOOTHUKKUDI(36),lost,1792,( -538937),KALEERMURUGAPAVENTHAN R,Makkal Nalvaazhvuk Katchi
5175,Tamil Nadu,THOOTHUKKUDI(36),lost,897,( -539832),PONKUMARAN T P S,Independent
5176,Tamil Nadu,THOOTHUKKUDI(36),lost,829,( -539900),JEYAKUMAR C,Independent
5177,Tamil Nadu,THOOTHUKKUDI(36),lost,805,( -539924),GANDHIMALLAR S M,Independent
5178,Tamil Nadu,THOOTHUKKUDI(36),lost,769,( -539960),BISHOP DR GODFREY NOBLE,Aanaithinthiya Jananayaka Pathukappu Kazhagam
5179,Tamil Nadu,THOOTHUKKUDI(36),lost,739,( -539990),PERUMALKUMAR P,Puthiya Makkal Tamil Desam Katchi
5180,Tamil Nadu,THOOTHUKKUDI(36),lost,710,( -540019),ESAKKIMUTHU V,Independent
5181,Tamil Nadu,THOOTHUKKUDI(36),lost,689,( -540040),KANNAN G,Independent
5182,Tamil Nadu,THOOTHUKKUDI(36),lost,663,( -540066),DAVID JEBASEELAN J,Independent
5183,Tamil Nadu,THOOTHUKKUDI(36),lost,578,( -540151),SUDALAIMUTHU P,Independent
5184,Tamil Nadu,THOOTHUKKUDI(36),lost,480,( -540249),KRISHNAN S,Independent
5185,Tamil Nadu,THOOTHUKKUDI(36),lost,461,( -540268),RADHAKRISHNAN V G,Independent
5186,Tamil Nadu,THOOTHUKKUDI(36),lost,444,( -540285),JAMES P,Independent
5187,Tamil Nadu,THOOTHUKKUDI(36),lost,429,( -540300),PONRAJ K,Independent
5188,Tamil Nadu,THOOTHUKKUDI(36),lost,396,( -540333),PRASANNA KUMAR M,Independent
5189,Tamil Nadu,THOOTHUKKUDI(36),lost,341,( -540388),SELVAMUTHUKUMAR M,Independent
5190,Tamil Nadu,THOOTHUKKUDI(36),lost,291,( -540438),SENTHIL KUMAR S,Independent
5191,Tamil Nadu,THOOTHUKKUDI(36),,9806,( -530923),NOTA,None of the Above
5192,Tamil Nadu,THENI(33),won,571493,(+ 278825),THANGA TAMILSELVAN,Dravida Munnetra Kazhagam
5193,Tamil Nadu,THENI(33),lost,292668,( -278825),TTV DHINAKARAN,Amma Makkal Munnettra Kazagam
5194,Tamil Nadu,THENI(33),lost,155587,( -415906),NARAYANASAMY V T,All India Anna Dravida Munnetra Kazhagam
5195,Tamil Nadu,THENI(33),lost,76834,( -494659),MADHAN,Naam Tamilar Katchi
5196,Tamil Nadu,THENI(33),lost,6298,( -565195),PRAKASH P,Independent
5197,Tamil Nadu,THENI(33),lost,3967,( -567526),PANDIKUMAR S,Independent
5198,Tamil Nadu,THENI(33),lost,3006,( -568487),AJEETHKUMAR S,Independent
5199,Tamil Nadu,THENI(33),lost,2866,( -568627),PARAMASIVAN S,Independent
5200,Tamil Nadu,THENI(33),lost,2277,( -569216),PARTHIBAN G,Independent
5201,Tamil Nadu,THENI(33),lost,2222,( -569271),JEEVA M,Bahujan Samaj Party
5202,Tamil Nadu,THENI(33),lost,1935,( -569558),CHARCHIL DURAI P,Humanity for Peace Party
5203,Tamil Nadu,THENI(33),lost,1232,( -570261),PREMA S,Independent
5204,Tamil Nadu,THENI(33),lost,1201,( -570292),MANIKANDAN R,Independent
5205,Tamil Nadu,THENI(33),lost,1128,( -570365),REVATHI K,Independent
5206,Tamil Nadu,THENI(33),lost,1094,( -570399),MUDIYARASU,All India Youth Development Party
5207,Tamil Nadu,THENI(33),lost,932,( -570561),THIAGARAJAN O V,Independent
5208,Tamil Nadu,THENI(33),lost,805,( -570688),VASANTHA SARAVANAN,Independent
5209,Tamil Nadu,THENI(33),lost,667,( -570826),VIJAYAN K,Independent
5210,Tamil Nadu,THENI(33),lost,617,( -570876),SETHUPATHI G,Independent
5211,Tamil Nadu,THENI(33),lost,603,( -570890),JOHNGILBERTRAJ,Independent
5212,Tamil Nadu,THENI(33),lost,592,( -570901),AATHIMUTHUKUMAR M,Independent
5213,Tamil Nadu,THENI(33),lost,543,( -570950),MUTHUKUMAR,Independent
5214,Tamil Nadu,THENI(33),lost,486,( -571007),HARIKRISHNAKUMAR R,Independent
5215,Tamil Nadu,THENI(33),lost,453,( -571040),SATHEESH KUMAR A,Independent
5216,Tamil Nadu,THENI(33),lost,377,( -571116),KUMAR,Independent
5217,Tamil Nadu,THENI(33),,11336,( -560157),NOTA,None of the Above
5218,Tamil Nadu,THANJAVUR(30),won,502245,(+ 319583),MURASOLI S,Dravida Munnetra Kazhagam
5219,Tamil Nadu,THANJAVUR(30),lost,182662,( -319583),SIVANESAN P,Desiya Murpokku Dravida Kazhagam
5220,Tamil Nadu,THANJAVUR(30),lost,170613,( -331632),MURUGANANTHAM M,Bharatiya Janata Party
5221,Tamil Nadu,THANJAVUR(30),lost,120293,( -381952),HUMAYUN KABIR,Naam Tamilar Katchi
5222,Tamil Nadu,THANJAVUR(30),lost,18191,( -484054),RENGASAMY C,Independent
5223,Tamil Nadu,THANJAVUR(30),lost,6795,( -495450),SARAVANAN M,Independent
5224,Tamil Nadu,THANJAVUR(30),lost,4158,( -498087),SENTHIL KUMAR N,Independent
5225,Tamil Nadu,THANJAVUR(30),lost,3851,( -498394),EZHILARASAN S,Independent
5226,Tamil Nadu,THANJAVUR(30),lost,2410,( -499835),JAYABAL A,Bahujan Samaj Party
5227,Tamil Nadu,THANJAVUR(30),lost,1992,( -500253),SANTHOSH M,Independent
5228,Tamil Nadu,THANJAVUR(30),lost,1446,( -500799),ER ARJUN S,Independent
5229,Tamil Nadu,THANJAVUR(30),lost,1217,( -501028),KARIKALA CHOLAN S,Independent
5230,Tamil Nadu,THANJAVUR(30),,12833,( -489412),NOTA,None of the Above
5231,Tamil Nadu,PERAMBALUR(25),won,603209,(+ 389107),ARUN NEHRU,Dravida Munnetra Kazhagam
5232,Tamil Nadu,PERAMBALUR(25),lost,214102,( -389107),CHANDRAMOHAN N D,All India Anna Dravida Munnetra Kazhagam
5233,Tamil Nadu,PERAMBALUR(25),lost,161866,( -441343),PAARIVENDHAR T R,Bharatiya Janata Party
5234,Tamil Nadu,PERAMBALUR(25),lost,113092,( -490117),THENMOZHI R,Naam Tamilar Katchi
5235,Tamil Nadu,PERAMBALUR(25),lost,3951,( -599258),MANI S,Independent
5236,Tamil Nadu,PERAMBALUR(25),lost,3508,( -599701),MADHU R,Independent
5237,Tamil Nadu,PERAMBALUR(25),lost,3273,( -599936),RENGARAJ S,Independent
5238,Tamil Nadu,PERAMBALUR(25),lost,3059,( -600150),ELANGOVAN R,Bahujan Samaj Party
5239,Tamil Nadu,PERAMBALUR(25),lost,1362,( -601847),VASUDEVAN A,Independent
5240,Tamil Nadu,PERAMBALUR(25),lost,1299,( -601910),ARUN NEHRU,Independent
5241,Tamil Nadu,PERAMBALUR(25),lost,1087,( -602122),LAKSHMANAN,Independent
5242,Tamil Nadu,PERAMBALUR(25),lost,1081,( -602128),PARY T,Independent
5243,Tamil Nadu,PERAMBALUR(25),lost,1015,( -602194),ANANDARAJU R,Independent
5244,Tamil Nadu,PERAMBALUR(25),lost,1006,( -602203),JAYAKUMAR K,Samaniya Makkal Nala Katchi
5245,Tamil Nadu,PERAMBALUR(25),lost,878,( -602331),TAMILSELVAN M,Independent
5246,Tamil Nadu,PERAMBALUR(25),lost,873,( -602336),THANGAMANI K,Independent
5247,Tamil Nadu,PERAMBALUR(25),lost,755,( -602454),P K AMMAN G SIVAKUMAR,Independent
5248,Tamil Nadu,PERAMBALUR(25),lost,748,( -602461),EBINESAN M,Independent
5249,Tamil Nadu,PERAMBALUR(25),lost,733,( -602476),MURUGANANTHAM T,Independent
5250,Tamil Nadu,PERAMBALUR(25),lost,555,( -602654),SUDHAKAR S,Independent
5251,Tamil Nadu,PERAMBALUR(25),lost,532,( -602677),SAMBATH D,Independent
5252,Tamil Nadu,PERAMBALUR(25),lost,469,( -602740),MUTHUKUMAR,Independent
5253,Tamil Nadu,PERAMBALUR(25),lost,451,( -602758),VEERAMALAI K,Independent
5254,Tamil Nadu,PERAMBALUR(25),,10322,( -592887),NOTA,None of the Above
5255,Tamil Nadu,POLLACHI(21),won,533377,(+ 252042),ESWARASAMY K,Dravida Munnetra Kazhagam
5256,Tamil Nadu,POLLACHI(21),lost,281335,( -252042),KARTHIKEYAN A,All India Anna Dravida Munnetra Kazhagam
5257,Tamil Nadu,POLLACHI(21),lost,223354,( -310023),VASANTHARAJAN K,Bharatiya Janata Party
5258,Tamil Nadu,POLLACHI(21),lost,58196,( -475181),SURESHKUMAR N,Naam Tamilar Katchi
5259,Tamil Nadu,POLLACHI(21),lost,2851,( -530526),PRAKASH P,Independent
5260,Tamil Nadu,POLLACHI(21),lost,2284,( -531093),BENJAMINKIRUBAKARAN J,Bahujan Samaj Party
5261,Tamil Nadu,POLLACHI(21),lost,2190,( -531187),VASANTHAKUMAR T,Independent
5262,Tamil Nadu,POLLACHI(21),lost,1825,( -531552),RAMASAMY K,Independent
5263,Tamil Nadu,POLLACHI(21),lost,1790,( -531587),ESWARASAMY K,Independent
5264,Tamil Nadu,POLLACHI(21),lost,1133,( -532244),GOPALAKRISHNAN M,New Generation People’s Party
5265,Tamil Nadu,POLLACHI(21),lost,981,( -532396),KALIMUTHU S,Independent
5266,Tamil Nadu,POLLACHI(21),lost,619,( -532758),KARTHIKEYAN D,Independent
5267,Tamil Nadu,POLLACHI(21),lost,605,( -532772),NOOR MUHAMAD A,Independent
5268,Tamil Nadu,POLLACHI(21),lost,567,( -532810),KARTHIKEYAN P,Independent
5269,Tamil Nadu,POLLACHI(21),lost,435,( -532942),KARTHIKEYAN D,Independent
5270,Tamil Nadu,POLLACHI(21),,14503,( -518874),NOTA,None of the Above
5271,Tamil Nadu,COIMBATORE(20),won,568200,(+ 118068),GANAPATHY RAJKUMAR P,Dravida Munnetra Kazhagam
5272,Tamil Nadu,COIMBATORE(20),lost,450132,( -118068),ANNAMALAI K,Bharatiya Janata Party
5273,Tamil Nadu,COIMBATORE(20),lost,236490,( -331710),SINGAI G RAMACHANDRAN,All India Anna Dravida Munnetra Kazhagam
5274,Tamil Nadu,COIMBATORE(20),lost,82657,( -485543),KALAMANI JAGANATHAN,Naam Tamilar Katchi
5275,Tamil Nadu,COIMBATORE(20),lost,2375,( -565825),VELMURUGAN K,Bahujan Samaj Party
5276,Tamil Nadu,COIMBATORE(20),lost,1789,( -566411),SANJAYKUMAR S,Independent
5277,Tamil Nadu,COIMBATORE(20),lost,1772,( -566428),ANNADURAI R,Independent
5278,Tamil Nadu,COIMBATORE(20),lost,1474,( -566726),SURESH M,Independent
5279,Tamil Nadu,COIMBATORE(20),lost,1199,( -567001),GOPALAKRISHNAN S,Independent
5280,Tamil Nadu,COIMBATORE(20),lost,1176,( -567024),RAGHUL GANDHI K,Hindustan Janta Party
5281,Tamil Nadu,COIMBATORE(20),lost,1073,( -567127),KARTHICK T,Independent
5282,Tamil Nadu,COIMBATORE(20),lost,1068,( -567132),RAJKUMAR M,Independent
5283,Tamil Nadu,COIMBATORE(20),lost,1013,( -567187),RAJKUMAR,Independent
5284,Tamil Nadu,COIMBATORE(20),lost,892,( -567308),RAJKUMAR G,Independent
5285,Tamil Nadu,COIMBATORE(20),lost,882,( -567318),SHANMUGAM K,Independent
5286,Tamil Nadu,COIMBATORE(20),lost,726,( -567474),KRISHNAN V,Independent
5287,Tamil Nadu,COIMBATORE(20),lost,663,( -567537),RAMACHANDRAN M,Independent
5288,Tamil Nadu,COIMBATORE(20),lost,629,( -567571),RAJAMANICKAM N,Independent
5289,Tamil Nadu,COIMBATORE(20),lost,611,( -567589),RAJKUMAR G B,Independent
5290,Tamil Nadu,COIMBATORE(20),lost,551,( -567649),KUMAR A,Ganasangam Party of India
5291,Tamil Nadu,COIMBATORE(20),lost,492,( -567708),RICHARD VINCENT,Viro Ke Vir Indian Party
5292,Tamil Nadu,COIMBATORE(20),lost,492,( -567708),SANGEETHA R,Naadaalum Makkal Katchi
5293,Tamil Nadu,COIMBATORE(20),lost,447,( -567753),SURIYAKUMAR K,Independent
5294,Tamil Nadu,COIMBATORE(20),lost,438,( -567762),ARUNKANTH V,Independent
5295,Tamil Nadu,COIMBATORE(20),lost,419,( -567781),ANANDHAKUMAR S,Rashtriya Samaj Paksha
5296,Tamil Nadu,COIMBATORE(20),lost,369,( -567831),RAMACHANDRAN R,Independent
5297,Tamil Nadu,COIMBATORE(20),lost,369,( -567831),MUTHUSAMY P P,Independent
5298,Tamil Nadu,COIMBATORE(20),lost,316,( -567884),PALANISAMYRAAJ M,Independent
5299,Tamil Nadu,COIMBATORE(20),lost,305,( -567895),PUSHPANANTHAM V,Tamizhaga Murpokku Makkal Katchi
5300,Tamil Nadu,COIMBATORE(20),lost,285,( -567915),DINESH K,Independent
5301,Tamil Nadu,COIMBATORE(20),lost,283,( -567917),PREMKUMAR P,Independent
5302,Tamil Nadu,COIMBATORE(20),lost,272,( -567928),RAVICHANDRAN,Independent
5303,Tamil Nadu,COIMBATORE(20),lost,266,( -567934),DURAISAMY A,Independent
5304,Tamil Nadu,COIMBATORE(20),lost,260,( -567940),ZAHIR HUSSAIN,Independent
5305,Tamil Nadu,COIMBATORE(20),lost,253,( -567947),BOOBALAN,Independent
5306,Tamil Nadu,COIMBATORE(20),lost,234,( -567966),NOORMUHAMAD A,Independent
5307,Tamil Nadu,COIMBATORE(20),lost,173,( -568027),PASUPATHI S,Independent
5308,Tamil Nadu,COIMBATORE(20),,11788,( -556412),NOTA,None of the Above
5309,Tamil Nadu,NILGIRIS(19),won,473212,(+ 240585),RAJA A,Dravida Munnetra Kazhagam
5310,Tamil Nadu,NILGIRIS(19),lost,232627,( -240585),DR MURUGAN L,Bharatiya Janata Party
5311,Tamil Nadu,NILGIRIS(19),lost,220230,( -252982),LOGESH TAMILSELVAN D,All India Anna Dravida Munnetra Kazhagam
5312,Tamil Nadu,NILGIRIS(19),lost,58821,( -414391),JAYAKUMAR A,Naam Tamilar Katchi
5313,Tamil Nadu,NILGIRIS(19),lost,4808,( -468404),VIJAYAKUMAR D,Independent
5314,Tamil Nadu,NILGIRIS(19),lost,3033,( -470179),GANESHAMOORTHI A,Bahujan Samaj Party
5315,Tamil Nadu,NILGIRIS(19),lost,2425,( -470787),BADRAN M,Ganasangam Party of India
5316,Tamil Nadu,NILGIRIS(19),lost,2054,( -471158),SELVAN N,Independent
5317,Tamil Nadu,NILGIRIS(19),lost,1928,( -471284),DHANABAL R,Independent
5318,Tamil Nadu,NILGIRIS(19),lost,1556,( -471656),JAYANTHI M,Ambedkarite Party of India
5319,Tamil Nadu,NILGIRIS(19),lost,1413,( -471799),MURUGAN Y,Independent
5320,Tamil Nadu,NILGIRIS(19),lost,1059,( -472153),MURUGESAN,Independent
5321,Tamil Nadu,NILGIRIS(19),lost,820,( -472392),MALARMANNAN M,Samaniya Makkal Nala Katchi
5322,Tamil Nadu,NILGIRIS(19),lost,740,( -472472),SATHISH M,Independent
5323,Tamil Nadu,NILGIRIS(19),lost,615,( -472597),KRISHNA KUMAR,Independent
5324,Tamil Nadu,NILGIRIS(19),lost,565,( -472647),ANBHUGURU V,Independent
5325,Tamil Nadu,NILGIRIS(19),,13000,( -460212),NOTA,None of the Above
5326,Tamil Nadu,ERODE(17),won,562339,(+ 236566),K E PRAKASH,Dravida Munnetra Kazhagam
5327,Tamil Nadu,ERODE(17),lost,325773,( -236566),ASHOK KUMAR,All India Anna Dravida Munnetra Kazhagam
5328,Tamil Nadu,ERODE(17),lost,82796,( -479543),KARMEGAN M,Naam Tamilar Katchi
5329,Tamil Nadu,ERODE(17),lost,77911,( -484428),P VIJAYAKUMAR,Tamil Maanila Congress  (Moopanar)
5330,Tamil Nadu,ERODE(17),lost,5223,( -557116),P ESWARAN,Bahujan Samaj Party
5331,Tamil Nadu,ERODE(17),lost,4149,( -558190),T V R AMIRTHALINGAM,Independent
5332,Tamil Nadu,ERODE(17),lost,3799,( -558540),KEERTHANA M,Independent
5333,Tamil Nadu,ERODE(17),lost,1955,( -560384),J GOPALAKRISHNAN,Independent
5334,Tamil Nadu,ERODE(17),lost,1686,( -560653),S ANANTHI,Independent
5335,Tamil Nadu,ERODE(17),lost,1640,( -560699),PRASATH CHITRARASU,Independent
5336,Tamil Nadu,ERODE(17),lost,1380,( -560959),RAVICHANDRAN L,Independent
5337,Tamil Nadu,ERODE(17),lost,976,( -561363),P RAJENDRAN,Independent
5338,Tamil Nadu,ERODE(17),lost,950,( -561389),P KUPPUSAMY,Ulzaipali Makkal Katchy
5339,Tamil Nadu,ERODE(17),lost,772,( -561567),M SHANMUGAM,Independent
5340,Tamil Nadu,ERODE(17),lost,751,( -561588),R KUMARESAN,Independent
5341,Tamil Nadu,ERODE(17),lost,690,( -561649),N ASHOK KUMAR,Independent
5342,Tamil Nadu,ERODE(17),lost,679,( -561660),DHANALAKSHMI V,Naadaalum Makkal Katchi
5343,Tamil Nadu,ERODE(17),lost,618,( -561721),K MAATHAN,Ganasangam Party of India
5344,Tamil Nadu,ERODE(17),lost,616,( -561723),A T MUNUSAMY,Samaniya Makkal Nala Katchi
5345,Tamil Nadu,ERODE(17),lost,601,( -561738),B DHARMARAJ,Anti Corruption Dynamic Party
5346,Tamil Nadu,ERODE(17),lost,549,( -561790),ARUMUGA AC KANNAN,Independent
5347,Tamil Nadu,ERODE(17),lost,531,( -561808),M SABARINATHAN,Independent
5348,Tamil Nadu,ERODE(17),lost,504,( -561835),R DHANDAPANI,Veerath Thiyagi Viswanathadoss Thozhilalarkal Katchi
5349,Tamil Nadu,ERODE(17),lost,432,( -561907),R KUMAR,Anna Puratchi Thalaivar Amma Dravida Munnetra Kazhagam
5350,Tamil Nadu,ERODE(17),lost,415,( -561924),R.MINNALMURUGESH,Independent
5351,Tamil Nadu,ERODE(17),lost,399,( -561940),K K VADUGANATHAN,Independent
5352,Tamil Nadu,ERODE(17),lost,301,( -562038),G MYLSAMY,Independent
5353,Tamil Nadu,ERODE(17),lost,279,( -562060),MYLVAKANAN D -,Independent
5354,Tamil Nadu,ERODE(17),lost,276,( -562063),M PRABAKARAN,Independent
5355,Tamil Nadu,ERODE(17),lost,272,( -562067),NARENDRANATH,Independent
5356,Tamil Nadu,ERODE(17),lost,178,( -562161),K SENTHIL KUMAR,Independent
5357,Tamil Nadu,ERODE(17),,13983,( -548356),NOTA,None of the Above
5358,Tamil Nadu,NAMAKKAL(16),won,462036,(+ 29112),MATHESWARAN V S,Dravida Munnetra Kazhagam
5359,Tamil Nadu,NAMAKKAL(16),lost,432924,( -29112),TAMILMANI S,All India Anna Dravida Munnetra Kazhagam
5360,Tamil Nadu,NAMAKKAL(16),lost,104690,( -357346),DR RAMALINGAM K P,Bharatiya Janata Party
5361,Tamil Nadu,NAMAKKAL(16),lost,95577,( -366459),KANIMOZHI G,Naam Tamilar Katchi
5362,Tamil Nadu,NAMAKKAL(16),lost,3579,( -458457),DEEPAN CHAKKRAVARTHI S,Independent
5363,Tamil Nadu,NAMAKKAL(16),lost,2599,( -459437),RAJENDRAN C,Viduthalai Kalam Katchi
5364,Tamil Nadu,NAMAKKAL(16),lost,2588,( -459448),NATARAJAN M,Independent
5365,Tamil Nadu,NAMAKKAL(16),lost,2421,( -459615),RAMESH T,Ahimsa Socialist Party
5366,Tamil Nadu,NAMAKKAL(16),lost,2165,( -459871),EZHIL SELVAN P,Tamilaga Makkal Thannurimai Katchi
5367,Tamil Nadu,NAMAKKAL(16),lost,2157,( -459879),RAMAN V,Bahujan Samaj Party
5368,Tamil Nadu,NAMAKKAL(16),lost,1901,( -460135),UTHAYAKUMAR P,Independent
5369,Tamil Nadu,NAMAKKAL(16),lost,1514,( -460522),KANDASAMY A M,Independent
5370,Tamil Nadu,NAMAKKAL(16),lost,1350,( -460686),RAMASAMY P,Independent
5371,Tamil Nadu,NAMAKKAL(16),lost,1334,( -460702),KARTHI S,Independent
5372,Tamil Nadu,NAMAKKAL(16),lost,1325,( -460711),RAMESH T R,Independent
5373,Tamil Nadu,NAMAKKAL(16),lost,1292,( -460744),SATHEESH G,Independent
5374,Tamil Nadu,NAMAKKAL(16),lost,1250,( -460786),RAMASAMY N,Independent
5375,Tamil Nadu,NAMAKKAL(16),lost,1147,( -460889),MADHESWARAN V,Independent
5376,Tamil Nadu,NAMAKKAL(16),lost,1071,( -460965),DR GURUNATHAN S,Independent
5377,Tamil Nadu,NAMAKKAL(16),lost,920,( -461116),KARTHIKEYAN S,Independent
5378,Tamil Nadu,NAMAKKAL(16),lost,770,( -461266),NALLATHAMBI P,Independent
5379,Tamil Nadu,NAMAKKAL(16),lost,768,( -461268),EASWARAMOORTHY M,Independent
5380,Tamil Nadu,NAMAKKAL(16),lost,719,( -461317),BALAJICHEZHIAN P,Independent
5381,Tamil Nadu,NAMAKKAL(16),lost,637,( -461399),RAVIKUMAR P,Ganasangam Party of India
5382,Tamil Nadu,NAMAKKAL(16),lost,635,( -461401),NAVEEN K,Independent
5383,Tamil Nadu,NAMAKKAL(16),lost,592,( -461444),DURAIRAJ C,Independent
5384,Tamil Nadu,NAMAKKAL(16),lost,568,( -461468),ARULMANI M,Independent
5385,Tamil Nadu,NAMAKKAL(16),lost,528,( -461508),THIYAGARAJAN R,Samaniya Makkal Nala Katchi
5386,Tamil Nadu,NAMAKKAL(16),lost,528,( -461508),VENNILA S,Independent
5387,Tamil Nadu,NAMAKKAL(16),lost,497,( -461539),KALIANNAN S,Independent
5388,Tamil Nadu,NAMAKKAL(16),lost,480,( -461556),KANDASAMY P,Independent
5389,Tamil Nadu,NAMAKKAL(16),lost,442,( -461594),MANIKKAM S,Ulzaipali Makkal Katchy
5390,Tamil Nadu,NAMAKKAL(16),lost,389,( -461647),MOORTHI J,Independent
5391,Tamil Nadu,NAMAKKAL(16),lost,354,( -461682),TAMILMANI A,Independent
5392,Tamil Nadu,NAMAKKAL(16),lost,303,( -461733),SELVARAJ K R,Independent
5393,Tamil Nadu,NAMAKKAL(16),lost,299,( -461737),SAKTHIVEL S,Independent
5394,Tamil Nadu,NAMAKKAL(16),lost,288,( -461748),NETAJIKAVIARASU V,Independent
5395,Tamil Nadu,NAMAKKAL(16),lost,246,( -461790),SIVAKUMAR V,Independent
5396,Tamil Nadu,NAMAKKAL(16),lost,222,( -461814),MOORTHY V,Independent
5397,Tamil Nadu,NAMAKKAL(16),lost,214,( -461822),GOPAL P,Independent
5398,Tamil Nadu,NAMAKKAL(16),,12984,( -449052),NOTA,None of the Above
5399,Tamil Nadu,SALEM(15),won,566085,(+ 70357),SELVAGANAPATHI T M,Dravida Munnetra Kazhagam
5400,Tamil Nadu,SALEM(15),lost,495728,( -70357),VIGNESH P,All India Anna Dravida Munnetra Kazhagam
5401,Tamil Nadu,SALEM(15),lost,127139,( -438946),ANNADURAI N,Pattali Makkal Katchi
5402,Tamil Nadu,SALEM(15),lost,76207,( -489878),DR MANOJKUMAR G,Naam Tamilar Katchi
5403,Tamil Nadu,SALEM(15),lost,3441,( -562644),BHALAJI M,Independent
5404,Tamil Nadu,SALEM(15),lost,3372,( -562713),MURALI S,Bahujan Samaj Party
5405,Tamil Nadu,SALEM(15),lost,2856,( -563229),PALANIVEL K,Independent
5406,Tamil Nadu,SALEM(15),lost,2411,( -563674),JEGANNATHAN A,Independent
5407,Tamil Nadu,SALEM(15),lost,1456,( -564629),RAJA S,Independent
5408,Tamil Nadu,SALEM(15),lost,1197,( -564888),MUTHUSAMY S,Independent
5409,Tamil Nadu,SALEM(15),lost,1155,( -564930),ER PRABAKARAN S,Independent
5410,Tamil Nadu,SALEM(15),lost,1147,( -564938),SHANMUGAM G,Independent
5411,Tamil Nadu,SALEM(15),lost,1098,( -564987),SANTHALINGAM C,Independent
5412,Tamil Nadu,SALEM(15),lost,1036,( -565049),SUTHARSANAM S,Aravor Munnetra Kazhagam
5413,Tamil Nadu,SALEM(15),lost,961,( -565124),AMBEDKAR C,Ambedkarite Party of India
5414,Tamil Nadu,SALEM(15),lost,758,( -565327),RAMACHANDRAN C,Dhesiya Makkal Kazhagam
5415,Tamil Nadu,SALEM(15),lost,693,( -565392),GOVINDHAN A,Independent
5416,Tamil Nadu,SALEM(15),lost,537,( -565548),MANICKAM R,Ulzaipali Makkal Katchy
5417,Tamil Nadu,SALEM(15),lost,466,( -565619),AHAMED SHAHJAHAN M,Independent
5418,Tamil Nadu,SALEM(15),lost,432,( -565653),INTHRAJITHKUPTHA G,Independent
5419,Tamil Nadu,SALEM(15),lost,422,( -565663),RAMASUNDARAM D,Independent
5420,Tamil Nadu,SALEM(15),lost,377,( -565708),KARUNAKARAN M,Independent
5421,Tamil Nadu,SALEM(15),lost,332,( -565753),RAJA A,Independent
5422,Tamil Nadu,SALEM(15),lost,328,( -565757),VIGNESH M,Independent
5423,Tamil Nadu,SALEM(15),lost,316,( -565769),JOTHILINGAM M,Independent
5424,Tamil Nadu,SALEM(15),,14894,( -551191),NOTA,None of the Above
5425,Tamil Nadu,KALLAKURICHI(14),won,561589,(+ 53784),MALAIYARASAN D,Dravida Munnetra Kazhagam
5426,Tamil Nadu,KALLAKURICHI(14),lost,507805,( -53784),KUMARAGURU R,All India Anna Dravida Munnetra Kazhagam
5427,Tamil Nadu,KALLAKURICHI(14),lost,73652,( -487937),JAGADESAN A,Naam Tamilar Katchi
5428,Tamil Nadu,KALLAKURICHI(14),lost,71290,( -490299),DEVADASS RAMASAMY,Pattali Makkal Katchi
5429,Tamil Nadu,KALLAKURICHI(14),lost,4275,( -557314),PRABU C,Independent
5430,Tamil Nadu,KALLAKURICHI(14),lost,3469,( -558120),BALAKRISHNAN P,Independent
5431,Tamil Nadu,KALLAKURICHI(14),lost,3096,( -558493),JEEVANRAJ N,Bahujan Samaj Party
5432,Tamil Nadu,KALLAKURICHI(14),lost,2892,( -558697),MAYILAMPARAI MARI A,Independent
5433,Tamil Nadu,KALLAKURICHI(14),lost,2505,( -559084),NATTANMAI GUNASEKARANA A.S,Anna Makkal Katchi
5434,Tamil Nadu,KALLAKURICHI(14),lost,2227,( -559362),KUMARAGURU N,Independent
5435,Tamil Nadu,KALLAKURICHI(14),lost,2225,( -559364),MURUGESAN M,Independent
5436,Tamil Nadu,KALLAKURICHI(14),lost,872,( -560717),SUBRAMANIAN R K,Independent
5437,Tamil Nadu,KALLAKURICHI(14),lost,784,( -560805),ARUL INIYAN A,Independent
5438,Tamil Nadu,KALLAKURICHI(14),lost,691,( -560898),VENKATRAMAN J,Naadaalum Makkal Katchi
5439,Tamil Nadu,KALLAKURICHI(14),lost,630,( -560959),KAMALAKANNAN M,Independent
5440,Tamil Nadu,KALLAKURICHI(14),lost,558,( -561031),GOVINDARAJ S R,Independent
5441,Tamil Nadu,KALLAKURICHI(14),lost,548,( -561041),PALANIYAMMAL S,Desiya Makkal Sakthi Katchi
5442,Tamil Nadu,KALLAKURICHI(14),lost,542,( -561047),SIGAMANI A,Independent
5443,Tamil Nadu,KALLAKURICHI(14),lost,511,( -561078),RAJASEKAR K,Independent
5444,Tamil Nadu,KALLAKURICHI(14),lost,476,( -561113),JAYABAL PM,Independent
5445,Tamil Nadu,KALLAKURICHI(14),lost,399,( -561190),RAJAMANICKAM C,Independent
5446,Tamil Nadu,KALLAKURICHI(14),,8532,( -553057),NOTA,None of the Above
5447,Tamil Nadu,ARANI(12),won,500099,(+ 208766),THARANIVENTHAN M S,Dravida Munnetra Kazhagam
5448,Tamil Nadu,ARANI(12),lost,291333,( -208766),"GAJENDRAN, G.V.",All India Anna Dravida Munnetra Kazhagam
5449,Tamil Nadu,ARANI(12),lost,236571,( -263528),DR GANESH KUMAR A ME PHD,Pattali Makkal Katchi
5450,Tamil Nadu,ARANI(12),lost,66740,( -433359),"BAKIYALAKSHMI, K.",Naam Tamilar Katchi
5451,Tamil Nadu,ARANI(12),lost,4808,( -495291),"MANIGANDAN, V.",Independent
5452,Tamil Nadu,ARANI(12),lost,3812,( -496287),"GANESH KUMAR, U.",Independent
5453,Tamil Nadu,ARANI(12),lost,3685,( -496414),DURAI  M,Bahujan Samaj Party
5454,Tamil Nadu,ARANI(12),lost,3400,( -496699),"GAJENDRAN, J.",Independent
5455,Tamil Nadu,ARANI(12),lost,3036,( -497063),"KARVANNAN, K.",Independent
5456,Tamil Nadu,ARANI(12),lost,2613,( -497486),"GAJENDIRAN, E.",Independent
5457,Tamil Nadu,ARANI(12),lost,1908,( -498191),"KOTTAI VENKATESAN, M.",Independent
5458,Tamil Nadu,ARANI(12),lost,1475,( -498624),"SENTHIL KUMAR, D.",Independent
5459,Tamil Nadu,ARANI(12),lost,1400,( -498699),"SEKAR, N.",Independent
5460,Tamil Nadu,ARANI(12),lost,1186,( -498913),SAKTHIVEL A,Thakkam Katchi
5461,Tamil Nadu,ARANI(12),lost,980,( -499119),"GANESH, P.",Independent
5462,Tamil Nadu,ARANI(12),lost,927,( -499172),NAGARAJAN P,Veerath Thiyagi Viswanathadoss Thozhilalarkal Katchi
5463,Tamil Nadu,ARANI(12),lost,922,( -499177),CAPTAIN SETTU M,Viro Ke Vir Indian Party
5464,Tamil Nadu,ARANI(12),lost,840,( -499259),"JAISANKAR, M.",Independent
5465,Tamil Nadu,ARANI(12),lost,753,( -499346),EZHIL ARASU M,Independent
5466,Tamil Nadu,ARANI(12),lost,674,( -499425),BABU N,Independent
5467,Tamil Nadu,ARANI(12),lost,604,( -499495),"DURUGAN, M.",United Republican Party of India
5468,Tamil Nadu,ARANI(12),lost,528,( -499571),MOHMMAD SIDDIQ M H,Independent
5469,Tamil Nadu,ARANI(12),lost,510,( -499589),"ARUL, M.",Independent
5470,Tamil Nadu,ARANI(12),lost,480,( -499619),"MANAVALAN, A.",Anna MGR Dravida Makkal Kalgam
5471,Tamil Nadu,ARANI(12),lost,468,( -499631),"DHARANI, D.",Independent
5472,Tamil Nadu,ARANI(12),lost,403,( -499696),"MURUGESAN, D.",Independent
5473,Tamil Nadu,ARANI(12),lost,378,( -499721),"ELLAPPAN, R.",Independent
5474,Tamil Nadu,ARANI(12),lost,298,( -499801),"FEROZKHAN, A.",Independent
5475,Tamil Nadu,ARANI(12),lost,242,( -499857),"DHAMODHARAN, G.",Independent
5476,Tamil Nadu,ARANI(12),,9188,( -490911),NOTA,None of the Above
5477,Tamil Nadu,TIRUVANNAMALAI(11),won,547379,(+ 233931),"ANNADURAI, C.N.",Dravida Munnetra Kazhagam
5478,Tamil Nadu,TIRUVANNAMALAI(11),lost,313448,( -233931),KALIYAPERUMAL M,All India Anna Dravida Munnetra Kazhagam
5479,Tamil Nadu,TIRUVANNAMALAI(11),lost,156650,( -390729),"ASUVATHAMAN, A.",Bharatiya Janata Party
5480,Tamil Nadu,TIRUVANNAMALAI(11),lost,83869,( -463510),"RAMESHBABU,  R.",Naam Tamilar Katchi
5481,Tamil Nadu,TIRUVANNAMALAI(11),lost,5713,( -541666),"KALIAPERUMAL, M.",Independent
5482,Tamil Nadu,TIRUVANNAMALAI(11),lost,4810,( -542569),"BENNYRAJAN, C.J.",Bharatiya Praja Aikyata Party
5483,Tamil Nadu,TIRUVANNAMALAI(11),lost,3407,( -543972),"KALIYAPERUMAL, A.",Independent
5484,Tamil Nadu,TIRUVANNAMALAI(11),lost,2637,( -544742),"MOHANRAJA,  V.M.",Bahujan Samaj Party
5485,Tamil Nadu,TIRUVANNAMALAI(11),lost,1842,( -545537),CAPTAIN GOWTHAM,Independent
5486,Tamil Nadu,TIRUVANNAMALAI(11),lost,1251,( -546128),"UDHAYAKUMAR, P.S.",Independent
5487,Tamil Nadu,TIRUVANNAMALAI(11),lost,1172,( -546207),"ANNADURAI, S.",Independent
5488,Tamil Nadu,TIRUVANNAMALAI(11),lost,965,( -546414),"KOTHANDABANI, B.",Independent
5489,Tamil Nadu,TIRUVANNAMALAI(11),lost,954,( -546425),"SELVAM , K.",Veerath Thiyagi Viswanathadoss Thozhilalarkal Katchi
5490,Tamil Nadu,TIRUVANNAMALAI(11),lost,950,( -546429),"KALASTHIRI,  S.",All India Uzhavargal Uzhaippalargal Katchi
5491,Tamil Nadu,TIRUVANNAMALAI(11),lost,934,( -546445),"VIJAYAKUMAR,  S.",Independent
5492,Tamil Nadu,TIRUVANNAMALAI(11),lost,864,( -546515),"JAGANNATHAN,  R.",Independent
5493,Tamil Nadu,TIRUVANNAMALAI(11),lost,856,( -546523),"SENTHAMIL SELVAN,  M.",Independent
5494,Tamil Nadu,TIRUVANNAMALAI(11),lost,777,( -546602),"AGNI SELVARASU, J.",Naadaalum Makkal Katchi
5495,Tamil Nadu,TIRUVANNAMALAI(11),lost,736,( -546643),"SATHIYAMOORTHY,  S.",Makkal Nala Kazhagam
5496,Tamil Nadu,TIRUVANNAMALAI(11),lost,658,( -546721),"SUB MAJOR SETTU, M.",Viro Ke Vir Indian Party
5497,Tamil Nadu,TIRUVANNAMALAI(11),lost,648,( -546731),"ANNADURAI, S.",Independent
5498,Tamil Nadu,TIRUVANNAMALAI(11),lost,578,( -546801),"SANKAR,  S.",Independent
5499,Tamil Nadu,TIRUVANNAMALAI(11),lost,516,( -546863),"ANNADURAI, A.",Independent
5500,Tamil Nadu,TIRUVANNAMALAI(11),lost,429,( -546950),"NALLASIVAM, M.",Independent
5501,Tamil Nadu,TIRUVANNAMALAI(11),lost,417,( -546962),"POONGODY,  A.",Independent
5502,Tamil Nadu,TIRUVANNAMALAI(11),lost,414,( -546965),"PALANI , T.N.",Independent
5503,Tamil Nadu,TIRUVANNAMALAI(11),lost,342,( -547037),"VIMAL, V.",Independent
5504,Tamil Nadu,TIRUVANNAMALAI(11),lost,295,( -547084),"THANGARAJ,  P.",Independent
5505,Tamil Nadu,TIRUVANNAMALAI(11),lost,281,( -547098),"RAMESH , T.P.",Independent
5506,Tamil Nadu,TIRUVANNAMALAI(11),lost,265,( -547114),"NAKKEERAN ,  A.",Independent
5507,Tamil Nadu,TIRUVANNAMALAI(11),lost,259,( -547120),DEEPAMMAL SUNDARI,Independent
5508,Tamil Nadu,TIRUVANNAMALAI(11),,11957,( -535422),NOTA,None of the Above
5509,Tamil Nadu,DHARMAPURI(10),won,432667,(+ 21300),MANI. A.,Dravida Munnetra Kazhagam
5510,Tamil Nadu,DHARMAPURI(10),lost,411367,( -21300),SOWMIYA ANBUMANI,Pattali Makkal Katchi
5511,Tamil Nadu,DHARMAPURI(10),lost,293629,( -139038),ASOKAN. R. DR.,All India Anna Dravida Munnetra Kazhagam
5512,Tamil Nadu,DHARMAPURI(10),lost,65381,( -367286),ABINAYA,Naam Tamilar Katchi
5513,Tamil Nadu,DHARMAPURI(10),lost,7331,( -425336),THANGAVEL. K.,Dhesiya Makkal Kazhagam
5514,Tamil Nadu,DHARMAPURI(10),lost,5671,( -426996),THIRUMURUGAN. P.,Independent
5515,Tamil Nadu,DHARMAPURI(10),lost,3166,( -429501),HARI. R.,Bahujan Samaj Party
5516,Tamil Nadu,DHARMAPURI(10),lost,3028,( -429639),SOWMIYA,Independent
5517,Tamil Nadu,DHARMAPURI(10),lost,2315,( -430352),ELAYARANI. P.,Ganasangam Party of India
5518,Tamil Nadu,DHARMAPURI(10),lost,2290,( -430377),ARUMUGAM. M.,Independent
5519,Tamil Nadu,DHARMAPURI(10),lost,1651,( -431016),AGNI AALVAR,Independent
5520,Tamil Nadu,DHARMAPURI(10),lost,1450,( -431217),PALANI. K.,Independent
5521,Tamil Nadu,DHARMAPURI(10),lost,1033,( -431634),MANI. R.,Independent
5522,Tamil Nadu,DHARMAPURI(10),lost,1026,( -431641),ASHOKAN. M.,Independent
5523,Tamil Nadu,DHARMAPURI(10),lost,900,( -431767),ALAGARASAN. R.,Independent
5524,Tamil Nadu,DHARMAPURI(10),lost,800,( -431867),SUNDHARAMOORTHY. M.,Independent
5525,Tamil Nadu,DHARMAPURI(10),lost,710,( -431957),MANI. C.,Independent
5526,Tamil Nadu,DHARMAPURI(10),lost,709,( -431958),PARTHASARATHI,Tamilar Makkal Katchi
5527,Tamil Nadu,DHARMAPURI(10),lost,657,( -432010),PADMARAJAN. K. DR.,Independent
5528,Tamil Nadu,DHARMAPURI(10),lost,651,( -432016),MANIVASAGAM. C.,Independent
5529,Tamil Nadu,DHARMAPURI(10),lost,611,( -432056),ASOKAN. G.,Independent
5530,Tamil Nadu,DHARMAPURI(10),lost,586,( -432081),AYYAKANNU,Independent
5531,Tamil Nadu,DHARMAPURI(10),lost,553,( -432114),JAGANATHAN. A.,Independent
5532,Tamil Nadu,DHARMAPURI(10),lost,452,( -432215),MANI. S.,Independent
5533,Tamil Nadu,DHARMAPURI(10),,9198,( -423469),NOTA,None of the Above
5534,Tamil Nadu,VELLORE(8),won,568692,(+ 215702),DM KATHIR ANAND,Dravida Munnetra Kazhagam
5535,Tamil Nadu,VELLORE(8),lost,352990,( -215702),AC SHANMUGAM,Bharatiya Janata Party
5536,Tamil Nadu,VELLORE(8),lost,117682,( -451010),DR S PASUPATHI,All India Anna Dravida Munnetra Kazhagam
5537,Tamil Nadu,VELLORE(8),lost,53284,( -515408),D MAHESH ANAND,Naam Tamilar Katchi
5538,Tamil Nadu,VELLORE(8),lost,4005,( -564687),A NATARAJAN,Bharatiya Praja Aikyata Party
5539,Tamil Nadu,VELLORE(8),lost,3576,( -565116),SHANMUGAVELU,Independent
5540,Tamil Nadu,VELLORE(8),lost,2804,( -565888),MANSOOR ALI KHAN,Independent
5541,Tamil Nadu,VELLORE(8),lost,2124,( -566568),SYED ALI D,Independent
5542,Tamil Nadu,VELLORE(8),lost,2039,( -566653),P SHANMUGAM,Independent
5543,Tamil Nadu,VELLORE(8),lost,1959,( -566733),NAGARAJ P,Independent
5544,Tamil Nadu,VELLORE(8),lost,1702,( -566990),K JAYAMANI,Bahujan Samaj Party
5545,Tamil Nadu,VELLORE(8),lost,1497,( -567195),D SARAVANAN,Independent
5546,Tamil Nadu,VELLORE(8),lost,868,( -567824),MP SHANMUGAM,Independent
5547,Tamil Nadu,VELLORE(8),lost,701,( -567991),N SIVAKUMAR,Independent
5548,Tamil Nadu,VELLORE(8),lost,673,( -568019),AFROSE,Independent
5549,Tamil Nadu,VELLORE(8),lost,670,( -568022),A BEEMARAO MILINTHAR,United Republican Party of India
5550,Tamil Nadu,VELLORE(8),lost,661,( -568031),DR S JAYARAJ,Independent
5551,Tamil Nadu,VELLORE(8),lost,616,( -568076),K SHANMUGAM,Independent
5552,Tamil Nadu,VELLORE(8),lost,600,( -568092),V KALIAPERUMAL,Ganasangam Party of India
5553,Tamil Nadu,VELLORE(8),lost,572,( -568120),G SHANMUGAM,Independent
5554,Tamil Nadu,VELLORE(8),lost,461,( -568231),PP JAYAPRAKASH,Independent
5555,Tamil Nadu,VELLORE(8),lost,415,( -568277),PASUPATHI,Independent
5556,Tamil Nadu,VELLORE(8),lost,377,( -568315),S WILLIAM SATHYARAJ,Tamil Manila Murpokku Dravida Kazhagam
5557,Tamil Nadu,VELLORE(8),lost,306,( -568386),M BABU,Independent
5558,Tamil Nadu,VELLORE(8),lost,285,( -568407),B JAGAN,Independent
5559,Tamil Nadu,VELLORE(8),lost,273,( -568419),AHMED RAASHID PALLIMIRA,Independent
5560,Tamil Nadu,VELLORE(8),lost,251,( -568441),SHANMUGASUNDARAM,Independent
5561,Tamil Nadu,VELLORE(8),lost,202,( -568490),C MADHAVAN,Independent
5562,Tamil Nadu,VELLORE(8),lost,174,( -568518),T JOHNSON,Independent
5563,Tamil Nadu,VELLORE(8),lost,133,( -568559),E RAJKUMAR,Independent
5564,Tamil Nadu,VELLORE(8),lost,130,( -568562),C RAMACHANDHIRAN,Independent
5565,Tamil Nadu,VELLORE(8),,8736,( -559956),NOTA,None of the Above
5566,Tamil Nadu,ARAKKONAM(7),won,563216,(+ 306559),S JAGATHRATCHAKAN,Dravida Munnetra Kazhagam
5567,Tamil Nadu,ARAKKONAM(7),lost,256657,( -306559),L VIJAYAN,All India Anna Dravida Munnetra Kazhagam
5568,Tamil Nadu,ARAKKONAM(7),lost,202325,( -360891),K BALU,Pattali Makkal Katchi
5569,Tamil Nadu,ARAKKONAM(7),lost,98944,( -464272),S AFSHIA NASRIN,Naam Tamilar Katchi
5570,Tamil Nadu,ARAKKONAM(7),lost,6212,( -557004),D PANDIYAN,Bahujan Samaj Party
5571,Tamil Nadu,ARAKKONAM(7),lost,3866,( -559350),A PALANI,Independent
5572,Tamil Nadu,ARAKKONAM(7),lost,2049,( -561167),K MANIGANDAN,Independent
5573,Tamil Nadu,ARAKKONAM(7),lost,1938,( -561278),INDU W,Tamil Manila Murpokku Dravida Kazhagam
5574,Tamil Nadu,ARAKKONAM(7),lost,1722,( -561494),DR A V NARENDRAN,Independent
5575,Tamil Nadu,ARAKKONAM(7),lost,1678,( -561538),M VIJAYAN,Independent
5576,Tamil Nadu,ARAKKONAM(7),lost,1561,( -561655),M BALU,Independent
5577,Tamil Nadu,ARAKKONAM(7),lost,1561,( -561655),SHETTU S,Independent
5578,Tamil Nadu,ARAKKONAM(7),lost,1366,( -561850),V BABU,United Republican Party of India
5579,Tamil Nadu,ARAKKONAM(7),lost,1053,( -562163),M THULASIRAMAN,Independent
5580,Tamil Nadu,ARAKKONAM(7),lost,837,( -562379),D JANAKIRAMAN,Independent
5581,Tamil Nadu,ARAKKONAM(7),lost,835,( -562381),S SURESH KUMAR,Independent
5582,Tamil Nadu,ARAKKONAM(7),lost,821,( -562395),R VINOTH,Veerath Thiyagi Viswanathadoss Thozhilalarkal Katchi
5583,Tamil Nadu,ARAKKONAM(7),lost,729,( -562487),V VINAYAGAM,Independent
5584,Tamil Nadu,ARAKKONAM(7),lost,633,( -562583),VIJAYAN K,All India Jananayaka Makkal Kazhagam
5585,Tamil Nadu,ARAKKONAM(7),lost,583,( -562633),SHANAVAS J,Independent
5586,Tamil Nadu,ARAKKONAM(7),lost,582,( -562634),V KRISHNANANDAN,Anna MGR Dravida Makkal Kalgam
5587,Tamil Nadu,ARAKKONAM(7),lost,538,( -562678),A JAYACHANDRAN,Independent
5588,Tamil Nadu,ARAKKONAM(7),lost,432,( -562784),N SUGUMAR,Independent
5589,Tamil Nadu,ARAKKONAM(7),lost,427,( -562789),M VIJAY,Independent
5590,Tamil Nadu,ARAKKONAM(7),lost,380,( -562836),G SUDHAKAR,Independent
5591,Tamil Nadu,ARAKKONAM(7),lost,264,( -562952),K VENKATESAN,Independent
5592,Tamil Nadu,ARAKKONAM(7),,12613,( -550603),NOTA,None of the Above
5593,Tamil Nadu,KANCHEEPURAM(6),won,586044,(+ 221473),SELVAM. G,Dravida Munnetra Kazhagam
5594,Tamil Nadu,KANCHEEPURAM(6),lost,364571,( -221473),RAJASEKAR. E,All India Anna Dravida Munnetra Kazhagam
5595,Tamil Nadu,KANCHEEPURAM(6),lost,164931,( -421113),JOTHI. V,Pattali Makkal Katchi
5596,Tamil Nadu,KANCHEEPURAM(6),lost,110272,( -475772),SANTHOSH KUMAR. V,Naam Tamilar Katchi
5597,Tamil Nadu,KANCHEEPURAM(6),lost,5264,( -580780),ILAYARAJA. S,Bahujan Samaj Party
5598,Tamil Nadu,KANCHEEPURAM(6),lost,2807,( -583237),VENKATESAN. K,Independent
5599,Tamil Nadu,KANCHEEPURAM(6),lost,2511,( -583533),NARESH BHARATHI. S,Independent
5600,Tamil Nadu,KANCHEEPURAM(6),lost,1881,( -584163),ELANGOVAN. M,Independent
5601,Tamil Nadu,KANCHEEPURAM(6),lost,1702,( -584342),SURYA. A,Independent
5602,Tamil Nadu,KANCHEEPURAM(6),lost,1318,( -584726),RAMESH. S,Independent
5603,Tamil Nadu,KANCHEEPURAM(6),lost,1312,( -584732),SELVAM. T,Independent
5604,Tamil Nadu,KANCHEEPURAM(6),,16965,( -569079),NOTA,None of the Above
5605,Tamil Nadu,SRIPERUMBUDUR(5),won,758611,(+ 487029),T R BAALU,Dravida Munnetra Kazhagam
5606,Tamil Nadu,SRIPERUMBUDUR(5),lost,271582,( -487029),G PREMKUMAR,All India Anna Dravida Munnetra Kazhagam
5607,Tamil Nadu,SRIPERUMBUDUR(5),lost,210110,( -548501),V N VENUGOPAL,Tamil Maanila Congress  (Moopanar)
5608,Tamil Nadu,SRIPERUMBUDUR(5),lost,140233,( -618378),V RAVICHANDRAN,Naam Tamilar Katchi
5609,Tamil Nadu,SRIPERUMBUDUR(5),lost,8189,( -750422),K PRABAKARAN,Bahujan Samaj Party
5610,Tamil Nadu,SRIPERUMBUDUR(5),lost,3699,( -754912),M S ARUMUGAM,Independent
5611,Tamil Nadu,SRIPERUMBUDUR(5),lost,3694,( -754917),V SUDHAVALLI,Aravor Munnetra Kazhagam
5612,Tamil Nadu,SRIPERUMBUDUR(5),lost,2220,( -756391),S AMBETHKUMAR,Mahathma Makkal Munnetra Kazhakam
5613,Tamil Nadu,SRIPERUMBUDUR(5),lost,1704,( -756907),M ASHOK KUMAR,Independent
5614,Tamil Nadu,SRIPERUMBUDUR(5),lost,1352,( -757259),S SIVAKUMAR,Veerath Thiyagi Viswanathadoss Thozhilalarkal Katchi
5615,Tamil Nadu,SRIPERUMBUDUR(5),lost,1259,( -757352),AYODHI LAKSHMANAN,Independent
5616,Tamil Nadu,SRIPERUMBUDUR(5),lost,1241,( -757370),S CHITTIBABU,Naadaalum Makkal Katchi
5617,Tamil Nadu,SRIPERUMBUDUR(5),lost,970,( -757641),C ARAVIND,Desiya Makkal Sakthi Katchi
5618,Tamil Nadu,SRIPERUMBUDUR(5),lost,883,( -757728),GOPI DEEPAK,Independent
5619,Tamil Nadu,SRIPERUMBUDUR(5),lost,867,( -757744),KARTHIK KUMAR P C,Independent
5620,Tamil Nadu,SRIPERUMBUDUR(5),lost,822,( -757789),J MOHANRAJ,Jebamani Janata
5621,Tamil Nadu,SRIPERUMBUDUR(5),lost,799,( -757812),DR S PRAVEEN,Independent
5622,Tamil Nadu,SRIPERUMBUDUR(5),lost,669,( -757942),I MOHAMED YASEEN,Thakkam Katchi
5623,Tamil Nadu,SRIPERUMBUDUR(5),lost,617,( -757994),K PALANIYAPPAN,Tamizhaga Murpokku Makkal Katchi
5624,Tamil Nadu,SRIPERUMBUDUR(5),lost,514,( -758097),S PRABHU,Independent
5625,Tamil Nadu,SRIPERUMBUDUR(5),lost,494,( -758117),P BASKARAN,Independent
5626,Tamil Nadu,SRIPERUMBUDUR(5),lost,460,( -758151),P HARIDAS,Independent
5627,Tamil Nadu,SRIPERUMBUDUR(5),lost,447,( -758164),C A JAYARAMAN,Independent
5628,Tamil Nadu,SRIPERUMBUDUR(5),lost,426,( -758185),G RAMKUMAR,Independent
5629,Tamil Nadu,SRIPERUMBUDUR(5),lost,403,( -758208),N MANIKKAM,Independent
5630,Tamil Nadu,SRIPERUMBUDUR(5),lost,394,( -758217),M PREMKUMAR,Independent
5631,Tamil Nadu,SRIPERUMBUDUR(5),lost,394,( -758217),S MUNIKUMAR,Samaniya Makkal Nala Katchi
5632,Tamil Nadu,SRIPERUMBUDUR(5),lost,388,( -758223),A JINNA MOHAMMED,Independent
5633,Tamil Nadu,SRIPERUMBUDUR(5),lost,385,( -758226),M SARAVANAN,Independent
5634,Tamil Nadu,SRIPERUMBUDUR(5),lost,343,( -758268),S SIVARAMAN,Independent
5635,Tamil Nadu,SRIPERUMBUDUR(5),lost,316,( -758295),C PREMKUMAR,Independent
5636,Tamil Nadu,SRIPERUMBUDUR(5),,26450,( -732161),NOTA,None of the Above
5637,Tamil Nadu,CHENNAI CENTRAL(4),won,413848,(+ 244689),DAYANIDHI MARAN,Dravida Munnetra Kazhagam
5638,Tamil Nadu,CHENNAI CENTRAL(4),lost,169159,( -244689),VINOJ,Bharatiya Janata Party
5639,Tamil Nadu,CHENNAI CENTRAL(4),lost,72016,( -341832),B. PARTHASARATHY,Desiya Murpokku Dravida Kazhagam
5640,Tamil Nadu,CHENNAI CENTRAL(4),lost,46031,( -367817),DR.R.KARTHIKEYAN,Naam Tamilar Katchi
5641,Tamil Nadu,CHENNAI CENTRAL(4),lost,3186,( -410662),ANBAZHAGAN.G,Independent
5642,Tamil Nadu,CHENNAI CENTRAL(4),lost,2546,( -411302),DILAVAR ALI,Tipu Sultan Party
5643,Tamil Nadu,CHENNAI CENTRAL(4),lost,2147,( -411701),SAMARAN,Bahujan Samaj Party
5644,Tamil Nadu,CHENNAI CENTRAL(4),lost,1060,( -412788),L.KASINATHAN,Independent
5645,Tamil Nadu,CHENNAI CENTRAL(4),lost,787,( -413061),AGNI AALVAR,Independent
5646,Tamil Nadu,CHENNAI CENTRAL(4),lost,761,( -413087),C.S.KARNAN,Anti Corruption Dynamic Party
5647,Tamil Nadu,CHENNAI CENTRAL(4),lost,696,( -413152),M.L.RAVI,Desiya Makkal Sakthi Katchi
5648,Tamil Nadu,CHENNAI CENTRAL(4),lost,596,( -413252),S.KANDASAMY,Independent
5649,Tamil Nadu,CHENNAI CENTRAL(4),lost,567,( -413281),DHAYANIDHI SURESH,Independent
5650,Tamil Nadu,CHENNAI CENTRAL(4),lost,527,( -413321),S.SATHISH KUMAR,Independent
5651,Tamil Nadu,CHENNAI CENTRAL(4),lost,509,( -413339),P.ARJUNAN,Independent
5652,Tamil Nadu,CHENNAI CENTRAL(4),lost,501,( -413347),S.SATHISH KUMAR,Independent
5653,Tamil Nadu,CHENNAI CENTRAL(4),lost,488,( -413360),G.OMPRAKASH,Independent
5654,Tamil Nadu,CHENNAI CENTRAL(4),lost,389,( -413459),V.V.TAMILARASAN,Independent
5655,Tamil Nadu,CHENNAI CENTRAL(4),lost,382,( -413466),UDAYA KUMAR.V,Independent
5656,Tamil Nadu,CHENNAI CENTRAL(4),lost,380,( -413468),B.PARTHASARATHY,Independent
5657,Tamil Nadu,CHENNAI CENTRAL(4),lost,373,( -413475),K.CHANDRASEKAR,Naadaalum Makkal Katchi
5658,Tamil Nadu,CHENNAI CENTRAL(4),lost,314,( -413534),N.RAMAN,Tamilnadu Makkal Nalvazhvu Periyakkam
5659,Tamil Nadu,CHENNAI CENTRAL(4),lost,310,( -413538),R.MINNAL RAJ,Independent
5660,Tamil Nadu,CHENNAI CENTRAL(4),lost,270,( -413578),A.SELVA KUMAR,Thakkam Katchi
5661,Tamil Nadu,CHENNAI CENTRAL(4),lost,268,( -413580),R.VIJAY,Independent
5662,Tamil Nadu,CHENNAI CENTRAL(4),lost,254,( -413594),M.NAGARAJ,Independent
5663,Tamil Nadu,CHENNAI CENTRAL(4),lost,241,( -413607),J.NAGARAJ,Independent
5664,Tamil Nadu,CHENNAI CENTRAL(4),lost,223,( -413625),SENTHILKUMAR,Chennai Youth Party
5665,Tamil Nadu,CHENNAI CENTRAL(4),lost,215,( -413633),RANJITHKUMAR.S,Independent
5666,Tamil Nadu,CHENNAI CENTRAL(4),lost,183,( -413665),RAVI BALARAMAN,Independent
5667,Tamil Nadu,CHENNAI CENTRAL(4),lost,159,( -413689),MANJUNATHA.R,Independent
5668,Tamil Nadu,CHENNAI CENTRAL(4),,11163,( -402685),NOTA,None of the Above
5669,Tamil Nadu,CHENNAI SOUTH(3),won,516628,(+ 225945),T.SUMATHY (ALIAS) THAMIZHACHI THANGAPANDIAN,Dravida Munnetra Kazhagam
5670,Tamil Nadu,CHENNAI SOUTH(3),lost,290683,( -225945),DR.TAMILISAI SOUNDARARAJAN,Bharatiya Janata Party
5671,Tamil Nadu,CHENNAI SOUTH(3),lost,172491,( -344137),DR.J.JAYAVARDHAN,All India Anna Dravida Munnetra Kazhagam
5672,Tamil Nadu,CHENNAI SOUTH(3),lost,83972,( -432656),S.TAMILCHELVI,Naam Tamilar Katchi
5673,Tamil Nadu,CHENNAI SOUTH(3),lost,3534,( -513094),M.G.RAMU,Jebamani Janata
5674,Tamil Nadu,CHENNAI SOUTH(3),lost,1812,( -514816),M.AZARUTHEEN,Independent
5675,Tamil Nadu,CHENNAI SOUTH(3),lost,1599,( -515029),G.P. ROBERT,Bahujan Samaj Party
5676,Tamil Nadu,CHENNAI SOUTH(3),lost,835,( -515793),R.RAVICHANDRAN,Independent
5677,Tamil Nadu,CHENNAI SOUTH(3),lost,803,( -515825),S.MANIMARAN,Independent
5678,Tamil Nadu,CHENNAI SOUTH(3),lost,792,( -515836),FARMER JAYARAMAN. S.K.J,Desiya Makkal Sakthi Katchi
5679,Tamil Nadu,CHENNAI SOUTH(3),lost,761,( -515867),A.K.D. ELLAPPAN,Mahathma Makkal Munnetra Kazhakam
5680,Tamil Nadu,CHENNAI SOUTH(3),lost,625,( -516003),K.KANNAN,Independent
5681,Tamil Nadu,CHENNAI SOUTH(3),lost,589,( -516039),BALAJI. G. MANGADU,Aravor Munnetra Kazhagam
5682,Tamil Nadu,CHENNAI SOUTH(3),lost,566,( -516062),R.KANCHANA,Tamizhaga Murpokku Makkal Katchi
5683,Tamil Nadu,CHENNAI SOUTH(3),lost,565,( -516063),KUTTIMANI. S,Veerath Thiyagi Viswanathadoss Thozhilalarkal Katchi
5684,Tamil Nadu,CHENNAI SOUTH(3),lost,559,( -516069),SASI REKHA,Naadaalum Makkal Katchi
5685,Tamil Nadu,CHENNAI SOUTH(3),lost,521,( -516107),P. SATHEESH KUMAR,Independent
5686,Tamil Nadu,CHENNAI SOUTH(3),lost,435,( -516193),P.SEKAR,Thakkam Katchi
5687,Tamil Nadu,CHENNAI SOUTH(3),lost,426,( -516202),R.YOGESHWARAN,Independent
5688,Tamil Nadu,CHENNAI SOUTH(3),lost,418,( -516210),J. SATHISH,Independent
5689,Tamil Nadu,CHENNAI SOUTH(3),lost,373,( -516255),V.P. RAVIKKARAN,Independent
5690,Tamil Nadu,CHENNAI SOUTH(3),lost,362,( -516266),A.PONNUDURAI,Independent
5691,Tamil Nadu,CHENNAI SOUTH(3),lost,343,( -516285),N.V.DAMODARAN,National Maha Sabha Party
5692,Tamil Nadu,CHENNAI SOUTH(3),lost,330,( -516298),M.MUNUSWAMY,Viro Ke Vir Indian Party
5693,Tamil Nadu,CHENNAI SOUTH(3),lost,315,( -516313),KARTHIK MURTHY,Independent
5694,Tamil Nadu,CHENNAI SOUTH(3),lost,289,( -516339),V.P.SURESH,Independent
5695,Tamil Nadu,CHENNAI SOUTH(3),lost,270,( -516358),E.RAMESH,Independent
5696,Tamil Nadu,CHENNAI SOUTH(3),lost,264,( -516364),R.BALAJI,Independent
5697,Tamil Nadu,CHENNAI SOUTH(3),lost,253,( -516375),DINESH KUMAR. B,Independent
5698,Tamil Nadu,CHENNAI SOUTH(3),lost,246,( -516382),A.BABU,Independent
5699,Tamil Nadu,CHENNAI SOUTH(3),lost,242,( -516386),DAYALAN. R,Independent
5700,Tamil Nadu,CHENNAI SOUTH(3),lost,237,( -516391),VIJIRATHINAM. M,Independent
5701,Tamil Nadu,CHENNAI SOUTH(3),lost,217,( -516411),V.SIVAKUMAR,Independent
5702,Tamil Nadu,CHENNAI SOUTH(3),lost,182,( -516446),MURUGAN. P,Independent
5703,Tamil Nadu,CHENNAI SOUTH(3),lost,179,( -516449),G.RAMESHBABU,Independent
5704,Tamil Nadu,CHENNAI SOUTH(3),lost,178,( -516450),S.RAJASEKARAN,Independent
5705,Tamil Nadu,CHENNAI SOUTH(3),lost,175,( -516453),N.NARAYANASWAMY,Independent
5706,Tamil Nadu,CHENNAI SOUTH(3),lost,168,( -516460),R.DEVENDRAN,Independent
5707,Tamil Nadu,CHENNAI SOUTH(3),lost,166,( -516462),PARTHIBAN. S,Independent
5708,Tamil Nadu,CHENNAI SOUTH(3),lost,151,( -516477),I. DAVIDSINGH,Independent
5709,Tamil Nadu,CHENNAI SOUTH(3),lost,114,( -516514),E RAVENDRAN,Independent
5710,Tamil Nadu,CHENNAI SOUTH(3),,15653,( -500975),NOTA,None of the Above
5711,Tamil Nadu,CHENNAI NORTH(2),won,497333,(+ 339222),DR.KALANIDHI VEERASWAMY,Dravida Munnetra Kazhagam
5712,Tamil Nadu,CHENNAI NORTH(2),lost,158111,( -339222),R. MANOHAR,All India Anna Dravida Munnetra Kazhagam
5713,Tamil Nadu,CHENNAI NORTH(2),lost,113318,( -384015),R.C. PAUL KANAGARAJ,Bharatiya Janata Party
5714,Tamil Nadu,CHENNAI NORTH(2),lost,95954,( -401379),AMUDINI,Naam Tamilar Katchi
5715,Tamil Nadu,CHENNAI NORTH(2),lost,5923,( -491410),SARAH FATHIMA,Independent
5716,Tamil Nadu,CHENNAI NORTH(2),lost,3486,( -493847),E. IQBAL,Bahujan Samaj Party
5717,Tamil Nadu,CHENNAI NORTH(2),lost,3137,( -494196),MOORTHY. V,Independent
5718,Tamil Nadu,CHENNAI NORTH(2),lost,978,( -496355),SURIYAMUTHU,Independent
5719,Tamil Nadu,CHENNAI NORTH(2),lost,850,( -496483),C. SENAPATHI,Independent
5720,Tamil Nadu,CHENNAI NORTH(2),lost,736,( -496597),DILLI GANESH. E,Independent
5721,Tamil Nadu,CHENNAI NORTH(2),lost,714,( -496619),U. VENKATESH,Independent
5722,Tamil Nadu,CHENNAI NORTH(2),lost,697,( -496636),M. ZION RAJ,Independent
5723,Tamil Nadu,CHENNAI NORTH(2),lost,673,( -496660),A. AJITHKUMAR,Thakkam Katchi
5724,Tamil Nadu,CHENNAI NORTH(2),lost,588,( -496745),J. SEBASTIN,Socialist Unity Centre Of India (COMMUNIST)
5725,Tamil Nadu,CHENNAI NORTH(2),lost,566,( -496767),AKSHAY,Naadaalum Makkal Katchi
5726,Tamil Nadu,CHENNAI NORTH(2),lost,488,( -496845),B. BALAMURUGAN,Independent
5727,Tamil Nadu,CHENNAI NORTH(2),lost,462,( -496871),K.PALANIAPPAN,Independent
5728,Tamil Nadu,CHENNAI NORTH(2),lost,457,( -496876),R. SENTHIL KUMAR,Independent
5729,Tamil Nadu,CHENNAI NORTH(2),lost,390,( -496943),MATHANKUMAR. G,Independent
5730,Tamil Nadu,CHENNAI NORTH(2),lost,386,( -496947),P. JAYASELAN,Independent
5731,Tamil Nadu,CHENNAI NORTH(2),lost,362,( -496971),M. KOLANJI,Independent
5732,Tamil Nadu,CHENNAI NORTH(2),lost,355,( -496978),B. ZAKIR HUSSAIN,Independent
5733,Tamil Nadu,CHENNAI NORTH(2),lost,346,( -496987),P. UMADEVI,Independent
5734,Tamil Nadu,CHENNAI NORTH(2),lost,334,( -496999),K.C.JAYAPRAKASH,Independent
5735,Tamil Nadu,CHENNAI NORTH(2),lost,307,( -497026),C. SRIDHAR,Independent
5736,Tamil Nadu,CHENNAI NORTH(2),lost,293,( -497040),T. MANOHARAN,Independent
5737,Tamil Nadu,CHENNAI NORTH(2),lost,269,( -497064),K. SAMPATH,Independent
5738,Tamil Nadu,CHENNAI NORTH(2),lost,261,( -497072),D. SRINIVASAN,Independent
5739,Tamil Nadu,CHENNAI NORTH(2),lost,259,( -497074),S. RAVIKUMAR,Republican Party of India  (Sivaraj)
5740,Tamil Nadu,CHENNAI NORTH(2),lost,252,( -497081),T. KAVIYARASU,Independent
5741,Tamil Nadu,CHENNAI NORTH(2),lost,246,( -497087),SATHISH. B,Independent
5742,Tamil Nadu,CHENNAI NORTH(2),lost,209,( -497124),D. KABILAN,Independent
5743,Tamil Nadu,CHENNAI NORTH(2),lost,206,( -497127),R.VINAYAGAMOORTHY,Independent
5744,Tamil Nadu,CHENNAI NORTH(2),lost,172,( -497161),P. MARIMUTHU,Independent
5745,Tamil Nadu,CHENNAI NORTH(2),lost,163,( -497170),V.MADHAN MOHAN,Independent
5746,Tamil Nadu,CHENNAI NORTH(2),,13208,( -484125),NOTA,None of the Above
5747,Tamil Nadu,TIRUNELVELI(38),won,502296,(+ 165620),ROBERT BRUCE C,Indian National Congress
5748,Tamil Nadu,TIRUNELVELI(38),lost,336676,( -165620),NAINAR NAGENTHRAN,Bharatiya Janata Party
5749,Tamil Nadu,TIRUNELVELI(38),lost,89601,( -412695),JANSI RANI M,All India Anna Dravida Munnetra Kazhagam
5750,Tamil Nadu,TIRUNELVELI(38),lost,87686,( -414610),SATHYA,Naam Tamilar Katchi
5751,Tamil Nadu,TIRUNELVELI(38),lost,19852,( -482444),POTTAL SUNDARA MUNISWARAN,Independent
5752,Tamil Nadu,TIRUNELVELI(38),lost,3781,( -498515),ATHISAYAM V,Independent
5753,Tamil Nadu,TIRUNELVELI(38),lost,2067,( -500229),BALASUBRAMANIAN,Bahujan Samaj Party
5754,Tamil Nadu,TIRUNELVELI(38),lost,1895,( -500401),CHINNA MAHARAJA K,Independent
5755,Tamil Nadu,TIRUNELVELI(38),lost,1836,( -500460),DAVID M,Independent
5756,Tamil Nadu,TIRUNELVELI(38),lost,1497,( -500799),SAMUEL LAWRENCE PONNIAH,Independent
5757,Tamil Nadu,TIRUNELVELI(38),lost,1475,( -500821),BISHOP DR GODFREY WASHINGTON NOBLE,Aanaithinthiya Jananayaka Pathukappu Kazhagam
5758,Tamil Nadu,TIRUNELVELI(38),lost,1450,( -500846),LENIN K,Independent
5759,Tamil Nadu,TIRUNELVELI(38),lost,1413,( -500883),CHANDRAN M,Veerath Thiyagi Viswanathadoss Thozhilalarkal Katchi
5760,Tamil Nadu,TIRUNELVELI(38),lost,1346,( -500950),SELVA KUMAR S,Bahujan Dravida Party
5761,Tamil Nadu,TIRUNELVELI(38),lost,1072,( -501224),KUMAR V,Puthiya Makkal Tamil Desam Katchi
5762,Tamil Nadu,TIRUNELVELI(38),lost,1048,( -501248),MUTHURAMAN A,Aravor Munnetra Kazhagam
5763,Tamil Nadu,TIRUNELVELI(38),lost,917,( -501379),THALAPATHY MURUGAN M,Independent
5764,Tamil Nadu,TIRUNELVELI(38),lost,875,( -501421),SIVARAM K,Independent
5765,Tamil Nadu,TIRUNELVELI(38),lost,790,( -501506),RAMAKRISHNAN N,Nam India Naam Indiyar Katchi
5766,Tamil Nadu,TIRUNELVELI(38),lost,788,( -501508),SURESH,Independent
5767,Tamil Nadu,TIRUNELVELI(38),lost,689,( -501607),DR RAJENDRA RETNAM K,Independent
5768,Tamil Nadu,TIRUNELVELI(38),lost,636,( -501660),SEVAL KANNAN B ADVOCATE,Independent
5769,Tamil Nadu,TIRUNELVELI(38),lost,366,( -501930),RAGHAVAN C M,Independent
5770,Tamil Nadu,TIRUNELVELI(38),,7396,( -494900),NOTA,None of the Above
5771,Tamil Nadu,VIRUDHUNAGAR(34),won,385256,(+ 4379),MANICKAM TAGORE B,Indian National Congress
5772,Tamil Nadu,VIRUDHUNAGAR(34),lost,380877,( -4379),VIJAYAPRABHAKARAN V,Desiya Murpokku Dravida Kazhagam
5773,Tamil Nadu,VIRUDHUNAGAR(34),lost,166271,( -218985),RADIKAA R,Bharatiya Janata Party
5774,Tamil Nadu,VIRUDHUNAGAR(34),lost,77031,( -308225),KAUSHIK S,Naam Tamilar Katchi
5775,Tamil Nadu,VIRUDHUNAGAR(34),lost,6173,( -379083),RAJESH,Independent
5776,Tamil Nadu,VIRUDHUNAGAR(34),lost,5293,( -379963),ASHOK KUMAR M,Bharatiya Praja Aikyata Party
5777,Tamil Nadu,VIRUDHUNAGAR(34),lost,3446,( -381810),SEKAR S,Hindu Samaj Party
5778,Tamil Nadu,VIRUDHUNAGAR(34),lost,3346,( -381910),MANIKANDAN M,Independent
5779,Tamil Nadu,VIRUDHUNAGAR(34),lost,2751,( -382505),MAYAK KANNAN,Independent
5780,Tamil Nadu,VIRUDHUNAGAR(34),lost,2405,( -382851),MAHENDRA RAMAKRISHNAN P,Independent
5781,Tamil Nadu,VIRUDHUNAGAR(34),lost,2397,( -382859),SURESH,Bahujan Samaj Party
5782,Tamil Nadu,VIRUDHUNAGAR(34),lost,2188,( -383068),SELVI K,Independent
5783,Tamil Nadu,VIRUDHUNAGAR(34),lost,2133,( -383123),PANDIYAMMAL R,Independent
5784,Tamil Nadu,VIRUDHUNAGAR(34),lost,1359,( -383897),SUDALAIMANI M,Independent
5785,Tamil Nadu,VIRUDHUNAGAR(34),lost,1263,( -383993),PALANICHAMY P,Bahujan Dravida Party
5786,Tamil Nadu,VIRUDHUNAGAR(34),lost,1257,( -383999),PALANISAMY K,Independent
5787,Tamil Nadu,VIRUDHUNAGAR(34),lost,1247,( -384009),VENKATESWARAN V K,Independent
5788,Tamil Nadu,VIRUDHUNAGAR(34),lost,1121,( -384135),SELVARAJAN V V,Independent
5789,Tamil Nadu,VIRUDHUNAGAR(34),lost,1110,( -384146),MARIEESWARI M,Independent
5790,Tamil Nadu,VIRUDHUNAGAR(34),lost,998,( -384258),SANKARANARAYANAN N,Independent
5791,Tamil Nadu,VIRUDHUNAGAR(34),lost,902,( -384354),SELVAKUMAR M,Independent
5792,Tamil Nadu,VIRUDHUNAGAR(34),lost,761,( -384495),MUTHUKANNU C,Tamilaga Makkal Nala Katchi
5793,Tamil Nadu,VIRUDHUNAGAR(34),lost,711,( -384545),MARISELVAM S,All India People Development Party
5794,Tamil Nadu,VIRUDHUNAGAR(34),lost,610,( -384646),JEYARAJ T,Independent
5795,Tamil Nadu,VIRUDHUNAGAR(34),lost,600,( -384656),VEDHA @  DHAMODHARAN,Independent
5796,Tamil Nadu,VIRUDHUNAGAR(34),lost,527,( -384729),RAJAGOPAL S,Independent
5797,Tamil Nadu,VIRUDHUNAGAR(34),lost,460,( -384796),GANESHAMOORTHI G,Independent
5798,Tamil Nadu,VIRUDHUNAGAR(34),,9408,( -375848),NOTA,None of the Above
5799,Tamil Nadu,SIVAGANGA(31),won,427677,(+ 205664),KARTI P CHIDAMBARAM,Indian National Congress
5800,Tamil Nadu,SIVAGANGA(31),lost,222013,( -205664),XAVIERDASS A,All India Anna Dravida Munnetra Kazhagam
5801,Tamil Nadu,SIVAGANGA(31),lost,195788,( -231889),DHEVANATHAN YADAV T,Bharatiya Janata Party
5802,Tamil Nadu,SIVAGANGA(31),lost,163412,( -264265),EZHILARASI,Naam Tamilar Katchi
5803,Tamil Nadu,SIVAGANGA(31),lost,8512,( -419165),DHANALAKSHMI M,Independent
5804,Tamil Nadu,SIVAGANGA(31),lost,4241,( -423436),GOVINDHARAJU M.G,Independent
5805,Tamil Nadu,SIVAGANGA(31),lost,3696,( -423981),NAGARAJAN  KR,Independent
5806,Tamil Nadu,SIVAGANGA(31),lost,3427,( -424250),PALANIYAPPAN  R,Independent
5807,Tamil Nadu,SIVAGANGA(31),lost,3171,( -424506),RANJITHKUMAR BALUSWAMY,Bahujan Samaj Party
5808,Tamil Nadu,SIVAGANGA(31),lost,2194,( -425483),BASKARAN S,Independent
5809,Tamil Nadu,SIVAGANGA(31),lost,1663,( -426014),KALAISELVAM K,Independent
5810,Tamil Nadu,SIVAGANGA(31),lost,1527,( -426150),MALAISAMY K,Independent
5811,Tamil Nadu,SIVAGANGA(31),lost,1292,( -426385),SEKAR  A,Independent
5812,Tamil Nadu,SIVAGANGA(31),lost,1111,( -426566),SELVARAJ P,Independent
5813,Tamil Nadu,SIVAGANGA(31),lost,1073,( -426604),THILLAIVASAGAM   M,Vidiyalai Thedum Indhiyargal Party
5814,Tamil Nadu,SIVAGANGA(31),lost,1034,( -426643),ASHOK KUMAR K,Independent
5815,Tamil Nadu,SIVAGANGA(31),lost,981,( -426696),KARTHICK  C,Independent
5816,Tamil Nadu,SIVAGANGA(31),lost,828,( -426849),MUTHARASU PANDIYAN  V,Independent
5817,Tamil Nadu,SIVAGANGA(31),lost,819,( -426858),KALAIRAJA  B,Independent
5818,Tamil Nadu,SIVAGANGA(31),lost,771,( -426906),KARTHIKAIRAJAN  P,Independent
5819,Tamil Nadu,SIVAGANGA(31),,8189,( -419488),NOTA,None of the Above
5820,Tamil Nadu,MAYILADUTHURAI(28),won,518459,(+ 271183),SUDHA R,Indian National Congress
5821,Tamil Nadu,MAYILADUTHURAI(28),lost,247276,( -271183),BABU P,All India Anna Dravida Munnetra Kazhagam
5822,Tamil Nadu,MAYILADUTHURAI(28),lost,166437,( -352022),STALIN M K,Pattali Makkal Katchi
5823,Tamil Nadu,MAYILADUTHURAI(28),lost,127642,( -390817),KALIYAMMAL P,Naam Tamilar Katchi
5824,Tamil Nadu,MAYILADUTHURAI(28),lost,3891,( -514568),KARTHICK A,Samaniya Makkal Nala Katchi
5825,Tamil Nadu,MAYILADUTHURAI(28),lost,2898,( -515561),ILANCHEZHIAN T,Bahujan Samaj Party
5826,Tamil Nadu,MAYILADUTHURAI(28),lost,1838,( -516621),BABU S,Independent
5827,Tamil Nadu,MAYILADUTHURAI(28),lost,1711,( -516748),MANIMARAN T,Independent
5828,Tamil Nadu,MAYILADUTHURAI(28),lost,1347,( -517112),NAGARAJAN K,Independent
5829,Tamil Nadu,MAYILADUTHURAI(28),lost,1256,( -517203),SILAMBARASAN D,Independent
5830,Tamil Nadu,MAYILADUTHURAI(28),lost,1236,( -517223),JAFARULLAH KHAN F,Independent
5831,Tamil Nadu,MAYILADUTHURAI(28),lost,1175,( -517284),TIMOTHY T,Independent
5832,Tamil Nadu,MAYILADUTHURAI(28),lost,1174,( -517285),PANDIYARAJAN S,Independent
5833,Tamil Nadu,MAYILADUTHURAI(28),lost,782,( -517677),VEDARETHINAM S,Anna MGR Dravida Makkal Kalgam
5834,Tamil Nadu,MAYILADUTHURAI(28),lost,739,( -517720),NITHIYANANTHAM S,Naadaalum Makkal Katchi
5835,Tamil Nadu,MAYILADUTHURAI(28),lost,617,( -517842),SRINIVASAN V,Independent
5836,Tamil Nadu,MAYILADUTHURAI(28),lost,535,( -517924),DHAKSHINAMOORTHY M,Independent
5837,Tamil Nadu,MAYILADUTHURAI(28),,8695,( -509764),NOTA,None of the Above
5838,Tamil Nadu,CUDDALORE(26),won,455053,(+ 185896),M.K. VISHNUPRASAD,Indian National Congress
5839,Tamil Nadu,CUDDALORE(26),lost,269157,( -185896),P. SIVAKOZHUNDU,Desiya Murpokku Dravida Kazhagam
5840,Tamil Nadu,CUDDALORE(26),lost,205244,( -249809),THANKAR BACHAN,Pattali Makkal Katchi
5841,Tamil Nadu,CUDDALORE(26),lost,57424,( -397629),V. MANIVASAGAN,Naam Tamilar Katchi
5842,Tamil Nadu,CUDDALORE(26),lost,6500,( -448553),S. ARIVUDAINAMBI,Anti Corruption Dynamic Party
5843,Tamil Nadu,CUDDALORE(26),lost,5450,( -449603),A. BALAJI,Independent
5844,Tamil Nadu,CUDDALORE(26),lost,3971,( -451082),V.THANIGAISELVAN,Bahujan Samaj Party
5845,Tamil Nadu,CUDDALORE(26),lost,3702,( -451351),K. MAYAKRISHNAN,Veerath Thiyagi Viswanathadoss Thozhilalarkal Katchi
5846,Tamil Nadu,CUDDALORE(26),lost,3419,( -451634),SU.VA. DHATSHANAMOORTHY,Independent
5847,Tamil Nadu,CUDDALORE(26),lost,3216,( -451837),S. RAMALINGAM,Independent
5848,Tamil Nadu,CUDDALORE(26),lost,2194,( -452859),G. PICHAMUTHU,Independent
5849,Tamil Nadu,CUDDALORE(26),lost,1696,( -453357),R. ANANDHI,Independent
5850,Tamil Nadu,CUDDALORE(26),lost,1488,( -453565),S. CHAKKARAVARTHY,Independent
5851,Tamil Nadu,CUDDALORE(26),lost,1363,( -453690),R. SRINIVASAN,Independent
5852,Tamil Nadu,CUDDALORE(26),lost,1286,( -453767),V. DAKSHANAAMURTHY,Independent
5853,Tamil Nadu,CUDDALORE(26),lost,1036,( -454017),THANGA MURUGAN,Desiya Makkal Sakthi Katchi
5854,Tamil Nadu,CUDDALORE(26),lost,712,( -454341),R. RAJASEKAR,Independent
5855,Tamil Nadu,CUDDALORE(26),lost,700,( -454353),R. PRAKASH,Independent
5856,Tamil Nadu,CUDDALORE(26),lost,660,( -454393),S. RAJAMOHAN,Independent
5857,Tamil Nadu,CUDDALORE(26),,7292,( -447761),NOTA,None of the Above
5858,Tamil Nadu,KARUR(23),won,534906,(+ 166816),JOTHIMANI. S,Indian National Congress
5859,Tamil Nadu,KARUR(23),lost,368090,( -166816),THANGAVEL. L,All India Anna Dravida Munnetra Kazhagam
5860,Tamil Nadu,KARUR(23),lost,102482,( -432424),SENTHILNATHAN. V.V,Bharatiya Janata Party
5861,Tamil Nadu,KARUR(23),lost,87503,( -447403),KARUPPAIYA. R,Naam Tamilar Katchi
5862,Tamil Nadu,KARUR(23),lost,2680,( -532226),SANKARAN. S,Bahujan Samaj Party
5863,Tamil Nadu,KARUR(23),lost,2413,( -532493),SAKTHIVEL. R,Independent
5864,Tamil Nadu,KARUR(23),lost,1921,( -532985),ABILAZAN. N,Independent
5865,Tamil Nadu,KARUR(23),lost,1809,( -533097),KARTHIKPERUMAL. R,Independent
5866,Tamil Nadu,KARUR(23),lost,1448,( -533458),KATHIRAVAN. P,Independent
5867,Tamil Nadu,KARUR(23),lost,1278,( -533628),KARUNAMOORTHY. S,Independent
5868,Tamil Nadu,KARUR(23),lost,938,( -533968),MOHAMED NAZEEM. S,Independent
5869,Tamil Nadu,KARUR(23),lost,934,( -533972),PALANISAMY. N.A,Independent
5870,Tamil Nadu,KARUR(23),lost,929,( -533977),SHANMUGAM. N,Samaniya Makkal Nala Katchi
5871,Tamil Nadu,KARUR(23),lost,811,( -534095),KALAIRAJ. K,Independent
5872,Tamil Nadu,KARUR(23),lost,808,( -534098),JOTHIMANI. A.K,Independent
5873,Tamil Nadu,KARUR(23),lost,788,( -534118),KANNAN. T,Independent
5874,Tamil Nadu,KARUR(23),lost,780,( -534126),JOTHIMANI. S,Independent
5875,Tamil Nadu,KARUR(23),lost,729,( -534177),SATHASIVAM. R,Independent
5876,Tamil Nadu,KARUR(23),lost,685,( -534221),MANIKANDAN. K,Independent
5877,Tamil Nadu,KARUR(23),lost,644,( -534262),KOSAMALAR. P,Independent
5878,Tamil Nadu,KARUR(23),lost,630,( -534276),MURUGESAN. K,Ganasangam Party of India
5879,Tamil Nadu,KARUR(23),lost,590,( -534316),MAHESWARAN. A,Independent
5880,Tamil Nadu,KARUR(23),lost,572,( -534334),REGIS THIYAGARAJAN. V.G.A,Independent
5881,Tamil Nadu,KARUR(23),lost,515,( -534391),VINCENT. F,Anti Corruption Dynamic Party
5882,Tamil Nadu,KARUR(23),lost,503,( -534403),NATRAYAN. R,Independent
5883,Tamil Nadu,KARUR(23),lost,496,( -534410),BANUMATHY. S,Independent
5884,Tamil Nadu,KARUR(23),lost,453,( -534453),UMADEVI. S,Independent
5885,Tamil Nadu,KARUR(23),lost,429,( -534477),VARADAN. M,Independent
5886,Tamil Nadu,KARUR(23),lost,417,( -534489),MURALI. M,Independent
5887,Tamil Nadu,KARUR(23),lost,415,( -534491),SAKTHIVEL. N,Independent
5888,Tamil Nadu,KARUR(23),lost,387,( -534519),BABU. G,Independent
5889,Tamil Nadu,KARUR(23),lost,371,( -534535),JAFAR ALI. A,Independent
5890,Tamil Nadu,KARUR(23),lost,354,( -534552),PRABHU. G,Independent
5891,Tamil Nadu,KARUR(23),lost,350,( -534556),PALANIVEL. P,Independent
5892,Tamil Nadu,KARUR(23),lost,339,( -534567),ANBAZHAGAN. T,Independent
5893,Tamil Nadu,KARUR(23),lost,327,( -534579),MURUGESAN. P,Independent
5894,Tamil Nadu,KARUR(23),lost,310,( -534596),SOWMIYA. R,Independent
5895,Tamil Nadu,KARUR(23),lost,306,( -534600),SATHISHKUMAR. S,Independent
5896,Tamil Nadu,KARUR(23),lost,276,( -534630),VINOTH KUMAR. N,Independent
5897,Tamil Nadu,KARUR(23),lost,275,( -534631),DHURAIYARASAN. P,Independent
5898,Tamil Nadu,KARUR(23),lost,267,( -534639),SATHIS KUMAR. C,Independent
5899,Tamil Nadu,KARUR(23),lost,258,( -534648),THIRUGNANAM. M,Independent
5900,Tamil Nadu,KARUR(23),lost,244,( -534662),SATHISH. P,Independent
5901,Tamil Nadu,KARUR(23),lost,213,( -534693),MAHAMUNI. A,Independent
5902,Tamil Nadu,KARUR(23),lost,209,( -534697),RAJAPANDIAN. K,Independent
5903,Tamil Nadu,KARUR(23),lost,206,( -534700),JOTHIVEL. A,Independent
5904,Tamil Nadu,KARUR(23),lost,205,( -534701),BASKARAN. N,Independent
5905,Tamil Nadu,KARUR(23),lost,199,( -534707),PUSHPARAJ. N,Independent
5906,Tamil Nadu,KARUR(23),lost,197,( -534709),NARENDRAKUMAR. G,Independent
5907,Tamil Nadu,KARUR(23),lost,194,( -534712),PRASANTH. S,Independent
5908,Tamil Nadu,KARUR(23),lost,186,( -534720),SUBASH MALAYALAM. T,Independent
5909,Tamil Nadu,KARUR(23),lost,185,( -534721),NAGESVARAN. P,Independent
5910,Tamil Nadu,KARUR(23),lost,165,( -534741),DANIYA. P,Independent
5911,Tamil Nadu,KARUR(23),lost,151,( -534755),SIVAKUMAR. V,Independent
5912,Tamil Nadu,KARUR(23),,8275,( -526631),NOTA,None of the Above
5913,Tamil Nadu,KRISHNAGIRI(9),won,492883,(+ 192486),GOPINATH K,Indian National Congress
5914,Tamil Nadu,KRISHNAGIRI(9),lost,300397,( -192486),JAYAPRAKASH V,All India Anna Dravida Munnetra Kazhagam
5915,Tamil Nadu,KRISHNAGIRI(9),lost,214125,( -278758),NARASIMHAN C,Bharatiya Janata Party
5916,Tamil Nadu,KRISHNAGIRI(9),lost,107083,( -385800),VIDHYA RANI,Naam Tamilar Katchi
5917,Tamil Nadu,KRISHNAGIRI(9),lost,6154,( -486729),ARUMUGAM M,Bharatiya Praja Aikyata Party
5918,Tamil Nadu,KRISHNAGIRI(9),lost,5583,( -487300),DR.SHANMUGAM .A.R,Independent
5919,Tamil Nadu,KRISHNAGIRI(9),lost,4128,( -488755),ESHWARAN C,Independent
5920,Tamil Nadu,KRISHNAGIRI(9),lost,3698,( -489185),TAMILSELVAN S,Bahujan Samaj Party
5921,Tamil Nadu,KRISHNAGIRI(9),lost,1978,( -490905),SWAMINATHAN T G,Aravor Munnetra Kazhagam
5922,Tamil Nadu,KRISHNAGIRI(9),lost,1972,( -490911),MANI K,Chennai Youth Party
5923,Tamil Nadu,KRISHNAGIRI(9),lost,1621,( -491262),SRINIVASAN K,Independent
5924,Tamil Nadu,KRISHNAGIRI(9),lost,1590,( -491293),VENKATESHKUMAR M,Independent
5925,Tamil Nadu,KRISHNAGIRI(9),lost,1423,( -491460),ALBERT FRANCIS XAVIER S,Independent
5926,Tamil Nadu,KRISHNAGIRI(9),lost,1195,( -491688),SUBRAMANI M,Tamilar Makkal Katchi
5927,Tamil Nadu,KRISHNAGIRI(9),lost,1169,( -491714),SARAVANAKUMAR A,Independent
5928,Tamil Nadu,KRISHNAGIRI(9),lost,1160,( -491723),ANNADURAI K,Independent
5929,Tamil Nadu,KRISHNAGIRI(9),lost,1160,( -491723),ANAND KUMAR A,Independent
5930,Tamil Nadu,KRISHNAGIRI(9),lost,995,( -491888),MAHARAJAN G,Independent
5931,Tamil Nadu,KRISHNAGIRI(9),lost,937,( -491946),VIJAYAKUMAR K P,Anaithu India Makkal Katchi
5932,Tamil Nadu,KRISHNAGIRI(9),lost,900,( -491983),JAGADHEESAN C,Viro Ke Vir Indian Party
5933,Tamil Nadu,KRISHNAGIRI(9),lost,824,( -492059),DEEKSHITH M,Karunaadu Party
5934,Tamil Nadu,KRISHNAGIRI(9),lost,819,( -492064),RAMESH A,Independent
5935,Tamil Nadu,KRISHNAGIRI(9),lost,799,( -492084),RAJESHWARI B.H.,Independent
5936,Tamil Nadu,KRISHNAGIRI(9),lost,792,( -492091),CHANDRAMOHAN K.M.,Independent
5937,Tamil Nadu,KRISHNAGIRI(9),lost,724,( -492159),DEVAPPA Y,Independent
5938,Tamil Nadu,KRISHNAGIRI(9),lost,660,( -492223),VEERASAMY C,Independent
5939,Tamil Nadu,KRISHNAGIRI(9),lost,405,( -492478),YUVARAJ K P U,Independent
5940,Tamil Nadu,KRISHNAGIRI(9),,10982,( -481901),NOTA,None of the Above
5941,Tamil Nadu,TIRUVALLUR(1),won,796956,(+ 572155),Sasikanth Senthil,Indian National Congress
5942,Tamil Nadu,TIRUVALLUR(1),lost,224801,( -572155),"Balaganapathy, V. Pon",Bharatiya Janata Party
5943,Tamil Nadu,TIRUVALLUR(1),lost,223904,( -573052),"Nallathambi, K.",Desiya Murpokku Dravida Kazhagam
5944,Tamil Nadu,TIRUVALLUR(1),lost,120838,( -676118),"Jagadesh Chander, M.",Naam Tamilar Katchi
5945,Tamil Nadu,TIRUVALLUR(1),lost,13810,( -783146),"Tamizhmadhi, D.",Bahujan Samaj Party
5946,Tamil Nadu,TIRUVALLUR(1),lost,2946,( -794010),"Ashok Priyadarshan, S.",Desiya Makkal Sakthi Katchi
5947,Tamil Nadu,TIRUVALLUR(1),lost,2853,( -794103),Malathi,Naadaalum Makkal Katchi
5948,Tamil Nadu,TIRUVALLUR(1),lost,2752,( -794204),"Mani, E.",Independent
5949,Tamil Nadu,TIRUVALLUR(1),lost,2008,( -794948),"Devandhran, M.",Anna MGR Dravida Makkal Kalgam
5950,Tamil Nadu,TIRUVALLUR(1),lost,1922,( -795034),"Manimaran, V.",Independent
5951,Tamil Nadu,TIRUVALLUR(1),lost,1690,( -795266),"Balakrishnan, K.",Independent
5952,Tamil Nadu,TIRUVALLUR(1),lost,1631,( -795325),"Bharathidasan, S.S.",Independent
5953,Tamil Nadu,TIRUVALLUR(1),lost,1613,( -795343),"Shakthivel, A.J.",Independent
5954,Tamil Nadu,TIRUVALLUR(1),lost,1110,( -795846),"Sivasankaran, V.",Independent
5955,Tamil Nadu,TIRUVALLUR(1),,18978,( -777978),NOTA,None of the Above
5956,Tamil Nadu,VILUPPURAM(13),won,477033,(+ 70703),RAVIKUMAR. D,Viduthalai Chiruthaigal Katchi
5957,Tamil Nadu,VILUPPURAM(13),lost,406330,( -70703),BHAGYARAJ. J,All India Anna Dravida Munnetra Kazhagam
5958,Tamil Nadu,VILUPPURAM(13),lost,181882,( -295151),MURALI SANKAR. S,Pattali Makkal Katchi
5959,Tamil Nadu,VILUPPURAM(13),lost,57242,( -419791),KALANCHIYAM. M,Naam Tamilar Katchi
5960,Tamil Nadu,VILUPPURAM(13),lost,3920,( -473113),KARUNCHIRUTHAI KALIYAMURTHY. K,Bahujan Samaj Party
5961,Tamil Nadu,VILUPPURAM(13),lost,3504,( -473529),ARUMUGAM. M,United Republican Party of India
5962,Tamil Nadu,VILUPPURAM(13),lost,2382,( -474651),DHARMA. K,Independent
5963,Tamil Nadu,VILUPPURAM(13),lost,1953,( -475080),VIVEKANANDHAN. E,Independent
5964,Tamil Nadu,VILUPPURAM(13),lost,1842,( -475191),ARASAN. K,Independent
5965,Tamil Nadu,VILUPPURAM(13),lost,1656,( -475377),VIGNESVARAN. R,Independent
5966,Tamil Nadu,VILUPPURAM(13),lost,1397,( -475636),SURESH. S,Independent
5967,Tamil Nadu,VILUPPURAM(13),lost,1049,( -475984),PERIYAN. A,Independent
5968,Tamil Nadu,VILUPPURAM(13),lost,963,( -476070),GUNASEKARAN. K,Independent
5969,Tamil Nadu,VILUPPURAM(13),lost,861,( -476172),VIJAYAN. A,Independent
5970,Tamil Nadu,VILUPPURAM(13),lost,674,( -476359),NAGARAJ. A,Independent
5971,Tamil Nadu,VILUPPURAM(13),lost,598,( -476435),SURESH. K,Independent
5972,Tamil Nadu,VILUPPURAM(13),lost,415,( -476618),SATHIYARAJ. N,Independent
5973,Tamil Nadu,VILUPPURAM(13),,8966,( -468067),NOTA,None of the Above
5974,Tamil Nadu,TIRUPPUR(18),won,472739,(+ 125928),"SUBBARAYAN, K.",Communist Party of India
5975,Tamil Nadu,TIRUPPUR(18),lost,346811,( -125928),"ARUNACHALAM, P.",All India Anna Dravida Munnetra Kazhagam
5976,Tamil Nadu,TIRUPPUR(18),lost,185322,( -287417),"MURUGANANDAM, A.P.",Bharatiya Janata Party
5977,Tamil Nadu,TIRUPPUR(18),lost,95726,( -377013),"SEETHALAKSHMI, M.K.",Naam Tamilar Katchi
5978,Tamil Nadu,TIRUPPUR(18),lost,7125,( -465614),"VELUSAMY, A.",Independent
5979,Tamil Nadu,TIRUPPUR(18),lost,6054,( -466685),"PALANI, V.",Bahujan Samaj Party
5980,Tamil Nadu,TIRUPPUR(18),lost,2336,( -470403),"SATHISHKUMAR, N.",Independent
5981,Tamil Nadu,TIRUPPUR(18),lost,1868,( -470871),"JANARTHANAM, P.",Tamilaga Makkal Thannurimai Katchi
5982,Tamil Nadu,TIRUPPUR(18),lost,1765,( -470974),"KANNAN, M.",Independent
5983,Tamil Nadu,TIRUPPUR(18),lost,1567,( -471172),"SENGUTTUVAN, M.R.",Independent
5984,Tamil Nadu,TIRUPPUR(18),lost,1350,( -471389),"SUBRAMANI, N.",Independent
5985,Tamil Nadu,TIRUPPUR(18),lost,1325,( -471414),"MALARVIZHI, G.",Rashtriya Samaj Paksha
5986,Tamil Nadu,TIRUPPUR(18),lost,824,( -471915),"KARTHIKEYAN, P.",Independent
5987,Tamil Nadu,TIRUPPUR(18),,17737,( -455002),NOTA,None of the Above
5988,Karnataka,Kolar(28),won,691481,(+ 71388),M. MALLESH BABU,Janata Dal  (Secular)
5989,Karnataka,Kolar(28),lost,620093,( -71388),K V GOWTHAM,Indian National Congress
5990,Karnataka,Kolar(28),lost,6487,( -684994),SUMAN H N,Independent
5991,Karnataka,Kolar(28),lost,6163,( -685318),HOLUR SRINIVASA,Independent
5992,Karnataka,Kolar(28),lost,4732,( -686749),S B SURESHA,Bahujan Samaj Party
5993,Karnataka,Kolar(28),lost,4597,( -686884),K R DEVARAJA,Delhi Janta Party
5994,Karnataka,Kolar(28),lost,3354,( -688127),DR M. VENKATASWAMY,Independent
5995,Karnataka,Kolar(28),lost,2118,( -689363),R RANJITHKUMAR,Independent
5996,Karnataka,Kolar(28),lost,1985,( -689496),S N NARAYANASWAMY V,Independent
5997,Karnataka,Kolar(28),lost,1669,( -689812),D GOPALAKRISHNA,Socialist Party (India)
5998,Karnataka,Kolar(28),lost,1354,( -690127),DEVARAJA A ALUSURUDINNE,Uttama Prajaakeeya Party
5999,Karnataka,Kolar(28),lost,1116,( -690365),M S BADARINARAYANA,Independent
6000,Karnataka,Kolar(28),lost,1065,( -690416),MAHESH A V,Karnataka Rashtra Samithi
6001,Karnataka,Kolar(28),lost,864,( -690617),THIMMARAYAPPA,Republican Party of India (Karnataka)
6002,Karnataka,Kolar(28),lost,751,( -690730),R RAJENDRA,Independent
6003,Karnataka,Kolar(28),lost,604,( -690877),M MUNIGANGAPPA,Independent
6004,Karnataka,Kolar(28),lost,521,( -690960),M  C HALLI VENU,Viduthalai Chiruthaigal Katchi
6005,Karnataka,Kolar(28),lost,443,( -691038),KRISHNAIAH N,Independent
6006,Karnataka,Kolar(28),,5831,( -685650),NOTA,None of the Above
6007,Karnataka,Chamarajanagar(22),won,751671,(+ 188706),SUNIL BOSE,Indian National Congress
6008,Karnataka,Chamarajanagar(22),lost,562965,( -188706),BALARAJ.S,Bharatiya Janata Party
6009,Karnataka,Chamarajanagar(22),lost,15903,( -735768),M.KRISHNA MURTHY,Bahujan Samaj Party
6010,Karnataka,Chamarajanagar(22),lost,8089,( -743582),C.M.KRISHNA,Dr. Ambedkar People's Party
6011,Karnataka,Chamarajanagar(22),lost,3954,( -747717),G.D.RAJAGOPAL (H.D.KOTE),Independent
6012,Karnataka,Chamarajanagar(22),lost,3826,( -747845),SUMA.S,Socialist Unity Centre Of India (COMMUNIST)
6013,Karnataka,Chamarajanagar(22),lost,3421,( -748250),MAHADEVASWAMY B M (PAMPI),Independent
6014,Karnataka,Chamarajanagar(22),lost,3208,( -748463),H.K.SWAMY HARADANAHALLI,Independent
6015,Karnataka,Chamarajanagar(22),lost,1986,( -749685),PATAS PRADEEP KUMAR.M,Independent
6016,Karnataka,Chamarajanagar(22),lost,1743,( -749928),KADAMBA. NAA. AMBARISH,Independent
6017,Karnataka,Chamarajanagar(22),lost,1411,( -750260),NINGARAJU.S,Karnataka Jantha Paksha
6018,Karnataka,Chamarajanagar(22),lost,1252,( -750419),KANDALLI MAHESH,Karnataka Rashtra Samithi
6019,Karnataka,Chamarajanagar(22),lost,1247,( -750424),NINGARAJ.G,Independent
6020,Karnataka,Chamarajanagar(22),lost,978,( -750693),PRASANNA KUMAR.B,Karnataka Praja Party (RaithaParva)
6021,Karnataka,Chamarajanagar(22),,8143,( -743528),NOTA,None of the Above
6022,Karnataka,Chikkballapur(27),won,822619,(+ 163460),DR.K.SUDHAKAR,Bharatiya Janata Party
6023,Karnataka,Chikkballapur(27),lost,659159,( -163460),M.S. RAKSHA RAMAIAH,Indian National Congress
6024,Karnataka,Chikkballapur(27),lost,4557,( -818062),MUNIVENKATAPPA M.P,Communist Party of India  (Marxist)
6025,Karnataka,Chikkballapur(27),lost,4440,( -818179),MAHADEV. P,Bahujan Samaj Party
6026,Karnataka,Chikkballapur(27),lost,3764,( -818855),RAJANNA,Independent
6027,Karnataka,Chikkballapur(27),lost,3381,( -819238),RAJA REDDY,Independent
6028,Karnataka,Chikkballapur(27),lost,2744,( -819875),KALAVATHI. N,Socialist Unity Centre Of India (COMMUNIST)
6029,Karnataka,Chikkballapur(27),lost,2162,( -820457),VALASAPALLI UTAPPA,Independent
6030,Karnataka,Chikkballapur(27),lost,2020,( -820599),VENKATESHMURTHY.V,Uttama Prajaakeeya Party
6031,Karnataka,Chikkballapur(27),lost,1689,( -820930),D. SUDHAKARA,Independent
6032,Karnataka,Chikkballapur(27),lost,1591,( -821028),SUDHAKAR. N,Independent
6033,Karnataka,Chikkballapur(27),lost,1465,( -821154),G N RAVI,Independent
6034,Karnataka,Chikkballapur(27),lost,1367,( -821252),BHASKAR ANKALAMADUGU SHIVAREDDY,Independent
6035,Karnataka,Chikkballapur(27),lost,1282,( -821337),CHANDRASHEKAR. H.C,Independent
6036,Karnataka,Chikkballapur(27),lost,1229,( -821390),MOHITH NARASIMHAMURTHY,Independent
6037,Karnataka,Chikkballapur(27),lost,1218,( -821401),V.N. NARASIMHAMURTHY VADIGERE,Independent
6038,Karnataka,Chikkballapur(27),lost,1207,( -821412),G.N. VENKATESH B.A.L.L.B,Independent
6039,Karnataka,Chikkballapur(27),lost,1177,( -821442),DEVARAJ CORONA WARRIOR,Independent
6040,Karnataka,Chikkballapur(27),lost,872,( -821747),G SUBRAMANI SHETTY,Karnataka Rashtra Samithi
6041,Karnataka,Chikkballapur(27),lost,857,( -821762),DR. M.R. RANGANATHA,Independent
6042,Karnataka,Chikkballapur(27),lost,850,( -821769),NAGESH. S,Digvijaya Bharatha Party
6043,Karnataka,Chikkballapur(27),lost,762,( -821857),T.R. NARAYANA RAO,Indian Labour Party (Ambedkar Phule)
6044,Karnataka,Chikkballapur(27),lost,701,( -821918),"C.V.  LOKESH GOWDA, B.E",Independent
6045,Karnataka,Chikkballapur(27),lost,619,( -822000),D. CHINNAPPA,Independent
6046,Karnataka,Chikkballapur(27),lost,594,( -822025),SANDESH.G,Independent
6047,Karnataka,Chikkballapur(27),lost,583,( -822036),NASURULLA,Independent
6048,Karnataka,Chikkballapur(27),lost,474,( -822145),K. VENKATESH,Independent
6049,Karnataka,Chikkballapur(27),lost,440,( -822179),T VENKATA SIVUDU,Independent
6050,Karnataka,Chikkballapur(27),lost,401,( -822218),G N. KODANDAREDDY,Independent
6051,Karnataka,Chikkballapur(27),,6596,( -816023),NOTA,None of the Above
6052,Jharkhand,Giridih(6),won,451139,(+ 80880),CHANDRA PRAKASH CHOUDHARY,AJSU Party
6053,Jharkhand,Giridih(6),lost,370259,( -80880),MATHURA PRASAD MAHATO,Jharkhand Mukti Morcha
6054,Jharkhand,Giridih(6),lost,347322,( -103817),JAIRAM KUMAR MAHATO,Independent
6055,Jharkhand,Giridih(6),lost,14074,( -437065),KAMAL PRASAD,Bahujan Samaj Party
6056,Jharkhand,Giridih(6),lost,13106,( -438033),SUBODH KUMAR YADAV,Independent
6057,Jharkhand,Giridih(6),lost,11020,( -440119),RAMESHWAR DUSADH,Independent
6058,Jharkhand,Giridih(6),lost,10944,( -440195),SUNITA TUDU,Independent
6059,Jharkhand,Giridih(6),lost,6939,( -444200),MD AINUL ANSARI,Bahujan Mukti Party
6060,Jharkhand,Giridih(6),lost,5627,( -445512),DWARAKA PRASAD LALA,Independent
6061,Jharkhand,Giridih(6),lost,5430,( -445709),KALAWATI DEVI,Independent
6062,Jharkhand,Giridih(6),lost,5356,( -445783),GYANESHWAR PRASAD,Lokhit Adhikar Party
6063,Jharkhand,Giridih(6),lost,4254,( -446885),SHIVJI PRASAD,Right to Recall Party
6064,Jharkhand,Giridih(6),lost,3825,( -447314),PRAMOD RAM,Peoples Party of India (Democratic)
6065,Jharkhand,Giridih(6),lost,3761,( -447378),USHA SINGH,Independent
6066,Jharkhand,Giridih(6),lost,3216,( -447923),PAPPU KUMAR NISHAD,Bhartiya Lokmat Rashtrwadi Party
6067,Jharkhand,Giridih(6),lost,2517,( -448622),SUBHASH KUMAR THAKUR,Sarv Samaj Party
6068,Jharkhand,Giridih(6),,6044,( -445095),NOTA,None of the Above
6069,Jammu and Kashmir,BARAMULLA(1),won,472481,(+ 204142),ABDUL RASHID SHEIKH,Independent
6070,Jammu and Kashmir,BARAMULLA(1),lost,268339,( -204142),OMAR ABDULLAH,Jammu & Kashmir National Conference
6071,Jammu and Kashmir,BARAMULLA(1),lost,173239,( -299242),SAJAD GANI LONE,Jammu & Kashmir People Conference
6072,Jammu and Kashmir,BARAMULLA(1),lost,27488,( -444993),MIR MOHAMMAD FAYAZ,Jammu & Kashmir Peoples Democratic Party
6073,Jammu and Kashmir,BARAMULLA(1),lost,21618,( -450863),SURAIYA NISSAR,Independent
6074,Jammu and Kashmir,BARAMULLA(1),lost,15722,( -456759),FIRDOUS AHMAD BHAT,Independent
6075,Jammu and Kashmir,BARAMULLA(1),lost,6214,( -466267),SHAFEEQA BEGUM,Independent
6076,Jammu and Kashmir,BARAMULLA(1),lost,5566,( -466915),PEERZADA MUDASIR RASHID SHAH,Jammu & Kashmir National Panthers Party (Bhim)
6077,Jammu and Kashmir,BARAMULLA(1),lost,4268,( -468213),KHURSHEED AHMAD SHAH,Rashtriya Jankranti Party
6078,Jammu and Kashmir,BARAMULLA(1),lost,4063,( -468418),MOHAMMAD SULTAN GANAIE,Independent
6079,Jammu and Kashmir,BARAMULLA(1),lost,3670,( -468811),SHADIB HANIEF KHAN,Independent
6080,Jammu and Kashmir,BARAMULLA(1),lost,3218,( -469263),MUDASIR AHMAD TANTARY,Independent
6081,Jammu and Kashmir,BARAMULLA(1),lost,2983,( -469498),NAZIR AHMAD SOFI,Independent
6082,Jammu and Kashmir,BARAMULLA(1),lost,2700,( -469781),SHABIR AHMAD DAR,Independent
6083,Jammu and Kashmir,BARAMULLA(1),lost,2689,( -469792),HILAL AHMAD WAGAY,Independent
6084,Jammu and Kashmir,BARAMULLA(1),lost,2570,( -469911),MEHRAJ UDDIN NAJAR,Independent
6085,Jammu and Kashmir,BARAMULLA(1),lost,2417,( -470064),SYED AMEER SUHAIL,Independent
6086,Jammu and Kashmir,BARAMULLA(1),lost,2343,( -470138),FAROOQ AHMAD BHAT,National Youth Party
6087,Jammu and Kashmir,BARAMULLA(1),lost,2241,( -470240),ARUN KUMAR RAINA,Independent
6088,Jammu and Kashmir,BARAMULLA(1),lost,2019,( -470462),MUNIR AHMAD KHAN,Jammu and Kashmir Nationalist People's Front
6089,Jammu and Kashmir,BARAMULLA(1),lost,1671,( -470810),MUZAFFAR HUSSAIN DAR,Independent
6090,Jammu and Kashmir,BARAMULLA(1),lost,1397,( -471084),MUSHTAQ AHMAD MIR,National Loktantrik Party
6091,Jammu and Kashmir,BARAMULLA(1),,4984,( -467497),NOTA,None of the Above
6092,Himachal Pradesh,SHIMLA(4),won,519748,(+ 91451),Suresh Kumar Kashyap,Bharatiya Janata Party
6093,Himachal Pradesh,SHIMLA(4),lost,428297,( -91451),Vinod Sultanpuri,Indian National Congress
6094,Himachal Pradesh,SHIMLA(4),lost,6500,( -513248),Anil Kumar Manget,Bahujan Samaj Party
6095,Himachal Pradesh,SHIMLA(4),lost,4814,( -514934),Suresh Kumar,Rashtriya Devbhumi Party
6096,Himachal Pradesh,SHIMLA(4),lost,4676,( -515072),Madan Lal,Akhil Bhartiya Parivar Party
6097,Himachal Pradesh,SHIMLA(4),,5930,( -513818),NOTA,None of the Above
6098,Haryana,FARIDABAD(10),won,788569,(+ 172914),KRISHAN PAL,Bharatiya Janata Party
6099,Haryana,FARIDABAD(10),lost,615655,( -172914),MAHENDER PRATAP SINGH,Indian National Congress
6100,Haryana,FARIDABAD(10),lost,25206,( -763363),KISHAN THAKUR,Bahujan Samaj Party
6101,Haryana,FARIDABAD(10),lost,8085,( -780484),SUNIL TEWATIA,Indian National Lok Dal
6102,Haryana,FARIDABAD(10),lost,5361,( -783208),NALIN HOODA,Jannayak Janta Party
6103,Haryana,FARIDABAD(10),lost,2955,( -785614),SAWATANTAR SINGH CHAUHAN,Jan Shakti Dal
6104,Haryana,FARIDABAD(10),lost,2108,( -786461),NEERAJ JATAV,Independent
6105,Haryana,FARIDABAD(10),lost,1584,( -786985),HARI SHANKER RAJVANS,Adim Bhartiya Dal
6106,Haryana,FARIDABAD(10),lost,1458,( -787111),ATUL,Independent
6107,Haryana,FARIDABAD(10),lost,1444,( -787125),PANDIT SUMIT KUMAR SHARMA,AARAKSHAN VIRODHI PARTY
6108,Haryana,FARIDABAD(10),lost,1380,( -787189),BRIJABALA,Peoples Party of India (Democratic)
6109,Haryana,FARIDABAD(10),lost,1247,( -787322),SHYAM SUNDER SINGH,Bhartiya Shakti Chetna Party
6110,Haryana,FARIDABAD(10),lost,1240,( -787329),MAHESH PRATAP SHARMA,Rashtriya Vikas Party
6111,Haryana,FARIDABAD(10),lost,955,( -787614),SATAY DEO YADAV,Buland Bharat Party
6112,Haryana,FARIDABAD(10),lost,924,( -787645),RANDHEER SINGH ALIAS DHEERU KHATANA,Akhil Bhartiya Kisan Majdoor Party
6113,Haryana,FARIDABAD(10),lost,889,( -787680),SUNIL KUMAR,Independent
6114,Haryana,FARIDABAD(10),lost,808,( -787761),BHARAT BHUSHAN KOLI,Rashtra Nirman Party
6115,Haryana,FARIDABAD(10),lost,771,( -787798),SHIV NARAYAN BABA DUBEY,Kisan Mazdoor Sangharsh Party
6116,Haryana,FARIDABAD(10),lost,756,( -787813),GYAN CHAND BAINSLA,Samrat Mihir Bhoj Samaj Party
6117,Haryana,FARIDABAD(10),lost,663,( -787906),RAJESH GAUTAM,Independent
6118,Haryana,FARIDABAD(10),lost,663,( -787906),SWAMI RAJENDRA DEV JI,Independent
6119,Haryana,FARIDABAD(10),lost,615,( -787954),LEKHRAM DABANG,Independent
6120,Haryana,FARIDABAD(10),lost,614,( -787955),GIRRAJ,Independent
6121,Haryana,FARIDABAD(10),lost,551,( -788018),SHAKILA HUSSAIN,Loktantrik Janshakti Party
6122,Haryana,FARIDABAD(10),,6821,( -781748),NOTA,None of the Above
6123,Gujarat,Banaskantha(2),won,671883,(+ 30406),GENIBEN NAGAJI THAKOR,Indian National Congress
6124,Gujarat,Banaskantha(2),lost,641477,( -30406),DR. REKHABEN HITESHBHAI CHAUDHARI,Bharatiya Janata Party
6125,Gujarat,Banaskantha(2),lost,9929,( -661954),MANSUNGBHAI MASHRUBHAI PARMAR,Bahujan Samaj Party
6126,Gujarat,Banaskantha(2),lost,7696,( -664187),RATHOD MAVJI BHEMAJI,Independent
6127,Gujarat,Banaskantha(2),lost,5481,( -666402),SHRIMALI ASHOKBHAI BALCHANDBHAI,Independent
6128,Gujarat,Banaskantha(2),lost,4626,( -667257),JASUBHAI GAMAR,Bharat Adivasi Party
6129,Gujarat,Banaskantha(2),lost,3513,( -668370),PATEL PIYUSHBHAI KARSHANBHAI,Bharatiya Yuva Jan Ekta Party
6130,Gujarat,Banaskantha(2),lost,3009,( -668874),BAJAG LASHABHAI LAVAJIBHAI,Independent
6131,Gujarat,Banaskantha(2),lost,1823,( -670060),PRAVINBHAI ISHVARBHAI CHAUHAN,Swatantrata Abhivyakti Party
6132,Gujarat,Banaskantha(2),lost,1591,( -670292),IBRAHIMBHAI PARASANI,Independent
6133,Gujarat,Banaskantha(2),lost,1374,( -670509),PARMAR CHHAGANCHANDRARAJ,Independent
6134,Gujarat,Banaskantha(2),lost,1334,( -670549),CHETANKUMAR KESHAVLAL OZA,Independent
6135,Gujarat,Banaskantha(2),,22167,( -649716),NOTA,None of the Above
6136,Goa,South Goa(2),won,217836,(+ 13535),CAPTAIN  VIRIATO FERNANDES,Indian National Congress
6137,Goa,South Goa(2),lost,204301,( -13535),PALLAVI SHRINIVAS DEMPO,Bharatiya Janata Party
6138,Goa,South Goa(2),lost,18885,( -198951),RUBERT PEREIRA,Revolutionary Goans Party
6139,Goa,South Goa(2),lost,1581,( -216255),DR SWETA GAONKAR,Bahujan Samaj Party
6140,Goa,South Goa(2),lost,1317,( -216519),DEEPKUMAR D MAPARI,Independent
6141,Goa,South Goa(2),lost,720,( -217116),DR KALIDAS VAINGANKAR,Independent
6142,Goa,South Goa(2),lost,542,( -217294),ALEXY FERNANDES,Independent
6143,Goa,South Goa(2),lost,501,( -217335),HARISHCHANDRA SUDHAKAR NAIK,Corruption Abolition Party
6144,Goa,South Goa(2),,4837,( -212999),NOTA,None of the Above
6145,Dadra & Nagar Haveli and Daman & Diu,Daman & Diu (1),won,42523,(+ 6225),PATEL UMESHBHAI BABUBHAI,Independent
6146,Dadra & Nagar Haveli and Daman & Diu,Daman & Diu (1),lost,36298,( -6225),LALUBHAI BABUBHAI PATEL,Bharatiya Janata Party
6147,Dadra & Nagar Haveli and Daman & Diu,Daman & Diu (1),lost,11258,( -31265),KETAN DAHYABHAI PATEL,Indian National Congress
6148,Dadra & Nagar Haveli and Daman & Diu,Daman & Diu (1),lost,545,( -41978),UMESH PATEL,Navsarjan Bharat Party
6149,Dadra & Nagar Haveli and Daman & Diu,Daman & Diu (1),lost,323,( -42200),SAKIL LATIF KHAN,Independent
6150,Dadra & Nagar Haveli and Daman & Diu,Daman & Diu (1),lost,247,( -42276),IDRISH G MULLA,Independent
6151,Dadra & Nagar Haveli and Daman & Diu,Daman & Diu (1),lost,238,( -42285),PATEL UMESHBHAI BABU,Independent
6152,Dadra & Nagar Haveli and Daman & Diu,Daman & Diu (1),,978,( -41545),NOTA,None of the Above
6153,Chhattisgarh,KORBA(4),won,570182,(+ 43283),JYOTSNA CHARANDAS MAHANT,Indian National Congress
6154,Chhattisgarh,KORBA(4),lost,526899,( -43283),SAROJ PANDEY,Bharatiya Janata Party
6155,Chhattisgarh,KORBA(4),lost,48587,( -521595),SHYAM SINGH MARKAM,Gondvana Gantantra Party
6156,Chhattisgarh,KORBA(4),lost,11268,( -558914),NIRDOSH  KUMAR YADAV,Independent
6157,Chhattisgarh,KORBA(4),lost,10739,( -559443),DUJRAM BOUDDH,Bahujan Samaj Party
6158,Chhattisgarh,KORBA(4),lost,6182,( -564000),JAICHANDRA SONPAKAR,Independent
6159,Chhattisgarh,KORBA(4),lost,5709,( -564473),PALAN SINGH,Independent
6160,Chhattisgarh,KORBA(4),lost,4988,( -565194),KAMAL DEV,Bhartiya Shakti Chetna Party
6161,Chhattisgarh,KORBA(4),lost,3902,( -566280),DILIP MIRI,Independent
6162,Chhattisgarh,KORBA(4),lost,3632,( -566550),KAUSHALYA BAI PORTE,Independent
6163,Chhattisgarh,KORBA(4),lost,2504,( -567678),PRATAP BHANU,Independent
6164,Chhattisgarh,KORBA(4),lost,2477,( -567705),SANTOSH SHARMA,Independent
6165,Chhattisgarh,KORBA(4),lost,2232,( -567950),AMRIKA KARPE,Independent
6166,Chhattisgarh,KORBA(4),lost,2202,( -567980),RAJGURU KEWAL GOSWAMI,Independent
6167,Chhattisgarh,KORBA(4),lost,2073,( -568109),SHOBRAN SINGH SAIMA,Independent
6168,Chhattisgarh,KORBA(4),lost,1964,( -568218),KALYAN SINGH TANWAR,Independent
6169,Chhattisgarh,KORBA(4),lost,1814,( -568368),RAJESH PANDEY,Independent
6170,Chhattisgarh,KORBA(4),lost,1685,( -568497),SUSHIL KUMAR VISHWAKARMA,Bhartiya Janta Secular Party
6171,Chhattisgarh,KORBA(4),lost,1392,( -568790),PRASHANT DANIEL,Sarv Adi Dal
6172,Chhattisgarh,KORBA(4),lost,1294,( -568888),REKHA TIWARI,Chhattisgarh Vikas Ganga Rashtriya Party
6173,Chhattisgarh,KORBA(4),lost,1212,( -568970),PURUSHOTTAM MANIKPURI,Independent
6174,Chhattisgarh,KORBA(4),lost,1204,( -568978),PRIYANKA PATEL,Republican Party of India (A)
6175,Chhattisgarh,KORBA(4),lost,1187,( -568995),MAHENDRA KUMAR SHRIWAS (MANJU),Independent
6176,Chhattisgarh,KORBA(4),lost,1168,( -569014),SHEKH RAUF,Independent
6177,Chhattisgarh,KORBA(4),lost,1036,( -569146),SHIVPUJAN SINGH,Independent
6178,Chhattisgarh,KORBA(4),lost,861,( -569321),SHANTI BAI MARAVI,Independent
6179,Chhattisgarh,KORBA(4),lost,823,( -569359),RAMESH DAS MAHANT,Independent
6180,Chhattisgarh,KORBA(4),,6097,( -564085),NOTA,None of the Above
6181,Chandigarh,Chandigarh(1),won,216657,(+ 2504),MANISH TEWARI,Indian National Congress
6182,Chandigarh,Chandigarh(1),lost,214153,( -2504),SANJAY TANDON,Bharatiya Janata Party
6183,Chandigarh,Chandigarh(1),lost,6708,( -209949),RITU SINGH,Bahujan Samaj Party
6184,Chandigarh,Chandigarh(1),lost,2626,( -214031),LAKHVIR SINGH ALIAS KOTLA,Independent
6185,Chandigarh,Chandigarh(1),lost,1068,( -215589),DEEPANSHU SHARMA,Akhil Bhartiya Parivar Party
6186,Chandigarh,Chandigarh(1),lost,1054,( -215603),EX-ASSISTANT COMMANDANT RANPREET SINGH,Independent
6187,Chandigarh,Chandigarh(1),lost,683,( -215974),VINOD KUMAR,Independent
6188,Chandigarh,Chandigarh(1),lost,577,( -216080),SUNIL THAMAN,Haryana Jansena Party
6189,Chandigarh,Chandigarh(1),lost,436,( -216221),BALJEET SINGH ALIAS LADDI,Independent
6190,Chandigarh,Chandigarh(1),lost,321,( -216336),SUNIL KUMAR,Independent
6191,Chandigarh,Chandigarh(1),lost,307,( -216350),PARTAP SINGH RANA,Independent
6192,Chandigarh,Chandigarh(1),lost,295,( -216362),MAHANT RAVI KANT MUNI,Independent
6193,Chandigarh,Chandigarh(1),lost,294,( -216363),VIVEK SHARMA,Independent
6194,Chandigarh,Chandigarh(1),lost,255,( -216402),PIAR CHAND ALIAS KOUNDAL,Independent
6195,Chandigarh,Chandigarh(1),lost,239,( -216418),KISHOR KUMAR ALIAS BANTI BHAIYA,Independent
6196,Chandigarh,Chandigarh(1),lost,217,( -216440),RAJINDER KAUR,Sainik Samaj Party
6197,Chandigarh,Chandigarh(1),lost,205,( -216452),RAJ PRINCE SINGH,Super Power India Party
6198,Chandigarh,Chandigarh(1),lost,154,( -216503),PUSHPINDER SINGH ALIAS LOVELY ATTAWA,Independent
6199,Chandigarh,Chandigarh(1),lost,114,( -216543),KULDIP RAI ALIAS HAPPY SOOD MORINDA,Independent
6200,Chandigarh,Chandigarh(1),,2912,( -213745),NOTA,None of the Above
6201,Bihar,Purnia(12),won,567556,(+ 23847),RAJESH RANJAN ALIAS PAPPU YADAV,Independent
6202,Bihar,Purnia(12),lost,543709,( -23847),SANTOSH KUMAR,Janata Dal  (United)
6203,Bihar,Purnia(12),lost,27120,( -540436),BIMA BHARTI,Rashtriya Janata Dal
6204,Bihar,Purnia(12),lost,10619,( -556937),ARUN DAS,Bahujan Samaj Party
6205,Bihar,Purnia(12),lost,8459,( -559097),SATYENDRA YADAV,Independent
6206,Bihar,Purnia(12),lost,7693,( -559863),NOMAN ALAM,Independent
6207,Bihar,Purnia(12),lost,6854,( -560702),KISHOR KUMAR YADAV,All India Forward Bloc
6208,Bihar,Purnia(12),,23834,( -543722),NOTA,None of the Above
6209,Assam,Barpeta(3),won,860113,(+ 222351),PHANI BHUSAN CHOUDHURY,Asom Gana Parishad
6210,Assam,Barpeta(3),lost,637762,( -222351),DEEP BAYAN,Indian National Congress
6211,Assam,Barpeta(3),lost,96138,( -763975),MANORANJAN TALUKDAR,Communist Party of India  (Marxist)
6212,Assam,Barpeta(3),lost,16432,( -843681),ABUL KALAM AZAD,All India Trinamool Congress
6213,Assam,Barpeta(3),lost,9941,( -850172),DEWAN MOHIBUL ISLAM,Independent
6214,Assam,Barpeta(3),lost,9692,( -850421),SAMEJ UDDIN,Bodoland Peoples Front
6215,Assam,Barpeta(3),lost,9338,( -850775),DULU AHMED,Independent
6216,Assam,Barpeta(3),lost,7935,( -852178),MATIAR RAHMAN,Independent
6217,Assam,Barpeta(3),lost,5548,( -854565),JAGANNATH RAY,Independent
6218,Assam,Barpeta(3),lost,4448,( -855665),SHAJAHAN ALI KHAN,Voters Party  International
6219,Assam,Barpeta(3),lost,3192,( -856921),AYNAL HAQUE,Independent
6220,Assam,Barpeta(3),lost,3131,( -856982),CHITRALEKHA DAS,Socialist Unity Centre Of India (COMMUNIST)
6221,Assam,Barpeta(3),lost,2679,( -857434),AMZAD ALI,Republican Party of India (Athawale)
6222,Assam,Barpeta(3),lost,2477,( -857636),ABUBAKKAR SIDDIQUE,Rashtriya Ulama Council
6223,Assam,Barpeta(3),,17117,( -842996),NOTA,None of the Above
6224,Arunachal Pradesh,Arunachal East(2),won,145581,(+ 30421),TAPIR GAO,Bharatiya Janata Party
6225,Arunachal Pradesh,Arunachal East(2),lost,115160,( -30421),BOSIRAM SIRAM,Indian National Congress
6226,Arunachal Pradesh,Arunachal East(2),lost,27603,( -117978),TAMAT GAMOH,Independent
6227,Arunachal Pradesh,Arunachal East(2),lost,14213,( -131368),SOTAI KRI,Independent
6228,Arunachal Pradesh,Arunachal East(2),lost,9369,( -136212),OMAK NITIK,Independent
6229,Arunachal Pradesh,Arunachal East(2),lost,6622,( -138959),BANDEY MILI,Arunachal Democratic Party
6230,Arunachal Pradesh,Arunachal East(2),,4895,( -140686),NOTA,None of the Above
6231,Andhra Pradesh,Machilipatnam(11),won,724439,(+ 223179),BALASHOWRY VALLABHANENI,Janasena Party
6232,Andhra Pradesh,Machilipatnam(11),lost,501260,( -223179),SIMHADRI CHANDRA SEKHAR RAO,Yuvajana Sramika Rythu Congress Party
6233,Andhra Pradesh,Machilipatnam(11),lost,31825,( -692614),GOLLU KRISHNA,Indian National Congress
6234,Andhra Pradesh,Machilipatnam(11),lost,11141,( -713298),BAAL SHOURI CHODABATHINA,Jatiya Jana Sena Party
6235,Andhra Pradesh,Machilipatnam(11),lost,10028,( -714411),DEVAMANI DEVARAPALLI,Bahujan Samaj Party
6236,Andhra Pradesh,Machilipatnam(11),lost,5254,( -719185),KOMMARAJU SIVA NARASIMHA RAO,All India Forward Bloc
6237,Andhra Pradesh,Machilipatnam(11),lost,5220,( -719219),VALLABHANENI NAGA PAVAN KUMAR,Independent
6238,Andhra Pradesh,Machilipatnam(11),lost,2214,( -722225),MARADANI K R SWAMY,Jai Maha Bharath Party
6239,Andhra Pradesh,Machilipatnam(11),lost,1991,( -722448),GANDHI  DHANEKULA,Independent
6240,Andhra Pradesh,Machilipatnam(11),lost,1582,( -722857),PAMULA BALA SOWRYAMMA,Independent
6241,Andhra Pradesh,Machilipatnam(11),lost,1235,( -723204),ANUSHA YERUVA,Independent
6242,Andhra Pradesh,Machilipatnam(11),lost,1111,( -723328),GUDAVALLI VENKATA KEDARESWARA RAO,Independent
6243,Andhra Pradesh,Machilipatnam(11),lost,1022,( -723417),JOGI VEERANJANEYULU,Independent
6244,Andhra Pradesh,Machilipatnam(11),lost,930,( -723509),DAMODARA RAO GUDAVALLI,Independent
6245,Andhra Pradesh,Machilipatnam(11),lost,626,( -723813),APPARAO ENNETI,Independent
6246,Andhra Pradesh,Machilipatnam(11),,12126,( -712313),NOTA,None of the Above
6247,Andaman & Nicobar Islands,Andaman & Nicobar Islands(1),won,102436,(+ 24396),BISHNU PADA RAY,Bharatiya Janata Party
6248,Andaman & Nicobar Islands,Andaman & Nicobar Islands(1),lost,78040,( -24396),KULDEEP RAI SHARMA,Indian National Congress
6249,Andaman & Nicobar Islands,Andaman & Nicobar Islands(1),lost,8254,( -94182),MANOJ PAUL,Andaman Nicobar Democratic Congress
6250,Andaman & Nicobar Islands,Andaman & Nicobar Islands(1),lost,6017,( -96419),D AYYAPPAN,Communist Party of India  (Marxist)
6251,Andaman & Nicobar Islands,Andaman & Nicobar Islands(1),lost,2203,( -100233),V.K. ABDUL AZIZ,Independent
6252,Andaman & Nicobar Islands,Andaman & Nicobar Islands(1),lost,914,( -101522),K J B SELVARAJ,All India Anna Dravida Munnetra Kazhagam
6253,Andaman & Nicobar Islands,Andaman & Nicobar Islands(1),lost,719,( -101717),DR ARUN KUMAR MALLIK,Bahujan Samaj Party
6254,Andaman & Nicobar Islands,Andaman & Nicobar Islands(1),lost,542,( -101894),RINKU MALA MONDAL,Independent
6255,Andaman & Nicobar Islands,Andaman & Nicobar Islands(1),lost,507,( -101929),K VENKAT RAM BABU,Independent
6256,Andaman & Nicobar Islands,Andaman & Nicobar Islands(1),lost,380,( -102056),USHA KUMARI,Independent
6257,Andaman & Nicobar Islands,Andaman & Nicobar Islands(1),lost,351,( -102085),SALAMAT MONDAL,Socialist Unity Centre Of India (COMMUNIST)
6258,Andaman & Nicobar Islands,Andaman & Nicobar Islands(1),lost,342,( -102094),ANAND RAMNATH ARLEKAR,Independent
6259,Andaman & Nicobar Islands,Andaman & Nicobar Islands(1),,1809,( -100627),NOTA,None of the Above
6260,Andhra Pradesh,Kakinada(6),won,729699,(+ 229491),TANGELLA UDAY SRINIVAS  (TEA TIME UDAY),Janasena Party
6261,Andhra Pradesh,Kakinada(6),lost,500208,( -229491),CHALAMALASETTY SUNIL,Yuvajana Sramika Rythu Congress Party
6262,Andhra Pradesh,Kakinada(6),lost,21109,( -708590),MALLIPUDI MANGAPATI PALLAM RAJU,Indian National Congress
6263,Andhra Pradesh,Kakinada(6),lost,15703,( -713996),UDAY,Navarang Congress Party
6264,Andhra Pradesh,Kakinada(6),lost,11979,( -717720),KANDREGULA NARASIMHAM,Bahujan Samaj Party
6265,Andhra Pradesh,Kakinada(6),lost,9854,( -719845),DR ANUSHA YADAV,Bharatha Chaitanya Yuvajana Party
6266,Andhra Pradesh,Kakinada(6),lost,6559,( -723140),TANGELLA SRINIVASU,Jatiya Jana Sena Party
6267,Andhra Pradesh,Kakinada(6),lost,3927,( -725772),YEDIDA VARA PRASAD KUMAR,Republican Party of India (A)
6268,Andhra Pradesh,Kakinada(6),lost,2823,( -726876),BUGATHA BANGARRAO,Communist Party of India  (Marxist-Leninist)  (Liberation)
6269,Andhra Pradesh,Kakinada(6),lost,2647,( -727052),SUDHA VEERA GANESH,Independent
6270,Andhra Pradesh,Kakinada(6),lost,1969,( -727730),BHAVANI SANKAR PRASAD MERLA,Independent
6271,Andhra Pradesh,Kakinada(6),lost,1780,( -727919),YENUGUPALLI KRISHNA,Jaibhim Rao Bharat Party
6272,Andhra Pradesh,Kakinada(6),lost,1687,( -728012),BODDETI APPARAO,Independent
6273,Andhra Pradesh,Kakinada(6),lost,1412,( -728287),NEELAKANTAM DONAM,Independent
6274,Andhra Pradesh,Kakinada(6),lost,1227,( -728472),PASUPULETI S.V.S.BHUSHANAM,Independent
6275,Andhra Pradesh,Kakinada(6),,17220,( -712479),NOTA,None of the Above
6276,Arunachal Pradesh,Arunachal West(1),won,205417,(+ 100738),KIREN RIJIJU,Bharatiya Janata Party
6277,Arunachal Pradesh,Arunachal West(1),lost,104679,( -100738),NABAM TUKI,Indian National Congress
6278,Arunachal Pradesh,Arunachal West(1),lost,33314,( -172103),TECHI RANA,Independent
6279,Arunachal Pradesh,Arunachal West(1),lost,30530,( -174887),TOKO SHEETAL,Gana Suraksha Party
6280,Arunachal Pradesh,Arunachal West(1),lost,11518,( -193899),BIMPAK SIGA,Independent
6281,Arunachal Pradesh,Arunachal West(1),lost,7821,( -197596),RUHI TAGUNG,Independent
6282,Arunachal Pradesh,Arunachal West(1),lost,2271,( -203146),LEKI NORBU,Independent
6283,Arunachal Pradesh,Arunachal West(1),lost,1958,( -203459),TANIA JUNE,Independent
6284,Arunachal Pradesh,Arunachal West(1),,2296,( -203121),NOTA,None of the Above
6285,Haryana,GURGAON(9),won,808336,(+ 75079),RAO INDERJIT SINGH,Bharatiya Janata Party
6286,Haryana,GURGAON(9),lost,733257,( -75079),RAJ BABBAR,Indian National Congress
6287,Haryana,GURGAON(9),lost,13278,( -795058),RAHUL YADAV FAZILPURIA,Jannayak Janta Party
6288,Haryana,GURGAON(9),lost,8946,( -799390),VIJAY KHATANA,Bahujan Samaj Party
6289,Haryana,GURGAON(9),lost,4917,( -803419),SORAB KHAN,Indian National Lok Dal
6290,Haryana,GURGAON(9),lost,3528,( -804808),AJAY KUMAR,Independent
6291,Haryana,GURGAON(9),lost,3005,( -805331),ASHOK JANGRA,Independent
6292,Haryana,GURGAON(9),lost,2745,( -805591),AZAD SINGH,Independent
6293,Haryana,GURGAON(9),lost,2550,( -805786),AKSHAT GAIT,Independent
6294,Haryana,GURGAON(9),lost,2222,( -806114),LAL CHAND YADAV,Bharatheeya Jawan Kisan Party
6295,Haryana,GURGAON(9),lost,1887,( -806449),SAMAY SINGH,Independent
6296,Haryana,GURGAON(9),lost,1408,( -806928),DHARMENDER THAKRAN,Swayam Shashan Party
6297,Haryana,GURGAON(9),lost,1120,( -807216),VIJAY YADAV,Jan Sewak Kranti Party
6298,Haryana,GURGAON(9),lost,1114,( -807222),ISHWAR SINGH SUTHANI,Peoples Party of India (Democratic)
6299,Haryana,GURGAON(9),lost,1074,( -807262),COMRADE SARWAN KUMAR GUPTA,Socialist Unity Centre Of India (COMMUNIST)
6300,Haryana,GURGAON(9),lost,1000,( -807336),VANDNA GULIYA,Right to Recall Party
6301,Haryana,GURGAON(9),lost,915,( -807421),SAMPOORN ANAND,Rashtriya Lokswaraj Party
6302,Haryana,GURGAON(9),lost,794,( -807542),KUSHESHWAR  BHAGAT,Independent
6303,Haryana,GURGAON(9),lost,791,( -807545),SINGH RAM,Independent
6304,Haryana,GURGAON(9),lost,578,( -807758),ANWAR,Social Democratic Party Of India
6305,Haryana,GURGAON(9),lost,474,( -807862),FAUJI JAI KAWAR TYAGI (DIXIT),Independent
6306,Haryana,GURGAON(9),lost,439,( -807897),AKASH VYAS,Bhartiya Shakti Chetna Party
6307,Haryana,GURGAON(9),lost,437,( -807899),VISHNU,Independent
6308,Haryana,GURGAON(9),,6417,( -801919),NOTA,None of the Above
6309,Haryana,BHIWANI-MAHENDRAGARH(8),won,588664,(+ 41510),DHARAMBIR SINGH,Bharatiya Janata Party
6310,Haryana,BHIWANI-MAHENDRAGARH(8),lost,547154,( -41510),RAO DAN SINGH,Indian National Congress
6311,Haryana,BHIWANI-MAHENDRAGARH(8),lost,15265,( -573399),BAHADUR SINGH,Jannayak Janta Party
6312,Haryana,BHIWANI-MAHENDRAGARH(8),lost,6336,( -582328),SUNIL KUMAR SHARMA,Bahujan Samaj Party
6313,Haryana,BHIWANI-MAHENDRAGARH(8),lost,4695,( -583969),SUBHASH,Rashtrawadi Janlok Party (Satya)
6314,Haryana,BHIWANI-MAHENDRAGARH(8),lost,3881,( -584783),HEMANT,Independent
6315,Haryana,BHIWANI-MAHENDRAGARH(8),lost,2979,( -585685),SEEMA,Independent
6316,Haryana,BHIWANI-MAHENDRAGARH(8),lost,1900,( -586764),VED PRAKASH,Independent
6317,Haryana,BHIWANI-MAHENDRAGARH(8),lost,1668,( -586996),ANAND KUMAR,Bharatheeya Jawan Kisan Party
6318,Haryana,BHIWANI-MAHENDRAGARH(8),lost,1478,( -587186),YOGBIR SINGH,Independent
6319,Haryana,BHIWANI-MAHENDRAGARH(8),lost,1053,( -587611),VARSHA,Independent
6320,Haryana,BHIWANI-MAHENDRAGARH(8),lost,857,( -587807),BALWAN,Peoples Party of India (Democratic)
6321,Haryana,BHIWANI-MAHENDRAGARH(8),lost,640,( -588024),ROHTASH,Socialist Unity Centre Of India (COMMUNIST)
6322,Haryana,BHIWANI-MAHENDRAGARH(8),lost,451,( -588213),JAI SINGH,Independent
6323,Haryana,BHIWANI-MAHENDRAGARH(8),lost,443,( -588221),BHARAT BHUSHAN,Bhartiya Shakti Chetna Party
6324,Haryana,BHIWANI-MAHENDRAGARH(8),lost,415,( -588249),ENGINEER MAHAVIR SINGH YADAV,Independent
6325,Haryana,BHIWANI-MAHENDRAGARH(8),lost,229,( -588435),JAGDISH,Independent
6326,Haryana,BHIWANI-MAHENDRAGARH(8),,5287,( -583377),NOTA,None of the Above
6327,Haryana,KARNAL(5),won,739285,(+ 232577),MANOHAR LAL,Bharatiya Janata Party
6328,Haryana,KARNAL(5),lost,506708,( -232577),DIVYANSHU BUDHIRAJA,Indian National Congress
6329,Haryana,KARNAL(5),lost,32508,( -706777),INDER SINGH,Bahujan Samaj Party
6330,Haryana,KARNAL(5),lost,29151,( -710134),MARATHA VIRENDER VERMA,Nationalist Congress Party – Sharadchandra Pawar
6331,Haryana,KARNAL(5),lost,11467,( -727818),DEVENDER KADIAN,Jannayak Janta Party
6332,Haryana,KARNAL(5),lost,4004,( -735281),MANOJ BANSAL,Independent
6333,Haryana,KARNAL(5),lost,2994,( -736291),GULSHAN KASHYAP,Independent
6334,Haryana,KARNAL(5),lost,2904,( -736381),ASHOK KATARIA,Samst Samaj Party
6335,Haryana,KARNAL(5),lost,1866,( -737419),HARJEET SINGH VIRK,Shiromani Akali Dal (Amritsar)(Simranjit Singh Mann)
6336,Haryana,KARNAL(5),lost,1851,( -737434),SONIA,Independent
6337,Haryana,KARNAL(5),lost,1587,( -737698),MANISH,Independent
6338,Haryana,KARNAL(5),lost,1292,( -737993),LEENA KOHLI,Independent
6339,Haryana,KARNAL(5),lost,1253,( -738032),NITIN GEHLOT,Peoples Party of India (Democratic)
6340,Haryana,KARNAL(5),lost,1188,( -738097),BALWAN SINGH,Independent
6341,Haryana,KARNAL(5),lost,1020,( -738265),VINEET CHOUDHARY,Bharatiya Asha Party
6342,Haryana,KARNAL(5),lost,769,( -738516),ROOP SINGH,Rashtriya Garib Dal
6343,Haryana,KARNAL(5),lost,752,( -738533),SAWAMI AGNIVESH,Independent
6344,Haryana,KARNAL(5),lost,705,( -738580),AZAD SINGH PUNIA,Independent
6345,Haryana,KARNAL(5),lost,633,( -738652),ASHOK KUMAR,Independent
6346,Haryana,KARNAL(5),,3955,( -735330),NOTA,None of the Above
6347,Haryana,KURUKSHETRA(2),won,542175,(+ 29021),NAVEEN JINDAL,Bharatiya Janata Party
6348,Haryana,KURUKSHETRA(2),lost,513154,( -29021),DR SUSHIL GUPTA,Aam Aadmi Party
6349,Haryana,KURUKSHETRA(2),lost,78708,( -463467),ABHAY SINGH CHAUTALA,Indian National Lok Dal
6350,Haryana,KURUKSHETRA(2),lost,20944,( -521231),DEEPAK MEHRA,Bahujan Samaj Party
6351,Haryana,KURUKSHETRA(2),lost,8093,( -534082),JAI KUMAR  SAINI HAMIDPUR,Independent
6352,Haryana,KURUKSHETRA(2),lost,6182,( -535993),PALA RAM SAINI,Jannayak Janta Party
6353,Haryana,KURUKSHETRA(2),lost,3263,( -538912),SATBIR KASHYAP,Rashtriya Janshakti Party(Eklavya)
6354,Haryana,KURUKSHETRA(2),lost,2859,( -539316),KHAZAN SINGH SEHGAL,Shiromani Akali Dal (Amritsar)(Simranjit Singh Mann)
6355,Haryana,KURUKSHETRA(2),lost,2783,( -539392),MAHAVIR SINGH,Ekam Sanatan Bharat Dal
6356,Haryana,KURUKSHETRA(2),lost,2113,( -540062),INDERJEET KAMBOJ,Peoples Party of India (Democratic)
6357,Haryana,KURUKSHETRA(2),lost,2056,( -540119),PANDIT ANIL UPADHYAY,Independent
6358,Haryana,KURUKSHETRA(2),lost,2029,( -540146),ADV ASHWINI SHARMA HRITTWAL,Independent
6359,Haryana,KURUKSHETRA(2),lost,1812,( -540363),COMRADE OM PARKASH SHASTRI,Socialist Unity Centre Of India (COMMUNIST)
6360,Haryana,KURUKSHETRA(2),lost,1599,( -540576),SURENDER SINGH,Independent
6361,Haryana,KURUKSHETRA(2),lost,1506,( -540669),AMIT MALIK,Independent
6362,Haryana,KURUKSHETRA(2),lost,1379,( -540796),PATASHO DEVI EX-SARPANCH,Independent
6363,Haryana,KURUKSHETRA(2),lost,1340,( -540835),DR MAHESH CHAND GAUR,Independent
6364,Haryana,KURUKSHETRA(2),lost,1154,( -541021),JAI PARKASH SHARMA,Independent
6365,Haryana,KURUKSHETRA(2),lost,1134,( -541041),VARUN GUPTA,Independent
6366,Haryana,KURUKSHETRA(2),lost,1066,( -541109),SATNAM BHAZIGAR,Loktantrik Lok Rajyam Party
6367,Haryana,KURUKSHETRA(2),lost,1032,( -541143),NARESH KUMAR,Samata Party
6368,Haryana,KURUKSHETRA(2),lost,997,( -541178),SATISH DHULL,Bharatiya Asha Party
6369,Haryana,KURUKSHETRA(2),lost,960,( -541215),ADVOCATE PARDEEP SAINI,Rashtriya Garib Dal
6370,Haryana,KURUKSHETRA(2),lost,718,( -541457),SEWA SINGH,Independent
6371,Haryana,KURUKSHETRA(2),lost,717,( -541458),COMRADE RAMESH KHATKAR,Independent
6372,Haryana,KURUKSHETRA(2),lost,715,( -541460),ER VISHAL KUMAR,Independent
6373,Haryana,KURUKSHETRA(2),lost,678,( -541497),OM PARKASH INDAL,Global Republican Party
6374,Haryana,KURUKSHETRA(2),lost,626,( -541549),PHOOL SINGH,Independent
6375,Haryana,KURUKSHETRA(2),lost,576,( -541599),SUNNY KASHYAP TEORA,Independent
6376,Haryana,KURUKSHETRA(2),lost,556,( -541619),RAMDIYA,Independent
6377,Haryana,KURUKSHETRA(2),lost,509,( -541666),MANGAT RAM,Independent
6378,Haryana,KURUKSHETRA(2),,2439,( -539736),NOTA,None of the Above
6379,Himachal Pradesh,HAMIRPUR(3),won,607068,(+ 182357),ANURAG SINGH THAKUR,Bharatiya Janata Party
6380,Himachal Pradesh,HAMIRPUR(3),lost,424711,( -182357),SATPAL RAIZADA,Indian National Congress
6381,Himachal Pradesh,HAMIRPUR(3),lost,2758,( -604310),HEM RAJ,Bahujan Samaj Party
6382,Himachal Pradesh,HAMIRPUR(3),lost,1764,( -605304),JAGDEEP KUMAR,Rashtriya Devbhumi Party
6383,Himachal Pradesh,HAMIRPUR(3),lost,1410,( -605658),SURENDER KUMAR GAUTAM,Independent
6384,Himachal Pradesh,HAMIRPUR(3),lost,1239,( -605829),SUBEDAR MAJOR KULWANT SINGH PATIAL,Bharatheeya Jawan Kisan Party
6385,Himachal Pradesh,HAMIRPUR(3),lost,1019,( -606049),NAND LAL,Independent
6386,Himachal Pradesh,HAMIRPUR(3),lost,675,( -606393),SUMIT RANA,Akhil Bhartiya Parivar Party
6387,Himachal Pradesh,HAMIRPUR(3),lost,560,( -606508),RAMESH CHAND SARTHI,Independent
6388,Himachal Pradesh,HAMIRPUR(3),lost,433,( -606635),ARUN ANKESH SYAL,Ekam Sanatan Bharat Dal
6389,Himachal Pradesh,HAMIRPUR(3),lost,246,( -606822),GARIB DASS KATOCH,Independent
6390,Himachal Pradesh,HAMIRPUR(3),lost,202,( -606866),GOPI CHAND ATTARI,Independent
6391,Himachal Pradesh,HAMIRPUR(3),,5178,( -601890),NOTA,None of the Above
6392,Himachal Pradesh,MANDI(2),won,537022,(+ 74755),KANGNA RANAUT,Bharatiya Janata Party
6393,Himachal Pradesh,MANDI(2),lost,462267,( -74755),VIKRAMADITYA SINGH,Indian National Congress
6394,Himachal Pradesh,MANDI(2),lost,4393,( -532629),DR. PRAKASH CHAND BHARDWAJ,Bahujan Samaj Party
6395,Himachal Pradesh,MANDI(2),lost,2447,( -534575),NARENDER KUMAR,Rashtriya Devbhumi Party
6396,Himachal Pradesh,MANDI(2),lost,1051,( -535971),RAKHEE GUPTA,Independent
6397,Himachal Pradesh,MANDI(2),lost,974,( -536048),SUBHASH MOHAN SNEHI,Independent
6398,Himachal Pradesh,MANDI(2),lost,690,( -536332),VINAY KUMAR,Akhil Bhartiya Parivar Party
6399,Himachal Pradesh,MANDI(2),lost,654,( -536368),MAHESH  SAINI,Himachal Janta Party
6400,Himachal Pradesh,MANDI(2),lost,381,( -536641),DINESH KUMAR BHATI,Independent
6401,Himachal Pradesh,MANDI(2),lost,286,( -536736),ASHUTOSH MAHANT,Independent
6402,Himachal Pradesh,MANDI(2),,5645,( -531377),NOTA,None of the Above
6403,Himachal Pradesh,KANGRA(1),won,632793,(+ 251895),DR RAJEEV BHARDWAJ,Bharatiya Janata Party
6404,Himachal Pradesh,KANGRA(1),lost,380898,( -251895),ANAND SHARMA,Indian National Congress
6405,Himachal Pradesh,KANGRA(1),lost,7753,( -625040),REKHA CHAUDHARY,Bahujan Samaj Party
6406,Himachal Pradesh,KANGRA(1),lost,2319,( -630474),ADVOCATE SANJAY SHARMA,Independent
6407,Himachal Pradesh,KANGRA(1),lost,2178,( -630615),DR KEHAR SINGH,Independent
6408,Himachal Pradesh,KANGRA(1),lost,1476,( -631317),JEEVAN KUMAR,Akhil Bhartiya Parivar Party
6409,Himachal Pradesh,KANGRA(1),lost,1171,( -631622),NARAIN SINGH DOGRA,Himachal Janta Party
6410,Himachal Pradesh,KANGRA(1),lost,756,( -632037),BHUVNESH KUMAR,Rashtriya Devbhumi Party
6411,Himachal Pradesh,KANGRA(1),lost,607,( -632186),DEV RAJ BHARDWAJ,Rashtriya Samaj Dal (R)
6412,Himachal Pradesh,KANGRA(1),lost,545,( -632248),ACHAL SINGH,Independent
6413,Himachal Pradesh,KANGRA(1),,6372,( -626421),NOTA,None of the Above
6414,Karnataka,Bangalore South(26),won,750830,(+ 277083),TEJASVI SURYA,Bharatiya Janata Party
6415,Karnataka,Bangalore South(26),lost,473747,( -277083),SOWMYA REDDY,Indian National Congress
6416,Karnataka,Bangalore South(26),lost,2425,( -748405),ARUN PRASAD.A,Bahujan Samaj Party
6417,Karnataka,Bangalore South(26),lost,1968,( -748862),TINTISHA HEMACHANDRA SAGAR,Independent
6418,Karnataka,Bangalore South(26),lost,1867,( -748963),VATAL NAGARAJ,Kannada Chalavali Vatal Paksha
6419,Karnataka,Bangalore South(26),lost,1393,( -749437),KEMPEGOWDA,Navabharath Sena
6420,Karnataka,Bangalore South(26),lost,1150,( -749680),TEJASWINI DHANANJAY,Independent
6421,Karnataka,Bangalore South(26),lost,1110,( -749720),BALAKRISHNA.M.,Uttama Prajaakeeya Party
6422,Karnataka,Bangalore South(26),lost,942,( -749888),JAYAPAL.D,Independent
6423,Karnataka,Bangalore South(26),lost,860,( -749970),RANJITH GOWDA,Independent
6424,Karnataka,Bangalore South(26),lost,740,( -750090),V.RAJKUMAR VCK,Independent
6425,Karnataka,Bangalore South(26),lost,738,( -750092),RAGHUPATHI BHAT,Karnataka Rashtra Samithi
6426,Karnataka,Bangalore South(26),lost,563,( -750267),DR HARISH GOWDA,Independent
6427,Karnataka,Bangalore South(26),lost,492,( -750338),CHETAN CHAMAN,Country Citizen Party
6428,Karnataka,Bangalore South(26),lost,477,( -750353),A . RAJ.,Independent
6429,Karnataka,Bangalore South(26),lost,452,( -750378),K. C. JANARDHAN,Independent
6430,Karnataka,Bangalore South(26),lost,403,( -750427),KANTHAKUMAR.R.,Independent
6431,Karnataka,Bangalore South(26),lost,310,( -750520),KARAVALI MANJUNATH. BE,Rashtriya Samaj Dal (R)
6432,Karnataka,Bangalore South(26),lost,297,( -750533),C M. SHABAZ KHAN,Young Star Empowerment Party
6433,Karnataka,Bangalore South(26),lost,269,( -750561),ASGAR A MOHIN.S.M.,Independent
6434,Karnataka,Bangalore South(26),lost,237,( -750593),SUBRAHMANYA KUMAR KUNTIKANAMATA,Independent
6435,Karnataka,Bangalore South(26),lost,215,( -750615),DR.R.SHEKAR THIRUMAVALVAN,Independent
6436,Karnataka,Bangalore South(26),,7857,( -742973),NOTA,None of the Above
6437,Karnataka,Bangalore central(25),won,658915,(+ 32707),P C MOHAN,Bharatiya Janata Party
6438,Karnataka,Bangalore central(25),lost,626208,( -32707),MANSOOR ALI KHAN,Indian National Congress
6439,Karnataka,Bangalore central(25),lost,3087,( -655828),SATISH CHANDRA. M.,Bahujan Samaj Party
6440,Karnataka,Bangalore central(25),lost,2761,( -656154),JAYALAKSHMI SUNDARA RAJAN,Independent
6441,Karnataka,Bangalore central(25),lost,1739,( -657176),SURESH BABU. M. C,Uttama Prajaakeeya Party
6442,Karnataka,Bangalore central(25),lost,1556,( -657359),K. MANJUNATHA,Independent
6443,Karnataka,Bangalore central(25),lost,1474,( -657441),S. M. KRISHNA,Independent
6444,Karnataka,Bangalore central(25),lost,1162,( -657753),MURUGESH. R,Independent
6445,Karnataka,Bangalore central(25),lost,827,( -658088),UMA. V.,Independent
6446,Karnataka,Bangalore central(25),lost,779,( -658136),PRAKASH. K,Karnataka Rashtra Samithi
6447,Karnataka,Bangalore central(25),lost,707,( -658208),H. P. SHIVAPRAKASH,Socialist Unity Centre Of India (COMMUNIST)
6448,Karnataka,Bangalore central(25),lost,695,( -658220),MODI SAIFULLA,Independent
6449,Karnataka,Bangalore central(25),lost,635,( -658280),ABHAYA SHEELA.,Rashtriya Samaj Dal (R)
6450,Karnataka,Bangalore central(25),lost,601,( -658314),KARTHIK. K,Voters Independent Party
6451,Karnataka,Bangalore central(25),lost,460,( -658455),T.R. JAGANNATHA RAO,Bharatiya Prajagala Kalyana Paksha
6452,Karnataka,Bangalore central(25),lost,439,( -658476),VASANTH KUMAR ERAPPA,Independent
6453,Karnataka,Bangalore central(25),lost,429,( -658486),C.M. SHABAZ KHAN,Young Star Empowerment Party
6454,Karnataka,Bangalore central(25),lost,378,( -658537),WHITEFIELD MURUGESH .C,Republican Party of India (Karnataka)
6455,Karnataka,Bangalore central(25),lost,327,( -658588),B. KRISHNA PRASAD,"Proutist Bloc, India"
6456,Karnataka,Bangalore central(25),lost,314,( -658601),MUKTHAR ALI KHAN,Karnataka Karmikara Paksha
6457,Karnataka,Bangalore central(25),lost,286,( -658629),SYED ASIF BUKHARI,Independent
6458,Karnataka,Bangalore central(25),lost,274,( -658641),RANJITH VISHWA,Samajwadi Janata Party(Karnataka)
6459,Karnataka,Bangalore central(25),lost,171,( -658744),RUMAN SHARIFFE,Independent
6460,Karnataka,Bangalore central(25),lost,160,( -658755),YALLAPPA.,Independent
6461,Karnataka,Bangalore central(25),,12126,( -646789),NOTA,None of the Above
6462,Karnataka,Bangalore North(24),won,986049,(+ 259476),SHOBHA KARANDLAJE,Bharatiya Janata Party
6463,Karnataka,Bangalore North(24),lost,726573,( -259476),PROFESSOR M.V RAJEEV GOWDA,Indian National Congress
6464,Karnataka,Bangalore North(24),lost,4631,( -981418),GOVINDAIAH,Bahujan Samaj Party
6465,Karnataka,Bangalore North(24),lost,3461,( -982588),SANTHOSH M,Uttama Prajaakeeya Party
6466,Karnataka,Bangalore North(24),lost,2678,( -983371),UDAYA SHANKAR.G,Prahar Janshakti Party
6467,Karnataka,Bangalore North(24),lost,2094,( -983955),LAKSHMI SRIHARI.J.N.,Independent
6468,Karnataka,Bangalore North(24),lost,1903,( -984146),DILIP KUMAR I.S.,Independent
6469,Karnataka,Bangalore North(24),lost,1720,( -984329),K.M.MAHADEVA,Independent
6470,Karnataka,Bangalore North(24),lost,1365,( -984684),K.V.NANJUNDASWAMY,Independent
6471,Karnataka,Bangalore North(24),lost,1280,( -984769),SHOBHA,Independent
6472,Karnataka,Bangalore North(24),lost,1077,( -984972),Y.R.KALLESHWARI,Samajwadi Janata Party(Karnataka)
6473,Karnataka,Bangalore North(24),lost,977,( -985072),NIRMALA H.L,Socialist Unity Centre Of India (COMMUNIST)
6474,Karnataka,Bangalore North(24),lost,861,( -985188),H.R.NATARAJ,Independent
6475,Karnataka,Bangalore North(24),lost,831,( -985218),BHASKAR ANKALAMADUGU SHIVAREDDY,Independent
6476,Karnataka,Bangalore North(24),lost,817,( -985232),SHIVAKUMAR. B,Karnataka Rashtra Samithi
6477,Karnataka,Bangalore North(24),lost,657,( -985392),SUDHA.  V,Independent
6478,Karnataka,Bangalore North(24),lost,559,( -985490),KRISHNAIAH,Rashtriya Samaj Dal (R)
6479,Karnataka,Bangalore North(24),lost,425,( -985624),HEBBAL VENKATESH.J,Republican Party of India (A)
6480,Karnataka,Bangalore North(24),lost,359,( -985690),"GLOBE STAR J. JAI SIMHA VARMA, B E.",Gareeb Aadmi Party
6481,Karnataka,Bangalore North(24),lost,320,( -985729),SHOBAN BABU  V,Indian Labour Party (Ambedkar Phule)
6482,Karnataka,Bangalore North(24),lost,313,( -985736),PARASAPPA BHEEMAPPA GAJJERI,Rani Chennamma Party
6483,Karnataka,Bangalore North(24),,13554,( -972495),NOTA,None of the Above
6484,Karnataka,Bangalore Rural(23),won,1079002,(+ 269647),DR C N MANJUNATH,Bharatiya Janata Party
6485,Karnataka,Bangalore Rural(23),lost,809355,( -269647),D K SURESH,Indian National Congress
6486,Karnataka,Bangalore Rural(23),lost,6202,( -1072800),ABHISHEK K,Uttama Prajaakeeya Party
6487,Karnataka,Bangalore Rural(23),lost,3236,( -1075766),SURESH M N,Independent
6488,Karnataka,Bangalore Rural(23),lost,1774,( -1077228),HEMAVATHI K,Socialist Unity Centre Of India (COMMUNIST)
6489,Karnataka,Bangalore Rural(23),lost,1472,( -1077530),J T PRAKASH,Independent
6490,Karnataka,Bangalore Rural(23),lost,1402,( -1077600),N KRISHNAPPA,Pyramid Party of India
6491,Karnataka,Bangalore Rural(23),lost,1400,( -1077602),C N MANJUNATHA,Bahujan Bharat Party
6492,Karnataka,Bangalore Rural(23),lost,1066,( -1077936),KUMAR L,Bharatiya Prajagala Kalyana Paksha
6493,Karnataka,Bangalore Rural(23),lost,821,( -1078181),MAHAMAD MUSADIK PASHA,Karnataka Rashtra Samithi
6494,Karnataka,Bangalore Rural(23),lost,813,( -1078189),NARASIMHAMURTHY J P,Independent
6495,Karnataka,Bangalore Rural(23),lost,798,( -1078204),SURESH S,Karunaadu Party
6496,Karnataka,Bangalore Rural(23),lost,584,( -1078418),VASIST J,Country Citizen Party
6497,Karnataka,Bangalore Rural(23),lost,486,( -1078516),MOHAMMAD DASTAGEER,Young Star Empowerment Party
6498,Karnataka,Bangalore Rural(23),lost,480,( -1078522),H V CHANDRASHEKAR,Viduthalai Chiruthaigal Katchi
6499,Karnataka,Bangalore Rural(23),,10649,( -1068353),NOTA,None of the Above
6500,Karnataka,Mysore(21),won,795503,(+ 139262),YADUVEER KRISHNADATTA CHAMARAJA WADIYAR,Bharatiya Janata Party
6501,Karnataka,Mysore(21),lost,656241,( -139262),M. LAKSHMANA,Indian National Congress
6502,Karnataka,Mysore(21),lost,4306,( -791197),RANGASWAMY. M,Independent
6503,Karnataka,Mysore(21),lost,4080,( -791423),KADAMBA NAA AMBARISH,Karnataka Jantha Paksha
6504,Karnataka,Mysore(21),lost,3746,( -791757),A. S. SATHISH,Independent
6505,Karnataka,Mysore(21),lost,3605,( -791898),RAMAMURTHY. M,Independent
6506,Karnataka,Mysore(21),lost,1949,( -793554),RAJU,Independent
6507,Karnataka,Mysore(21),lost,1754,( -793749),PRAJAKEEYA LEELA SHIVAKUMAR,Uttama Prajaakeeya Party
6508,Karnataka,Mysore(21),lost,1560,( -793943),COMRADE SUNIL T. R,Socialist Unity Centre Of India (COMMUNIST)
6509,Karnataka,Mysore(21),lost,1489,( -794014),H. K. KRISHNA,Karunaadu Party
6510,Karnataka,Mysore(21),lost,976,( -794527),HARISH GOWDA,Socialist Party (India)
6511,Karnataka,Mysore(21),lost,878,( -794625),P. S. YADURAPPA,Independent
6512,Karnataka,Mysore(21),lost,835,( -794668),AMBEDKAR. C. J,Independent
6513,Karnataka,Mysore(21),lost,764,( -794739),DARSHAN K PONNETI,Independent
6514,Karnataka,Mysore(21),lost,740,( -794763),M. S. PRAVEEN,Karnataka Rashtra Samithi
6515,Karnataka,Mysore(21),lost,544,( -794959),CHRISTOPHER RAJ KUMAR,Independent
6516,Karnataka,Mysore(21),lost,523,( -794980),DR. H. M. NANJUNDASWAMY,Samajwadi Janata Party(Karnataka)
6517,Karnataka,Mysore(21),lost,490,( -795013),A. G. RAMACHANDRA RAO,Secular Democratic Congress
6518,Karnataka,Mysore(21),,4490,( -791013),NOTA,None of the Above
6519,Karnataka,Tumkur(19),won,720946,(+ 175594),V. SOMANNA,Bharatiya Janata Party
6520,Karnataka,Tumkur(19),lost,545352,( -175594),S.P. MUDDAHANUMEGOWDA,Indian National Congress
6521,Karnataka,Tumkur(19),lost,6775,( -714171),J.K. SAMI,Independent
6522,Karnataka,Tumkur(19),lost,5554,( -715392),RAJASIMHA J. N.,Bahujan Samaj Party
6523,Karnataka,Tumkur(19),lost,4591,( -716355),S.N. SWAMY,Socialist Unity Centre Of India (COMMUNIST)
6524,Karnataka,Tumkur(19),lost,3132,( -717814),RANGANATHA. R.S,Independent
6525,Karnataka,Tumkur(19),lost,1880,( -719066),MALLIKARJUNAIAH,Independent
6526,Karnataka,Tumkur(19),lost,1646,( -719300),SIDDARAMEGOWDA T. B,Independent
6527,Karnataka,Tumkur(19),lost,1618,( -719328),PRADEEP KUMAR DODDAMUDDEGOWDA,Karnataka Rashtra Samithi
6528,Karnataka,Tumkur(19),lost,893,( -720053),H.L. MOHAN KUMAR,Independent
6529,Karnataka,Tumkur(19),lost,863,( -720083),PRAKASH. R.A. JAIN,Independent
6530,Karnataka,Tumkur(19),lost,719,( -720227),NEELAKANTESHA. H S,Independent
6531,Karnataka,Tumkur(19),lost,629,( -720317),R. PUSHPA,Independent
6532,Karnataka,Tumkur(19),lost,507,( -720439),R. NARAYANAPPA,Independent
6533,Karnataka,Tumkur(19),lost,499,( -720447),B. DEVARAJ,Independent
6534,Karnataka,Tumkur(19),lost,477,( -720469),DR. H.B.M. HIREMATH,Kannada  Paksha
6535,Karnataka,Tumkur(19),lost,471,( -720475),KAPANIGOWDA.,Independent
6536,Karnataka,Tumkur(19),lost,439,( -720507),BASAVARAJU. H.R,National Maha Sabha Party
6537,Karnataka,Tumkur(19),,6460,( -714486),NOTA,None of the Above
6538,Karnataka,Chitradurga(18),won,684890,(+ 48121),GOVIND MAKTHAPPA KARJOL,Bharatiya Janata Party
6539,Karnataka,Chitradurga(18),lost,636769,( -48121),B.N.CHANDRAPPA,Indian National Congress
6540,Karnataka,Chitradurga(18),lost,7705,( -677185),ASHOKA CHAKRAVARTHI,Bahujan Samaj Party
6541,Karnataka,Chitradurga(18),lost,4950,( -679940),NARASIMHARAJU. C.N.,Karnataka Rashtra Samithi
6542,Karnataka,Chitradurga(18),lost,4548,( -680342),SRINIVASAPURADA SRINIVASABABU PAVAGADA,Independent
6543,Karnataka,Chitradurga(18),lost,4201,( -680689),"B. VENKATESHA, SHILPI",Independent
6544,Karnataka,Chitradurga(18),lost,2676,( -682214),MANJUNATHA SWAMY T,Independent
6545,Karnataka,Chitradurga(18),lost,2397,( -682493),BHUTHARAJA. V.S.,Independent
6546,Karnataka,Chitradurga(18),lost,2337,( -682553),RAGHU KUMAR .S,Independent
6547,Karnataka,Chitradurga(18),lost,2206,( -682684),RAMESH NAIK .T.,Uttama Prajaakeeya Party
6548,Karnataka,Chitradurga(18),lost,1679,( -683211),NAGARAJAPPA,Independent
6549,Karnataka,Chitradurga(18),lost,1397,( -683493),K  NARASHIMAMURTHY,Independent
6550,Karnataka,Chitradurga(18),lost,1211,( -683679),SUDHAKARA .R,Independent
6551,Karnataka,Chitradurga(18),lost,1093,( -683797),GANESH.,Independent
6552,Karnataka,Chitradurga(18),lost,1082,( -683808),TULASI.H,Independent
6553,Karnataka,Chitradurga(18),lost,1018,( -683872),SHABAREESH.,Karunada Sevakara Party
6554,Karnataka,Chitradurga(18),lost,1014,( -683876),SUJATHA .D.,Socialist Unity Centre Of India (COMMUNIST)
6555,Karnataka,Chitradurga(18),lost,992,( -683898),DR M.P. DARAKESWARAIAH,Independent
6556,Karnataka,Chitradurga(18),lost,834,( -684056),AMRUTH RAJA.,Independent
6557,Karnataka,Chitradurga(18),lost,720,( -684170),B.T. RAMASUBBAIAH,Indian Movement Party
6558,Karnataka,Chitradurga(18),,3190,( -681700),NOTA,None of the Above
6559,Karnataka,Dakshina Kannada(17),won,764132,(+ 149208),CAPTAIN BRIJESH CHOWTA,Bharatiya Janata Party
6560,Karnataka,Dakshina Kannada(17),lost,614924,( -149208),PADMARAJ.R.POOJARY,Indian National Congress
6561,Karnataka,Dakshina Kannada(17),lost,4232,( -759900),KANTHAPPA ALANGAR,Bahujan Samaj Party
6562,Karnataka,Dakshina Kannada(17),lost,2592,( -761540),DURGA PRASAD,Karunada Sevakara Party
6563,Karnataka,Dakshina Kannada(17),lost,1901,( -762231),SUPREETH KUMAR POOJARY  KATEEL,Independent
6564,Karnataka,Dakshina Kannada(17),lost,1690,( -762442),MAXIM PINTO,Independent
6565,Karnataka,Dakshina Kannada(17),lost,976,( -763156),DEEPAK RAJESH COELHO,Independent
6566,Karnataka,Dakshina Kannada(17),lost,971,( -763161),PRAJAAKEEYA MANOHARA,Uttama Prajaakeeya Party
6567,Karnataka,Dakshina Kannada(17),lost,776,( -763356),RANJINI. M,Karnataka Rashtra Samithi
6568,Karnataka,Dakshina Kannada(17),,23576,( -740556),NOTA,None of the Above
6569,Karnataka,Udupi Chikmagalur(15),won,732234,(+ 259175),KOTA SRINIVAS POOJARY,Bharatiya Janata Party
6570,Karnataka,Udupi Chikmagalur(15),lost,473059,( -259175),K. JAYAPRAKASH HEGDE,Indian National Congress
6571,Karnataka,Udupi Chikmagalur(15),lost,5417,( -726817),K.T. RADHAKRISHNA,Bahujan Samaj Party
6572,Karnataka,Udupi Chikmagalur(15),lost,2286,( -729948),SUDHEER KANCHAN MARAKALA,Independent
6573,Karnataka,Udupi Chikmagalur(15),lost,1333,( -730901),SACHIN B.K,Uttama Prajaakeeya Party
6574,Karnataka,Udupi Chikmagalur(15),lost,1069,( -731165),M. K. DAYANANDA,Proutist Sarva Samaj
6575,Karnataka,Udupi Chikmagalur(15),lost,956,( -731278),VIJAY KUMAR M. G,Independent
6576,Karnataka,Udupi Chikmagalur(15),lost,690,( -731544),SUPREETH KUMAR POOJARY KATEEL,Janahitha Paksha
6577,Karnataka,Udupi Chikmagalur(15),lost,565,( -731669),SHABAREESH,Karunada Sevakara Party
6578,Karnataka,Udupi Chikmagalur(15),lost,540,( -731694),L. RANGANATH GOWDA,Karnataka Rashtra Samithi
6579,Karnataka,Udupi Chikmagalur(15),,11269,( -720965),NOTA,None of the Above
6580,Karnataka,Shimoga(14),won,778721,(+ 243715),B.Y.RAGHAVENDRA,Bharatiya Janata Party
6581,Karnataka,Shimoga(14),lost,535006,( -243715),GEETHA SHIVARAJKUMAR,Indian National Congress
6582,Karnataka,Shimoga(14),lost,30050,( -748671),K. S. ESHWARAPPA,Independent
6583,Karnataka,Shimoga(14),lost,7266,( -771455),BANDI,Independent
6584,Karnataka,Shimoga(14),lost,4552,( -774169),RAVIKUMARA N.,Independent
6585,Karnataka,Shimoga(14),lost,3457,( -775264),POOJA N. ANNAIAH,Independent
6586,Karnataka,Shimoga(14),lost,2779,( -775942),A.D. SHIVAPPA,Bahujan Samaj Party
6587,Karnataka,Shimoga(14),lost,1993,( -776728),N. V. NAVEEN KUMAR,Independent
6588,Karnataka,Shimoga(14),lost,1478,( -777243),ARUNA KANAHALLI,Uttama Prajaakeeya Party
6589,Karnataka,Shimoga(14),lost,954,( -777767),E.H. NAYAK,Independent
6590,Karnataka,Shimoga(14),lost,867,( -777854),JOHN BENNY,Independent
6591,Karnataka,Shimoga(14),lost,747,( -777974),GANESH. B (BELLI),Independent
6592,Karnataka,Shimoga(14),lost,695,( -778026),D.S. ESHWARAPPA,Independent
6593,Karnataka,Shimoga(14),lost,683,( -778038),KUNAJE MANJUNATHA GOWDA,Independent
6594,Karnataka,Shimoga(14),lost,617,( -778104),S.K PRABHU,Karnataka Rashtra Samithi
6595,Karnataka,Shimoga(14),lost,599,( -778122),SHIVARUDRAIAH SWAMY,Independent
6596,Karnataka,Shimoga(14),lost,442,( -778279),IMTIYAZ A. ATTAR,Independent
6597,Karnataka,Shimoga(14),lost,404,( -778317),MOHAMMED YUSUF KHAN,Young Star Empowerment Party
6598,Karnataka,Shimoga(14),lost,368,( -778353),G. JAYADEVA,Independent
6599,Karnataka,Shimoga(14),lost,357,( -778364),CHANDRASHEKAR. H C,Independent
6600,Karnataka,Shimoga(14),lost,344,( -778377),P. SRIPATHI. BHAT,Independent
6601,Karnataka,Shimoga(14),lost,293,( -778428),SANDESH SHETTY. A,Independent
6602,Karnataka,Shimoga(14),lost,220,( -778501),H SURESH POOJARI,Independent
6603,Karnataka,Shimoga(14),,4332,( -774389),NOTA,None of the Above
6604,Karnataka,Uttara Kannada(12),won,782495,(+ 337428),VISHWESHWAR HEGDE KAGERI,Bharatiya Janata Party
6605,Karnataka,Uttara Kannada(12),lost,445067,( -337428),DR. ANJALI NIMBALKAR,Indian National Congress
6606,Karnataka,Uttara Kannada(12),lost,5397,( -777098),RAJSHEKHAR. SHANKAR. HINDALAGI.,Independent
6607,Karnataka,Uttara Kannada(12),lost,4472,( -778023),GANAPATI HEGDE,Socialist Unity Centre Of India (COMMUNIST)
6608,Karnataka,Uttara Kannada(12),lost,4169,( -778326),NIRANJAN UDAYSINH SIRDESAI,Independent
6609,Karnataka,Uttara Kannada(12),lost,2882,( -779613),NAGARAJ. ANANT. SHIRALI.,Independent
6610,Karnataka,Uttara Kannada(12),lost,1721,( -780774),CHIDANAND  HANUMANTHAPPA HARIJAN,Independent
6611,Karnataka,Uttara Kannada(12),lost,1566,( -780929),PRAJAAKEEYA SUNIL,Uttama Prajaakeeya Party
6612,Karnataka,Uttara Kannada(12),lost,1263,( -781232),VINAYAK NAIK,Karnataka Rashtra Samithi
6613,Karnataka,Uttara Kannada(12),lost,956,( -781539),K. P. PATIL,Independent
6614,Karnataka,Uttara Kannada(12),lost,920,( -781575),KRISHNA BALEGAR,Independent
6615,Karnataka,Uttara Kannada(12),lost,904,( -781591),ARAVIND GOWDA,Independent
6616,Karnataka,Uttara Kannada(12),lost,773,( -781722),AVINASH. NARAYAN. PATIL.,Independent
6617,Karnataka,Uttara Kannada(12),,10176,( -772319),NOTA,None of the Above
6618,Karnataka,Dharwad(11),won,716231,(+ 97324),PRALHAD JOSHI,Bharatiya Janata Party
6619,Karnataka,Dharwad(11),lost,618907,( -97324),VINOD ASOOTI,Indian National Congress
6620,Karnataka,Dharwad(11),lost,5872,( -710359),SHAKEELAHMAD.D.MULLA,Independent
6621,Karnataka,Dharwad(11),lost,5161,( -711070),S. S. PATIL,Independent
6622,Karnataka,Dharwad(11),lost,3601,( -712630),RAJU ANANTSA NAIKWADI,Independent
6623,Karnataka,Dharwad(11),lost,3558,( -712673),JAVEED AHAMED BELGAUMKAR.,Naki Bharatiya Ekta Party
6624,Karnataka,Dharwad(11),lost,1167,( -715064),SHARANABASAV GONAVAR,Socialist Unity Centre Of India (COMMUNIST)
6625,Karnataka,Dharwad(11),lost,987,( -715244),BALANAGOUDRA MALLIKARJUNAGOUDA,Independent
6626,Karnataka,Dharwad(11),lost,905,( -715326),TAKAPPA YALLAPPA KALAL,Prahar Janshakti Party
6627,Karnataka,Dharwad(11),lost,800,( -715431),BUGADI BASAVALINGAPPA IRAPPA,Uttama Prajaakeeya Party
6628,Karnataka,Dharwad(11),lost,555,( -715676),NAGARAJ. KARENNAVAR.,Karnataka Rashtra Samithi
6629,Karnataka,Dharwad(11),lost,548,( -715683),PRAVEEN H. H.,Independent
6630,Karnataka,Dharwad(11),lost,514,( -715717),DR. GURAPPA H IMRAPUR,Independent
6631,Karnataka,Dharwad(11),lost,473,( -715758),BANKAPUR SHOUKATALI,Tipu Sultan Party
6632,Karnataka,Dharwad(11),lost,411,( -715820),VINOD DASHARATH GHODKE,"Proutist Bloc, India"
6633,Karnataka,Dharwad(11),lost,337,( -715894),VENKATESH PRASAD. H,Indian Labour Party (Ambedkar Phule)
6634,Karnataka,Dharwad(11),lost,317,( -715914),MOHAMMED ISMAIL MUKTI,Bharatiya Prajagala Kalyana Paksha
6635,Karnataka,Dharwad(11),,6147,( -710084),NOTA,None of the Above
6636,Karnataka,Haveri(10),won,705538,(+ 43513),BASAVARAJ BOMMAI,Bharatiya Janata Party
6637,Karnataka,Haveri(10),lost,662025,( -43513),ANANDSWAMY GADDADEVARMATH,Indian National Congress
6638,Karnataka,Haveri(10),lost,4707,( -700831),SUNANDA KARIYAPPA SHIRHATTI,Independent
6639,Karnataka,Haveri(10),lost,3401,( -702137),KHAJAMOHIDDIN GUDAGERI,Socialist Party (India)
6640,Karnataka,Haveri(10),lost,2270,( -703268),GANGADHAR BADIGER,Socialist Unity Centre Of India (COMMUNIST)
6641,Karnataka,Haveri(10),lost,1356,( -704182),RUDRAPPA BASAPPA KUMBAR,Independent
6642,Karnataka,Haveri(10),lost,1072,( -704466),PRAJAKEEYA SACHINKUMAR KARJEKANNAVAR,Uttama Prajaakeeya Party
6643,Karnataka,Haveri(10),lost,1071,( -704467),BASAVARAJ B HADI,Independent
6644,Karnataka,Haveri(10),lost,953,( -704585),DR. G H IMRAPUR,Independent
6645,Karnataka,Haveri(10),lost,674,( -704864),JAGADISH YALLAPPA BANKAPURA,Independent
6646,Karnataka,Haveri(10),lost,636,( -704902),TANU CHIKKANNA YADAV,Karnataka Rashtra Samithi
6647,Karnataka,Haveri(10),lost,446,( -705092),H K NARASIMHAPPA,Samajwadi Janata Party(Karnataka)
6648,Karnataka,Haveri(10),lost,401,( -705137),VISHWANATH SHEERI,Ekam Sanatan Bharat Dal
6649,Karnataka,Haveri(10),lost,397,( -705141),RASHEEDA BEGUM,Indian Movement Party
6650,Karnataka,Haveri(10),,10865,( -694673),NOTA,None of the Above
6651,Karnataka,Bijapur(4),won,672781,(+ 77229),RAMESH JIGAJINAGI,Bharatiya Janata Party
6652,Karnataka,Bijapur(4),lost,595552,( -77229),RAJU ALAGUR.,Indian National Congress
6653,Karnataka,Bijapur(4),lost,7691,( -665090),GANAPATI  RATHOD (HANJAGI),Karnataka Rashtra Samithi
6654,Karnataka,Bijapur(4),lost,4353,( -668428),BHOVI TARABAI,Independent
6655,Karnataka,Bijapur(4),lost,2426,( -670355),RAMJI YAMANAPPA BUDDHAPRIYA,Naki Bharatiya Ekta Party
6656,Karnataka,Bijapur(4),lost,2392,( -670389),NAGAJYOTI.B.N.,Socialist Unity Centre Of India (COMMUNIST)
6657,Karnataka,Bijapur(4),lost,1794,( -670987),RAJAKUMAR APPANNA HONNAKATTI,Rashtriya Samaj Paksha
6658,Karnataka,Bijapur(4),lost,1623,( -671158),JITENDRA.ASHOK. KAMBLE,Republican Party of India (A)
6659,Karnataka,Bijapur(4),,7502,( -665279),NOTA,None of the Above
6660,Karnataka,Bagalkot(3),won,671039,(+ 68399),GADDIGOUDAR. PARVATAGOUDA. CHANDANAGOUDA.,Bharatiya Janata Party
6661,Karnataka,Bagalkot(3),lost,602640,( -68399),SAMYUKTA SHIVANAND PATIL,Indian National Congress
6662,Karnataka,Bagalkot(3),lost,5629,( -665410),NAGARAJ. S. KALKUTAGAR,Independent
6663,Karnataka,Bagalkot(3),lost,5090,( -665949),PARASHURAM. LAXMAN. NEELANAIK,Independent
6664,Karnataka,Bagalkot(3),lost,4923,( -666116),ANTHOSH SAVVASE,Uttama Prajaakeeya Party
6665,Karnataka,Bagalkot(3),lost,4645,( -666394),JYOTI GULEDGUDDA,Independent
6666,Karnataka,Bagalkot(3),lost,4479,( -666560),M. B. SIDAGONI,Bahujan Samaj Party
6667,Karnataka,Bagalkot(3),lost,3135,( -667904),DR. MUTTU. S. SURAKOD. (MADAR),Independent
6668,Karnataka,Bagalkot(3),lost,1914,( -669125),PRASHANT RAO,Independent
6669,Karnataka,Bagalkot(3),lost,1620,( -669419),DATTATREYA DASHARATHA TAVARE,Independent
6670,Karnataka,Bagalkot(3),lost,1207,( -669832),KENGANAL. MALLIKARJUN. BHIMAPPA,Independent
6671,Karnataka,Bagalkot(3),lost,1205,( -669834),AMBROSE D' MELLO,Independent
6672,Karnataka,Bagalkot(3),lost,1144,( -669895),MALLIKARJUN H. T.,Socialist Unity Centre Of India (COMMUNIST)
6673,Karnataka,Bagalkot(3),lost,992,( -670047),RAJESAB BURANSAB. MASALI,Independent
6674,Karnataka,Bagalkot(3),lost,832,( -670207),SHARANAPPA MALLAPPA KOTLANNAVAR,Independent
6675,Karnataka,Bagalkot(3),lost,656,( -670383),RAVI SHIVAPPA PADASALAGI,Independent
6676,Karnataka,Bagalkot(3),lost,550,( -670489),SAIYYAD IMAMSAB JAKALI,Tipu Sultan Party
6677,Karnataka,Bagalkot(3),lost,529,( -670510),ABDULAZIZ KALADAGI PENDARI,Independent
6678,Karnataka,Bagalkot(3),lost,518,( -670521),MUTTAPPA MUDAKAPPA HIREKUMBI,Raita Bharat Party
6679,Karnataka,Bagalkot(3),lost,499,( -670540),SAGAR. BASAPPA. KUMBAR,Karnataka Rashtra Samithi
6680,Karnataka,Bagalkot(3),lost,454,( -670585),S. M. MARIGOUDAR,Desh Prem Party
6681,Karnataka,Bagalkot(3),lost,441,( -670598),SHANKAR. VENKAPPA. NAIKAR.,Republican Party of India (A)
6682,Karnataka,Bagalkot(3),,3420,( -667619),NOTA,None of the Above
6683,Karnataka,Belgaum(2),won,762029,(+ 178437),JAGADISH SHETTAR,Bharatiya Janata Party
6684,Karnataka,Belgaum(2),lost,583592,( -178437),MRINAL R HEBBALKAR,Indian National Congress
6685,Karnataka,Belgaum(2),lost,9503,( -752526),MAHADEV PATIL,Independent
6686,Karnataka,Belgaum(2),lost,5441,( -756588),BASAPPA GURUSIDDAPPA KUMBAR,Karnataka Rashtra Samithi
6687,Karnataka,Belgaum(2),lost,4407,( -757622),ASHOK APPAYA APPUGOL,Bahujan Samaj Party
6688,Karnataka,Belgaum(2),lost,3926,( -758103),RAVI SHIVAPPA PADASALAGI,Independent
6689,Karnataka,Belgaum(2),lost,2808,( -759221),VIJAY S METHRANI,Independent
6690,Karnataka,Belgaum(2),lost,1433,( -760596),PRAJAAKEEYA MALLAPPA CHOGALA (PREM),Uttama Prajaakeeya Party
6691,Karnataka,Belgaum(2),lost,1310,( -760719),NITIN ASHOK MHADAGUT,Independent
6692,Karnataka,Belgaum(2),lost,1302,( -760727),LAXMAN JADAGANNAVAR,Socialist Unity Centre Of India (COMMUNIST)
6693,Karnataka,Belgaum(2),lost,1099,( -760930),PUNDALIK ITNAL,Independent
6694,Karnataka,Belgaum(2),lost,679,( -761350),ASHOK P HANAJI,Independent
6695,Karnataka,Belgaum(2),lost,634,( -761395),ASHPAKAHMAD USTAD,Independent
6696,Karnataka,Belgaum(2),,5726,( -756303),NOTA,None of the Above
6697,Karnataka,Hassan(16),won,672988,(+ 42649),SHREYAS. M. PATEL,Indian National Congress
6698,Karnataka,Hassan(16),lost,630339,( -42649),PRAJWAL REVANNA,Janata Dal  (Secular)
6699,Karnataka,Hassan(16),lost,12173,( -660815),GANGADHAR BAHUJAN,Bahujan Samaj Party
6700,Karnataka,Hassan(16),lost,6057,( -666931),DEVARAJ M.Y,Karnataka Rashtra Samithi
6701,Karnataka,Hassan(16),lost,4272,( -668716),H D REVANNA,Purvanchal Mahapanchayat
6702,Karnataka,Hassan(16),lost,4063,( -668925),BASAVARAJU J.D (EX-ARMY),Independent
6703,Karnataka,Hassan(16),lost,3449,( -669539),SANTHOSH B.N,Independent
6704,Karnataka,Hassan(16),lost,3281,( -669707),HEMANTH GAVEESH,Independent
6705,Karnataka,Hassan(16),lost,3250,( -669738),PRATHAPA K.A,Uttama Prajaakeeya Party
6706,Karnataka,Hassan(16),lost,1730,( -671258),S.K. NINGARAJA,Bahujan Bharat Party
6707,Karnataka,Hassan(16),lost,1418,( -671570),B.N. SURESHA (SURESHGOWDA),Independent
6708,Karnataka,Hassan(16),lost,987,( -672001),SIDDABHOVI,Independent
6709,Karnataka,Hassan(16),lost,869,( -672119),R.G. SATHISHA RAMEDEVARAPURA,Independent
6710,Karnataka,Hassan(16),lost,848,( -672140),SHIVARAJ. B,Republican Party of India Bharatha
6711,Karnataka,Hassan(16),lost,742,( -672246),K.R. GANGADHARAPPA,Independent
6712,Karnataka,Hassan(16),,8541,( -664447),NOTA,None of the Above
6713,Karnataka,Davanagere(13),won,633059,(+ 26094),DR. PRABHA MALLIKARJUN,Indian National Congress
6714,Karnataka,Davanagere(13),lost,606965,( -26094),GAYITHRI SIDDESHWARA,Bharatiya Janata Party
6715,Karnataka,Davanagere(13),lost,42907,( -590152),G.B.VINAY KUMAR,Independent
6716,Karnataka,Davanagere(13),lost,5128,( -627931),T.JABEENA AAPA,Independent
6717,Karnataka,Davanagere(13),lost,4475,( -628584),D. HANUMANTHAPPA,Bahujan Samaj Party
6718,Karnataka,Davanagere(13),lost,4141,( -628918),TASLIM BANU,Independent
6719,Karnataka,Davanagere(13),lost,3043,( -630016),T.CHANDRU,Independent
6720,Karnataka,Davanagere(13),lost,2464,( -630595),G.M.GAYITRI SIDDESHI,Independent
6721,Karnataka,Davanagere(13),lost,1869,( -631190),PARAVEEJ.H,Independent
6722,Karnataka,Davanagere(13),lost,1430,( -631629),ESHWARA SHENGA,Uttama Prajaakeeya Party
6723,Karnataka,Davanagere(13),lost,1055,( -632004),A.K.GANESH,Independent
6724,Karnataka,Davanagere(13),lost,973,( -632086),M.C.SREENIVAS,Bharatiya Prajagala Kalyana Paksha
6725,Karnataka,Davanagere(13),lost,849,( -632210),ANABERU THIPPESWAMY,Socialist Unity Centre Of India (COMMUNIST)
6726,Karnataka,Davanagere(13),lost,844,( -632215),SYED ZABIULLA.K,Independent
6727,Karnataka,Davanagere(13),lost,799,( -632260),SALEEM S,Independent
6728,Karnataka,Davanagere(13),lost,722,( -632337),MOHAMED HAYATH.M,Independent
6729,Karnataka,Davanagere(13),lost,652,( -632407),ABDUL NAZEER AHAMMED,Independent
6730,Karnataka,Davanagere(13),lost,600,( -632459),RASHEED KHAN,Independent
6731,Karnataka,Davanagere(13),lost,561,( -632498),M.G.SRIKANTH,Navabharath Sena
6732,Karnataka,Davanagere(13),lost,539,( -632520),M.P. KHALANDAR,Country Citizen Party
6733,Karnataka,Davanagere(13),lost,508,( -632551),PEDDAPPA S,Independent
6734,Karnataka,Davanagere(13),lost,475,( -632584),K.S. VEERBHADRAPPA,Karnataka Rashtra Samithi
6735,Karnataka,Davanagere(13),lost,471,( -632588),G.M.BARKATH ALI BASHA,Independent
6736,Karnataka,Davanagere(13),lost,458,( -632601),VEERESH.S (LION VEERESH),Rani Chennamma Party
6737,Karnataka,Davanagere(13),lost,440,( -632619),DODDESH.H.S,Janahitha Paksha
6738,Karnataka,Davanagere(13),lost,411,( -632648),BARKATH ALI,Independent
6739,Karnataka,Davanagere(13),lost,378,( -632681),MANJU. MARIKOPPA,Independent
6740,Karnataka,Davanagere(13),lost,348,( -632711),RUDRESHA.K.H,Samaj Vikas Kranti Party
6741,Karnataka,Davanagere(13),lost,320,( -632739),RAVINAIK. B,Independent
6742,Karnataka,Davanagere(13),lost,308,( -632751),MAHABUB BASHA,Independent
6743,Karnataka,Davanagere(13),,3176,( -629883),NOTA,None of the Above
6744,Karnataka,Bellary(9),won,730845,(+ 98992),E. TUKARAM,Indian National Congress
6745,Karnataka,Bellary(9),lost,631853,( -98992),B. SREERAMULU,Bharatiya Janata Party
6746,Karnataka,Bellary(9),lost,5911,( -724934),VALMIKI KRISHNAPPA,Bahujan Samaj Party
6747,Karnataka,Bellary(9),lost,3797,( -727048),C. CHANNAVEERA,Karnataka Rashtra Samithi
6748,Karnataka,Bellary(9),lost,2460,( -728385),CONDUCTOR PAMPAPATHI,Independent
6749,Karnataka,Bellary(9),lost,1870,( -728975),VEERESH,Independent
6750,Karnataka,Bellary(9),lost,1741,( -729104),A. DEVADAS,Socialist Unity Centre Of India (COMMUNIST)
6751,Karnataka,Bellary(9),lost,1322,( -729523),MANJUNATHA GOSAL,Prahar Janshakti Party
6752,Karnataka,Bellary(9),lost,1282,( -729563),ARUN.S.HIREHAL,Independent
6753,Karnataka,Bellary(9),lost,944,( -729901),G. SWAMY,Navabharath Sena
6754,Karnataka,Bellary(9),,7889,( -722956),NOTA,None of the Above
6755,Karnataka,Koppal(8),won,663511,(+ 46357),K. RAJASHEKAR BASAVARAJ HITNAL,Indian National Congress
6756,Karnataka,Koppal(8),lost,617154,( -46357),DR . BASAVARAJ. K. SHARANAPPA,Bharatiya Janata Party
6757,Karnataka,Koppal(8),lost,7314,( -656197),MALLIKARJUN HADAPAD,Independent
6758,Karnataka,Koppal(8),lost,7043,( -656468),SHANKARA,Bahujan Samaj Party
6759,Karnataka,Koppal(8),lost,5877,( -657634),KARADI BASAVARAJ,Independent
6760,Karnataka,Koppal(8),lost,5282,( -658229),RUKMINI,Independent
6761,Karnataka,Koppal(8),lost,4642,( -658869),SURESH. GOUDA MUNDINAMANE,Independent
6762,Karnataka,Koppal(8),lost,1994,( -661517),NAGARAJ KALAL,Independent
6763,Karnataka,Koppal(8),lost,1982,( -661529),KALAPPA YACHRAPPA BADIGER VISHWAKARMA,Independent
6764,Karnataka,Koppal(8),lost,1895,( -661616),PA.YA. GANESH,Independent
6765,Karnataka,Koppal(8),lost,1248,( -662263),HANAMESH . S . H. SHAKHAPUR,Independent
6766,Karnataka,Koppal(8),lost,1238,( -662273),KAREEMPASHA GACHCHINMANI.,Independent
6767,Karnataka,Koppal(8),lost,1117,( -662394),ANNOJI RAO. G,Sarva Janata Party
6768,Karnataka,Koppal(8),lost,1106,( -662405),SHARANAPPA,Socialist Unity Centre Of India (COMMUNIST)
6769,Karnataka,Koppal(8),lost,900,( -662611),NIRUPADI K GOMARSI,Karnataka Rashtra Samithi
6770,Karnataka,Koppal(8),lost,806,( -662705),RAMZANBEE,All India Ulama Congress
6771,Karnataka,Koppal(8),lost,799,( -662712),D DURGA PRASAD BYATARAYANAJI,Challengers Party
6772,Karnataka,Koppal(8),lost,776,( -662735),C. SHARANA BASAPPA,Republican Party of India (Karnataka)
6773,Karnataka,Koppal(8),lost,733,( -662778),IMAMSAB JANGLISAB MULLA,Independent
6774,Karnataka,Koppal(8),,3519,( -659992),NOTA,None of the Above
6775,Karnataka,Bidar(7),won,666317,(+ 128875),SAGAR ESHWAR KHANDRE,Indian National Congress
6776,Karnataka,Bidar(7),lost,537442,( -128875),BHAGWANTH KHUBA,Bharatiya Janata Party
6777,Karnataka,Bidar(7),lost,5302,( -661015),AMBADAS SOPANRAO HULSURE,Bahujan Bharat Party
6778,Karnataka,Bidar(7),lost,4554,( -661763),PUTARAJ,Bahujan Samaj Party
6779,Karnataka,Bidar(7),lost,4116,( -662201),DR. DINKAR MORE,Independent
6780,Karnataka,Bidar(7),lost,3104,( -663213),SRI ROPH ABDUL GANI,Independent
6781,Karnataka,Bidar(7),lost,3079,( -663238),SHIVRAJ ADIVEPPA SATWAR,Independent
6782,Karnataka,Bidar(7),lost,2694,( -663623),RAMVILAS RAMULALJI NAVANDAR,Independent
6783,Karnataka,Bidar(7),lost,1711,( -664606),RIYAZ AHMED,Independent
6784,Karnataka,Bidar(7),lost,1694,( -664623),MOHD. SHAFEEQ UR RAHAMAN,All India Ulama Congress
6785,Karnataka,Bidar(7),lost,1493,( -664824),JAIRAJ KASHAPPA BUKKA ADVOCATE,Independent
6786,Karnataka,Bidar(7),lost,1470,( -664847),BALBHEEM UNNE,Independent
6787,Karnataka,Bidar(7),lost,1170,( -665147),WASEEMUDDIN,Independent
6788,Karnataka,Bidar(7),lost,981,( -665336),MAHESH GORNALKAR,Republican Party of India (A)
6789,Karnataka,Bidar(7),lost,798,( -665519),DILIP KADWAD,Independent
6790,Karnataka,Bidar(7),lost,767,( -665550),GOPAL M.P. GARAMPALLI,Independent
6791,Karnataka,Bidar(7),lost,472,( -665845),RAMESH J CHAVAN,Karnataka Rashtra Samithi
6792,Karnataka,Bidar(7),lost,472,( -665845),RAMCHANDRA NARAYAN KACHAVE,Kranti Kari Jai Hind Sena
6793,Karnataka,Bidar(7),,4686,( -661631),NOTA,None of the Above
6794,Karnataka,Raichur(6),won,670966,(+ 79781),G. KUMAR NAIK.,Indian National Congress
6795,Karnataka,Raichur(6),lost,591185,( -79781),RAJA AMARESHWARA NAIK.,Bharatiya Janata Party
6796,Karnataka,Raichur(6),lost,9289,( -661677),S. NARASANNA GOUDA NAYAKA,Bahujan Samaj Party
6797,Karnataka,Raichur(6),lost,5181,( -665785),BASAVA PRABHU. MEDA,Karnataka Rashtra Samithi
6798,Karnataka,Raichur(6),lost,4465,( -666501),AMARESH,Independent
6799,Karnataka,Raichur(6),lost,3634,( -667332),YALLAMMA DALAPATHI,Independent
6800,Karnataka,Raichur(6),lost,2640,( -668326),MEDHAR SHAMRAO,Bhartiya Jan Samrat Party
6801,Karnataka,Raichur(6),lost,2409,( -668557),RAMALINGAPPA,Socialist Unity Centre Of India (COMMUNIST)
6802,Karnataka,Raichur(6),,9850,( -661116),NOTA,None of the Above
6803,Karnataka,Gulbarga(5),won,652321,(+ 27205),RADHAKRISHNA,Indian National Congress
6804,Karnataka,Gulbarga(5),lost,625116,( -27205),DR. UMESH G JADHAV,Bharatiya Janata Party
6805,Karnataka,Gulbarga(5),lost,7888,( -644433),HUCHESHWARA WATHAR GOUR,Bahujan Samaj Party
6806,Karnataka,Gulbarga(5),lost,3677,( -648644),SUNDAR,Independent
6807,Karnataka,Gulbarga(5),lost,2805,( -649516),JYOTI RAMESH CHAVAN,Independent
6808,Karnataka,Gulbarga(5),lost,1884,( -650437),SHARANAPPA (PINTU),Independent
6809,Karnataka,Gulbarga(5),lost,1550,( -650771),TARABAI BHOVI,Independent
6810,Karnataka,Gulbarga(5),lost,1334,( -650987),RAMESH BHIMSING CHAVAN,Independent
6811,Karnataka,Gulbarga(5),lost,1280,( -651041),ANAND SINNUR,Independent
6812,Karnataka,Gulbarga(5),lost,1226,( -651095),NAGENDRA RAO,Uttama Prajaakeeya Party
6813,Karnataka,Gulbarga(5),lost,1144,( -651177),S.M.SHARMA,Socialist Unity Centre Of India (COMMUNIST)
6814,Karnataka,Gulbarga(5),lost,709,( -651612),RAJKUMAR,BhartiyaBahujanKranti Dal
6815,Karnataka,Gulbarga(5),lost,560,( -651761),VIJAY JADHAV,Karnataka Rashtra Samithi
6816,Karnataka,Gulbarga(5),lost,554,( -651767),B. VIJAYKUMAR CHINCHANSOORKAR,Prahar Janshakti Party
6817,Karnataka,Gulbarga(5),,8429,( -643892),NOTA,None of the Above
6818,Karnataka,Chikkodi(1),won,713461,(+ 90834),PRIYANKA SATISH JARKIHOLI,Indian National Congress
6819,Karnataka,Chikkodi(1),lost,622627,( -90834),ANNASAHEB SHANKAR JOLLE,Bharatiya Janata Party
6820,Karnataka,Chikkodi(1),lost,25466,( -687995),KALLOLIKAR SHAMBHU KRISHNA,Independent
6821,Karnataka,Chikkodi(1),lost,5353,( -708108),SAMMED SARADAR VARDHAMANE,Independent
6822,Karnataka,Chikkodi(1),lost,5181,( -708280),SHRENIK ANNASAHEB JANGATE,Independent
6823,Karnataka,Chikkodi(1),lost,4654,( -708807),APPASAHEB SHRIPATI KURANE,Sarva Janata Party
6824,Karnataka,Chikkodi(1),lost,4150,( -709311),VILAS MANNUR,Independent
6825,Karnataka,Chikkodi(1),lost,1319,( -712142),SATTEPPA DASHARATH KALELI,Bharatheeya Jawan Kisan Party
6826,Karnataka,Chikkodi(1),lost,1281,( -712180),YASIN SHIRAJUDDIN PATAKI,Independent
6827,Karnataka,Chikkodi(1),lost,1108,( -712353),KASHINATH KALLAPPA KURANI,Independent
6828,Karnataka,Chikkodi(1),lost,1009,( -712452),MAHESH ASHOK KASAR,Independent
6829,Karnataka,Chikkodi(1),lost,946,( -712515),MOHAN GURAPPA MOTANNAVAR,Independent
6830,Karnataka,Chikkodi(1),lost,941,( -712520),KUMAR SAMBHAJI DONGARE,Karnataka Rashtra Samithi
6831,Karnataka,Chikkodi(1),lost,666,( -712795),PAVANKUMAR BABURAV MALAGE,Bahujan Bharat Party
6832,Karnataka,Chikkodi(1),lost,647,( -712814),DR|| KADAYYA HIREMATH (SWAMIJI),Independent
6833,Karnataka,Chikkodi(1),lost,619,( -712842),BHIMASEN DATTU SANADI,Independent
6834,Karnataka,Chikkodi(1),lost,600,( -712861),GAJANAN L. PUJARI,Independent
6835,Karnataka,Chikkodi(1),lost,457,( -713004),JITENDRA SUBHASH NERLE,Independent
6836,Karnataka,Chikkodi(1),,2608,( -710853),NOTA,None of the Above
6837,Karnataka,Mandya(20),won,851881,(+ 284620),H.D. KUMARASWAMY,Janata Dal  (Secular)
6838,Karnataka,Mandya(20),lost,567261,( -284620),VENKATARAMANE GOWDA (STAR CHANDRU),Indian National Congress
6839,Karnataka,Mandya(20),lost,12394,( -839487),CHANDAN GOWDA. K,Independent
6840,Karnataka,Mandya(20),lost,6964,( -844917),SHIVASHANKARA. S,Bahujan Samaj Party
6841,Karnataka,Mandya(20),lost,3810,( -848071),RAMAIAH. D,Independent
6842,Karnataka,Mandya(20),lost,2909,( -848972),RANJITHA. N,Independent
6843,Karnataka,Mandya(20),lost,1476,( -850405),CHANDRASHEKARA. K.R (CHANDRU KEELARA),Karnataka Rashtra Samithi
6844,Karnataka,Mandya(20),lost,1370,( -850511),BUDAYYA. B.P,Karunaadu Party
6845,Karnataka,Mandya(20),lost,1163,( -850718),LOKESHA. S (AARYA LOKESH),Uttama Prajaakeeya Party
6846,Karnataka,Mandya(20),lost,931,( -850950),BEERESH. C.T (SAINIKA BEERESH),Independent
6847,Karnataka,Mandya(20),lost,843,( -851038),N.BASAVARAJU,Independent
6848,Karnataka,Mandya(20),lost,590,( -851291),H.D. REVANNA,Purvanchal Mahapanchayat
6849,Karnataka,Mandya(20),lost,497,( -851384),CHANNAMAYIGOWDA,Independent
6850,Karnataka,Mandya(20),lost,442,( -851439),S.ARVIND,Independent
6851,Karnataka,Mandya(20),,7736,( -844145),NOTA,None of the Above
6852,Andhra Pradesh,Narsapuram(9),won,707343,(+ 276802),BHUPATHI RAJU SRINIVASA VARMA (B.J.P.VARMA),Bharatiya Janata Party
6853,Andhra Pradesh,Narsapuram(9),lost,430541,( -276802),UMABALA GUDURI,Yuvajana Sramika Rythu Congress Party
6854,Andhra Pradesh,Narsapuram(9),lost,35213,( -672130),K.B.R.NAIDU,Indian National Congress
6855,Andhra Pradesh,Narsapuram(9),lost,6364,( -700979),PRASANNA KUMAR UNDURTHI,Independent
6856,Andhra Pradesh,Narsapuram(9),lost,6014,( -701329),SIRRA RAJU,Bahujan Samaj Party
6857,Andhra Pradesh,Narsapuram(9),lost,5969,( -701374),MEDAPATI VENKATA VARAHALA REDDY,Independent
6858,Andhra Pradesh,Narsapuram(9),lost,5240,( -702103),BALAGAM NAYAKAR,Independent
6859,Andhra Pradesh,Narsapuram(9),lost,4684,( -702659),NALLI RAJESH,Independent
6860,Andhra Pradesh,Narsapuram(9),lost,3145,( -704198),KETHA SREENU,Independent
6861,Andhra Pradesh,Narsapuram(9),lost,3116,( -704227),OLETY NAGENDRA KRISHNA,Jaibhim Rao Bharat Party
6862,Andhra Pradesh,Narsapuram(9),lost,2783,( -704560),ADDEPALLI VEERA VENKAT SUBBA RAO,Independent
6863,Andhra Pradesh,Narsapuram(9),lost,2726,( -704617),ANAND CHANDULAL JASTI,Independent
6864,Andhra Pradesh,Narsapuram(9),lost,1649,( -705694),GANJI PURNIMA,Republican Party of India (A)
6865,Andhra Pradesh,Narsapuram(9),lost,1527,( -705816),GEDALA LAXMANA RAO,Independent
6866,Andhra Pradesh,Narsapuram(9),lost,1393,( -705950),ADDANKI DORABABU,Independent
6867,Andhra Pradesh,Narsapuram(9),lost,1384,( -705959),GOTTUMUKKALA SHIVAJI,Independent
6868,Andhra Pradesh,Narsapuram(9),lost,1007,( -706336),ADINARAYANA DUPPANAPUDI,Independent
6869,Andhra Pradesh,Narsapuram(9),lost,930,( -706413),MANNE LEELA RAMA NARENDRA,Pyramid Party of India
6870,Andhra Pradesh,Narsapuram(9),lost,920,( -706423),RAMA DURGA PRASAD THOLETI,Independent
6871,Andhra Pradesh,Narsapuram(9),lost,686,( -706657),RUKHMINI,Independent
6872,Andhra Pradesh,Narsapuram(9),lost,683,( -706660),ADABALA SIVA,Independent
6873,Andhra Pradesh,Narsapuram(9),,7677,( -699666),NOTA,None of the Above
6874,Andhra Pradesh,Rajampet(24),won,644844,(+ 76071),P V MIDHUN REDDY,Yuvajana Sramika Rythu Congress Party
6875,Andhra Pradesh,Rajampet(24),lost,568773,( -76071),NALLARI KIRAN KUMAR REDDY,Bharatiya Janata Party
6876,Andhra Pradesh,Rajampet(24),lost,53300,( -591544),SHAIK BASHEED,Indian National Congress
6877,Andhra Pradesh,Rajampet(24),lost,12363,( -632481),ABBAVARAM UGENDRA,Bahujan Samaj Party
6878,Andhra Pradesh,Rajampet(24),lost,6100,( -638744),POOLA REDDY SEKHAR,Independent
6879,Andhra Pradesh,Rajampet(24),lost,5999,( -638845),NAGARAJU JETTI,Independent
6880,Andhra Pradesh,Rajampet(24),lost,5672,( -639172),PRADEEP PENAMADU,All India Forward Bloc
6881,Andhra Pradesh,Rajampet(24),lost,4735,( -640109),CHOUDVARAM SUBBANARASAIAH,Independent
6882,Andhra Pradesh,Rajampet(24),lost,4616,( -640228),PULI SREENIVASULU,Independent
6883,Andhra Pradesh,Rajampet(24),lost,4443,( -640401),SREENIVASULU MARRIPATI,Independent
6884,Andhra Pradesh,Rajampet(24),lost,2411,( -642433),AKBAR M BASHA,Anna YSR Congress Party
6885,Andhra Pradesh,Rajampet(24),lost,1535,( -643309),SANGARAJU NAGESWARA RAJU,Independent
6886,Andhra Pradesh,Rajampet(24),lost,1415,( -643429),MADA RAJA,Jaathia Chethi Vruthula Ikya Vedika Party
6887,Andhra Pradesh,Rajampet(24),lost,1366,( -643478),BATTHALA RAMANAIAH,Jai Bharat National Party
6888,Andhra Pradesh,Rajampet(24),lost,1318,( -643526),DODDAPANENI RAJA NAIDU,Independent
6889,Andhra Pradesh,Rajampet(24),lost,1071,( -643773),MAYANA MOHAMMED SALMAN KHAN,Liberation Congress Party
6890,Andhra Pradesh,Rajampet(24),lost,887,( -643957),KASTURI OBAIAH NAIDU,Independent
6891,Andhra Pradesh,Rajampet(24),lost,691,( -644153),ASADI VENKATADRI,Independent
6892,Andhra Pradesh,Rajampet(24),,11400,( -633444),NOTA,None of the Above
6893,Andhra Pradesh,Chittoor(SC)(25),won,778071,(+ 220479),DAGGUMALLA PRASADA RAO,Telugu Desam
6894,Andhra Pradesh,Chittoor(SC)(25),lost,557592,( -220479),REDDEPPA.N .,Yuvajana Sramika Rythu Congress Party
6895,Andhra Pradesh,Chittoor(SC)(25),lost,30150,( -747921),MOTUKUR JAGAPATHI,Indian National Congress
6896,Andhra Pradesh,Chittoor(SC)(25),lost,13511,( -764560),THOGURU VIJAYA KUMAR,Bahujan Samaj Party
6897,Andhra Pradesh,Chittoor(SC)(25),lost,6973,( -771098),YUGANDAR . KONDA,Independent
6898,Andhra Pradesh,Chittoor(SC)(25),lost,3956,( -774115),K.MUNI KRISHNA,Independent
6899,Andhra Pradesh,Chittoor(SC)(25),lost,2833,( -775238),P.JANAKI RAMA RAO ( BABU),National Maha Sabha Party
6900,Andhra Pradesh,Chittoor(SC)(25),lost,2366,( -775705),PETA.MOHAN .,Independent
6901,Andhra Pradesh,Chittoor(SC)(25),lost,1935,( -776136),C.SUDHAKAR,Independent
6902,Andhra Pradesh,Chittoor(SC)(25),lost,1885,( -776186),N.CHANDRABABU,Independent
6903,Andhra Pradesh,Chittoor(SC)(25),lost,1578,( -776493),MADASI SUDHARSHAN,Independent
6904,Andhra Pradesh,Chittoor(SC)(25),lost,1119,( -776952),D.MAHESH,Independent
6905,Andhra Pradesh,Chittoor(SC)(25),lost,906,( -777165),P.MADHU,Independent
6906,Andhra Pradesh,Chittoor(SC)(25),lost,894,( -777177),N.BHUPATHI,Independent
6907,Andhra Pradesh,Chittoor(SC)(25),lost,857,( -777214),A. PURNA CHANDRA,Independent
6908,Andhra Pradesh,Chittoor(SC)(25),lost,676,( -777395),PALLIPATTU.ABHINAV VISHNU,Samajwadi Party
6909,Andhra Pradesh,Chittoor(SC)(25),lost,552,( -777519),N.GANGAIAH .,Independent
6910,Andhra Pradesh,Chittoor(SC)(25),lost,534,( -777537),T NARESH,Independent
6911,Andhra Pradesh,Chittoor(SC)(25),lost,493,( -777578),BANDAPALLI RAMESH,Independent
6912,Andhra Pradesh,Chittoor(SC)(25),,11976,( -766095),NOTA,None of the Above
6913,Assam,Kokrajhar (1),won,488995,(+ 51583),JOYANTA BASUMATARY,"United People’s Party, Liberal"
6914,Assam,Kokrajhar (1),lost,437412,( -51583),KAMPA BORGOYARI,Bodoland Peoples Front
6915,Assam,Kokrajhar (1),lost,113736,( -375259),GARJAN MASHAHARY,Indian National Congress
6916,Assam,Kokrajhar (1),lost,94189,( -394806),BINITA DEKA,Gana Suraksha Party
6917,Assam,Kokrajhar (1),lost,33737,( -455258),PRITHVIRAJ NARAYAN DEV MECH,Independent
6918,Assam,Kokrajhar (1),lost,23519,( -465476),GAURI SANKAR SARANIA,All India Trinamool Congress
6919,Assam,Kokrajhar (1),lost,8830,( -480165),RANJAY KR BRAHMA,Independent
6920,Assam,Kokrajhar (1),lost,7932,( -481063),LALIT PEGU,Voters Party  International
6921,Assam,Kokrajhar (1),lost,6106,( -482889),JYOTISH KUMAR DAS,Independent
6922,Assam,Kokrajhar (1),lost,4540,( -484455),TRIPTINA RABHA,Independent
6923,Assam,Kokrajhar (1),lost,4508,( -484487),PANKAJ ISLARY,Independent
6924,Assam,Kokrajhar (1),lost,4080,( -484915),AJOY NARZARY,Independent
6925,Assam,Kokrajhar (1),,13912,( -475083),NOTA,None of the Above
6926,Assam,Jorhat(14),won,751771,(+ 144393),GAURAV GOGOI,Indian National Congress
6927,Assam,Jorhat(14),lost,607378,( -144393),TOPON KUMAR GOGOI,Bharatiya Janata Party
6928,Assam,Jorhat(14),lost,9086,( -742685),ARUN CHANDRA HANDIQUE,Ekam Sanatan Bharat Dal
6929,Assam,Jorhat(14),lost,8370,( -743401),RAJ KUMAR DUWARA,Independent
6930,Assam,Jorhat(14),,14555,( -737216),NOTA,None of the Above
6931,Assam,Dibrugarh(13),won,693762,(+ 279321),SARBANANDA SONOWAL,Bharatiya Janata Party
6932,Assam,Dibrugarh(13),lost,414441,( -279321),LURINJYOTI GOGOI,Assam Jatiya Parishad
6933,Assam,Dibrugarh(13),lost,137864,( -555898),MANOJ DHANOWAR,Aam Aadmi Party
6934,Assam,Dibrugarh(13),,32255,( -661507),NOTA,None of the Above
6935,Bihar,Gaya(38),won,494960,(+ 101812),JITAN RAM MANJHI,Hindustani Awam Morcha (Secular)
6936,Bihar,Gaya(38),lost,393148,( -101812),KUMAR SARVJEET,Rashtriya Janata Dal
6937,Bihar,Gaya(38),lost,12376,( -482584),SUSHMA KUMARI,Bahujan Samaj Party
6938,Bihar,Gaya(38),lost,9211,( -485749),DEVENDRA PRATAP,Independent
6939,Bihar,Gaya(38),lost,5629,( -489331),DHEERENDRA PRASAD,Loktantrik Samajwadi Party
6940,Bihar,Gaya(38),lost,4727,( -490233),GIRIDHAR SAPERA,The National Road Map Party of India
6941,Bihar,Gaya(38),lost,4505,( -490455),RANU KUMAR CHAUDHARY,Independent
6942,Bihar,Gaya(38),lost,4234,( -490726),RANJAN KUMAR,Independent
6943,Bihar,Gaya(38),lost,4103,( -490857),AYUSH KUMAR,Independent
6944,Bihar,Gaya(38),lost,3035,( -491925),SURENDRA MANJHI,Rashtriya Jansambhavna Party
6945,Bihar,Gaya(38),lost,2821,( -492139),AMRESH KUMAR,Independent
6946,Bihar,Gaya(38),lost,2701,( -492259),ASHOK KUMAR PASWAN,Independent
6947,Bihar,Gaya(38),lost,2554,( -492406),ARUN KUMAR,Independent
6948,Bihar,Gaya(38),lost,2384,( -492576),SHEO SHANKAR,Bhartiya Lok Chetna Party
6949,Bihar,Gaya(38),,17288,( -477672),NOTA,None of the Above
6950,Bihar,Karakat(35),won,380581,(+ 105858),RAJA RAM SINGH,Communist Party of India  (Marxist-Leninist)  (Liberation)
6951,Bihar,Karakat(35),lost,274723,( -105858),PAWAN SINGH,Independent
6952,Bihar,Karakat(35),lost,253876,( -126705),UPENDRA KUSHWAHA,Rashtriya Lok Morcha
6953,Bihar,Karakat(35),lost,23657,( -356924),DHEERAJ KUMAR SINGH,Bahujan Samaj Party
6954,Bihar,Karakat(35),lost,21383,( -359198),RAJA RAM SINGH,Independent
6955,Bihar,Karakat(35),lost,11006,( -369575),PRIYANKA PRASAD CHOUDHARY,All India Majlis-E-Ittehadul Muslimeen
6956,Bihar,Karakat(35),lost,9653,( -370928),AJEET KUMAR SINGH,Peoples Party of India (Democratic)
6957,Bihar,Karakat(35),lost,7664,( -372917),VIKASH VINAYAK,Jan Janwadi Party
6958,Bihar,Karakat(35),lost,6324,( -374257),INDRA RAJ ROUSHAN,Independent
6959,Bihar,Karakat(35),lost,5919,( -374662),PRADEEP KUMAR JOSHI,Rashtra Sewa Dal
6960,Bihar,Karakat(35),lost,5585,( -374996),AVADHESH PASAWAN,Bharatiya Aam Awam Party
6961,Bihar,Karakat(35),lost,5006,( -375575),RAJESHWAR PASWAN,Akhil Hind Forward Bloc (Krantikari)
6962,Bihar,Karakat(35),lost,4646,( -375935),PRAYAG PASWAN,Socialist Unity Centre Of India (COMMUNIST)
6963,Bihar,Karakat(35),,21595,( -358986),NOTA,None of the Above
6964,Bihar,Sasaram(34),won,513004,(+ 19157),MANOJ KUMAR,Indian National Congress
6965,Bihar,Sasaram(34),lost,493847,( -19157),SHIVESH KUMAR,Bharatiya Janata Party
6966,Bihar,Sasaram(34),lost,45598,( -467406),SANTOSH KUMAR,Bahujan Samaj Party
6967,Bihar,Sasaram(34),lost,8019,( -504985),SHIV SHANKAR RAM,Independent
6968,Bihar,Sasaram(34),lost,4822,( -508182),SANTOSH KUMAR KHARWAR,Bhartiya Gandhiwadi Party
6969,Bihar,Sasaram(34),lost,4498,( -508506),BANARSI DAS,Peoples Party of India (Democratic)
6970,Bihar,Sasaram(34),lost,2834,( -510170),AMIT KUMAR AMBEDKAR,Bahujan Mukti Party
6971,Bihar,Sasaram(34),lost,2654,( -510350),PUNAM DEVI,Jantantra Awaj Party
6972,Bihar,Sasaram(34),lost,2620,( -510384),UJARAN MUSAHAR,Jan Janwadi Party
6973,Bihar,Sasaram(34),lost,1960,( -511044),NANDLAL RAM,Rashtriya Samaj Paksha
6974,Bihar,Sasaram(34),,17219,( -495785),NOTA,None of the Above
6975,Bihar,Aurangabad(37),won,465567,(+ 79111),ABHAY KUMAR SINHA,Rashtriya Janata Dal
6976,Bihar,Aurangabad(37),lost,386456,( -79111),SUSHIL KUMAR SINGH,Bharatiya Janata Party
6977,Bihar,Aurangabad(37),lost,20309,( -445258),SUNESH KUMAR,Bahujan Samaj Party
6978,Bihar,Aurangabad(37),lost,12308,( -453259),PRATIBHA RANI,Peoples Party of India (Democratic)
6979,Bihar,Aurangabad(37),lost,11159,( -454408),RAJ BALLABH SINGH,Independent
6980,Bihar,Aurangabad(37),lost,9243,( -456324),RAMJIT SINGH,Rashtriya Jansambhavna Party
6981,Bihar,Aurangabad(37),lost,6711,( -458856),SURESH PRASAD VERMA,Independent
6982,Bihar,Aurangabad(37),lost,6604,( -458963),MOHAMMAD WALIULLAH KHAN,Independent
6983,Bihar,Aurangabad(37),lost,4896,( -460671),SHAILESH RAHI,Akhil Hind Forward Bloc (Krantikari)
6984,Bihar,Aurangabad(37),,22627,( -442940),NOTA,None of the Above
6985,Bihar,Jamui(40),won,509046,(+ 112482),ARUN BHARTI,Lok Janshakti Party(Ram Vilas)
6986,Bihar,Jamui(40),lost,396564,( -112482),ARCHANA KUMARI,Rashtriya Janata Dal
6987,Bihar,Jamui(40),lost,13875,( -495171),SUBHASH PASWAN,Independent
6988,Bihar,Jamui(40),lost,12366,( -496680),SAKALDEO DAS,Bahujan Samaj Party
6989,Bihar,Jamui(40),lost,8625,( -500421),SRAWON KUMAR,Rashtriya Jansambhavna Party
6990,Bihar,Jamui(40),lost,6542,( -502504),JAGDISH PRASAD,Loktantrik Samajik Nyay Party
6991,Bihar,Jamui(40),lost,6033,( -503013),SANTOSH KUMAR DAS,Socialist Unity Centre Of India (COMMUNIST)
6992,Bihar,Jamui(40),,26182,( -482864),NOTA,None of the Above
6993,Bihar,Nawada(39),won,410608,(+ 67670),VIVEK THAKUR,Bharatiya Janata Party
6994,Bihar,Nawada(39),lost,342938,( -67670),SHRAWAN KUMAR,Rashtriya Janata Dal
6995,Bihar,Nawada(39),lost,39519,( -371089),BINOD YADAV,Independent
6996,Bihar,Nawada(39),lost,29682,( -380926),GUNJAN KUMAR,Independent
6997,Bihar,Nawada(39),lost,16316,( -394292),RANJIT KUMAR,Bahujan Samaj Party
6998,Bihar,Nawada(39),lost,7736,( -402872),ANAND KUMAR VERMA,Bharat Jan Jagran Dal
6999,Bihar,Nawada(39),lost,5889,( -404719),GAUTAM KUMAR BABLOO,Bhagidari Party(P)
7000,Bihar,Nawada(39),lost,4590,( -406018),GANAURI PANDIT,Peoples Party of India (Democratic)
7001,Bihar,Nawada(39),,12592,( -398016),NOTA,None of the Above
7002,Bihar,Nalanda(29),won,559422,(+ 169114),KAUSHALENDRA KUMAR,Janata Dal  (United)
7003,Bihar,Nalanda(29),lost,390308,( -169114),DR. SANDEEP SAURAV,Communist Party of India  (Marxist-Leninist)  (Liberation)
7004,Bihar,Nalanda(29),lost,25291,( -534131),SUDHIR KUMAR,Sanyukt Kisan Vikas Party
7005,Bihar,Nalanda(29),lost,18576,( -540846),SURENDRA PRASAD,Al-Hind Party
7006,Bihar,Nalanda(29),lost,18480,( -540942),SHASHI KUMAR,Samaj Shakti Party
7007,Bihar,Nalanda(29),lost,15332,( -544090),PRAMOD KUMAR NIRALA,Bahujan Samaj Party
7008,Bihar,Nalanda(29),lost,14750,( -544672),AJEET KUMAR,Independent
7009,Bihar,Nalanda(29),lost,9602,( -549820),VINAY PRATAP SINGH,Rashtriya Sanatan Party
7010,Bihar,Nalanda(29),lost,7887,( -551535),SANJAY RAJESH,Karpoori Janta Dal
7011,Bihar,Nalanda(29),lost,6806,( -552616),SUDHIR DAS,Independent
7012,Bihar,Nalanda(29),lost,6692,( -552730),KANHAIYA LAL YADAV,Jagrook Janta Party
7013,Bihar,Nalanda(29),lost,6238,( -553184),SANYUKTA KUMARI,Independent
7014,Bihar,Nalanda(29),lost,5520,( -553902),AJIT KUMAR,Independent
7015,Bihar,Nalanda(29),lost,3932,( -555490),SHYAM SUNDAR PRASAD,Independent
7016,Bihar,Nalanda(29),lost,3845,( -555577),RAMESH KUMAR,Naki Bharatiya Ekta Party
7017,Bihar,Nalanda(29),lost,3602,( -555820),KISLAY KUMAR,Independent
7018,Bihar,Nalanda(29),lost,3387,( -556035),KESHO JAMADAR,Peoples Party of India (Democratic)
7019,Bihar,Nalanda(29),lost,3345,( -556077),SURENDER SINGH,Independent
7020,Bihar,Nalanda(29),lost,2729,( -556693),DILIP KUMAR,Moolniwasi Samaj Party
7021,Bihar,Nalanda(29),lost,2468,( -556954),NAND KISHOR PARASAD,Pragatisheel Magahi Samaj
7022,Bihar,Nalanda(29),lost,2415,( -557007),NISHA RANJAN,Samata Party
7023,Bihar,Nalanda(29),lost,2340,( -557082),SHASHIRANJAN SUMAN,Independent
7024,Bihar,Nalanda(29),lost,2110,( -557312),GHANSHYAM PRASAD SINGH,Independent
7025,Bihar,Nalanda(29),lost,1980,( -557442),KUMAR HARI CHARAN SINGH YADAV,Bharatiya Momin Front
7026,Bihar,Nalanda(29),lost,1949,( -557473),MUNNA KUMAR,Sankhyanupati Bhagidari Party
7027,Bihar,Nalanda(29),lost,1880,( -557542),MUNNA KUMAR,Samajwadi Lok Parishad
7028,Bihar,Nalanda(29),lost,1597,( -557825),PAWAN KUMAR,Independent
7029,Bihar,Nalanda(29),lost,1505,( -557917),PUJA DEVI,Independent
7030,Bihar,Nalanda(29),lost,1178,( -558244),CHANDRA KISHOR PRASAD YADAV,Independent
7031,Bihar,Nalanda(29),,19217,( -540205),NOTA,None of the Above
7032,Chhattisgarh,KANKER(11),won,597624,(+ 1884),BHOJRAJ NAG,Bharatiya Janata Party
7033,Chhattisgarh,KANKER(11),lost,595740,( -1884),BIRESH THAKUR,Indian National Congress
7034,Chhattisgarh,KANKER(11),lost,11770,( -585854),TILAK RAM MARKAM,Bahujan Samaj Party
7035,Chhattisgarh,KANKER(11),lost,11362,( -586262),SONSINGH,Ambedkarite Party of India
7036,Chhattisgarh,KANKER(11),lost,8949,( -588675),JIVAN LAL MATLAM,Sarv Adi Dal
7037,Chhattisgarh,KANKER(11),lost,8723,( -588901),SUKCHAND NETAM,Gondvana Gantantra Party
7038,Chhattisgarh,KANKER(11),lost,5009,( -592615),VINOD NAGWANSHI,Hamar Raj Party
7039,Chhattisgarh,KANKER(11),lost,4222,( -593402),THAKESH MAHLA,Bhartiya Shakti Chetna Party
7040,Chhattisgarh,KANKER(11),lost,3361,( -594263),BHOJRAM MANDAVI,Rashtriya Jansabha Party
7041,Chhattisgarh,KANKER(11),,18669,( -578955),NOTA,None of the Above
7042,Dadra & Nagar Haveli and Daman & Diu,Dadar & Nagar Haveli(2),won,121074,(+ 57584),DELKAR KALABEN MOHANBHAI,Bharatiya Janata Party
7043,Dadra & Nagar Haveli and Daman & Diu,Dadar & Nagar Haveli(2),lost,63490,( -57584),AJIT RAMJIBHAI MAHALA,Indian National Congress
7044,Dadra & Nagar Haveli and Daman & Diu,Dadar & Nagar Haveli(2),lost,10197,( -110877),KURADA DEEPAKBHAI,Bharat Adivasi Party
7045,Dadra & Nagar Haveli and Daman & Diu,Dadar & Nagar Haveli(2),lost,3152,( -117922),BORSA SANDIPBHAI S,Bahujan Samaj Party
7046,Dadra & Nagar Haveli and Daman & Diu,Dadar & Nagar Haveli(2),lost,2524,( -118550),SHAILESHBHAI VARTHA,Independent
7047,Dadra & Nagar Haveli and Daman & Diu,Dadar & Nagar Haveli(2),,5151,( -115923),NOTA,None of the Above
7048,Goa,North Goa(1),won,257326,(+ 116015),SHRIPAD YESSO NAIK,Bharatiya Janata Party
7049,Goa,North Goa(1),lost,141311,( -116015),RAMAKANT KHALAP,Indian National Congress
7050,Goa,North Goa(1),lost,45693,( -211633),TUKARAM BHARAT PARAB,Revolutionary Goans Party
7051,Goa,North Goa(1),lost,1625,( -255701),MILAN R VAINGANKAR,Bahujan Samaj Party
7052,Goa,North Goa(1),lost,1417,( -255909),MR SAKHARAM NAIK,Akhil Bhartiya Parivar Party
7053,Goa,North Goa(1),lost,807,( -256519),SHAKEEL JAMAL SHAIKH,Independent
7054,Goa,North Goa(1),lost,759,( -256567),THOMAS AUGUSTINE FERNANDES,Independent
7055,Goa,North Goa(1),lost,752,( -256574),ADV VISHAL NAIK,Independent
7056,Goa,North Goa(1),,6328,( -250998),NOTA,None of the Above
7057,Gujarat,Valsad(26),won,764226,(+ 210704),DHAVAL LAXMANBHAI  PATEL,Bharatiya Janata Party
7058,Gujarat,Valsad(26),lost,553522,( -210704),ANANTKUMAR HASMUKHBHAI PATEL,Indian National Congress
7059,Gujarat,Valsad(26),lost,7499,( -756727),MANAKBHAI JATRUBHAI SHANKAR,Bahujan Samaj Party
7060,Gujarat,Valsad(26),lost,6745,( -757481),RAMANBHAI KARSHANBHAI PATEL,Independent
7061,Gujarat,Valsad(26),lost,4774,( -759452),JAYANTIBHAI KHANDUBHAI SHALUA,Viro Ke Vir Indian Party
7062,Gujarat,Valsad(26),lost,3440,( -760786),CHIRAGKUMAR BHARATBHAI  PATEL,Independent
7063,Gujarat,Valsad(26),lost,2832,( -761394),UMESHBHAI MAGANBHAI PATEL,Bahujan Republican  Socialist Party
7064,Gujarat,Valsad(26),,18373,( -745853),NOTA,None of the Above
7065,Gujarat,Navsari(25),won,1031065,(+ 773551),C R PATIL,Bharatiya Janata Party
7066,Gujarat,Navsari(25),lost,257514,( -773551),NAISHADHBHAI BHUPATBHAI  DESAI,Indian National Congress
7067,Gujarat,Navsari(25),lost,8133,( -1022932),MALKHAN RAMKISHOR VARMA,Bahujan Samaj Party
7068,Gujarat,Navsari(25),lost,4211,( -1026854),KIRIT L. SURATI,Independent
7069,Gujarat,Navsari(25),lost,3184,( -1027881),RAJU VARDE,Independent
7070,Gujarat,Navsari(25),lost,2653,( -1028412),RAMZAN MANSURI (SENIOR JOURNALIST),Log Party
7071,Gujarat,Navsari(25),lost,2538,( -1028527),KADIR MAHEBOOB SAIYED,Social Democratic Party Of India
7072,Gujarat,Navsari(25),lost,1485,( -1029580),DR. KANUBHAI KHADADIYA,Socialist Unity Centre Of India (COMMUNIST)
7073,Gujarat,Navsari(25),lost,1483,( -1029582),SHEKH MOHMMAD NISHAR (MUNNABHAI GARAGE),Independent
7074,Gujarat,Navsari(25),lost,1426,( -1029639),SUMANBEN  KHUSHWA (HANSIKA RAJPUT),Sardar Vallabhbhai Patel Party
7075,Gujarat,Navsari(25),lost,1097,( -1029968),MOHAMMAD HANIF SHAH,Garib Kalyan Party
7076,Gujarat,Navsari(25),lost,1095,( -1029970),ADVOCATE NAVINKUMAR SHANKERBHAI PATEL,Independent
7077,Gujarat,Navsari(25),lost,1087,( -1029978),CHANDANSINGH SHIVBADANSINGH THAKUR,Independent
7078,Gujarat,Navsari(25),lost,783,( -1030282),KAZI AYAZ HUSNUDDIN,Independent
7079,Gujarat,Navsari(25),,20462,( -1010603),NOTA,None of the Above
7080,Gujarat,Surat(24),won,Uncontested,,MUKESHKUMAR CHANDRAKAANT DALAL,Bharatiya Janata Party
7081,Gujarat,Bardoli(23),won,763950,(+ 230253),PARBHUBHAI NAGARBHAI VASAVA,Bharatiya Janata Party
7082,Gujarat,Bardoli(23),lost,533697,( -230253),CHAUDHARY SIDDHARTH AMARSINH,Indian National Congress
7083,Gujarat,Bardoli(23),lost,16144,( -747806),REKHABEN HARSINGBHAI CHAUDHARI,Bahujan Samaj Party
7084,Gujarat,Bardoli(23),,25542,( -738408),NOTA,None of the Above
7085,Gujarat,Bharuch(22),won,608157,(+ 85696),MANSUKHBHAI DHANJIBHAI VASAVA,Bharatiya Janata Party
7086,Gujarat,Bharuch(22),lost,522461,( -85696),CHAITARBHAI DAMJIBHAI VASAVA,Aam Aadmi Party
7087,Gujarat,Bharuch(22),lost,10014,( -598143),DILIPBHAI CHHOTUBHAI VASAVA,Bharat Adivasi Party
7088,Gujarat,Bharuch(22),lost,9937,( -598220),SAJID YAKUB MUNSHI,Independent
7089,Gujarat,Bharuch(22),lost,6324,( -601833),VASAVA CHETANBHAI KANJIBHAI,Bahujan Samaj Party
7090,Gujarat,Bharuch(22),lost,3453,( -604704),NAVINBHAI BHIKHABHAI PATEL,Independent
7091,Gujarat,Bharuch(22),lost,3247,( -604910),YUSUF VALI HASANALI,Independent
7092,Gujarat,Bharuch(22),lost,2764,( -605393),GITABEN MANUBHAI MACHHI,Malwa Congress
7093,Gujarat,Bharuch(22),lost,2459,( -605698),MITESHBHAI THAKORBHAI PADHIYAR,Independent
7094,Gujarat,Bharuch(22),lost,2050,( -606107),MIRZA AABIDBEG YASINBEG,Independent
7095,Gujarat,Bharuch(22),lost,1902,( -606255),ISMAIL AHMAD PATEL,Independent
7096,Gujarat,Bharuch(22),lost,1583,( -606574),NARAYANBHAI LILADHARJI RAVAL,Independent
7097,Gujarat,Bharuch(22),lost,1330,( -606827),DHARMESHKUMAR VISHNUBHAI VASAVA,Independent
7098,Gujarat,Bharuch(22),,23283,( -584874),NOTA,None of the Above
7099,Gujarat,Chhota Udaipur(21),won,796589,(+ 398777),JASHUBHAI BHILUBHAI RATHVA,Bharatiya Janata Party
7100,Gujarat,Chhota Udaipur(21),lost,397812,( -398777),SUKHRAMBHAI HARIYABHAI RATHWA,Indian National Congress
7101,Gujarat,Chhota Udaipur(21),lost,16093,( -780496),BHIL SOMABHAI GOKALBHAI,Bahujan Samaj Party
7102,Gujarat,Chhota Udaipur(21),lost,11161,( -785428),RATHVA FURAKANBHAI BALJIBHAI,Malwa Congress
7103,Gujarat,Chhota Udaipur(21),lost,8344,( -788245),TADVI RANCHHODBHAI,Bharatiya Bahujan Congress
7104,Gujarat,Chhota Udaipur(21),lost,8065,( -788524),RATHVA MUKESHBHAI NURABHAI,Independent
7105,Gujarat,Chhota Udaipur(21),,29655,( -766934),NOTA,None of the Above
7106,Gujarat,Vadodara(20),won,873189,(+ 582126),DR. HEMANG JOSHI,Bharatiya Janata Party
7107,Gujarat,Vadodara(20),lost,291063,( -582126),PADHIYAR  JASHPALSINH MAHENDRASINH (BAPU),Indian National Congress
7108,Gujarat,Vadodara(20),lost,7529,( -865660),JADAV AMITKUMAR RAMJIBHAI,Bahujan Samaj Party
7109,Gujarat,Vadodara(20),lost,5469,( -867720),RAJESH RATHOD,Independent
7110,Gujarat,Vadodara(20),lost,3453,( -869736),ANILBHAI SHARMA,Hindrashtra Sangh
7111,Gujarat,Vadodara(20),lost,2752,( -870437),DR. RAHUL VASUDEVBHAI VYAS,Independent
7112,Gujarat,Vadodara(20),lost,2208,( -870981),PARMAR MAYURSINH ARVINDSINH,Independent
7113,Gujarat,Vadodara(20),lost,1756,( -871433),NILKANTHKUMAR MANSUKHLAL MISTRI,Independent
7114,Gujarat,Vadodara(20),lost,1411,( -871778),PARMAR HEMANTKUMAR ARVINDBHAI,Independent
7115,Gujarat,Vadodara(20),lost,1275,( -871914),TAPAN DASGUPTA,Socialist Unity Centre Of India (COMMUNIST)
7116,Gujarat,Vadodara(20),lost,1084,( -872105),ATUL GAMECHI,Independent
7117,Gujarat,Vadodara(20),lost,1057,( -872132),PARTHIV VIJAYKUMAR DAVE,Right to Recall Party
7118,Gujarat,Vadodara(20),lost,858,( -872331),NILESH JAGANNATH VASAIKAR,Independent
7119,Gujarat,Vadodara(20),lost,657,( -872532),DOSHI HARDIK BIPINBHAI,Satyawadi Rakshak Party
7120,Gujarat,Vadodara(20),,18388,( -854801),NOTA,None of the Above
7121,Gujarat,Dahod(19),won,688715,(+ 333677),JASWANTSINH SUMANBHAI BHABHOR,Bharatiya Janata Party
7122,Gujarat,Dahod(19),lost,355038,( -333677),DR. PRABHABEN KISHORSINH TAVIYAD,Indian National Congress
7123,Gujarat,Dahod(19),lost,11075,( -677640),MEDA DEVENDRAKUMAR LAXMANBHAI,Independent
7124,Gujarat,Dahod(19),lost,8632,( -680083),BHABHOR DHULABHAI DITABHAI,Bahujan Samaj Party
7125,Gujarat,Dahod(19),lost,6588,( -682127),BARIYA MANILAL HIRABHAI,Independent
7126,Gujarat,Dahod(19),lost,4400,( -684315),DAMOR VESTABHAI JOKHANABHAI,Independent
7127,Gujarat,Dahod(19),lost,3173,( -685542),DAMOR MANABHAI BHAVSINGBHAI,Independent
7128,Gujarat,Dahod(19),lost,3062,( -685653),JAGDISHBHAI MANILAL MEDA,Bharatiya National Janata Dal
7129,Gujarat,Dahod(19),lost,2673,( -686042),PASAYA NAVALSINH MULABHAI,Saath Sahakar Vikas Party
7130,Gujarat,Dahod(19),,34938,( -653777),NOTA,None of the Above
7131,Gujarat,Panchmahal(18),won,794579,(+ 509342),RAJPALSINH MAHENDRASINH JADAV,Bharatiya Janata Party
7132,Gujarat,Panchmahal(18),lost,285237,( -509342),GULABSINH SOMSINH CHAUHAN,Indian National Congress
7133,Gujarat,Panchmahal(18),lost,10399,( -784180),HASMUKHKUMAR GANPATSINH RATHOD,Independent
7134,Gujarat,Panchmahal(18),lost,8389,( -786190),JITESHKUMAR GHANSHYAMBHAI SEVAK,Dhanwan Bharat Party
7135,Gujarat,Panchmahal(18),lost,4013,( -790566),MANOJSINH RANAJITSINH RATHOD,Independent
7136,Gujarat,Panchmahal(18),lost,3205,( -791374),LAXMANBHAI GALABHAI BARIYA,"Aam Janmat Party,"
7137,Gujarat,Panchmahal(18),lost,3065,( -791514),TASLIM MOHAMMEDRAFIK DURVESH,Independent
7138,Gujarat,Panchmahal(18),lost,2507,( -792072),PANDOR KAUSHIKKUMAR SHANKARBHAI,Independent
7139,Gujarat,Panchmahal(18),,20103,( -774476),NOTA,None of the Above
7140,Gujarat,Kheda(17),won,744435,(+ 357758),DEVUSINH CHAUHAN,Bharatiya Janata Party
7141,Gujarat,Kheda(17),lost,386677,( -357758),KALUSINH DABHI,Indian National Congress
7142,Gujarat,Kheda(17),lost,6152,( -738283),BHAILALBHAI KALUBHAI PANDAV,Bahujan Samaj Party
7143,Gujarat,Kheda(17),lost,6139,( -738296),SODHA SANJAYKUMAR PARVATSINH,Independent
7144,Gujarat,Kheda(17),lost,2741,( -741694),PARMAR HITESHKUMAR PARSOTTAMBHAI,Independent
7145,Gujarat,Kheda(17),lost,2715,( -741720),UPENDRAKUMAR VALLAVBHAI PATEL,Independent
7146,Gujarat,Kheda(17),lost,2523,( -741912),PATEL ANILKUMAR BHAILALBHAI,Rashtriya Mahaswaraj Bhumi Party
7147,Gujarat,Kheda(17),lost,1838,( -742597),SAIYAD KADARI MOHAMMAD SABIR ANVAR HUSAIN,Bhartiya Jan Nayak Party
7148,Gujarat,Kheda(17),lost,1135,( -743300),INDIRADEVI HIRALAL VORA,Garib Kalyan Party
7149,Gujarat,Kheda(17),lost,949,( -743486),KAMLESHBHAI POPATBHAI PATEL,Bhartiya Jan Parishad
7150,Gujarat,Kheda(17),lost,928,( -743507),IMRANBHAI VANKAWALA,Right to Recall Party
7151,Gujarat,Kheda(17),lost,792,( -743643),KANTIYA DASRATH HARJIVANBHAI,New India United Party
7152,Gujarat,Kheda(17),,18824,( -725611),NOTA,None of the Above
7153,Gujarat,Anand(16),won,612484,(+ 89939),MITESH PATEL (BAKABHAI),Bharatiya Janata Party
7154,Gujarat,Anand(16),lost,522545,( -89939),AMIT CHAVDA,Indian National Congress
7155,Gujarat,Anand(16),lost,5831,( -606653),SURESHBHAI DHULABHAI PATEL,Bahujan Samaj Party
7156,Gujarat,Anand(16),lost,5542,( -606942),BHOI ASHISHKUMAR THAKORBHAI,Independent
7157,Gujarat,Anand(16),lost,2298,( -610186),KEYURBHAI PRAVINBHAI PATEL (BAKABHAI),Independent
7158,Gujarat,Anand(16),lost,1747,( -610737),DHEERAJKUMAR KSHATRIYA,Garib Kalyan Party
7159,Gujarat,Anand(16),lost,1592,( -610892),BHATT SUNILKUMAR NARENDRABHAI,Right to Recall Party
7160,Gujarat,Anand(16),,15930,( -596554),NOTA,None of the Above
7161,Gujarat,Bhavnagar(15),won,716883,(+ 455289),NIMUBEN JAYANTIBHAI BAMBHANIYA (NIMUBEN BAMBHANIYA),Bharatiya Janata Party
7162,Gujarat,Bhavnagar(15),lost,261594,( -455289),UMESHBHAI NARANBHAI MAKWANA,Aam Aadmi Party
7163,Gujarat,Bhavnagar(15),lost,10130,( -706753),RATHOD DINESHBHAI LAKHABHAI,Bahujan Samaj Party
7164,Gujarat,Bhavnagar(15),lost,7619,( -709264),ANILBHAI NARENDRABHAI CHAVDA,Swatantrata Abhivyakti Party
7165,Gujarat,Bhavnagar(15),lost,6493,( -710390),PARMAR RAJESHKUMAR PREMJIBHAI,New India United Party
7166,Gujarat,Bhavnagar(15),lost,6087,( -710796),KALANIYA SAGARBHAI POPATBHAI,Aapki Awaaz Party
7167,Gujarat,Bhavnagar(15),lost,4153,( -712730),SANJAYBHAI MAGANBHAI MAKAWANA,Independent
7168,Gujarat,Bhavnagar(15),lost,3634,( -713249),HARSH GOKLANI,Independent
7169,Gujarat,Bhavnagar(15),lost,3406,( -713477),SHRI MULSHANKARBHAI RAGHURAMBHAI CHAUHAN,Independent
7170,Gujarat,Bhavnagar(15),lost,2685,( -714198),SHRI TIDABHAI DEVSHIBHAI,Gujarat Sarva Samaj Party
7171,Gujarat,Bhavnagar(15),lost,2394,( -714489),BHUPATBHAI MOHANBHAI VALA,Right to Recall Party
7172,Gujarat,Bhavnagar(15),lost,1765,( -715118),NARESHBHAI NARANBHAI RATHOD,Independent
7173,Gujarat,Bhavnagar(15),lost,1624,( -715259),BRAHMAKSHTRIYA BHAGVATIBEN KHETSINH,Independent
7174,Gujarat,Bhavnagar(15),,18765,( -698118),NOTA,None of the Above
7175,Gujarat,Amreli(14),won,580872,(+ 321068),BHARATBHAI MANUBHAI SUTARIYA,Bharatiya Janata Party
7176,Gujarat,Amreli(14),lost,259804,( -321068),JENNY THUMMAR,Indian National Congress
7177,Gujarat,Amreli(14),lost,7543,( -573329),CHAUHAN RAVAJIBHAI MULABHAI,Bahujan Samaj Party
7178,Gujarat,Amreli(14),lost,5009,( -575863),SANKHAT VIKRAMBHAI VISABHAI,Global Republican Party
7179,Gujarat,Amreli(14),lost,3777,( -577095),BAVKUBHAI AMARUBHAI VALA,Independent
7180,Gujarat,Amreli(14),lost,3671,( -577201),BHAVESHBHAI JENTIBHAI RANK,Independent
7181,Gujarat,Amreli(14),lost,2621,( -578251),PUNJABHAI BAVBHAI DAFDA,Independent
7182,Gujarat,Amreli(14),lost,1780,( -579092),PRITESH CHAUHAN (LALU),Independent
7183,Gujarat,Amreli(14),,11349,( -569523),NOTA,None of the Above
7184,Gujarat,Junagadh(13),won,584049,(+ 135494),CHUDASAMA RAJESHBHAI NARANBHAI,Bharatiya Janata Party
7185,Gujarat,Junagadh(13),lost,448555,( -135494),JOTVA HIRABHAI ARJANBHAI,Indian National Congress
7186,Gujarat,Junagadh(13),lost,7282,( -576767),MAKADIA JAYANTILAL MALDEBHAI,Bahujan Samaj Party
7187,Gujarat,Junagadh(13),lost,5189,( -578860),VADHER DANSING CHINABHAI,Independent
7188,Gujarat,Junagadh(13),lost,2309,( -581740),DEVENDRABHAI DHANJIBHAI MOTIVARAS,Independent
7189,Gujarat,Junagadh(13),lost,1908,( -582141),BORICHANGAR BHAVESH DALPATRAI,Independent
7190,Gujarat,Junagadh(13),lost,1344,( -582705),DAKI NATHABHAI MENSIBHAI,Independent
7191,Gujarat,Junagadh(13),lost,1171,( -582878),ISHWAR RAMBHAI SOLANKI,Right to Recall Party
7192,Gujarat,Junagadh(13),lost,964,( -583085),ALPESHKUMAR CHANDULAL TRAMBADIYA,Log Party
7193,Gujarat,Junagadh(13),lost,775,( -583274),GORDHANBHAI MANGABHAI GOHEL,Independent
7194,Gujarat,Junagadh(13),lost,694,( -583355),AARAB HASAM SUMRA,Independent
7195,Gujarat,Junagadh(13),,14013,( -570036),NOTA,None of the Above
7196,Gujarat,Jamnagar(12),won,620049,(+ 238008),POONAMBEN HEMATBHAI MAADAM,Bharatiya Janata Party
7197,Gujarat,Jamnagar(12),lost,382041,( -238008),ADVOCATE J. P. MARAVIYA,Indian National Congress
7198,Gujarat,Jamnagar(12),lost,11462,( -608587),JAYSUKH NATHUBHAI PINGALSUR,Bahujan Samaj Party
7199,Gujarat,Jamnagar(12),lost,7002,( -613047),KANZARIYA RANCHHODBHAI NARANBHAI,Viro Ke Vir Indian Party
7200,Gujarat,Jamnagar(12),lost,4834,( -615215),VIJAYSINH PRAVINSINH JADEJA,Independent
7201,Gujarat,Jamnagar(12),lost,3732,( -616317),RATHOD PUNJABHAI PALABHAI,Independent
7202,Gujarat,Jamnagar(12),lost,1928,( -618121),BHURALAL MEGHJIBHAI PARMAR,Independent
7203,Gujarat,Jamnagar(12),lost,1585,( -618464),GHUGHA ALARAKHABHAI ISHAKBHAI,Independent
7204,Gujarat,Jamnagar(12),lost,1371,( -618678),KHIRA YUSUF SIDIKBHAI,Independent
7205,Gujarat,Jamnagar(12),lost,1370,( -618679),NANJI AMARSHI BATHWAR,Independent
7206,Gujarat,Jamnagar(12),lost,1299,( -618750),ANWAR NOORMAMAD SANGHAR,Independent
7207,Gujarat,Jamnagar(12),lost,1270,( -618779),PARESHBHAI PARSOTTAMBHAI MUNGARA,Rashtriya Mahaswaraj Bhumi Party
7208,Gujarat,Jamnagar(12),lost,1138,( -618911),POPATPUTRA RAFIK ABUBAKAR,Independent
7209,Gujarat,Jamnagar(12),lost,1070,( -618979),NADEEM MAHAMMAD HALA,Independent
7210,Gujarat,Jamnagar(12),,11084,( -608965),NOTA,None of the Above
7211,Gujarat,Porbandar(11),won,633118,(+ 383360),DR. MANSUKH MANDAVIYA,Bharatiya Janata Party
7212,Gujarat,Porbandar(11),lost,249758,( -383360),LALIT VASOYA,Indian National Congress
7213,Gujarat,Porbandar(11),lost,10922,( -622196),N. P. RATHOD,Bahujan Samaj Party
7214,Gujarat,Porbandar(11),lost,7296,( -625822),NATHABHAI BHURABHAI ODEDRA,Independent
7215,Gujarat,Porbandar(11),lost,3163,( -629955),LAKHANSI ODEDARA,Viro Ke Vir Indian Party
7216,Gujarat,Porbandar(11),lost,2486,( -630632),SOLANKI JATIN DHIRUBHAI,Independent
7217,Gujarat,Porbandar(11),lost,2435,( -630683),SODHA HUSHENBHAI ALIBHAI,Independent
7218,Gujarat,Porbandar(11),lost,1729,( -631389),RATHOD CHANDUBHAI MOHANBHAI,Independent
7219,Gujarat,Porbandar(11),lost,1609,( -631509),SHEKHAVA NILESHKUMAR RAMJIBHAI,Samajwadi Party
7220,Gujarat,Porbandar(11),lost,1072,( -632046),SIDHHAPARA HARSUKHLAL JIVANBHAI,Log Party
7221,Gujarat,Porbandar(11),lost,1029,( -632089),MAHEMUDBHAI SAIYAD,Independent
7222,Gujarat,Porbandar(11),lost,797,( -632321),JETHAVA BIPINKUMAR BHIKHALAL,Independent
7223,Gujarat,Porbandar(11),,13563,( -619555),NOTA,None of the Above
7224,Gujarat,Rajkot(10),won,857984,(+ 484260),PARSHOTTAMBHAI RUPALA,Bharatiya Janata Party
7225,Gujarat,Rajkot(10),lost,373724,( -484260),DHANANI PARESH,Indian National Congress
7226,Gujarat,Rajkot(10),lost,10465,( -847519),CHAMANBHAI NAGJIBHAI SAVSANI,Bahujan Samaj Party
7227,Gujarat,Rajkot(10),lost,3680,( -854304),AJAGIYA NIRALBHAI AMRUTLAL,Independent
7228,Gujarat,Rajkot(10),lost,2856,( -855128),BHAVESHBHAI KANTILAL PIPALIYA,Independent
7229,Gujarat,Rajkot(10),lost,2840,( -855144),BHAVESH UPENDRABHAI ACHARYA,Independent
7230,Gujarat,Rajkot(10),lost,2389,( -855595),PRAKASH GOVINDBHAI SINDHAV,Independent
7231,Gujarat,Rajkot(10),lost,2350,( -855634),ZALA NAYAN J.,Independent
7232,Gujarat,Rajkot(10),lost,1332,( -856652),JIGNESHBHAI MAHAJAN,Independent
7233,Gujarat,Rajkot(10),,15922,( -842062),NOTA,None of the Above
7234,Gujarat,Surendranagar(9),won,669749,(+ 261617),CHANDUBHAI CHHAGANBHAI SHIHORA,Bharatiya Janata Party
7235,Gujarat,Surendranagar(9),lost,408132,( -261617),RUTVIKBHAI LAVJIBHAI MAKWANA,Indian National Congress
7236,Gujarat,Surendranagar(9),lost,12036,( -657713),DABHI ASHOKBHAI SUKHABHAI,Bahujan Samaj Party
7237,Gujarat,Surendranagar(9),lost,5946,( -663803),VINODBHAI BABUBHAI SATROTIYA,Independent
7238,Gujarat,Surendranagar(9),lost,5189,( -664560),KOLI RAMESHBHAI VIRSANGBHAI VAGHELA,Independent
7239,Gujarat,Surendranagar(9),lost,4129,( -665620),CHAVDA NILESHBHAI MANSUKHBHAI,Rashtra Nirman Party
7240,Gujarat,Surendranagar(9),lost,2463,( -667286),ZALA DEVRAJBHAI BABUBHAI,Independent
7241,Gujarat,Surendranagar(9),lost,2367,( -667382),J.K.PATEL,Independent
7242,Gujarat,Surendranagar(9),lost,2051,( -667698),DEVENDRA MOHANDAS MAHANT,Gunj Satya Ni Janata Party
7243,Gujarat,Surendranagar(9),lost,1459,( -668290),GEDIYA KRUSHANAVADAN HARIPRASADBHAI,Independent
7244,Gujarat,Surendranagar(9),lost,1257,( -668492),DILIPBHAI PARSHOTTAMBHAI MAKWANA,New India United Party
7245,Gujarat,Surendranagar(9),lost,1249,( -668500),ANANDBHAI PACHANBHAI RATHOD,Independent
7246,Gujarat,Surendranagar(9),lost,1091,( -668658),ASHOK PALAJIBHAI RATHOD,Independent
7247,Gujarat,Surendranagar(9),lost,960,( -668789),PATEL MADHUSUDAN BALDEVBHAI,Mission All India Independent Justice Party
7248,Gujarat,Surendranagar(9),,13299,( -656450),NOTA,None of the Above
7249,Gujarat,Ahmedabad West(8),won,611704,(+ 286437),DINESHBHAI MAKWANA (ADVOCATE),Bharatiya Janata Party
7250,Gujarat,Ahmedabad West(8),lost,325267,( -286437),BHARAT YOGENDRA MAKWANA,Indian National Congress
7251,Gujarat,Ahmedabad West(8),lost,9600,( -602104),ANILKUMAR VASANTBHAI VAGHELA,Bahujan Samaj Party
7252,Gujarat,Ahmedabad West(8),lost,2458,( -609246),BHITORA BHAVESHKUMAR CHIMANLAL,Gujarat Loktantra Party
7253,Gujarat,Ahmedabad West(8),lost,2389,( -609315),SHANKARBHAI KHUSHALBHAI RATHOD,Democratic Bharatiya Samaj Party
7254,Gujarat,Ahmedabad West(8),lost,1221,( -610483),VEDUBHAI KAUTIKBHAI SIRASAT,Jan Sewa Driver Party
7255,Gujarat,Ahmedabad West(8),,14007,( -597697),NOTA,None of the Above
7256,Gujarat,Ahmedabad East(7),won,770459,(+ 461755),HASMUKHBHAI PATEL (H.S.PATEL),Bharatiya Janata Party
7257,Gujarat,Ahmedabad East(7),lost,308704,( -461755),HIMMATSINH PRAHLADSINH PATEL,Indian National Congress
7258,Gujarat,Ahmedabad East(7),lost,10482,( -759977),MAKWANA JAYANTIBHAI KANJIBHAI,Bahujan Samaj Party
7259,Gujarat,Ahmedabad East(7),lost,4526,( -765933),BRIJESH SHARMA,Independent
7260,Gujarat,Ahmedabad East(7),lost,3571,( -766888),HARSHAD BABUBHAI NANDOLIYA,Independent
7261,Gujarat,Ahmedabad East(7),lost,3033,( -767426),MAHESHKUMAR SOMABHAI THAKOR,Independent
7262,Gujarat,Ahmedabad East(7),lost,2937,( -767522),KALPESHBHAI  SHETE,Gunj Satya Ni Janata Party
7263,Gujarat,Ahmedabad East(7),lost,2420,( -768039),PATANI VISHNUBHAI NATAVARBHAI,Independent
7264,Gujarat,Ahmedabad East(7),lost,2366,( -768093),ZALA SANJAYKUMAR MAHOBATSINH,Independent
7265,Gujarat,Ahmedabad East(7),lost,1480,( -768979),DASHARATHBHAI KANTILAL PANCHAL,Independent
7266,Gujarat,Ahmedabad East(7),lost,1279,( -769180),PRAMOD SAHDEVBHAI GUDADE,Swatantrata Abhivyakti Party
7267,Gujarat,Ahmedabad East(7),lost,1212,( -769247),RAJESH HARIRAM MAURYA,Prajatantra Aadhar Party
7268,Gujarat,Ahmedabad East(7),lost,1169,( -769290),INGOLE ROOPESHBHAI BABUBHAI,Independent
7269,Gujarat,Ahmedabad East(7),lost,1120,( -769339),DHANANJAY GIRJASHANKAR RAJPUT,Bhartiya Jan Parishad
7270,Gujarat,Ahmedabad East(7),lost,909,( -769550),MANISH KUMAR DUBEY,Swaraj Kranti Party
7271,Gujarat,Ahmedabad East(7),lost,778,( -769681),CHAUHAN MOHAMADFARUK  AHEMADHASANBHAI,Independent
7272,Gujarat,Ahmedabad East(7),lost,742,( -769717),HITENDRABHAI PATEL,Aadi Bharat Party
7273,Gujarat,Ahmedabad East(7),lost,649,( -769810),PIYUSHBHAI BHAVSAR,Youth India Peace Party
7274,Gujarat,Ahmedabad East(7),,10503,( -759956),NOTA,None of the Above
7275,Gujarat,Gandhinagar(6),won,1010972,(+ 744716),AMIT SHAH,Bharatiya Janata Party
7276,Gujarat,Gandhinagar(6),lost,266256,( -744716),SONAL RAMANBHAI PATEL,Indian National Congress
7277,Gujarat,Gandhinagar(6),lost,7394,( -1003578),MOHAMMEDANISH DESAI,Bahujan Samaj Party
7278,Gujarat,Gandhinagar(6),lost,2332,( -1008640),SHAHNAWAZKHAN SULTANKHAN PATHAN,Independent
7279,Gujarat,Gandhinagar(6),lost,2058,( -1008914),MALEK MAKBUL SHAKIB,Independent
7280,Gujarat,Gandhinagar(6),lost,2009,( -1008963),THAKOR JITENDRASINH JASHAVANTSINH,Insaniyat Party
7281,Gujarat,Gandhinagar(6),lost,1751,( -1009221),PARIKH RAJIVBHAI KALABHAI,Independent
7282,Gujarat,Gandhinagar(6),lost,1453,( -1009519),MANSURI SUHANA,Independent
7283,Gujarat,Gandhinagar(6),lost,1217,( -1009755),MAURYA SUMITRA DEVNARIAN,Prajatantra Aadhar Party
7284,Gujarat,Gandhinagar(6),lost,1009,( -1009963),UMADIYA ALIBHAI RAJABHAI,Independent
7285,Gujarat,Gandhinagar(6),lost,1001,( -1009971),RAHUL CHIMANBHAI MEHTA,Right to Recall Party
7286,Gujarat,Gandhinagar(6),lost,842,( -1010130),PATHAN IMTIYAJKHAN,Independent
7287,Gujarat,Gandhinagar(6),lost,771,( -1010201),BAGVAN BAHADURSHAH GULMOHAMMAD,Independent
7288,Gujarat,Gandhinagar(6),lost,732,( -1010240),NAVSADALAM IBRAHIMBHAI MALEK,Independent
7289,Gujarat,Gandhinagar(6),,22005,( -988967),NOTA,None of the Above
7290,Gujarat,Sabarkantha(5),won,677318,(+ 155682),SHOBHANABEN MAHENDRASINH BARAIYA,Bharatiya Janata Party
7291,Gujarat,Sabarkantha(5),lost,521636,( -155682),CHAUDHARI TUSHAR AMARSINH,Indian National Congress
7292,Gujarat,Sabarkantha(5),lost,9967,( -667351),PARMAR RAMESHCHANDRA NANJIBHAI,Bahujan Samaj Party
7293,Gujarat,Sabarkantha(5),lost,7551,( -669767),SOLANKI CHHAGANBHAI KEVLABHAI,Independent
7294,Gujarat,Sabarkantha(5),lost,6721,( -670597),VIJAYSINH NAVALSINH CHAUHAN,Independent
7295,Gujarat,Sabarkantha(5),lost,5459,( -671859),BHAVNABA NARENDRASINH PARMAR,Independent
7296,Gujarat,Sabarkantha(5),lost,5247,( -672071),ANILKUMAR NIRANJANKUMAR MUNDADA,Log Party
7297,Gujarat,Sabarkantha(5),lost,3203,( -674115),MUSTAKBHAI JAMALBHAI SANGHANI,Independent
7298,Gujarat,Sabarkantha(5),lost,2773,( -674545),KATARA VARUNKUMAR KALYANSINH,Gunj Satya Ni Janata Party
7299,Gujarat,Sabarkantha(5),lost,1951,( -675367),RAKESHSINH MAHOBATSINH ZALA,Bhartiya Jan Parishad
7300,Gujarat,Sabarkantha(5),lost,1827,( -675491),PANDOR KAUSHIKKUMAR SHANKARBHAI,Independent
7301,Gujarat,Sabarkantha(5),lost,1688,( -675630),ASHOK L VAGHELA,Independent
7302,Gujarat,Sabarkantha(5),lost,1505,( -675813),KANUBHAI KHIMJIBHAI GADHAVI,Independent
7303,Gujarat,Sabarkantha(5),lost,1436,( -675882),THAKOR INDIRABEN JITENDRASINH,Insaniyat Party
7304,Gujarat,Sabarkantha(5),,21076,( -656242),NOTA,None of the Above
7305,Gujarat,Mahesana(4),won,686406,(+ 328046),HARIBHAI PATEL,Bharatiya Janata Party
7306,Gujarat,Mahesana(4),lost,358360,( -328046),RAMJI THAKOR,Indian National Congress
7307,Gujarat,Mahesana(4),lost,9874,( -676532),AMRUTLAL MAKWANA,Bahujan Samaj Party
7308,Gujarat,Mahesana(4),lost,3882,( -682524),CHAUHAN PRAKASHKUMAR TRIBHOVANDAS,Akhila Vijaya Party
7309,Gujarat,Mahesana(4),lost,3672,( -682734),PATEL MANUBHAI SHANKARLAL,Independent
7310,Gujarat,Mahesana(4),lost,3007,( -683399),ZALA VIKRAMSINH BANESINH,Rashtra Nirman Party
7311,Gujarat,Mahesana(4),,11626,( -674780),NOTA,None of the Above
7312,Gujarat,Patan(3),won,591947,(+ 31876),DABHI  BHARATSINHJI  SHANKARJI,Bharatiya Janata Party
7313,Gujarat,Patan(3),lost,560071,( -31876),CHANDANJI TALAJI THAKOR,Indian National Congress
7314,Gujarat,Patan(3),lost,5865,( -586082),BALVANT CHHATRALIYA,Bahujan Samaj Party
7315,Gujarat,Patan(3),lost,5474,( -586473),SOYAB HASAM BHORANIYA,Independent
7316,Gujarat,Patan(3),lost,2916,( -589031),THAKOR KISHANBHAI KALUBHAI,Independent
7317,Gujarat,Patan(3),lost,2774,( -589173),SHARMA RAKESHBHAI,Rashtriya Samaj Paksha
7318,Gujarat,Patan(3),lost,2312,( -589635),GHAGHA MASIHULLAH ABDULHAMID,Social Democratic Party Of India
7319,Gujarat,Patan(3),lost,2160,( -589787),CHANDURA DHANJIBHAI LAXAMANBHAI,Independent
7320,Gujarat,Patan(3),lost,1524,( -590423),ABDULHAQ ISMAIL NEDARIYA,Independent
7321,Gujarat,Patan(3),lost,1360,( -590587),ABDULKUDDUS,Independent
7322,Gujarat,Patan(3),,16722,( -575225),NOTA,None of the Above
7323,Gujarat,Kachchh(1),won,659574,(+ 268782),CHAVDA VINOD LAKHAMSHI,Bharatiya Janata Party
7324,Gujarat,Kachchh(1),lost,390792,( -268782),NITESH PARBATBHAI LALAN (MATANG),Indian National Congress
7325,Gujarat,Kachchh(1),lost,6111,( -653463),VIJAY BHACHRA,Bahujan Samaj Party
7326,Gujarat,Kachchh(1),lost,5151,( -654423),VANAZARA HIRABEN DALPATBHAI,Independent
7327,Gujarat,Kachchh(1),lost,3366,( -656208),KAVITABEN DINESHBHAI MACHCHHOYA,Independent
7328,Gujarat,Kachchh(1),lost,3354,( -656220),BABULAL LADHA CHAVDA,Independent
7329,Gujarat,Kachchh(1),lost,2101,( -657473),DEVABHAI MITHABHAI GOHIL,Rashtriya Power Party
7330,Gujarat,Kachchh(1),lost,1573,( -658001),SHAMLIA VIRJI CHAKU,Hindvi Swarajyay Dal
7331,Gujarat,Kachchh(1),lost,1526,( -658048),ARVIND ASHOK SANGHELA,Gujarat Sarva Samaj Party
7332,Gujarat,Kachchh(1),lost,1497,( -658077),BOCHIYA BHIMJI BHIKHA,Sarva Samaj Janata Party
7333,Gujarat,Kachchh(1),lost,1370,( -658204),RAMJIBHAI JAKHUBHAI DAFDA,Right to Recall Party
7334,Gujarat,Kachchh(1),,18742,( -640832),NOTA,None of the Above
7335,Chhattisgarh,BASTAR(10),won,458398,(+ 55245),MAHESH KASHYAP,Bharatiya Janata Party
7336,Chhattisgarh,BASTAR(10),lost,403153,( -55245),KAWASI LAKHMA,Indian National Congress
7337,Chhattisgarh,BASTAR(10),lost,35887,( -422511),PHULSINGH KACHLAM,Communist Party of India
7338,Chhattisgarh,BASTAR(10),lost,19647,( -438751),AYTU RAM MANDAVI,Bahujan Samaj Party
7339,Chhattisgarh,BASTAR(10),lost,14207,( -444191),SUNDAR BAGHEL,Independent
7340,Chhattisgarh,BASTAR(10),lost,11245,( -447153),PRAKASH KUMAR GOTA,Independent
7341,Chhattisgarh,BASTAR(10),lost,8800,( -449598),KANWAL SINGH BAGHEL,Rashtriya Jansabha Party
7342,Chhattisgarh,BASTAR(10),lost,8279,( -450119),SHIVRAM NAG,Sarv Adi Dal
7343,Chhattisgarh,BASTAR(10),lost,4387,( -454011),NARENDRA BURKA,Hamar Raj Party
7344,Chhattisgarh,BASTAR(10),lost,3592,( -454806),JAGDISH NAG,Azad Janata Party
7345,Chhattisgarh,BASTAR(10),lost,3042,( -455356),TIKAM NAGWANSHI,Gondvana Gantantra Party
7346,Chhattisgarh,BASTAR(10),,36758,( -421640),NOTA,None of the Above
7347,Chhattisgarh,MAHASAMUND(9),won,703659,(+ 145456),ROOP KUMARI CHOUDHARY,Bharatiya Janata Party
7348,Chhattisgarh,MAHASAMUND(9),lost,558203,( -145456),TAMRADHWAJ SAHU,Indian National Congress
7349,Chhattisgarh,MAHASAMUND(9),lost,11888,( -691771),PROFESSOR SURESH SAHU,Independent
7350,Chhattisgarh,MAHASAMUND(9),lost,8860,( -694799),BASANT SINHA,Bahujan Samaj Party
7351,Chhattisgarh,MAHASAMUND(9),lost,7878,( -695781),REKHRAM BAGH,Independent
7352,Chhattisgarh,MAHASAMUND(9),lost,6651,( -697008),GANESH RAM DHRUW,Hamar Raj Party
7353,Chhattisgarh,MAHASAMUND(9),lost,6054,( -697605),SANTOSH DARCHAND BANJARE,Independent
7354,Chhattisgarh,MAHASAMUND(9),lost,3691,( -699968),MUKESH KUMAR AGRAWAL,Independent
7355,Chhattisgarh,MAHASAMUND(9),lost,3555,( -700104),SUKHNANDAN  DESHKAR,Independent
7356,Chhattisgarh,MAHASAMUND(9),lost,2373,( -701286),NITESH KUMAR RATRE,Sunder Samaj Party
7357,Chhattisgarh,MAHASAMUND(9),lost,2099,( -701560),DR. VIRENDRA CHAUDHRI,Bhartiya Shakti Chetna Party
7358,Chhattisgarh,MAHASAMUND(9),lost,1531,( -702128),KALIYA PRASAD SETH,Independent
7359,Chhattisgarh,MAHASAMUND(9),lost,1486,( -702173),MAHESH SWARN,Independent
7360,Chhattisgarh,MAHASAMUND(9),lost,1379,( -702280),CHAMPA LAL PATEL GURUJI DHARTI PAKD,Right to Recall Party
7361,Chhattisgarh,MAHASAMUND(9),lost,1077,( -702582),FARID QURAISHI,Gondvana Gantantra Party
7362,Chhattisgarh,MAHASAMUND(9),lost,957,( -702702),ISHWAR MARKANDE,Independent
7363,Chhattisgarh,MAHASAMUND(9),lost,899,( -702760),NARAD PRASAD NISHAD,Shakti Sena (Bharat Desh)
7364,Chhattisgarh,MAHASAMUND(9),,3840,( -699819),NOTA,None of the Above
7365,Chhattisgarh,RAIPUR(8),won,1050351,(+ 575285),BRIJMOHAN AGRAWAL,Bharatiya Janata Party
7366,Chhattisgarh,RAIPUR(8),lost,475066,( -575285),VIKAS UPADHYAY,Indian National Congress
7367,Chhattisgarh,RAIPUR(8),lost,9299,( -1041052),MAMTA RANI SAHU,Bahujan Samaj Party
7368,Chhattisgarh,RAIPUR(8),lost,8768,( -1041583),SAVITA SHAILENDRA BANJARE,Shakti Sena (Bharat Desh)
7369,Chhattisgarh,RAIPUR(8),lost,4630,( -1045721),RADHESHWARI GAIKWAD,Independent
7370,Chhattisgarh,RAIPUR(8),lost,3499,( -1046852),SURESH KUMAR NETAM,Hamar Raj Party
7371,Chhattisgarh,RAIPUR(8),lost,2916,( -1047435),ANIL MAHOBIA,Right to Recall Party
7372,Chhattisgarh,RAIPUR(8),lost,2865,( -1047486),ENGI. LAL BAHADUR YADAV,Gondvana Gantantra Party
7373,Chhattisgarh,RAIPUR(8),lost,2185,( -1048166),RAMKRISHNA VERMA,Independent
7374,Chhattisgarh,RAIPUR(8),lost,2054,( -1048297),YAKUB KHAN,Independent
7375,Chhattisgarh,RAIPUR(8),lost,1920,( -1048431),VISHWAJIT HARODE,Socialist Unity Centre Of India (COMMUNIST)
7376,Chhattisgarh,RAIPUR(8),lost,1608,( -1048743),AMARNATH CHANDRAKAR,Independent
7377,Chhattisgarh,RAIPUR(8),lost,1351,( -1049000),LAKHAMOO RAM TANDON,Rashtriya Jansabha Party
7378,Chhattisgarh,RAIPUR(8),lost,1312,( -1049039),YASHUTOSH LAHARE,Ambedkarite Party of India
7379,Chhattisgarh,RAIPUR(8),lost,1193,( -1049158),RAJESH DHRUV,Independent
7380,Chhattisgarh,RAIPUR(8),lost,1062,( -1049289),DAYA SHANKER NISHAD,Bhartiya Shakti Chetna Party
7381,Chhattisgarh,RAIPUR(8),lost,1059,( -1049292),BODHAN LAL FARIKAR,Independent
7382,Chhattisgarh,RAIPUR(8),lost,1036,( -1049315),PILARAM ANANT,Sunder Samaj Party
7383,Chhattisgarh,RAIPUR(8),lost,960,( -1049391),ROHIT KUMAR PATIL,Independent
7384,Chhattisgarh,RAIPUR(8),lost,960,( -1049391),HIRA NAND NAGWANI (ASHOK BHAIYA),Republican Party of India (A)
7385,Chhattisgarh,RAIPUR(8),lost,821,( -1049530),BHANJAN JANGADE (ADHIWAKTA),Bharatiya Bahujan Congress
7386,Chhattisgarh,RAIPUR(8),lost,766,( -1049585),MO. AMIN,Bhrashtachar Mukti Morcha
7387,Chhattisgarh,RAIPUR(8),lost,724,( -1049627),MANOJ VERMA,Independent
7388,Chhattisgarh,RAIPUR(8),lost,705,( -1049646),PITAMBAR JANGDE,Aazad Samaj Party (Kanshi Ram)
7389,Chhattisgarh,RAIPUR(8),lost,528,( -1049823),ASHISH KUMAR TIWARI,Aap Sabki Apni Party
7390,Chhattisgarh,RAIPUR(8),lost,503,( -1049848),ENGI. BHANU PRATAP TANDE,Independent
7391,Chhattisgarh,RAIPUR(8),lost,467,( -1049884),MO. IMRAN KHAN,Independent
7392,Chhattisgarh,RAIPUR(8),lost,434,( -1049917),NEERAJ SAINI PUJARI,Dhoom Sena
7393,Chhattisgarh,RAIPUR(8),lost,414,( -1049937),SUDHANSHU BHUSHAN,Independent
7394,Chhattisgarh,RAIPUR(8),lost,391,( -1049960),RAMPRASAD PRAJAPATI,Independent
7395,Chhattisgarh,RAIPUR(8),lost,369,( -1049982),PRAVIN JAIN,Independent
7396,Chhattisgarh,RAIPUR(8),lost,349,( -1050002),VINAYAK DHAMGAYE,Independent
7397,Chhattisgarh,RAIPUR(8),lost,337,( -1050014),NANDNI NAYAK,Independent
7398,Chhattisgarh,RAIPUR(8),lost,310,( -1050041),PRAVISHANT SALOMAN,Independent
7399,Chhattisgarh,RAIPUR(8),lost,295,( -1050056),SAYED IRSHAD,Independent
7400,Chhattisgarh,RAIPUR(8),lost,294,( -1050057),DR. OMPRAKASH SAHU,Independent
7401,Chhattisgarh,RAIPUR(8),lost,254,( -1050097),MO. NASIR,Independent
7402,Chhattisgarh,RAIPUR(8),lost,252,( -1050099),NURI KHAN,Independent
7403,Chhattisgarh,RAIPUR(8),,4448,( -1045903),NOTA,None of the Above
7404,Chhattisgarh,DURG(7),won,956497,(+ 438226),VIJAY BAGHEL,Bharatiya Janata Party
7405,Chhattisgarh,DURG(7),lost,518271,( -438226),RAJENDRA SAHU,Indian National Congress
7406,Chhattisgarh,DURG(7),lost,13333,( -943164),DILIP RAMTEKE,Bahujan Samaj Party
7407,Chhattisgarh,DURG(7),lost,7766,( -948731),ANOOP KUMAR PANDEY,Independent
7408,Chhattisgarh,DURG(7),lost,5241,( -951256),DR. ANJU KEME,Ekam Sanatan Bharat Dal
7409,Chhattisgarh,DURG(7),lost,5050,( -951447),ALI HUSSAIN SIDDIQUI,Independent
7410,Chhattisgarh,DURG(7),lost,4753,( -951744),ARUN JOSHI,Independent
7411,Chhattisgarh,DURG(7),lost,3815,( -952682),DHRUV KUMAR SONI URF LANGUR SONI,Independent
7412,Chhattisgarh,DURG(7),lost,3281,( -953216),KHILANAND JASPAL,Independent
7413,Chhattisgarh,DURG(7),lost,2617,( -953880),SUKHADEV TANDON,Rashtriya Jansabha Party
7414,Chhattisgarh,DURG(7),lost,1902,( -954595),ASHOK JAIN,Independent
7415,Chhattisgarh,DURG(7),lost,1613,( -954884),BALDEV SAHU,Independent
7416,Chhattisgarh,DURG(7),lost,1561,( -954936),PUSHPA MAIRISHA,Ambedkarite Party of India
7417,Chhattisgarh,DURG(7),lost,1452,( -955045),HARICHAND THAKUR,Independent
7418,Chhattisgarh,DURG(7),lost,1396,( -955101),SAVITA SHAILENDRA BANJARE,Shakti Sena (Bharat Desh)
7419,Chhattisgarh,DURG(7),lost,1262,( -955235),RAKESH SAHU,Nyaydharmsabha
7420,Chhattisgarh,DURG(7),lost,1183,( -955314),SHITKARAN MAHILWAR,Aazad Samaj Party (Kanshi Ram)
7421,Chhattisgarh,DURG(7),lost,1116,( -955381),DR. HARISHCHANDRA SAHU,Independent
7422,Chhattisgarh,DURG(7),lost,1073,( -955424),SHANKAR THAKUR,Gondvana Gantantra Party
7423,Chhattisgarh,DURG(7),lost,901,( -955596),YASHWANT SITARAM SAHU,Bhartiya Shakti Chetna Party
7424,Chhattisgarh,DURG(7),lost,899,( -955598),SHYAM SUNDER SAHU,Loktantra Congress Party
7425,Chhattisgarh,DURG(7),lost,798,( -955699),VIKAS SHARMA,Lokshahi Ekta Party
7426,Chhattisgarh,DURG(7),lost,650,( -955847),SANTOSH KUMAR MARKANDE,Independent
7427,Chhattisgarh,DURG(7),lost,389,( -956108),BHAGBALI SIVARE,Independent
7428,Chhattisgarh,DURG(7),lost,351,( -956146),BHANUPRATAP CHATURVEDI,Independent
7429,Chhattisgarh,DURG(7),,5617,( -950880),NOTA,None of the Above
7430,Chhattisgarh,RAJNANDGAON(6),won,712057,(+ 44411),SANTOSH PANDEY,Bharatiya Janata Party
7431,Chhattisgarh,RAJNANDGAON(6),lost,667646,( -44411),BHUPESH BAGHEL,Indian National Congress
7432,Chhattisgarh,RAJNANDGAON(6),lost,10737,( -701320),A.H. SIDDIQUI,Independent
7433,Chhattisgarh,RAJNANDGAON(6),lost,9668,( -702389),DEVLAL SINHA (SONVANSHI),Bahujan Samaj Party
7434,Chhattisgarh,RAJNANDGAON(6),lost,8030,( -704027),NARAD PRASAD NISHAD,Shakti Sena (Bharat Desh)
7435,Chhattisgarh,RAJNANDGAON(6),lost,8001,( -704056),SUKHDEV SINHA,Independent
7436,Chhattisgarh,RAJNANDGAON(6),lost,4873,( -707184),VISHESH DHAMGAYE,Independent
7437,Chhattisgarh,RAJNANDGAON(6),lost,4174,( -707883),BHUVAN SAHU,Independent
7438,Chhattisgarh,RAJNANDGAON(6),lost,2149,( -709908),LALITA KANWAR,Hamar Raj Party
7439,Chhattisgarh,RAJNANDGAON(6),lost,1820,( -710237),ER. BASANT KUMAR MESHRAM,Independent
7440,Chhattisgarh,RAJNANDGAON(6),lost,1737,( -710320),RAMESH RAJPUT,Bhartiya Shakti Chetna Party
7441,Chhattisgarh,RAJNANDGAON(6),lost,1613,( -710444),TRIVENI PADOTI,Independent
7442,Chhattisgarh,RAJNANDGAON(6),lost,1537,( -710520),RAMFAL PATIL,Nyaydharmsabha
7443,Chhattisgarh,RAJNANDGAON(6),lost,1114,( -710943),AJAY PALI,Independent
7444,Chhattisgarh,RAJNANDGAON(6),lost,1056,( -711001),LAKHAN SING TANDAN,Rashtriya Jansabha Party
7445,Chhattisgarh,RAJNANDGAON(6),,9553,( -702504),NOTA,None of the Above
7446,Chhattisgarh,BILASPUR(5),won,724937,(+ 164558),TOKHAN SAHU,Bharatiya Janata Party
7447,Chhattisgarh,BILASPUR(5),lost,560379,( -164558),DEVENDRA YADAV,Indian National Congress
7448,Chhattisgarh,BILASPUR(5),lost,13222,( -711715),ASHWANI RAJAK,Bahujan Samaj Party
7449,Chhattisgarh,BILASPUR(5),lost,5898,( -719039),ANAND URAWAN,Independent
7450,Chhattisgarh,BILASPUR(5),lost,5376,( -719561),ANILESH MISHRA (MAHARAJ),Independent
7451,Chhattisgarh,BILASPUR(5),lost,4443,( -720494),KULESH KUMAR SAHU,Independent
7452,Chhattisgarh,BILASPUR(5),lost,4354,( -720583),ASHAVANT SAHOO,Bhartiya Shakti Chetna Party
7453,Chhattisgarh,BILASPUR(5),lost,4201,( -720736),SHRIKANT MALHWAYR (KASER),Loktantra Congress Party
7454,Chhattisgarh,BILASPUR(5),lost,2862,( -722075),VIKRAMPRASAD JOGI,Independent
7455,Chhattisgarh,BILASPUR(5),lost,2767,( -722170),KESHAV PRASAD,Independent
7456,Chhattisgarh,BILASPUR(5),lost,2312,( -722625),SUDIEP SHRIVASTAVA,Hamar Raj Party
7457,Chhattisgarh,BILASPUR(5),lost,2261,( -722676),RUPRAM SAHU,Independent
7458,Chhattisgarh,BILASPUR(5),lost,2020,( -722917),KRISHNA NANDAN SINGH,Independent
7459,Chhattisgarh,BILASPUR(5),lost,1920,( -723017),ROSHAN KUMAR,Independent
7460,Chhattisgarh,BILASPUR(5),lost,1808,( -723129),DINESH PRATAP SINGH KHUSRO NIKHIL,Rashtriya Gondvana Party
7461,Chhattisgarh,BILASPUR(5),lost,1761,( -723176),RAMESHWAR SAHU,Independent
7462,Chhattisgarh,BILASPUR(5),lost,1626,( -723311),VIJAY KUMAR,Independent
7463,Chhattisgarh,BILASPUR(5),lost,1274,( -723663),YASHUTOSH LAHARE,Ambedkarite Party of India
7464,Chhattisgarh,BILASPUR(5),lost,1251,( -723686),GHANSHYAM URF SADHELAL BHARDWAJ,Independent
7465,Chhattisgarh,BILASPUR(5),lost,1163,( -723774),VEDMANI SINGH KSHATRIYA (THAKUR),Independent
7466,Chhattisgarh,BILASPUR(5),lost,1160,( -723777),SHEKHAR BANJARE,Independent
7467,Chhattisgarh,BILASPUR(5),lost,1150,( -723787),SIDDHRAM LAHARE,Rashtriya Jansabha Party
7468,Chhattisgarh,BILASPUR(5),lost,1112,( -723825),RAMPYARE RAI,Independent
7469,Chhattisgarh,BILASPUR(5),lost,1061,( -723876),NAND KISHORE RAJ,Gondvana Gantantra Party
7470,Chhattisgarh,BILASPUR(5),lost,970,( -723967),BHUNESHWAR MARKO,Independent
7471,Chhattisgarh,BILASPUR(5),lost,829,( -724108),RAJKUMAR SAHU,Independent
7472,Chhattisgarh,BILASPUR(5),lost,712,( -724225),BHAGWAT PATRE,Prabuddha Republican Party
7473,Chhattisgarh,BILASPUR(5),lost,699,( -724238),LAKSHMAN  PATHAK,Ekam Sanatan Bharat Dal
7474,Chhattisgarh,BILASPUR(5),lost,690,( -724247),ADVOCATE SHAILENDRA BANJARE (SHAKTIPUTRA),Shakti Sena (Bharat Desh)
7475,Chhattisgarh,BILASPUR(5),lost,656,( -724281),RAJENDRA KUMAR TANDAN,Independent
7476,Chhattisgarh,BILASPUR(5),lost,576,( -724361),SALIK RAM JOGI,Independent
7477,Chhattisgarh,BILASPUR(5),lost,565,( -724372),DEEPMALA CHOUHAN,Chhattisgarh Vikas Ganga Rashtriya Party
7478,Chhattisgarh,BILASPUR(5),lost,564,( -724373),BASANT BANSL,Independent
7479,Chhattisgarh,BILASPUR(5),lost,560,( -724377),MAHESH KUMAR SONWANI,Independent
7480,Chhattisgarh,BILASPUR(5),lost,511,( -724426),DEV PRASAD BRAIHA,Independent
7481,Chhattisgarh,BILASPUR(5),lost,436,( -724501),SANJAY PRAKASH SAHU,Independent
7482,Chhattisgarh,BILASPUR(5),lost,415,( -724522),PARAS RAM YADAV,Independent
7483,Chhattisgarh,BILASPUR(5),,2849,( -722088),NOTA,None of the Above
7484,Chhattisgarh,JANJGIR-CHAMPA(3),won,678199,(+ 60000),KAMLESH JANGDE,Bharatiya Janata Party
7485,Chhattisgarh,JANJGIR-CHAMPA(3),lost,618199,( -60000),DR. SHIVKUMAR DAHARIYA,Indian National Congress
7486,Chhattisgarh,JANJGIR-CHAMPA(3),lost,48501,( -629698),DR. ROHIT DAHARIA,Bahujan Samaj Party
7487,Chhattisgarh,JANJGIR-CHAMPA(3),lost,8159,( -670040),ENGINEER REVA KURREY,Independent
7488,Chhattisgarh,JANJGIR-CHAMPA(3),lost,5794,( -672405),AD. T.R. NIRALA,Independent
7489,Chhattisgarh,JANJGIR-CHAMPA(3),lost,5780,( -672419),ANIL MANHAR,Hamar Raj Party
7490,Chhattisgarh,JANJGIR-CHAMPA(3),lost,4881,( -673318),VIDYA DEVI SONI,Independent
7491,Chhattisgarh,JANJGIR-CHAMPA(3),lost,2931,( -675268),MINA CHAUHAN,Independent
7492,Chhattisgarh,JANJGIR-CHAMPA(3),lost,2877,( -675322),ANAND GILHARE,Independent
7493,Chhattisgarh,JANJGIR-CHAMPA(3),lost,1829,( -676370),DEEPAK KUMAR KHUNTE,Aazad Samaj Party (Kanshi Ram)
7494,Chhattisgarh,JANJGIR-CHAMPA(3),lost,1715,( -676484),ARVIND KUMAR,Independent
7495,Chhattisgarh,JANJGIR-CHAMPA(3),lost,1483,( -676716),GOPAL PRASAD KHUNTE,Bhartiya Shakti Chetna Party
7496,Chhattisgarh,JANJGIR-CHAMPA(3),lost,1422,( -676777),VIJAYLAXMI SURYAWANSHI NAT,Asankhya Samaj Party
7497,Chhattisgarh,JANJGIR-CHAMPA(3),lost,1336,( -676863),SIMA MAHILANGE,Independent
7498,Chhattisgarh,JANJGIR-CHAMPA(3),lost,1253,( -676946),ADVOCATE SHAILENDRA BANJARE (SHAKTIPUTRA),Shakti Sena (Bharat Desh)
7499,Chhattisgarh,JANJGIR-CHAMPA(3),lost,983,( -677216),VIJAY KUMAR KURRE,Rashtriya Jansabha Party
7500,Chhattisgarh,JANJGIR-CHAMPA(3),lost,924,( -677275),BRINDA CHAUHAN,Chhattisgarh Vikas Ganga Rashtriya Party
7501,Chhattisgarh,JANJGIR-CHAMPA(3),lost,837,( -677362),JAGJIVAN RAM SATNAMI,Azad Janata Party
7502,Chhattisgarh,JANJGIR-CHAMPA(3),,5137,( -673062),NOTA,None of the Above
7503,Chhattisgarh,RAIGARH(2),won,808275,(+ 240391),RADHESHYAM RATHIYA,Bharatiya Janata Party
7504,Chhattisgarh,RAIGARH(2),lost,567884,( -240391),DR. MENKA DEVI SINGH,Indian National Congress
7505,Chhattisgarh,RAIGARH(2),lost,15600,( -792675),INNOCENT KUJUR - BIDANA ORAON,Bahujan Samaj Party
7506,Chhattisgarh,RAIGARH(2),lost,10959,( -797316),ALBERT MING,Hamar Raj Party
7507,Chhattisgarh,RAIGARH(2),lost,7722,( -800553),PRAKASH KUMAR URANW,Independent
7508,Chhattisgarh,RAIGARH(2),lost,7420,( -800855),RUPNARAYAN EKKA,Independent
7509,Chhattisgarh,RAIGARH(2),lost,4593,( -803682),GOWARDHAN RATHIA,Independent
7510,Chhattisgarh,RAIGARH(2),lost,4167,( -804108),POOJA SIDAR,Independent
7511,Chhattisgarh,RAIGARH(2),lost,3015,( -805260),MADAN PRASAD GOND,Gondvana Gantantra Party
7512,Chhattisgarh,RAIGARH(2),lost,2626,( -805649),GULESHWAR PAINKRA,Bhartiya Shakti Chetna Party
7513,Chhattisgarh,RAIGARH(2),lost,2129,( -806146),UDAY KUMAR RATHIA,Independent
7514,Chhattisgarh,RAIGARH(2),lost,1825,( -806450),ABHAY KUMAR EKKA,Independent
7515,Chhattisgarh,RAIGARH(2),lost,1728,( -806547),BADAL EKKA,Sarv Adi Dal
7516,Chhattisgarh,RAIGARH(2),,15022,( -793253),NOTA,None of the Above
7517,Chhattisgarh,SURGUJA(1),won,713200,(+ 64822),CHINTAMANI MAHARAJ,Bharatiya Janata Party
7518,Chhattisgarh,SURGUJA(1),lost,648378,( -64822),SHASHI SINGH KORAM,Indian National Congress
7519,Chhattisgarh,SURGUJA(1),lost,15651,( -697549),DR. L. S. UDAY SINGH,Gondvana Gantantra Party
7520,Chhattisgarh,SURGUJA(1),lost,15199,( -698001),SANJAY KUMAR,Bahujan Samaj Party
7521,Chhattisgarh,SURGUJA(1),lost,10861,( -702339),RAMADHAR SINGH,Independent
7522,Chhattisgarh,SURGUJA(1),lost,6815,( -706385),PRINCE ABHISHEK KUJUR,Independent
7523,Chhattisgarh,SURGUJA(1),lost,5784,( -707416),URMILA SINGH,Independent
7524,Chhattisgarh,SURGUJA(1),lost,4184,( -709016),ARVIND KACHHAP,Independent
7525,Chhattisgarh,SURGUJA(1),lost,4016,( -709184),KANTA MINJ,Akhil Bhartiya Parivar Party
7526,Chhattisgarh,SURGUJA(1),lost,3060,( -710140),JEROME MINJ,Bharat Adivasi Party
7527,Chhattisgarh,SURGUJA(1),,28121,( -685079),NOTA,None of the Above
7528,Bihar,Munger(28),won,550146,(+ 80870),RAJIV RANJAN SINGH ALIAS LALAN SINGH,Janata Dal  (United)
7529,Bihar,Munger(28),lost,469276,( -80870),KUMARI ANITA,Rashtriya Janata Dal
7530,Bihar,Munger(28),lost,21023,( -529123),SHANKAR PRASAD BIND,Independent
7531,Bihar,Munger(28),lost,15731,( -534415),PRIYADARSHI PIYUSH,Independent
7532,Bihar,Munger(28),lost,13825,( -536321),A. K. SINGH ‘ASHOK’,Independent
7533,Bihar,Munger(28),lost,12280,( -537866),KUMAR NAVNEET HIMANSHU,Bahujan Samaj Party
7534,Bihar,Munger(28),lost,9486,( -540660),KULDIP YADAV,Hindustan People's Party (Democratic)
7535,Bihar,Munger(28),lost,7507,( -542639),NEETISH KUMAR,Independent
7536,Bihar,Munger(28),lost,5375,( -544771),PRAVAL KUMAR,Independent
7537,Bihar,Munger(28),lost,4913,( -545233),RAVINDRA MANDAL,Socialist Unity Centre Of India (COMMUNIST)
7538,Bihar,Munger(28),lost,4140,( -546006),ADITYA SINGH MADHUKAR,Independent
7539,Bihar,Munger(28),lost,3428,( -546718),PANKAJ KUMAR,Independent
7540,Bihar,Munger(28),,21951,( -528195),NOTA,None of the Above
7541,Bihar,Banka(27),won,506678,(+ 103844),GIRIDHARI YADAV,Janata Dal  (United)
7542,Bihar,Banka(27),lost,402834,( -103844),JAI PRAKASH NARAYAN YADAV,Rashtriya Janata Dal
7543,Bihar,Banka(27),lost,14939,( -491739),NARESH YADAV,Independent
7544,Bihar,Banka(27),lost,12277,( -494401),JAY PRAKASH YADAV,Rashtriya Jansambhavna Party
7545,Bihar,Banka(27),lost,9670,( -497008),AMRIT TANTI,Bhartiya Dalit Party
7546,Bihar,Banka(27),lost,8125,( -498553),NARESH KUMAR PRIYADARSHI,Independent
7547,Bihar,Banka(27),lost,7645,( -499033),GANESH KUMAR KUSHAWAHA,Samata Party
7548,Bihar,Banka(27),lost,6911,( -499767),UTTAM KUMAR SINGH,Aam Janta Party Rashtriya
7549,Bihar,Banka(27),lost,5246,( -501432),KAVINDRA PANDIT,Socialist Unity Centre Of India (COMMUNIST)
7550,Bihar,Banka(27),lost,4941,( -501737),UMAKANT YADAV,Independent
7551,Bihar,Banka(27),,34889,( -471789),NOTA,None of the Above
7552,Bihar,Bhagalpur(26),won,536031,(+ 104868),AJAY KUMAR MANDAL,Janata Dal  (United)
7553,Bihar,Bhagalpur(26),lost,431163,( -104868),AJEET SHARMA,Indian National Congress
7554,Bihar,Bhagalpur(26),lost,12646,( -523385),POONAM SINGH,Bahujan Samaj Party
7555,Bihar,Bhagalpur(26),lost,12258,( -523773),HARERAM YADAV,Independent
7556,Bihar,Bhagalpur(26),lost,7670,( -528361),DEEPAK KUMAR SINGH,Rashtriya Jansambhavna Party
7557,Bihar,Bhagalpur(26),lost,6683,( -529348),CHHOTE LAL KUMAR,Independent
7558,Bihar,Bhagalpur(26),lost,6634,( -529397),RAMESH TUDU,Independent
7559,Bihar,Bhagalpur(26),lost,5126,( -530905),UMESH PRASAD YADAV,Peoples Party of India (Democratic)
7560,Bihar,Bhagalpur(26),lost,3763,( -532268),DEEPAK KUMAR,Socialist Unity Centre Of India (COMMUNIST)
7561,Bihar,Bhagalpur(26),lost,3681,( -532350),MUKESH KUMAR,Akhil Bhartiya Parivar Party
7562,Bihar,Bhagalpur(26),lost,3519,( -532512),DAYARAM MANDAL,Lok Sewa Dal
7563,Bihar,Bhagalpur(26),lost,3104,( -532927),OM PRAKASH PODDAR,Independent
7564,Bihar,Bhagalpur(26),,31803,( -504228),NOTA,None of the Above
7565,Bihar,Siwan(18),won,386508,(+ 92857),VIJAYLAKSHMI DEVI,Janata Dal  (United)
7566,Bihar,Siwan(18),lost,293651,( -92857),HENA SHAHAB,Independent
7567,Bihar,Siwan(18),lost,198823,( -187685),AWADH BIHARI CHOUDHARY,Rashtriya Janata Dal
7568,Bihar,Siwan(18),lost,21565,( -364943),SATYENDRA KUSHWAHA,Independent
7569,Bihar,Siwan(18),lost,18590,( -367918),JEEWAN KUMAR,Independent
7570,Bihar,Siwan(18),lost,12112,( -374396),DILIP KU SINGH,Bahujan Samaj Party
7571,Bihar,Siwan(18),lost,8879,( -377629),SANJAY KUMAR SAH,Bhartiya Lok Nayak Party
7572,Bihar,Siwan(18),lost,8693,( -377815),DR. RAVINDRA NATH SHUKLA,Independent
7573,Bihar,Siwan(18),lost,6181,( -380327),DEVKANT MISHRA,Independent
7574,Bihar,Siwan(18),lost,5668,( -380840),PRAMOD KUMAR,Independent
7575,Bihar,Siwan(18),lost,4509,( -381999),PRAKASH MANI TIWARI,Independent
7576,Bihar,Siwan(18),lost,3922,( -382586),MAHENDRA SINGH ALIAS MAHENDRA RAI,Independent
7577,Bihar,Siwan(18),lost,1953,( -384555),DILIP KUMAR SINGH,Independent
7578,Bihar,Siwan(18),,26964,( -359544),NOTA,None of the Above
7579,Bihar,Gopalganj(17),won,511866,(+ 127180),DR. ALOK KUMAR SUMAN,Janata Dal  (United)
7580,Bihar,Gopalganj(17),lost,384686,( -127180),PREM NATH CHANCHAL ALIAS CHANCHAL PASWAN,Vikassheel Insaan Party
7581,Bihar,Gopalganj(17),lost,29992,( -481874),DINANATH MANJHI,All India Majlis-E-Ittehadul Muslimeen
7582,Bihar,Gopalganj(17),lost,29272,( -482594),SUJEET KUMAR RAM,Bahujan Samaj Party
7583,Bihar,Gopalganj(17),lost,13002,( -498864),ANIL RAM,Independent
7584,Bihar,Gopalganj(17),lost,12269,( -499597),SATYENDRA BAITHA,Independent
7585,Bihar,Gopalganj(17),lost,11140,( -500726),BHOLA HARIJAN,Independent
7586,Bihar,Gopalganj(17),lost,8540,( -503326),RAM KUMAR MANJHI,Gana Suraksha Party
7587,Bihar,Gopalganj(17),lost,6716,( -505150),NAMI RAM,Independent
7588,Bihar,Gopalganj(17),lost,6712,( -505154),SURENDRA RAM,Bhartiya Rashtriya Dal
7589,Bihar,Gopalganj(17),lost,5969,( -505897),JITENDRA RAM,Bahujan Mukti Party
7590,Bihar,Gopalganj(17),,42863,( -469003),NOTA,None of the Above
7591,Bihar,Madhepura(13),won,640649,(+ 174534),DINESH CHANDRA YADAV,Janata Dal  (United)
7592,Bihar,Madhepura(13),lost,466115,( -174534),DA KUMAR CHANDRADEEP,Rashtriya Janata Dal
7593,Bihar,Madhepura(13),lost,15434,( -625215),SURESHWAR PODDAR,Aadarsh Mithila Party
7594,Bihar,Madhepura(13),lost,12991,( -627658),MD ARSHAD HUSSAIN,Bahujan Samaj Party
7595,Bihar,Madhepura(13),lost,11322,( -629327),JAWAHAR LAL JAISWAL,Socialist Unity Centre Of India (COMMUNIST)
7596,Bihar,Madhepura(13),lost,11149,( -629500),UCHESHWAR PANDIT,Samajhdar Party
7597,Bihar,Madhepura(13),lost,10674,( -629975),PRO KAMESHWAR YADAV,Bharatiya Jan Kranti Dal (Democratic)
7598,Bihar,Madhepura(13),lost,8736,( -631913),AJABLAL MEHTA,Yuva Krantikari Party
7599,Bihar,Madhepura(13),,32625,( -608024),NOTA,None of the Above
7600,Bihar,Supaul(8),won,595038,(+ 169803),DILESHWAR KAMAIT,Janata Dal  (United)
7601,Bihar,Supaul(8),lost,425235,( -169803),CHANDRAHAS CHAUPAL,Rashtriya Janata Dal
7602,Bihar,Supaul(8),lost,51652,( -543386),BAIDYA NATH MEHTA,Independent
7603,Bihar,Supaul(8),lost,27454,( -567584),YOG NARAYAN SINGH,Independent
7604,Bihar,Supaul(8),lost,18457,( -576581),VINDESHWARI PRASAD,Independent
7605,Bihar,Supaul(8),lost,18079,( -576959),KIRAN DEVI,Bahujan Samaj Party
7606,Bihar,Supaul(8),lost,14078,( -580960),MOHD KALIM KHAN,Rashtriya Jansambhavna Party
7607,Bihar,Supaul(8),lost,13014,( -582024),UMESH PRASAD SAH,Jai Hind Party
7608,Bihar,Supaul(8),lost,10806,( -584232),RAJ KUMAR YADAV,Viro Ke Vir Indian Party
7609,Bihar,Supaul(8),lost,9451,( -585587),RAMESH KUMAR ANAND,"Proutist Bloc, India"
7610,Bihar,Supaul(8),lost,7194,( -587844),ABDUL MATIN,Independent
7611,Bihar,Supaul(8),lost,7006,( -588032),BAMBAM KUMAR,Independent
7612,Bihar,Supaul(8),lost,5915,( -589123),NITISH KUMAR,Independent
7613,Bihar,Supaul(8),lost,5351,( -589687),AJAY KUMAR SAH,Independent
7614,Bihar,Supaul(8),lost,3772,( -591266),SHIV HARI AGRAWAL,Bharat Nirman Party
7615,Bihar,Supaul(8),,18612,( -576426),NOTA,None of the Above
7616,Bihar,Jhanjharpur(7),won,533032,(+ 184169),RAMPRIT MANDAL,Janata Dal  (United)
7617,Bihar,Jhanjharpur(7),lost,348863,( -184169),SUMAN KUMAR MAHASETH,Vikassheel Insaan Party
7618,Bihar,Jhanjharpur(7),lost,73884,( -459148),GULAB YADAV,Bahujan Samaj Party
7619,Bihar,Jhanjharpur(7),lost,26010,( -507022),RAM PRASAD RAUT,Independent
7620,Bihar,Jhanjharpur(7),lost,18074,( -514958),GANGA PRASAD YADAV,Independent
7621,Bihar,Jhanjharpur(7),lost,14325,( -518707),GAURI SHANKAR SAHU,Independent
7622,Bihar,Jhanjharpur(7),lost,12513,( -520519),RAJIV KUMAR JHA,Independent
7623,Bihar,Jhanjharpur(7),lost,11673,( -521359),BABLU KUMAR,Aadarsh Mithila Party
7624,Bihar,Jhanjharpur(7),lost,10862,( -522170),VIDYA NAND RAM,Wazib Adhikar Party
7625,Bihar,Jhanjharpur(7),lost,8577,( -524455),VIJAY KUMAR MANDAL,Socialist Unity Centre Of India (COMMUNIST)
7626,Bihar,Jhanjharpur(7),,35928,( -497104),NOTA,None of the Above
7627,Bihar,Sitamarhi(5),won,515719,(+ 51356),DEVESH CHANDRA THAKUR,Janata Dal  (United)
7628,Bihar,Sitamarhi(5),lost,464363,( -51356),ARJUN RAY,Rashtriya Janata Dal
7629,Bihar,Sitamarhi(5),lost,28912,( -486807),SAIQUA NAWAZ AZMAT,Independent
7630,Bihar,Sitamarhi(5),lost,11188,( -504531),SHYAM NANDAN KISHOR PRASAD,Independent
7631,Bihar,Sitamarhi(5),lost,8810,( -506909),BHOLA SINGH,Bahujan Samaj Party
7632,Bihar,Sitamarhi(5),lost,8454,( -507265),UPENDRA SAHANI,Rashtriya Jansambhavna Party
7633,Bihar,Sitamarhi(5),lost,7114,( -508605),CHANDRIKA PRASAD,Independent
7634,Bihar,Sitamarhi(5),lost,4481,( -511238),VINOD SAH,Independent
7635,Bihar,Sitamarhi(5),lost,3280,( -512439),KRISHNA KISHORE,Independent
7636,Bihar,Sitamarhi(5),lost,2192,( -513527),MUSHAHID RAZA,Desh Janhit Party
7637,Bihar,Sitamarhi(5),lost,2128,( -513591),UMESH KUMAR YADAV,Independent
7638,Bihar,Sitamarhi(5),lost,1981,( -513738),RAJENDRA MAHTO,Karpoori Janta Dal
7639,Bihar,Sitamarhi(5),lost,1796,( -513923),ANAND KUMAR,Independent
7640,Bihar,Sitamarhi(5),lost,1441,( -514278),ABDUL SAMAD,Independent
7641,Bihar,Sitamarhi(5),,32133,( -483586),NOTA,None of the Above
7642,Bihar,Sheohar(4),won,476612,(+ 29143),LOVELY ANAND,Janata Dal  (United)
7643,Bihar,Sheohar(4),lost,447469,( -29143),RITU JAISWAL,Rashtriya Janata Dal
7644,Bihar,Sheohar(4),lost,29094,( -447518),AKHILESHWAR SHRIVAISHANV,Independent
7645,Bihar,Sheohar(4),lost,20592,( -456020),KANHAIYA KUMAR,Independent
7646,Bihar,Sheohar(4),lost,11979,( -464633),RANA RANJIT,All India Majlis-E-Ittehadul Muslimeen
7647,Bihar,Sheohar(4),lost,9102,( -467510),SUDHIR KUMAR SINGH,Viro Ke Vir Indian Party
7648,Bihar,Sheohar(4),lost,8888,( -467724),VIJENDRA THAKUR,Bahujan Samaj Party
7649,Bihar,Sheohar(4),lost,6338,( -470274),UPENDRA SAHANI,Rashtriya Jansambhavna Party
7650,Bihar,Sheohar(4),lost,5435,( -471177),MAMTA KUMARI,Samata Party
7651,Bihar,Sheohar(4),lost,4871,( -471741),MOHAMMAD MAHTAB ALAM,Samaj Shakti Party
7652,Bihar,Sheohar(4),lost,2955,( -473657),JAGDISH PRASAD,Bajjikanchal Vikas Party
7653,Bihar,Sheohar(4),lost,2099,( -474513),DILIP KUMAR MISHRA,Prabal Bharat Party
7654,Bihar,Sheohar(4),,30168,( -446444),NOTA,None of the Above
7655,Bihar,Valmiki Nagar (1),won,523422,(+ 98675),SUNIL KUMAR,Janata Dal  (United)
7656,Bihar,Valmiki Nagar (1),lost,424747,( -98675),DEEPAK YADAV,Rashtriya Janata Dal
7657,Bihar,Valmiki Nagar (1),lost,23225,( -500197),PRAVESH KUMAR MISHRA @ ANUP,Independent
7658,Bihar,Valmiki Nagar (1),lost,19810,( -503612),DINESH AGRAWAL,Independent
7659,Bihar,Valmiki Nagar (1),lost,18816,( -504606),DURGESH SINGH CHAUHAN,Bahujan Samaj Party
7660,Bihar,Valmiki Nagar (1),lost,13598,( -509824),CHANDRESHWAR MISHRA,Independent
7661,Bihar,Valmiki Nagar (1),lost,13432,( -509990),SHAFI MOHAMMAD MIYA,Aazad Samaj Party (Kanshi Ram)
7662,Bihar,Valmiki Nagar (1),lost,12150,( -511272),PARSHURAM SAH,Independent
7663,Bihar,Valmiki Nagar (1),lost,11423,( -511999),NABA KUMAR SARANIA (HIRA BHAI),Gana Suraksha Party
7664,Bihar,Valmiki Nagar (1),lost,10498,( -512924),SHAMBHU PRASAD,Independent
7665,Bihar,Valmiki Nagar (1),,30709,( -492713),NOTA,None of the Above
7666,Bihar,Patna Sahib(30),won,588270,(+ 153846),RAVI SHANKAR PRASAD,Bharatiya Janata Party
7667,Bihar,Patna Sahib(30),lost,434424,( -153846),ANSHUL AVIJIT,Indian National Congress
7668,Bihar,Patna Sahib(30),lost,9943,( -578327),RAKESH SHARMA,Independent
7669,Bihar,Patna Sahib(30),lost,5928,( -582342),NEERAJ KUMAR,Bahujan Samaj Party
7670,Bihar,Patna Sahib(30),lost,4974,( -583296),AWADHESH PRASAD,Independent
7671,Bihar,Patna Sahib(30),lost,4672,( -583598),ENG UMESH RAJAK,Peoples Party of India (Democratic)
7672,Bihar,Patna Sahib(30),lost,4643,( -583627),SANJAY KUMAR URF SANJAY BALMIKI,Independent
7673,Bihar,Patna Sahib(30),lost,2416,( -585854),DHARMVIR KUMAR BHASKAR,Independent
7674,Bihar,Patna Sahib(30),lost,2053,( -586217),AMIT KUMAR ALBELA,Independent
7675,Bihar,Patna Sahib(30),lost,2003,( -586267),MAHESH KUMAR,Samata Party
7676,Bihar,Patna Sahib(30),lost,1971,( -586299),DHANJAY KUMAR,Rashtriya Jansambhavna Party
7677,Bihar,Patna Sahib(30),lost,1925,( -586345),GULAB PRASAD,Loktantrik Samajwadi Party
7678,Bihar,Patna Sahib(30),lost,1716,( -586554),SUMIT RANJAN SINHA,Akhand Bharat Janpriya Party
7679,Bihar,Patna Sahib(30),lost,1638,( -586632),MAHBOOB ALAM ANSARI,Bharatiya Momin Front
7680,Bihar,Patna Sahib(30),lost,1240,( -587030),DR RAKESH DUTTA MISHRA,Bharatiya Jan Kranti Dal (Democratic)
7681,Bihar,Patna Sahib(30),lost,1078,( -587192),SAROJ KUMAR SUMAN,Socialist Unity Centre Of India (COMMUNIST)
7682,Bihar,Patna Sahib(30),lost,1043,( -587227),SHAHID ALAM,Jantantra Awaj Party
7683,Bihar,Patna Sahib(30),,5559,( -582711),NOTA,None of the Above
7684,Bihar,Begusarai(24),won,649331,(+ 81480),GIRIRAJ SINGH,Bharatiya Janata Party
7685,Bihar,Begusarai(24),lost,567851,( -81480),ABDHESH KUMAR ROY,Communist Party of India
7686,Bihar,Begusarai(24),lost,12953,( -636378),INDRAJEET KUMAR ROY,Independent
7687,Bihar,Begusarai(24),lost,10872,( -638459),RAJNISH KUMAR MUKHIYA,Rashtriya Jansambhavna Party
7688,Bihar,Begusarai(24),lost,8453,( -640878),ADV CHANDAN KUMAR DAS,Bahujan Samaj Party
7689,Bihar,Begusarai(24),lost,6644,( -642687),RAM BADAN RAI,Karpoori Janta Dal
7690,Bihar,Begusarai(24),lost,6152,( -643179),MD SHAHNAWAZ HASSAN,Independent
7691,Bihar,Begusarai(24),lost,4045,( -645286),ARUN KUMAR,Independent
7692,Bihar,Begusarai(24),lost,3350,( -645981),RAJ KUMAR SAH,Akhil Bhartiya Parivar Party
7693,Bihar,Begusarai(24),lost,2640,( -646691),RAMUDGAR,Socialist Unity Centre Of India (COMMUNIST)
7694,Bihar,Begusarai(24),,22382,( -626949),NOTA,None of the Above
7695,Bihar,Ujiarpur(22),won,515965,(+ 60102),NITYANAND RAI,Bharatiya Janata Party
7696,Bihar,Ujiarpur(22),lost,455863,( -60102),ALOK KUMAR MEHTA,Rashtriya Janata Dal
7697,Bihar,Ujiarpur(22),lost,16963,( -499002),SANJAY PASWAN,Independent
7698,Bihar,Ujiarpur(22),lost,7101,( -508864),MOHAN KUMAR MAURYA,Bahujan Samaj Party
7699,Bihar,Ujiarpur(22),lost,5957,( -510008),RAKESH KUMAR,Independent
7700,Bihar,Ujiarpur(22),lost,4426,( -511539),SANTHOSH RAI,Rashtriya Jansambhavna Party
7701,Bihar,Ujiarpur(22),lost,3151,( -512814),NARENDRA GIRI,Independent
7702,Bihar,Ujiarpur(22),lost,2209,( -513756),KISHOR KUMAR,Independent
7703,Bihar,Ujiarpur(22),lost,2143,( -513822),AMARESH RAY,Independent
7704,Bihar,Ujiarpur(22),lost,1756,( -514209),ANSHU KUMAR,Subhashwadi Bhartiya Samajwadi Party (Subhas Party)
7705,Bihar,Ujiarpur(22),lost,1306,( -514659),RAMPUKAR RAY,Socialist Unity Centre Of India (COMMUNIST)
7706,Bihar,Ujiarpur(22),lost,1020,( -514945),NIKKI JHA,Jagrook Janta Party
7707,Bihar,Ujiarpur(22),lost,939,( -515026),MANOJ KUMAR,Janta Raj Vikas Party
7708,Bihar,Ujiarpur(22),,23269,( -492696),NOTA,None of the Above
7709,Bihar,Saran(20),won,471752,(+ 13661),RAJIV PRATAP RUDY,Bharatiya Janata Party
7710,Bihar,Saran(20),lost,458091,( -13661),ROHINI ACHARYA,Rashtriya Janata Dal
7711,Bihar,Saran(20),lost,22043,( -449709),LAXAMAN PRAO YADAV,Independent
7712,Bihar,Saran(20),lost,16103,( -455649),SHAK NAUSHAD,Independent
7713,Bihar,Saran(20),lost,14770,( -456982),AVINASH KUMAR,Bahujan Samaj Party
7714,Bihar,Saran(20),lost,5167,( -466585),RAGHWENDRA PRATAP SINGH,Independent
7715,Bihar,Saran(20),lost,5030,( -466722),GAJENDRA PRASAD CHAURSIYA,Janhit Kisan Party
7716,Bihar,Saran(20),lost,3687,( -468065),SHATRUDHAN TIWARY,Bhartiya Sarthak Party
7717,Bihar,Saran(20),lost,3151,( -468601),MOHAMAD SALIM,Independent
7718,Bihar,Saran(20),lost,3023,( -468729),ARTI KUMARI,Independent
7719,Bihar,Saran(20),lost,2306,( -469446),PRABHAT KUMAR,Independent
7720,Bihar,Saran(20),lost,1775,( -469977),BARUN KUMAR DAS,Gana Suraksha Party
7721,Bihar,Saran(20),lost,1704,( -470048),GYANI KUMAR SHARMA,Bharatiya Ekta Dal
7722,Bihar,Saran(20),lost,1489,( -470263),RAJESH KUSHWAHA,Bhartiya Lok Chetna Party
7723,Bihar,Saran(20),,11417,( -460335),NOTA,None of the Above
7724,Bihar,Maharajganj(19),won,529533,(+ 102651),"JANARDAN SINGH ""SIGRIWAL""",Bharatiya Janata Party
7725,Bihar,Maharajganj(19),lost,426882,( -102651),AAKASH KUMAR SINGH,Indian National Congress
7726,Bihar,Maharajganj(19),lost,14838,( -514695),TRIBHUWAN RAM,Peoples Party of India (Democratic)
7727,Bihar,Maharajganj(19),lost,13402,( -516131),MADHUSUDAN SINGH,Bahujan Samaj Party
7728,Bihar,Maharajganj(19),lost,7767,( -521766),AKHILESHWAR PRASAD SINGH,All India Majlis-E-Ittehadul Muslimeen
7729,Bihar,Maharajganj(19),,21687,( -507846),NOTA,None of the Above
7730,Bihar,Muzaffarpur(15),won,619749,(+ 234927),RAJ BHUSHAN CHOUDHARY,Bharatiya Janata Party
7731,Bihar,Muzaffarpur(15),lost,384822,( -234927),AJAY NISHAD,Indian National Congress
7732,Bihar,Muzaffarpur(15),lost,17225,( -602524),ALOK KUMAR SINH,Independent
7733,Bihar,Muzaffarpur(15),lost,15618,( -604131),AWADHESH PRASAD SINGH,Independent
7734,Bihar,Muzaffarpur(15),lost,8700,( -611049),JITENDRA KUMAR,Independent
7735,Bihar,Muzaffarpur(15),lost,7310,( -612439),NILIMA KUMARI,Independent
7736,Bihar,Muzaffarpur(15),lost,6547,( -613202),VIJAYESH KUMAR,Bahujan Samaj Party
7737,Bihar,Muzaffarpur(15),lost,5158,( -614591),AJAY SAHNI,Independent
7738,Bihar,Muzaffarpur(15),lost,4792,( -614957),SUNITA KUMARI,Bajjikanchal Vikas Party
7739,Bihar,Muzaffarpur(15),lost,4131,( -615618),MOHAMMAD ANZARUL HASAN,All India Majlis-E-Ittehadul Muslimeen
7740,Bihar,Muzaffarpur(15),lost,3897,( -615852),MD HAIDAR,Independent
7741,Bihar,Muzaffarpur(15),lost,3225,( -616524),MUKESH KUMAR,Independent
7742,Bihar,Muzaffarpur(15),lost,2893,( -616856),SUDHIR KUMAR OJHA,Bhartiya Sarthak Party
7743,Bihar,Muzaffarpur(15),lost,2453,( -617296),SABINA KHATOON,Indian National League
7744,Bihar,Muzaffarpur(15),lost,1971,( -617778),SANDIP KUMAR,Jantantra Awaj Party
7745,Bihar,Muzaffarpur(15),lost,1857,( -617892),ARVIND KUMAR CHAUDHARY,Socialist Unity Centre Of India (COMMUNIST)
7746,Bihar,Muzaffarpur(15),lost,1843,( -617906),AJITANSH GAUR,The Agrani Party
7747,Bihar,Muzaffarpur(15),lost,1812,( -617937),SANJAY KUMAR,Independent
7748,Bihar,Muzaffarpur(15),lost,1779,( -617970),BASKIT KUMAR SHARMA,Independent
7749,Bihar,Muzaffarpur(15),lost,1731,( -618018),SONELAL PASWAN,Independent
7750,Bihar,Muzaffarpur(15),lost,1598,( -618151),MANORANJAN KUMAR,Independent
7751,Bihar,Muzaffarpur(15),lost,1522,( -618227),NAND KISHORE SHARMA,Apna Kisan Party
7752,Bihar,Muzaffarpur(15),lost,1174,( -618575),ABHAY KUMAR,Samata Party
7753,Bihar,Muzaffarpur(15),lost,1116,( -618633),PRABHAKAR RANJAN,Ekam Sanatan Bharat Dal
7754,Bihar,Muzaffarpur(15),lost,984,( -618765),RAJU SINGH,Independent
7755,Bihar,Muzaffarpur(15),lost,965,( -618784),SAROJ KUMAR CHAUDHARY,Independent
7756,Bihar,Muzaffarpur(15),,7588,( -612161),NOTA,None of the Above
7757,Bihar,Darbhanga(14),won,566630,(+ 178156),GOPAL JEE THAKUR,Bharatiya Janata Party
7758,Bihar,Darbhanga(14),lost,388474,( -178156),LALIT KUMAR YADAV,Rashtriya Janata Dal
7759,Bihar,Darbhanga(14),lost,18025,( -548605),SAROJ CHAUDHARY,Mithilanchal Mukti Morcha
7760,Bihar,Darbhanga(14),lost,8268,( -558362),DURGANANDA MAHAVIR NAYAK,Bahujan Samaj Party
7761,Bihar,Darbhanga(14),lost,6992,( -559638),MITHILESH MAHTO,Independent
7762,Bihar,Darbhanga(14),lost,5721,( -560909),KISHOR KUMAR DAS,Akhil Bhartiya Parivar Party
7763,Bihar,Darbhanga(14),lost,3638,( -562992),RAJNISH KUMAR,Jantantra Awaj Party
7764,Bihar,Darbhanga(14),lost,2532,( -564098),RANJEET KUMAR RAM,Wazib Adhikar Party
7765,Bihar,Darbhanga(14),,23904,( -542726),NOTA,None of the Above
7766,Bihar,Araria(9),won,600146,(+ 20094),PRADEEP KUMAR SINGH,Bharatiya Janata Party
7767,Bihar,Araria(9),lost,580052,( -20094),SHAHNAWAZ,Rashtriya Janata Dal
7768,Bihar,Araria(9),lost,13746,( -586400),SHATRUGHAN PRASAD SUMAN,Independent
7769,Bihar,Araria(9),lost,12690,( -587456),MD GHOUSUL AZAM,Bahujan Samaj Party
7770,Bihar,Araria(9),lost,12008,( -588138),MD. MOBINUL HAQUE,Independent
7771,Bihar,Araria(9),lost,7354,( -592792),MD. ISMAIL,Bharatiya Momin Front
7772,Bihar,Araria(9),lost,5120,( -595026),AKHILESH KUMAR,Independent
7773,Bihar,Araria(9),lost,4899,( -595247),MUSHTAK ALAM,Independent
7774,Bihar,Araria(9),lost,3041,( -597105),ZAWED AKHTAR,The National Road Map Party of India
7775,Bihar,Araria(9),,13504,( -586642),NOTA,None of the Above
7776,Bihar,Madhubani(6),won,553428,(+ 151945),ASHOK KUMAR YADAV,Bharatiya Janata Party
7777,Bihar,Madhubani(6),lost,401483,( -151945),MD ALI ASHRAF FATMI,Rashtriya Janata Dal
7778,Bihar,Madhubani(6),lost,13370,( -540058),SHIV BODHAN SAHU,Independent
7779,Bihar,Madhubani(6),lost,7223,( -546205),BIKASH KUMAR,Bahujan Samaj Party
7780,Bihar,Madhubani(6),lost,7050,( -546378),PRIYE RANJAN,Independent
7781,Bihar,Madhubani(6),lost,4983,( -548445),VAIDYANATH YADAV,Peoples Party of India (Democratic)
7782,Bihar,Madhubani(6),lost,4623,( -548805),SARFARAJ ALAM,Akhil Bhartiya Parivar Party
7783,Bihar,Madhubani(6),lost,4498,( -548930),MD WAQUAR SIDDIQUI,All India Majlis-E-Ittehadul Muslimeen
7784,Bihar,Madhubani(6),lost,4464,( -548964),MOHAN SHARMA,Rashtriya Jansambhavna Party
7785,Bihar,Madhubani(6),lost,2097,( -551331),ABU BAKAR RAHMANI,Country Citizen Party
7786,Bihar,Madhubani(6),lost,2007,( -551421),UDAY MANDAL,Samata Party
7787,Bihar,Madhubani(6),lost,1783,( -551645),KUL BHUSHAN PRASAD,Loktantrik Lok Rajyam Party
7788,Bihar,Madhubani(6),,20719,( -532709),NOTA,None of the Above
7789,Bihar,Purvi Champaran(3),won,542193,(+ 88287),RADHA MOHAN SINGH,Bharatiya Janata Party
7790,Bihar,Purvi Champaran(3),lost,453906,( -88287),DR RAJESH KUMAR,Vikassheel Insaan Party
7791,Bihar,Purvi Champaran(3),lost,13047,( -529146),MOHAMMAD AJMER ALAM,Independent
7792,Bihar,Purvi Champaran(3),lost,8185,( -534008),VIJAY KUMAR SAHANI,Rashtriya Jansambhavna Party
7793,Bihar,Purvi Champaran(3),lost,7182,( -535011),RAJESH SINGH,Independent
7794,Bihar,Purvi Champaran(3),lost,7008,( -535185),GYANTI DEVI,Prabuddha Republican Party
7795,Bihar,Purvi Champaran(3),lost,4914,( -537279),PAWAN KUMAR,Bhartiya Sarthak Party
7796,Bihar,Purvi Champaran(3),lost,4022,( -538171),MUNESHWAR TIWARI,Independent
7797,Bihar,Purvi Champaran(3),lost,3934,( -538259),RAJESH KUMAR S/O GAGANLAL SAHNI,Independent
7798,Bihar,Purvi Champaran(3),lost,3492,( -538701),RAJESH KUMAR S/O VISHUN SAH,Independent
7799,Bihar,Purvi Champaran(3),lost,3464,( -538729),NAWAL KISHOR PRASAD,Viro Ke Vir Indian Party
7800,Bihar,Purvi Champaran(3),lost,2553,( -539640),NIKESH KUMAR,Independent
7801,Bihar,Purvi Champaran(3),,19788,( -522405),NOTA,None of the Above
7802,Bihar,Paschim Champaran(2),won,580421,(+ 136568),DR.SANJAY JAISWAL,Bharatiya Janata Party
7803,Bihar,Paschim Champaran(2),lost,443853,( -136568),MADAN MOHAN TIWARI,Indian National Congress
7804,Bihar,Paschim Champaran(2),lost,13145,( -567276),SANJAY KUMAR,Viro Ke Vir Indian Party
7805,Bihar,Paschim Champaran(2),lost,10962,( -569459),UPENDRA RAM,Bahujan Samaj Party
7806,Bihar,Paschim Champaran(2),lost,8994,( -571427),MOHAMMAD SOAIB,Independent
7807,Bihar,Paschim Champaran(2),lost,8505,( -571916),RAUSHAN KUMAR SRIVASTAVA,Independent
7808,Bihar,Paschim Champaran(2),lost,4925,( -575496),MD. KALAM SAI,Independent
7809,Bihar,Paschim Champaran(2),lost,4163,( -576258),NAFISH AHMAD,Independent
7810,Bihar,Paschim Champaran(2),,11288,( -569133),NOTA,None of the Above
7811,Bihar,Khagaria(25),won,538657,(+ 161131),RAJESH VERMA,Lok Janshakti Party(Ram Vilas)
7812,Bihar,Khagaria(25),lost,377526,( -161131),SANJAY KUMAR,Communist Party of India  (Marxist)
7813,Bihar,Khagaria(25),lost,27395,( -511262),RUPAM DEVI,Independent
7814,Bihar,Khagaria(25),lost,24483,( -514174),SONU KUMAR,Independent
7815,Bihar,Khagaria(25),lost,19495,( -519162),PINKESH KUMAR,Rashtriya Jan Kalyan Party Secular
7816,Bihar,Khagaria(25),lost,14053,( -524604),DR RAVI KUMAR,Bahujan Samaj Party
7817,Bihar,Khagaria(25),lost,8310,( -530347),AJAY KUMAR,Rashtriya Jansambhavna Party
7818,Bihar,Khagaria(25),lost,7904,( -530753),PRIYADARSHEE DINKAR,Independent
7819,Bihar,Khagaria(25),lost,6162,( -532495),DINANATH CHANDRAVANSHI,Independent
7820,Bihar,Khagaria(25),lost,2849,( -535808),CHANDRA KISHOR THAKUR,Aam Janta Party Rashtriya
7821,Bihar,Khagaria(25),lost,2443,( -536214),ASIF IMAM,Aadarsh Mithila Party
7822,Bihar,Khagaria(25),lost,1506,( -537151),KANCHAN MALA,Hindustan People's Party (Democratic)
7823,Bihar,Khagaria(25),,31111,( -507546),NOTA,None of the Above
7824,Bihar,Samastipur(23),won,579786,(+ 187251),SHAMBHAVI,Lok Janshakti Party(Ram Vilas)
7825,Bihar,Samastipur(23),lost,392535,( -187251),SUNNY HAZARI,Indian National Congress
7826,Bihar,Samastipur(23),lost,25957,( -553829),SHASHI BHUSHAN DAS,Independent
7827,Bihar,Samastipur(23),lost,16155,( -563631),RAVI RAUSHAN KUMAR,Independent
7828,Bihar,Samastipur(23),lost,12732,( -567054),RAM LAKHAN  MAHTO,Bahujan Samaj Party
7829,Bihar,Samastipur(23),lost,12437,( -567349),PINKU PASWAN,Rashtriya Jansambhavna Party
7830,Bihar,Samastipur(23),lost,5579,( -574207),MUKESH CHAUPAL,Independent
7831,Bihar,Samastipur(23),lost,4694,( -575092),JIBACHH KUMAR HAJARI,Independent
7832,Bihar,Samastipur(23),lost,3419,( -576367),RATAN BIHARI,Desh Janhit Party
7833,Bihar,Samastipur(23),lost,3112,( -576674),VIDYA NAND RAM,Wazib Adhikar Party
7834,Bihar,Samastipur(23),lost,2852,( -576934),AMRITA KUMARI,Independent
7835,Bihar,Samastipur(23),lost,2666,( -577120),LAL BABU MAHTO,Sathi Aur Aapka Faisala Party
7836,Bihar,Samastipur(23),,32668,( -547118),NOTA,None of the Above
7837,Bihar,Hajipur(21),won,615718,(+ 170105),CHIRAG PASWAN,Lok Janshakti Party(Ram Vilas)
7838,Bihar,Hajipur(21),lost,445613,( -170105),SHIV CHANDRA RAM,Rashtriya Janata Dal
7839,Bihar,Hajipur(21),lost,17245,( -598473),SURENDRA KUMAR PASWAN,Independent
7840,Bihar,Hajipur(21),lost,8679,( -607039),SHASHI SWARAJ,Bahujan Samaj Party
7841,Bihar,Hajipur(21),lost,7117,( -608601),HARIWANSH PASWAN,Independent
7842,Bihar,Hajipur(21),lost,6161,( -609557),SHAILENDRA KUMAR,Independent
7843,Bihar,Hajipur(21),lost,4721,( -610997),ASHOK KUMAR,Samata Party
7844,Bihar,Hajipur(21),lost,2675,( -613043),RANDHIR PASWAN,Independent
7845,Bihar,Hajipur(21),lost,1990,( -613728),RAJ KUMAR PASWAN,Yuva Bihar Sena
7846,Bihar,Hajipur(21),lost,1978,( -613740),DHARMENDRA KUMAR,Jantantra Awaj Party
7847,Bihar,Hajipur(21),lost,1801,( -613917),MADHUSUDHAN PASWAN,Independent
7848,Bihar,Hajipur(21),lost,1701,( -614017),RAJESH KUMAR RAUSHAN,Socialist Unity Centre Of India (COMMUNIST)
7849,Bihar,Hajipur(21),lost,1680,( -614038),MEGHNATH PASWAN,Independent
7850,Bihar,Hajipur(21),lost,1318,( -614400),BALENDRA DAS,Janshakti Janta Dal
7851,Bihar,Hajipur(21),,36927,( -578791),NOTA,None of the Above
7852,Bihar,Vaishali(16),won,567043,(+ 89634),VEENA DEVI,Lok Janshakti Party(Ram Vilas)
7853,Bihar,Vaishali(16),lost,477409,( -89634),VIJAY KUMAR SHUKLA,Rashtriya Janata Dal
7854,Bihar,Vaishali(16),lost,34256,( -532787),VIKKY KUMAR,Independent
7855,Bihar,Vaishali(16),lost,21436,( -545607),SHAMBHU KUMAR SINGH,Bahujan Samaj Party
7856,Bihar,Vaishali(16),lost,9616,( -557427),RAJ NARAYAN YADAV,Independent
7857,Bihar,Vaishali(16),lost,5317,( -561726),PARAMHANS SINGH,Independent
7858,Bihar,Vaishali(16),lost,5100,( -561943),HARI NARAYAN RAM,Viro Ke Vir Indian Party
7859,Bihar,Vaishali(16),lost,4150,( -562893),RAMESHWAR MAHTO,Bhartiya Sarthak Party
7860,Bihar,Vaishali(16),lost,3907,( -563136),KUMAR SHISHIR,Independent
7861,Bihar,Vaishali(16),lost,3758,( -563285),MUHAMAD AVAS,Independent
7862,Bihar,Vaishali(16),lost,3274,( -563769),ABHA RAY,Peoples Party of India (Democratic)
7863,Bihar,Vaishali(16),lost,3009,( -564034),NARESH RAM,Socialist Unity Centre Of India (COMMUNIST)
7864,Bihar,Vaishali(16),lost,2934,( -564109),VINOD KUMAR SHARMA,Jantantra Awaj Party
7865,Bihar,Vaishali(16),lost,2025,( -565018),ANIKET RAJ,Rashtriya Samaj Paksha
7866,Bihar,Vaishali(16),lost,1366,( -565677),BALENDRA TIWARY,Hindustan Janta Party Secular
7867,Bihar,Vaishali(16),,27460,( -539583),NOTA,None of the Above
7868,Bihar,Jahanabad(36),won,443035,(+ 142591),SURENDRA PRASAD YADAV,Rashtriya Janata Dal
7869,Bihar,Jahanabad(36),lost,300444,( -142591),CHANDESHWAR PRASAD,Janata Dal  (United)
7870,Bihar,Jahanabad(36),lost,86380,( -356655),ARUN KUMAR,Bahujan Samaj Party
7871,Bihar,Jahanabad(36),lost,16123,( -426912),MINTA DEVI,Independent
7872,Bihar,Jahanabad(36),lost,13213,( -429822),ASHUTOSH KUMAR,Rashtriya Jan Jan Party
7873,Bihar,Jahanabad(36),lost,13029,( -430006),MUNILAL YADAV,Independent
7874,Bihar,Jahanabad(36),lost,8970,( -434065),DEEPAK KUMAR,Jagrook Janta Party
7875,Bihar,Jahanabad(36),lost,5773,( -437262),BUDDHADEV SAV,Independent
7876,Bihar,Jahanabad(36),lost,5712,( -437323),NARESH KUMAR,Independent
7877,Bihar,Jahanabad(36),lost,5378,( -437657),CHANDESHWAR PRASAD,Independent
7878,Bihar,Jahanabad(36),lost,4618,( -438417),PIYUSH SINGH,Shoshit Samaj Dal
7879,Bihar,Jahanabad(36),lost,3243,( -439792),RAJ KISHOR SHARMA,Bhartiya Sarthak Party
7880,Bihar,Jahanabad(36),lost,2964,( -440071),KAPIL CHAUHAN,Jan Janwadi Party
7881,Bihar,Jahanabad(36),lost,2909,( -440126),ASHUTOSH VINAY KUMAR,Rashtriya Garib Dal
7882,Bihar,Jahanabad(36),lost,2524,( -440511),UMA SHANKAR VERMA,Socialist Unity Centre Of India (COMMUNIST)
7883,Bihar,Jahanabad(36),,11055,( -431980),NOTA,None of the Above
7884,Bihar,Buxar(33),won,438345,(+ 30091),SUDHAKAR SINGH,Rashtriya Janata Dal
7885,Bihar,Buxar(33),lost,408254,( -30091),MITHILESH TIWARI,Bharatiya Janata Party
7886,Bihar,Buxar(33),lost,114714,( -323631),ANIL KUMAR,Bahujan Samaj Party
7887,Bihar,Buxar(33),lost,47409,( -390936),ANAND MISHRA S/O- PARAM HANS MISHRA,Independent
7888,Bihar,Buxar(33),lost,15836,( -422509),DADAN YADAV,Independent
7889,Bihar,Buxar(33),lost,12749,( -425596),SUDHAKAR MISHRA,Independent
7890,Bihar,Buxar(33),lost,7759,( -430586),SUNIL KUMAR DUBY,Independent
7891,Bihar,Buxar(33),lost,5516,( -432829),RAM SWAROOP CHAUHAN,Independent
7892,Bihar,Buxar(33),lost,4339,( -434006),RAJU SINGH,Bahujan Mukti Party
7893,Bihar,Buxar(33),lost,2834,( -435511),AANAND MISRA S/O MADAN KUMAR MISRA,Independent
7894,Bihar,Buxar(33),lost,2053,( -436292),BHAGWAN SINGH YADAV,Independent
7895,Bihar,Buxar(33),lost,1669,( -436676),NIRANJAN KUMAR RAY,Independent
7896,Bihar,Buxar(33),lost,1570,( -436775),HEM LATA,Jagrook Janta Party
7897,Bihar,Buxar(33),lost,1095,( -437250),AKHILESH KUMAR PANDEY,Independent
7898,Bihar,Buxar(33),,9617,( -428728),NOTA,None of the Above
7899,Bihar,Patliputra(31),won,613283,(+ 85174),MISHA BHARTI,Rashtriya Janata Dal
7900,Bihar,Patliputra(31),lost,528109,( -85174),RAM KRIPAL YADAV,Bharatiya Janata Party
7901,Bihar,Patliputra(31),lost,15140,( -598143),DR S P SHARMA,Hindustan Vikas Dal
7902,Bihar,Patliputra(31),lost,10965,( -602318),HARIKESHWAR RAM,Bahujan Samaj Party
7903,Bihar,Patliputra(31),lost,10744,( -602539),VINDU DEVI,Rashtriya Jansambhavna Party
7904,Bihar,Patliputra(31),lost,9016,( -604267),SHIV KUMAR SINGH,Apna Kisan Party
7905,Bihar,Patliputra(31),lost,4753,( -608530),SANJAY KUMAR SINGH,Bhartiya Sarthak Party
7906,Bihar,Patliputra(31),lost,4023,( -609260),MD FAROOQUE RAZA,All India Majlis-E-Ittehadul Muslimeen
7907,Bihar,Patliputra(31),lost,3915,( -609368),RAM NIRANJAN ROY,Rashtrawadi Chetna Party
7908,Bihar,Patliputra(31),lost,3483,( -609800),MRITUNJAY KUMAR,Bhagidari Party(P)
7909,Bihar,Patliputra(31),lost,3106,( -610177),DURGESH NANDAN SINGH,Independent
7910,Bihar,Patliputra(31),lost,2051,( -611232),NAGESHWAR PRASAD,Peoples Party of India (Democratic)
7911,Bihar,Patliputra(31),lost,1979,( -611304),SUBHASH KUMAR,Bhartiya Lok Chetna Party
7912,Bihar,Patliputra(31),lost,1817,( -611466),NITESH KUMAR PATEL,Adarsh Jankalyan Dal
7913,Bihar,Patliputra(31),lost,1809,( -611474),RANJAN KUMAR,Independent
7914,Bihar,Patliputra(31),lost,1771,( -611512),NIRAJ KUMAR,Independent
7915,Bihar,Patliputra(31),lost,1614,( -611669),KUNAL KUMAR,Hamara Sahara Party
7916,Bihar,Patliputra(31),lost,1483,( -611800),KHUSHBOO KUMARI,Akhil Bhartiya Parivar Party
7917,Bihar,Patliputra(31),lost,1469,( -611814),ANIL DAS,Bhartiya Dalit Party
7918,Bihar,Patliputra(31),lost,1424,( -611859),ANIL KUMAR CHAND,Socialist Unity Centre Of India (COMMUNIST)
7919,Bihar,Patliputra(31),lost,1302,( -611981),MADHURI KUMARI,All India Forward Bloc
7920,Bihar,Patliputra(31),lost,1237,( -612046),JAWAHAR SINGH,Bhartiya Manavta Party
7921,Bihar,Patliputra(31),,5606,( -607677),NOTA,None of the Above
7922,Bihar,Katihar(11),won,567092,(+ 49863),TARIQ ANWAR,Indian National Congress
7923,Bihar,Katihar(11),lost,517229,( -49863),DULAL CHANDRA GOSWAMI,Janata Dal  (United)
7924,Bihar,Katihar(11),lost,14498,( -552594),GOPAL KUMAR MAHTO,Bahujan Samaj Party
7925,Bihar,Katihar(11),lost,12317,( -554775),GYANESHWAR SOREN,Independent
7926,Bihar,Katihar(11),lost,10871,( -556221),KHALID MOBARAK,Independent
7927,Bihar,Katihar(11),lost,8487,( -558605),RAJ KUMAR MANDAL,Rashtriya Jansambhavna Party
7928,Bihar,Katihar(11),lost,6340,( -560752),VISHNU SINGH,Bharat Jago Janta Party
7929,Bihar,Katihar(11),lost,5889,( -561203),MARANG HANSADA,Peoples Party of India (Democratic)
7930,Bihar,Katihar(11),lost,5884,( -561208),BINDU KUMARI,Samaj Shakti Party
7931,Bihar,Katihar(11),,22939,( -544153),NOTA,None of the Above
7932,Bihar,Kishanganj(10),won,402850,(+ 59692),MOHAMMAD JAWED,Indian National Congress
7933,Bihar,Kishanganj(10),lost,343158,( -59692),MUJAHID ALAM,Janata Dal  (United)
7934,Bihar,Kishanganj(10),lost,309264,( -93586),AKHTARUL IMAN,All India Majlis-E-Ittehadul Muslimeen
7935,Bihar,Kishanganj(10),lost,11818,( -391032),BIDESHI RISHIDEV,Independent
7936,Bihar,Kishanganj(10),lost,11302,( -391548),VISHWANATH TUDU,Independent
7937,Bihar,Kishanganj(10),lost,9993,( -392857),MD GUFRAN JAMALI,Independent
7938,Bihar,Kishanganj(10),lost,9524,( -393326),HASIRUL,Independent
7939,Bihar,Kishanganj(10),lost,7579,( -395271),BABUL ALAM,Bahujan Samaj Party
7940,Bihar,Kishanganj(10),lost,7302,( -395548),RAVI KUMAR ROY,Independent
7941,Bihar,Kishanganj(10),lost,6055,( -396795),SHAHABUZZAMA BHARTIYA,Rashtriya Samaj Paksha
7942,Bihar,Kishanganj(10),lost,3763,( -399087),CHHOTE LAL MAHTO,Independent
7943,Bihar,Kishanganj(10),lost,3525,( -399325),MOHAMMAD KAUSAR PERWEZ,Independent
7944,Bihar,Kishanganj(10),,24966,( -377884),NOTA,None of the Above
7945,Bihar,Arrah(32),won,529382,(+ 59808),SUDAMA PRASAD,Communist Party of India  (Marxist-Leninist)  (Liberation)
7946,Bihar,Arrah(32),lost,469574,( -59808),R. K. SINGH,Bharatiya Janata Party
7947,Bihar,Arrah(32),lost,23635,( -505747),VIRENDRA KUMAR SINGH,Independent
7948,Bihar,Arrah(32),lost,13379,( -516003),SHIV DAS SINGH,Independent
7949,Bihar,Arrah(32),lost,10826,( -518556),LAL BADSAH SINGH,Bahujan Samaj Party
7950,Bihar,Arrah(32),lost,8749,( -520633),KRISHNA PASWAN,Bhartiya Kranti Vir Party
7951,Bihar,Arrah(32),lost,5766,( -523616),RANDHIR LAL,Independent
7952,Bihar,Arrah(32),lost,4773,( -524609),NAVNIT KUMAR,Independent
7953,Bihar,Arrah(32),lost,2541,( -526841),RAM SARE SINGH,Peoples Party of India (Democratic)
7954,Bihar,Arrah(32),lost,2467,( -526915),DHARMATMA SHARMA,Socialist Unity Centre Of India (COMMUNIST)
7955,Bihar,Arrah(32),lost,2440,( -526942),RAMJEE SINGH,Voters Party  International
7956,Bihar,Arrah(32),lost,2295,( -527087),ASHOK TIWARY,Independent
7957,Bihar,Arrah(32),lost,2097,( -527285),MANMOHAN SINGH,Rashtrawadi Janlok Party (Satya)
7958,Bihar,Arrah(32),lost,1674,( -527708),SUMITRA DEVI,Jagrook Janta Party
7959,Bihar,Arrah(32),,16963,( -512419),NOTA,None of the Above
7960,Assam,Lakhimpur(12),won,663122,(+ 201257),PRADAN BARUAH,Bharatiya Janata Party
7961,Assam,Lakhimpur(12),lost,461865,( -201257),UDAY SHANKAR HAZARIKA,Indian National Congress
7962,Assam,Lakhimpur(12),lost,19631,( -643491),DHIREN KACHARI,Communist Party of India
7963,Assam,Lakhimpur(12),lost,14197,( -648925),GHANA KANTA CHUTIA,All India Trinamool Congress
7964,Assam,Lakhimpur(12),lost,10293,( -652829),BIKRAM RAMCHIARY,Independent
7965,Assam,Lakhimpur(12),lost,7526,( -655596),GOBIN BISWAKARMA,Independent
7966,Assam,Lakhimpur(12),lost,6163,( -656959),DEBA NATH PAIT,Independent
7967,Assam,Lakhimpur(12),lost,6137,( -656985),PALLAB PEGU,Socialist Unity Centre Of India (COMMUNIST)
7968,Assam,Lakhimpur(12),lost,5359,( -657763),BIREN BAILUNG,Voters Party  International
7969,Assam,Lakhimpur(12),,16921,( -646201),NOTA,None of the Above
7970,Assam,Sonitpur(11),won,775788,(+ 361408),RANJIT DUTTA,Bharatiya Janata Party
7971,Assam,Sonitpur(11),lost,414380,( -361408),PREMLAL GANJU,Indian National Congress
7972,Assam,Sonitpur(11),lost,33048,( -742740),RISHIRAJ KAUNDINYA,Aam Aadmi Party
7973,Assam,Sonitpur(11),lost,19892,( -755896),RAJU DEURI,Bodoland Peoples Front
7974,Assam,Sonitpur(11),lost,8205,( -767583),PRADIP BHANDARI,Independent
7975,Assam,Sonitpur(11),lost,7382,( -768406),KAMESWAR SWARGIARY,Voters Party  International
7976,Assam,Sonitpur(11),lost,6823,( -768965),RINKU ROY,Gana Suraksha Party
7977,Assam,Sonitpur(11),lost,4202,( -771586),ALAM ALI,Bahujan Maha Party
7978,Assam,Sonitpur(11),,18748,( -757040),NOTA,None of the Above
7979,Assam,Kaziranga(10),won,897043,(+ 248947),KAMAKHYA PRASAD TASA,Bharatiya Janata Party
7980,Assam,Kaziranga(10),lost,648096,( -248947),ROSELINA TIRKEY,Indian National Congress
7981,Assam,Kaziranga(10),lost,11743,( -885300),DILUWARA BEGUM CHOWDHURY,Independent
7982,Assam,Kaziranga(10),lost,10679,( -886364),BINOD GOGOI,Independent
7983,Assam,Kaziranga(10),lost,8673,( -888370),ANIMA DEKA GUPTA,Voters Party  International
7984,Assam,Kaziranga(10),lost,8128,( -888915),TRIDIV JYOTI BHUYAN,Independent
7985,Assam,Kaziranga(10),lost,6441,( -890602),ABDUL HOQUE,Independent
7986,Assam,Kaziranga(10),lost,4538,( -892505),JYOTISKA RANJAN GOSWAMI,Independent
7987,Assam,Kaziranga(10),lost,3720,( -893323),SAILEN CH MALAKAR,Bharatiya Gana Parishad
7988,Assam,Kaziranga(10),lost,3266,( -893777),SALIM AHMED,Asom Jana Morcha
7989,Assam,Kaziranga(10),lost,3179,( -893864),SALEH AHMED MAZUMDAR,Republican Party of India (Athawale)
7990,Assam,Kaziranga(10),,24431,( -872612),NOTA,None of the Above
7991,Assam,Silchar (8),won,652405,(+ 264311),PARIMAL SUKLABAIDYA,Bharatiya Janata Party
7992,Assam,Silchar (8),lost,388094,( -264311),SURYA KANTA SARKAR,Indian National Congress
7993,Assam,Silchar (8),lost,20493,( -631912),RADHESHYAM BISWAS,All India Trinamool Congress
7994,Assam,Silchar (8),lost,4597,( -647808),RAJU DAS,Independent
7995,Assam,Silchar (8),lost,4534,( -647871),PROBASH CHANDRA SARKAR,Socialist Unity Centre Of India (COMMUNIST)
7996,Assam,Silchar (8),lost,3143,( -649262),ANANTA MOHAN ROY,Independent
7997,Assam,Silchar (8),lost,1867,( -650538),RAJIB DAS,Bahujan Maha Party
7998,Assam,Silchar (8),lost,1593,( -650812),BARINDRA KUMAR DAS,Bangali Nabanirman Sena
7999,Assam,Silchar (8),,12700,( -639705),NOTA,None of the Above
8000,Assam,Karimganj(7),won,545093,(+ 18360),KRIPANATH MALLAH,Bharatiya Janata Party
8001,Assam,Karimganj(7),lost,526733,( -18360),HAFIZ RASHID AHMED CHOUDHURY,Indian National Congress
8002,Assam,Karimganj(7),lost,29205,( -515888),SAHABUL ISLAM CHOUDHURY,All India United Democratic Front
8003,Assam,Karimganj(7),lost,7109,( -537984),JIBESH DEB,Independent
8004,Assam,Karimganj(7),lost,5907,( -539186),DEBOJYOTI NATH,Independent
8005,Assam,Karimganj(7),lost,4192,( -540901),AHAD UDDIN,Rashtriya Ulama Council
8006,Assam,Karimganj(7),lost,3628,( -541465),BINAY KRISHNA ROY,Independent
8007,Assam,Karimganj(7),lost,2630,( -542463),DILIP KUMAR,Independent
8008,Assam,Karimganj(7),lost,2601,( -542492),ROSID AHMED LASKAR,Independent
8009,Assam,Karimganj(7),lost,2291,( -542802),MUZAKKIR HASAN LASKAR,Independent
8010,Assam,Karimganj(7),lost,1923,( -543170),ABDUL BASIT TAPADAR,Independent
8011,Assam,Karimganj(7),lost,1657,( -543436),GOPAL CHANDRA PAUL,Independent
8012,Assam,Karimganj(7),lost,1382,( -543711),MD. NAZRUL ISLAM LASKAR,Independent
8013,Assam,Karimganj(7),lost,1111,( -543982),SAHEL AHMED,Independent
8014,Assam,Karimganj(7),lost,1095,( -543998),ABDUL GOFFAR TALUKDAR,Independent
8015,Assam,Karimganj(7),lost,1031,( -544062),SAFIKUR RAHMAN HAZARI,Independent
8016,Assam,Karimganj(7),lost,1001,( -544092),PRAJJWAL SUDIP DEB,Socialist Unity Centre Of India (COMMUNIST)
8017,Assam,Karimganj(7),lost,975,( -544118),ABDUL KALAM MAZUMDER,Independent
8018,Assam,Karimganj(7),lost,882,( -544211),ALIM UDDIN MAZUMDER,Independent
8019,Assam,Karimganj(7),lost,842,( -544251),ABDUL HAMEED,Independent
8020,Assam,Karimganj(7),lost,817,( -544276),DEBASHISH GHOSH,Bangali Nabanirman Sena
8021,Assam,Karimganj(7),lost,721,( -544372),RASHID AHMED CHOUDHURY,Independent
8022,Assam,Karimganj(7),lost,571,( -544522),ABDUS  SUBHAN TAPADAR,Independent
8023,Assam,Karimganj(7),lost,545,( -544548),ROKIBUL HUSSAIN CHOUDHURY,Independent
8024,Assam,Karimganj(7),,2940,( -542153),NOTA,None of the Above
8025,Assam,Diphu(6),won,334620,(+ 147603),AMARSING TISSO,Bharatiya Janata Party
8026,Assam,Diphu(6),lost,187017,( -147603),J. I. KATHAR,Independent
8027,Assam,Diphu(6),lost,124019,( -210601),JOY RAM ENGLENG,Indian National Congress
8028,Assam,Diphu(6),lost,11279,( -323341),JOHN BARNARD SANGMA,Gana Suraksha Party
8029,Assam,Diphu(6),lost,9633,( -324987),JOTSON BEY,Autonomous State Demand Committee
8030,Assam,Diphu(6),,16259,( -318361),NOTA,None of the Above
8031,Assam,Guwahati(5),won,894887,(+ 251090),BIJULI KALITA  MEDHI,Bharatiya Janata Party
8032,Assam,Guwahati(5),lost,643797,( -251090),MIRA BORTHAKUR GOSWAMI,Indian National Congress
8033,Assam,Guwahati(5),lost,8548,( -886339),DIPAK KR BORO,Voters Party  International
8034,Assam,Guwahati(5),lost,7678,( -887209),COLONEL GOKUL CHANDRA SINGHA,Independent
8035,Assam,Guwahati(5),lost,7527,( -887360),AMITABH SARMA,Ekam Sanatan Bharat Dal
8036,Assam,Guwahati(5),lost,6761,( -888126),KAZI NEKIB  AHMED,Independent
8037,Assam,Guwahati(5),lost,5095,( -889792),SAMAD CHOUDHURY,Bharatiya Gana Parishad
8038,Assam,Guwahati(5),lost,4847,( -890040),SHEJON GOYARY,Bahujan Maha Party
8039,Assam,Guwahati(5),,20249,( -874638),NOTA,None of the Above
8040,Assam,Darrang-Udalguri(4),won,868387,(+ 329012),DILIP SAIKIA,Bharatiya Janata Party
8041,Assam,Darrang-Udalguri(4),lost,539375,( -329012),MADHAB RAJBANGSHI,Indian National Congress
8042,Assam,Darrang-Udalguri(4),lost,310574,( -557813),DURGADAS BORO,Bodoland Peoples Front
8043,Assam,Darrang-Udalguri(4),lost,14291,( -854096),DANIEL MARDI,Independent
8044,Assam,Darrang-Udalguri(4),lost,12563,( -855824),AROON BAROOA,Bharatheeya Jawan Kisan Party
8045,Assam,Darrang-Udalguri(4),lost,11112,( -857275),SWARNA DEVI,Gana Suraksha Party
8046,Assam,Darrang-Udalguri(4),lost,10915,( -857472),LALIT PEGU,Voters Party  International
8047,Assam,Darrang-Udalguri(4),lost,7452,( -860935),JITENDRA CHALIHA,Socialist Unity Centre Of India (COMMUNIST)
8048,Assam,Darrang-Udalguri(4),lost,4973,( -863414),ABUL KASEM,Republican Party of India (Athawale)
8049,Assam,Darrang-Udalguri(4),lost,4623,( -863764),BIREN BASAK,Bharatiya Gana Parishad
8050,Assam,Darrang-Udalguri(4),lost,3731,( -864656),ABDUL HAMED,Rashtriya Ulama Council
8051,Assam,Darrang-Udalguri(4),,23204,( -845183),NOTA,None of the Above
8052,Assam,Nagaon(9),won,788850,(+ 212231),PRADYUT BORDOLOI,Indian National Congress
8053,Assam,Nagaon(9),lost,576619,( -212231),SURESH BORAH,Bharatiya Janata Party
8054,Assam,Nagaon(9),lost,137340,( -651510),AMINUL ISLAM,All India United Democratic Front
8055,Assam,Nagaon(9),lost,6620,( -782230),SIKHA SARMA,Independent
8056,Assam,Nagaon(9),lost,5069,( -783781),SAMSUL ALAM,Independent
8057,Assam,Nagaon(9),lost,4885,( -783965),BIPAD BHANJAN SARKAR,Independent
8058,Assam,Nagaon(9),lost,4319,( -784531),ANUPAM BARUAH,Jai Prakash Janata Dal
8059,Assam,Nagaon(9),lost,3627,( -785223),NIKHIL DEKARAJA,Independent
8060,Assam,Nagaon(9),lost,2559,( -786291),RABBUL HAQUE,Rashtriya Ulama Council
8061,Assam,Nagaon(9),lost,2238,( -786612),ABU SHAMA,Independent
8062,Assam,Nagaon(9),lost,2030,( -786820),ABU EUSUF MD RAIHAN UDDIN,Independent
8063,Assam,Nagaon(9),lost,2010,( -786840),SANTANU MUKHERJEE,Bharatiya Gana Parishad
8064,Assam,Nagaon(9),lost,1837,( -787013),SAIFUL ISLAM CHOUDHURY,Asom Jana Morcha
8065,Assam,Nagaon(9),,11995,( -776855),NOTA,None of the Above
8066,Assam,Dhubri (2),won,1471885,(+ 1012476),RAKIBUL HUSSAIN,Indian National Congress
8067,Assam,Dhubri (2),lost,459409,( -1012476),MOHAMMED BADRUDDIN AJMAL,All India United Democratic Front
8068,Assam,Dhubri (2),lost,438594,( -1033291),ZABED ISLAM,Asom Gana Parishad
8069,Assam,Dhubri (2),lost,12106,( -1459779),S. M. JIAUL HAQUE,Bharatiya Gana Parishad
8070,Assam,Dhubri (2),lost,10994,( -1460891),FARUK KHAN,Independent
8071,Assam,Dhubri (2),lost,7703,( -1464182),BISWAJIT RAY,Independent
8072,Assam,Dhubri (2),lost,6990,( -1464895),ALAKESH ROY,Independent
8073,Assam,Dhubri (2),lost,6940,( -1464945),HAFIZ BURHANUDDIN,The National Road Map Party of India
8074,Assam,Dhubri (2),lost,6287,( -1465598),RADHARANI BISWAS,Hindu Samaj Party
8075,Assam,Dhubri (2),lost,5392,( -1466493),TAHIDUR RAHMAN,Voters Party  International
8076,Assam,Dhubri (2),lost,4792,( -1467093),SHUKUR ALI,Asom Jana Morcha
8077,Assam,Dhubri (2),lost,4015,( -1467870),SURAT ZAMAN MONDAL,Socialist Unity Centre Of India (COMMUNIST)
8078,Assam,Dhubri (2),lost,3486,( -1468399),REJAUL KARIM,Republican Party of India (Athawale)
8079,Assam,Dhubri (2),,15015,( -1456870),NOTA,None of the Above
8080,Andhra Pradesh,Nellore(22),won,766202,(+ 245902),PRABHAKAR REDDY VEMIREDDY,Telugu Desam
8081,Andhra Pradesh,Nellore(22),lost,520300,( -245902),VENUMBAKA VIJAYASAI REDDY,Yuvajana Sramika Rythu Congress Party
8082,Andhra Pradesh,Nellore(22),lost,54844,( -711358),KOPPULA RAJU,Indian National Congress
8083,Andhra Pradesh,Nellore(22),lost,5811,( -760391),BHASKAR NASINA,Bahujan Samaj Party
8084,Andhra Pradesh,Nellore(22),lost,2804,( -763398),VIVEKA MANNEPALLI,Revolutionary Socialist Party
8085,Andhra Pradesh,Nellore(22),lost,2015,( -764187),KOPPALA RAGHU,Independent
8086,Andhra Pradesh,Nellore(22),lost,1779,( -764423),GAJULA SOMA SEKHAR,Jai Bharat National Party
8087,Andhra Pradesh,Nellore(22),lost,1330,( -764872),SHAIK MUZIBUR RAHAMAN,Pyramid Party of India
8088,Andhra Pradesh,Nellore(22),lost,1233,( -764969),SHAIK MAHABOOB BASHA (MABU),Republican Party of India (A)
8089,Andhra Pradesh,Nellore(22),lost,1105,( -765097),MALLEPALLY RAGHU,Navarang Congress Party
8090,Andhra Pradesh,Nellore(22),lost,1037,( -765165),SHAIK SHAFI AHMED,All India Forward Bloc
8091,Andhra Pradesh,Nellore(22),lost,600,( -765602),NAKKA DINESH,Bharatha Chaitanya Yuvajana Party
8092,Andhra Pradesh,Nellore(22),lost,558,( -765644),TALARI VENKATAIAH,Jaibhim Rao Bharat Party
8093,Andhra Pradesh,Nellore(22),lost,454,( -765748),PUNGANURU PRASANNA GANAPATHI,Radical Party of India (Ambedkarist)
8094,Andhra Pradesh,Nellore(22),,15577,( -750625),NOTA,None of the Above
8095,Andhra Pradesh,Hindupur(20),won,725534,(+ 132427),B K PARTHASARATHI,Telugu Desam
8096,Andhra Pradesh,Hindupur(20),lost,593107,( -132427),J SHANTHA,Yuvajana Sramika Rythu Congress Party
8097,Andhra Pradesh,Hindupur(20),lost,55059,( -670475),B A SAMAD SHAHEEN,Indian National Congress
8098,Andhra Pradesh,Hindupur(20),lost,8015,( -717519),BHAGYA R S,Bahujan Samaj Party
8099,Andhra Pradesh,Hindupur(20),lost,5444,( -720090),PRATHAP REDDY GORLA,Independent
8100,Andhra Pradesh,Hindupur(20),lost,2278,( -723256),H D HANUMANTHE GOWD,Independent
8101,Andhra Pradesh,Hindupur(20),lost,2051,( -723483),ANJINAPPA GARI SREENIVASULU,Revolutionary Socialist Party
8102,Andhra Pradesh,Hindupur(20),lost,1631,( -723903),S N SURESH,Independent
8103,Andhra Pradesh,Hindupur(20),lost,1328,( -724206),DASAGANIPALLI KULLAYAPPA,Independent
8104,Andhra Pradesh,Hindupur(20),lost,1292,( -724242),ASHOK,Socialist Unity Centre Of India (COMMUNIST)
8105,Andhra Pradesh,Hindupur(20),lost,1237,( -724297),T SUDHAKAR REDDY,Independent
8106,Andhra Pradesh,Hindupur(20),lost,710,( -724824),S RAGHUNATHA REDDY,Independent
8107,Andhra Pradesh,Hindupur(20),lost,682,( -724852),BUDILI DHANUNJAYA,National Nava Kranthi Party
8108,Andhra Pradesh,Hindupur(20),,17971,( -707563),NOTA,None of the Above
8109,Andhra Pradesh,Ananthapur(19),won,768245,(+ 188555),AMBICA G LAKSHMINARAYANA VALMIKI,Telugu Desam
8110,Andhra Pradesh,Ananthapur(19),lost,579690,( -188555),MALAGUNDLA SANKAR NARAYANA,Yuvajana Sramika Rythu Congress Party
8111,Andhra Pradesh,Ananthapur(19),lost,43217,( -725028),MALLIKARJUNA VAJJALA,Indian National Congress
8112,Andhra Pradesh,Ananthapur(19),lost,6439,( -761806),G.V.RAMANA REDDY,Independent
8113,Andhra Pradesh,Ananthapur(19),lost,6396,( -761849),BANASI NARAYANAPPA,Bahujan Samaj Party
8114,Andhra Pradesh,Ananthapur(19),lost,5778,( -762467),V.MURALI PRASAD REDDY,Independent
8115,Andhra Pradesh,Ananthapur(19),lost,4989,( -763256),DR.NALLANI RAMESH NAIDU,Andhra Rastra Praja Samithi
8116,Andhra Pradesh,Ananthapur(19),lost,2935,( -765310),M.SURENDRA,Pyramid Party of India
8117,Andhra Pradesh,Ananthapur(19),lost,2540,( -765705),U.C.VENKATASUBBAIAH,Jaathia Chethi Vruthula Ikya Vedika Party
8118,Andhra Pradesh,Ananthapur(19),lost,1518,( -766727),P.CHOWDESWARI,Independent
8119,Andhra Pradesh,Ananthapur(19),lost,1494,( -766751),VADLA KESAVAIAH,Independent
8120,Andhra Pradesh,Ananthapur(19),lost,1318,( -766927),B.RAGHAVENDRA PRASAD,Independent
8121,Andhra Pradesh,Ananthapur(19),lost,1091,( -767154),LOKANATH GOWD SURAGOWINI,Independent
8122,Andhra Pradesh,Ananthapur(19),lost,1091,( -767154),KETHIREDDY RAGHUNATHAREDDY,Independent
8123,Andhra Pradesh,Ananthapur(19),lost,904,( -767341),SREERANGARAJULA GOPINATH ROYAL,Independent
8124,Andhra Pradesh,Ananthapur(19),lost,753,( -767492),SHAIK.NIZAM,Samajwadi Party
8125,Andhra Pradesh,Ananthapur(19),lost,745,( -767500),RAMAVTH CHINNA RAMAPPA NAIK,Jaibhim Rao Bharat Party
8126,Andhra Pradesh,Ananthapur(19),lost,578,( -767667),KURUBA MALLIKARJUNA.S.,All India Kisan Janatha party
8127,Andhra Pradesh,Ananthapur(19),lost,570,( -767675),B.NAGAMUTHYALU,Socialist Unity Centre Of India (COMMUNIST)
8128,Andhra Pradesh,Ananthapur(19),lost,494,( -767751),SRINIVASA RAJU.O,Bhartiya Panchyat Party
8129,Andhra Pradesh,Ananthapur(19),lost,444,( -767801),DURGA PRASAD D BYATARAYANAJI,Challengers Party
8130,Andhra Pradesh,Ananthapur(19),,9199,( -759046),NOTA,None of the Above
8131,Andhra Pradesh,Kurnoolu(18),won,658914,(+ 111298),BASTIPATI NAGARAJU PANCHALINGALA,Telugu Desam
8132,Andhra Pradesh,Kurnoolu(18),lost,547616,( -111298),B Y RAMAIAH,Yuvajana Sramika Rythu Congress Party
8133,Andhra Pradesh,Kurnoolu(18),lost,70373,( -588541),P.G.RAMPULLAIAH YADAV LUCKY-2,Indian National Congress
8134,Andhra Pradesh,Kurnoolu(18),lost,8589,( -650325),MANCHALA LAKSHMI NARAYANA,Bahujan Samaj Party
8135,Andhra Pradesh,Kurnoolu(18),lost,5900,( -653014),BOYA SURESH,Independent
8136,Andhra Pradesh,Kurnoolu(18),lost,5127,( -653787),T. BEECHUPALLI,Independent
8137,Andhra Pradesh,Kurnoolu(18),lost,3508,( -655406),VIJAYA BHASKAR .REDDYPOGU,Independent
8138,Andhra Pradesh,Kurnoolu(18),lost,3076,( -655838),PAGADALA KODANDA,Independent
8139,Andhra Pradesh,Kurnoolu(18),lost,2582,( -656332),DEVARAPOGU MADDILETY,Independent
8140,Andhra Pradesh,Kurnoolu(18),lost,2225,( -656689),PRAKASH REDDY RALAMPADU,Independent
8141,Andhra Pradesh,Kurnoolu(18),lost,2074,( -656840),JAHANGIR AHMED,Social Democratic Party Of India
8142,Andhra Pradesh,Kurnoolu(18),lost,1856,( -657058),DR. REDDYPOGU PRAVEEN KUMAR,Independent
8143,Andhra Pradesh,Kurnoolu(18),lost,1601,( -657313),ABDUL SATTAR  A.S.R,Anna YSR Congress Party
8144,Andhra Pradesh,Kurnoolu(18),lost,1390,( -657524),VALMIKI ARJUNA,Bharatha Chaitanya Yuvajana Party
8145,Andhra Pradesh,Kurnoolu(18),lost,1295,( -657619),URUKUNDU VADDE,Independent
8146,Andhra Pradesh,Kurnoolu(18),lost,1164,( -657750),MALLEPOGU NAGANNA,Socialist Unity Centre Of India (COMMUNIST)
8147,Andhra Pradesh,Kurnoolu(18),lost,1163,( -657751),SUNKARA SREEDHAR,Jai Bharat National Party
8148,Andhra Pradesh,Kurnoolu(18),lost,1033,( -657881),TARIGOPULA RAJABABU,All Peoples Party
8149,Andhra Pradesh,Kurnoolu(18),lost,783,( -658131),AMRUTH KUMAR SALKAPURAM,Liberation Congress Party
8150,Andhra Pradesh,Kurnoolu(18),,10511,( -648403),NOTA,None of the Above
8151,Andhra Pradesh,Nandyal(17),won,701131,(+ 111975),DR BYREDDY SHABARI,Telugu Desam
8152,Andhra Pradesh,Nandyal(17),lost,589156,( -111975),POCHA BRAHMANANDA REDDY,Yuvajana Sramika Rythu Congress Party
8153,Andhra Pradesh,Nandyal(17),lost,56204,( -644927),J LAKSHMI NARASIMHA YADAV,Indian National Congress
8154,Andhra Pradesh,Nandyal(17),lost,8191,( -692940),P GURUVAIAH,Independent
8155,Andhra Pradesh,Nandyal(17),lost,7831,( -693300),A CHINNA MOULALI,Bahujan Samaj Party
8156,Andhra Pradesh,Nandyal(17),lost,6932,( -694199),HAFIZ ATAULLAH KHAN,Social Democratic Party Of India
8157,Andhra Pradesh,Nandyal(17),lost,4633,( -696498),KOMMUSANI PEDDA KAMBAGIRI SWAMY,Independent
8158,Andhra Pradesh,Nandyal(17),lost,3031,( -698100),GAGGERA VENKATA RAMANAIAH,Independent
8159,Andhra Pradesh,Nandyal(17),lost,2358,( -698773),DUMAVATH SWAMY NAIK,Independent
8160,Andhra Pradesh,Nandyal(17),lost,1413,( -699718),KUNUKUNTLA RAMUDU,Independent
8161,Andhra Pradesh,Nandyal(17),lost,1334,( -699797),E ANIL KUMAR,Independent
8162,Andhra Pradesh,Nandyal(17),lost,1272,( -699859),BRAHMANANDA REDDY K,Independent
8163,Andhra Pradesh,Nandyal(17),lost,1268,( -699863),C SURENDRA NATHA REDDY,Independent
8164,Andhra Pradesh,Nandyal(17),lost,791,( -700340),UPPU SUBBARAYUDU,Jaathia Chethi Vruthula Ikya Vedika Party
8165,Andhra Pradesh,Nandyal(17),lost,680,( -700451),NAGESWARA RAO,Independent
8166,Andhra Pradesh,Nandyal(17),lost,646,( -700485),BHUMA VEERA BHADRA REDDY,Navarang Congress Party
8167,Andhra Pradesh,Nandyal(17),lost,642,( -700489),YELAMPALLE GOVARDHAN REDDY,All India Forward Bloc
8168,Andhra Pradesh,Nandyal(17),lost,641,( -700490),VIJAYA BHASKAR REDDYPOGU,Independent
8169,Andhra Pradesh,Nandyal(17),lost,605,( -700526),PANDU RANGA YADAV SIDDAPU,Samajwadi Party
8170,Andhra Pradesh,Nandyal(17),lost,556,( -700575),CHANDINI REDDY VAKATI,Liberation Congress Party
8171,Andhra Pradesh,Nandyal(17),lost,486,( -700645),GAJULA SHALIMIYA,Anna YSR Congress Party
8172,Andhra Pradesh,Nandyal(17),lost,472,( -700659),B C RAMANADHA AREDDY,Independent
8173,Andhra Pradesh,Nandyal(17),lost,430,( -700701),KULURU RAMA KRISHNA REDDY,Neethi Nijayithi Party
8174,Andhra Pradesh,Nandyal(17),lost,421,( -700710),CH P MALLESWARUDU,Independent
8175,Andhra Pradesh,Nandyal(17),lost,410,( -700721),I V PAKKIR REDDY,Independent
8176,Andhra Pradesh,Nandyal(17),lost,401,( -700730),V MADHUSUDHANA REDDY,Independent
8177,Andhra Pradesh,Nandyal(17),lost,390,( -700741),BUSHAKU MAHESWARA REDDY,Independent
8178,Andhra Pradesh,Nandyal(17),lost,379,( -700752),GOGULA SUGUNAMMA,Jai Maha Bharath Party
8179,Andhra Pradesh,Nandyal(17),lost,376,( -700755),U P MUNI REDDY,Independent
8180,Andhra Pradesh,Nandyal(17),lost,353,( -700778),BELLAMKONDA SREENIVASULU,Independent
8181,Andhra Pradesh,Nandyal(17),lost,288,( -700843),BALIJA SHIVA KUMAR,Independent
8182,Andhra Pradesh,Nandyal(17),,10697,( -690434),NOTA,None of the Above
8183,Andhra Pradesh,Ongole(16),won,701894,(+ 50199),MAGUNTA SREENIVASULU REDDY,Telugu Desam
8184,Andhra Pradesh,Ongole(16),lost,651695,( -50199),DR CHEVIREDDY BHASKAR REDD,Yuvajana Sramika Rythu Congress Party
8185,Andhra Pradesh,Ongole(16),lost,26722,( -675172),EDA SUDHAKARA REDDY,Indian National Congress
8186,Andhra Pradesh,Ongole(16),lost,6314,( -695580),DHARANIKOTA LAKSHMI NARAYANA,Bahujan Samaj Party
8187,Andhra Pradesh,Ongole(16),lost,3073,( -698821),PODILI RAMBABU,Independent
8188,Andhra Pradesh,Ongole(16),lost,3048,( -698846),BUCHI EDUKONDALU,Independent
8189,Andhra Pradesh,Ongole(16),lost,2267,( -699627),ORSU VEENA,Jai Bharat National Party
8190,Andhra Pradesh,Ongole(16),lost,1923,( -699971),BONTHA RANGA REDDY,Independent
8191,Andhra Pradesh,Ongole(16),lost,1798,( -700096),BODDU KRANTHI KUMAR,Independent
8192,Andhra Pradesh,Ongole(16),lost,1447,( -700447),MOHAN GOUD J V,Independent
8193,Andhra Pradesh,Ongole(16),lost,1008,( -700886),U MADHU BABU,Independent
8194,Andhra Pradesh,Ongole(16),lost,743,( -701151),PASAM VENKATESWARLU YADAV,Samajwadi Party
8195,Andhra Pradesh,Ongole(16),lost,735,( -701159),KARATAPU RAJU,Independent
8196,Andhra Pradesh,Ongole(16),lost,725,( -701169),JAGADEESH RAYAPATI,Independent
8197,Andhra Pradesh,Ongole(16),lost,716,( -701178),DEVIREDDY BALANJANEYULU,Independent
8198,Andhra Pradesh,Ongole(16),lost,711,( -701183),HARI PRASAD TUPAKULA,Independent
8199,Andhra Pradesh,Ongole(16),lost,683,( -701211),SURYA TEJA KOTA,Pyramid Party of India
8200,Andhra Pradesh,Ongole(16),lost,575,( -701319),AKUMALLA MALLIKARJUNA REDDY,Independent
8201,Andhra Pradesh,Ongole(16),lost,461,( -701433),VESHAPOGU GURAVABABU,Independent
8202,Andhra Pradesh,Ongole(16),lost,461,( -701433),KOMMU YOHANU,Liberation Congress Party
8203,Andhra Pradesh,Ongole(16),lost,449,( -701445),SESHUBABU GUDDANTI,Independent
8204,Andhra Pradesh,Ongole(16),lost,410,( -701484),SINGAMNENI SREEKANTH,Independent
8205,Andhra Pradesh,Ongole(16),lost,394,( -701500),YARRA DASARADHARAMAIAH,Independent
8206,Andhra Pradesh,Ongole(16),lost,392,( -701502),K PAVAN KALYAN,Jatiya Jana Sena Party
8207,Andhra Pradesh,Ongole(16),lost,365,( -701529),KOTA VAMSI KRISHNA,Independent
8208,Andhra Pradesh,Ongole(16),,13205,( -688689),NOTA,None of the Above
8209,Andhra Pradesh,Bapatla (SC)(15),won,717493,(+ 208031),KRISHNA PRASAD TENNETI,Telugu Desam
8210,Andhra Pradesh,Bapatla (SC)(15),lost,509462,( -208031),NANDIGAM SURESH BABU,Yuvajana Sramika Rythu Congress Party
8211,Andhra Pradesh,Bapatla (SC)(15),lost,43259,( -674234),J.D. SEELAM,Indian National Congress
8212,Andhra Pradesh,Bapatla (SC)(15),lost,6857,( -710636),DOKKA JAGAN MOHANA RAO,Bahujan Samaj Party
8213,Andhra Pradesh,Bapatla (SC)(15),lost,2964,( -714529),NALAMALA TIRUPATI RAO,Navataram Party
8214,Andhra Pradesh,Bapatla (SC)(15),lost,1318,( -716175),BUSSA. NAGARAJU,Independent
8215,Andhra Pradesh,Bapatla (SC)(15),lost,1051,( -716442),GADDE. VIJAYA LAKSHMI,Independent
8216,Andhra Pradesh,Bapatla (SC)(15),lost,897,( -716596),KATTAPOGU. VIJAY KUMAR,Pyramid Party of India
8217,Andhra Pradesh,Bapatla (SC)(15),lost,797,( -716696),KONDRU KIRAN KUMAR,Independent
8218,Andhra Pradesh,Bapatla (SC)(15),lost,729,( -716764),KATTA ANAND BABU,Independent
8219,Andhra Pradesh,Bapatla (SC)(15),lost,673,( -716820),MERUGUPALA SADASIVA RAO,India Praja Bandhu Party
8220,Andhra Pradesh,Bapatla (SC)(15),lost,549,( -716944),KATTA HEMANAND,Independent
8221,Andhra Pradesh,Bapatla (SC)(15),lost,412,( -717081),PARRE. KOTAIAH,Jaibhim Rao Bharat Party
8222,Andhra Pradesh,Bapatla (SC)(15),lost,306,( -717187),PALADUG VIJENDRA RAO (BAHUJAN),Liberation Congress Party
8223,Andhra Pradesh,Bapatla (SC)(15),lost,255,( -717238),CHINNAM MURALIDHAR,All Peoples Party
8224,Andhra Pradesh,Bapatla (SC)(15),,13723,( -703770),NOTA,None of the Above
8225,Andhra Pradesh,Narsaraopet(14),won,807996,(+ 159729),LAVU SRIKRISHNA DEVARAYALU,Telugu Desam
8226,Andhra Pradesh,Narsaraopet(14),lost,648267,( -159729),ANIL KUMAR POLUBOINA,Yuvajana Sramika Rythu Congress Party
8227,Andhra Pradesh,Narsaraopet(14),lost,18046,( -789950),GARNEPUDI ALEXANDER SUDHAKAR,Indian National Congress
8228,Andhra Pradesh,Narsaraopet(14),lost,5309,( -802687),ORSU PREMARAJU,Bahujan Samaj Party
8229,Andhra Pradesh,Narsaraopet(14),lost,2336,( -805660),KUCHIPUDI JOHN BABU,Jaibhim Rao Bharat Party
8230,Andhra Pradesh,Narsaraopet(14),lost,1245,( -806751),GARLAPATI SUBHASH PREM,Revolutionary Socialist Party
8231,Andhra Pradesh,Narsaraopet(14),lost,1057,( -806939),YAMPATI VEERANJANEYA REDDY,Independent
8232,Andhra Pradesh,Narsaraopet(14),lost,1051,( -806945),SUBBARAO CHALLA,Independent
8233,Andhra Pradesh,Narsaraopet(14),lost,723,( -807273),ABDUL RAJAK SHAIK,Independent
8234,Andhra Pradesh,Narsaraopet(14),lost,670,( -807326),KOTA POTHURAJU,Pyramid Party of India
8235,Andhra Pradesh,Narsaraopet(14),lost,388,( -807608),P VENKATESH,Jaathia Chethi Vruthula Ikya Vedika Party
8236,Andhra Pradesh,Narsaraopet(14),lost,356,( -807640),PASUPULETI PICHAIAH,National Nava Kranthi Party
8237,Andhra Pradesh,Narsaraopet(14),lost,332,( -807664),PAPPULA SAMBASIVA RAO,Navarang Congress Party
8238,Andhra Pradesh,Narsaraopet(14),lost,309,( -807687),DOCTOR GODA RAMESH KUMAR,Jatiya Jana Sena Party
8239,Andhra Pradesh,Narsaraopet(14),lost,285,( -807711),THOKALA NAGA RAJU,All India Forward Bloc
8240,Andhra Pradesh,Narsaraopet(14),,11199,( -796797),NOTA,None of the Above
8241,Andhra Pradesh,Guntur(13),won,864948,(+ 344695),DR CHANDRA SEKHAR PEMMASANI,Telugu Desam
8242,Andhra Pradesh,Guntur(13),lost,520253,( -344695),KILARI VENKATA ROSAIAH,Yuvajana Sramika Rythu Congress Party
8243,Andhra Pradesh,Guntur(13),lost,8637,( -856311),JANGALA AJAY KUMAR,Communist Party of India
8244,Andhra Pradesh,Guntur(13),lost,5629,( -859319),SIVAREDDY. ENDREDDY,Navataram Party
8245,Andhra Pradesh,Guntur(13),lost,4272,( -860676),TENALI PRAKASH,Bahujan Samaj Party
8246,Andhra Pradesh,Guntur(13),lost,1964,( -862984),SIKHAKOLLI HEMA GOWRI SHANKAR,Jatiya Jana Sena Party
8247,Andhra Pradesh,Guntur(13),lost,1753,( -863195),SAMUDRALA CHINNA KOTAIAH,Jaibhim Rao Bharat Party
8248,Andhra Pradesh,Guntur(13),lost,1275,( -863673),UMAR BHASHA SHAIK,Jana Sahayaka Sakthi
8249,Andhra Pradesh,Guntur(13),lost,1222,( -863726),SYED. SAIDA,Navarang Congress Party
8250,Andhra Pradesh,Guntur(13),lost,1031,( -863917),AMBATI CHALAMAIAH,Pyramid Party of India
8251,Andhra Pradesh,Guntur(13),lost,692,( -864256),PILLI BABU RAO,Independent
8252,Andhra Pradesh,Guntur(13),lost,542,( -864406),HARI VENKATA SATISH  KURNALA,Jai Bharat National Party
8253,Andhra Pradesh,Guntur(13),lost,461,( -864487),VISHNU REDDY LANKIREDDY,Bengaluru Nava Nirmana Party
8254,Andhra Pradesh,Guntur(13),lost,414,( -864534),EMANI. CHANDRASEKHAR RAO,Navodayam Party
8255,Andhra Pradesh,Guntur(13),lost,391,( -864557),SHAIK. KHAJAVALI,Independent
8256,Andhra Pradesh,Guntur(13),lost,378,( -864570),CHALLAPALLI RATAN RAJU,Viduthalai Chiruthaigal Katchi
8257,Andhra Pradesh,Guntur(13),lost,375,( -864573),KANNEBOYINA VAMSI KRISHNA YADAV,Independent
8258,Andhra Pradesh,Guntur(13),lost,358,( -864590),MOHAMMAD KHAJA MOINUDDIN CHISTI PASHA,Andhra Pradesh Rashtra Samithi
8259,Andhra Pradesh,Guntur(13),lost,357,( -864591),GAYATRI AUDHIPUDI,Independent
8260,Andhra Pradesh,Guntur(13),lost,335,( -864613),SHAIK ASLAM AKTHER,Independent
8261,Andhra Pradesh,Guntur(13),lost,335,( -864613),ASHOK ANAND GALI,Independent
8262,Andhra Pradesh,Guntur(13),lost,332,( -864616),PATHAN KHAJA (BASHA),Telugu Rajadhikara Samiti Party
8263,Andhra Pradesh,Guntur(13),lost,316,( -864632),BURAGA RATNAM,Loktantrik Janta Dal
8264,Andhra Pradesh,Guntur(13),lost,312,( -864636),AMARTHALURI VENKATESWARA RAO.,Marxist Communist Party of India (United)
8265,Andhra Pradesh,Guntur(13),lost,310,( -864638),DR. RAYAPUDI RAJESH VIJAY KUMAR,Indian Labour Party (Ambedkar Phule)
8266,Andhra Pradesh,Guntur(13),lost,268,( -864680),VANKAYALAPATI VENKATA SIVA RAMANJANEYULU,Independent
8267,Andhra Pradesh,Guntur(13),lost,266,( -864682),SIVA PARVATHI,Independent
8268,Andhra Pradesh,Guntur(13),lost,207,( -864741),BOMMASANI MUTYALA RAO,All Peoples Party
8269,Andhra Pradesh,Guntur(13),lost,179,( -864769),SRIKRISHNA AKKISETTI,Independent
8270,Andhra Pradesh,Guntur(13),lost,172,( -864776),MADAVARAPU NAGA RAJU,Independent
8271,Andhra Pradesh,Guntur(13),,7387,( -857561),NOTA,None of the Above
8272,Andhra Pradesh,Vijayawada(12),won,794154,(+ 282085),KESINENI SIVANATH (CHINNI),Telugu Desam
8273,Andhra Pradesh,Vijayawada(12),lost,512069,( -282085),KESINENI SRINIVAS  (NANI),Yuvajana Sramika Rythu Congress Party
8274,Andhra Pradesh,Vijayawada(12),lost,24106,( -770048),BHARGAV VALLURU,Indian National Congress
8275,Andhra Pradesh,Vijayawada(12),lost,7878,( -786276),KRISHNA KISHORE YANAMANDRA,Navataram Party
8276,Andhra Pradesh,Vijayawada(12),lost,6672,( -787482),VENKATA ASHOK PAPPURI,Independent
8277,Andhra Pradesh,Vijayawada(12),lost,3199,( -790955),DEVARAPALLI MALLIKARJUNA RAO (MAHESH),Independent
8278,Andhra Pradesh,Vijayawada(12),lost,2233,( -791921),MEKA VENKATESWARA RAO,Bahujan Samaj Party
8279,Andhra Pradesh,Vijayawada(12),lost,1240,( -792914),ANIL KUMAR MADDINENI,Independent
8280,Andhra Pradesh,Vijayawada(12),lost,615,( -793539),BARRE SREENIVASARAO (JAI BHEEM SRINIVAS),Telugu Rajadhikara Samiti Party
8281,Andhra Pradesh,Vijayawada(12),lost,601,( -793553),SYED KHAMURUNNISA,Navarang Congress Party
8282,Andhra Pradesh,Vijayawada(12),lost,489,( -793665),CHAGANTIPATI GANGADHAR GANDHI,Pyramid Party of India
8283,Andhra Pradesh,Vijayawada(12),lost,417,( -793737),DATLA LURTHU MERI,Jaibhim Rao Bharat Party
8284,Andhra Pradesh,Vijayawada(12),lost,368,( -793786),PERAM SIVA NAGESWARA RAO,Republican Party of India (Athawale)
8285,Andhra Pradesh,Vijayawada(12),lost,331,( -793823),DEVARASETTY RAVEENDRA BABU,Andhra Rastra Praja Samithi
8286,Andhra Pradesh,Vijayawada(12),lost,327,( -793827),GUJJULA LALITHA,Socialist Unity Centre Of India (COMMUNIST)
8287,Andhra Pradesh,Vijayawada(12),lost,269,( -793885),N DASARADHA RAMI REDDY,All India Jaihind Party
8288,Andhra Pradesh,Vijayawada(12),lost,244,( -793910),CHINTHALACHERUVU HEMALATHA,Jai Maha Bharath Party
8289,Andhra Pradesh,Vijayawada(12),,9193,( -784961),NOTA,None of the Above
8290,Andhra Pradesh,Eluru(10),won,746351,(+ 181857),PUTTA MAHESH KUMAR,Telugu Desam
8291,Andhra Pradesh,Eluru(10),lost,564494,( -181857),KARUMURI SUNIL KUMAR,Yuvajana Sramika Rythu Congress Party
8292,Andhra Pradesh,Eluru(10),lost,20826,( -725525),KAVURI LAVANYA,Indian National Congress
8293,Andhra Pradesh,Eluru(10),lost,12210,( -734141),AJAY BABU BODA,Navarang Congress Party
8294,Andhra Pradesh,Eluru(10),lost,6732,( -739619),NITTA AKHILA DHARANI PAL,Bahujan Samaj Party
8295,Andhra Pradesh,Eluru(10),lost,2263,( -744088),BOKINALA KOTESWARA RAO,Independent
8296,Andhra Pradesh,Eluru(10),lost,1526,( -744825),RUDRAPAKA RATNA RAO (R.R.R),Andhra Rastra Praja Samithi
8297,Andhra Pradesh,Eluru(10),lost,1180,( -745171),KANDAVALLI JEEVA DEVA DAYAKAR,Independent
8298,Andhra Pradesh,Eluru(10),lost,1004,( -745347),AGASTEEN KOMMINA,Independent
8299,Andhra Pradesh,Eluru(10),lost,786,( -745565),DR. MENDEM SANTHOSH KUMAR (PEDDA BABULU),Liberation Congress Party
8300,Andhra Pradesh,Eluru(10),lost,732,( -745619),RAJESWARA RAO KONDRU,Bharatheeya Jawan Kisan Party
8301,Andhra Pradesh,Eluru(10),lost,715,( -745636),GODUGUPATI VEERA RAGHAVULU,Pyramid Party of India
8302,Andhra Pradesh,Eluru(10),lost,715,( -745636),BYRABOYINA MALYADRI,Bharatha Chaitanya Yuvajana Party
8303,Andhra Pradesh,Eluru(10),,22515,( -723836),NOTA,None of the Above
8304,Andhra Pradesh,Amalapuram (SC)(7),won,796981,(+ 342196),G M HARISH (BALAYOGI),Telugu Desam
8305,Andhra Pradesh,Amalapuram (SC)(7),lost,454785,( -342196),RAPAKA VARAPRASADA RAO,Yuvajana Sramika Rythu Congress Party
8306,Andhra Pradesh,Amalapuram (SC)(7),lost,15082,( -781899),GOUTHAM JANGA,Indian National Congress
8307,Andhra Pradesh,Amalapuram (SC)(7),lost,5388,( -791593),DORABABU YALLA,Bahujan Samaj Party
8308,Andhra Pradesh,Amalapuram (SC)(7),lost,3741,( -793240),KATRU NAGA BABU,Telugu Nava Garjana Party
8309,Andhra Pradesh,Amalapuram (SC)(7),lost,2977,( -794004),VADDI LALITH KUMAR,Independent
8310,Andhra Pradesh,Amalapuram (SC)(7),lost,2111,( -794870),MAKEY DAVY PRASAD,Independent
8311,Andhra Pradesh,Amalapuram (SC)(7),lost,1745,( -795236),GUDE VENKATESWARULU,Independent
8312,Andhra Pradesh,Amalapuram (SC)(7),lost,872,( -796109),RAMESH JILLELLA,Jatiya Jana Sena Party
8313,Andhra Pradesh,Amalapuram (SC)(7),lost,740,( -796241),YALANGI RAMESH,Jaibhim Rao Bharat Party
8314,Andhra Pradesh,Amalapuram (SC)(7),lost,726,( -796255),GIDDI JNANA PRAKASA RAO,Republican Party of India
8315,Andhra Pradesh,Amalapuram (SC)(7),lost,719,( -796262),MATHA KRISHNA,Pyramid Party of India
8316,Andhra Pradesh,Amalapuram (SC)(7),lost,635,( -796346),YADLA RAJESH,Liberation Congress Party
8317,Andhra Pradesh,Amalapuram (SC)(7),lost,581,( -796400),KAPA KALYAN,Republican Party of India (A)
8318,Andhra Pradesh,Amalapuram (SC)(7),lost,505,( -796476),PATHURI RAMESH,Peoples Party of India (Democratic)
8319,Andhra Pradesh,Amalapuram (SC)(7),,13518,( -783463),NOTA,None of the Above
8320,Andhra Pradesh,Visakhapatnam(4),won,907467,(+ 504247),SRIBHARAT MATHUKUMILI,Telugu Desam
8321,Andhra Pradesh,Visakhapatnam(4),lost,403220,( -504247),JHANSI LAKSHMI. BOTCHA.,Yuvajana Sramika Rythu Congress Party
8322,Andhra Pradesh,Visakhapatnam(4),lost,30267,( -877200),P. SATYA REDDY,Indian National Congress
8323,Andhra Pradesh,Visakhapatnam(4),lost,7696,( -899771),K.A. PAUL,Praja Shanthi Party
8324,Andhra Pradesh,Visakhapatnam(4),lost,6091,( -901376),PEDAPENKI SIVA PRASADA RAO,Bahujan Samaj Party
8325,Andhra Pradesh,Visakhapatnam(4),lost,4884,( -902583),BIKKAVOLU. CHALAMAJI,Navarang Congress Party
8326,Andhra Pradesh,Visakhapatnam(4),lost,2537,( -904930),V.N. SATYA NARAYANA,Rashtriya Praja Congress  (Secular)
8327,Andhra Pradesh,Visakhapatnam(4),lost,1993,( -905474),ARUNA SRI MURALA,Independent
8328,Andhra Pradesh,Visakhapatnam(4),lost,1933,( -905534),VASUPILLI SURESH,Independent
8329,Andhra Pradesh,Visakhapatnam(4),lost,1818,( -905649),SONDI KRISHNA.,Independent
8330,Andhra Pradesh,Visakhapatnam(4),lost,1109,( -906358),ANDUKURI VIJAYA BHASKAR,India Praja Bandhu Party
8331,Andhra Pradesh,Visakhapatnam(4),lost,950,( -906517),DR. GANAPATHI KONGARAPU.,Republican Party of India (A)
8332,Andhra Pradesh,Visakhapatnam(4),lost,948,( -906519),BANNA. RAMESH,Dalita Bahujana Party
8333,Andhra Pradesh,Visakhapatnam(4),lost,882,( -906585),P. SATYA VANI,Pyramid Party of India
8334,Andhra Pradesh,Visakhapatnam(4),lost,767,( -906700),DURGA PRASAD. GUNTU,Bhartiya Rashtriya Dal
8335,Andhra Pradesh,Visakhapatnam(4),lost,757,( -906710),CHAPPIDI RAMU,Independent
8336,Andhra Pradesh,Visakhapatnam(4),lost,742,( -906725),M.G.M. KHAN,Independent
8337,Andhra Pradesh,Visakhapatnam(4),lost,661,( -906806),SHANKAR DEVARA YADAV,Independent
8338,Andhra Pradesh,Visakhapatnam(4),lost,647,( -906820),VENU MADHAV KARRI,Independent
8339,Andhra Pradesh,Visakhapatnam(4),lost,638,( -906829),DR. ACHUTHA BALAJI YADAV (MURAPALA),Bharatha Chaitanya Yuvajana Party
8340,Andhra Pradesh,Visakhapatnam(4),lost,633,( -906834),THOTA VENKATA SAI MUKUND,Praja Prasthanam Party
8341,Andhra Pradesh,Visakhapatnam(4),lost,580,( -906887),PIDIDHI APPARAO,Independent
8342,Andhra Pradesh,Visakhapatnam(4),lost,543,( -906924),G.A.N. ANAND,Independent
8343,Andhra Pradesh,Visakhapatnam(4),lost,520,( -906947),VADDI. HARI GANESH,Independent
8344,Andhra Pradesh,Visakhapatnam(4),lost,500,( -906967),JANARDHAN PONNADA.,Independent
8345,Andhra Pradesh,Visakhapatnam(4),lost,500,( -906967),GANAPATHI. JAGADEESWARA RAO (JAGADEESH),Jai Maha Bharath Party
8346,Andhra Pradesh,Visakhapatnam(4),lost,466,( -907001),JALADI VIJAYA KUMARI,Samajwadi Party
8347,Andhra Pradesh,Visakhapatnam(4),lost,448,( -907019),CHINTADA SURYAM,Naba Bharata Nirmana Seva Party
8348,Andhra Pradesh,Visakhapatnam(4),lost,393,( -907074),GANDIKOTA RAJESH,Navataram Party
8349,Andhra Pradesh,Visakhapatnam(4),lost,329,( -907138),KOLLI NAGA RAJU,Independent
8350,Andhra Pradesh,Visakhapatnam(4),lost,326,( -907141),METTA RAMA RAO,Independent
8351,Andhra Pradesh,Visakhapatnam(4),lost,294,( -907173),LAGUDU. GOVINDA RAO,Independent
8352,Andhra Pradesh,Visakhapatnam(4),lost,273,( -907194),MALLA SRAVANI,Independent
8353,Andhra Pradesh,Visakhapatnam(4),,5313,( -902154),NOTA,None of the Above
8354,Andhra Pradesh,Vizianagaram(3),won,743113,(+ 249351),APPALANAIDU KALISETTI,Telugu Desam
8355,Andhra Pradesh,Vizianagaram(3),lost,493762,( -249351),BELLANA CHANDRASEKHAR,Yuvajana Sramika Rythu Congress Party
8356,Andhra Pradesh,Vizianagaram(3),lost,10623,( -732490),BOBBILI SRINU,Indian National Congress
8357,Andhra Pradesh,Vizianagaram(3),lost,8038,( -735075),PEERUBANDI PRAKASH RAO,Bahujan Samaj Party
8358,Andhra Pradesh,Vizianagaram(3),lost,4152,( -738961),VELURI VENKATA TRINADHARAO,Independent
8359,Andhra Pradesh,Vizianagaram(3),lost,3401,( -739712),ALLU SRIRAMULU,Independent
8360,Andhra Pradesh,Vizianagaram(3),lost,3107,( -740006),SIYYADULA YELLA RAO,Independent
8361,Andhra Pradesh,Vizianagaram(3),lost,1761,( -741352),SRINIVASA RAO SAMBHANA,Yuga Thulasi Party
8362,Andhra Pradesh,Vizianagaram(3),lost,1629,( -741484),MARISERLA KRISHNAMURTHY NAIDU,Independent
8363,Andhra Pradesh,Vizianagaram(3),lost,1553,( -741560),VANGAPANDU MAHESWARA RAO,Naba Bharata Nirmana Seva Party
8364,Andhra Pradesh,Vizianagaram(3),lost,1411,( -741702),CHINNAM ARUNA KUMAR,Jaibhim Rao Bharat Party
8365,Andhra Pradesh,Vizianagaram(3),lost,1070,( -742043),ATCHIYYA NAIDU SAMIREDDY,Samajwadi Party
8366,Andhra Pradesh,Vizianagaram(3),lost,856,( -742257),ADINARAYANA TADDI,Independent
8367,Andhra Pradesh,Vizianagaram(3),lost,791,( -742322),P V A ANANDA SAGAR,Independent
8368,Andhra Pradesh,Vizianagaram(3),lost,725,( -742388),SAKHINETI ANANTHA RAJU,Pyramid Party of India
8369,Andhra Pradesh,Vizianagaram(3),,23250,( -719863),NOTA,None of the Above
8370,Andhra Pradesh,Srikakulam(2),won,754328,(+ 327901),KINJARAPU RAMMOHAN NAIDU,Telugu Desam
8371,Andhra Pradesh,Srikakulam(2),lost,426427,( -327901),TILAK PERADA,Yuvajana Sramika Rythu Congress Party
8372,Andhra Pradesh,Srikakulam(2),lost,7172,( -747156),PEDADA PARAMESWARA RAO,Indian National Congress
8373,Andhra Pradesh,Srikakulam(2),lost,5958,( -748370),SANAPALA SRAVAN KUMAR,Independent
8374,Andhra Pradesh,Srikakulam(2),lost,4742,( -749586),NAIDUGARI RAJASEKHAR,Bahujan Samaj Party
8375,Andhra Pradesh,Srikakulam(2),lost,3598,( -750730),VABA YOGESWARA RAO,Independent
8376,Andhra Pradesh,Srikakulam(2),lost,2536,( -751792),BETHA VIVEKANANDA MAHARAJ,Independent
8377,Andhra Pradesh,Srikakulam(2),lost,1605,( -752723),YEDDU LAKSHMINARAYANA,Independent
8378,Andhra Pradesh,Srikakulam(2),lost,1357,( -752971),BORUBADRA CHANDRAKALA,Bharatha Chaitanya Yuvajana Party
8379,Andhra Pradesh,Srikakulam(2),lost,1130,( -753198),IPPILI SEETHARAJU,Jai Bharat National Party
8380,Andhra Pradesh,Srikakulam(2),lost,818,( -753510),KAYA DURGARAO,Navarang Congress Party
8381,Andhra Pradesh,Srikakulam(2),lost,816,( -753512),CHELLURI DANIYAL,Independent
8382,Andhra Pradesh,Srikakulam(2),lost,594,( -753734),BOMMALI TIRUPATI RAO,Pyramid Party of India
8383,Andhra Pradesh,Srikakulam(2),,24605,( -729723),NOTA,None of the Above
8384,Andhra Pradesh,Thirupathi(SC)(23),won,632228,(+ 14569),GURUMOORTHY MADDILA,Yuvajana Sramika Rythu Congress Party
8385,Andhra Pradesh,Thirupathi(SC)(23),lost,617659,( -14569),VARA PRASAD RAO VELAGAPALLI,Bharatiya Janata Party
8386,Andhra Pradesh,Thirupathi(SC)(23),lost,65523,( -566705),CHINTA MOHAN,Indian National Congress
8387,Andhra Pradesh,Thirupathi(SC)(23),lost,10506,( -621722),PENUMURU. GURAPPA,Bahujan Samaj Party
8388,Andhra Pradesh,Thirupathi(SC)(23),lost,5802,( -626426),KATTAMANCHI. PRABHAKAR,Independent
8389,Andhra Pradesh,Thirupathi(SC)(23),lost,5425,( -626803),M UMADEVI,Janata Congress
8390,Andhra Pradesh,Thirupathi(SC)(23),lost,4970,( -627258),ALLAM.RAJA,Independent
8391,Andhra Pradesh,Thirupathi(SC)(23),lost,4302,( -627926),VIJAY KUMAR G.SRKR,Liberation Congress Party
8392,Andhra Pradesh,Thirupathi(SC)(23),lost,3666,( -628562),ANJAIAH.P,Republican Party of India (A)
8393,Andhra Pradesh,Thirupathi(SC)(23),lost,1731,( -630497),V.C. NAVEEN GUPTA,Independent
8394,Andhra Pradesh,Thirupathi(SC)(23),lost,1698,( -630530),A. VARAPRASAD,Jatiya Jana Sena Party
8395,Andhra Pradesh,Thirupathi(SC)(23),lost,1568,( -630660),SYAMDHAN KURAPATI,Aihra National Party
8396,Andhra Pradesh,Thirupathi(SC)(23),lost,1515,( -630713),C. PUNYAMURTHY,United Republican Party of India
8397,Andhra Pradesh,Thirupathi(SC)(23),lost,1510,( -630718),KARRA SIVA,Pyramid Party of India
8398,Andhra Pradesh,Thirupathi(SC)(23),lost,1389,( -630839),VELURU. THEJOVATHI,Samajwadi Party
8399,Andhra Pradesh,Thirupathi(SC)(23),lost,1239,( -630989),C. DAVID,Indian Believers Party (IBP)
8400,Andhra Pradesh,Thirupathi(SC)(23),lost,1204,( -631024),K. JEEVARATHNAM,Independent
8401,Andhra Pradesh,Thirupathi(SC)(23),lost,1087,( -631141),DASARI. GOWTHAM,Independent
8402,Andhra Pradesh,Thirupathi(SC)(23),lost,801,( -631427),VIJAYA KUMAR.G,Independent
8403,Andhra Pradesh,Thirupathi(SC)(23),lost,711,( -631517),A. MADHU,Jai Hindustan Party
8404,Andhra Pradesh,Thirupathi(SC)(23),lost,688,( -631540),B. BHARANI BAS,Ambedkar National Congress
8405,Andhra Pradesh,Thirupathi(SC)(23),lost,622,( -631606),Y. MAHESH,Independent
8406,Andhra Pradesh,Thirupathi(SC)(23),lost,608,( -631620),PRASAD PATIBANDLA,Independent
8407,Andhra Pradesh,Thirupathi(SC)(23),,16118,( -616110),NOTA,None of the Above
8408,Andhra Pradesh,Kadapa(21),won,605143,(+ 62695),Y. S. AVINASH REDDY,Yuvajana Sramika Rythu Congress Party
8409,Andhra Pradesh,Kadapa(21),lost,542448,( -62695),CHADIPIRALLA BHUPESH SUBBARAMI REDDY,Telugu Desam
8410,Andhra Pradesh,Kadapa(21),lost,141039,( -464104),Y.S. SHARMILA REDDY,Indian National Congress
8411,Andhra Pradesh,Kadapa(21),lost,3810,( -601333),PANDITI. GURAPPA.,Bahujan Samaj Party
8412,Andhra Pradesh,Kadapa(21),lost,3570,( -601573),VENU GOPAL RACHINENI,Rashtriya Praja Congress  (Secular)
8413,Andhra Pradesh,Kadapa(21),lost,2430,( -602713),CHINNAPUREDDY GOPALA KRISHNA REDDY,Independent
8414,Andhra Pradesh,Kadapa(21),lost,2333,( -602810),KUNCHAM. VENKATA SUBBA REDDY,Rayalaseema Rashtra Samithi
8415,Andhra Pradesh,Kadapa(21),lost,1088,( -604055),L. KHAJA HUSSAIN,Independent
8416,Andhra Pradesh,Kadapa(21),lost,755,( -604388),ANKIREDDY. SURESH KUMAR REDDY.,All India Forward Bloc
8417,Andhra Pradesh,Kadapa(21),lost,647,( -604496),KAKARLA SHANMUKHA REDDY,Independent
8418,Andhra Pradesh,Kadapa(21),lost,624,( -604519),PALLE RAMESH,Jaibhim Rao Bharat Party
8419,Andhra Pradesh,Kadapa(21),lost,439,( -604704),CHAN BASHA. S,Anna YSR Congress Party
8420,Andhra Pradesh,Kadapa(21),lost,434,( -604709),J. V. RAMANA,Jaathia Chethi Vruthula Ikya Vedika Party
8421,Andhra Pradesh,Kadapa(21),lost,369,( -604774),MALIKIREDDY. HANUMANTHA REDDY,Jana Sahayaka Sakthi
8422,Andhra Pradesh,Kadapa(21),,16846,( -588297),NOTA,None of the Above
8423,Andhra Pradesh,Araku (ST)(1),won,477005,(+ 50580),GUMMA THANUJA RANI,Yuvajana Sramika Rythu Congress Party
8424,Andhra Pradesh,Araku (ST)(1),lost,426425,( -50580),KOTHAPALLI GEETHA,Bharatiya Janata Party
8425,Andhra Pradesh,Araku (ST)(1),lost,123129,( -353876),APPALANARASA PACHIPENTA,Communist Party of India  (Marxist)
8426,Andhra Pradesh,Araku (ST)(1),lost,25750,( -451255),AVASHYA LAHARI . VARAM,Bahujan Samaj Party
8427,Andhra Pradesh,Araku (ST)(1),lost,9535,( -467470),SAMAREDDY BALAKRISHNA,Independent
8428,Andhra Pradesh,Araku (ST)(1),lost,9462,( -467543),NIMMAKA JAYARAJU,Independent
8429,Andhra Pradesh,Araku (ST)(1),lost,8136,( -468869),ATHIDHI,Independent
8430,Andhra Pradesh,Araku (ST)(1),lost,7252,( -469753),CHANTI BADNAINA,Jai Bharat National Party
8431,Andhra Pradesh,Araku (ST)(1),lost,6766,( -470239),MOTTADAM . RAJABABU,Bharat Adivasi Party
8432,Andhra Pradesh,Araku (ST)(1),lost,6047,( -470958),RANJITH KUMAR PALAKA,Independent
8433,Andhra Pradesh,Araku (ST)(1),lost,4967,( -472038),MANDALA GIRIDHARA RAO,Independent
8434,Andhra Pradesh,Araku (ST)(1),lost,4959,( -472046),RAMBABU JALLI,Telugu Rajadhikara Samiti Party
8435,Andhra Pradesh,Araku (ST)(1),lost,4542,( -472463),VUYAKA NIREEKSHAN  (V. CHENCHU),India Praja Bandhu Party
8436,Andhra Pradesh,Araku (ST)(1),,50470,( -426535),NOTA,None of the Above
8437,Andhra Pradesh,Rajahmundry(8),won,726515,(+ 239139),DAGGUBATI PURANDHESHWARI,Bharatiya Janata Party
8438,Andhra Pradesh,Rajahmundry(8),lost,487376,( -239139),DR. GUDURI SRINIVAS,Yuvajana Sramika Rythu Congress Party
8439,Andhra Pradesh,Rajahmundry(8),lost,32508,( -694007),GIDUGU RUDRARAJU,Indian National Congress
8440,Andhra Pradesh,Rajahmundry(8),lost,20409,( -706106),GANESWARA RAO PARAMATA,Bahujan Samaj Party
8441,Andhra Pradesh,Rajahmundry(8),lost,17008,( -709507),BATTULA BALARAMAKRISHNA,Navarang Congress Party
8442,Andhra Pradesh,Rajahmundry(8),lost,3278,( -723237),SALOPANTULA RAGHAVENDRA RAO,Independent
8443,Andhra Pradesh,Rajahmundry(8),lost,3115,( -723400),DR. MEDISI RATNARAO ALIAS VINAY,Independent
8444,Andhra Pradesh,Rajahmundry(8),lost,2833,( -723682),MOHANARAO SINGULURI,Jai Bharat National Party
8445,Andhra Pradesh,Rajahmundry(8),lost,2429,( -724086),MEDA SRINIVASA RAO,Rashtriya Praja Congress  (Secular)
8446,Andhra Pradesh,Rajahmundry(8),lost,2179,( -724336),BOMMANABOINA VSR MURTHY,Independent
8447,Andhra Pradesh,Rajahmundry(8),lost,1958,( -724557),BHANU CHANDAR KURUVELLA,Independent
8448,Andhra Pradesh,Rajahmundry(8),lost,1254,( -725261),JALLI BALA NAVEENA,Independent
8449,Andhra Pradesh,Rajahmundry(8),,24435,( -702080),NOTA,None of the Above
8450,Andhra Pradesh,Anakapalle(5),won,762069,(+ 296530),C.M.RAMESH,Bharatiya Janata Party
8451,Andhra Pradesh,Anakapalle(5),lost,465539,( -296530),BUDI MUTYALA NAIDU,Yuvajana Sramika Rythu Congress Party
8452,Andhra Pradesh,Anakapalle(5),lost,25651,( -736418),VEGI VENKATESH,Indian National Congress
8453,Andhra Pradesh,Anakapalle(5),lost,19157,( -742912),PALAKA SREERAMA MURTHY,Bahujan Samaj Party
8454,Andhra Pradesh,Anakapalle(5),lost,4002,( -758067),VANKAYALA RAMACHANDRA RAO,Independent
8455,Andhra Pradesh,Anakapalle(5),lost,3852,( -758217),LOVARAJU SIDDHA,Independent
8456,Andhra Pradesh,Anakapalle(5),lost,3557,( -758512),KRISHNA SWAROOP VADLAMURI,Dalita Bahujana Party
8457,Andhra Pradesh,Anakapalle(5),lost,3124,( -758945),GARA SURYA RAO,Independent
8458,Andhra Pradesh,Anakapalle(5),lost,2619,( -759450),APPALA RAJU NAMMI,Bharatha Chaitanya Yuvajana Party
8459,Andhra Pradesh,Anakapalle(5),lost,2184,( -759885),NAGESWARA RAO PETLA,Independent
8460,Andhra Pradesh,Anakapalle(5),lost,1913,( -760156),ADARI SARAT CHANDRA,Jai Bharat National Party
8461,Andhra Pradesh,Anakapalle(5),lost,1591,( -760478),VIJAYA LAKSHMI KARRI,Pyramid Party of India
8462,Andhra Pradesh,Anakapalle(5),lost,1576,( -760493),DR. THUMMAPALA HARI  SHANKAR,Independent
8463,Andhra Pradesh,Anakapalle(5),lost,1201,( -760868),JUNNURI J SRINIVAS,Independent
8464,Andhra Pradesh,Anakapalle(5),lost,1062,( -761007),APPALANAIDU TUMMAGUNTA,Independent
8465,Andhra Pradesh,Anakapalle(5),,26235,( -735834),NOTA,None of the Above
8466,Haryana,ROHTAK(7),won,783578,(+ 345298),DEEPENDER SINGH HOODA,Indian National Congress
8467,Haryana,ROHTAK(7),lost,438280,( -345298),DR. ARVIND KUMAR SHARMA,Bharatiya Janata Party
8468,Haryana,ROHTAK(7),lost,6250,( -777328),RAVINDER,Jannayak Janta Party
8469,Haryana,ROHTAK(7),lost,2714,( -780864),RAKESH SINGH,Rashtrawadi Janlok Party (Satya)
8470,Haryana,ROHTAK(7),lost,2394,( -781184),BISHAMBAR KUMAR,Independent
8471,Haryana,ROHTAK(7),lost,2150,( -781428),KALAWATI,Independent
8472,Haryana,ROHTAK(7),lost,1928,( -781650),PARVEEN KUMAR,Independent
8473,Haryana,ROHTAK(7),lost,1532,( -782046),UDEVIR,Independent
8474,Haryana,ROHTAK(7),lost,809,( -782769),VINOD KUMAR,Peoples Party of India (Democratic)
8475,Haryana,ROHTAK(7),lost,629,( -782949),ASHOK KUMAR,Independent
8476,Haryana,ROHTAK(7),lost,618,( -782960),VISHESH BAMEL,Bharatiya Asha Party
8477,Haryana,ROHTAK(7),lost,607,( -782971),JAIKARAN MANDAUTHI,Socialist Unity Centre Of India (COMMUNIST)
8478,Haryana,ROHTAK(7),lost,593,( -782985),JAGBIR SINGH,Bharatheeya Jawan Kisan Party
8479,Haryana,ROHTAK(7),lost,524,( -783054),SATISH KUMAR,Independent
8480,Haryana,ROHTAK(7),lost,470,( -783108),SURENDER,Aam Aadmi Parivartan Party
8481,Haryana,ROHTAK(7),lost,431,( -783147),MANISHA,Independent
8482,Haryana,ROHTAK(7),lost,367,( -783211),ARVIND KUMAR SHARMA,Independent
8483,Haryana,ROHTAK(7),lost,363,( -783215),SATISH KUMAR,Ekam Sanatan Bharat Dal
8484,Haryana,ROHTAK(7),lost,330,( -783248),ARVIND,Independent
8485,Haryana,ROHTAK(7),lost,287,( -783291),ADVOCATE ADITYA DHANKHAR,Super Power India Party
8486,Haryana,ROHTAK(7),lost,269,( -783309),MASTER RANDHIR SINGH,Independent
8487,Haryana,ROHTAK(7),lost,269,( -783309),MANJEET,Independent
8488,Haryana,ROHTAK(7),lost,212,( -783366),SANJAY,Independent
8489,Haryana,ROHTAK(7),lost,190,( -783388),YOGESH SHARMA,Independent
8490,Haryana,ROHTAK(7),lost,159,( -783419),VINAY,Independent
8491,Haryana,ROHTAK(7),lost,131,( -783447),LALIT KUMAR,Independent
8492,Haryana,ROHTAK(7),,2362,( -781216),NOTA,None of the Above
8493,Haryana,SONIPAT(6),won,548682,(+ 21816),SATPAL BRAHAMCHARI,Indian National Congress
8494,Haryana,SONIPAT(6),lost,526866,( -21816),MOHAN LAL BADOLI,Bharatiya Janata Party
8495,Haryana,SONIPAT(6),lost,12822,( -535860),UMESH KUMAR,Bahujan Samaj Party
8496,Haryana,SONIPAT(6),lost,11523,( -537159),ANOOP SINGH,Indian National Lok Dal
8497,Haryana,SONIPAT(6),lost,7820,( -540862),BHUPENDER SINGH MALIK,Jannayak Janta Party
8498,Haryana,SONIPAT(6),lost,2154,( -546528),SANT DHARAMVEER CHOTIVALA,Independent
8499,Haryana,SONIPAT(6),lost,1658,( -547024),NARESH KASHYAP,Aam Aadmi Parivartan Party
8500,Haryana,SONIPAT(6),lost,1651,( -547031),RAMESH,Independent
8501,Haryana,SONIPAT(6),lost,1217,( -547465),SATPAL,Independent
8502,Haryana,SONIPAT(6),lost,882,( -547800),GAUBHAGAT SUMIT LATHER,Independent
8503,Haryana,SONIPAT(6),lost,866,( -547816),DR. KAMLESH KUMAR SAINI,Independent
8504,Haryana,SONIPAT(6),lost,777,( -547905),ROHTASH,Independent
8505,Haryana,SONIPAT(6),lost,768,( -547914),BALBIR SINGH,Socialist Unity Centre Of India (COMMUNIST)
8506,Haryana,SONIPAT(6),lost,695,( -547987),ASHWANI,Independent
8507,Haryana,SONIPAT(6),lost,572,( -548110),SANJAY DASS,Independent
8508,Haryana,SONIPAT(6),lost,524,( -548158),JAGBEER,Independent
8509,Haryana,SONIPAT(6),lost,467,( -548215),SUNIL KUMAR,Rashtriya Garib Dal
8510,Haryana,SONIPAT(6),lost,441,( -548241),RADHEY SHYAM,Peoples Party of India (Democratic)
8511,Haryana,SONIPAT(6),lost,410,( -548272),RAKESH,Samata Party
8512,Haryana,SONIPAT(6),lost,318,( -548364),NIRMAL SINGH,Independent
8513,Haryana,SONIPAT(6),lost,296,( -548386),SURENDER SINGH,Independent
8514,Haryana,SONIPAT(6),lost,215,( -548467),RAKESH DHARIWAL,Rashtriya Jatigat Aarakshan Virodhi Party
8515,Haryana,SONIPAT(6),,2320,( -546362),NOTA,None of the Above
8516,Haryana,HISAR(4),won,570424,(+ 63381),JAI PARKASH (J P) S/O HARIKESH,Indian National Congress
8517,Haryana,HISAR(4),lost,507043,( -63381),RANJIT SINGH,Bharatiya Janata Party
8518,Haryana,HISAR(4),lost,26015,( -544409),DESH RAJ,Bahujan Samaj Party
8519,Haryana,HISAR(4),lost,22303,( -548121),SUNAINA CHAUTALA,Indian National Lok Dal
8520,Haryana,HISAR(4),lost,22032,( -548392),NAINA SINGH CHAUTALA,Jannayak Janta Party
8521,Haryana,HISAR(4),lost,3608,( -566816),PARDEEP DAHIYA,Independent
8522,Haryana,HISAR(4),lost,3273,( -567151),JAI PRAKASH (J.P.) S/O UMA DUTT,Independent
8523,Haryana,HISAR(4),lost,3196,( -567228),JILE SINGH,Independent
8524,Haryana,HISAR(4),lost,1241,( -569183),POONAM MOR,Independent
8525,Haryana,HISAR(4),lost,1122,( -569302),ISHWAR JHAJHRIA,Independent
8526,Haryana,HISAR(4),lost,1097,( -569327),ATMA RAM BISHNOI,Independent
8527,Haryana,HISAR(4),lost,1041,( -569383),KULBIR,Independent
8528,Haryana,HISAR(4),lost,998,( -569426),CHANDER MOHAN,Independent
8529,Haryana,HISAR(4),lost,876,( -569548),ADVOCATE PARDEEP SIHMAR,Peoples Party of India (Democratic)
8530,Haryana,HISAR(4),lost,796,( -569628),AJIT SINGH,Independent
8531,Haryana,HISAR(4),lost,726,( -569698),DEV GIRI,Rashtriya Lokswaraj Party
8532,Haryana,HISAR(4),lost,703,( -569721),DINESH KUMAR,Independent
8533,Haryana,HISAR(4),lost,657,( -569767),MASTER VIJENDER JITPURA,Socialist Unity Centre Of India (COMMUNIST)
8534,Haryana,HISAR(4),lost,486,( -569938),RAJENDER KUMAR,Independent
8535,Haryana,HISAR(4),lost,423,( -570001),NEERAJ KUMAR “CHHATTAR”,Bharatiya Asha Party
8536,Haryana,HISAR(4),lost,405,( -570019),MANDEEP,Independent
8537,Haryana,HISAR(4),lost,382,( -570042),JAGAT SINGH,Vikas India Party
8538,Haryana,HISAR(4),lost,374,( -570050),PARJAPATI RAKESH DHUWARIA,Independent
8539,Haryana,HISAR(4),lost,353,( -570071),RANDHIR SINGH,Independent
8540,Haryana,HISAR(4),lost,326,( -570098),SURENDER KUMAR,Independent
8541,Haryana,HISAR(4),lost,308,( -570116),SURENDER,Independent
8542,Haryana,HISAR(4),lost,272,( -570152),VIJAY SINGH,Independent
8543,Haryana,HISAR(4),lost,269,( -570155),YOGESH BOORA,Independent
8544,Haryana,HISAR(4),,3366,( -567058),NOTA,None of the Above
8545,Haryana,SIRSA(3),won,733823,(+ 268497),SELJA,Indian National Congress
8546,Haryana,SIRSA(3),lost,465326,( -268497),ASHOK TANWAR,Bharatiya Janata Party
8547,Haryana,SIRSA(3),lost,92453,( -641370),SANDEEP LOT VALMIKI,Indian National Lok Dal
8548,Haryana,SIRSA(3),lost,20080,( -713743),RAMESH KHATAK,Jannayak Janta Party
8549,Haryana,SIRSA(3),lost,10151,( -723672),LILU RAM ASAKHERA,Bahujan Samaj Party
8550,Haryana,SIRSA(3),lost,6160,( -727663),RAHUL CHOUHAN,Independent
8551,Haryana,SIRSA(3),lost,4166,( -729657),KARNAIL SINGH ODHAN,Independent
8552,Haryana,SIRSA(3),lost,3413,( -730410),SATPAL LADWAL,Independent
8553,Haryana,SIRSA(3),lost,3061,( -730762),MISTRI DAULAT RAM ROLAN,Peoples Party of India (Democratic)
8554,Haryana,SIRSA(3),lost,2142,( -731681),JOGINDER RAM,Independent
8555,Haryana,SIRSA(3),lost,1550,( -732273),RAN SINGH PANWAR,Independent
8556,Haryana,SIRSA(3),lost,1242,( -732581),RAJINDER KUMAR,Bharatiya Asha Party
8557,Haryana,SIRSA(3),lost,1224,( -732599),BAGDAWAT RAM,Independent
8558,Haryana,SIRSA(3),lost,1136,( -732687),JASVIR SINGH,Independent
8559,Haryana,SIRSA(3),lost,1116,( -732707),NAVEEN KUMAR COMMANDO,Independent
8560,Haryana,SIRSA(3),lost,999,( -732824),SUKHDEV SINGH SANDHU,Independent
8561,Haryana,SIRSA(3),lost,931,( -732892),DR. RAJESH MEHANDIA,Bahujan Republican  Socialist Party
8562,Haryana,SIRSA(3),lost,919,( -732904),DHARAMPAL VARTIA,Loktantrik Lok Rajyam Party
8563,Haryana,SIRSA(3),lost,617,( -733206),SURENDER KUMAR PHULAN,Independent
8564,Haryana,SIRSA(3),,4123,( -729700),NOTA,None of the Above
8565,Haryana,AMBALA(1),won,663657,(+ 49036),VARUN CHAUDHRY,Indian National Congress
8566,Haryana,AMBALA(1),lost,614621,( -49036),BANTO KATARIA,Bharatiya Janata Party
8567,Haryana,AMBALA(1),lost,23583,( -640074),PAWAN RANDHAWA,Bahujan Samaj Party
8568,Haryana,AMBALA(1),lost,8986,( -654671),GURPREET SINGH,Indian National Lok Dal
8569,Haryana,AMBALA(1),lost,8754,( -654903),KAMAL KUMAR BARARA,Aazad Samaj Party (Kanshi Ram)
8570,Haryana,AMBALA(1),lost,6092,( -657565),KIRAN PUNIA,Jannayak Janta Party
8571,Haryana,AMBALA(1),lost,3111,( -660546),RAKESH KUMAR,Haryana Jansena Party
8572,Haryana,AMBALA(1),lost,2502,( -661155),BALJEET SINGH,Bharatheeya Jawan Kisan Party
8573,Haryana,AMBALA(1),lost,2397,( -661260),MEHAR SINGH CHALIA,Ekam Sanatan Bharat Dal
8574,Haryana,AMBALA(1),lost,1690,( -661967),GULAB SINGH NARWAL,Peoples Party of India (Democratic)
8575,Haryana,AMBALA(1),lost,1506,( -662151),SURAJ KUMAR,Bahujan Mukti Party
8576,Haryana,AMBALA(1),lost,1263,( -662394),MOHAR SINGH STATION MASTER (RETD.),Independent
8577,Haryana,AMBALA(1),lost,1251,( -662406),BETA MAM CHAND RATTUWALA,Bharatiya Yuva Jan Ekta Party
8578,Haryana,AMBALA(1),lost,857,( -662800),DR. NITESH CHOPRA (HONEY),Bhartiya Shakti Chetna Party
8579,Haryana,AMBALA(1),,6452,( -657205),NOTA,None of the Above
8580,Jammu and Kashmir,JAMMU(5),won,687588,(+ 135498),JUGAL KISHORE,Bharatiya Janata Party
8581,Jammu and Kashmir,JAMMU(5),lost,552090,( -135498),RAMAN BHALLA,Indian National Congress
8582,Jammu and Kashmir,JAMMU(5),lost,10300,( -677288),JAGDISH RAJ,Bahujan Samaj Party
8583,Jammu and Kashmir,JAMMU(5),lost,5959,( -681629),SATISH POONCHI,Independent
8584,Jammu and Kashmir,JAMMU(5),lost,4278,( -683310),ANKUR SHARMA,Ekam Sanatan Bharat Dal
8585,Jammu and Kashmir,JAMMU(5),lost,4243,( -683345),NARESH KUMAR CHIB,Jammu & Kashmir National Panthers Party (Bhim)
8586,Jammu and Kashmir,JAMMU(5),lost,3257,( -684331),PRINCIPAL C D SHARMA,Independent
8587,Jammu and Kashmir,JAMMU(5),lost,3207,( -684381),KARANJIT,Independent
8588,Jammu and Kashmir,JAMMU(5),lost,3177,( -684411),SHABER AHMED,Independent
8589,Jammu and Kashmir,JAMMU(5),lost,2937,( -684651),SHIKHA BANDRAL,National Awami United Party
8590,Jammu and Kashmir,JAMMU(5),lost,2866,( -684722),DR PRINCE RAINA,Independent
8591,Jammu and Kashmir,JAMMU(5),lost,2618,( -684970),RAJ KUMAR,Independent
8592,Jammu and Kashmir,JAMMU(5),lost,2226,( -685362),SURINDER SINGH,Independent
8593,Jammu and Kashmir,JAMMU(5),lost,2068,( -685520),ATUL RAINA,Independent
8594,Jammu and Kashmir,JAMMU(5),lost,1651,( -685937),RATTAN LAL,Jammu & Kashmir People Conference
8595,Jammu and Kashmir,JAMMU(5),lost,1620,( -685968),SWAMI DIVYA NAND,Jammu and Kashmir Nationalist People's Front
8596,Jammu and Kashmir,JAMMU(5),lost,1589,( -685999),PERSEEN SINGH,Independent
8597,Jammu and Kashmir,JAMMU(5),lost,1459,( -686129),NARESH KUMAR TALLA,Independent
8598,Jammu and Kashmir,JAMMU(5),lost,1190,( -686398),GANESH CHOUDHARY,Hindustan Shakti Sena
8599,Jammu and Kashmir,JAMMU(5),lost,1165,( -686423),VICKY KUMAR DOGRA,Independent
8600,Jammu and Kashmir,JAMMU(5),lost,1059,( -686529),BANSI LAL,Independent
8601,Jammu and Kashmir,JAMMU(5),lost,984,( -686604),QARI ZAHEER ABBAS BHATTI,All India Forward Bloc
8602,Jammu and Kashmir,JAMMU(5),,4645,( -682943),NOTA,None of the Above
8603,Jammu and Kashmir,UDHAMPUR(4),won,571076,(+ 124373),DR JITENDRA SINGH,Bharatiya Janata Party
8604,Jammu and Kashmir,UDHAMPUR(4),lost,446703,( -124373),CH LAL SINGH,Indian National Congress
8605,Jammu and Kashmir,UDHAMPUR(4),lost,39599,( -531477),GHULAM MOHD SAROORI,Independent
8606,Jammu and Kashmir,UDHAMPUR(4),lost,9082,( -561994),MEHRAJ DIN,Independent
8607,Jammu and Kashmir,UDHAMPUR(4),lost,8642,( -562434),AMIT KUMAR,Bahujan Samaj Party
8608,Jammu and Kashmir,UDHAMPUR(4),lost,7158,( -563918),MOHD ALI GUJJAR,Independent
8609,Jammu and Kashmir,UDHAMPUR(4),lost,6834,( -564242),MANOJ KUMAR,Ekam Sanatan Bharat Dal
8610,Jammu and Kashmir,UDHAMPUR(4),lost,3292,( -567784),BALWAN SINGH,Jammu & Kashmir National Panthers Party (Bhim)
8611,Jammu and Kashmir,UDHAMPUR(4),lost,3088,( -567988),SWARN VEER SINGH JARAL,Independent
8612,Jammu and Kashmir,UDHAMPUR(4),lost,2247,( -568829),DR PANKAJ SHARMA,Independent
8613,Jammu and Kashmir,UDHAMPUR(4),lost,1605,( -569471),RAJESH MANCHANDA,Independent
8614,Jammu and Kashmir,UDHAMPUR(4),lost,1463,( -569613),SACHIN GUPTA,Independent
8615,Jammu and Kashmir,UDHAMPUR(4),,12938,( -558138),NOTA,None of the Above
8616,Jammu and Kashmir,ANANTNAG-RAJOURI(3),won,521836,(+ 281794),MIAN ALTAF AHMAD,Jammu & Kashmir National Conference
8617,Jammu and Kashmir,ANANTNAG-RAJOURI(3),lost,240042,( -281794),MEHBOOBA MUFTI,Jammu & Kashmir Peoples Democratic Party
8618,Jammu and Kashmir,ANANTNAG-RAJOURI(3),lost,142195,( -379641),ZAFAR IQBAL KHAN MANHAS,Jammu and Kashmir Apni Party
8619,Jammu and Kashmir,ANANTNAG-RAJOURI(3),lost,25561,( -496275),MOHAMAD SALEEM PARAY,Democratic Progressive Azad Party
8620,Jammu and Kashmir,ANANTNAG-RAJOURI(3),lost,10582,( -511254),ABDUL RAOUF MALIK,Independent
8621,Jammu and Kashmir,ANANTNAG-RAJOURI(3),lost,9228,( -512608),SUSHIL KUMAR SHARMA,Independent
8622,Jammu and Kashmir,ANANTNAG-RAJOURI(3),lost,9149,( -512687),ABDUL ROUF NAIK,Independent
8623,Jammu and Kashmir,ANANTNAG-RAJOURI(3),lost,8004,( -513832),SAJAD AHMAD DAR,Independent
8624,Jammu and Kashmir,ANANTNAG-RAJOURI(3),lost,7485,( -514351),IMRAN SHEIKH,Independent
8625,Jammu and Kashmir,ANANTNAG-RAJOURI(3),lost,7013,( -514823),IMTIYAZ AHMAD,National Loktantrik Party
8626,Jammu and Kashmir,ANANTNAG-RAJOURI(3),lost,6389,( -515447),ARSHEED AHMED LONE,Jammu & Kashmir National Panthers Party (Bhim)
8627,Jammu and Kashmir,ANANTNAG-RAJOURI(3),lost,6189,( -515647),BALDEV KUMAR,Independent
8628,Jammu and Kashmir,ANANTNAG-RAJOURI(3),lost,5255,( -516581),ALI MOHAMMAD WANI,Independent
8629,Jammu and Kashmir,ANANTNAG-RAJOURI(3),lost,4814,( -517022),SHEIKH MUZAFAR AHMED,Jammu and Kashmir Nationalist People's Front
8630,Jammu and Kashmir,ANANTNAG-RAJOURI(3),lost,3722,( -518114),DILIP KUMAR PANDITA,Independent
8631,Jammu and Kashmir,ANANTNAG-RAJOURI(3),lost,2962,( -518874),RAVINDER SINGH,Independent
8632,Jammu and Kashmir,ANANTNAG-RAJOURI(3),lost,2807,( -519029),GULSHAN AKHTER,Independent
8633,Jammu and Kashmir,ANANTNAG-RAJOURI(3),lost,2748,( -519088),MOHAMMAD MAQBOOL TELI,Garib Democratic Party
8634,Jammu and Kashmir,ANANTNAG-RAJOURI(3),lost,2382,( -519454),SUDARSHAN SINGH,National Awami United Party
8635,Jammu and Kashmir,ANANTNAG-RAJOURI(3),lost,1562,( -520274),JAVAID AHMED,All India Forward Bloc
8636,Jammu and Kashmir,ANANTNAG-RAJOURI(3),,6223,( -515613),NOTA,None of the Above
8637,Jammu and Kashmir,SRINAGAR(2),won,356866,(+ 188416),AGA SYED RUHULLAH MEHDI,Jammu & Kashmir National Conference
8638,Jammu and Kashmir,SRINAGAR(2),lost,168450,( -188416),WAHEED UR REHMAN PARA,Jammu & Kashmir Peoples Democratic Party
8639,Jammu and Kashmir,SRINAGAR(2),lost,65954,( -290912),MOHAMMAD ASHRAF MIR,Jammu and Kashmir Apni Party
8640,Jammu and Kashmir,SRINAGAR(2),lost,15104,( -341762),AMIR AHMAD BHAT,Democratic Progressive Azad Party
8641,Jammu and Kashmir,SRINAGAR(2),lost,13071,( -343795),SHEEBAN ASHAI,Independent
8642,Jammu and Kashmir,SRINAGAR(2),lost,8880,( -347986),SAYIM MUSTAFA,Independent
8643,Jammu and Kashmir,SRINAGAR(2),lost,5498,( -351368),JIBRAN FIRDOUS DAR,Independent
8644,Jammu and Kashmir,SRINAGAR(2),lost,4422,( -352444),JAHANGIR AHMAD SHEIKH,Independent
8645,Jammu and Kashmir,SRINAGAR(2),lost,3778,( -353088),HAKIKAT SINGH,Jammu & Kashmir National Panthers Party (Bhim)
8646,Jammu and Kashmir,SRINAGAR(2),lost,3764,( -353102),SAJAD AHMAD DAR,Independent
8647,Jammu and Kashmir,SRINAGAR(2),lost,2876,( -353990),RUBINA AKHTER,National Loktantrik Party
8648,Jammu and Kashmir,SRINAGAR(2),lost,2855,( -354011),WASEEM HASSAN SHEIKH,Independent
8649,Jammu and Kashmir,SRINAGAR(2),lost,2792,( -354074),RIYAZ AHMAD BHAT,Independent
8650,Jammu and Kashmir,SRINAGAR(2),lost,2227,( -354639),FAYAZ AHMAD BUTT,Independent
8651,Jammu and Kashmir,SRINAGAR(2),lost,2203,( -354663),SHAHNAZ HUSSAIN SHAH,Independent
8652,Jammu and Kashmir,SRINAGAR(2),lost,1898,( -354968),MOHD YOUSUF BHAT,Gana Suraksha Party
8653,Jammu and Kashmir,SRINAGAR(2),lost,1606,( -355260),WAHEEDA TABASUM SHAH,Independent
8654,Jammu and Kashmir,SRINAGAR(2),lost,1124,( -355742),NISAR AHMAD AHANGAR,Independent
8655,Jammu and Kashmir,SRINAGAR(2),lost,1064,( -355802),MIRZA SAJAD HUSSAIN BEIGH,Independent
8656,Jammu and Kashmir,SRINAGAR(2),lost,1040,( -355826),GHULAM MOHAMMAD WANI,Independent
8657,Jammu and Kashmir,SRINAGAR(2),lost,996,( -355870),AMIN DAR,Independent
8658,Jammu and Kashmir,SRINAGAR(2),lost,932,( -355934),JAVEED AHMAD WANI,Independent
8659,Jammu and Kashmir,SRINAGAR(2),lost,925,( -355941),YOUNIS AHMAD MIR,Bharat Jodo Party
8660,Jammu and Kashmir,SRINAGAR(2),lost,919,( -355947),DR QAZI ASHRAF,Independent
8661,Jammu and Kashmir,SRINAGAR(2),,5998,( -350868),NOTA,None of the Above
8662,Jharkhand,Lohardaga(12),won,483038,(+ 139138),SUKHDEO BHAGAT,Indian National Congress
8663,Jharkhand,Lohardaga(12),lost,343900,( -139138),SAMIR ORAON,Bharatiya Janata Party
8664,Jharkhand,Lohardaga(12),lost,45998,( -437040),CHAMRA LINDA,Independent
8665,Jharkhand,Lohardaga(12),lost,16793,( -466245),MAHENDRA ORAON,Communist Party of India
8666,Jharkhand,Lohardaga(12),lost,10911,( -472127),SHANIYA ORAON,Independent
8667,Jharkhand,Lohardaga(12),lost,9148,( -473890),GIRJANANDAN URAON,Bahujan Samaj Party
8668,Jharkhand,Lohardaga(12),lost,9131,( -473907),MARIANUS TIGGA,Independent
8669,Jharkhand,Lohardaga(12),lost,7602,( -475436),BIHARI BHAGAT,Peoples Party of India (Democratic)
8670,Jharkhand,Lohardaga(12),lost,7599,( -475439),STEPHAN KINDO,Independent
8671,Jharkhand,Lohardaga(12),lost,5527,( -477511),RANJEET BHAGAT,Independent
8672,Jharkhand,Lohardaga(12),lost,4310,( -478728),RAMCHANDRA BHAGAT,Lokhit Adhikar Party
8673,Jharkhand,Lohardaga(12),lost,3713,( -479325),PAWAN TIGGA,Independent
8674,Jharkhand,Lohardaga(12),lost,2814,( -480224),ARPAN DEO BHAGAT,Independent
8675,Jharkhand,Lohardaga(12),lost,2747,( -480291),ARJUN TOPPO,Independent
8676,Jharkhand,Lohardaga(12),lost,2510,( -480528),MANI MUNDA,Bhagidari Party(P)
8677,Jharkhand,Lohardaga(12),,11384,( -471654),NOTA,None of the Above
8678,Jharkhand,Khunti(11),won,511647,(+ 149675),KALI CHARAN MUNDA,Indian National Congress
8679,Jharkhand,Khunti(11),lost,361972,( -149675),ARJUN MUNDA,Bharatiya Janata Party
8680,Jharkhand,Khunti(11),lost,12300,( -499347),SAVITRI DEVI,Bahujan Samaj Party
8681,Jharkhand,Khunti(11),lost,10755,( -500892),BASANT KUMAR LONGA,Independent
8682,Jharkhand,Khunti(11),lost,8532,( -503115),ARPANA HANS,Jharkhand Party
8683,Jharkhand,Khunti(11),lost,4963,( -506684),PASTAR SANJAY KUMAR TIRKEY,Independent
8684,Jharkhand,Khunti(11),lost,4594,( -507053),BABITA KACHHAP,Bharat Adivasi Party
8685,Jharkhand,Khunti(11),,21919,( -489728),NOTA,None of the Above
8686,Jharkhand,Singhbhum(10),won,520164,(+ 168402),JOBA MAJHI,Jharkhand Mukti Morcha
8687,Jharkhand,Singhbhum(10),lost,351762,( -168402),GEETA KORA,Bharatiya Janata Party
8688,Jharkhand,Singhbhum(10),lost,44292,( -475872),DAMODAR SINGH HANSDA,Independent
8689,Jharkhand,Singhbhum(10),lost,19834,( -500330),MADHAV CHANDRA KUNKAL,Independent
8690,Jharkhand,Singhbhum(10),lost,16111,( -504053),SANGRAM MARDI,Independent
8691,Jharkhand,Singhbhum(10),lost,8742,( -511422),PARDESHI LAL MUNDA,Bahujan Samaj Party
8692,Jharkhand,Singhbhum(10),lost,4924,( -515240),DURGA LAL MURMU,Independent
8693,Jharkhand,Singhbhum(10),lost,3210,( -516954),CHITRASEN SINKU,Jharkhand Party
8694,Jharkhand,Singhbhum(10),lost,3070,( -517094),BISHWA VIJAY MARDI,Ambedkarite Party of India
8695,Jharkhand,Singhbhum(10),lost,2754,( -517410),ASHA KUMARI RUNDA,Independent
8696,Jharkhand,Singhbhum(10),lost,2615,( -517549),KRISHNA MARDI,Jharkhand Mukti Morcha  (Ulgulan)
8697,Jharkhand,Singhbhum(10),lost,2409,( -517755),SUDHA RANI BESRA,Peoples Party of India (Democratic)
8698,Jharkhand,Singhbhum(10),lost,1927,( -518237),BIR SINGH DEOGAM,Right to Recall Party
8699,Jharkhand,Singhbhum(10),lost,1801,( -518363),PANMANI SINGH,Socialist Unity Centre Of India (COMMUNIST)
8700,Jharkhand,Singhbhum(10),,23982,( -496182),NOTA,None of the Above
8701,Jharkhand,Dumka(2),won,547370,(+ 22527),NALIN SOREN,Jharkhand Mukti Morcha
8702,Jharkhand,Dumka(2),lost,524843,( -22527),SITA MURMU,Bharatiya Janata Party
8703,Jharkhand,Dumka(2),lost,21372,( -525998),MAHASHON MURMU,Independent
8704,Jharkhand,Dumka(2),lost,19360,( -528010),BABYLATA TUDU,Independent
8705,Jharkhand,Dumka(2),lost,11506,( -535864),RAJESH KISKU,Communist Party of India
8706,Jharkhand,Dumka(2),lost,9416,( -537954),DR. SRILAL KISKU,Independent
8707,Jharkhand,Dumka(2),lost,7733,( -539637),PARESH MARANDI,Bahujan Samaj Party
8708,Jharkhand,Dumka(2),lost,6818,( -540552),ANIL TUDU,Lokhit Adhikar Party
8709,Jharkhand,Dumka(2),lost,5152,( -542218),SUSHANTI HEMBROM,Independent
8710,Jharkhand,Dumka(2),lost,4816,( -542554),MANOJ HEMBROM,Independent
8711,Jharkhand,Dumka(2),lost,4418,( -542952),BIREN MOHLI,Independent
8712,Jharkhand,Dumka(2),lost,3060,( -544310),RAJU EMANUEL MURMU,Ambedkarite Party of India
8713,Jharkhand,Dumka(2),lost,2516,( -544854),KAMISHNAR MURMU,Independent
8714,Jharkhand,Dumka(2),lost,2256,( -545114),BAGHRAI SOREN,Independent
8715,Jharkhand,Dumka(2),lost,2174,( -545196),SANJAY TUDU,Independent
8716,Jharkhand,Dumka(2),lost,1758,( -545612),MUNNI HANSDA,Samata Party
8717,Jharkhand,Dumka(2),lost,1713,( -545657),NIRMAL SOREN,Independent
8718,Jharkhand,Dumka(2),lost,1674,( -545696),ALESH HANSDA,Indian National Socialistic Action Forces
8719,Jharkhand,Dumka(2),lost,1651,( -545719),JONATHAN MARDI,Peoples Party of India (Democratic)
8720,Jharkhand,Dumka(2),,4526,( -542844),NOTA,None of the Above
8721,Jharkhand,Rajmahal(1),won,613371,(+ 178264),VIJAY KUMAR HANSDAK,Jharkhand Mukti Morcha
8722,Jharkhand,Rajmahal(1),lost,435107,( -178264),TALA MARANDI,Bharatiya Janata Party
8723,Jharkhand,Rajmahal(1),lost,42140,( -571231),LOBIN HEMBRAM,Independent
8724,Jharkhand,Rajmahal(1),lost,37291,( -576080),GOPIN SOREN,Communist Party of India  (Marxist)
8725,Jharkhand,Rajmahal(1),lost,14978,( -598393),MAHESH PAHARIYA,Independent
8726,Jharkhand,Rajmahal(1),lost,11251,( -602120),AJIT MARANDI,Rashtriya Jansambhavna Party
8727,Jharkhand,Rajmahal(1),lost,9493,( -603878),SEBASTION HEMBROM,Independent
8728,Jharkhand,Rajmahal(1),lost,8259,( -605112),MARIYAM MARANDI,Bahujan Samaj Party
8729,Jharkhand,Rajmahal(1),lost,7902,( -605469),PAUL SOREN,All India Majlis-E-Ittehadul Muslimeen
8730,Jharkhand,Rajmahal(1),lost,6856,( -606515),DIPA TUDU,Independent
8731,Jharkhand,Rajmahal(1),lost,4107,( -609264),KHALIFA KISKU,Peoples Party of India (Democratic)
8732,Jharkhand,Rajmahal(1),lost,3809,( -609562),VINOD KUMAR MANDAL,Lokhit Adhikar Party
8733,Jharkhand,Rajmahal(1),lost,2779,( -610592),MUNSHI KISKU,Navyug Pragatisheel Morcha
8734,Jharkhand,Rajmahal(1),lost,2689,( -610682),LILI HANSDA,Samata Party
8735,Jharkhand,Rajmahal(1),,18217,( -595154),NOTA,None of the Above
8736,Jharkhand,Hazaribagh(14),won,654613,(+ 276686),MANISH JAISWAL,Bharatiya Janata Party
8737,Jharkhand,Hazaribagh(14),lost,377927,( -276686),JAI PRAKASH BHAI PATEL,Indian National Congress
8738,Jharkhand,Hazaribagh(14),lost,157977,( -496636),SANJAY KUMAR MEHTA,Independent
8739,Jharkhand,Hazaribagh(14),lost,15386,( -639227),SHASHI BHUSHAN KESHRI,Independent
8740,Jharkhand,Hazaribagh(14),lost,10468,( -644145),ANIRUDDH KUMAR,Communist Party of India
8741,Jharkhand,Hazaribagh(14),lost,7438,( -647175),MD. MOIN UDDIN AHMAD,Bahujan Samaj Party
8742,Jharkhand,Hazaribagh(14),lost,5506,( -649107),MD. SERAJ,Independent
8743,Jharkhand,Hazaribagh(14),lost,4841,( -649772),VINOD KUMAR RANA,Independent
8744,Jharkhand,Hazaribagh(14),lost,4234,( -650379),KUNJ BIHARI KUMAR,Lokhit Adhikar Party
8745,Jharkhand,Hazaribagh(14),lost,3316,( -651297),CHHATHI DEVI,Akhil Bhartiya Parivar Party
8746,Jharkhand,Hazaribagh(14),lost,2972,( -651641),ABHISHEK KUMAR,Independent
8747,Jharkhand,Hazaribagh(14),lost,2956,( -651657),NISHANT KUMAR SINHA,Peoples Party of India (Democratic)
8748,Jharkhand,Hazaribagh(14),lost,2578,( -652035),MANOJ KUMAR BEDIA,Independent
8749,Jharkhand,Hazaribagh(14),lost,2264,( -652349),BHUNESHWAR BEDIYA,Samata Party
8750,Jharkhand,Hazaribagh(14),lost,1935,( -652678),RAJ KUMAR,Jharkhand Party
8751,Jharkhand,Hazaribagh(14),lost,1839,( -652774),SHYAM BIHARI PRAJAPATI,Bhagidari Party(P)
8752,Jharkhand,Hazaribagh(14),lost,1217,( -653396),PRAKASH SONI,Bhartiya Azad Sena
8753,Jharkhand,Hazaribagh(14),,7200,( -647413),NOTA,None of the Above
8754,Jharkhand,Palamau(13),won,770362,(+ 288807),VISHNU DAYAL RAM,Bharatiya Janata Party
8755,Jharkhand,Palamau(13),lost,481555,( -288807),MAMTA BHUIYAN,Rashtriya Janata Dal
8756,Jharkhand,Palamau(13),lost,40000,( -730362),KAMESHWAR BAITHA,Bahujan Samaj Party
8757,Jharkhand,Palamau(13),lost,17875,( -752487),SANAN RAM,Lokhit Adhikar Party
8758,Jharkhand,Palamau(13),lost,17699,( -752663),GANESH RAVI,Independent
8759,Jharkhand,Palamau(13),lost,17566,( -752796),BRAJESH KUMAR TURI,Rashtriya Samanta Dal
8760,Jharkhand,Palamau(13),lost,11270,( -759092),VRINDA RAM,Peoples Party of India (Democratic)
8761,Jharkhand,Palamau(13),lost,5115,( -765247),MAHENDRA BAITHA,Socialist Unity Centre Of India (COMMUNIST)
8762,Jharkhand,Palamau(13),lost,4953,( -765409),RAM VACHAN RAM,Bahujan Mukti Party
8763,Jharkhand,Palamau(13),,24343,( -746019),NOTA,None of the Above
8764,Jharkhand,Jamshedpur(9),won,726174,(+ 259782),BIDYUT BARAN MAHATO,Bharatiya Janata Party
8765,Jharkhand,Jamshedpur(9),lost,466392,( -259782),SAMIR KUMAR MOHANTY,Jharkhand Mukti Morcha
8766,Jharkhand,Jamshedpur(9),lost,8469,( -717705),INDRA DEO PRASAD,Independent
8767,Jharkhand,Jamshedpur(9),lost,7344,( -718830),ARUN MAHATO,Independent
8768,Jharkhand,Jamshedpur(9),lost,6352,( -719822),ANAND MUKHI,Independent
8769,Jharkhand,Jamshedpur(9),lost,6151,( -720023),PRANAV KUMAR MAHTO,Bahujan Samaj Party
8770,Jharkhand,Jamshedpur(9),lost,5331,( -720843),BISHWANATH MAHATO,Independent
8771,Jharkhand,Jamshedpur(9),lost,4925,( -721249),ANGAD MAHATO,Amra Bangalee
8772,Jharkhand,Jamshedpur(9),lost,4315,( -721859),JUJHAR SOREN,Independent
8773,Jharkhand,Jamshedpur(9),lost,3894,( -722280),SUKUMAR SOREN,Bharat Adivasi Party
8774,Jharkhand,Jamshedpur(9),lost,3291,( -722883),DHARMU TUDU,Ambedkarite Party of India
8775,Jharkhand,Jamshedpur(9),lost,3175,( -722999),SANAKA MAHATO,Socialist Unity Centre Of India (COMMUNIST)
8776,Jharkhand,Jamshedpur(9),lost,3167,( -723007),JITENDRA SINGH,Independent
8777,Jharkhand,Jamshedpur(9),lost,2362,( -723812),MANOJ GUPTA,Lokhit Adhikar Party
8778,Jharkhand,Jamshedpur(9),lost,2317,( -723857),SADHU CHARAN PAUL,Independent
8779,Jharkhand,Jamshedpur(9),lost,2264,( -723910),SAURAV VISHNU,Independent
8780,Jharkhand,Jamshedpur(9),lost,2108,( -724066),SHAIKH AKHIRUDDIN,Bahujan Maha Party
8781,Jharkhand,Jamshedpur(9),lost,2048,( -724126),ASHOK KUMAR,Peoples Party of India (Democratic)
8782,Jharkhand,Jamshedpur(9),lost,1960,( -724214),MAHESH KUMAR,Right to Recall Party
8783,Jharkhand,Jamshedpur(9),lost,1931,( -724243),G JAYRAM DAS,Independent
8784,Jharkhand,Jamshedpur(9),lost,1801,( -724373),ARUN KUMAR SHARMA,Bhartiya Azad Sena
8785,Jharkhand,Jamshedpur(9),lost,1348,( -724826),DOMAN CHANDRA BHAKAT,Bhagidari Party(P)
8786,Jharkhand,Jamshedpur(9),lost,1152,( -725022),BABLU PRASAD DANGI,Independent
8787,Jharkhand,Jamshedpur(9),lost,1044,( -725130),GYAN SAGAR PRASAD,Independent
8788,Jharkhand,Jamshedpur(9),lost,988,( -725186),PARWATI KISKU,Independent
8789,Jharkhand,Jamshedpur(9),,7326,( -718848),NOTA,None of the Above
8790,Jharkhand,Ranchi(8),won,664732,(+ 120512),SANJAY SETH,Bharatiya Janata Party
8791,Jharkhand,Ranchi(8),lost,544220,( -120512),YASHASWINI SAHAY,Indian National Congress
8792,Jharkhand,Ranchi(8),lost,132647,( -532085),DEVENDRA NATH MAHTO,Independent
8793,Jharkhand,Ranchi(8),lost,10341,( -654391),SOMA SINGH,Jai Maha Bharath Party
8794,Jharkhand,Ranchi(8),lost,7803,( -656929),NIPU SINGH,Rashtriya Jansangharsh Swaraj Party
8795,Jharkhand,Ranchi(8),lost,6799,( -657933),DHANANJAY BHAGAT “GANDHI“,Mera Adhikaar Rashtriya Dal
8796,Jharkhand,Ranchi(8),lost,6530,( -658202),SHYAM  BIHARI PRAJAPATI,Bhagidari Party(P)
8797,Jharkhand,Ranchi(8),lost,6427,( -658305),MANOJ KUMAR,Bahujan Samaj Party
8798,Jharkhand,Ranchi(8),lost,6309,( -658423),RAMHARI GOPE,Ambedkarite Party of India
8799,Jharkhand,Ranchi(8),lost,5397,( -659335),ANJANI PANDEY,Independent
8800,Jharkhand,Ranchi(8),lost,4802,( -659930),SARWESHWARI SAHU,Ekam Sanatan Bharat Dal
8801,Jharkhand,Ranchi(8),lost,4136,( -660596),HARINATH SAHU,Lokhit Adhikar Party
8802,Jharkhand,Ranchi(8),lost,4080,( -660652),HEMNTI DEVI,Samata Party
8803,Jharkhand,Ranchi(8),lost,3208,( -661524),RANJANA GIRI,Republican Party of India (A)
8804,Jharkhand,Ranchi(8),lost,3155,( -661577),BIRENDRA NATH MANJHI,Abua Jharkhand Party
8805,Jharkhand,Ranchi(8),lost,3094,( -661638),DHARMENDRA TIWARY,Bhartiya Jantantra Morcha
8806,Jharkhand,Ranchi(8),lost,2944,( -661788),PRAWEEN KACHHAP,Sampoorna Bharat Kranti Party
8807,Jharkhand,Ranchi(8),lost,2859,( -661873),PRABEEN CHANDRA MAHATO,Independent
8808,Jharkhand,Ranchi(8),lost,2787,( -661945),SANTOSH KUMAR JAISWAL,Independent
8809,Jharkhand,Ranchi(8),lost,2763,( -661969),PANKAJ KUMAR RAVI,Peoples Party of India (Democratic)
8810,Jharkhand,Ranchi(8),lost,2589,( -662143),BINOD ORAON,Bahujan Mukti Party
8811,Jharkhand,Ranchi(8),lost,2539,( -662193),MANORANJAN BHATTACHARYA,Independent
8812,Jharkhand,Ranchi(8),lost,2537,( -662195),AINUL ANSARI,Independent
8813,Jharkhand,Ranchi(8),lost,2164,( -662568),MINTU PASWAN,Socialist Unity Centre Of India (COMMUNIST)
8814,Jharkhand,Ranchi(8),lost,1708,( -663024),KOLESHWAR MAHTO,Independent
8815,Jharkhand,Ranchi(8),lost,1646,( -663086),KAMESHWAR PRASAD SAW,Independent
8816,Jharkhand,Ranchi(8),lost,1412,( -663320),ARSHAD AYUB,Independent
8817,Jharkhand,Ranchi(8),,8153,( -656579),NOTA,None of the Above
8818,Jharkhand,Dhanbad(7),won,789172,(+ 331583),DULU MAHATO,Bharatiya Janata Party
8819,Jharkhand,Dhanbad(7),lost,457589,( -331583),ANUPAMA SINGH,Indian National Congress
8820,Jharkhand,Dhanbad(7),lost,79653,( -709519),MD. EKLAK ANSARI,Independent
8821,Jharkhand,Dhanbad(7),lost,27635,( -761537),JAGDISH RAWANI,Independent
8822,Jharkhand,Dhanbad(7),lost,12764,( -776408),JANAK SAH GOND,Independent
8823,Jharkhand,Dhanbad(7),lost,6500,( -782672),MD. ZAHIRUDDIN KHAN,Independent
8824,Jharkhand,Dhanbad(7),lost,5639,( -783533),MOHAN SINGH,Bahujan Samaj Party
8825,Jharkhand,Dhanbad(7),lost,5375,( -783797),TULSI MAHTO,Independent
8826,Jharkhand,Dhanbad(7),lost,4004,( -785168),KAMASHEVAR PRA. VERMA,Independent
8827,Jharkhand,Dhanbad(7),lost,3462,( -785710),SUNAINA KINNAR,Independent
8828,Jharkhand,Dhanbad(7),lost,3041,( -786131),AKBAR ALI,Akhil Bhartiya Parivar Party
8829,Jharkhand,Dhanbad(7),lost,2821,( -786351),KRISHNA CHANDRA SINGH RAJ,Samata Party
8830,Jharkhand,Dhanbad(7),lost,2674,( -786498),ANINDITA DAS,Independent
8831,Jharkhand,Dhanbad(7),lost,2649,( -786523),REZAUL HAQUE,Lokhit Adhikar Party
8832,Jharkhand,Dhanbad(7),lost,2605,( -786567),LAKSHMI DEVI,Independent
8833,Jharkhand,Dhanbad(7),lost,2560,( -786612),UMESH PASWAN,Independent
8834,Jharkhand,Dhanbad(7),lost,1996,( -787176),MOHAMMAD FAISHAL KHAN,Independent
8835,Jharkhand,Dhanbad(7),lost,1890,( -787282),RAJIB TIWARI,Socialist Unity Centre Of India (COMMUNIST)
8836,Jharkhand,Dhanbad(7),lost,1743,( -787429),NITAI DUTTA,Independent
8837,Jharkhand,Dhanbad(7),lost,1735,( -787437),DEEPAK KUMAR DAS,Peoples Party of India (Democratic)
8838,Jharkhand,Dhanbad(7),lost,1627,( -787545),SANJAY KUMAR GIRI,Akhil Bharat Hindu Mahasabha
8839,Jharkhand,Dhanbad(7),lost,1161,( -788011),PERWEZ NEYYAR,Aazad Samaj Party (Kanshi Ram)
8840,Jharkhand,Dhanbad(7),lost,1144,( -788028),TRIDEV KR MAHTO,Independent
8841,Jharkhand,Dhanbad(7),lost,681,( -788491),MOHAMMAD TAFAZUL HUSSAIN,Independent
8842,Jharkhand,Dhanbad(7),lost,533,( -788639),PREM PRAKASH PASWAN,Independent
8843,Jharkhand,Dhanbad(7),,7354,( -781818),NOTA,None of the Above
8844,Jharkhand,Kodarma(5),won,791657,(+ 377014),ANNPURNA DEVI,Bharatiya Janata Party
8845,Jharkhand,Kodarma(5),lost,414643,( -377014),VINOD KUMAR SINGH,Communist Party of India  (Marxist-Leninist)  (Liberation)
8846,Jharkhand,Kodarma(5),lost,28612,( -763045),MANOJ KUMAR,Independent
8847,Jharkhand,Kodarma(5),lost,23223,( -768434),JAI PRAKASH VERMA,Independent
8848,Jharkhand,Kodarma(5),lost,13174,( -778483),SITAN RABIDAS,Bahujan Samaj Party
8849,Jharkhand,Kodarma(5),lost,9656,( -782001),SURENDRA KUMAR AGRAWAL,Independent
8850,Jharkhand,Kodarma(5),lost,8232,( -783425),SAHADAT ANSARI,Independent
8851,Jharkhand,Kodarma(5),lost,6738,( -784919),JAYNARAYAN DAS,Bahujan Mukti Party
8852,Jharkhand,Kodarma(5),lost,5601,( -786056),AKLESHWAR SAW,Lokhit Adhikar Party
8853,Jharkhand,Kodarma(5),lost,5333,( -786324),JITLAL KISKU,Independent
8854,Jharkhand,Kodarma(5),lost,5044,( -786613),MD. SAGIR,Independent
8855,Jharkhand,Kodarma(5),lost,4541,( -787116),AJAY KRISHNA,Moolniwasi Samaj Party
8856,Jharkhand,Kodarma(5),lost,4233,( -787424),RAJESH,Independent
8857,Jharkhand,Kodarma(5),lost,4229,( -787428),RAMESHWAR PRASAD YADAV,Independent
8858,Jharkhand,Kodarma(5),lost,2896,( -788761),ASHISH KUMAR,Right to Recall Party
8859,Jharkhand,Kodarma(5),,42152,( -749505),NOTA,None of the Above
8860,Jharkhand,Chatra(4),won,574556,(+ 220959),KALI CHARAN SINGH,Bharatiya Janata Party
8861,Jharkhand,Chatra(4),lost,353597,( -220959),KRISHNA NAND TRIPATHI,Indian National Congress
8862,Jharkhand,Chatra(4),lost,31991,( -542565),AMIT KUMAR SINGH,Independent
8863,Jharkhand,Chatra(4),lost,14122,( -560434),ARJUN KUMAR,Communist Party of India
8864,Jharkhand,Chatra(4),lost,14106,( -560450),DR. ABHISHEK KUMAR SINGH,Independent
8865,Jharkhand,Chatra(4),lost,13328,( -561228),ARJUN PRAJAPATI,Independent
8866,Jharkhand,Chatra(4),lost,12566,( -561990),DEEPAK KUMAR GUPTA,Independent
8867,Jharkhand,Chatra(4),lost,11950,( -562606),NAGMANI,Bahujan Samaj Party
8868,Jharkhand,Chatra(4),lost,6582,( -567974),CHANDAN KUMAR,Independent
8869,Jharkhand,Chatra(4),lost,5823,( -568733),MD ABUZAR KHAN,Independent
8870,Jharkhand,Chatra(4),lost,5112,( -569444),YOGESH KUMAR SINGH,Independent
8871,Jharkhand,Chatra(4),lost,5014,( -569542),BIMAL LAKRA,Ambedkarite Party of India
8872,Jharkhand,Chatra(4),lost,4010,( -570546),KARMLAL ORAON,Peoples Party of India (Democratic)
8873,Jharkhand,Chatra(4),lost,3516,( -571040),SUMIT KUMAR YADAV,Samata Party
8874,Jharkhand,Chatra(4),lost,3216,( -571340),SANJAY KUMAR SNEHI,Lokhit Adhikar Party
8875,Jharkhand,Chatra(4),lost,3201,( -571355),MAHESH BANDO,Bahujan Mukti Party
8876,Jharkhand,Chatra(4),lost,2993,( -571563),SRIRAM SINGH,Independent
8877,Jharkhand,Chatra(4),lost,2817,( -571739),DARSHAN GANJHU,Jharkhand Party
8878,Jharkhand,Chatra(4),lost,2385,( -572171),DULESHWAR SAW,Bharatheeya Jawan Kisan Party
8879,Jharkhand,Chatra(4),lost,2380,( -572176),LAW KUMAR PANDIT,Bhagidari Party(P)
8880,Jharkhand,Chatra(4),lost,2309,( -572247),KAMDEO DIHO RANA,Rashtriya Jan Utkarsh Party
8881,Jharkhand,Chatra(4),lost,2289,( -572267),VIKRANT KUMAR SINGH,Independent
8882,Jharkhand,Chatra(4),,8511,( -566045),NOTA,None of the Above
8883,Jharkhand,Godda(3),won,693140,(+ 101813),NISHIKANT DUBEY,Bharatiya Janata Party
8884,Jharkhand,Godda(3),lost,591327,( -101813),PRADEEP YADAV,Indian National Congress
8885,Jharkhand,Godda(3),lost,26837,( -666303),UDAY SHANKAR KHAWARE,Independent
8886,Jharkhand,Godda(3),lost,17437,( -675703),ARUN MARIK,Independent
8887,Jharkhand,Godda(3),lost,10488,( -682652),NILESH KUMAR GUPTA,Independent
8888,Jharkhand,Godda(3),lost,9636,( -683504),AVISEK ANAND JHA,Independent
8889,Jharkhand,Godda(3),lost,8175,( -684965),BAJRANGI MAHTHA,Bahujan Samaj Party
8890,Jharkhand,Godda(3),lost,7366,( -685774),MUKESH KUMAR JHA,Independent
8891,Jharkhand,Godda(3),lost,6581,( -686559),KUMARI DILESHWARI,Ambedkarite Party of India
8892,Jharkhand,Godda(3),lost,3316,( -689824),RAMESHWAR MANDAL,Peoples Party of India (Democratic)
8893,Jharkhand,Godda(3),lost,3073,( -690067),SURAJ KUMAR AMAN,Bhagidari Party(P)
8894,Jharkhand,Godda(3),lost,2893,( -690247),ARUN KUMAR,Nyaydharmsabha
8895,Jharkhand,Godda(3),lost,2210,( -690930),DR. K. RANGAIAH,Independent
8896,Jharkhand,Godda(3),lost,2108,( -691032),BRAJKISHORE PANDIT,Akhil Bhartiya Manavadhikar Vichar Manch Party
8897,Jharkhand,Godda(3),lost,2007,( -691133),ANUP KUMAR,"Proutist Bloc, India"
8898,Jharkhand,Godda(3),lost,1941,( -691199),KALIPADA MURMU,Socialist Unity Centre Of India (COMMUNIST)
8899,Jharkhand,Godda(3),lost,1898,( -691242),KETAN KUMAR,Right to Recall Party
8900,Jharkhand,Godda(3),lost,1770,( -691370),TIPLAL SAH,Lokhit Adhikar Party
8901,Jharkhand,Godda(3),lost,1640,( -691500),GYANESHWAR JHA,Jagrook Janta Party
8902,Jharkhand,Godda(3),,4361,( -688779),NOTA,None of the Above
